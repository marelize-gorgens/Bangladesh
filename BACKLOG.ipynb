{
 "cells": [
  {
   "cell_type": "markdown",
   "metadata": {},
   "source": [
    "# BACKLOG\n",
    "## TO DO LIST:\n",
    "\n",
    "### General data preprocessing guidelines\n",
    "- Generally what extraction and data processing means is following:\n",
    "    - Dataset by years\n",
    "    - Rows in datasets by geographical units (zilas and upazilas)\n",
    "    - Columns: public health variables and indicators \n",
    "- Create a files with column names (short version) and corresponding definitions and metadata\n"
   ]
  },
  {
   "cell_type": "markdown",
   "metadata": {
    "collapsed": true
   },
   "source": [
    "\n",
    "### UNICEF Data preprocessing\n",
    "\n",
    "- Extract and process data from Coverage Evaluation Survey (CES) by available geographic units 'data/unicef/CES' directory\n",
    "- Create a file with CES variable definitions and other available metadata\n",
    "- Extract and process data from Child well-being Survey (CWBS) by available geographic units 'data/unicef/CWBS' directory\n",
    "- Create a file with CWBS variable definitions and other available metadata\n",
    "- Extract and process from Effective Coverage of Basic Social Services (ECBSS) by available geographic units 'data/unicef/CBSS' directory\n",
    "- Create a file with MICS variable definitions and other available metadata\n",
    "- Extract and process data from Multiple Indicator Cluster Surveys (MICS1,3,5) by available geogrpahic units 'data/unicef/MICS1','data/unicef/MICS3' and 'data/unicef/MICS5'\n"
   ]
  },
  {
   "cell_type": "code",
   "execution_count": null,
   "metadata": {
    "collapsed": true
   },
   "outputs": [],
   "source": []
  }
 ],
 "metadata": {
  "kernelspec": {
   "display_name": "Python 3",
   "language": "python",
   "name": "python3"
  },
  "language_info": {
   "codemirror_mode": {
    "name": "ipython",
    "version": 3
   },
   "file_extension": ".py",
   "mimetype": "text/x-python",
   "name": "python",
   "nbconvert_exporter": "python",
   "pygments_lexer": "ipython3",
   "version": "3.6.6"
  }
 },
 "nbformat": 4,
 "nbformat_minor": 2
}
