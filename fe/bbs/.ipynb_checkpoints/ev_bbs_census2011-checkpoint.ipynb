{
 "cells": [
  {
   "cell_type": "markdown",
   "metadata": {},
   "source": [
    "# Check Karamat Ali Data Sample"
   ]
  },
  {
   "cell_type": "code",
   "execution_count": 57,
   "metadata": {
    "collapsed": true
   },
   "outputs": [],
   "source": [
    "import os\n",
    "import numpy as np\n",
    "import pandas as pd"
   ]
  },
  {
   "cell_type": "code",
   "execution_count": 58,
   "metadata": {},
   "outputs": [
    {
     "data": {
      "text/plain": [
       "'/Users/edinhamzic/Symphony/wb_bangladesh'"
      ]
     },
     "execution_count": 58,
     "metadata": {},
     "output_type": "execute_result"
    }
   ],
   "source": [
    "os.getcwd()\n",
    "os.chdir('/Users/edinhamzic/Symphony/wb_bangladesh')\n",
    "os.getcwd()"
   ]
  },
  {
   "cell_type": "code",
   "execution_count": 59,
   "metadata": {},
   "outputs": [
    {
     "data": {
      "text/html": [
       "<div>\n",
       "<style scoped>\n",
       "    .dataframe tbody tr th:only-of-type {\n",
       "        vertical-align: middle;\n",
       "    }\n",
       "\n",
       "    .dataframe tbody tr th {\n",
       "        vertical-align: top;\n",
       "    }\n",
       "\n",
       "    .dataframe thead th {\n",
       "        text-align: right;\n",
       "    }\n",
       "</style>\n",
       "<table border=\"1\" class=\"dataframe\">\n",
       "  <thead>\n",
       "    <tr style=\"text-align: right;\">\n",
       "      <th></th>\n",
       "      <th>HH_REC</th>\n",
       "      <th>division</th>\n",
       "      <th>zila</th>\n",
       "      <th>upzila</th>\n",
       "      <th>union</th>\n",
       "      <th>mauza</th>\n",
       "      <th>village</th>\n",
       "      <th>ea</th>\n",
       "      <th>rmo</th>\n",
       "      <th>Q2AHHNO</th>\n",
       "      <th>...</th>\n",
       "      <th>Q4HH_TYPE</th>\n",
       "      <th>Q5NO_HOUSE</th>\n",
       "      <th>Q6TYPE_HOU</th>\n",
       "      <th>Q7TENANCY</th>\n",
       "      <th>Q8DWATERSO</th>\n",
       "      <th>Q9TOILET_F</th>\n",
       "      <th>Q10ELECTRY</th>\n",
       "      <th>Q11AETHPOP</th>\n",
       "      <th>Q11BETH_CD</th>\n",
       "      <th>status</th>\n",
       "    </tr>\n",
       "  </thead>\n",
       "  <tbody>\n",
       "    <tr>\n",
       "      <th>0</th>\n",
       "      <td>2</td>\n",
       "      <td>10</td>\n",
       "      <td>4</td>\n",
       "      <td>9</td>\n",
       "      <td>1</td>\n",
       "      <td>165</td>\n",
       "      <td>0</td>\n",
       "      <td>1</td>\n",
       "      <td>2</td>\n",
       "      <td>1</td>\n",
       "      <td>...</td>\n",
       "      <td>1</td>\n",
       "      <td>2</td>\n",
       "      <td>3</td>\n",
       "      <td>1</td>\n",
       "      <td>2</td>\n",
       "      <td>2</td>\n",
       "      <td>2</td>\n",
       "      <td>2</td>\n",
       "      <td>0</td>\n",
       "      <td></td>\n",
       "    </tr>\n",
       "    <tr>\n",
       "      <th>1</th>\n",
       "      <td>2</td>\n",
       "      <td>10</td>\n",
       "      <td>4</td>\n",
       "      <td>9</td>\n",
       "      <td>1</td>\n",
       "      <td>165</td>\n",
       "      <td>0</td>\n",
       "      <td>1</td>\n",
       "      <td>2</td>\n",
       "      <td>2</td>\n",
       "      <td>...</td>\n",
       "      <td>1</td>\n",
       "      <td>2</td>\n",
       "      <td>3</td>\n",
       "      <td>1</td>\n",
       "      <td>2</td>\n",
       "      <td>2</td>\n",
       "      <td>2</td>\n",
       "      <td>2</td>\n",
       "      <td>0</td>\n",
       "      <td></td>\n",
       "    </tr>\n",
       "    <tr>\n",
       "      <th>2</th>\n",
       "      <td>2</td>\n",
       "      <td>10</td>\n",
       "      <td>4</td>\n",
       "      <td>9</td>\n",
       "      <td>1</td>\n",
       "      <td>165</td>\n",
       "      <td>0</td>\n",
       "      <td>1</td>\n",
       "      <td>2</td>\n",
       "      <td>3</td>\n",
       "      <td>...</td>\n",
       "      <td>1</td>\n",
       "      <td>3</td>\n",
       "      <td>3</td>\n",
       "      <td>1</td>\n",
       "      <td>2</td>\n",
       "      <td>2</td>\n",
       "      <td>1</td>\n",
       "      <td>2</td>\n",
       "      <td>0</td>\n",
       "      <td></td>\n",
       "    </tr>\n",
       "    <tr>\n",
       "      <th>3</th>\n",
       "      <td>2</td>\n",
       "      <td>10</td>\n",
       "      <td>4</td>\n",
       "      <td>9</td>\n",
       "      <td>1</td>\n",
       "      <td>165</td>\n",
       "      <td>0</td>\n",
       "      <td>1</td>\n",
       "      <td>2</td>\n",
       "      <td>4</td>\n",
       "      <td>...</td>\n",
       "      <td>1</td>\n",
       "      <td>3</td>\n",
       "      <td>3</td>\n",
       "      <td>1</td>\n",
       "      <td>2</td>\n",
       "      <td>2</td>\n",
       "      <td>1</td>\n",
       "      <td>2</td>\n",
       "      <td>0</td>\n",
       "      <td></td>\n",
       "    </tr>\n",
       "    <tr>\n",
       "      <th>4</th>\n",
       "      <td>2</td>\n",
       "      <td>10</td>\n",
       "      <td>4</td>\n",
       "      <td>9</td>\n",
       "      <td>1</td>\n",
       "      <td>165</td>\n",
       "      <td>0</td>\n",
       "      <td>1</td>\n",
       "      <td>2</td>\n",
       "      <td>5</td>\n",
       "      <td>...</td>\n",
       "      <td>1</td>\n",
       "      <td>3</td>\n",
       "      <td>3</td>\n",
       "      <td>1</td>\n",
       "      <td>2</td>\n",
       "      <td>3</td>\n",
       "      <td>1</td>\n",
       "      <td>2</td>\n",
       "      <td>0</td>\n",
       "      <td></td>\n",
       "    </tr>\n",
       "  </tbody>\n",
       "</table>\n",
       "<p>5 rows × 23 columns</p>\n",
       "</div>"
      ],
      "text/plain": [
       "  HH_REC  division  zila  upzila  union  mauza  village  ea  rmo  Q2AHHNO  \\\n",
       "0      2        10     4       9      1    165        0   1    2        1   \n",
       "1      2        10     4       9      1    165        0   1    2        2   \n",
       "2      2        10     4       9      1    165        0   1    2        3   \n",
       "3      2        10     4       9      1    165        0   1    2        4   \n",
       "4      2        10     4       9      1    165        0   1    2        5   \n",
       "\n",
       "    ...    Q4HH_TYPE  Q5NO_HOUSE  Q6TYPE_HOU  Q7TENANCY  Q8DWATERSO  \\\n",
       "0   ...            1           2           3          1           2   \n",
       "1   ...            1           2           3          1           2   \n",
       "2   ...            1           3           3          1           2   \n",
       "3   ...            1           3           3          1           2   \n",
       "4   ...            1           3           3          1           2   \n",
       "\n",
       "   Q9TOILET_F  Q10ELECTRY  Q11AETHPOP  Q11BETH_CD  status  \n",
       "0           2           2           2           0          \n",
       "1           2           2           2           0          \n",
       "2           2           1           2           0          \n",
       "3           2           1           2           0          \n",
       "4           3           1           2           0          \n",
       "\n",
       "[5 rows x 23 columns]"
      ]
     },
     "execution_count": 59,
     "metadata": {},
     "output_type": "execute_result"
    }
   ],
   "source": [
    "hbarguna = pd.read_stata('data/bbs/census2011/hbarguna.dta')\n",
    "hbarguna.head()"
   ]
  },
  {
   "cell_type": "code",
   "execution_count": 60,
   "metadata": {},
   "outputs": [
    {
     "data": {
      "text/html": [
       "<div>\n",
       "<style scoped>\n",
       "    .dataframe tbody tr th:only-of-type {\n",
       "        vertical-align: middle;\n",
       "    }\n",
       "\n",
       "    .dataframe tbody tr th {\n",
       "        vertical-align: top;\n",
       "    }\n",
       "\n",
       "    .dataframe thead th {\n",
       "        text-align: right;\n",
       "    }\n",
       "</style>\n",
       "<table border=\"1\" class=\"dataframe\">\n",
       "  <thead>\n",
       "    <tr style=\"text-align: right;\">\n",
       "      <th></th>\n",
       "      <th>HH_REC</th>\n",
       "      <th>division</th>\n",
       "      <th>zila</th>\n",
       "      <th>upzila</th>\n",
       "      <th>union</th>\n",
       "      <th>mauza</th>\n",
       "      <th>village</th>\n",
       "      <th>ea</th>\n",
       "      <th>rmo</th>\n",
       "      <th>Q2AHHNO</th>\n",
       "      <th>...</th>\n",
       "      <th>Q3FLOATING</th>\n",
       "      <th>Q4HH_TYPE</th>\n",
       "      <th>Q5NO_HOUSE</th>\n",
       "      <th>Q6TYPE_HOU</th>\n",
       "      <th>Q7TENANCY</th>\n",
       "      <th>Q8DWATERSO</th>\n",
       "      <th>Q9TOILET_F</th>\n",
       "      <th>Q10ELECTRY</th>\n",
       "      <th>Q11AETHPOP</th>\n",
       "      <th>Q11BETH_CD</th>\n",
       "    </tr>\n",
       "  </thead>\n",
       "  <tbody>\n",
       "    <tr>\n",
       "      <th>0</th>\n",
       "      <td>2</td>\n",
       "      <td>10</td>\n",
       "      <td>4</td>\n",
       "      <td>9</td>\n",
       "      <td>1</td>\n",
       "      <td>165</td>\n",
       "      <td>0</td>\n",
       "      <td>1</td>\n",
       "      <td>2</td>\n",
       "      <td>20</td>\n",
       "      <td>...</td>\n",
       "      <td>2</td>\n",
       "      <td>1</td>\n",
       "      <td>2</td>\n",
       "      <td>3</td>\n",
       "      <td>1</td>\n",
       "      <td>2</td>\n",
       "      <td>2</td>\n",
       "      <td>2</td>\n",
       "      <td>2</td>\n",
       "      <td>0</td>\n",
       "    </tr>\n",
       "    <tr>\n",
       "      <th>1</th>\n",
       "      <td>2</td>\n",
       "      <td>10</td>\n",
       "      <td>4</td>\n",
       "      <td>9</td>\n",
       "      <td>1</td>\n",
       "      <td>165</td>\n",
       "      <td>0</td>\n",
       "      <td>1</td>\n",
       "      <td>2</td>\n",
       "      <td>40</td>\n",
       "      <td>...</td>\n",
       "      <td>2</td>\n",
       "      <td>1</td>\n",
       "      <td>2</td>\n",
       "      <td>3</td>\n",
       "      <td>1</td>\n",
       "      <td>2</td>\n",
       "      <td>2</td>\n",
       "      <td>2</td>\n",
       "      <td>2</td>\n",
       "      <td>0</td>\n",
       "    </tr>\n",
       "    <tr>\n",
       "      <th>2</th>\n",
       "      <td>2</td>\n",
       "      <td>10</td>\n",
       "      <td>4</td>\n",
       "      <td>9</td>\n",
       "      <td>1</td>\n",
       "      <td>165</td>\n",
       "      <td>0</td>\n",
       "      <td>1</td>\n",
       "      <td>2</td>\n",
       "      <td>60</td>\n",
       "      <td>...</td>\n",
       "      <td>2</td>\n",
       "      <td>1</td>\n",
       "      <td>2</td>\n",
       "      <td>3</td>\n",
       "      <td>1</td>\n",
       "      <td>2</td>\n",
       "      <td>2</td>\n",
       "      <td>2</td>\n",
       "      <td>2</td>\n",
       "      <td>0</td>\n",
       "    </tr>\n",
       "    <tr>\n",
       "      <th>3</th>\n",
       "      <td>2</td>\n",
       "      <td>10</td>\n",
       "      <td>4</td>\n",
       "      <td>9</td>\n",
       "      <td>1</td>\n",
       "      <td>567</td>\n",
       "      <td>0</td>\n",
       "      <td>1</td>\n",
       "      <td>2</td>\n",
       "      <td>6</td>\n",
       "      <td>...</td>\n",
       "      <td>2</td>\n",
       "      <td>1</td>\n",
       "      <td>2</td>\n",
       "      <td>3</td>\n",
       "      <td>1</td>\n",
       "      <td>2</td>\n",
       "      <td>3</td>\n",
       "      <td>2</td>\n",
       "      <td>2</td>\n",
       "      <td>0</td>\n",
       "    </tr>\n",
       "    <tr>\n",
       "      <th>4</th>\n",
       "      <td>2</td>\n",
       "      <td>10</td>\n",
       "      <td>4</td>\n",
       "      <td>9</td>\n",
       "      <td>1</td>\n",
       "      <td>567</td>\n",
       "      <td>0</td>\n",
       "      <td>1</td>\n",
       "      <td>2</td>\n",
       "      <td>26</td>\n",
       "      <td>...</td>\n",
       "      <td>2</td>\n",
       "      <td>1</td>\n",
       "      <td>2</td>\n",
       "      <td>3</td>\n",
       "      <td>1</td>\n",
       "      <td>2</td>\n",
       "      <td>3</td>\n",
       "      <td>2</td>\n",
       "      <td>2</td>\n",
       "      <td>0</td>\n",
       "    </tr>\n",
       "  </tbody>\n",
       "</table>\n",
       "<p>5 rows × 22 columns</p>\n",
       "</div>"
      ],
      "text/plain": [
       "  HH_REC  division  zila  upzila  union  mauza  village  ea  rmo  Q2AHHNO  \\\n",
       "0      2        10     4       9      1    165        0   1    2       20   \n",
       "1      2        10     4       9      1    165        0   1    2       40   \n",
       "2      2        10     4       9      1    165        0   1    2       60   \n",
       "3      2        10     4       9      1    567        0   1    2        6   \n",
       "4      2        10     4       9      1    567        0   1    2       26   \n",
       "\n",
       "      ...      Q3FLOATING  Q4HH_TYPE  Q5NO_HOUSE  Q6TYPE_HOU  Q7TENANCY  \\\n",
       "0     ...               2          1           2           3          1   \n",
       "1     ...               2          1           2           3          1   \n",
       "2     ...               2          1           2           3          1   \n",
       "3     ...               2          1           2           3          1   \n",
       "4     ...               2          1           2           3          1   \n",
       "\n",
       "   Q8DWATERSO  Q9TOILET_F  Q10ELECTRY  Q11AETHPOP  Q11BETH_CD  \n",
       "0           2           2           2           2           0  \n",
       "1           2           2           2           2           0  \n",
       "2           2           2           2           2           0  \n",
       "3           2           3           2           2           0  \n",
       "4           2           3           2           2           0  \n",
       "\n",
       "[5 rows x 22 columns]"
      ]
     },
     "execution_count": 60,
     "metadata": {},
     "output_type": "execute_result"
    }
   ],
   "source": [
    "fivehbarguna = pd.read_stata('data/bbs/census2011/fivehbarguna.dta')\n",
    "fivehbarguna.head()"
   ]
  },
  {
   "cell_type": "markdown",
   "metadata": {},
   "source": [
    "## Checking data samples - using upazila"
   ]
  },
  {
   "cell_type": "code",
   "execution_count": 64,
   "metadata": {},
   "outputs": [
    {
     "name": "stdout",
     "output_type": "stream",
     "text": [
      "9     29.28\n",
      "28    28.76\n",
      "85    19.97\n",
      "47    12.93\n",
      "19     9.05\n",
      "Name: upzila, dtype: float64\n"
     ]
    }
   ],
   "source": [
    "print(np.round(fivehbarguna['upzila'].value_counts() / fivehbarguna.shape[0]*100,2))"
   ]
  },
  {
   "cell_type": "code",
   "execution_count": 65,
   "metadata": {},
   "outputs": [
    {
     "name": "stdout",
     "output_type": "stream",
     "text": [
      "9     29.28\n",
      "28    28.77\n",
      "85    19.97\n",
      "47    12.93\n",
      "19     9.05\n",
      "Name: upzila, dtype: float64\n"
     ]
    }
   ],
   "source": [
    "print(np.round(hbarguna['upzila'].value_counts() / hbarguna.shape[0]*100,2))"
   ]
  },
  {
   "cell_type": "code",
   "execution_count": 66,
   "metadata": {},
   "outputs": [
    {
     "name": "stdout",
     "output_type": "stream",
     "text": [
      "9     5.0\n",
      "28    5.0\n",
      "85    5.0\n",
      "47    5.0\n",
      "19    5.0\n",
      "Name: upzila, dtype: float64\n"
     ]
    }
   ],
   "source": [
    "print(np.round(fivehbarguna['upzila'].value_counts()/hbarguna['upzila'].value_counts()*100,2))"
   ]
  },
  {
   "cell_type": "markdown",
   "metadata": {},
   "source": [
    "## Checking data samples - using village"
   ]
  },
  {
   "cell_type": "code",
   "execution_count": 73,
   "metadata": {},
   "outputs": [
    {
     "name": "stdout",
     "output_type": "stream",
     "text": [
      "[3.45 4.52 4.63 4.66 4.76 4.82 4.84 4.91 4.95 4.97 4.99 5.   5.   5.\n",
      " 5.   5.03 5.03 5.07 5.13 5.16 5.28 5.34 5.42 5.45 5.56 5.63]\n"
     ]
    }
   ],
   "source": [
    "print(np.sort(np.round(fivehbarguna['village'].value_counts()/hbarguna['village'].value_counts()*100,2)))"
   ]
  },
  {
   "cell_type": "markdown",
   "metadata": {},
   "source": [
    "## Checking data samples - using mauza"
   ]
  },
  {
   "cell_type": "code",
   "execution_count": 74,
   "metadata": {
    "scrolled": true
   },
   "outputs": [
    {
     "name": "stdout",
     "output_type": "stream",
     "text": [
      "[4.29 4.31 4.6  4.61 4.65 4.69 4.71 4.8  4.81 4.81 4.84 4.85 4.85 4.86\n",
      " 4.86 4.86 4.87 4.87 4.87 4.88 4.89 4.89 4.89 4.9  4.9  4.9  4.9  4.9\n",
      " 4.9  4.9  4.9  4.91 4.91 4.91 4.92 4.92 4.92 4.93 4.94 4.94 4.94 4.94\n",
      " 4.94 4.94 4.94 4.94 4.95 4.95 4.95 4.95 4.95 4.95 4.95 4.96 4.96 4.96\n",
      " 4.96 4.96 4.96 4.96 4.96 4.96 4.96 4.97 4.97 4.97 4.97 4.97 4.97 4.97\n",
      " 4.98 4.98 4.98 4.98 4.98 4.98 4.98 4.98 4.98 4.98 4.98 4.98 4.98 4.98\n",
      " 4.99 4.99 4.99 4.99 4.99 4.99 4.99 4.99 4.99 4.99 4.99 5.   5.   5.\n",
      " 5.   5.   5.   5.   5.   5.   5.   5.   5.   5.   5.   5.   5.   5.\n",
      " 5.   5.   5.   5.01 5.01 5.01 5.01 5.01 5.01 5.01 5.01 5.01 5.01 5.01\n",
      " 5.01 5.01 5.01 5.01 5.01 5.01 5.01 5.02 5.02 5.02 5.02 5.02 5.02 5.02\n",
      " 5.02 5.02 5.02 5.02 5.02 5.02 5.02 5.02 5.02 5.03 5.03 5.03 5.03 5.03\n",
      " 5.03 5.03 5.03 5.03 5.03 5.03 5.03 5.03 5.03 5.03 5.04 5.04 5.04 5.04\n",
      " 5.04 5.04 5.04 5.04 5.04 5.05 5.05 5.05 5.05 5.05 5.05 5.05 5.05 5.05\n",
      " 5.05 5.05 5.05 5.06 5.06 5.06 5.06 5.07 5.07 5.07 5.07 5.08 5.08 5.08\n",
      " 5.09 5.09 5.1  5.1  5.1  5.1  5.11 5.11 5.12 5.12 5.13 5.13 5.13 5.13\n",
      " 5.13 5.15 5.19 5.2  5.2  5.21 5.24 5.24 5.26 5.29 5.31 5.33 5.33 5.36\n",
      " 5.45 5.59 5.97]\n"
     ]
    }
   ],
   "source": [
    "print(np.sort(np.round(fivehbarguna['mauza'].value_counts()/hbarguna['mauza'].value_counts()*100,2)))"
   ]
  },
  {
   "cell_type": "markdown",
   "metadata": {},
   "source": [
    "## Checking data samples - using union"
   ]
  },
  {
   "cell_type": "code",
   "execution_count": 75,
   "metadata": {},
   "outputs": [
    {
     "name": "stdout",
     "output_type": "stream",
     "text": [
      "[4.94 4.95 4.97 4.99 4.99 4.99 4.99 4.99 4.99 4.99 4.99 5.   5.   5.\n",
      " 5.   5.   5.   5.   5.   5.   5.   5.   5.   5.   5.01 5.01 5.01 5.01\n",
      " 5.01 5.02 5.02 5.02 5.03 5.08 5.08]\n"
     ]
    }
   ],
   "source": [
    "print(np.sort(np.round(fivehbarguna['union'].value_counts()/hbarguna['union'].value_counts()*100,2)))"
   ]
  },
  {
   "cell_type": "markdown",
   "metadata": {},
   "source": [
    "## Checking data samples - using ea"
   ]
  },
  {
   "cell_type": "code",
   "execution_count": 76,
   "metadata": {},
   "outputs": [
    {
     "name": "stdout",
     "output_type": "stream",
     "text": [
      "[4.81 4.89 4.9  4.92 4.94 4.95 4.96 4.98 5.   5.   5.   5.   5.01 5.01\n",
      " 5.03 5.03 5.09 5.45]\n"
     ]
    }
   ],
   "source": [
    "print(np.sort(np.round(fivehbarguna['ea'].value_counts()/hbarguna['ea'].value_counts()*100,2)))"
   ]
  }
 ],
 "metadata": {
  "kernelspec": {
   "display_name": "Python 3",
   "language": "python",
   "name": "python3"
  },
  "language_info": {
   "codemirror_mode": {
    "name": "ipython",
    "version": 3
   },
   "file_extension": ".py",
   "mimetype": "text/x-python",
   "name": "python",
   "nbconvert_exporter": "python",
   "pygments_lexer": "ipython3",
   "version": "3.6.6"
  }
 },
 "nbformat": 4,
 "nbformat_minor": 2
}
