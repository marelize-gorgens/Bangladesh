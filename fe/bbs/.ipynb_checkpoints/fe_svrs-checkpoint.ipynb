{
 "cells": [
  {
   "cell_type": "markdown",
   "metadata": {},
   "source": [
    "# Processing SVRS data"
   ]
  },
  {
   "cell_type": "markdown",
   "metadata": {},
   "source": [
    "```\n",
    "!pip install --upgrade pip\n",
    "!pip install requests_html\n",
    "```"
   ]
  },
  {
   "cell_type": "markdown",
   "metadata": {},
   "source": [
    "```\n",
    "!wget -r -np -nH http://203.112.218.66/webtestapplication/userfiles/image/Census2011/\n",
    "```"
   ]
  },
  {
   "cell_type": "code",
   "execution_count": 2,
   "metadata": {
    "collapsed": true
   },
   "outputs": [],
   "source": [
    "import os \n",
    "import pandas as pd"
   ]
  },
  {
   "cell_type": "code",
   "execution_count": null,
   "metadata": {},
   "outputs": [],
   "source": []
  },
  {
   "cell_type": "code",
   "execution_count": 65,
   "metadata": {},
   "outputs": [
    {
     "name": "stdout",
     "output_type": "stream",
     "text": [
      "{'Content-Type': 'text/html; charset=UTF-8', 'Server': 'Microsoft-IIS/7.0', 'X-Powered-By': 'ASP.NET', 'Date': 'Thu, 31 Jan 2019 10:51:21 GMT', 'Content-Length': '2027'}\n",
      "{'Content-Type': 'text/html; charset=UTF-8', 'Server': 'Microsoft-IIS/7.0', 'X-Powered-By': 'ASP.NET', 'Date': 'Thu, 31 Jan 2019 10:51:21 GMT', 'Content-Length': '2027'}\n",
      "{'Content-Type': 'text/html; charset=UTF-8', 'Server': 'Microsoft-IIS/7.0', 'X-Powered-By': 'ASP.NET', 'Date': 'Thu, 31 Jan 2019 10:51:22 GMT', 'Content-Length': '1213'}\n",
      "{'Content-Type': 'text/html; charset=UTF-8', 'Server': 'Microsoft-IIS/7.0', 'X-Powered-By': 'ASP.NET', 'Date': 'Thu, 31 Jan 2019 10:51:22 GMT', 'Content-Length': '1213'}\n",
      "{'Content-Type': 'text/html; charset=UTF-8', 'Server': 'Microsoft-IIS/7.0', 'X-Powered-By': 'ASP.NET', 'Date': 'Thu, 31 Jan 2019 10:51:22 GMT', 'Content-Length': '919'}\n",
      "{'Content-Type': 'text/html; charset=UTF-8', 'Server': 'Microsoft-IIS/7.0', 'X-Powered-By': 'ASP.NET', 'Date': 'Thu, 31 Jan 2019 10:51:22 GMT', 'Content-Length': '919'}\n",
      "{'Content-Type': 'text/html; charset=UTF-8', 'Server': 'Microsoft-IIS/7.0', 'X-Powered-By': 'ASP.NET', 'Date': 'Thu, 31 Jan 2019 10:51:23 GMT', 'Content-Length': '1787'}\n",
      "{'Content-Type': 'text/html; charset=UTF-8', 'Server': 'Microsoft-IIS/7.0', 'X-Powered-By': 'ASP.NET', 'Date': 'Thu, 31 Jan 2019 10:51:23 GMT', 'Content-Length': '1787'}\n",
      "{'Content-Type': 'text/html; charset=UTF-8', 'Server': 'Microsoft-IIS/7.0', 'X-Powered-By': 'ASP.NET', 'Date': 'Thu, 31 Jan 2019 10:51:23 GMT', 'Content-Length': '1531'}\n",
      "{'Content-Type': 'text/html; charset=UTF-8', 'Server': 'Microsoft-IIS/7.0', 'X-Powered-By': 'ASP.NET', 'Date': 'Thu, 31 Jan 2019 10:51:23 GMT', 'Content-Length': '1531'}\n",
      "{'Content-Type': 'application/pdf', 'Last-Modified': 'Mon, 16 Jul 2012 05:11:45 GMT', 'Accept-Ranges': 'bytes', 'ETag': '\"80be687e1163cd1:0\"', 'Server': 'Microsoft-IIS/7.0', 'X-Powered-By': 'ASP.NET', 'Date': 'Thu, 31 Jan 2019 10:51:24 GMT', 'Content-Length': '15383'}\n",
      "{'Content-Type': 'text/html; charset=UTF-8', 'Server': 'Microsoft-IIS/7.0', 'X-Powered-By': 'ASP.NET', 'Date': 'Thu, 31 Jan 2019 10:51:26 GMT', 'Content-Length': '2836'}\n",
      "{'Content-Type': 'text/html; charset=UTF-8', 'Server': 'Microsoft-IIS/7.0', 'X-Powered-By': 'ASP.NET', 'Date': 'Thu, 31 Jan 2019 10:51:26 GMT', 'Content-Length': '2836'}\n",
      "{'Content-Type': 'text/html; charset=UTF-8', 'Server': 'Microsoft-IIS/7.0', 'X-Powered-By': 'ASP.NET', 'Date': 'Thu, 31 Jan 2019 10:51:26 GMT', 'Content-Length': '1527'}\n",
      "{'Content-Type': 'text/html; charset=UTF-8', 'Server': 'Microsoft-IIS/7.0', 'X-Powered-By': 'ASP.NET', 'Date': 'Thu, 31 Jan 2019 10:51:26 GMT', 'Content-Length': '1527'}\n",
      "{'Content-Type': 'application/pdf', 'Last-Modified': 'Sun, 15 Jul 2012 08:33:24 GMT', 'Accept-Ranges': 'bytes', 'ETag': '\"483abf7f6462cd1:0\"', 'Server': 'Microsoft-IIS/7.0', 'X-Powered-By': 'ASP.NET', 'Date': 'Thu, 31 Jan 2019 10:51:27 GMT', 'Content-Length': '18072'}\n"
     ]
    }
   ],
   "source": [
    "URL = 'http://203.112.218.66/webtestapplication/userfiles/image/Census2011/'\n",
    "census_session = HTMLSession()\n",
    "census_response = census_session.get(URL)\n",
    "urls = census_response.html.absolute_links\n",
    "for url in urls:\n",
    "    if \"Census2011\" in url:\n",
    "        with requests.Session() as s:\n",
    "            bbs_response = s.get(url)\n",
    "            print(bbs_response.headers)\n",
    "            if bbs_response.headers['Content-Type'] == 'text/html; charset=UTF-8':\n",
    "                print(bbs_response.headers)\n",
    "            "
   ]
  },
  {
   "cell_type": "code",
   "execution_count": 55,
   "metadata": {},
   "outputs": [
    {
     "data": {
      "text/plain": [
       "'application/pdf'"
      ]
     },
     "execution_count": 55,
     "metadata": {},
     "output_type": "execute_result"
    }
   ],
   "source": [
    "url = 'http://203.112.218.66/webtestapplication/userfiles/image/Census2011'\n",
    "file_names = 'test.pdf'\n",
    "data_response = s.get(url, stream=True)\n",
    "data_response.headers['Content-Type']"
   ]
  },
  {
   "cell_type": "code",
   "execution_count": 50,
   "metadata": {},
   "outputs": [
    {
     "name": "stdout",
     "output_type": "stream",
     "text": [
      "Getting API query for file\n"
     ]
    },
    {
     "ename": "TypeError",
     "evalue": "a bytes-like object is required, not 'Response'",
     "output_type": "error",
     "traceback": [
      "\u001b[0;31m---------------------------------------------------------------------------\u001b[0m",
      "\u001b[0;31mTypeError\u001b[0m                                 Traceback (most recent call last)",
      "\u001b[0;32m<ipython-input-50-2ee8267e6660>\u001b[0m in \u001b[0;36m<module>\u001b[0;34m()\u001b[0m\n\u001b[1;32m      5\u001b[0m     \u001b[0mdata_codes\u001b[0m \u001b[0;34m=\u001b[0m \u001b[0ms\u001b[0m\u001b[0;34m.\u001b[0m\u001b[0mget\u001b[0m\u001b[0;34m(\u001b[0m\u001b[0murl\u001b[0m\u001b[0;34m,\u001b[0m\u001b[0mstream\u001b[0m\u001b[0;34m=\u001b[0m\u001b[0;32mTrue\u001b[0m\u001b[0;34m)\u001b[0m\u001b[0;34m\u001b[0m\u001b[0m\n\u001b[1;32m      6\u001b[0m     \u001b[0;32mwith\u001b[0m \u001b[0mopen\u001b[0m\u001b[0;34m(\u001b[0m\u001b[0mfile_names\u001b[0m\u001b[0;34m,\u001b[0m \u001b[0;34m'wb'\u001b[0m\u001b[0;34m)\u001b[0m \u001b[0;32mas\u001b[0m \u001b[0mf\u001b[0m\u001b[0;34m:\u001b[0m\u001b[0;34m\u001b[0m\u001b[0m\n\u001b[0;32m----> 7\u001b[0;31m         \u001b[0mf\u001b[0m\u001b[0;34m.\u001b[0m\u001b[0mwrite\u001b[0m\u001b[0;34m(\u001b[0m\u001b[0mdata_codes\u001b[0m\u001b[0;34m)\u001b[0m\u001b[0;34m\u001b[0m\u001b[0m\n\u001b[0m",
      "\u001b[0;31mTypeError\u001b[0m: a bytes-like object is required, not 'Response'"
     ]
    }
   ],
   "source": [
    "\n",
    "\n",
    "with requests.Session() as s:\n",
    "    data_response = s.get(url, stream=True)\n",
    "    \n",
    "\n",
    "with requests.Session() as s:\n",
    "    print(f\"Getting API query for file\")\n",
    "    data_codes = s.get(url,stream=True)\n",
    "    with open(file_names, 'wb') as f:\n",
    "        print(f\"Writing in chunks file\")\n",
    "        for chunk in data_codes.iter_content(chunk_size=1024):\n",
    "            if chunk:\n",
    "                f.write(data_codes)"
   ]
  },
  {
   "cell_type": "code",
   "execution_count": 40,
   "metadata": {},
   "outputs": [
    {
     "name": "stdout",
     "output_type": "stream",
     "text": [
      "http://203.112.218.66/webtestapplication/userfiles/image/Census2011/Chittagong/\n",
      "http://203.112.218.66/webtestapplication/userfiles/image/Census2011/Barisal/\n",
      "http://203.112.218.66/webtestapplication/userfiles/image/Census2011/Sylhet/\n",
      "http://203.112.218.66/webtestapplication/userfiles/image/Census2011/Khulna/\n",
      "http://203.112.218.66/webtestapplication/userfiles/image/Census2011/Rangpur/\n",
      "http://203.112.218.66/webtestapplication/userfiles/image/Census2011/BANGLADESH%20at%20a%20glance.pdf\n",
      "http://203.112.218.66/webtestapplication/userfiles/image/Census2011/Dhaka/\n",
      "http://203.112.218.66/webtestapplication/userfiles/image/Census2011/Rajshahi/\n",
      "http://203.112.218.66/webtestapplication/userfiles/image/Census2011/Bangladesh_glance.pdf\n"
     ]
    }
   ],
   "source": [
    "key_directory = \"Census2011\"\n",
    "for url in census_response.html.absolute_links:\n",
    "    if key_directory in url:\n",
    "        print(url)\n",
    "        \n",
    "        "
   ]
  },
  {
   "cell_type": "markdown",
   "metadata": {},
   "source": [
    "## TO DO LIST:\n",
    "### Parse through all subdirectories"
   ]
  },
  {
   "cell_type": "code",
   "execution_count": null,
   "metadata": {
    "collapsed": true
   },
   "outputs": [],
   "source": []
  }
 ],
 "metadata": {
  "kernelspec": {
   "display_name": "Python 3",
   "language": "python",
   "name": "python3"
  },
  "language_info": {
   "codemirror_mode": {
    "name": "ipython",
    "version": 3
   },
   "file_extension": ".py",
   "mimetype": "text/x-python",
   "name": "python",
   "nbconvert_exporter": "python",
   "pygments_lexer": "ipython3",
   "version": "3.6.6"
  }
 },
 "nbformat": 4,
 "nbformat_minor": 2
}
