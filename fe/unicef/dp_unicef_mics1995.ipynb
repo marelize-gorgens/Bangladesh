{
 "cells": [
  {
   "cell_type": "markdown",
   "metadata": {},
   "source": [
    "# Data preprocessing - UNICEF data"
   ]
  },
  {
   "cell_type": "code",
   "execution_count": 2,
   "metadata": {
    "collapsed": true
   },
   "outputs": [],
   "source": [
    "import os\n",
    "import pandas as pd"
   ]
  },
  {
   "cell_type": "code",
   "execution_count": 7,
   "metadata": {},
   "outputs": [
    {
     "data": {
      "text/plain": [
       "'/Users/edinhamzic/Symphony/wb_bangladesh'"
      ]
     },
     "execution_count": 7,
     "metadata": {},
     "output_type": "execute_result"
    }
   ],
   "source": [
    "os.getcwd()\n",
    "os.chdir('/Users/edinhamzic/Symphony/wb_bangladesh/')\n",
    "UNICEF_PATH = 'data/unicef/'\n",
    "os.getcwd()\n"
   ]
  },
  {
   "cell_type": "code",
   "execution_count": 8,
   "metadata": {},
   "outputs": [
    {
     "data": {
      "text/plain": [
       "['.Rhistory',\n",
       " 'CBSS',\n",
       " '.DS_Store',\n",
       " 'CWBS',\n",
       " 'MICS3',\n",
       " 'CES',\n",
       " 'MICS5',\n",
       " '.RData',\n",
       " '.Rproj.user',\n",
       " 'MICS1']"
      ]
     },
     "execution_count": 8,
     "metadata": {},
     "output_type": "execute_result"
    }
   ],
   "source": [
    "os.listdir(UNICEF_PATH)"
   ]
  },
  {
   "cell_type": "code",
   "execution_count": null,
   "metadata": {
    "collapsed": true
   },
   "outputs": [],
   "source": [
    "# dp_unicef_mics1995\n",
    "\n",
    "#!pip install SQLAlchemy==0.7.7\n",
    "#!pip install xlrd==0.7.1\n",
    "#!pip install camelot-py\n",
    "\n",
    "\n",
    "import os\n",
    "import glob\n",
    "import camelot\n",
    "import PyPDF2\n",
    "import pandas as pd\n",
    "\n",
    "\n",
    "file = '../../data/unicef/MICS1/Bangladesh 1995-October MICS_English.pdf'\n",
    "\n",
    "\n",
    "pdfFileObj = open(file, 'rb')\n",
    "pdfReader = PyPDF2.PdfFileReader(pdfFileObj, strict=True)\n",
    "num_pages = pdfReader.getNumPages()\n",
    "pages = []\n",
    "for page in range(47,62):\n",
    "    pageObj = pdfReader.getPage(page)\n",
    "    pages.append(pageObj.extractText())\n",
    "for page in pages[0:1]:\n",
    "    print(page)\n",
    "    #print(page.split('\\n'))\n",
    "\n"
   ]
  }
 ],
 "metadata": {
  "kernelspec": {
   "display_name": "Python 3",
   "language": "python",
   "name": "python3"
  },
  "language_info": {
   "codemirror_mode": {
    "name": "ipython",
    "version": 3
   },
   "file_extension": ".py",
   "mimetype": "text/x-python",
   "name": "python",
   "nbconvert_exporter": "python",
   "pygments_lexer": "ipython3",
   "version": "3.6.7"
  }
 },
 "nbformat": 4,
 "nbformat_minor": 2
}
