{
 "cells": [
  {
   "cell_type": "markdown",
   "metadata": {},
   "source": [
    "# Data Preprocessing DGFP Data Summary and Structure"
   ]
  },
  {
   "cell_type": "markdown",
   "metadata": {},
   "source": [
    "## Summary\n",
    "\n",
    "- **Input data**: Data downloaded from Service Statistics portal of Directorate Generale of Family Planning. This data is stored in *data/dgfp/data* directories\n",
    "- **Processing**:\n",
    "    - Getting Upazila and District level data\n",
    "    - Reading and processing and transforming data in the following form:\n",
    "        - Rows: *Geographical levels (upazila and districts)*\n",
    "        - Columns: *Variables/health indicators*\n",
    "        - Datasets: *Years [XXXX - XXXX]*\n",
    "- **Output data**: Processed data is stored in *data/output/dhis2/data\n",
    "\n",
    "## List of DGFP data directories\n",
    "\n",
    "```\n",
    ".\n",
    "├── importance11_districts\n",
    "│   ├── district_process\n",
    "│   └── ngodistrict_process\n",
    "├── importance11_subdistricts\n",
    "│   ├── mchgo_thanaprocess\n",
    "│   ├── ngothana_process\n",
    "│   └── thana_process\n",
    "├── importance12_districts\n",
    "│   ├── distributionGO_distmonthProcess\n",
    "│   ├── district_monthprocess\n",
    "│   ├── mchgo_distmonthprocess\n",
    "│   └── ngodistrict_monthprocess\n",
    "└── importance12_subdistricts\n",
    "    ├── distributionGO_thanaconsuprocess\n",
    "    ├── distributionGO_thanamonthProcess\n",
    "    ├── distributionNGO_thanaconsuprocess\n",
    "    └── distributionNGO_thanamonthProcess\n",
    "```"
   ]
  },
  {
   "cell_type": "markdown",
   "metadata": {},
   "source": [
    "## Data To Be Processed\n",
    "- /data/dgfp/data/importance11_subdistricts/ngothana_process\n",
    "- /data/dgfp/data/importance11_subdistricts/thana_process\n",
    "- /data/dgfp/data/importance12_districts/distributionGO_distmonthProcess\n",
    "- /data/dgfp/data/importance12_districts/district_monthprocess\n",
    "- /data/dgfp/data/importance12_districts/ngodistrict_monthprocess"
   ]
  },
  {
   "cell_type": "markdown",
   "metadata": {},
   "source": [
    "## Data Processing Structure\n",
    "\n",
    "### Importance11 Subdistricts: ngothana_process\n",
    "- DONE: Step 1: List all files and check if empty. Subset based on emptyness\n",
    "- DONE: Step 2: Read file and add file name, split file name to additional columns and add column with path\n",
    "- DONE: Step 3: Determine how to sumarize columns if possible to sum or average and do so \n",
    "- DONE: Step 4: Map zilas to original ones and merge \n",
    "- DONE: Step 5: Write everything to the output files\n",
    "\n",
    "### Importance11 Subdistricts: thana_process\n",
    "- DONE: Step 1: List all files and check if empty. Subset based on emptyness\n",
    "- DONE: Step 2: Read file and add file name, split file name to additional columns and add column with path\n",
    "- DONE: Step 3: Determine how to sumarize columns if possible to sum or average and do so \n",
    "- DONE: Step 4: Map zilas to original ones and merge \n",
    "- DONE: Step 5: Write everything to the output files\n",
    "\n",
    "### Importance12 Districts: district_monthprocess\n",
    "- DONE: Step 1: List all files and check if empty. Subset based on emptyness\n",
    "- DONE: Step 2: Read file and add file name, split file name to additional columns and add column with path\n",
    "- DONE: Step 3: Determine how to sumarize columns if possible to sum or average and do so\n",
    "- DONE: Step 4: Map zilas to original ones and merge \n",
    "- DONE: Step 5: Write everything to the output files\n",
    "\n",
    "### Importance12 Districts: ngodistrict_monthprocess\n",
    "- DONE: Step 1: List all files and check if empty. Subset based on emptyness\n",
    "- DONE: Step 2: Read file and add file name, split file name to additional columns and add column with path\n",
    "- DONE: Step 3: Determine how to sumarize columns if possible to sum or average and do so\n",
    "- DONE: Step 4: Map zilas to original ones and merge \n",
    "- DONE: Step 5: Write everything to the output files\n",
    "\n",
    "### Importance12 Districts: distributionGO_distmonthProcess\n",
    "- Step 1: List all files and check if empty. Subset based on emptyness\n",
    "- Step 2: Read file and add file name, split file name to additional columns and add column with path\n",
    "- Step 3: Determine how to sumarize columns if possible to sum or average and do so\n",
    "- Step 4: Map zilas to original ones and merge \n",
    "- Step 5: Write everything to the output files\n",
    "\n"
   ]
  },
  {
   "cell_type": "code",
   "execution_count": null,
   "metadata": {},
   "outputs": [],
   "source": []
  }
 ],
 "metadata": {
  "kernelspec": {
   "display_name": "Python 3",
   "language": "python",
   "name": "python3"
  },
  "language_info": {
   "codemirror_mode": {
    "name": "ipython",
    "version": 3
   },
   "file_extension": ".py",
   "mimetype": "text/x-python",
   "name": "python",
   "nbconvert_exporter": "python",
   "pygments_lexer": "ipython3",
   "version": "3.7.2"
  }
 },
 "nbformat": 4,
 "nbformat_minor": 2
}
