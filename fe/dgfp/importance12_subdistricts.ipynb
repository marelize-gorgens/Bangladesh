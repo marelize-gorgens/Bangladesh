{
 "cells": [
  {
   "cell_type": "markdown",
   "metadata": {},
   "source": [
    "# DGFP Data: Importance 12: Districts: mchgo_distmonthprocess"
   ]
  },
  {
   "cell_type": "markdown",
   "metadata": {},
   "source": [
    "## TO DO LIST:\n",
    "- Make a function to read in files for each separate directory\n",
    "- \n",
    "- "
   ]
  },
  {
   "cell_type": "markdown",
   "metadata": {},
   "source": [
    "## Packages"
   ]
  },
  {
   "cell_type": "code",
   "execution_count": 1,
   "metadata": {
    "collapsed": true
   },
   "outputs": [],
   "source": [
    "import os\n",
    "import glob\n",
    "import requests\n",
    "import pandas as pd"
   ]
  },
  {
   "cell_type": "markdown",
   "metadata": {},
   "source": [
    "## Functions"
   ]
  },
  {
   "cell_type": "code",
   "execution_count": 2,
   "metadata": {
    "collapsed": true
   },
   "outputs": [],
   "source": [
    "def mchgo_distmonthprocess(path, ext):\n",
    "    files_list = glob.glob(path + '/*.' + ext)\n",
    "    data = list()\n",
    "    for file in files_list:\n",
    "        file_name = os.path.split(file)[1]\n",
    "        tmp = pd.read_csv(file, sep='\\t')\n",
    "        tmp['district'] = file_name[11:-4]\n",
    "        data.append(tmp)  \n",
    "    return pd.concat(data, axis=0)\n",
    "\n",
    "def ngodistrict_monthprocess(path, ext):\n",
    "    files_list = glob.glob(path + '/*.' + ext)\n",
    "    data = list()\n",
    "    for file in files_list:\n",
    "        file_name = os.path.split(file)[1]\n",
    "        tmp = pd.read_csv(file, sep='\\t')\n",
    "        tmp['district'] = file_name[11:-4]\n",
    "        data.append(tmp)  \n",
    "    return pd.concat(data, axis=0)\n",
    "\n",
    "def distributionGO_distmonthProcess(path, ext):\n",
    "    files_list = glob.glob(path + '/*.' + ext)\n",
    "    data = list()\n",
    "    for file in files_list:\n",
    "        file_name = os.path.split(file)[1]\n",
    "        tmp = pd.read_csv(file, sep='\\t')\n",
    "        tmp['district'] = file_name[11:-4]\n",
    "        data.append(tmp)  \n",
    "    return pd.concat(data, axis=0)\n",
    "\n",
    "def district_monthprocess(path, ext):\n",
    "    files_list = glob.glob(path + '/*.' + ext)\n",
    "    data = list()\n",
    "    for file in files_list:\n",
    "        file_name = os.path.split(file)[1]\n",
    "        tmp = pd.read_csv(file, sep='\\t')\n",
    "        tmp['district'] = file_name[11:-4]\n",
    "        data.append(tmp)  \n",
    "    return pd.concat(data, axis=0)"
   ]
  },
  {
   "cell_type": "markdown",
   "metadata": {},
   "source": [
    "## Description"
   ]
  },
  {
   "cell_type": "code",
   "execution_count": 11,
   "metadata": {},
   "outputs": [
    {
     "data": {
      "text/plain": [
       "['2018-12-28-0305-03.csv',\n",
       " '2018-12-28-0114-01.csv',\n",
       " '2018-12-28-0209-02.csv',\n",
       " '2018-12-28-0205-02.csv',\n",
       " '2018-12-28-0108-07.csv',\n",
       " '2018-12-28-0411-04.csv',\n",
       " '2018-12-28-0403-04.csv',\n",
       " '2018-12-28-0104-07.csv',\n",
       " '2018-12-28-0414-08.csv',\n",
       " '2018-12-28-0503-05.csv',\n",
       " '2018-12-28-0511-05.csv',\n",
       " '2018-12-28-0106-07.csv',\n",
       " '2018-12-28-0602-06.csv',\n",
       " '2018-12-28-0401-04.csv',\n",
       " '2018-12-28-0501-05.csv',\n",
       " '2018-12-28-0116-01.csv',\n",
       " '2018-12-28-0207-02.csv',\n",
       " '2018-12-28-0505-05.csv',\n",
       " '2018-12-28-0509-05.csv',\n",
       " '2018-12-28-0409-04.csv',\n",
       " '2018-12-28-0102-07.csv',\n",
       " '2018-12-28-0405-04.csv',\n",
       " '2018-12-28-0203-02.csv',\n",
       " '2018-12-28-0303-03.csv',\n",
       " '2018-12-28-0112-01.csv',\n",
       " '2018-12-28-0201-02.csv',\n",
       " '2018-12-28-0110-01.csv',\n",
       " '2018-12-28-0301-03.csv',\n",
       " '2018-12-28-0507-05.csv',\n",
       " '2018-12-28-0407-04.csv',\n",
       " '2018-12-28-0604-06.csv',\n",
       " '2018-12-28-0502-05.csv',\n",
       " '2018-12-28-0510-05.csv',\n",
       " '2018-12-28-0410-04.csv',\n",
       " '2018-12-28-0415-08.csv',\n",
       " '2018-12-28-0601-06.csv',\n",
       " '2018-12-28-0105-07.csv',\n",
       " '2018-12-28-0402-04.csv',\n",
       " '2018-12-28-0208-02.csv',\n",
       " '2018-12-28-0204-02.csv',\n",
       " '2018-12-28-0304-03.csv',\n",
       " '2018-12-28-0115-01.csv',\n",
       " '2018-12-28-0206-02.csv',\n",
       " '2018-12-28-0109-01.csv',\n",
       " '2018-12-28-0306-03.csv',\n",
       " '2018-12-28-0417-08.csv',\n",
       " '2018-12-28-0107-07.csv',\n",
       " '2018-12-28-0603-06.csv',\n",
       " '2018-12-28-0412-04.csv',\n",
       " '2018-12-28-0302-03.csv',\n",
       " '2018-12-28-0113-01.csv',\n",
       " '2018-12-28-0210-02.csv',\n",
       " '2018-12-28-0202-02.csv',\n",
       " '2018-12-28-0416-04.csv',\n",
       " '2018-12-28-0408-04.csv',\n",
       " '2018-12-28-0404-04.csv',\n",
       " '2018-12-28-0103-07.csv',\n",
       " '2018-12-28-0413-08.csv',\n",
       " '2018-12-28-0504-05.csv',\n",
       " '2018-12-28-0508-05.csv',\n",
       " '2018-12-28-0101-07.csv',\n",
       " '2018-12-28-0406-04.csv',\n",
       " '2018-12-28-0506-05.csv',\n",
       " '2018-12-28-0111-01.csv']"
      ]
     },
     "execution_count": 11,
     "metadata": {},
     "output_type": "execute_result"
    }
   ],
   "source": [
    "os.listdir('data/importance12_districts/ngodistrict_monthprocess')"
   ]
  },
  {
   "cell_type": "markdown",
   "metadata": {},
   "source": []
  },
  {
   "cell_type": "code",
   "execution_count": 65,
   "metadata": {
    "collapsed": true
   },
   "outputs": [],
   "source": []
  },
  {
   "cell_type": "code",
   "execution_count": 13,
   "metadata": {},
   "outputs": [
    {
     "data": {
      "text/html": [
       "<div>\n",
       "<style scoped>\n",
       "    .dataframe tbody tr th:only-of-type {\n",
       "        vertical-align: middle;\n",
       "    }\n",
       "\n",
       "    .dataframe tbody tr th {\n",
       "        vertical-align: top;\n",
       "    }\n",
       "\n",
       "    .dataframe thead th {\n",
       "        text-align: right;\n",
       "    }\n",
       "</style>\n",
       "<table border=\"1\" class=\"dataframe\">\n",
       "  <thead>\n",
       "    <tr style=\"text-align: right;\">\n",
       "      <th></th>\n",
       "      <th></th>\n",
       "      <th></th>\n",
       "      <th></th>\n",
       "      <th></th>\n",
       "      <th></th>\n",
       "      <th></th>\n",
       "      <th></th>\n",
       "      <th></th>\n",
       "      <th></th>\n",
       "      <th></th>\n",
       "      <th></th>\n",
       "      <th></th>\n",
       "      <th>Dump For Table car_details from Database dgfpmis_ss8 on 10-25-2018 07:32</th>\n",
       "      <th>district</th>\n",
       "    </tr>\n",
       "  </thead>\n",
       "  <tbody>\n",
       "    <tr>\n",
       "      <th>Dist_Name</th>\n",
       "      <th>MonthYear</th>\n",
       "      <th>EC</th>\n",
       "      <th>Pill</th>\n",
       "      <th>Con</th>\n",
       "      <th>Inj</th>\n",
       "      <th>IUD</th>\n",
       "      <th>Imp</th>\n",
       "      <th>PerM</th>\n",
       "      <th>PerF</th>\n",
       "      <th>TPer</th>\n",
       "      <th>TUser</th>\n",
       "      <th>CAR</th>\n",
       "      <td>NaN</td>\n",
       "      <td>0305-03</td>\n",
       "    </tr>\n",
       "    <tr>\n",
       "      <th rowspan=\"4\" valign=\"top\">Bhola</th>\n",
       "      <th>July 2007</th>\n",
       "      <th>39693</th>\n",
       "      <th>11196</th>\n",
       "      <th>2149</th>\n",
       "      <th>12778</th>\n",
       "      <th>910</th>\n",
       "      <th>264</th>\n",
       "      <th>289</th>\n",
       "      <th>710</th>\n",
       "      <th>999</th>\n",
       "      <th>28296</th>\n",
       "      <th>71.2871</th>\n",
       "      <td>NaN</td>\n",
       "      <td>0305-03</td>\n",
       "    </tr>\n",
       "    <tr>\n",
       "      <th>August 2007</th>\n",
       "      <th>39873</th>\n",
       "      <th>10594</th>\n",
       "      <th>1693</th>\n",
       "      <th>13939</th>\n",
       "      <th>915</th>\n",
       "      <th>264</th>\n",
       "      <th>294</th>\n",
       "      <th>705</th>\n",
       "      <th>999</th>\n",
       "      <th>28404</th>\n",
       "      <th>71.2362</th>\n",
       "      <td>NaN</td>\n",
       "      <td>0305-03</td>\n",
       "    </tr>\n",
       "    <tr>\n",
       "      <th>September 2007</th>\n",
       "      <th>40005</th>\n",
       "      <th>9830</th>\n",
       "      <th>1810</th>\n",
       "      <th>14123</th>\n",
       "      <th>917</th>\n",
       "      <th>240</th>\n",
       "      <th>307</th>\n",
       "      <th>699</th>\n",
       "      <th>1006</th>\n",
       "      <th>27926</th>\n",
       "      <th>69.8063</th>\n",
       "      <td>NaN</td>\n",
       "      <td>0305-03</td>\n",
       "    </tr>\n",
       "    <tr>\n",
       "      <th>October 2007</th>\n",
       "      <th>40106</th>\n",
       "      <th>10240</th>\n",
       "      <th>1283</th>\n",
       "      <th>14195</th>\n",
       "      <th>913</th>\n",
       "      <th>236</th>\n",
       "      <th>305</th>\n",
       "      <th>703</th>\n",
       "      <th>1008</th>\n",
       "      <th>27875</th>\n",
       "      <th>69.5033</th>\n",
       "      <td>NaN</td>\n",
       "      <td>0305-03</td>\n",
       "    </tr>\n",
       "  </tbody>\n",
       "</table>\n",
       "</div>"
      ],
      "text/plain": [
       "                                                                                         Dump For Table car_details from Database dgfpmis_ss8 on 10-25-2018 07:32  \\\n",
       "Dist_Name MonthYear      EC    Pill  Con  Inj   IUD Imp PerM PerF TPer TUser CAR                                                    NaN                             \n",
       "Bhola     July 2007      39693 11196 2149 12778 910 264 289  710  999  28296 71.2871                                                NaN                             \n",
       "          August 2007    39873 10594 1693 13939 915 264 294  705  999  28404 71.2362                                                NaN                             \n",
       "          September 2007 40005 9830  1810 14123 917 240 307  699  1006 27926 69.8063                                                NaN                             \n",
       "          October 2007   40106 10240 1283 14195 913 236 305  703  1008 27875 69.5033                                                NaN                             \n",
       "\n",
       "                                                                                     district  \n",
       "Dist_Name MonthYear      EC    Pill  Con  Inj   IUD Imp PerM PerF TPer TUser CAR      0305-03  \n",
       "Bhola     July 2007      39693 11196 2149 12778 910 264 289  710  999  28296 71.2871  0305-03  \n",
       "          August 2007    39873 10594 1693 13939 915 264 294  705  999  28404 71.2362  0305-03  \n",
       "          September 2007 40005 9830  1810 14123 917 240 307  699  1006 27926 69.8063  0305-03  \n",
       "          October 2007   40106 10240 1283 14195 913 236 305  703  1008 27875 69.5033  0305-03  "
      ]
     },
     "execution_count": 13,
     "metadata": {},
     "output_type": "execute_result"
    }
   ],
   "source": [
    "mchgo_distmonthprocess_data = mchgo_distmonthprocess(path='data/importance12_districts/ngodistrict_monthprocess', ext='csv')\n",
    "mchgo_distmonthprocess_data.head()"
   ]
  },
  {
   "cell_type": "markdown",
   "metadata": {},
   "source": [
    "## FORMAT OF THE FILES\n",
    "\n",
    "- Rows: Geographical units: districts\n",
    "- Columns: Variables\n",
    "- Datasets: years\n",
    "- "
   ]
  }
 ],
 "metadata": {
  "kernelspec": {
   "display_name": "Python 3",
   "language": "python",
   "name": "python3"
  },
  "language_info": {
   "codemirror_mode": {
    "name": "ipython",
    "version": 3
   },
   "file_extension": ".py",
   "mimetype": "text/x-python",
   "name": "python",
   "nbconvert_exporter": "python",
   "pygments_lexer": "ipython3",
   "version": "3.6.6"
  }
 },
 "nbformat": 4,
 "nbformat_minor": 2
}
