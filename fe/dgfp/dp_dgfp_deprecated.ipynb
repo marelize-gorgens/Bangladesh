{
 "cells": [
  {
   "cell_type": "code",
   "execution_count": null,
   "metadata": {
    "collapsed": true
   },
   "outputs": [],
   "source": [
    "import os\n",
    "import glob\n",
    "import requests\n",
    "import pandas as pd"
   ]
  },
  {
   "cell_type": "code",
   "execution_count": null,
   "metadata": {
    "collapsed": true
   },
   "outputs": [],
   "source": [
    "def mchgo_distmonthprocess(path, ext):\n",
    "    files_list = glob.glob(path + '/*.' + ext)\n",
    "    data = list()\n",
    "    for file in files_list:\n",
    "        file_name = os.path.split(file)[1]\n",
    "        tmp = pd.read_csv(file, sep='\\t')\n",
    "        tmp['district'] = file_name[11:-4]\n",
    "        data.append(tmp)  \n",
    "    return pd.concat(data, axis=0)\n",
    "\n",
    "def ngodistrict_monthprocess(path, ext):\n",
    "    files_list = glob.glob(path + '/*.' + ext)\n",
    "    data = list()\n",
    "    for file in files_list:\n",
    "        file_name = os.path.split(file)[1]\n",
    "        tmp = pd.read_csv(file, sep='\\t')\n",
    "        tmp['district'] = file_name[11:-4]\n",
    "        data.append(tmp)  \n",
    "    return pd.concat(data, axis=0)\n",
    "\n",
    "def distributionGO_distmonthProcess(path, ext):\n",
    "    files_list = glob.glob(path + '/*.' + ext)\n",
    "    data = list()\n",
    "    for file in files_list:\n",
    "        file_name = os.path.split(file)[1]\n",
    "        tmp = pd.read_csv(file, sep='\\t')\n",
    "        tmp['district'] = file_name[11:-4]\n",
    "        data.append(tmp)  \n",
    "    return pd.concat(data, axis=0)\n",
    "\n",
    "def district_monthprocess(path, ext):\n",
    "    files_list = glob.glob(path + '/*.' + ext)\n",
    "    data = list()\n",
    "    for file in files_list:\n",
    "        file_name = os.path.split(file)[1]\n",
    "        tmp = pd.read_csv(file, sep='\\t')\n",
    "        tmp['district'] = file_name[11:-4]\n",
    "        data.append(tmp)  \n",
    "    return pd.concat(data, axis=0)\n",
    "\n",
    "def mchgo_distmonthprocess_import(path, ext):\n",
    "    files_list = glob.glob(path + '/*.' + ext)\n",
    "    data = list()\n",
    "    for file in files_list:\n",
    "        file_name = os.path.split(file)[1]\n",
    "        tmp = pd.read_csv(file, sep='\\t')\n",
    "        tmp['district'] = file_name[11:-4]\n",
    "        data.append(tmp)  \n",
    "    return pd.concat(data, axis=0)\n",
    "\n",
    "def mchgo_distmonthprocess_process(input_df, time_col, geo_col):\n",
    "    df = input_df.copy(deep=True)\n",
    "    output = dict()\n",
    "    df['year'] = df[time_col].str.split('-', n=0, expand=True)[0].astype(int)\n",
    "    df_year = df.groupby([geo_col, 'year']).sum()\n",
    "    df_year = df_year.reset_index()\n",
    "    output['year'] = df_year\n",
    "    output['month'] = df.groupby([geo_col, time_col]).sum().reset_index()\n",
    "    return output\n",
    "\n",
    "def mchgo_distmonthprocess(path, ext):\n",
    "    files_list = glob.glob(path + '/*.' + ext)\n",
    "    data = list()\n",
    "    for file in files_list:\n",
    "        file_name = os.path.split(file)[1]\n",
    "        tmp = pd.read_csv(file, sep='\\t')\n",
    "        tmp['district'] = file_name[11:-4]\n",
    "        data.append(tmp)  \n",
    "    return pd.concat(data, axis=0)\n",
    "\n",
    "def ngodistrict_monthprocess(path, ext):\n",
    "    files_list = glob.glob(path + '/*.' + ext)\n",
    "    data = list()\n",
    "    for file in files_list:\n",
    "        file_name = os.path.split(file)[1]\n",
    "        tmp = pd.read_csv(file, sep='\\t')\n",
    "        tmp['district'] = file_name[11:-4]\n",
    "        data.append(tmp)  \n",
    "    return pd.concat(data, axis=0)\n",
    "\n",
    "def distributionGO_distmonthProcess(path, ext):\n",
    "    files_list = glob.glob(path + '/*.' + ext)\n",
    "    data = list()\n",
    "    for file in files_list:\n",
    "        file_name = os.path.split(file)[1]\n",
    "        tmp = pd.read_csv(file, sep='\\t')\n",
    "        tmp['district'] = file_name[11:-4]\n",
    "        data.append(tmp)  \n",
    "    return pd.concat(data, axis=0)\n",
    "\n",
    "def district_monthprocess(path, ext):\n",
    "    files_list = glob.glob(path + '/*.' + ext)\n",
    "    data = list()\n",
    "    for file in files_list:\n",
    "        file_name = os.path.split(file)[1]\n",
    "        tmp = pd.read_csv(file, sep='\\t')\n",
    "        tmp['district'] = file_name[11:-4]\n",
    "        data.append(tmp)  \n",
    "    return pd.concat(data, axis=0)\n",
    "def mchgo_distmonthprocess(path, ext):\n",
    "    files_list = glob.glob(path + '/*.' + ext)\n",
    "    data = list()\n",
    "    for file in files_list:\n",
    "        file_name = os.path.split(file)[1]\n",
    "        tmp = pd.read_csv(file, sep='\\t')\n",
    "        tmp['district'] = file_name[11:-4]\n",
    "        data.append(tmp)  \n",
    "    return pd.concat(data, axis=0)\n",
    "\n",
    "def ngodistrict_monthprocess(path, ext):\n",
    "    files_list = glob.glob(path + '/*.' + ext)\n",
    "    data = list()\n",
    "    for file in files_list:\n",
    "        file_name = os.path.split(file)[1]\n",
    "        tmp = pd.read_csv(file, sep='\\t')\n",
    "        tmp['district'] = file_name[11:-4]\n",
    "        data.append(tmp)  \n",
    "    return pd.concat(data, axis=0)\n",
    "\n",
    "def distributionGO_distmonthProcess(path, ext):\n",
    "    files_list = glob.glob(path + '/*.' + ext)\n",
    "    data = list()\n",
    "    for file in files_list:\n",
    "        file_name = os.path.split(file)[1]\n",
    "        tmp = pd.read_csv(file, sep='\\t')\n",
    "        tmp['district'] = file_name[11:-4]\n",
    "        data.append(tmp)  \n",
    "    return pd.concat(data, axis=0)\n",
    "\n",
    "def district_monthprocess(path, ext):\n",
    "    files_list = glob.glob(path + '/*.' + ext)\n",
    "    data = list()\n",
    "    for file in files_list:\n",
    "        file_name = os.path.split(file)[1]\n",
    "        tmp = pd.read_csv(file, sep='\\t')\n",
    "        tmp['district'] = file_name[11:-4]\n",
    "        data.append(tmp)  \n",
    "    return pd.concat(data, axis=0)"
   ]
  },
  {
   "cell_type": "code",
   "execution_count": null,
   "metadata": {
    "collapsed": true
   },
   "outputs": [],
   "source": [
    "mchgo_distmonthprocess_data = mchgo_distmonthprocess(path='data/importance12_districts/ngodistrict_monthprocess', ext='csv')\n",
    "mchgo_distmonthprocess_data.head()"
   ]
  },
  {
   "cell_type": "code",
   "execution_count": null,
   "metadata": {
    "collapsed": true
   },
   "outputs": [],
   "source": [
    "mchgo_distmonthprocess = mchgo_distmonthprocess_import(path='data/importance12_districts/mchgo_distmonthprocess', ext='csv')\n",
    "display(mchgo_distmonthprocess)\n",
    "mchgo_distmonthprocess = mchgo_distmonthprocess_process(input_df = mchgo_distmonthprocess, time_col='monthid', geo_col='district')\n",
    "display(mchgo_distmonthprocess['year'].head())\n",
    "print(mchgo_distmonthprocess['year'].shape)\n",
    "display(mchgo_distmonthprocess['month'].head())\n",
    "print(mchgo_distmonthprocess['month'].shape)"
   ]
  },
  {
   "cell_type": "code",
   "execution_count": null,
   "metadata": {
    "collapsed": true
   },
   "outputs": [],
   "source": [
    "mchgo_distmonthprocess = mchgo_distmonthprocess_import(path='data/importance12_districts/mchgo_distmonthprocess', ext='csv')\n",
    "display(mchgo_distmonthprocess)\n",
    "mchgo_distmonthprocess = mchgo_distmonthprocess_process(input_df = mchgo_distmonthprocess, time_col='monthid', geo_col='district')\n",
    "display(mchgo_distmonthprocess['year'].head())\n",
    "print(mchgo_distmonthprocess['year'].shape)\n",
    "display(mchgo_distmonthprocess['month'].head())\n",
    "print(mchgo_distmonthprocess['month'].shape)"
   ]
  },
  {
   "cell_type": "code",
   "execution_count": null,
   "metadata": {
    "collapsed": true
   },
   "outputs": [],
   "source": [
    "mchgo_distmonthprocess_data = mchgo_distmonthprocess(path='data/importance12_districts/ngodistrict_monthprocess', ext='csv')\n",
    "mchgo_distmonthprocess_data.head()"
   ]
  },
  {
   "cell_type": "code",
   "execution_count": null,
   "metadata": {
    "collapsed": true
   },
   "outputs": [],
   "source": [
    "mchgo_distmonthprocess_data = mchgo_distmonthprocess(path='data/importance12_districts/ngodistrict_monthprocess', ext='csv')\n",
    "mchgo_distmonthprocess_data.head()"
   ]
  }
 ],
 "metadata": {
  "kernelspec": {
   "display_name": "Python 3",
   "language": "python",
   "name": "python3"
  },
  "language_info": {
   "codemirror_mode": {
    "name": "ipython",
    "version": 3
   },
   "file_extension": ".py",
   "mimetype": "text/x-python",
   "name": "python",
   "nbconvert_exporter": "python",
   "pygments_lexer": "ipython3",
   "version": "3.6.6"
  }
 },
 "nbformat": 4,
 "nbformat_minor": 2
}
