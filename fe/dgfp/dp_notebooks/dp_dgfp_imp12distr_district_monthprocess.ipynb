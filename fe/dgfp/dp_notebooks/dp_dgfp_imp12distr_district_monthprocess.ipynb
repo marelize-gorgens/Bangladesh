{
 "cells": [
  {
   "cell_type": "markdown",
   "metadata": {},
   "source": [
    "# Importance 12 Districts: district_monthprocess"
   ]
  },
  {
   "cell_type": "markdown",
   "metadata": {},
   "source": [
    "### Importance 12 Districts: district_monthprocess\n",
    "- Step 1: List all files and check if empty. Subset based on emptyness\n",
    "- Step 2: Read file and add file name, split file name to additional columns and add column with path\n",
    "- Step 3: Define variables and if necessary to calculate relative values\n",
    "- Step 4: Determine how to sumarize columns if possible to sum or average and do so\n",
    "- Step 5: Break data by years\n",
    "- Step 6: Summarize data by zilas. Keep numeric variables, division, zila and year\n",
    "- Step 7: Create file with zilas, division and \n",
    "- Step 8: Write everything to the output files"
   ]
  },
  {
   "cell_type": "markdown",
   "metadata": {},
   "source": [
    "## Paths"
   ]
  },
  {
   "cell_type": "code",
   "execution_count": 20,
   "metadata": {},
   "outputs": [],
   "source": [
    "DATA = '/Users/edinhamzic/Symphony/wb_bangladesh/Bangladesh/data/dgfp/data/importance12_districts/district_monthprocess/'\n",
    "GEO = '/Users/edinhamzic/Symphony/wb_bangladesh/Bangladesh/output/dgfp/geos/dgfp_geo.csv'\n",
    "OUT = '/Users/edinhamzic/Symphony/wb_bangladesh/Bangladesh/output/dgfp/data/'"
   ]
  },
  {
   "cell_type": "markdown",
   "metadata": {},
   "source": [
    "## Packages"
   ]
  },
  {
   "cell_type": "code",
   "execution_count": 21,
   "metadata": {},
   "outputs": [],
   "source": [
    "import os\n",
    "import re\n",
    "import sys\n",
    "import glob\n",
    "import numpy as np\n",
    "import pandas as pd"
   ]
  },
  {
   "cell_type": "markdown",
   "metadata": {},
   "source": [
    "## Custom functions"
   ]
  },
  {
   "cell_type": "code",
   "execution_count": 22,
   "metadata": {},
   "outputs": [],
   "source": [
    "def list_files(path):\n",
    "    files_list = []\n",
    "    for path, subdirs, files in os.walk(path):\n",
    "        for file in files:\n",
    "            if bool(re.search(pattern=r'.csv', string=file)):\n",
    "                files_list.append(os.path.join(path, file))\n",
    "    return files_list\n",
    "    \n",
    "def read_arrange_files(files_list):\n",
    "    data_list = {}\n",
    "    log_columns = ['empty', 'full_name_path', 'file_name1', 'file_name2',\n",
    "                   'year', 'month', 'upazila', 'division', 'upazila_full']\n",
    "    log_array = []\n",
    "    for file in files_list:\n",
    "        tmp = pd.read_csv(file, sep='\\t', skiprows=1)\n",
    "        tmp['Month'] = tmp['MonthYear'].str.split(pat=\" \", expand=True)[0]\n",
    "        tmp['Year'] = tmp['MonthYear'].str.split(pat=\" \", expand=True)[1]\n",
    "        log_list = []\n",
    "        log_list.append(tmp.empty)\n",
    "        if tmp.empty:\n",
    "            log_list.append(file)\n",
    "            log_list.append(os.path.split(file)[1])\n",
    "            name = os.path.split(file)[1]\n",
    "            name = name.replace(\".csv\", \"\")\n",
    "            log_list.append(name)\n",
    "            name_split = name.split(\"-\")\n",
    "            log_list.append(name_split[0])\n",
    "            log_list.append(name_split[1])\n",
    "            log_list.append(name_split[3])\n",
    "            log_list.append(name_split[4])\n",
    "            log_list.append(name_split[4]+name_split[3])\n",
    "        else:\n",
    "            tmp['full_name_path'] = file\n",
    "            log_list.append(file)\n",
    "            tmp['file_name1'] = os.path.split(file)[1]\n",
    "            log_list.append(os.path.split(file)[1])\n",
    "            name = os.path.split(file)[1]\n",
    "            name = name.replace(\".csv\", \"\")\n",
    "            tmp['file_name2'] = name\n",
    "            log_list.append(name)\n",
    "            name_split = name.split(\"-\")\n",
    "            tmp['year'] = int(name_split[0])\n",
    "            log_list.append(name_split[0])\n",
    "            tmp['month'] = int(name_split[1])\n",
    "            log_list.append(name_split[1])\n",
    "            tmp['upazila'] = name_split[3]\n",
    "            log_list.append(name_split[3])\n",
    "            tmp['division'] = name_split[4]\n",
    "            log_list.append(name_split[4])\n",
    "            tmp['upazila_full'] = name_split[4]+name_split[3]\n",
    "            log_list.append(name_split[4]+name_split[3])\n",
    "            data_list[name] = tmp\n",
    "        log_array.append(log_list)\n",
    "    return data_list, pd.DataFrame(log_array, columns=log_columns)\n",
    "\n",
    "def concat_data(ddict):\n",
    "    out_list = []\n",
    "    for key, value in ddict.items():\n",
    "        out_list.append(value)\n",
    "    df = pd.concat(out_list, axis=0)\n",
    "    return df\n",
    "\n",
    "def break_by_years(input_df, year_var):\n",
    "    df = input_df.copy(deep=True)\n",
    "    out_dict = {}\n",
    "    for year in df[year_var].unique():\n",
    "        out_dict[str(year)] = df[df[year_var] == year]\n",
    "    return out_dict\n",
    "\n",
    "def summarize_zilas(data_dict):\n",
    "    out_dict = {}\n",
    "    for key, value in data_dict.items():\n",
    "        tmp = value.copy(deep=True)\n",
    "        subset_vars = ['upazila', 'division', 'EC', 'Pill', 'Con', 'Inj', 'IUD',\n",
    "                       'Imp','PerM', 'PerF', 'TPer', 'TUser']\n",
    "        tmp = tmp[subset_vars]\n",
    "        tmp = tmp.groupby('upazila').sum()\n",
    "        tmp = tmp.reset_index()\n",
    "        out_dict[key] = tmp\n",
    "    return out_dict\n",
    "\n",
    "def calculate_indicators(data_dict):\n",
    "    out_dict = {}\n",
    "    for key, value in data_dict.items():\n",
    "        tmp = value.copy(deep=True)\n",
    "        tmp['Imp12DistrMonthThana_Percent_Pill'] = np.round(tmp['Pill']/tmp['TUser']*100, 2)\n",
    "        tmp['Imp12DistrMonthThana_Percent_Condom'] = np.round(tmp['Con']/tmp['TUser']*100, 2)\n",
    "        tmp['Imp12DistrMonthThana_Percent_Injectable'] = np.round(tmp['Inj']/tmp['TUser']*100, 2)\n",
    "        tmp['Imp12DistrMonthThana_Percent_IUD'] = np.round(tmp['IUD']/tmp['TUser']*100, 2)\n",
    "        tmp['Imp12DistrMonthThana_Percent_Implant'] = np.round(tmp['Imp']/tmp['TUser']*100, 2)\n",
    "        tmp['Imp12DistrMonthThana_Percent_PerMale'] = np.round(tmp['PerM']/tmp['TUser']*100, 2)\n",
    "        tmp['Imp12DistrMonthThana_Percent_PerFemale'] = np.round(tmp['PerF']/tmp['TUser']*100, 2)\n",
    "        tmp['Imp12DistrMonthThana_CAR'] = np.round(tmp['TUser']/tmp['EC']*100, 2)\n",
    "        tmp = tmp[['upazila', 'Imp12DistrMonthThana_Percent_Pill', 'Imp12DistrMonthThana_Percent_Condom',\n",
    "                   'Imp12DistrMonthThana_Percent_Injectable','Imp12DistrMonthThana_Percent_IUD',\n",
    "                   'Imp12DistrMonthThana_Percent_Implant', 'Imp12DistrMonthThana_Percent_PerMale',\n",
    "                   'Imp12DistrMonthThana_Percent_PerFemale', 'Imp12DistrMonthThana_CAR',]]\n",
    "        out_dict[key] = tmp\n",
    "    return out_dict\n",
    "\n",
    "\n",
    "def update_geos(datad, geo_df):\n",
    "    out = {}\n",
    "    for key, value in datad.items():\n",
    "        tmp = geo_df.merge(value, how='left', left_on='upazila_dgfp', right_on='upazila')\n",
    "        out[key] = tmp\n",
    "    return out\n",
    "\n",
    "\n",
    "def clean_up(data_dict):\n",
    "    out = {}\n",
    "    for key, value in data_dict.items():\n",
    "        tmp = value\n",
    "        tmp['geo'] = tmp['division_geo'].str.cat(tmp['zila_geo'], sep=\"\")\n",
    "        tmp = value.drop(['upazila_dgfp', 'division_dgfp', 'upazila_full_dgfp', 'division_geo',\n",
    "                          'division', 'zila_geo','zila','upazila'], axis=1)\n",
    "        out[key] = tmp\n",
    "    return out"
   ]
  },
  {
   "cell_type": "markdown",
   "metadata": {},
   "source": [
    "## Data reading and processing "
   ]
  },
  {
   "cell_type": "markdown",
   "metadata": {},
   "source": [
    "- Variables:\n",
    "    - Dist_Name: District\n",
    "    - MonthYear: Month & Year\n",
    "    - EC: Eligible Couple_Eligible Couple\n",
    "    - Pill: Oral Pill_Oral Pill\n",
    "    - Con: Condom_Condom\n",
    "    - Inj: Injectable_Injectable\n",
    "    - IUD: Intra-uterine device\n",
    "    - Imp: Implant_Implant\n",
    "    - PerM:\tPermanent Method_Male\n",
    "    - PerF:\tPermanent Method_Female\n",
    "    - TPer:\tPermanent Method_Total\n",
    "    - TUser: Total Acceptors_Total Acceptors\n",
    "    - CAR: CAR(%)_CAR(%)\n",
    "    - Unnamed: 13:\tUnnamed\n",
    "    - full_name_path: Full path name\n",
    "    - file_name1: File name with extension\n",
    "    - file_name2: File name without extension\n",
    "    - year: Year\n",
    "    - month: Month\n",
    "    - upazila: Upazila\n",
    "    - division: Division\n",
    "    - upazila_full: Upazila full geo code\n",
    "- Indicators:\n",
    "    - Imp12DistrMonthThana_Percent_Pill = Pill/TUser\n",
    "    - Imp12DistrMonthThana_Percent_Condom = Con/TUser\n",
    "    - Imp12DistrMonthThana_Percent_Injectable = Inj/TUser\n",
    "    - Imp12DistrMonthThana_Percent_IUD = IUD/TUser\n",
    "    - Imp12DistrMonthThana_Percent_Implant = Imp/TUser\n",
    "    - Imp12DistrMonthThana_Percent_PerMale = PerM/Tpermanent\n",
    "    - Imp12DistrMonthThana_Percent_PerFemale = PerF/Tpermanent\n",
    "    - Imp12DistrMonthThana_CAR = TUser/EC"
   ]
  },
  {
   "cell_type": "code",
   "execution_count": 23,
   "metadata": {},
   "outputs": [],
   "source": [
    "files = list_files(path=DATA) \n",
    "data, log = read_arrange_files(files_list=files)"
   ]
  },
  {
   "cell_type": "code",
   "execution_count": 24,
   "metadata": {},
   "outputs": [
    {
     "name": "stdout",
     "output_type": "stream",
     "text": [
      "Index(['Dist_Name', 'MonthYear', 'EC', 'Pill', 'Con', 'Inj', 'IUD', 'Imp',\n",
      "       'PerM', 'PerF', 'TPer', 'TUser', 'CAR', 'Unnamed: 13', 'Month', 'Year',\n",
      "       'full_name_path', 'file_name1', 'file_name2', 'year', 'month',\n",
      "       'upazila', 'division', 'upazila_full'],\n",
      "      dtype='object')\n"
     ]
    },
    {
     "data": {
      "text/html": [
       "<div>\n",
       "<style scoped>\n",
       "    .dataframe tbody tr th:only-of-type {\n",
       "        vertical-align: middle;\n",
       "    }\n",
       "\n",
       "    .dataframe tbody tr th {\n",
       "        vertical-align: top;\n",
       "    }\n",
       "\n",
       "    .dataframe thead th {\n",
       "        text-align: right;\n",
       "    }\n",
       "</style>\n",
       "<table border=\"1\" class=\"dataframe\">\n",
       "  <thead>\n",
       "    <tr style=\"text-align: right;\">\n",
       "      <th></th>\n",
       "      <th>Dist_Name</th>\n",
       "      <th>MonthYear</th>\n",
       "      <th>EC</th>\n",
       "      <th>Pill</th>\n",
       "      <th>Con</th>\n",
       "      <th>Inj</th>\n",
       "      <th>IUD</th>\n",
       "      <th>Imp</th>\n",
       "      <th>PerM</th>\n",
       "      <th>PerF</th>\n",
       "      <th>...</th>\n",
       "      <th>Month</th>\n",
       "      <th>Year</th>\n",
       "      <th>full_name_path</th>\n",
       "      <th>file_name1</th>\n",
       "      <th>file_name2</th>\n",
       "      <th>year</th>\n",
       "      <th>month</th>\n",
       "      <th>upazila</th>\n",
       "      <th>division</th>\n",
       "      <th>upazila_full</th>\n",
       "    </tr>\n",
       "  </thead>\n",
       "  <tbody>\n",
       "    <tr>\n",
       "      <th>0</th>\n",
       "      <td>Bhola</td>\n",
       "      <td>January 2007</td>\n",
       "      <td>2222</td>\n",
       "      <td>4</td>\n",
       "      <td>5</td>\n",
       "      <td>10</td>\n",
       "      <td>3</td>\n",
       "      <td>7</td>\n",
       "      <td>4</td>\n",
       "      <td>4</td>\n",
       "      <td>...</td>\n",
       "      <td>January</td>\n",
       "      <td>2007</td>\n",
       "      <td>/Users/edinhamzic/Symphony/wb_bangladesh/Bangl...</td>\n",
       "      <td>2018-12-28-0305-03.csv</td>\n",
       "      <td>2018-12-28-0305-03</td>\n",
       "      <td>2018</td>\n",
       "      <td>12</td>\n",
       "      <td>0305</td>\n",
       "      <td>03</td>\n",
       "      <td>030305</td>\n",
       "    </tr>\n",
       "    <tr>\n",
       "      <th>1</th>\n",
       "      <td>Bhola</td>\n",
       "      <td>July 2007</td>\n",
       "      <td>317570</td>\n",
       "      <td>116039</td>\n",
       "      <td>8577</td>\n",
       "      <td>51228</td>\n",
       "      <td>7486</td>\n",
       "      <td>4885</td>\n",
       "      <td>3877</td>\n",
       "      <td>10861</td>\n",
       "      <td>...</td>\n",
       "      <td>July</td>\n",
       "      <td>2007</td>\n",
       "      <td>/Users/edinhamzic/Symphony/wb_bangladesh/Bangl...</td>\n",
       "      <td>2018-12-28-0305-03.csv</td>\n",
       "      <td>2018-12-28-0305-03</td>\n",
       "      <td>2018</td>\n",
       "      <td>12</td>\n",
       "      <td>0305</td>\n",
       "      <td>03</td>\n",
       "      <td>030305</td>\n",
       "    </tr>\n",
       "    <tr>\n",
       "      <th>2</th>\n",
       "      <td>Bhola</td>\n",
       "      <td>August 2007</td>\n",
       "      <td>318611</td>\n",
       "      <td>115697</td>\n",
       "      <td>8083</td>\n",
       "      <td>54104</td>\n",
       "      <td>6476</td>\n",
       "      <td>4883</td>\n",
       "      <td>3900</td>\n",
       "      <td>10891</td>\n",
       "      <td>...</td>\n",
       "      <td>August</td>\n",
       "      <td>2007</td>\n",
       "      <td>/Users/edinhamzic/Symphony/wb_bangladesh/Bangl...</td>\n",
       "      <td>2018-12-28-0305-03.csv</td>\n",
       "      <td>2018-12-28-0305-03</td>\n",
       "      <td>2018</td>\n",
       "      <td>12</td>\n",
       "      <td>0305</td>\n",
       "      <td>03</td>\n",
       "      <td>030305</td>\n",
       "    </tr>\n",
       "    <tr>\n",
       "      <th>3</th>\n",
       "      <td>Bhola</td>\n",
       "      <td>September 2007</td>\n",
       "      <td>316764</td>\n",
       "      <td>113577</td>\n",
       "      <td>8170</td>\n",
       "      <td>55810</td>\n",
       "      <td>6428</td>\n",
       "      <td>4861</td>\n",
       "      <td>4001</td>\n",
       "      <td>10917</td>\n",
       "      <td>...</td>\n",
       "      <td>September</td>\n",
       "      <td>2007</td>\n",
       "      <td>/Users/edinhamzic/Symphony/wb_bangladesh/Bangl...</td>\n",
       "      <td>2018-12-28-0305-03.csv</td>\n",
       "      <td>2018-12-28-0305-03</td>\n",
       "      <td>2018</td>\n",
       "      <td>12</td>\n",
       "      <td>0305</td>\n",
       "      <td>03</td>\n",
       "      <td>030305</td>\n",
       "    </tr>\n",
       "    <tr>\n",
       "      <th>4</th>\n",
       "      <td>Bhola</td>\n",
       "      <td>October 2007</td>\n",
       "      <td>319189</td>\n",
       "      <td>113131</td>\n",
       "      <td>7611</td>\n",
       "      <td>57210</td>\n",
       "      <td>6362</td>\n",
       "      <td>4841</td>\n",
       "      <td>4040</td>\n",
       "      <td>10945</td>\n",
       "      <td>...</td>\n",
       "      <td>October</td>\n",
       "      <td>2007</td>\n",
       "      <td>/Users/edinhamzic/Symphony/wb_bangladesh/Bangl...</td>\n",
       "      <td>2018-12-28-0305-03.csv</td>\n",
       "      <td>2018-12-28-0305-03</td>\n",
       "      <td>2018</td>\n",
       "      <td>12</td>\n",
       "      <td>0305</td>\n",
       "      <td>03</td>\n",
       "      <td>030305</td>\n",
       "    </tr>\n",
       "  </tbody>\n",
       "</table>\n",
       "<p>5 rows × 24 columns</p>\n",
       "</div>"
      ],
      "text/plain": [
       "  Dist_Name       MonthYear      EC    Pill   Con    Inj   IUD   Imp  PerM  \\\n",
       "0     Bhola    January 2007    2222       4     5     10     3     7     4   \n",
       "1     Bhola       July 2007  317570  116039  8577  51228  7486  4885  3877   \n",
       "2     Bhola     August 2007  318611  115697  8083  54104  6476  4883  3900   \n",
       "3     Bhola  September 2007  316764  113577  8170  55810  6428  4861  4001   \n",
       "4     Bhola    October 2007  319189  113131  7611  57210  6362  4841  4040   \n",
       "\n",
       "    PerF  ...      Month  Year  \\\n",
       "0      4  ...    January  2007   \n",
       "1  10861  ...       July  2007   \n",
       "2  10891  ...     August  2007   \n",
       "3  10917  ...  September  2007   \n",
       "4  10945  ...    October  2007   \n",
       "\n",
       "                                      full_name_path              file_name1  \\\n",
       "0  /Users/edinhamzic/Symphony/wb_bangladesh/Bangl...  2018-12-28-0305-03.csv   \n",
       "1  /Users/edinhamzic/Symphony/wb_bangladesh/Bangl...  2018-12-28-0305-03.csv   \n",
       "2  /Users/edinhamzic/Symphony/wb_bangladesh/Bangl...  2018-12-28-0305-03.csv   \n",
       "3  /Users/edinhamzic/Symphony/wb_bangladesh/Bangl...  2018-12-28-0305-03.csv   \n",
       "4  /Users/edinhamzic/Symphony/wb_bangladesh/Bangl...  2018-12-28-0305-03.csv   \n",
       "\n",
       "           file_name2  year month upazila division  upazila_full  \n",
       "0  2018-12-28-0305-03  2018    12    0305       03        030305  \n",
       "1  2018-12-28-0305-03  2018    12    0305       03        030305  \n",
       "2  2018-12-28-0305-03  2018    12    0305       03        030305  \n",
       "3  2018-12-28-0305-03  2018    12    0305       03        030305  \n",
       "4  2018-12-28-0305-03  2018    12    0305       03        030305  \n",
       "\n",
       "[5 rows x 24 columns]"
      ]
     },
     "execution_count": 24,
     "metadata": {},
     "output_type": "execute_result"
    }
   ],
   "source": [
    "print(data['2018-12-28-0305-03'].columns)\n",
    "data['2018-12-28-0305-03'].head()"
   ]
  },
  {
   "cell_type": "markdown",
   "metadata": {},
   "source": [
    "### Log data"
   ]
  },
  {
   "cell_type": "code",
   "execution_count": 25,
   "metadata": {},
   "outputs": [
    {
     "data": {
      "text/html": [
       "<div>\n",
       "<style scoped>\n",
       "    .dataframe tbody tr th:only-of-type {\n",
       "        vertical-align: middle;\n",
       "    }\n",
       "\n",
       "    .dataframe tbody tr th {\n",
       "        vertical-align: top;\n",
       "    }\n",
       "\n",
       "    .dataframe thead th {\n",
       "        text-align: right;\n",
       "    }\n",
       "</style>\n",
       "<table border=\"1\" class=\"dataframe\">\n",
       "  <thead>\n",
       "    <tr style=\"text-align: right;\">\n",
       "      <th></th>\n",
       "      <th>empty</th>\n",
       "      <th>full_name_path</th>\n",
       "      <th>file_name1</th>\n",
       "      <th>file_name2</th>\n",
       "      <th>year</th>\n",
       "      <th>month</th>\n",
       "      <th>upazila</th>\n",
       "      <th>division</th>\n",
       "      <th>upazila_full</th>\n",
       "    </tr>\n",
       "  </thead>\n",
       "  <tbody>\n",
       "  </tbody>\n",
       "</table>\n",
       "</div>"
      ],
      "text/plain": [
       "Empty DataFrame\n",
       "Columns: [empty, full_name_path, file_name1, file_name2, year, month, upazila, division, upazila_full]\n",
       "Index: []"
      ]
     },
     "metadata": {},
     "output_type": "display_data"
    }
   ],
   "source": [
    "log['empty'].value_counts()\n",
    "log_true = log[log['empty'] == True]\n",
    "display(log_true.head())"
   ]
  },
  {
   "cell_type": "markdown",
   "metadata": {},
   "source": [
    "## Missing data by years"
   ]
  },
  {
   "cell_type": "code",
   "execution_count": 26,
   "metadata": {},
   "outputs": [
    {
     "name": "stdout",
     "output_type": "stream",
     "text": [
      "Series([], Name: year, dtype: int64)\n"
     ]
    }
   ],
   "source": [
    "print(log_true['year'].value_counts())"
   ]
  },
  {
   "cell_type": "markdown",
   "metadata": {},
   "source": [
    "## Missing data by months"
   ]
  },
  {
   "cell_type": "code",
   "execution_count": 27,
   "metadata": {},
   "outputs": [
    {
     "name": "stdout",
     "output_type": "stream",
     "text": [
      "Series([], Name: month, dtype: int64)\n"
     ]
    }
   ],
   "source": [
    "print(log_true['month'].value_counts())"
   ]
  },
  {
   "cell_type": "markdown",
   "metadata": {},
   "source": [
    "## Missing data by divisions"
   ]
  },
  {
   "cell_type": "code",
   "execution_count": 28,
   "metadata": {},
   "outputs": [
    {
     "name": "stdout",
     "output_type": "stream",
     "text": [
      "Series([], Name: division, dtype: int64)\n"
     ]
    }
   ],
   "source": [
    "print(log_true['division'].value_counts())"
   ]
  },
  {
   "cell_type": "code",
   "execution_count": 29,
   "metadata": {},
   "outputs": [
    {
     "name": "stdout",
     "output_type": "stream",
     "text": [
      "(8698, 24)\n"
     ]
    }
   ],
   "source": [
    "data_df = concat_data(ddict=data)\n",
    "print(data_df.shape)"
   ]
  },
  {
   "cell_type": "code",
   "execution_count": 30,
   "metadata": {
    "scrolled": true
   },
   "outputs": [
    {
     "data": {
      "text/html": [
       "<div>\n",
       "<style scoped>\n",
       "    .dataframe tbody tr th:only-of-type {\n",
       "        vertical-align: middle;\n",
       "    }\n",
       "\n",
       "    .dataframe tbody tr th {\n",
       "        vertical-align: top;\n",
       "    }\n",
       "\n",
       "    .dataframe thead th {\n",
       "        text-align: right;\n",
       "    }\n",
       "</style>\n",
       "<table border=\"1\" class=\"dataframe\">\n",
       "  <thead>\n",
       "    <tr style=\"text-align: right;\">\n",
       "      <th></th>\n",
       "      <th>Dist_Name</th>\n",
       "      <th>MonthYear</th>\n",
       "      <th>EC</th>\n",
       "      <th>Pill</th>\n",
       "      <th>Con</th>\n",
       "      <th>Inj</th>\n",
       "      <th>IUD</th>\n",
       "      <th>Imp</th>\n",
       "      <th>PerM</th>\n",
       "      <th>PerF</th>\n",
       "      <th>...</th>\n",
       "      <th>Month</th>\n",
       "      <th>Year</th>\n",
       "      <th>full_name_path</th>\n",
       "      <th>file_name1</th>\n",
       "      <th>file_name2</th>\n",
       "      <th>year</th>\n",
       "      <th>month</th>\n",
       "      <th>upazila</th>\n",
       "      <th>division</th>\n",
       "      <th>upazila_full</th>\n",
       "    </tr>\n",
       "  </thead>\n",
       "  <tbody>\n",
       "    <tr>\n",
       "      <th>0</th>\n",
       "      <td>Bhola</td>\n",
       "      <td>January 2007</td>\n",
       "      <td>2222</td>\n",
       "      <td>4</td>\n",
       "      <td>5</td>\n",
       "      <td>10</td>\n",
       "      <td>3</td>\n",
       "      <td>7</td>\n",
       "      <td>4</td>\n",
       "      <td>4</td>\n",
       "      <td>...</td>\n",
       "      <td>January</td>\n",
       "      <td>2007</td>\n",
       "      <td>/Users/edinhamzic/Symphony/wb_bangladesh/Bangl...</td>\n",
       "      <td>2018-12-28-0305-03.csv</td>\n",
       "      <td>2018-12-28-0305-03</td>\n",
       "      <td>2018</td>\n",
       "      <td>12</td>\n",
       "      <td>0305</td>\n",
       "      <td>03</td>\n",
       "      <td>030305</td>\n",
       "    </tr>\n",
       "    <tr>\n",
       "      <th>1</th>\n",
       "      <td>Bhola</td>\n",
       "      <td>July 2007</td>\n",
       "      <td>317570</td>\n",
       "      <td>116039</td>\n",
       "      <td>8577</td>\n",
       "      <td>51228</td>\n",
       "      <td>7486</td>\n",
       "      <td>4885</td>\n",
       "      <td>3877</td>\n",
       "      <td>10861</td>\n",
       "      <td>...</td>\n",
       "      <td>July</td>\n",
       "      <td>2007</td>\n",
       "      <td>/Users/edinhamzic/Symphony/wb_bangladesh/Bangl...</td>\n",
       "      <td>2018-12-28-0305-03.csv</td>\n",
       "      <td>2018-12-28-0305-03</td>\n",
       "      <td>2018</td>\n",
       "      <td>12</td>\n",
       "      <td>0305</td>\n",
       "      <td>03</td>\n",
       "      <td>030305</td>\n",
       "    </tr>\n",
       "    <tr>\n",
       "      <th>2</th>\n",
       "      <td>Bhola</td>\n",
       "      <td>August 2007</td>\n",
       "      <td>318611</td>\n",
       "      <td>115697</td>\n",
       "      <td>8083</td>\n",
       "      <td>54104</td>\n",
       "      <td>6476</td>\n",
       "      <td>4883</td>\n",
       "      <td>3900</td>\n",
       "      <td>10891</td>\n",
       "      <td>...</td>\n",
       "      <td>August</td>\n",
       "      <td>2007</td>\n",
       "      <td>/Users/edinhamzic/Symphony/wb_bangladesh/Bangl...</td>\n",
       "      <td>2018-12-28-0305-03.csv</td>\n",
       "      <td>2018-12-28-0305-03</td>\n",
       "      <td>2018</td>\n",
       "      <td>12</td>\n",
       "      <td>0305</td>\n",
       "      <td>03</td>\n",
       "      <td>030305</td>\n",
       "    </tr>\n",
       "    <tr>\n",
       "      <th>3</th>\n",
       "      <td>Bhola</td>\n",
       "      <td>September 2007</td>\n",
       "      <td>316764</td>\n",
       "      <td>113577</td>\n",
       "      <td>8170</td>\n",
       "      <td>55810</td>\n",
       "      <td>6428</td>\n",
       "      <td>4861</td>\n",
       "      <td>4001</td>\n",
       "      <td>10917</td>\n",
       "      <td>...</td>\n",
       "      <td>September</td>\n",
       "      <td>2007</td>\n",
       "      <td>/Users/edinhamzic/Symphony/wb_bangladesh/Bangl...</td>\n",
       "      <td>2018-12-28-0305-03.csv</td>\n",
       "      <td>2018-12-28-0305-03</td>\n",
       "      <td>2018</td>\n",
       "      <td>12</td>\n",
       "      <td>0305</td>\n",
       "      <td>03</td>\n",
       "      <td>030305</td>\n",
       "    </tr>\n",
       "    <tr>\n",
       "      <th>4</th>\n",
       "      <td>Bhola</td>\n",
       "      <td>October 2007</td>\n",
       "      <td>319189</td>\n",
       "      <td>113131</td>\n",
       "      <td>7611</td>\n",
       "      <td>57210</td>\n",
       "      <td>6362</td>\n",
       "      <td>4841</td>\n",
       "      <td>4040</td>\n",
       "      <td>10945</td>\n",
       "      <td>...</td>\n",
       "      <td>October</td>\n",
       "      <td>2007</td>\n",
       "      <td>/Users/edinhamzic/Symphony/wb_bangladesh/Bangl...</td>\n",
       "      <td>2018-12-28-0305-03.csv</td>\n",
       "      <td>2018-12-28-0305-03</td>\n",
       "      <td>2018</td>\n",
       "      <td>12</td>\n",
       "      <td>0305</td>\n",
       "      <td>03</td>\n",
       "      <td>030305</td>\n",
       "    </tr>\n",
       "  </tbody>\n",
       "</table>\n",
       "<p>5 rows × 24 columns</p>\n",
       "</div>"
      ],
      "text/plain": [
       "  Dist_Name       MonthYear      EC    Pill   Con    Inj   IUD   Imp  PerM  \\\n",
       "0     Bhola    January 2007    2222       4     5     10     3     7     4   \n",
       "1     Bhola       July 2007  317570  116039  8577  51228  7486  4885  3877   \n",
       "2     Bhola     August 2007  318611  115697  8083  54104  6476  4883  3900   \n",
       "3     Bhola  September 2007  316764  113577  8170  55810  6428  4861  4001   \n",
       "4     Bhola    October 2007  319189  113131  7611  57210  6362  4841  4040   \n",
       "\n",
       "    PerF  ...      Month  Year  \\\n",
       "0      4  ...    January  2007   \n",
       "1  10861  ...       July  2007   \n",
       "2  10891  ...     August  2007   \n",
       "3  10917  ...  September  2007   \n",
       "4  10945  ...    October  2007   \n",
       "\n",
       "                                      full_name_path              file_name1  \\\n",
       "0  /Users/edinhamzic/Symphony/wb_bangladesh/Bangl...  2018-12-28-0305-03.csv   \n",
       "1  /Users/edinhamzic/Symphony/wb_bangladesh/Bangl...  2018-12-28-0305-03.csv   \n",
       "2  /Users/edinhamzic/Symphony/wb_bangladesh/Bangl...  2018-12-28-0305-03.csv   \n",
       "3  /Users/edinhamzic/Symphony/wb_bangladesh/Bangl...  2018-12-28-0305-03.csv   \n",
       "4  /Users/edinhamzic/Symphony/wb_bangladesh/Bangl...  2018-12-28-0305-03.csv   \n",
       "\n",
       "           file_name2  year month upazila division  upazila_full  \n",
       "0  2018-12-28-0305-03  2018    12    0305       03        030305  \n",
       "1  2018-12-28-0305-03  2018    12    0305       03        030305  \n",
       "2  2018-12-28-0305-03  2018    12    0305       03        030305  \n",
       "3  2018-12-28-0305-03  2018    12    0305       03        030305  \n",
       "4  2018-12-28-0305-03  2018    12    0305       03        030305  \n",
       "\n",
       "[5 rows x 24 columns]"
      ]
     },
     "metadata": {},
     "output_type": "display_data"
    },
    {
     "data": {
      "text/plain": [
       "Index(['Dist_Name', 'MonthYear', 'EC', 'Pill', 'Con', 'Inj', 'IUD', 'Imp',\n",
       "       'PerM', 'PerF', 'TPer', 'TUser', 'CAR', 'Unnamed: 13', 'Month', 'Year',\n",
       "       'full_name_path', 'file_name1', 'file_name2', 'year', 'month',\n",
       "       'upazila', 'division', 'upazila_full'],\n",
       "      dtype='object')"
      ]
     },
     "execution_count": 30,
     "metadata": {},
     "output_type": "execute_result"
    }
   ],
   "source": [
    "display(data_df.head())\n",
    "data_df.columns"
   ]
  },
  {
   "cell_type": "markdown",
   "metadata": {},
   "source": [
    "## Break data by years"
   ]
  },
  {
   "cell_type": "code",
   "execution_count": 31,
   "metadata": {},
   "outputs": [
    {
     "data": {
      "text/plain": [
       "dict_keys(['2007', '2008', '2009', '2010', '2011', '2012', '2013', '2014', '2015', '2016', '2017', '2018'])"
      ]
     },
     "execution_count": 31,
     "metadata": {},
     "output_type": "execute_result"
    }
   ],
   "source": [
    "datad = break_by_years(input_df=data_df, year_var='Year')\n",
    "datad.keys()"
   ]
  },
  {
   "cell_type": "markdown",
   "metadata": {},
   "source": [
    "## Summarize data "
   ]
  },
  {
   "cell_type": "code",
   "execution_count": 32,
   "metadata": {},
   "outputs": [],
   "source": [
    "data = summarize_zilas(data_dict=datad)"
   ]
  },
  {
   "cell_type": "code",
   "execution_count": 33,
   "metadata": {},
   "outputs": [
    {
     "name": "stdout",
     "output_type": "stream",
     "text": [
      "2007\n",
      "(64, 9)\n",
      "2008\n",
      "(64, 9)\n",
      "2009\n",
      "(64, 9)\n",
      "2010\n",
      "(64, 9)\n",
      "2011\n",
      "(64, 9)\n",
      "2012\n",
      "(64, 9)\n",
      "2013\n",
      "(64, 9)\n",
      "2014\n",
      "(64, 9)\n",
      "2015\n",
      "(64, 9)\n",
      "2016\n",
      "(64, 9)\n",
      "2017\n",
      "(64, 9)\n",
      "2018\n",
      "(64, 9)\n"
     ]
    }
   ],
   "source": [
    "data = calculate_indicators(data_dict=data)\n",
    "for key, value in data.items():\n",
    "    print(key)\n",
    "    print(value.shape)"
   ]
  },
  {
   "cell_type": "markdown",
   "metadata": {},
   "source": [
    "## Read geographies"
   ]
  },
  {
   "cell_type": "code",
   "execution_count": 34,
   "metadata": {},
   "outputs": [
    {
     "name": "stdout",
     "output_type": "stream",
     "text": [
      "(29260, 7)\n",
      "(64, 7)\n"
     ]
    }
   ],
   "source": [
    "dgfp_geo = pd.read_csv(GEO)\n",
    "dgfp_geo['upazila_dgfp'] = dgfp_geo['upazila_dgfp'].astype(str).str.pad(width=4, side='left', fillchar='0')\n",
    "dgfp_geo['division_dgfp'] = dgfp_geo['division_dgfp'].astype(str).str.pad(width=2, side='left', fillchar='0')\n",
    "dgfp_geo['upazila_full_dgfp'] = dgfp_geo['upazila_full_dgfp'].astype(str).str.pad(width=6, side='left', fillchar='0')\n",
    "dgfp_geo['division_geo'] = dgfp_geo['division_geo'].astype(str).str.pad(width=2, side='left', fillchar='0')\n",
    "dgfp_geo['zila_geo'] = dgfp_geo['zila_geo'].astype(str).str.pad(width=2, side='left', fillchar='0')\n",
    "dgfp_geo = dgfp_geo.drop(['thana_dgfp', 'Unnamed: 8'], axis=1)\n",
    "print(dgfp_geo.shape)\n",
    "dgfp_geo.head()\n",
    "dgfp_geo = dgfp_geo.drop_duplicates()\n",
    "print(dgfp_geo.shape)"
   ]
  },
  {
   "cell_type": "markdown",
   "metadata": {},
   "source": [
    "## Update geographies"
   ]
  },
  {
   "cell_type": "code",
   "execution_count": 35,
   "metadata": {},
   "outputs": [],
   "source": [
    "data = update_geos(datad=data, geo_df=dgfp_geo)"
   ]
  },
  {
   "cell_type": "markdown",
   "metadata": {},
   "source": [
    "## Clean up before writing data"
   ]
  },
  {
   "cell_type": "code",
   "execution_count": 36,
   "metadata": {},
   "outputs": [],
   "source": [
    "data = clean_up(data_dict=data)"
   ]
  },
  {
   "cell_type": "code",
   "execution_count": 37,
   "metadata": {},
   "outputs": [
    {
     "data": {
      "text/plain": [
       "Index(['Imp12DistrMonthThana_Percent_Pill',\n",
       "       'Imp12DistrMonthThana_Percent_Condom',\n",
       "       'Imp12DistrMonthThana_Percent_Injectable',\n",
       "       'Imp12DistrMonthThana_Percent_IUD',\n",
       "       'Imp12DistrMonthThana_Percent_Implant',\n",
       "       'Imp12DistrMonthThana_Percent_PerMale',\n",
       "       'Imp12DistrMonthThana_Percent_PerFemale', 'Imp12DistrMonthThana_CAR',\n",
       "       'geo'],\n",
       "      dtype='object')"
      ]
     },
     "execution_count": 37,
     "metadata": {},
     "output_type": "execute_result"
    }
   ],
   "source": [
    "data['2007'].keys()"
   ]
  },
  {
   "cell_type": "markdown",
   "metadata": {},
   "source": [
    "## Writing data"
   ]
  },
  {
   "cell_type": "code",
   "execution_count": 38,
   "metadata": {},
   "outputs": [],
   "source": [
    "def write_out(data_dict, out_dir):\n",
    "    out = {}\n",
    "    for key, value in data_dict.items():\n",
    "        var_names = [\"imp12distr_monthprocess\" + var if var != 'geo' else var for var in value.columns]\n",
    "        value.columns = var_names\n",
    "        value.to_csv(path_or_buf=os.path.join(out_dir, \"data_dgfp_imp12distr_district_monthprocess_\" + str(key) + \".csv\"), \n",
    "                    index=False, index_label=False)\n",
    "write_out(data_dict=data, out_dir=OUT)"
   ]
  }
 ],
 "metadata": {
  "kernelspec": {
   "display_name": "Python 3",
   "language": "python",
   "name": "python3"
  },
  "language_info": {
   "codemirror_mode": {
    "name": "ipython",
    "version": 3
   },
   "file_extension": ".py",
   "mimetype": "text/x-python",
   "name": "python",
   "nbconvert_exporter": "python",
   "pygments_lexer": "ipython3",
   "version": "3.7.2"
  }
 },
 "nbformat": 4,
 "nbformat_minor": 2
}
