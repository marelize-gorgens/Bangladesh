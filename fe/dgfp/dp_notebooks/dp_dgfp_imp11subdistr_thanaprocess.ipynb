{
 "cells": [
  {
   "cell_type": "markdown",
   "metadata": {},
   "source": [
    "# Importance 11 Subdistricts: thana_process"
   ]
  },
  {
   "cell_type": "markdown",
   "metadata": {},
   "source": [
    "### Importance11 Subdistricts: thana_process\n",
    "- DONE: Step 1: List all files and check if empty. Subset based on emptyness\n",
    "- DONE: Step 2: Read file and add file name, split file name to additional columns and add column with path\n",
    "- DONE: Step 3: Define variables and if necessary to calculate relative values\n",
    "- DONE: Step 4: Determine how to sumarize columns if possible to sum or average and do so\n",
    "- DONE: Step 5: Break data by years\n",
    "- DONE: Step 6: Summarize data by zilas. Keep numeric variables, division, zila and year\n",
    "- DONE: Step 7: Create file with zilas, division and \n",
    "- DONE: Step 8: Write everything to the output files"
   ]
  },
  {
   "cell_type": "markdown",
   "metadata": {},
   "source": [
    "- Variables:\n",
    "    - **thana**:\n",
    "    - **ECouple**: \n",
    "    - **Pill**:\n",
    "    - **Condom**:\n",
    "    - **Injectable**: \n",
    "    - **IUD**: \n",
    "    - **Implant**:\n",
    "    - **PerMale**: \n",
    "    - **PerFemale**:\n",
    "    - **Tpermanent**: \n",
    "    - **GrandTotal**:\n",
    "    - **CAR**:\n",
    "    - **Unnamed: 12**:\n",
    "    - **full_name_path**: \n",
    "    - **file_name1**: \n",
    "    - **file_name2**:\n",
    "    - **year**: \n",
    "    - **month**: \n",
    "    - **upazila**: \n",
    "    - **division**: \n",
    "    - **upazila_full**:\n",
    "- Indicators:\n",
    "    - Percent_Pill = Pill/GrandTotal\n",
    "    - Percent_Condom = Condom/GrandTotal\n",
    "    - Percent_Injectable = Injectable/GrandTotal\n",
    "    - Percent_IUD = IUD/GrandTotal\n",
    "    - Percent_Implant = Implant/GrandTotal\n",
    "    - Percent_PerMale = PerMale/Tpermanent\n",
    "    - Percent_PerFemale = PerFemale/Tpermanent\n",
    "    - CAR"
   ]
  },
  {
   "cell_type": "markdown",
   "metadata": {},
   "source": [
    "## Paths"
   ]
  },
  {
   "cell_type": "code",
   "execution_count": 6,
   "metadata": {},
   "outputs": [],
   "source": [
    "DATA = '/Users/edinhamzic/Symphony/wb_bangladesh/Bangladesh/data/dgfp/data/importance11_subdistricts/thana_process'\n",
    "GEO = '/Users/edinhamzic/Symphony/wb_bangladesh/Bangladesh/output/dgfp/geos/dgfp_geo.csv'\n",
    "OUT = '/Users/edinhamzic/Symphony/wb_bangladesh/Bangladesh/output/dgfp/data/'"
   ]
  },
  {
   "cell_type": "markdown",
   "metadata": {},
   "source": [
    "## Packages"
   ]
  },
  {
   "cell_type": "code",
   "execution_count": 7,
   "metadata": {},
   "outputs": [],
   "source": [
    "import os\n",
    "import re\n",
    "import sys\n",
    "import glob\n",
    "import numpy as np\n",
    "import pandas as pd"
   ]
  },
  {
   "cell_type": "markdown",
   "metadata": {},
   "source": [
    "## Custom functions"
   ]
  },
  {
   "cell_type": "code",
   "execution_count": 8,
   "metadata": {},
   "outputs": [],
   "source": [
    "def list_files(path):\n",
    "    files_list = []\n",
    "    for path, subdirs, files in os.walk(path):\n",
    "        for file in files:\n",
    "            if bool(re.search(pattern=r'.csv', string=file)):\n",
    "                files_list.append(os.path.join(path, file))\n",
    "    return files_list\n",
    "    \n",
    "def read_arrange_files(files_list):\n",
    "    data_list = {}\n",
    "    log_columns = ['empty', 'full_name_path', 'file_name1', 'file_name2',\n",
    "                   'year', 'month', 'upazila', 'division', 'upazila_full']\n",
    "    log_array = []\n",
    "    for file in files_list:\n",
    "        tmp = pd.read_csv(file, sep='\\t', skiprows=1)\n",
    "        log_list = []\n",
    "        log_list.append(tmp.empty)\n",
    "        if tmp.empty:\n",
    "            log_list.append(file)\n",
    "            log_list.append(os.path.split(file)[1])\n",
    "            name = os.path.split(file)[1]\n",
    "            name = name.replace(\".csv\", \"\")\n",
    "            log_list.append(name)\n",
    "            name_split = name.split(\"-\")\n",
    "            log_list.append(name_split[0])\n",
    "            log_list.append(name_split[1])\n",
    "            log_list.append(name_split[3])\n",
    "            log_list.append(name_split[4])\n",
    "            log_list.append(name_split[4]+name_split[3])\n",
    "        else:\n",
    "            tmp['full_name_path'] = file\n",
    "            log_list.append(file)\n",
    "            tmp['file_name1'] = os.path.split(file)[1]\n",
    "            log_list.append(os.path.split(file)[1])\n",
    "            name = os.path.split(file)[1]\n",
    "            name = name.replace(\".csv\", \"\")\n",
    "            tmp['file_name2'] = name\n",
    "            log_list.append(name)\n",
    "            name_split = name.split(\"-\")\n",
    "            tmp['year'] = int(name_split[0])\n",
    "            log_list.append(name_split[0])\n",
    "            tmp['month'] = int(name_split[1])\n",
    "            log_list.append(name_split[1])\n",
    "            tmp['upazila'] = name_split[3]\n",
    "            log_list.append(name_split[3])\n",
    "            tmp['division'] = name_split[4]\n",
    "            log_list.append(name_split[4])\n",
    "            tmp['upazila_full'] = name_split[4]+name_split[3]\n",
    "            log_list.append(name_split[4]+name_split[3])\n",
    "            data_list[name] = tmp\n",
    "        log_array.append(log_list)\n",
    "    return data_list, pd.DataFrame(log_array, columns=log_columns)\n",
    "\n",
    "def concat_data(ddict):\n",
    "    out_list = []\n",
    "    for key, value in ddict.items():\n",
    "        out_list.append(value)\n",
    "    df = pd.concat(out_list, axis=0)\n",
    "    return df\n",
    "\n",
    "def break_by_years(input_df, year_var):\n",
    "    df = input_df.copy(deep=True)\n",
    "    out_dict = {}\n",
    "    for year in df[year_var].unique():\n",
    "        out_dict[str(year)] = df[df[year_var] == year]\n",
    "    return out_dict\n",
    "\n",
    "def summarize_zilas(data_dict):\n",
    "    out_dict = {}\n",
    "    for key, value in data_dict.items():\n",
    "        tmp = value.copy(deep=True)\n",
    "        subset_vars = ['upazila', 'division', 'ECouple', 'Pill', 'Condom', 'Injectable', 'IUD',\n",
    "                       'Implant','PerMale', 'PerFemale', 'Tpermanent', 'GrandTotal']\n",
    "        tmp = tmp[subset_vars]\n",
    "        tmp = tmp.groupby('upazila').sum()\n",
    "        tmp = tmp.reset_index()\n",
    "        out_dict[key] = tmp\n",
    "    return out_dict\n",
    "\n",
    "\n",
    "def calculate_indicators(data_dict):\n",
    "    out_dict = {}\n",
    "    for key, value in data_dict.items():\n",
    "        tmp = value.copy(deep=True)\n",
    "        tmp['Percent_Pill'] = np.round(tmp['Pill']/tmp['GrandTotal']*100, 2)\n",
    "        tmp['Percent_Condom'] = np.round(tmp['Condom']/tmp['GrandTotal']*100, 2)\n",
    "        tmp['Percent_Injectable'] = np.round(tmp['Injectable']/tmp['GrandTotal']*100, 2)\n",
    "        tmp['Percent_IUD'] = np.round(tmp['IUD']/tmp['GrandTotal']*100, 2)\n",
    "        tmp['Percent_Implant'] = np.round(tmp['Implant']/tmp['GrandTotal']*100, 2)\n",
    "        tmp['Percent_PerMale'] = np.round(tmp['PerMale']/tmp['GrandTotal']*100, 2)\n",
    "        tmp['Percent_PerFemale'] = np.round(tmp['PerFemale']/tmp['GrandTotal']*100, 2)\n",
    "        tmp['CAR'] = np.round(tmp['GrandTotal']/tmp['ECouple']*100, 2)\n",
    "        tmp = tmp[['upazila', 'Percent_Pill', 'Percent_Condom', 'Percent_Injectable', \n",
    "                   'Percent_IUD', 'Percent_Implant', 'Percent_PerMale',\n",
    "                   'Percent_PerFemale', 'CAR',]]\n",
    "        out_dict[key] = tmp\n",
    "    return out_dict\n",
    "\n",
    "def update_geos(datad, geo_df):\n",
    "    out = {}\n",
    "    for key, value in datad.items():\n",
    "        tmp = geo_df.merge(value, how='left', left_on='upazila_dgfp', right_on='upazila')\n",
    "        out[key] = tmp\n",
    "    return out\n",
    "\n",
    "\n",
    "def clean_up(data_dict):\n",
    "    out = {}\n",
    "    for key, value in data_dict.items():\n",
    "        tmp = value\n",
    "        tmp['geo'] = tmp['division_geo'].str.cat(tmp['zila_geo'], sep=\"\")\n",
    "        tmp = value.drop(['upazila_dgfp', 'division_dgfp', 'upazila_full_dgfp', 'division_geo',\n",
    "                          'division', 'zila_geo','zila','upazila'], axis=1)\n",
    "        out[key] = tmp\n",
    "    return out"
   ]
  },
  {
   "cell_type": "markdown",
   "metadata": {},
   "source": [
    "## Data reading and processing "
   ]
  },
  {
   "cell_type": "code",
   "execution_count": 9,
   "metadata": {},
   "outputs": [],
   "source": [
    "files = list_files(path=DATA) \n",
    "data, log = read_arrange_files(files_list=files)"
   ]
  },
  {
   "cell_type": "markdown",
   "metadata": {},
   "source": [
    "### Log data"
   ]
  },
  {
   "cell_type": "code",
   "execution_count": 10,
   "metadata": {},
   "outputs": [
    {
     "data": {
      "text/html": [
       "<div>\n",
       "<style scoped>\n",
       "    .dataframe tbody tr th:only-of-type {\n",
       "        vertical-align: middle;\n",
       "    }\n",
       "\n",
       "    .dataframe tbody tr th {\n",
       "        vertical-align: top;\n",
       "    }\n",
       "\n",
       "    .dataframe thead th {\n",
       "        text-align: right;\n",
       "    }\n",
       "</style>\n",
       "<table border=\"1\" class=\"dataframe\">\n",
       "  <thead>\n",
       "    <tr style=\"text-align: right;\">\n",
       "      <th></th>\n",
       "      <th>empty</th>\n",
       "      <th>full_name_path</th>\n",
       "      <th>file_name1</th>\n",
       "      <th>file_name2</th>\n",
       "      <th>year</th>\n",
       "      <th>month</th>\n",
       "      <th>upazila</th>\n",
       "      <th>division</th>\n",
       "      <th>upazila_full</th>\n",
       "    </tr>\n",
       "  </thead>\n",
       "  <tbody>\n",
       "    <tr>\n",
       "      <th>22</th>\n",
       "      <td>True</td>\n",
       "      <td>/Users/edinhamzic/Symphony/wb_bangladesh/Bangl...</td>\n",
       "      <td>2018-10-28-0507-05.csv</td>\n",
       "      <td>2018-10-28-0507-05</td>\n",
       "      <td>2018</td>\n",
       "      <td>10</td>\n",
       "      <td>0507</td>\n",
       "      <td>05</td>\n",
       "      <td>050507</td>\n",
       "    </tr>\n",
       "    <tr>\n",
       "      <th>61</th>\n",
       "      <td>True</td>\n",
       "      <td>/Users/edinhamzic/Symphony/wb_bangladesh/Bangl...</td>\n",
       "      <td>2018-11-28-0102-07.csv</td>\n",
       "      <td>2018-11-28-0102-07</td>\n",
       "      <td>2018</td>\n",
       "      <td>11</td>\n",
       "      <td>0102</td>\n",
       "      <td>07</td>\n",
       "      <td>070102</td>\n",
       "    </tr>\n",
       "    <tr>\n",
       "      <th>74</th>\n",
       "      <td>True</td>\n",
       "      <td>/Users/edinhamzic/Symphony/wb_bangladesh/Bangl...</td>\n",
       "      <td>2018-11-28-0405-04.csv</td>\n",
       "      <td>2018-11-28-0405-04</td>\n",
       "      <td>2018</td>\n",
       "      <td>11</td>\n",
       "      <td>0405</td>\n",
       "      <td>04</td>\n",
       "      <td>040405</td>\n",
       "    </tr>\n",
       "    <tr>\n",
       "      <th>134</th>\n",
       "      <td>True</td>\n",
       "      <td>/Users/edinhamzic/Symphony/wb_bangladesh/Bangl...</td>\n",
       "      <td>2018-12-28-0305-03.csv</td>\n",
       "      <td>2018-12-28-0305-03</td>\n",
       "      <td>2018</td>\n",
       "      <td>12</td>\n",
       "      <td>0305</td>\n",
       "      <td>03</td>\n",
       "      <td>030305</td>\n",
       "    </tr>\n",
       "    <tr>\n",
       "      <th>160</th>\n",
       "      <td>True</td>\n",
       "      <td>/Users/edinhamzic/Symphony/wb_bangladesh/Bangl...</td>\n",
       "      <td>2018-12-28-0114-01.csv</td>\n",
       "      <td>2018-12-28-0114-01</td>\n",
       "      <td>2018</td>\n",
       "      <td>12</td>\n",
       "      <td>0114</td>\n",
       "      <td>01</td>\n",
       "      <td>010114</td>\n",
       "    </tr>\n",
       "  </tbody>\n",
       "</table>\n",
       "</div>"
      ],
      "text/plain": [
       "     empty                                     full_name_path  \\\n",
       "22    True  /Users/edinhamzic/Symphony/wb_bangladesh/Bangl...   \n",
       "61    True  /Users/edinhamzic/Symphony/wb_bangladesh/Bangl...   \n",
       "74    True  /Users/edinhamzic/Symphony/wb_bangladesh/Bangl...   \n",
       "134   True  /Users/edinhamzic/Symphony/wb_bangladesh/Bangl...   \n",
       "160   True  /Users/edinhamzic/Symphony/wb_bangladesh/Bangl...   \n",
       "\n",
       "                 file_name1          file_name2  year month upazila division  \\\n",
       "22   2018-10-28-0507-05.csv  2018-10-28-0507-05  2018    10    0507       05   \n",
       "61   2018-11-28-0102-07.csv  2018-11-28-0102-07  2018    11    0102       07   \n",
       "74   2018-11-28-0405-04.csv  2018-11-28-0405-04  2018    11    0405       04   \n",
       "134  2018-12-28-0305-03.csv  2018-12-28-0305-03  2018    12    0305       03   \n",
       "160  2018-12-28-0114-01.csv  2018-12-28-0114-01  2018    12    0114       01   \n",
       "\n",
       "    upazila_full  \n",
       "22        050507  \n",
       "61        070102  \n",
       "74        040405  \n",
       "134       030305  \n",
       "160       010114  "
      ]
     },
     "metadata": {},
     "output_type": "display_data"
    }
   ],
   "source": [
    "log['empty'].value_counts()\n",
    "log_true = log[log['empty'] == True]\n",
    "display(log_true.head())"
   ]
  },
  {
   "cell_type": "markdown",
   "metadata": {},
   "source": [
    "## Missing data by years"
   ]
  },
  {
   "cell_type": "code",
   "execution_count": 11,
   "metadata": {},
   "outputs": [
    {
     "name": "stdout",
     "output_type": "stream",
     "text": [
      "2018    196\n",
      "2008      1\n",
      "Name: year, dtype: int64\n"
     ]
    }
   ],
   "source": [
    "print(log_true['year'].value_counts())"
   ]
  },
  {
   "cell_type": "markdown",
   "metadata": {},
   "source": [
    "## Missing data by months"
   ]
  },
  {
   "cell_type": "code",
   "execution_count": 12,
   "metadata": {},
   "outputs": [
    {
     "name": "stdout",
     "output_type": "stream",
     "text": [
      "12    66\n",
      "10    65\n",
      "11    65\n",
      "2      1\n",
      "Name: month, dtype: int64\n"
     ]
    }
   ],
   "source": [
    "print(log_true['month'].value_counts())"
   ]
  },
  {
   "cell_type": "markdown",
   "metadata": {},
   "source": [
    "## Missing data by divisions"
   ]
  },
  {
   "cell_type": "code",
   "execution_count": 13,
   "metadata": {},
   "outputs": [
    {
     "name": "stdout",
     "output_type": "stream",
     "text": [
      "04       39\n",
      "05       33\n",
      "02       30\n",
      "07       25\n",
      "01       24\n",
      "03       18\n",
      "06       12\n",
      "08       12\n",
      "07(1)     1\n",
      "03(1)     1\n",
      "05(1)     1\n",
      "01(1)     1\n",
      "Name: division, dtype: int64\n"
     ]
    }
   ],
   "source": [
    "print(log_true['division'].value_counts())"
   ]
  },
  {
   "cell_type": "code",
   "execution_count": 14,
   "metadata": {},
   "outputs": [
    {
     "name": "stdout",
     "output_type": "stream",
     "text": [
      "(63891, 21)\n"
     ]
    }
   ],
   "source": [
    "data_df = concat_data(ddict=data)\n",
    "print(data_df.shape)"
   ]
  },
  {
   "cell_type": "code",
   "execution_count": 15,
   "metadata": {
    "scrolled": true
   },
   "outputs": [
    {
     "data": {
      "text/html": [
       "<div>\n",
       "<style scoped>\n",
       "    .dataframe tbody tr th:only-of-type {\n",
       "        vertical-align: middle;\n",
       "    }\n",
       "\n",
       "    .dataframe tbody tr th {\n",
       "        vertical-align: top;\n",
       "    }\n",
       "\n",
       "    .dataframe thead th {\n",
       "        text-align: right;\n",
       "    }\n",
       "</style>\n",
       "<table border=\"1\" class=\"dataframe\">\n",
       "  <thead>\n",
       "    <tr style=\"text-align: right;\">\n",
       "      <th></th>\n",
       "      <th>thana</th>\n",
       "      <th>ECouple</th>\n",
       "      <th>Pill</th>\n",
       "      <th>Condom</th>\n",
       "      <th>Injectable</th>\n",
       "      <th>IUD</th>\n",
       "      <th>Implant</th>\n",
       "      <th>PerMale</th>\n",
       "      <th>PerFemale</th>\n",
       "      <th>Tpermanent</th>\n",
       "      <th>...</th>\n",
       "      <th>CAR</th>\n",
       "      <th>Unnamed: 12</th>\n",
       "      <th>full_name_path</th>\n",
       "      <th>file_name1</th>\n",
       "      <th>file_name2</th>\n",
       "      <th>year</th>\n",
       "      <th>month</th>\n",
       "      <th>upazila</th>\n",
       "      <th>division</th>\n",
       "      <th>upazila_full</th>\n",
       "    </tr>\n",
       "  </thead>\n",
       "  <tbody>\n",
       "    <tr>\n",
       "      <th>0</th>\n",
       "      <td>Boda</td>\n",
       "      <td>51742</td>\n",
       "      <td>21788</td>\n",
       "      <td>873</td>\n",
       "      <td>8018</td>\n",
       "      <td>840</td>\n",
       "      <td>3573</td>\n",
       "      <td>3183</td>\n",
       "      <td>3480</td>\n",
       "      <td>6663</td>\n",
       "      <td>...</td>\n",
       "      <td>80.6985</td>\n",
       "      <td>NaN</td>\n",
       "      <td>/Users/edinhamzic/Symphony/wb_bangladesh/Bangl...</td>\n",
       "      <td>2012-9-28-0103-07.csv</td>\n",
       "      <td>2012-9-28-0103-07</td>\n",
       "      <td>2012</td>\n",
       "      <td>9</td>\n",
       "      <td>0103</td>\n",
       "      <td>07</td>\n",
       "      <td>070103</td>\n",
       "    </tr>\n",
       "    <tr>\n",
       "      <th>1</th>\n",
       "      <td>Panchgarh Sadar</td>\n",
       "      <td>54765</td>\n",
       "      <td>23713</td>\n",
       "      <td>1733</td>\n",
       "      <td>10544</td>\n",
       "      <td>831</td>\n",
       "      <td>1899</td>\n",
       "      <td>1891</td>\n",
       "      <td>2568</td>\n",
       "      <td>4459</td>\n",
       "      <td>...</td>\n",
       "      <td>78.8442</td>\n",
       "      <td>NaN</td>\n",
       "      <td>/Users/edinhamzic/Symphony/wb_bangladesh/Bangl...</td>\n",
       "      <td>2012-9-28-0103-07.csv</td>\n",
       "      <td>2012-9-28-0103-07</td>\n",
       "      <td>2012</td>\n",
       "      <td>9</td>\n",
       "      <td>0103</td>\n",
       "      <td>07</td>\n",
       "      <td>070103</td>\n",
       "    </tr>\n",
       "    <tr>\n",
       "      <th>2</th>\n",
       "      <td>Tetulia</td>\n",
       "      <td>26033</td>\n",
       "      <td>12321</td>\n",
       "      <td>848</td>\n",
       "      <td>3058</td>\n",
       "      <td>1024</td>\n",
       "      <td>1291</td>\n",
       "      <td>794</td>\n",
       "      <td>1605</td>\n",
       "      <td>2399</td>\n",
       "      <td>...</td>\n",
       "      <td>80.4402</td>\n",
       "      <td>NaN</td>\n",
       "      <td>/Users/edinhamzic/Symphony/wb_bangladesh/Bangl...</td>\n",
       "      <td>2012-9-28-0103-07.csv</td>\n",
       "      <td>2012-9-28-0103-07</td>\n",
       "      <td>2012</td>\n",
       "      <td>9</td>\n",
       "      <td>0103</td>\n",
       "      <td>07</td>\n",
       "      <td>070103</td>\n",
       "    </tr>\n",
       "    <tr>\n",
       "      <th>3</th>\n",
       "      <td>Atowari</td>\n",
       "      <td>28599</td>\n",
       "      <td>13166</td>\n",
       "      <td>622</td>\n",
       "      <td>2986</td>\n",
       "      <td>653</td>\n",
       "      <td>1111</td>\n",
       "      <td>2257</td>\n",
       "      <td>2119</td>\n",
       "      <td>4376</td>\n",
       "      <td>...</td>\n",
       "      <td>80.1217</td>\n",
       "      <td>NaN</td>\n",
       "      <td>/Users/edinhamzic/Symphony/wb_bangladesh/Bangl...</td>\n",
       "      <td>2012-9-28-0103-07.csv</td>\n",
       "      <td>2012-9-28-0103-07</td>\n",
       "      <td>2012</td>\n",
       "      <td>9</td>\n",
       "      <td>0103</td>\n",
       "      <td>07</td>\n",
       "      <td>070103</td>\n",
       "    </tr>\n",
       "    <tr>\n",
       "      <th>4</th>\n",
       "      <td>Debiganj</td>\n",
       "      <td>47815</td>\n",
       "      <td>19301</td>\n",
       "      <td>1178</td>\n",
       "      <td>10259</td>\n",
       "      <td>903</td>\n",
       "      <td>1109</td>\n",
       "      <td>3362</td>\n",
       "      <td>2674</td>\n",
       "      <td>6036</td>\n",
       "      <td>...</td>\n",
       "      <td>81.1168</td>\n",
       "      <td>NaN</td>\n",
       "      <td>/Users/edinhamzic/Symphony/wb_bangladesh/Bangl...</td>\n",
       "      <td>2012-9-28-0103-07.csv</td>\n",
       "      <td>2012-9-28-0103-07</td>\n",
       "      <td>2012</td>\n",
       "      <td>9</td>\n",
       "      <td>0103</td>\n",
       "      <td>07</td>\n",
       "      <td>070103</td>\n",
       "    </tr>\n",
       "  </tbody>\n",
       "</table>\n",
       "<p>5 rows × 21 columns</p>\n",
       "</div>"
      ],
      "text/plain": [
       "             thana  ECouple   Pill  Condom  Injectable   IUD  Implant  \\\n",
       "0             Boda    51742  21788     873        8018   840     3573   \n",
       "1  Panchgarh Sadar    54765  23713    1733       10544   831     1899   \n",
       "2          Tetulia    26033  12321     848        3058  1024     1291   \n",
       "3          Atowari    28599  13166     622        2986   653     1111   \n",
       "4         Debiganj    47815  19301    1178       10259   903     1109   \n",
       "\n",
       "   PerMale  PerFemale  Tpermanent  ...      CAR  Unnamed: 12  \\\n",
       "0     3183       3480        6663  ...  80.6985          NaN   \n",
       "1     1891       2568        4459  ...  78.8442          NaN   \n",
       "2      794       1605        2399  ...  80.4402          NaN   \n",
       "3     2257       2119        4376  ...  80.1217          NaN   \n",
       "4     3362       2674        6036  ...  81.1168          NaN   \n",
       "\n",
       "                                      full_name_path             file_name1  \\\n",
       "0  /Users/edinhamzic/Symphony/wb_bangladesh/Bangl...  2012-9-28-0103-07.csv   \n",
       "1  /Users/edinhamzic/Symphony/wb_bangladesh/Bangl...  2012-9-28-0103-07.csv   \n",
       "2  /Users/edinhamzic/Symphony/wb_bangladesh/Bangl...  2012-9-28-0103-07.csv   \n",
       "3  /Users/edinhamzic/Symphony/wb_bangladesh/Bangl...  2012-9-28-0103-07.csv   \n",
       "4  /Users/edinhamzic/Symphony/wb_bangladesh/Bangl...  2012-9-28-0103-07.csv   \n",
       "\n",
       "          file_name2  year  month  upazila division upazila_full  \n",
       "0  2012-9-28-0103-07  2012      9     0103       07       070103  \n",
       "1  2012-9-28-0103-07  2012      9     0103       07       070103  \n",
       "2  2012-9-28-0103-07  2012      9     0103       07       070103  \n",
       "3  2012-9-28-0103-07  2012      9     0103       07       070103  \n",
       "4  2012-9-28-0103-07  2012      9     0103       07       070103  \n",
       "\n",
       "[5 rows x 21 columns]"
      ]
     },
     "metadata": {},
     "output_type": "display_data"
    },
    {
     "data": {
      "text/plain": [
       "Index(['thana', 'ECouple', 'Pill', 'Condom', 'Injectable', 'IUD', 'Implant',\n",
       "       'PerMale', 'PerFemale', 'Tpermanent', 'GrandTotal', 'CAR',\n",
       "       'Unnamed: 12', 'full_name_path', 'file_name1', 'file_name2', 'year',\n",
       "       'month', 'upazila', 'division', 'upazila_full'],\n",
       "      dtype='object')"
      ]
     },
     "execution_count": 15,
     "metadata": {},
     "output_type": "execute_result"
    }
   ],
   "source": [
    "display(data_df.head())\n",
    "data_df.columns"
   ]
  },
  {
   "cell_type": "markdown",
   "metadata": {},
   "source": [
    "## Break data by years"
   ]
  },
  {
   "cell_type": "code",
   "execution_count": 16,
   "metadata": {},
   "outputs": [
    {
     "data": {
      "text/plain": [
       "dict_keys(['2012', '2013', '2010', '2011', '2008', '2018', '2016', '2017', '2014', '2015', '2009'])"
      ]
     },
     "execution_count": 16,
     "metadata": {},
     "output_type": "execute_result"
    }
   ],
   "source": [
    "datad = break_by_years(input_df=data_df, year_var='year')\n",
    "datad.keys()"
   ]
  },
  {
   "cell_type": "markdown",
   "metadata": {},
   "source": [
    "## Summarize data "
   ]
  },
  {
   "cell_type": "code",
   "execution_count": 17,
   "metadata": {},
   "outputs": [
    {
     "name": "stdout",
     "output_type": "stream",
     "text": [
      "2012\n",
      "(64, 9)\n",
      "2013\n",
      "(64, 9)\n",
      "2010\n",
      "(64, 9)\n",
      "2011\n",
      "(64, 9)\n",
      "2008\n",
      "(64, 9)\n",
      "2018\n",
      "(64, 9)\n",
      "2016\n",
      "(64, 9)\n",
      "2017\n",
      "(64, 9)\n",
      "2014\n",
      "(64, 9)\n",
      "2015\n",
      "(64, 9)\n",
      "2009\n",
      "(64, 9)\n"
     ]
    }
   ],
   "source": [
    "data = summarize_zilas(data_dict=datad)\n",
    "data = calculate_indicators(data_dict=data)\n",
    "for key, value in data.items():\n",
    "    print(key)\n",
    "    print(value.shape)"
   ]
  },
  {
   "cell_type": "markdown",
   "metadata": {},
   "source": [
    "## Read geographies"
   ]
  },
  {
   "cell_type": "code",
   "execution_count": 18,
   "metadata": {},
   "outputs": [
    {
     "name": "stdout",
     "output_type": "stream",
     "text": [
      "(29260, 7)\n",
      "(64, 7)\n"
     ]
    }
   ],
   "source": [
    "dgfp_geo = pd.read_csv(GEO)\n",
    "dgfp_geo['upazila_dgfp'] = dgfp_geo['upazila_dgfp'].astype(str).str.pad(width=4, side='left', fillchar='0')\n",
    "dgfp_geo['division_dgfp'] = dgfp_geo['division_dgfp'].astype(str).str.pad(width=2, side='left', fillchar='0')\n",
    "dgfp_geo['upazila_full_dgfp'] = dgfp_geo['upazila_full_dgfp'].astype(str).str.pad(width=6, side='left', fillchar='0')\n",
    "dgfp_geo['division_geo'] = dgfp_geo['division_geo'].astype(str).str.pad(width=2, side='left', fillchar='0')\n",
    "dgfp_geo['zila_geo'] = dgfp_geo['zila_geo'].astype(str).str.pad(width=2, side='left', fillchar='0')\n",
    "dgfp_geo = dgfp_geo.drop(['thana_dgfp', 'Unnamed: 8'], axis=1)\n",
    "print(dgfp_geo.shape)\n",
    "dgfp_geo.head()\n",
    "dgfp_geo = dgfp_geo.drop_duplicates()\n",
    "print(dgfp_geo.shape)"
   ]
  },
  {
   "cell_type": "markdown",
   "metadata": {},
   "source": [
    "## Update geographies"
   ]
  },
  {
   "cell_type": "code",
   "execution_count": 19,
   "metadata": {},
   "outputs": [],
   "source": [
    "data = update_geos(datad=data, geo_df=dgfp_geo)"
   ]
  },
  {
   "cell_type": "markdown",
   "metadata": {},
   "source": [
    "## Clean up before writing data"
   ]
  },
  {
   "cell_type": "code",
   "execution_count": 20,
   "metadata": {},
   "outputs": [],
   "source": [
    "data = clean_up(data_dict=data)"
   ]
  },
  {
   "cell_type": "markdown",
   "metadata": {},
   "source": [
    "## Writing data"
   ]
  },
  {
   "cell_type": "code",
   "execution_count": 21,
   "metadata": {},
   "outputs": [],
   "source": [
    "def write_out(data_dict, out_dir):\n",
    "    out = {}\n",
    "    for key, value in data_dict.items():\n",
    "        var_names = [\"imp11subdistr_thanaprocess\" + var if var != 'geo' else var for var in value.columns]\n",
    "        value.columns = var_names\n",
    "        value.to_csv(path_or_buf=os.path.join(out_dir, \"data_dgfp_imp11subdistr_thanaprocess_\" + str(key) + \".csv\"), \n",
    "                    index=False, index_label=False)\n",
    "write_out(data_dict=data, out_dir=OUT)"
   ]
  },
  {
   "cell_type": "code",
   "execution_count": null,
   "metadata": {},
   "outputs": [],
   "source": []
  }
 ],
 "metadata": {
  "kernelspec": {
   "display_name": "Python 3",
   "language": "python",
   "name": "python3"
  },
  "language_info": {
   "codemirror_mode": {
    "name": "ipython",
    "version": 3
   },
   "file_extension": ".py",
   "mimetype": "text/x-python",
   "name": "python",
   "nbconvert_exporter": "python",
   "pygments_lexer": "ipython3",
   "version": "3.7.2"
  }
 },
 "nbformat": 4,
 "nbformat_minor": 2
}
