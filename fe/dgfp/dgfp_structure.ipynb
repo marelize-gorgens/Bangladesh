{
 "cells": [
  {
   "cell_type": "markdown",
   "metadata": {},
   "source": [
    "# Data Preprocessing - DGFP Data"
   ]
  },
  {
   "cell_type": "markdown",
   "metadata": {},
   "source": [
    "## Summary\n",
    "\n",
    "- **Input data**: Data downloaded from Service Statistics portal of Directorate Generale of Family Planning. This data is stored in *data/dgfp/data* directories\n",
    "- **Processing**:\n",
    "    - Getting Upazila and District level data\n",
    "    - Reading and processing and transforming data in the following form:\n",
    "        - Rows: *Geographical levels (upazila and districts)*\n",
    "        - Columns: *Variables/health indicators*\n",
    "        - Datasets: *Years [XXXX - XXXX]*\n",
    "- **Output data**: Processed data is stored in *data/output/dhis2/data"
   ]
  },
  {
   "cell_type": "markdown",
   "metadata": {
    "collapsed": true
   },
   "source": [
    "```\n",
    ".\n",
    "├── importance11_districts\n",
    "│   ├── district_process\n",
    "│   └── ngodistrict_process\n",
    "├── importance11_subdistricts\n",
    "│   ├── mchgo_thanaprocess\n",
    "│   ├── ngothana_process\n",
    "│   └── thana_process\n",
    "├── importance12_districts\n",
    "│   ├── distributionGO_distmonthProcess\n",
    "│   ├── district_monthprocess\n",
    "│   ├── mchgo_distmonthprocess\n",
    "│   └── ngodistrict_monthprocess\n",
    "└── importance12_subdistricts\n",
    "    ├── distributionGO_thanaconsuprocess\n",
    "    ├── distributionGO_thanamonthProcess\n",
    "    ├── distributionNGO_thanaconsuprocess\n",
    "    └── distributionNGO_thanamonthProcess\n",
    "```"
   ]
  },
  {
   "cell_type": "markdown",
   "metadata": {},
   "source": [
    "## List of scripts"
   ]
  },
  {
   "cell_type": "markdown",
   "metadata": {},
   "source": [
    "- dp_dgfp-imp11dist_district-process\n",
    "- dp_dgfp-imp11dist_ngodistrict-process\n",
    "- dp_dgfp-imp11subdist_mchgo-thanaprocess\n",
    "- dp_dgfp-imp11subdist_ngothana-process\n",
    "- dp_dgfp-imp11subdist_thana-process\n",
    "- dp_dgfp-imp12dist_distributionGO-distmonthProcess\n",
    "- dp_dgfp-imp12dist_district-monthprocess\n",
    "- dp_dgfp-imp12dist_mchgo-distmonthprocess\n",
    "- dp_dgfp-imp12dist_ngodistrict-monthprocess\n",
    "- dp_dgfp-imp12subdist_distributionGO-thanaconsuprocess\n",
    "- dp_dgfp-imp12subdist_distributionGO-thanamonthProcess\n",
    "- dp_dgfp-imp12subdist_distributionNGO-thanaconsuprocess\n",
    "- dp_dgfp-imp12subdist_distributionNGO-thanamonthProcess"
   ]
  },
  {
   "cell_type": "code",
   "execution_count": null,
   "metadata": {
    "collapsed": true
   },
   "outputs": [],
   "source": []
  }
 ],
 "metadata": {
  "kernelspec": {
   "display_name": "Python 3",
   "language": "python",
   "name": "python3"
  },
  "language_info": {
   "codemirror_mode": {
    "name": "ipython",
    "version": 3
   },
   "file_extension": ".py",
   "mimetype": "text/x-python",
   "name": "python",
   "nbconvert_exporter": "python",
   "pygments_lexer": "ipython3",
   "version": "3.6.6"
  }
 },
 "nbformat": 4,
 "nbformat_minor": 2
}
