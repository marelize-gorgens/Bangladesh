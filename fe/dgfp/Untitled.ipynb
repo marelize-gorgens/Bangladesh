{
 "cells": [
  {
   "cell_type": "markdown",
   "metadata": {},
   "source": [
    "# Data Preprocessing - DGFP Data"
   ]
  },
  {
   "cell_type": "markdown",
   "metadata": {},
   "source": [
    "## Summary\n",
    "\n",
    "- **Input data**: Data downloaded from Service Statistics portal of Directorate Generale of Family Planning. This data is stored in *data/dgfp/data* directories\n",
    "- **Processing**:\n",
    "    - Getting Upazila and District level data\n",
    "    - Reading and processing and transforming data in the following form:\n",
    "        - Rows: *Geographical levels (upazila and districts)*\n",
    "        - Columns: *Variables/health indicators*\n",
    "        - Datasets: *Years [XXXX - XXXX]*\n",
    "- **Output data**: Processed data is stored in *data/output/dhis2/data"
   ]
  },
  {
   "cell_type": "code",
   "execution_count": null,
   "metadata": {
    "collapsed": true
   },
   "outputs": [],
   "source": []
  }
 ],
 "metadata": {
  "kernelspec": {
   "display_name": "Python 3",
   "language": "python",
   "name": "python3"
  },
  "language_info": {
   "codemirror_mode": {
    "name": "ipython",
    "version": 3
   },
   "file_extension": ".py",
   "mimetype": "text/x-python",
   "name": "python",
   "nbconvert_exporter": "python",
   "pygments_lexer": "ipython3",
   "version": "3.6.6"
  }
 },
 "nbformat": 4,
 "nbformat_minor": 2
}
