{
 "cells": [
  {
   "cell_type": "markdown",
   "metadata": {},
   "source": [
    "# Data Preprocessing - DHIS2 Data Matching Variable Names"
   ]
  },
  {
   "cell_type": "code",
   "execution_count": 1,
   "metadata": {
    "collapsed": true
   },
   "outputs": [],
   "source": [
    "import glob"
   ]
  },
  {
   "cell_type": "code",
   "execution_count": 2,
   "metadata": {
    "collapsed": true
   },
   "outputs": [],
   "source": [
    "def list_files(path):\n",
    "    \"\"\"\n",
    "    Function gets the list of all file from the target directory,\n",
    "    takes absolute path, splits file names to extract:\n",
    "    - File name\n",
    "    - Data element\n",
    "    - File type\n",
    "    - Year\n",
    "    - Geographical level/group\n",
    "    - Absolute path of the file name\n",
    "    Returns all this as a dataframe\n",
    "    \"\"\"\n",
    "    path_all = os.path.join(path, '*')\n",
    "    abs_file_names = glob.glob(path_all, recursive=True)\n",
    "    file_names = [os.path.split(glob.glob(file_path)[0])[1] for file_path in abs_file_names]\n",
    "    data_collection = [file_name.split(\"_\")[0] for file_name in file_names]\n",
    "    year = [file_name.split(\"_\")[1] for file_name in file_names]\n",
    "    geo_level = [file_name.split(\"_\")[2] for file_name in file_names]\n",
    "    file_type = [file_name[-8:-4] for file_name in file_names]\n",
    "    files_df = pd.DataFrame.from_dict({'file_names': file_names, \n",
    "                                       'data_collection': data_collection,\n",
    "                                       'year': year,\n",
    "                                       'geo_level': geo_level,\n",
    "                                       'file_type': file_type,\n",
    "                                       'abs_file_names': abs_file_names\n",
    "                                      })\n",
    "\n",
    "    return files_df\n"
   ]
  },
  {
   "cell_type": "code",
   "execution_count": null,
   "metadata": {
    "collapsed": true
   },
   "outputs": [],
   "source": []
  }
 ],
 "metadata": {
  "kernelspec": {
   "display_name": "Python 3",
   "language": "python",
   "name": "python3"
  },
  "language_info": {
   "codemirror_mode": {
    "name": "ipython",
    "version": 3
   },
   "file_extension": ".py",
   "mimetype": "text/x-python",
   "name": "python",
   "nbconvert_exporter": "python",
   "pygments_lexer": "ipython3",
   "version": "3.6.6"
  }
 },
 "nbformat": 4,
 "nbformat_minor": 2
}
