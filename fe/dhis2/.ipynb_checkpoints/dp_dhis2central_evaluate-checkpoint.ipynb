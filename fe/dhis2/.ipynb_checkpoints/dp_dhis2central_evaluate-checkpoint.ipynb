{
 "cells": [
  {
   "cell_type": "markdown",
   "metadata": {},
   "source": [
    "# Data Preprocessing - DHIS2 Data - Child Health\n"
   ]
  },
  {
   "cell_type": "markdown",
   "metadata": {},
   "source": [
    "## Packages"
   ]
  },
  {
   "cell_type": "code",
   "execution_count": 2,
   "metadata": {
    "collapsed": true
   },
   "outputs": [],
   "source": [
    "import os\n",
    "import glob\n",
    "import pandas as pd\n",
    "import collections"
   ]
  },
  {
   "cell_type": "markdown",
   "metadata": {},
   "source": [
    "## Main"
   ]
  },
  {
   "cell_type": "code",
   "execution_count": 5,
   "metadata": {},
   "outputs": [
    {
     "data": {
      "text/plain": [
       "'/Users/edinhamzic/Symphony/wb_bangladesh'"
      ]
     },
     "execution_count": 5,
     "metadata": {},
     "output_type": "execute_result"
    }
   ],
   "source": [
    "os.getcwd()\n",
    "os.chdir('/Users/edinhamzic/Symphony/wb_bangladesh/')\n",
    "os.getcwd()"
   ]
  },
  {
   "cell_type": "code",
   "execution_count": 7,
   "metadata": {
    "collapsed": true
   },
   "outputs": [],
   "source": [
    "def list_files(path, pattern):\n",
    "    path_all = os.path.join(path, pattern)\n",
    "    file_names = os.listdir(path)\n",
    "    abs_file_names = glob.glob(path_all, recursive=True)\n",
    "    file_names = [os.path.split(glob.glob(file_path)[0])[1] for file_path in abs_file_names]\n",
    "    data_collection = [file_name.split(\"_\")[0] for file_name in file_names]\n",
    "    year = [file_name.split(\"_\")[1] for file_name in file_names]\n",
    "    geo_level = [file_name.split(\"_\")[2] for file_name in file_names]\n",
    "    files_df = pd.DataFrame.from_dict({'file_names': file_names, \n",
    "                                       'data_collection': data_collection,\n",
    "                                       'year': year,\n",
    "                                       'geo_level': geo_level,\n",
    "                                       'abs_file_names': abs_file_names\n",
    "                                      })\n",
    "\n",
    "    return files_df\n",
    "\n",
    "def import_combine(df):\n",
    "    for year in \n",
    "    \n",
    "    "
   ]
  },
  {
   "cell_type": "code",
   "execution_count": 24,
   "metadata": {
    "scrolled": false
   },
   "outputs": [
    {
     "data": {
      "text/html": [
       "<div>\n",
       "<style scoped>\n",
       "    .dataframe tbody tr th:only-of-type {\n",
       "        vertical-align: middle;\n",
       "    }\n",
       "\n",
       "    .dataframe tbody tr th {\n",
       "        vertical-align: top;\n",
       "    }\n",
       "\n",
       "    .dataframe thead th {\n",
       "        text-align: right;\n",
       "    }\n",
       "</style>\n",
       "<table border=\"1\" class=\"dataframe\">\n",
       "  <thead>\n",
       "    <tr style=\"text-align: right;\">\n",
       "      <th></th>\n",
       "      <th>Data</th>\n",
       "      <th>Organisation unit</th>\n",
       "      <th>Value</th>\n",
       "    </tr>\n",
       "  </thead>\n",
       "  <tbody>\n",
       "    <tr>\n",
       "      <th>571</th>\n",
       "      <td>Percentage of pneumonia reported at facility</td>\n",
       "      <td>Sirajganj District</td>\n",
       "      <td>11.18</td>\n",
       "    </tr>\n",
       "    <tr>\n",
       "      <th>572</th>\n",
       "      <td>Percentage of pneumonia reported at facility</td>\n",
       "      <td>Sunamganj District</td>\n",
       "      <td>8.16</td>\n",
       "    </tr>\n",
       "    <tr>\n",
       "      <th>573</th>\n",
       "      <td>Percentage of pneumonia reported at facility</td>\n",
       "      <td>Sylhet District</td>\n",
       "      <td>10.37</td>\n",
       "    </tr>\n",
       "    <tr>\n",
       "      <th>574</th>\n",
       "      <td>Percentage of pneumonia reported at facility</td>\n",
       "      <td>Tangail District</td>\n",
       "      <td>5.28</td>\n",
       "    </tr>\n",
       "    <tr>\n",
       "      <th>575</th>\n",
       "      <td>Percentage of pneumonia reported at facility</td>\n",
       "      <td>Thakurgaon District</td>\n",
       "      <td>6.26</td>\n",
       "    </tr>\n",
       "  </tbody>\n",
       "</table>\n",
       "</div>"
      ],
      "text/plain": [
       "                                             Data    Organisation unit  Value\n",
       "571  Percentage of pneumonia reported at facility   Sirajganj District  11.18\n",
       "572  Percentage of pneumonia reported at facility   Sunamganj District   8.16\n",
       "573  Percentage of pneumonia reported at facility      Sylhet District  10.37\n",
       "574  Percentage of pneumonia reported at facility     Tangail District   5.28\n",
       "575  Percentage of pneumonia reported at facility  Thakurgaon District   6.26"
      ]
     },
     "metadata": {},
     "output_type": "display_data"
    },
    {
     "data": {
      "text/html": [
       "<div>\n",
       "<style scoped>\n",
       "    .dataframe tbody tr th:only-of-type {\n",
       "        vertical-align: middle;\n",
       "    }\n",
       "\n",
       "    .dataframe tbody tr th {\n",
       "        vertical-align: top;\n",
       "    }\n",
       "\n",
       "    .dataframe thead th {\n",
       "        text-align: right;\n",
       "    }\n",
       "</style>\n",
       "<table border=\"1\" class=\"dataframe\">\n",
       "  <thead>\n",
       "    <tr style=\"text-align: right;\">\n",
       "      <th></th>\n",
       "      <th>Data</th>\n",
       "      <th>Organisation unit</th>\n",
       "      <th>Value</th>\n",
       "    </tr>\n",
       "  </thead>\n",
       "  <tbody>\n",
       "    <tr>\n",
       "      <th>571</th>\n",
       "      <td>R4d4BKvjEZj</td>\n",
       "      <td>5088</td>\n",
       "      <td>11.18</td>\n",
       "    </tr>\n",
       "    <tr>\n",
       "      <th>572</th>\n",
       "      <td>R4d4BKvjEZj</td>\n",
       "      <td>6090</td>\n",
       "      <td>8.16</td>\n",
       "    </tr>\n",
       "    <tr>\n",
       "      <th>573</th>\n",
       "      <td>R4d4BKvjEZj</td>\n",
       "      <td>6091</td>\n",
       "      <td>10.37</td>\n",
       "    </tr>\n",
       "    <tr>\n",
       "      <th>574</th>\n",
       "      <td>R4d4BKvjEZj</td>\n",
       "      <td>3093</td>\n",
       "      <td>5.28</td>\n",
       "    </tr>\n",
       "    <tr>\n",
       "      <th>575</th>\n",
       "      <td>R4d4BKvjEZj</td>\n",
       "      <td>5594</td>\n",
       "      <td>6.26</td>\n",
       "    </tr>\n",
       "  </tbody>\n",
       "</table>\n",
       "</div>"
      ],
      "text/plain": [
       "            Data  Organisation unit  Value\n",
       "571  R4d4BKvjEZj               5088  11.18\n",
       "572  R4d4BKvjEZj               6090   8.16\n",
       "573  R4d4BKvjEZj               6091  10.37\n",
       "574  R4d4BKvjEZj               3093   5.28\n",
       "575  R4d4BKvjEZj               5594   6.26"
      ]
     },
     "metadata": {},
     "output_type": "display_data"
    },
    {
     "data": {
      "text/html": [
       "<div>\n",
       "<style scoped>\n",
       "    .dataframe tbody tr th:only-of-type {\n",
       "        vertical-align: middle;\n",
       "    }\n",
       "\n",
       "    .dataframe tbody tr th {\n",
       "        vertical-align: top;\n",
       "    }\n",
       "\n",
       "    .dataframe thead th {\n",
       "        text-align: right;\n",
       "    }\n",
       "</style>\n",
       "<table border=\"1\" class=\"dataframe\">\n",
       "  <thead>\n",
       "    <tr style=\"text-align: right;\">\n",
       "      <th></th>\n",
       "      <th>Data</th>\n",
       "      <th>Organisation unit</th>\n",
       "      <th>Value</th>\n",
       "      <th>Data</th>\n",
       "      <th>Organisation unit</th>\n",
       "      <th>Value</th>\n",
       "    </tr>\n",
       "  </thead>\n",
       "  <tbody>\n",
       "    <tr>\n",
       "      <th>0</th>\n",
       "      <td>% of breast feeding initiated within 1 hour by...</td>\n",
       "      <td>Bagerhat District</td>\n",
       "      <td>95.3</td>\n",
       "      <td>LwxiPaHQwif</td>\n",
       "      <td>4001</td>\n",
       "      <td>95.3</td>\n",
       "    </tr>\n",
       "    <tr>\n",
       "      <th>1</th>\n",
       "      <td>% of breast feeding initiated within 1 hour by...</td>\n",
       "      <td>Bandarban District</td>\n",
       "      <td>87.3</td>\n",
       "      <td>LwxiPaHQwif</td>\n",
       "      <td>2003</td>\n",
       "      <td>87.3</td>\n",
       "    </tr>\n",
       "    <tr>\n",
       "      <th>2</th>\n",
       "      <td>% of breast feeding initiated within 1 hour by...</td>\n",
       "      <td>Barguna District</td>\n",
       "      <td>98.8</td>\n",
       "      <td>LwxiPaHQwif</td>\n",
       "      <td>1004</td>\n",
       "      <td>98.8</td>\n",
       "    </tr>\n",
       "    <tr>\n",
       "      <th>3</th>\n",
       "      <td>% of breast feeding initiated within 1 hour by...</td>\n",
       "      <td>Barishal District</td>\n",
       "      <td>96.4</td>\n",
       "      <td>LwxiPaHQwif</td>\n",
       "      <td>1006</td>\n",
       "      <td>96.4</td>\n",
       "    </tr>\n",
       "    <tr>\n",
       "      <th>4</th>\n",
       "      <td>% of breast feeding initiated within 1 hour by...</td>\n",
       "      <td>Bhola District</td>\n",
       "      <td>96.0</td>\n",
       "      <td>LwxiPaHQwif</td>\n",
       "      <td>1009</td>\n",
       "      <td>96.0</td>\n",
       "    </tr>\n",
       "  </tbody>\n",
       "</table>\n",
       "</div>"
      ],
      "text/plain": [
       "                                                Data   Organisation unit  \\\n",
       "0  % of breast feeding initiated within 1 hour by...   Bagerhat District   \n",
       "1  % of breast feeding initiated within 1 hour by...  Bandarban District   \n",
       "2  % of breast feeding initiated within 1 hour by...    Barguna District   \n",
       "3  % of breast feeding initiated within 1 hour by...   Barishal District   \n",
       "4  % of breast feeding initiated within 1 hour by...      Bhola District   \n",
       "\n",
       "   Value         Data  Organisation unit  Value  \n",
       "0   95.3  LwxiPaHQwif               4001   95.3  \n",
       "1   87.3  LwxiPaHQwif               2003   87.3  \n",
       "2   98.8  LwxiPaHQwif               1004   98.8  \n",
       "3   96.4  LwxiPaHQwif               1006   96.4  \n",
       "4   96.0  LwxiPaHQwif               1009   96.0  "
      ]
     },
     "execution_count": 24,
     "metadata": {},
     "output_type": "execute_result"
    }
   ],
   "source": [
    "childhealth = list_files(path='data/dhis2/health_indicators/', pattern='02ChildHealth_*')\n"
   ]
  },
  {
   "cell_type": "code",
   "execution_count": null,
   "metadata": {
    "collapsed": true
   },
   "outputs": [],
   "source": [
    "display(data_name.pivot_table(values='Value',index='Organisation unit', columns='Data').head())\n",
    "display(data_code.pivot_table(values='Value',index='Organisation unit', columns='Data').head())"
   ]
  },
  {
   "cell_type": "code",
   "execution_count": 2,
   "metadata": {
    "collapsed": true,
    "scrolled": false
   },
   "outputs": [],
   "source": [
    "\n",
    "\n",
    "def create_sets(input_df, geo_levels, years):\n",
    "    df = input_df.copy(deep=True)\n",
    "    datasets = {}\n",
    "    if ((type(geo_levels) == list) & (type(years) == list)):\n",
    "        \n",
    "        for geo_level in geo_levels:\n",
    "            for year in years:\n",
    "                datasets[geo_level + '_' + year] = df[(df['geo_level']==geo_level) & \n",
    "                                              (df['year']==year)] \n",
    "    else:\n",
    "        for geo_level in df[geo_levels].unique():\n",
    "            for year in df[years].unique():\n",
    "                datasets[geo_level + '_' + year] = df[(df['geo_level']==geo_level) & \n",
    "                                              (df['year']==year)]\n",
    "    return datasets\n"
   ]
  },
  {
   "cell_type": "code",
   "execution_count": 6,
   "metadata": {},
   "outputs": [
    {
     "data": {
      "text/html": [
       "<div>\n",
       "<style scoped>\n",
       "    .dataframe tbody tr th:only-of-type {\n",
       "        vertical-align: middle;\n",
       "    }\n",
       "\n",
       "    .dataframe tbody tr th {\n",
       "        vertical-align: top;\n",
       "    }\n",
       "\n",
       "    .dataframe thead th {\n",
       "        text-align: right;\n",
       "    }\n",
       "</style>\n",
       "<table border=\"1\" class=\"dataframe\">\n",
       "  <thead>\n",
       "    <tr style=\"text-align: right;\">\n",
       "      <th></th>\n",
       "      <th>file_names</th>\n",
       "      <th>data_collection</th>\n",
       "      <th>year</th>\n",
       "      <th>geo_level</th>\n",
       "      <th>abs_file_names</th>\n",
       "    </tr>\n",
       "  </thead>\n",
       "  <tbody>\n",
       "    <tr>\n",
       "      <th>0</th>\n",
       "      <td>04EPIDistrictRequisition_2011_UpazilaandDistri...</td>\n",
       "      <td>04EPIDistrictRequisition</td>\n",
       "      <td>2011</td>\n",
       "      <td>UpazilaandDistrictlevelHF</td>\n",
       "      <td>/Users/edinhamzic/Symphony/wb_bangladesh/data/...</td>\n",
       "    </tr>\n",
       "    <tr>\n",
       "      <th>1</th>\n",
       "      <td>02EPIUpazilaStock_2010_UpazilaHealthComplex_CO...</td>\n",
       "      <td>02EPIUpazilaStock</td>\n",
       "      <td>2010</td>\n",
       "      <td>UpazilaHealthComplex</td>\n",
       "      <td>/Users/edinhamzic/Symphony/wb_bangladesh/data/...</td>\n",
       "    </tr>\n",
       "    <tr>\n",
       "      <th>2</th>\n",
       "      <td>10KMC_2011_DistrictNGO&amp;PrivateTotal_CODE.csv</td>\n",
       "      <td>10KMC</td>\n",
       "      <td>2011</td>\n",
       "      <td>DistrictNGO&amp;PrivateTotal</td>\n",
       "      <td>/Users/edinhamzic/Symphony/wb_bangladesh/data/...</td>\n",
       "    </tr>\n",
       "    <tr>\n",
       "      <th>3</th>\n",
       "      <td>07EmONC_2009_UpazilaandDistrictlevelHF_NAME.csv</td>\n",
       "      <td>07EmONC</td>\n",
       "      <td>2009</td>\n",
       "      <td>UpazilaandDistrictlevelHF</td>\n",
       "      <td>/Users/edinhamzic/Symphony/wb_bangladesh/data/...</td>\n",
       "    </tr>\n",
       "    <tr>\n",
       "      <th>4</th>\n",
       "      <td>04EPIDistrictRequisition_2012_DistrictHospital...</td>\n",
       "      <td>04EPIDistrictRequisition</td>\n",
       "      <td>2012</td>\n",
       "      <td>DistrictHospital</td>\n",
       "      <td>/Users/edinhamzic/Symphony/wb_bangladesh/data/...</td>\n",
       "    </tr>\n",
       "  </tbody>\n",
       "</table>\n",
       "</div>"
      ],
      "text/plain": [
       "                                          file_names  \\\n",
       "0  04EPIDistrictRequisition_2011_UpazilaandDistri...   \n",
       "1  02EPIUpazilaStock_2010_UpazilaHealthComplex_CO...   \n",
       "2       10KMC_2011_DistrictNGO&PrivateTotal_CODE.csv   \n",
       "3    07EmONC_2009_UpazilaandDistrictlevelHF_NAME.csv   \n",
       "4  04EPIDistrictRequisition_2012_DistrictHospital...   \n",
       "\n",
       "            data_collection  year                  geo_level  \\\n",
       "0  04EPIDistrictRequisition  2011  UpazilaandDistrictlevelHF   \n",
       "1         02EPIUpazilaStock  2010       UpazilaHealthComplex   \n",
       "2                     10KMC  2011   DistrictNGO&PrivateTotal   \n",
       "3                   07EmONC  2009  UpazilaandDistrictlevelHF   \n",
       "4  04EPIDistrictRequisition  2012           DistrictHospital   \n",
       "\n",
       "                                      abs_file_names  \n",
       "0  /Users/edinhamzic/Symphony/wb_bangladesh/data/...  \n",
       "1  /Users/edinhamzic/Symphony/wb_bangladesh/data/...  \n",
       "2  /Users/edinhamzic/Symphony/wb_bangladesh/data/...  \n",
       "3  /Users/edinhamzic/Symphony/wb_bangladesh/data/...  \n",
       "4  /Users/edinhamzic/Symphony/wb_bangladesh/data/...  "
      ]
     },
     "metadata": {},
     "output_type": "display_data"
    }
   ],
   "source": [
    "DATA_PATH = '/Users/edinhamzic/Symphony/wb_bangladesh/data/dhis2/health_indicators/'\n",
    "WD = '/Users/edinhamzic/Symphony/wb_bangladesh/'\n",
    "dhis2_files = list_files(DATA_PATH)\n",
    "display(dhis2_files.head())\n",
    "# dhis2_geos = ['Upazila', 'District']\n",
    "# dhis2_years = ['2010','2017']\n",
    "# datasets = create_sets(dhis2_files, geo_levels=dhis2_geos, years=dhis2_years)\n",
    "datasets = create_sets(dhis2_files, geo_levels='geo_level', years='year')"
   ]
  },
  {
   "cell_type": "markdown",
   "metadata": {},
   "source": [
    "## To do\n",
    "- Read all files\n",
    "- Arrange and combine"
   ]
  },
  {
   "cell_type": "code",
   "execution_count": 7,
   "metadata": {
    "scrolled": true
   },
   "outputs": [
    {
     "name": "stdout",
     "output_type": "stream",
     "text": [
      "UpazilaandDistrictlevelHF_2011\n",
      "UpazilaandDistrictlevelHF_2010\n",
      "UpazilaandDistrictlevelHF_2009\n",
      "UpazilaandDistrictlevelHF_2012\n",
      "UpazilaandDistrictlevelHF_2015\n",
      "UpazilaandDistrictlevelHF_2018\n",
      "UpazilaandDistrictlevelHF_2014\n",
      "UpazilaandDistrictlevelHF_2017\n",
      "UpazilaandDistrictlevelHF_2016\n",
      "UpazilaandDistrictlevelHF_2013\n",
      "UpazilaHealthComplex_2011\n",
      "UpazilaHealthComplex_2010\n",
      "UpazilaHealthComplex_2009\n",
      "UpazilaHealthComplex_2012\n",
      "UpazilaHealthComplex_2015\n",
      "UpazilaHealthComplex_2018\n",
      "UpazilaHealthComplex_2014\n",
      "UpazilaHealthComplex_2017\n",
      "UpazilaHealthComplex_2016\n",
      "UpazilaHealthComplex_2013\n",
      "DistrictNGO&PrivateTotal_2011\n",
      "DistrictNGO&PrivateTotal_2010\n",
      "DistrictNGO&PrivateTotal_2009\n",
      "DistrictNGO&PrivateTotal_2012\n",
      "DistrictNGO&PrivateTotal_2015\n",
      "DistrictNGO&PrivateTotal_2018\n",
      "DistrictNGO&PrivateTotal_2014\n",
      "DistrictNGO&PrivateTotal_2017\n",
      "DistrictNGO&PrivateTotal_2016\n",
      "DistrictNGO&PrivateTotal_2013\n",
      "DistrictHospital_2011\n",
      "DistrictHospital_2010\n",
      "DistrictHospital_2009\n",
      "DistrictHospital_2012\n",
      "DistrictHospital_2015\n",
      "DistrictHospital_2018\n",
      "DistrictHospital_2014\n",
      "DistrictHospital_2017\n",
      "DistrictHospital_2016\n",
      "DistrictHospital_2013\n",
      "District_2011\n",
      "District_2010\n",
      "District_2009\n",
      "District_2012\n",
      "District_2015\n",
      "District_2018\n",
      "District_2014\n",
      "District_2017\n",
      "District_2016\n",
      "District_2013\n",
      "Upazila_2011\n",
      "Upazila_2010\n",
      "Upazila_2009\n",
      "Upazila_2012\n",
      "Upazila_2015\n",
      "Upazila_2018\n",
      "Upazila_2014\n",
      "Upazila_2017\n",
      "Upazila_2016\n",
      "Upazila_2013\n",
      "UNICEF-MNHIdistrict_2011\n",
      "UNICEF-MNHIdistrict_2010\n",
      "UNICEF-MNHIdistrict_2009\n",
      "UNICEF-MNHIdistrict_2012\n",
      "UNICEF-MNHIdistrict_2015\n",
      "UNICEF-MNHIdistrict_2018\n",
      "UNICEF-MNHIdistrict_2014\n",
      "UNICEF-MNHIdistrict_2017\n",
      "UNICEF-MNHIdistrict_2016\n",
      "UNICEF-MNHIdistrict_2013\n",
      "DistrictandNational_2011\n",
      "DistrictandNational_2010\n",
      "DistrictandNational_2009\n",
      "DistrictandNational_2012\n",
      "DistrictandNational_2015\n",
      "DistrictandNational_2018\n",
      "DistrictandNational_2014\n",
      "DistrictandNational_2017\n",
      "DistrictandNational_2016\n",
      "DistrictandNational_2013\n",
      "UnionandUpazilalevelHF_2011\n",
      "UnionandUpazilalevelHF_2010\n",
      "UnionandUpazilalevelHF_2009\n",
      "UnionandUpazilalevelHF_2012\n",
      "UnionandUpazilalevelHF_2015\n",
      "UnionandUpazilalevelHF_2018\n",
      "UnionandUpazilalevelHF_2014\n",
      "UnionandUpazilalevelHF_2017\n",
      "UnionandUpazilalevelHF_2016\n",
      "UnionandUpazilalevelHF_2013\n"
     ]
    }
   ],
   "source": [
    "# Reading data\n",
    "data_dict = {}\n",
    "emptyness = list()\n",
    "filenames = list()\n",
    "for key, item in datasets.items():\n",
    "    print(key)\n",
    "    data_dict[key] = list()\n",
    "    for file in item['abs_file_names']:\n",
    "        tmp = pd.read_csv(file)\n",
    "        filenames.append(os.path.split(file)[1])\n",
    "        emptyness.append(tmp.empty)\n",
    "        data_dict[key].append(tmp)       "
   ]
  },
  {
   "cell_type": "code",
   "execution_count": 8,
   "metadata": {},
   "outputs": [
    {
     "data": {
      "text/plain": [
       "Counter({False: 1171, True: 688})"
      ]
     },
     "execution_count": 8,
     "metadata": {},
     "output_type": "execute_result"
    }
   ],
   "source": [
    "collections.Counter(emptyness)"
   ]
  },
  {
   "cell_type": "code",
   "execution_count": 9,
   "metadata": {
    "scrolled": true
   },
   "outputs": [
    {
     "name": "stdout",
     "output_type": "stream",
     "text": [
      "Missing data elements (not downloaed):  ['04EPIDistrictRequisition' '05EPIDistrictSupply' '03EPIDistrictStock'\n",
      " '10KMC' '06EPIUpazilaSupply' '01EPIReport(Routinevaccination)'\n",
      " '09AdolescentHealth' '02EPIUpazilaStock' '11EMEN(MBFFI)']\n",
      "\n",
      "\n",
      "Years for which above data elements are missing: [2011, 2010, 2009, 2012, 2015, 2018, 2014, 2017, 2016, 2013]\n",
      "\n",
      "\n",
      "Geolevels for which above data elements are missing ['UpazilaandDistrictlevelHF' 'UpazilaHealthComplex'\n",
      " 'DistrictNGO&PrivateTotal' 'DistrictHospital' 'District' 'Upazila'\n",
      " 'UNICEF-MNHIdistrict' 'DistrictandNational' 'UnionandUpazilalevelHF']\n",
      "\n",
      "\n"
     ]
    }
   ],
   "source": [
    "empty = pd.DataFrame.from_dict({'filennames': filenames, 'emptyness':emptyness})\n",
    "print(f\"Missing data elements (not downloaed):  {empty[emptyness]['filennames'].str.split('_', expand=True)[0].unique()}\")\n",
    "print(\"\\n\")\n",
    "print(f\"Years for which above data elements are missing: {[int(year) for year in empty[emptyness]['filennames'].str.split('_', expand=True)[1].unique()]}\")\n",
    "print(\"\\n\")\n",
    "print(f\"Geolevels for which above data elements are missing {empty[emptyness]['filennames'].str.split('_', expand=True)[2].unique()}\")\n",
    "print(\"\\n\")"
   ]
  },
  {
   "cell_type": "code",
   "execution_count": null,
   "metadata": {
    "collapsed": true
   },
   "outputs": [],
   "source": []
  }
 ],
 "metadata": {
  "kernelspec": {
   "display_name": "Python 3",
   "language": "python",
   "name": "python3"
  },
  "language_info": {
   "codemirror_mode": {
    "name": "ipython",
    "version": 3
   },
   "file_extension": ".py",
   "mimetype": "text/x-python",
   "name": "python",
   "nbconvert_exporter": "python",
   "pygments_lexer": "ipython3",
   "version": "3.6.6"
  }
 },
 "nbformat": 4,
 "nbformat_minor": 2
}
