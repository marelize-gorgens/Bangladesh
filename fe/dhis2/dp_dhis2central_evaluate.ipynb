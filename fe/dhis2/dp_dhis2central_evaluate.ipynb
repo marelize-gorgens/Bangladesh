{
 "cells": [
  {
   "cell_type": "markdown",
   "metadata": {},
   "source": [
    "# Data Preprocessing - DHIS2 Data - Child Health\n"
   ]
  },
  {
   "cell_type": "markdown",
   "metadata": {},
   "source": [
    "## Packages"
   ]
  },
  {
   "cell_type": "code",
   "execution_count": 215,
   "metadata": {
    "collapsed": true
   },
   "outputs": [],
   "source": [
    "import os\n",
    "import glob\n",
    "import numpy as np\n",
    "import pandas as pd\n",
    "import collections"
   ]
  },
  {
   "cell_type": "markdown",
   "metadata": {},
   "source": [
    "## Main"
   ]
  },
  {
   "cell_type": "code",
   "execution_count": 216,
   "metadata": {},
   "outputs": [
    {
     "data": {
      "text/plain": [
       "'/Users/edinhamzic/Symphony/wb_bangladesh'"
      ]
     },
     "execution_count": 216,
     "metadata": {},
     "output_type": "execute_result"
    }
   ],
   "source": [
    "os.getcwd()\n",
    "os.chdir('/Users/edinhamzic/Symphony/wb_bangladesh/')\n",
    "os.getcwd()"
   ]
  },
  {
   "cell_type": "code",
   "execution_count": 217,
   "metadata": {
    "collapsed": true
   },
   "outputs": [],
   "source": [
    "def list_files(path, pattern):\n",
    "    path_all = os.path.join(path, pattern)\n",
    "    file_names = os.listdir(path)\n",
    "    abs_file_names = glob.glob(path_all, recursive=True)\n",
    "    file_names = [os.path.split(glob.glob(file_path)[0])[1] for file_path in abs_file_names]\n",
    "    data_collection = [file_name.split(\"_\")[0] for file_name in file_names]\n",
    "    year = [file_name.split(\"_\")[1] for file_name in file_names]\n",
    "    geo_level = [file_name.split(\"_\")[2] for file_name in file_names]\n",
    "    file_type = [file_name.split(\"_\")[3][:-4] for file_name in file_names]\n",
    "    files_df = pd.DataFrame.from_dict({'file_names': file_names, \n",
    "                                       'data_collection': data_collection,\n",
    "                                       'year': year,\n",
    "                                       'geo_level': geo_level,\n",
    "                                       'file_type': file_type ,\n",
    "                                       'abs_file_names': abs_file_names\n",
    "                                      })\n",
    "\n",
    "    return files_df\n",
    "\n",
    "def subset_paths(input_df, years, geo_levels, file_types):\n",
    "    df = input_df.copy(deep=True)\n",
    "    years_subset = [str(year) in years for year in df['year']]\n",
    "    geos_subset = [str(geo) in geo_levels for geo in df['geo_level']]\n",
    "    filetype_subset = [str(file_type) in file_types for file_type in df['file_type']]\n",
    "    df = df.loc[np.array(years_subset) & np.array(geos_subset) & np.array(filetype_subset)] \n",
    "    return df\n",
    "\n",
    "def read_transform(input_df, year_var, file):\n",
    "    df = input_df.copy(deep=True)\n",
    "    data_dict = {}\n",
    "    for i in df.index:\n",
    "        tmp = pd.read_csv(df[file][i])\n",
    "        tmp = tmp.pivot_table(values='Value',index='Organisation unit', columns='Data')\n",
    "        data_dict[df[year_var][i]] = tmp\n",
    "        print(f\"################################# {df[year_var][i]} ###################################\")\n",
    "        print(round(tmp.isna().sum() / tmp.shape[0]*100,2))\n",
    "        print(np.mean(round(tmp.isna().sum() / tmp.shape[0]*100,2)))\n",
    "        print(sum(tmp.isna().sum()) / (tmp.shape[0]*tmp.shape[1])*100,2)    \n",
    "    return data_dict\n",
    "\n",
    "def select_variables(input_data_dict, pattern):\n",
    "    data_dict = input_data_dict.copy()\n",
    "    for key, value in data_dict.items():\n",
    "        print([variable for variable in data_dict[key].columns if pattern in variable])\n",
    "        data_dict[key] = data_dict[key][[variable for variable in data_dict[key].columns if pattern in variable]]\n",
    "    return data_dict"
   ]
  },
  {
   "cell_type": "code",
   "execution_count": 218,
   "metadata": {
    "scrolled": false
   },
   "outputs": [
    {
     "name": "stdout",
     "output_type": "stream",
     "text": [
      "################################# 2018 ###################################\n",
      "Data\n",
      "% of breast feeding initiated within 1 hour by CSBA    0.00\n",
      "% of neonatal death reported individually              3.12\n",
      "IMCI Stunting (%)                                      0.00\n",
      "IMCI Total Child                                       0.00\n",
      "IMCI Underweight (%)                                   0.00\n",
      "IMCI Wasting (%)                                       0.00\n",
      "Neonatal Case fatality rate (EmOC)                     0.00\n",
      "Percentage of diarrhea reported at facility            0.00\n",
      "Percentage of pneumonia reported at facility           0.00\n",
      "dtype: float64\n",
      "0.3466666666666667\n",
      "0.3472222222222222 2\n",
      "################################# 2010 ###################################\n",
      "Data\n",
      "% of breast feeding initiated within 1 hour by CSBA    0.00\n",
      "% of neonatal death reported individually              4.69\n",
      "IMCI Stunting (%)                                      0.00\n",
      "IMCI Total Child                                       0.00\n",
      "IMCI Underweight (%)                                   0.00\n",
      "IMCI Wasting (%)                                       0.00\n",
      "Neonatal Case fatality rate (EmOC)                     0.00\n",
      "Percentage of diarrhea reported at facility            0.00\n",
      "Percentage of pneumonia reported at facility           0.00\n",
      "dtype: float64\n",
      "0.5211111111111112\n",
      "0.5208333333333333 2\n",
      "################################# 2009 ###################################\n",
      "Data\n",
      "% of breast feeding initiated within 1 hour by CSBA    0.00\n",
      "% of neonatal death reported individually              4.69\n",
      "IMCI Stunting (%)                                      0.00\n",
      "IMCI Total Child                                       0.00\n",
      "IMCI Underweight (%)                                   0.00\n",
      "IMCI Wasting (%)                                       0.00\n",
      "Neonatal Case fatality rate (EmOC)                     0.00\n",
      "Percentage of diarrhea reported at facility            0.00\n",
      "Percentage of pneumonia reported at facility           0.00\n",
      "dtype: float64\n",
      "0.5211111111111112\n",
      "0.5208333333333333 2\n",
      "################################# 2015 ###################################\n",
      "Data\n",
      "% of breast feeding initiated within 1 hour by CSBA    0.00\n",
      "% of neonatal death reported individually              3.12\n",
      "IMCI Stunting (%)                                      0.00\n",
      "IMCI Total Child                                       0.00\n",
      "IMCI Underweight (%)                                   0.00\n",
      "IMCI Wasting (%)                                       0.00\n",
      "Neonatal Case fatality rate (EmOC)                     0.00\n",
      "Percentage of diarrhea reported at facility            0.00\n",
      "Percentage of pneumonia reported at facility           0.00\n",
      "dtype: float64\n",
      "0.3466666666666667\n",
      "0.3472222222222222 2\n",
      "################################# 2011 ###################################\n",
      "Data\n",
      "% of breast feeding initiated within 1 hour by CSBA    0.00\n",
      "% of neonatal death reported individually              1.56\n",
      "IMCI Stunting (%)                                      0.00\n",
      "IMCI Total Child                                       0.00\n",
      "IMCI Underweight (%)                                   0.00\n",
      "IMCI Wasting (%)                                       0.00\n",
      "Neonatal Case fatality rate (EmOC)                     0.00\n",
      "Percentage of diarrhea reported at facility            0.00\n",
      "Percentage of pneumonia reported at facility           0.00\n",
      "dtype: float64\n",
      "0.17333333333333334\n",
      "0.1736111111111111 2\n",
      "################################# 2014 ###################################\n",
      "Data\n",
      "% of breast feeding initiated within 1 hour by CSBA    0.00\n",
      "% of neonatal death reported individually              1.56\n",
      "IMCI Stunting (%)                                      0.00\n",
      "IMCI Total Child                                       0.00\n",
      "IMCI Underweight (%)                                   0.00\n",
      "IMCI Wasting (%)                                       0.00\n",
      "Neonatal Case fatality rate (EmOC)                     0.00\n",
      "Percentage of diarrhea reported at facility            0.00\n",
      "Percentage of pneumonia reported at facility           0.00\n",
      "dtype: float64\n",
      "0.17333333333333334\n",
      "0.1736111111111111 2\n",
      "################################# 2012 ###################################\n",
      "Data\n",
      "% of breast feeding initiated within 1 hour by CSBA    0.0\n",
      "% of neonatal death reported individually              0.0\n",
      "IMCI Stunting (%)                                      0.0\n",
      "IMCI Total Child                                       0.0\n",
      "IMCI Underweight (%)                                   0.0\n",
      "IMCI Wasting (%)                                       0.0\n",
      "Neonatal Case fatality rate (EmOC)                     0.0\n",
      "Percentage of diarrhea reported at facility            0.0\n",
      "Percentage of pneumonia reported at facility           0.0\n",
      "dtype: float64\n",
      "0.0\n",
      "0.0 2\n",
      "################################# 2017 ###################################\n",
      "Data\n",
      "% of breast feeding initiated within 1 hour by CSBA    0.0\n",
      "% of neonatal death reported individually              0.0\n",
      "IMCI Stunting (%)                                      0.0\n",
      "IMCI Total Child                                       0.0\n",
      "IMCI Underweight (%)                                   0.0\n",
      "IMCI Wasting (%)                                       0.0\n",
      "Neonatal Case fatality rate (EmOC)                     0.0\n",
      "Percentage of diarrhea reported at facility            0.0\n",
      "Percentage of pneumonia reported at facility           0.0\n",
      "dtype: float64\n",
      "0.0\n",
      "0.0 2\n",
      "################################# 2013 ###################################\n",
      "Data\n",
      "% of breast feeding initiated within 1 hour by CSBA    0.0\n",
      "% of neonatal death reported individually              0.0\n",
      "IMCI Stunting (%)                                      0.0\n",
      "IMCI Total Child                                       0.0\n",
      "IMCI Underweight (%)                                   0.0\n",
      "IMCI Wasting (%)                                       0.0\n",
      "Neonatal Case fatality rate (EmOC)                     0.0\n",
      "Percentage of diarrhea reported at facility            0.0\n",
      "Percentage of pneumonia reported at facility           0.0\n",
      "dtype: float64\n",
      "0.0\n",
      "0.0 2\n",
      "################################# 2016 ###################################\n",
      "Data\n",
      "% of breast feeding initiated within 1 hour by CSBA    0.00\n",
      "% of neonatal death reported individually              1.56\n",
      "IMCI Stunting (%)                                      0.00\n",
      "IMCI Total Child                                       0.00\n",
      "IMCI Underweight (%)                                   0.00\n",
      "IMCI Wasting (%)                                       0.00\n",
      "Neonatal Case fatality rate (EmOC)                     0.00\n",
      "Percentage of diarrhea reported at facility            0.00\n",
      "Percentage of pneumonia reported at facility           0.00\n",
      "dtype: float64\n",
      "0.17333333333333334\n",
      "0.1736111111111111 2\n"
     ]
    }
   ],
   "source": [
    "childhealth = list_files(path='data/dhis2/health_indicators/', pattern='02ChildHealth_*')\n",
    "childhealth = subset_paths(input_df=childhealth, years=[str(year) for year in range(2009, 2019)], geo_levels=['District'], file_types=['NAME'])\n",
    "childhealth = read_transform(input_df=childhealth, year_var='year', file='abs_file_names')\n"
   ]
  },
  {
   "cell_type": "code",
   "execution_count": 225,
   "metadata": {},
   "outputs": [
    {
     "name": "stdout",
     "output_type": "stream",
     "text": [
      "['IMCI Stunting (%)', 'IMCI Total Child', 'IMCI Underweight (%)', 'IMCI Wasting (%)']\n",
      "['IMCI Stunting (%)', 'IMCI Total Child', 'IMCI Underweight (%)', 'IMCI Wasting (%)']\n",
      "['IMCI Stunting (%)', 'IMCI Total Child', 'IMCI Underweight (%)', 'IMCI Wasting (%)']\n",
      "['IMCI Stunting (%)', 'IMCI Total Child', 'IMCI Underweight (%)', 'IMCI Wasting (%)']\n",
      "['IMCI Stunting (%)', 'IMCI Total Child', 'IMCI Underweight (%)', 'IMCI Wasting (%)']\n",
      "['IMCI Stunting (%)', 'IMCI Total Child', 'IMCI Underweight (%)', 'IMCI Wasting (%)']\n",
      "['IMCI Stunting (%)', 'IMCI Total Child', 'IMCI Underweight (%)', 'IMCI Wasting (%)']\n",
      "['IMCI Stunting (%)', 'IMCI Total Child', 'IMCI Underweight (%)', 'IMCI Wasting (%)']\n",
      "['IMCI Stunting (%)', 'IMCI Total Child', 'IMCI Underweight (%)', 'IMCI Wasting (%)']\n",
      "['IMCI Stunting (%)', 'IMCI Total Child', 'IMCI Underweight (%)', 'IMCI Wasting (%)']\n"
     ]
    },
    {
     "data": {
      "text/plain": [
       "1.7557812500000007"
      ]
     },
     "execution_count": 225,
     "metadata": {},
     "output_type": "execute_result"
    }
   ],
   "source": [
    "childhealth = select_variables(input_data_dict=childhealth, pattern='IMCI')\n",
    "childhealth['2018']['IMCI Stunting (%)'].mean()"
   ]
  },
  {
   "cell_type": "code",
   "execution_count": 227,
   "metadata": {},
   "outputs": [
    {
     "name": "stdout",
     "output_type": "stream",
     "text": [
      "####################### 2009 #################################\n",
      "6555935.0\n",
      "3.1193750000000007\n",
      "1.1990625\n",
      "####################### 2010 #################################\n",
      "6565822.0\n",
      "3.1203125000000003\n",
      "1.20046875\n",
      "####################### 2011 #################################\n",
      "6834903.0\n",
      "3.0075000000000007\n",
      "1.1653125\n",
      "####################### 2012 #################################\n",
      "11096955.0\n",
      "1.9642187500000001\n",
      "0.7559375000000002\n",
      "####################### 2013 #################################\n",
      "11529608.0\n",
      "1.8726562500000001\n",
      "0.7181250000000002\n",
      "####################### 2014 #################################\n",
      "11959548.0\n",
      "2.5771875\n",
      "0.8470312500000002\n",
      "####################### 2015 #################################\n",
      "12299909.0\n",
      "2.5132812499999995\n",
      "0.8503125000000001\n",
      "####################### 2016 #################################\n",
      "12659779.0\n",
      "2.869375\n",
      "0.9248437500000001\n",
      "####################### 2017 #################################\n",
      "13769386.0\n",
      "3.01328125\n",
      "1.1085937500000003\n",
      "####################### 2018 #################################\n",
      "7119544.0\n",
      "3.10734375\n",
      "1.2134375000000002\n"
     ]
    }
   ],
   "source": [
    "for year in range(2009,2019):\n",
    "    print(f\"####################### {year} #################################\")\n",
    "    print(childhealth[str(year)]['IMCI Total Child'].sum())\n",
    "    print(childhealth[str(year)]['IMCI Underweight (%)'].mean())\n",
    "    print(childhealth[str(year)]['IMCI Wasting (%)'].mean())"
   ]
  },
  {
   "cell_type": "code",
   "execution_count": null,
   "metadata": {
    "collapsed": true
   },
   "outputs": [],
   "source": []
  }
 ],
 "metadata": {
  "kernelspec": {
   "display_name": "Python 3",
   "language": "python",
   "name": "python3"
  },
  "language_info": {
   "codemirror_mode": {
    "name": "ipython",
    "version": 3
   },
   "file_extension": ".py",
   "mimetype": "text/x-python",
   "name": "python",
   "nbconvert_exporter": "python",
   "pygments_lexer": "ipython3",
   "version": "3.6.6"
  }
 },
 "nbformat": 4,
 "nbformat_minor": 2
}
