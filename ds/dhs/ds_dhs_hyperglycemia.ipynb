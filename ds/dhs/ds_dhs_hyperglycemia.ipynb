{
 "cells": [
  {
   "cell_type": "markdown",
   "metadata": {},
   "source": [
    "# Predicting prevalence of hyperglycemia on Zila level"
   ]
  },
  {
   "cell_type": "markdown",
   "metadata": {},
   "source": [
    "## Content\n",
    "\n",
    "- Data cleaning and preprocessing: DHS and SVRS\n",
    "- Model fine-tuning using XGBoost\n",
    "- SVRS: Data preprocessing and preparation\n",
    "- Predicting and writing output for SVRS data"
   ]
  },
  {
   "cell_type": "markdown",
   "metadata": {},
   "source": [
    "## Notes\n",
    "\n",
    "- Definition of diabetes:\n",
    "    - Recommendation for diagnosis of diabetes [WHO](https://www.who.int/diabetes/publications/Definition%20and%20diagnosis%20of%20diabetes_new.pdf)\n",
    "- Hyperglycemia if meets any of the following three criteria:\n",
    "    - FBG ≥ 126 mg/dl (7.0 mmol/l)\n",
    "    - Doctor/nurse diagnosed diabetes\n",
    "    - Taking diabetes medication"
   ]
  },
  {
   "cell_type": "markdown",
   "metadata": {},
   "source": [
    "## Packages"
   ]
  },
  {
   "cell_type": "code",
   "execution_count": 1,
   "metadata": {},
   "outputs": [],
   "source": [
    "import os\n",
    "import re\n",
    "import glob\n",
    "os.environ['KMP_DUPLICATE_LIB_OK']='True'\n",
    "import itertools\n",
    "import collections\n",
    "import logging\n",
    "import numpy as np\n",
    "import pandas as pd\n",
    "import pandas_ml as pd_ml\n",
    "import seaborn as sns\n",
    "from collections import Counter\n",
    "from sklearn.datasets import make_classification\n",
    "from imblearn.over_sampling import SMOTE\n",
    "from imblearn.over_sampling import RandomOverSampler \n",
    "from sklearn.linear_model import LogisticRegression\n",
    "from sklearn.linear_model import LogisticRegressionCV\n",
    "\n",
    "\n",
    "from datetime import timedelta\n",
    "from datetime import datetime as dt\n",
    "\n",
    "import matplotlib.pyplot as plt\n",
    "from sklearn.metrics import roc_auc_score\n",
    "from sklearn.metrics import classification_report\n",
    "from sklearn.metrics import precision_recall_curve\n",
    "from sklearn.metrics import accuracy_score\n",
    "from sklearn.metrics import precision_score\n",
    "from sklearn.metrics import recall_score\n",
    "from sklearn.metrics import f1_score\n",
    "from sklearn.metrics import mean_squared_error\n",
    "\n",
    "from sklearn.preprocessing import OneHotEncoder\n",
    "from sklearn.metrics import classification_report\n",
    "from sklearn.model_selection import train_test_split\n",
    "from hyperopt import STATUS_OK, Trials, fmin, hp, tpe\n",
    "from sklearn.metrics import confusion_matrix\n"
   ]
  },
  {
   "cell_type": "markdown",
   "metadata": {},
   "source": [
    "## Custom functions"
   ]
  },
  {
   "cell_type": "code",
   "execution_count": 20,
   "metadata": {},
   "outputs": [],
   "source": [
    "def subset_by_var1(input_df, var):\n",
    "    df = input_df.copy(deep=True)\n",
    "    print(df.shape)\n",
    "    df = df.loc[df[var].notna(),:]\n",
    "    print(df.shape)\n",
    "    return df\n",
    "\n",
    "\n",
    "def subset_by_var2(input_df, var):\n",
    "    df = input_df.copy(deep=True)\n",
    "    print(df.shape)\n",
    "    df = df.loc[df[var] != -9,:]\n",
    "    print(df.shape)\n",
    "    return df\n",
    "\n",
    "\n",
    "def remove_metadata(input_df, metadata):\n",
    "    df = input_df.copy(deep=True)\n",
    "    var_select = [var1 for var1,var2 in zip(metadata['variable'],metadata['model_keep']) if var2 == 0]\n",
    "    print(df.shape)\n",
    "    df = df.drop(var_select, axis=1)\n",
    "    print(df.shape)\n",
    "    return df \n",
    " \n",
    "def remove_uniform(input_df):\n",
    "    df = input_df.copy(deep=True)\n",
    "    var_list = []\n",
    "    for key, var in enumerate(df):\n",
    "        tmp = df[var].dropna()\n",
    "        if len(tmp.unique()) == 1:\n",
    "            var_list.append(var)\n",
    "    print(df.shape)\n",
    "    print(var_list)\n",
    "    df = df.drop(var_list, axis=1)\n",
    "    print(df.shape)\n",
    "    return df\n",
    "    \n",
    "def remove_identical(input_df):\n",
    "    df = input_df.copy(deep=True)\n",
    "    var_pairs_check = []\n",
    "    var_pairs = []\n",
    "    for pair in itertools.combinations(list(df.columns),2):\n",
    "        var_pairs.append(pair)\n",
    "        var_pairs_check.append(all(df[pair[0]] == df[pair[1]]))\n",
    "    selected_pairs = [pair for pair, check in zip(var_pairs, var_pairs_check) if check]\n",
    "    selected_var = [var2 for var1,var2 in selected_pairs]\n",
    "    print(df.shape)\n",
    "    df = df.drop(list(set(selected_var)), axis=1)\n",
    "    print(df.shape)\n",
    "    return df\n",
    "\n",
    "\n",
    "def remove_missing(input_df, threshold):\n",
    "    df = input_df.copy(deep=True)\n",
    "    drop_vars = []\n",
    "    for key, var in enumerate(df):\n",
    "        null_percent = round(df[var].isnull().mean() * 100,2)\n",
    "        if null_percent >= threshold:\n",
    "            drop_vars.append(var)\n",
    "    print(df.shape)\n",
    "    df = df.drop(drop_vars, axis=1)\n",
    "    print(df.shape)\n",
    "    return df\n",
    "\n",
    "\n",
    "def check_variables(input_df):\n",
    "    df = input_df.copy(deep=True)\n",
    "    var_types = [var_n for var_t,var_n  in zip(df.dtypes, df.columns) if var_t == 'O']\n",
    "    return var_types\n",
    "\n",
    "def summarize_variables(input_df, metadata_df):\n",
    "    metadata = metadata_df.copy(deep=True)\n",
    "    metadata['num_values'] = 'NaN'\n",
    "    for key, var in enumerate(metadata.values):\n",
    "        metadata.loc[key,'num_values'] = len(input_df[var[0]].unique())\n",
    "    return metadata\n",
    "\n",
    "\n",
    "def determine_hypertension(input_df):\n",
    "    df = input_df.copy(deep=True)\n",
    "    df['hypertension'] = -9\n",
    "    for key, value in enumerate(df.values):\n",
    "        if (df.loc[key,'sh250'] == 1. or df.loc[key,'sh249'] == 1. or df.loc[key,'fsysto'] >= 140. or df.loc[key,'fdysto'] >= 90.):\n",
    "            df.at[key, 'hypertension'] = 1\n",
    "        elif (df.loc[key,'sh250'] == 0 or df.loc[key,'sh249'] == 0 or df.loc[key,'fsysto'] < 140 or df.loc[key,'fdysto'] < 90):\n",
    "            df.at[key, 'hypertension'] = 0\n",
    "        else:\n",
    "            df.at[key,'hypertension'] = -9\n",
    "    return df  \n",
    "\n",
    "def determine_hyperglycaemia(input_df):\n",
    "    df = input_df.copy(deep=True)\n",
    "    df['sh280'] = np.where(df['sh280'].isna(), 9999, df['sh280'])\n",
    "    df['sh280'] = df['sh280'].astype(int).astype(str)\n",
    "    df['meal'] = 1\n",
    "    for key,time in enumerate(df['sh280']):\n",
    "        try:\n",
    "            df.at[key,'meal'] = dt.strptime(time,'%H%M')\n",
    "        except ValueError:\n",
    "            df.at[key,'meal'] = dt.strptime('2020-01-01:00:00','%Y-%m-%d:%H:%M')\n",
    "    \n",
    "    df['sh281'] = np.where(df['sh281'].isna(), 9999, df['sh281'])\n",
    "    df['sh281'] = df['sh281'].astype(int).astype(str)\n",
    "    df['drink'] = 1\n",
    "    for key,time in enumerate(df['sh281']):\n",
    "        try:\n",
    "            df.at[key,'drink'] = dt.strptime(time,'%H%M')\n",
    "        except ValueError:\n",
    "            df.at[key,'drink'] = dt.strptime('2020-01-01:00:00','%Y-%m-%d:%H:%M')\n",
    "    \n",
    "    df['sh283t'] = np.where(df['sh283t'].isna(), 9999, df['sh283t'])\n",
    "    df['sh283t'] = df['sh283t'].astype(int).astype(str)\n",
    "    df['measure_time'] = 1\n",
    "    for key,time in enumerate(df['sh283t']):\n",
    "        try:\n",
    "            df.at[key,'measure_time'] = dt.strptime(time,'%H%M')\n",
    "        except ValueError:\n",
    "            df.at[key,'measure_time'] = dt.strptime('2020-01-01:00:00','%Y-%m-%d:%H:%M')\n",
    "    df['meal'] = pd.to_datetime(df['meal'], format='%Y-%m-%d %H:%M:%S')\n",
    "    df['drink'] = pd.to_datetime(df['drink'], format='%Y-%m-%d %H:%M:%S')\n",
    "    df['measure_time'] = pd.to_datetime(df['measure_time'], format='%Y-%m-%d %H:%M:%S')\n",
    "    df['meal_delta'] = df['meal'] - df['measure_time']\n",
    "    df['meal_delta'] = df['meal_delta']/np.timedelta64(1,'h')\n",
    "    df['meal_fasting'] = np.where(df['meal_delta'] > 4, 1, 0)\n",
    "    df['drink_delta'] = df['drink'] - df['measure_time']\n",
    "    df['drink_delta'] = df['drink_delta']/np.timedelta64(1,'h')\n",
    "    df['drink_fasting'] = np.where(df['drink_delta'] > 4, 1, 0)\n",
    "    df['hyperglycaemia'] = -9\n",
    "    # sh258: Ever told by a doctor/nurse to have diabetes\n",
    "    # sh259: Taking medication for the diabetes\n",
    "    # df.loc[key,'drink_fasting'] == 1. and df.loc[key,'meal_fasting'] == 1. and \n",
    "    # df.loc[key,'drink_fasting'] == 0. and df.loc[key,'meal_fasting'] == 0. and \n",
    "    for key, value in enumerate(df.values):\n",
    "        if (df.loc[key,'sh284b'] >= 126 or df.loc[key,'sh258'] == 1 or df.loc[key,'sh259'] == 1):\n",
    "            df.at[key, 'hyperglycaemia'] = 1\n",
    "        elif (df.loc[key,'sh284b'] < 126 or df.loc[key,'sh258'] == 0 or df.loc[key,'sh259'] == 0):\n",
    "            df.at[key, 'hyperglycaemia'] = 0\n",
    "        else:\n",
    "            df.at[key, 'hyperglycaemia'] = -9\n",
    "    return df \n",
    "\n",
    "\n",
    "def to_categorical(input_df, input_meta):\n",
    "    df = input_df.copy(deep=True)\n",
    "    for var in df.columns:\n",
    "        if str(input_meta[input_meta['variable'] == var].values[0][4]) == 'categorical':\n",
    "            df[var] =  df[var].astype('str').astype('category')\n",
    "    return df\n",
    "\n",
    "def threshold_cut(input_df, threshold):\n",
    "    df = input_df.copy(deep=True)\n",
    "    df = df.sort_values(by='importance', ascending=False)\n",
    "    df['cumsum'] = np.cumsum(df['importance'])\n",
    "    df = df[df['cumsum'] >= threshold]\n",
    "    return df\n",
    "\n",
    "def get_svrs_metadata(path, pattern):\n",
    "    out_files = []\n",
    "    for path, subdirs, files in os.walk(path):\n",
    "        out_files = out_files + [os.path.join(path,file) for file in files if bool(re.search(pattern=pattern,string=file))]\n",
    "    return out_files\n",
    "\n",
    "def search_pattern(input_df, var, pattern):\n",
    "    df = input_df.copy(deep=True)\n",
    "    subset = [bool(re.search(pattern=pattern, string=var)) for var in df[var]]\n",
    "    return df[subset]\n"
   ]
  },
  {
   "cell_type": "markdown",
   "metadata": {},
   "source": [
    "```\n",
    "def read_svrs(path, pattern):\n",
    "    data = {}\n",
    "    original_variables = {}\n",
    "    for path, subdir, files in os.walk(path):\n",
    "        for file in files:\n",
    "            if file.endswith(pattern):\n",
    "                itr = pd.read_stata(os.path.join(path,file), iterator=True)\n",
    "                variables = list(itr.variable_labels().values())\n",
    "                data[file] = pd.read_stata(os.path.join(path,file))\n",
    "                original_variables[file] = list(data[file].columns)\n",
    "                data[file].columns = variables\n",
    "    return data, original_variables\n",
    "```"
   ]
  },
  {
   "cell_type": "markdown",
   "metadata": {},
   "source": [
    "## Variables"
   ]
  },
  {
   "cell_type": "code",
   "execution_count": 3,
   "metadata": {},
   "outputs": [],
   "source": [
    "NCD_DATA = '/Users/edinhamzic/Symphony/wb_bangladesh/Bangladesh/output/dhs/ncd_data/data_dd_dhs_ncd.csv'\n",
    "METADATA = '/Users/edinhamzic/Symphony/wb_bangladesh/Bangladesh/output/dhs/ncd_data/metadata_dd_dhs_ncd.csv'\n",
    "METADATA_M = '/Users/edinhamzic/Symphony/wb_bangladesh/Bangladesh/output/dhs/ncd_data/metadata_dd_dhs_ncd_m.csv'"
   ]
  },
  {
   "cell_type": "markdown",
   "metadata": {},
   "source": [
    "## Reading data"
   ]
  },
  {
   "cell_type": "code",
   "execution_count": 4,
   "metadata": {},
   "outputs": [
    {
     "data": {
      "text/html": [
       "<div>\n",
       "<style scoped>\n",
       "    .dataframe tbody tr th:only-of-type {\n",
       "        vertical-align: middle;\n",
       "    }\n",
       "\n",
       "    .dataframe tbody tr th {\n",
       "        vertical-align: top;\n",
       "    }\n",
       "\n",
       "    .dataframe thead th {\n",
       "        text-align: right;\n",
       "    }\n",
       "</style>\n",
       "<table border=\"1\" class=\"dataframe\">\n",
       "  <thead>\n",
       "    <tr style=\"text-align: right;\">\n",
       "      <th></th>\n",
       "      <th>variable</th>\n",
       "      <th>description</th>\n",
       "      <th>model_keep</th>\n",
       "      <th>num_values</th>\n",
       "      <th>type</th>\n",
       "    </tr>\n",
       "  </thead>\n",
       "  <tbody>\n",
       "    <tr>\n",
       "      <th>0</th>\n",
       "      <td>hhid</td>\n",
       "      <td>Case Identification</td>\n",
       "      <td>0</td>\n",
       "      <td>17141</td>\n",
       "      <td>numeric</td>\n",
       "    </tr>\n",
       "    <tr>\n",
       "      <th>1</th>\n",
       "      <td>hvidx</td>\n",
       "      <td>Line number</td>\n",
       "      <td>0</td>\n",
       "      <td>31</td>\n",
       "      <td>categorical</td>\n",
       "    </tr>\n",
       "    <tr>\n",
       "      <th>2</th>\n",
       "      <td>hv000</td>\n",
       "      <td>Country code and phase</td>\n",
       "      <td>0</td>\n",
       "      <td>1</td>\n",
       "      <td>categorical</td>\n",
       "    </tr>\n",
       "    <tr>\n",
       "      <th>3</th>\n",
       "      <td>hv001</td>\n",
       "      <td>Cluster number</td>\n",
       "      <td>0</td>\n",
       "      <td>600</td>\n",
       "      <td>categorical</td>\n",
       "    </tr>\n",
       "    <tr>\n",
       "      <th>4</th>\n",
       "      <td>hv002</td>\n",
       "      <td>Household number</td>\n",
       "      <td>0</td>\n",
       "      <td>184</td>\n",
       "      <td>categorical</td>\n",
       "    </tr>\n",
       "  </tbody>\n",
       "</table>\n",
       "</div>"
      ],
      "text/plain": [
       "  variable             description  model_keep  num_values         type\n",
       "0     hhid     Case Identification           0       17141      numeric\n",
       "1    hvidx             Line number           0          31  categorical\n",
       "2    hv000  Country code and phase           0           1  categorical\n",
       "3    hv001          Cluster number           0         600  categorical\n",
       "4    hv002        Household number           0         184  categorical"
      ]
     },
     "execution_count": 4,
     "metadata": {},
     "output_type": "execute_result"
    }
   ],
   "source": [
    "ncd_data = pd.read_csv(NCD_DATA)\n",
    "ncd_metadata = pd.read_csv(METADATA_M)\n",
    "ncd_metadata.head()"
   ]
  },
  {
   "cell_type": "code",
   "execution_count": 5,
   "metadata": {},
   "outputs": [
    {
     "data": {
      "text/html": [
       "<div>\n",
       "<style scoped>\n",
       "    .dataframe tbody tr th:only-of-type {\n",
       "        vertical-align: middle;\n",
       "    }\n",
       "\n",
       "    .dataframe tbody tr th {\n",
       "        vertical-align: top;\n",
       "    }\n",
       "\n",
       "    .dataframe thead th {\n",
       "        text-align: right;\n",
       "    }\n",
       "</style>\n",
       "<table border=\"1\" class=\"dataframe\">\n",
       "  <thead>\n",
       "    <tr style=\"text-align: right;\">\n",
       "      <th></th>\n",
       "      <th>Unnamed: 0</th>\n",
       "      <th>hhid</th>\n",
       "      <th>hvidx</th>\n",
       "      <th>hv000</th>\n",
       "      <th>hv001</th>\n",
       "      <th>hv002</th>\n",
       "      <th>hv003</th>\n",
       "      <th>hv004</th>\n",
       "      <th>hv005</th>\n",
       "      <th>hv006</th>\n",
       "      <th>...</th>\n",
       "      <th>shsd3</th>\n",
       "      <th>shbm</th>\n",
       "      <th>shri</th>\n",
       "      <th>shcmc</th>\n",
       "      <th>shflg</th>\n",
       "      <th>shsmk</th>\n",
       "      <th>shresi</th>\n",
       "      <th>shed1</th>\n",
       "      <th>shed2</th>\n",
       "      <th>shed3</th>\n",
       "    </tr>\n",
       "  </thead>\n",
       "  <tbody>\n",
       "    <tr>\n",
       "      <th>0</th>\n",
       "      <td>1</td>\n",
       "      <td>1  3</td>\n",
       "      <td>1</td>\n",
       "      <td>BD6</td>\n",
       "      <td>1</td>\n",
       "      <td>3</td>\n",
       "      <td>2</td>\n",
       "      <td>1</td>\n",
       "      <td>504672</td>\n",
       "      <td>8</td>\n",
       "      <td>...</td>\n",
       "      <td>NaN</td>\n",
       "      <td>NaN</td>\n",
       "      <td>NaN</td>\n",
       "      <td>NaN</td>\n",
       "      <td>NaN</td>\n",
       "      <td>NaN</td>\n",
       "      <td>NaN</td>\n",
       "      <td>NaN</td>\n",
       "      <td>NaN</td>\n",
       "      <td>NaN</td>\n",
       "    </tr>\n",
       "    <tr>\n",
       "      <th>1</th>\n",
       "      <td>2</td>\n",
       "      <td>1  3</td>\n",
       "      <td>2</td>\n",
       "      <td>BD6</td>\n",
       "      <td>1</td>\n",
       "      <td>3</td>\n",
       "      <td>2</td>\n",
       "      <td>1</td>\n",
       "      <td>504672</td>\n",
       "      <td>8</td>\n",
       "      <td>...</td>\n",
       "      <td>NaN</td>\n",
       "      <td>NaN</td>\n",
       "      <td>NaN</td>\n",
       "      <td>NaN</td>\n",
       "      <td>NaN</td>\n",
       "      <td>NaN</td>\n",
       "      <td>NaN</td>\n",
       "      <td>NaN</td>\n",
       "      <td>NaN</td>\n",
       "      <td>NaN</td>\n",
       "    </tr>\n",
       "    <tr>\n",
       "      <th>2</th>\n",
       "      <td>3</td>\n",
       "      <td>1  3</td>\n",
       "      <td>3</td>\n",
       "      <td>BD6</td>\n",
       "      <td>1</td>\n",
       "      <td>3</td>\n",
       "      <td>2</td>\n",
       "      <td>1</td>\n",
       "      <td>504672</td>\n",
       "      <td>8</td>\n",
       "      <td>...</td>\n",
       "      <td>NaN</td>\n",
       "      <td>NaN</td>\n",
       "      <td>NaN</td>\n",
       "      <td>NaN</td>\n",
       "      <td>NaN</td>\n",
       "      <td>NaN</td>\n",
       "      <td>NaN</td>\n",
       "      <td>NaN</td>\n",
       "      <td>NaN</td>\n",
       "      <td>NaN</td>\n",
       "    </tr>\n",
       "    <tr>\n",
       "      <th>3</th>\n",
       "      <td>4</td>\n",
       "      <td>1  3</td>\n",
       "      <td>4</td>\n",
       "      <td>BD6</td>\n",
       "      <td>1</td>\n",
       "      <td>3</td>\n",
       "      <td>2</td>\n",
       "      <td>1</td>\n",
       "      <td>504672</td>\n",
       "      <td>8</td>\n",
       "      <td>...</td>\n",
       "      <td>NaN</td>\n",
       "      <td>NaN</td>\n",
       "      <td>NaN</td>\n",
       "      <td>NaN</td>\n",
       "      <td>NaN</td>\n",
       "      <td>NaN</td>\n",
       "      <td>NaN</td>\n",
       "      <td>NaN</td>\n",
       "      <td>NaN</td>\n",
       "      <td>NaN</td>\n",
       "    </tr>\n",
       "    <tr>\n",
       "      <th>4</th>\n",
       "      <td>5</td>\n",
       "      <td>1  3</td>\n",
       "      <td>5</td>\n",
       "      <td>BD6</td>\n",
       "      <td>1</td>\n",
       "      <td>3</td>\n",
       "      <td>2</td>\n",
       "      <td>1</td>\n",
       "      <td>504672</td>\n",
       "      <td>8</td>\n",
       "      <td>...</td>\n",
       "      <td>NaN</td>\n",
       "      <td>NaN</td>\n",
       "      <td>NaN</td>\n",
       "      <td>NaN</td>\n",
       "      <td>NaN</td>\n",
       "      <td>NaN</td>\n",
       "      <td>NaN</td>\n",
       "      <td>NaN</td>\n",
       "      <td>NaN</td>\n",
       "      <td>NaN</td>\n",
       "    </tr>\n",
       "  </tbody>\n",
       "</table>\n",
       "<p>5 rows × 383 columns</p>\n",
       "</div>"
      ],
      "text/plain": [
       "   Unnamed: 0          hhid  hvidx hv000  hv001  hv002  hv003  hv004   hv005  \\\n",
       "0           1          1  3      1   BD6      1      3      2      1  504672   \n",
       "1           2          1  3      2   BD6      1      3      2      1  504672   \n",
       "2           3          1  3      3   BD6      1      3      2      1  504672   \n",
       "3           4          1  3      4   BD6      1      3      2      1  504672   \n",
       "4           5          1  3      5   BD6      1      3      2      1  504672   \n",
       "\n",
       "   hv006  ...  shsd3  shbm  shri  shcmc  shflg  shsmk  shresi  shed1  shed2  \\\n",
       "0      8  ...    NaN   NaN   NaN    NaN    NaN    NaN     NaN    NaN    NaN   \n",
       "1      8  ...    NaN   NaN   NaN    NaN    NaN    NaN     NaN    NaN    NaN   \n",
       "2      8  ...    NaN   NaN   NaN    NaN    NaN    NaN     NaN    NaN    NaN   \n",
       "3      8  ...    NaN   NaN   NaN    NaN    NaN    NaN     NaN    NaN    NaN   \n",
       "4      8  ...    NaN   NaN   NaN    NaN    NaN    NaN     NaN    NaN    NaN   \n",
       "\n",
       "   shed3  \n",
       "0    NaN  \n",
       "1    NaN  \n",
       "2    NaN  \n",
       "3    NaN  \n",
       "4    NaN  \n",
       "\n",
       "[5 rows x 383 columns]"
      ]
     },
     "execution_count": 5,
     "metadata": {},
     "output_type": "execute_result"
    }
   ],
   "source": [
    "ncd_data.head()"
   ]
  },
  {
   "cell_type": "code",
   "execution_count": 6,
   "metadata": {},
   "outputs": [
    {
     "data": {
      "text/html": [
       "<div>\n",
       "<style scoped>\n",
       "    .dataframe tbody tr th:only-of-type {\n",
       "        vertical-align: middle;\n",
       "    }\n",
       "\n",
       "    .dataframe tbody tr th {\n",
       "        vertical-align: top;\n",
       "    }\n",
       "\n",
       "    .dataframe thead th {\n",
       "        text-align: right;\n",
       "    }\n",
       "</style>\n",
       "<table border=\"1\" class=\"dataframe\">\n",
       "  <thead>\n",
       "    <tr style=\"text-align: right;\">\n",
       "      <th></th>\n",
       "      <th>variable</th>\n",
       "      <th>description</th>\n",
       "      <th>model_keep</th>\n",
       "      <th>num_values</th>\n",
       "      <th>type</th>\n",
       "    </tr>\n",
       "  </thead>\n",
       "  <tbody>\n",
       "    <tr>\n",
       "      <th>377</th>\n",
       "      <td>shsmk</td>\n",
       "      <td>NA - Respondent smoking practices</td>\n",
       "      <td>1</td>\n",
       "      <td>1</td>\n",
       "      <td>categorical</td>\n",
       "    </tr>\n",
       "    <tr>\n",
       "      <th>378</th>\n",
       "      <td>shresi</td>\n",
       "      <td>Result of individual interview</td>\n",
       "      <td>1</td>\n",
       "      <td>7</td>\n",
       "      <td>categorical</td>\n",
       "    </tr>\n",
       "    <tr>\n",
       "      <th>379</th>\n",
       "      <td>shed1</td>\n",
       "      <td>Member's highest educational level</td>\n",
       "      <td>1</td>\n",
       "      <td>5</td>\n",
       "      <td>categorical</td>\n",
       "    </tr>\n",
       "    <tr>\n",
       "      <th>380</th>\n",
       "      <td>shed2</td>\n",
       "      <td>Member's highest year of education</td>\n",
       "      <td>1</td>\n",
       "      <td>21</td>\n",
       "      <td>numeric</td>\n",
       "    </tr>\n",
       "    <tr>\n",
       "      <th>381</th>\n",
       "      <td>shed3</td>\n",
       "      <td>Highest educational level (CS for preliminary ...</td>\n",
       "      <td>1</td>\n",
       "      <td>7</td>\n",
       "      <td>categorical</td>\n",
       "    </tr>\n",
       "  </tbody>\n",
       "</table>\n",
       "</div>"
      ],
      "text/plain": [
       "    variable                                        description  model_keep  \\\n",
       "377    shsmk                  NA - Respondent smoking practices           1   \n",
       "378   shresi                     Result of individual interview           1   \n",
       "379    shed1                 Member's highest educational level           1   \n",
       "380    shed2                 Member's highest year of education           1   \n",
       "381    shed3  Highest educational level (CS for preliminary ...           1   \n",
       "\n",
       "     num_values         type  \n",
       "377           1  categorical  \n",
       "378           7  categorical  \n",
       "379           5  categorical  \n",
       "380          21      numeric  \n",
       "381           7  categorical  "
      ]
     },
     "execution_count": 6,
     "metadata": {},
     "output_type": "execute_result"
    }
   ],
   "source": [
    "ncd_metadata.columns\n",
    "ncd_metadata.tail()"
   ]
  },
  {
   "cell_type": "code",
   "execution_count": 7,
   "metadata": {},
   "outputs": [
    {
     "name": "stdout",
     "output_type": "stream",
     "text": [
      "Sex of head of household\n",
      "   variable               description  model_keep  num_values         type\n",
      "56    hv219  Sex of head of household           1           2  categorical\n",
      "####################################################################################################\n",
      "Sex of household member\n",
      "    variable              description  model_keep  num_values         type\n",
      "149    hv104  Sex of household member           1           2  categorical\n",
      "299    sh231  Sex of household member           1           3  categorical\n",
      "####################################################################################################\n",
      "Sex\n",
      "    variable description  model_keep  num_values         type\n",
      "239     hc27         Sex           1           3  categorical\n",
      "####################################################################################################\n",
      "Sex of household member\n",
      "    variable              description  model_keep  num_values         type\n",
      "149    hv104  Sex of household member           1           2  categorical\n",
      "299    sh231  Sex of household member           1           3  categorical\n",
      "####################################################################################################\n"
     ]
    }
   ],
   "source": [
    "for var in ncd_metadata['description']:\n",
    "    if bool(re.search(\"Sex|sex\", var)):\n",
    "        print(var)\n",
    "        print(ncd_metadata[ncd_metadata['description'] == var])\n",
    "        print(\"#\"*100)"
   ]
  },
  {
   "cell_type": "markdown",
   "metadata": {},
   "source": [
    "## Creating hyperglycaemia target variable"
   ]
  },
  {
   "cell_type": "code",
   "execution_count": 8,
   "metadata": {
    "scrolled": true
   },
   "outputs": [
    {
     "name": "stdout",
     "output_type": "stream",
     "text": [
      "-9    74896\n",
      " 0     6632\n",
      " 1     2203\n",
      "Name: hyperglycaemia, dtype: int64\n"
     ]
    }
   ],
   "source": [
    "ncd_data = determine_hyperglycaemia(input_df=ncd_data)\n",
    "print(ncd_data['hyperglycaemia'].value_counts())"
   ]
  },
  {
   "cell_type": "code",
   "execution_count": 9,
   "metadata": {},
   "outputs": [],
   "source": [
    "ncd_metadata = summarize_variables(input_df=ncd_data, metadata_df=ncd_metadata)\n",
    "ncd_metadata.head()\n",
    "ncd_metadata.to_csv(METADATA_M, index=False, index_label=False)"
   ]
  },
  {
   "cell_type": "code",
   "execution_count": 10,
   "metadata": {},
   "outputs": [
    {
     "data": {
      "text/html": [
       "<div>\n",
       "<style scoped>\n",
       "    .dataframe tbody tr th:only-of-type {\n",
       "        vertical-align: middle;\n",
       "    }\n",
       "\n",
       "    .dataframe tbody tr th {\n",
       "        vertical-align: top;\n",
       "    }\n",
       "\n",
       "    .dataframe thead th {\n",
       "        text-align: right;\n",
       "    }\n",
       "</style>\n",
       "<table border=\"1\" class=\"dataframe\">\n",
       "  <thead>\n",
       "    <tr style=\"text-align: right;\">\n",
       "      <th></th>\n",
       "      <th>Unnamed: 0</th>\n",
       "      <th>hhid</th>\n",
       "      <th>hvidx</th>\n",
       "      <th>hv000</th>\n",
       "      <th>hv001</th>\n",
       "      <th>hv002</th>\n",
       "      <th>hv003</th>\n",
       "      <th>hv004</th>\n",
       "      <th>hv005</th>\n",
       "      <th>hv006</th>\n",
       "      <th>...</th>\n",
       "      <th>shed2</th>\n",
       "      <th>shed3</th>\n",
       "      <th>meal</th>\n",
       "      <th>drink</th>\n",
       "      <th>measure_time</th>\n",
       "      <th>meal_delta</th>\n",
       "      <th>meal_fasting</th>\n",
       "      <th>drink_delta</th>\n",
       "      <th>drink_fasting</th>\n",
       "      <th>hyperglycaemia</th>\n",
       "    </tr>\n",
       "  </thead>\n",
       "  <tbody>\n",
       "    <tr>\n",
       "      <th>0</th>\n",
       "      <td>1</td>\n",
       "      <td>1  3</td>\n",
       "      <td>1</td>\n",
       "      <td>BD6</td>\n",
       "      <td>1</td>\n",
       "      <td>3</td>\n",
       "      <td>2</td>\n",
       "      <td>1</td>\n",
       "      <td>504672</td>\n",
       "      <td>8</td>\n",
       "      <td>...</td>\n",
       "      <td>NaN</td>\n",
       "      <td>NaN</td>\n",
       "      <td>2020-01-01</td>\n",
       "      <td>2020-01-01</td>\n",
       "      <td>2020-01-01</td>\n",
       "      <td>0.0</td>\n",
       "      <td>0</td>\n",
       "      <td>0.0</td>\n",
       "      <td>0</td>\n",
       "      <td>-9</td>\n",
       "    </tr>\n",
       "    <tr>\n",
       "      <th>1</th>\n",
       "      <td>2</td>\n",
       "      <td>1  3</td>\n",
       "      <td>2</td>\n",
       "      <td>BD6</td>\n",
       "      <td>1</td>\n",
       "      <td>3</td>\n",
       "      <td>2</td>\n",
       "      <td>1</td>\n",
       "      <td>504672</td>\n",
       "      <td>8</td>\n",
       "      <td>...</td>\n",
       "      <td>NaN</td>\n",
       "      <td>NaN</td>\n",
       "      <td>2020-01-01</td>\n",
       "      <td>2020-01-01</td>\n",
       "      <td>2020-01-01</td>\n",
       "      <td>0.0</td>\n",
       "      <td>0</td>\n",
       "      <td>0.0</td>\n",
       "      <td>0</td>\n",
       "      <td>-9</td>\n",
       "    </tr>\n",
       "    <tr>\n",
       "      <th>2</th>\n",
       "      <td>3</td>\n",
       "      <td>1  3</td>\n",
       "      <td>3</td>\n",
       "      <td>BD6</td>\n",
       "      <td>1</td>\n",
       "      <td>3</td>\n",
       "      <td>2</td>\n",
       "      <td>1</td>\n",
       "      <td>504672</td>\n",
       "      <td>8</td>\n",
       "      <td>...</td>\n",
       "      <td>NaN</td>\n",
       "      <td>NaN</td>\n",
       "      <td>2020-01-01</td>\n",
       "      <td>2020-01-01</td>\n",
       "      <td>2020-01-01</td>\n",
       "      <td>0.0</td>\n",
       "      <td>0</td>\n",
       "      <td>0.0</td>\n",
       "      <td>0</td>\n",
       "      <td>-9</td>\n",
       "    </tr>\n",
       "    <tr>\n",
       "      <th>3</th>\n",
       "      <td>4</td>\n",
       "      <td>1  3</td>\n",
       "      <td>4</td>\n",
       "      <td>BD6</td>\n",
       "      <td>1</td>\n",
       "      <td>3</td>\n",
       "      <td>2</td>\n",
       "      <td>1</td>\n",
       "      <td>504672</td>\n",
       "      <td>8</td>\n",
       "      <td>...</td>\n",
       "      <td>NaN</td>\n",
       "      <td>NaN</td>\n",
       "      <td>2020-01-01</td>\n",
       "      <td>2020-01-01</td>\n",
       "      <td>2020-01-01</td>\n",
       "      <td>0.0</td>\n",
       "      <td>0</td>\n",
       "      <td>0.0</td>\n",
       "      <td>0</td>\n",
       "      <td>-9</td>\n",
       "    </tr>\n",
       "    <tr>\n",
       "      <th>4</th>\n",
       "      <td>5</td>\n",
       "      <td>1  3</td>\n",
       "      <td>5</td>\n",
       "      <td>BD6</td>\n",
       "      <td>1</td>\n",
       "      <td>3</td>\n",
       "      <td>2</td>\n",
       "      <td>1</td>\n",
       "      <td>504672</td>\n",
       "      <td>8</td>\n",
       "      <td>...</td>\n",
       "      <td>NaN</td>\n",
       "      <td>NaN</td>\n",
       "      <td>2020-01-01</td>\n",
       "      <td>2020-01-01</td>\n",
       "      <td>2020-01-01</td>\n",
       "      <td>0.0</td>\n",
       "      <td>0</td>\n",
       "      <td>0.0</td>\n",
       "      <td>0</td>\n",
       "      <td>-9</td>\n",
       "    </tr>\n",
       "  </tbody>\n",
       "</table>\n",
       "<p>5 rows × 391 columns</p>\n",
       "</div>"
      ],
      "text/plain": [
       "   Unnamed: 0          hhid  hvidx hv000  hv001  hv002  hv003  hv004   hv005  \\\n",
       "0           1          1  3      1   BD6      1      3      2      1  504672   \n",
       "1           2          1  3      2   BD6      1      3      2      1  504672   \n",
       "2           3          1  3      3   BD6      1      3      2      1  504672   \n",
       "3           4          1  3      4   BD6      1      3      2      1  504672   \n",
       "4           5          1  3      5   BD6      1      3      2      1  504672   \n",
       "\n",
       "   hv006  ...  shed2  shed3       meal      drink  measure_time  meal_delta  \\\n",
       "0      8  ...    NaN    NaN 2020-01-01 2020-01-01    2020-01-01         0.0   \n",
       "1      8  ...    NaN    NaN 2020-01-01 2020-01-01    2020-01-01         0.0   \n",
       "2      8  ...    NaN    NaN 2020-01-01 2020-01-01    2020-01-01         0.0   \n",
       "3      8  ...    NaN    NaN 2020-01-01 2020-01-01    2020-01-01         0.0   \n",
       "4      8  ...    NaN    NaN 2020-01-01 2020-01-01    2020-01-01         0.0   \n",
       "\n",
       "   meal_fasting  drink_delta  drink_fasting  hyperglycaemia  \n",
       "0             0          0.0              0              -9  \n",
       "1             0          0.0              0              -9  \n",
       "2             0          0.0              0              -9  \n",
       "3             0          0.0              0              -9  \n",
       "4             0          0.0              0              -9  \n",
       "\n",
       "[5 rows x 391 columns]"
      ]
     },
     "execution_count": 10,
     "metadata": {},
     "output_type": "execute_result"
    }
   ],
   "source": [
    "ncd_data.head()"
   ]
  },
  {
   "cell_type": "markdown",
   "metadata": {},
   "source": [
    "### Subset data by target variable missingness"
   ]
  },
  {
   "cell_type": "code",
   "execution_count": 11,
   "metadata": {},
   "outputs": [
    {
     "name": "stdout",
     "output_type": "stream",
     "text": [
      "(83731, 391)\n",
      "(8835, 391)\n"
     ]
    },
    {
     "data": {
      "text/plain": [
       "True"
      ]
     },
     "execution_count": 11,
     "metadata": {},
     "output_type": "execute_result"
    }
   ],
   "source": [
    "data = subset_by_var2(input_df=ncd_data, var='hyperglycaemia')\n",
    "'hyperglycaemia' in data.columns"
   ]
  },
  {
   "cell_type": "markdown",
   "metadata": {},
   "source": [
    "### Subset data by metadata file (variables to keep column)"
   ]
  },
  {
   "cell_type": "code",
   "execution_count": 12,
   "metadata": {},
   "outputs": [
    {
     "name": "stdout",
     "output_type": "stream",
     "text": [
      "(8835, 391)\n",
      "(8835, 314)\n"
     ]
    },
    {
     "data": {
      "text/plain": [
       "True"
      ]
     },
     "execution_count": 12,
     "metadata": {},
     "output_type": "execute_result"
    }
   ],
   "source": [
    "data = remove_metadata(input_df=data, metadata=ncd_metadata)\n",
    "'hyperglycaemia' in data.columns"
   ]
  },
  {
   "cell_type": "markdown",
   "metadata": {},
   "source": [
    "### Remove uniformed variables (no variation)"
   ]
  },
  {
   "cell_type": "code",
   "execution_count": 13,
   "metadata": {},
   "outputs": [
    {
     "name": "stdout",
     "output_type": "stream",
     "text": [
      "(8835, 314)\n",
      "['hv015', 'hv020', 'hv027', 'hv042', 'hv120', 'hv121', 'hv122', 'hv124', 'sh21', 'ha62', 'hb62']\n",
      "(8835, 303)\n"
     ]
    },
    {
     "data": {
      "text/plain": [
       "True"
      ]
     },
     "execution_count": 13,
     "metadata": {},
     "output_type": "execute_result"
    }
   ],
   "source": [
    "data = remove_uniform(input_df=data)\n",
    "'hyperglycaemia' in data.columns"
   ]
  },
  {
   "cell_type": "markdown",
   "metadata": {},
   "source": [
    "### Removing missing by threshold "
   ]
  },
  {
   "cell_type": "markdown",
   "metadata": {},
   "source": [
    "```\n",
    "data1 = remove_missing(input_df=data, threshold=0.1)\n",
    "'hyperglycaemia' in data.columns\n",
    "```"
   ]
  },
  {
   "cell_type": "markdown",
   "metadata": {},
   "source": [
    "### Checking variables"
   ]
  },
  {
   "cell_type": "code",
   "execution_count": 14,
   "metadata": {},
   "outputs": [
    {
     "data": {
      "text/plain": [
       "[]"
      ]
     },
     "execution_count": 14,
     "metadata": {},
     "output_type": "execute_result"
    }
   ],
   "source": [
    "check_variables(input_df=data)"
   ]
  },
  {
   "cell_type": "markdown",
   "metadata": {},
   "source": [
    "### Removing meta variables"
   ]
  },
  {
   "cell_type": "code",
   "execution_count": 15,
   "metadata": {},
   "outputs": [
    {
     "data": {
      "text/html": [
       "<div>\n",
       "<style scoped>\n",
       "    .dataframe tbody tr th:only-of-type {\n",
       "        vertical-align: middle;\n",
       "    }\n",
       "\n",
       "    .dataframe tbody tr th {\n",
       "        vertical-align: top;\n",
       "    }\n",
       "\n",
       "    .dataframe thead th {\n",
       "        text-align: right;\n",
       "    }\n",
       "</style>\n",
       "<table border=\"1\" class=\"dataframe\">\n",
       "  <thead>\n",
       "    <tr style=\"text-align: right;\">\n",
       "      <th></th>\n",
       "      <th>hv009</th>\n",
       "      <th>hv010</th>\n",
       "      <th>hv011</th>\n",
       "      <th>hv012</th>\n",
       "      <th>hv013</th>\n",
       "      <th>hv014</th>\n",
       "      <th>hv016</th>\n",
       "      <th>hv017</th>\n",
       "      <th>hv024</th>\n",
       "      <th>hv025</th>\n",
       "      <th>...</th>\n",
       "      <th>shsd3</th>\n",
       "      <th>shbm</th>\n",
       "      <th>shri</th>\n",
       "      <th>shcmc</th>\n",
       "      <th>shsmk</th>\n",
       "      <th>shresi</th>\n",
       "      <th>shed1</th>\n",
       "      <th>shed2</th>\n",
       "      <th>shed3</th>\n",
       "      <th>hyperglycaemia</th>\n",
       "    </tr>\n",
       "  </thead>\n",
       "  <tbody>\n",
       "    <tr>\n",
       "      <th>12</th>\n",
       "      <td>6</td>\n",
       "      <td>0</td>\n",
       "      <td>0</td>\n",
       "      <td>6</td>\n",
       "      <td>2</td>\n",
       "      <td>1</td>\n",
       "      <td>10</td>\n",
       "      <td>1</td>\n",
       "      <td>1</td>\n",
       "      <td>2</td>\n",
       "      <td>...</td>\n",
       "      <td>9999.0</td>\n",
       "      <td>9999.0</td>\n",
       "      <td>9999.0</td>\n",
       "      <td>917.0</td>\n",
       "      <td>NaN</td>\n",
       "      <td>2.0</td>\n",
       "      <td>1.0</td>\n",
       "      <td>3.0</td>\n",
       "      <td>1.0</td>\n",
       "      <td>1</td>\n",
       "    </tr>\n",
       "    <tr>\n",
       "      <th>16</th>\n",
       "      <td>6</td>\n",
       "      <td>0</td>\n",
       "      <td>0</td>\n",
       "      <td>6</td>\n",
       "      <td>2</td>\n",
       "      <td>1</td>\n",
       "      <td>10</td>\n",
       "      <td>1</td>\n",
       "      <td>1</td>\n",
       "      <td>2</td>\n",
       "      <td>...</td>\n",
       "      <td>-88.0</td>\n",
       "      <td>2119.0</td>\n",
       "      <td>1385.0</td>\n",
       "      <td>642.0</td>\n",
       "      <td>NaN</td>\n",
       "      <td>NaN</td>\n",
       "      <td>0.0</td>\n",
       "      <td>NaN</td>\n",
       "      <td>0.0</td>\n",
       "      <td>0</td>\n",
       "    </tr>\n",
       "    <tr>\n",
       "      <th>17</th>\n",
       "      <td>6</td>\n",
       "      <td>0</td>\n",
       "      <td>0</td>\n",
       "      <td>6</td>\n",
       "      <td>2</td>\n",
       "      <td>1</td>\n",
       "      <td>10</td>\n",
       "      <td>1</td>\n",
       "      <td>1</td>\n",
       "      <td>2</td>\n",
       "      <td>...</td>\n",
       "      <td>9999.0</td>\n",
       "      <td>9999.0</td>\n",
       "      <td>9999.0</td>\n",
       "      <td>614.0</td>\n",
       "      <td>NaN</td>\n",
       "      <td>NaN</td>\n",
       "      <td>1.0</td>\n",
       "      <td>3.0</td>\n",
       "      <td>1.0</td>\n",
       "      <td>0</td>\n",
       "    </tr>\n",
       "    <tr>\n",
       "      <th>26</th>\n",
       "      <td>5</td>\n",
       "      <td>1</td>\n",
       "      <td>1</td>\n",
       "      <td>5</td>\n",
       "      <td>5</td>\n",
       "      <td>1</td>\n",
       "      <td>10</td>\n",
       "      <td>1</td>\n",
       "      <td>1</td>\n",
       "      <td>2</td>\n",
       "      <td>...</td>\n",
       "      <td>-149.0</td>\n",
       "      <td>2068.0</td>\n",
       "      <td>1337.0</td>\n",
       "      <td>907.0</td>\n",
       "      <td>NaN</td>\n",
       "      <td>1.0</td>\n",
       "      <td>1.0</td>\n",
       "      <td>2.0</td>\n",
       "      <td>1.0</td>\n",
       "      <td>0</td>\n",
       "    </tr>\n",
       "    <tr>\n",
       "      <th>39</th>\n",
       "      <td>2</td>\n",
       "      <td>0</td>\n",
       "      <td>0</td>\n",
       "      <td>2</td>\n",
       "      <td>2</td>\n",
       "      <td>0</td>\n",
       "      <td>10</td>\n",
       "      <td>1</td>\n",
       "      <td>1</td>\n",
       "      <td>2</td>\n",
       "      <td>...</td>\n",
       "      <td>9999.0</td>\n",
       "      <td>9999.0</td>\n",
       "      <td>9999.0</td>\n",
       "      <td>556.0</td>\n",
       "      <td>NaN</td>\n",
       "      <td>NaN</td>\n",
       "      <td>0.0</td>\n",
       "      <td>NaN</td>\n",
       "      <td>0.0</td>\n",
       "      <td>0</td>\n",
       "    </tr>\n",
       "  </tbody>\n",
       "</table>\n",
       "<p>5 rows × 295 columns</p>\n",
       "</div>"
      ],
      "text/plain": [
       "    hv009  hv010  hv011  hv012  hv013  hv014  hv016  hv017  hv024  hv025  ...  \\\n",
       "12      6      0      0      6      2      1     10      1      1      2  ...   \n",
       "16      6      0      0      6      2      1     10      1      1      2  ...   \n",
       "17      6      0      0      6      2      1     10      1      1      2  ...   \n",
       "26      5      1      1      5      5      1     10      1      1      2  ...   \n",
       "39      2      0      0      2      2      0     10      1      1      2  ...   \n",
       "\n",
       "     shsd3    shbm    shri  shcmc  shsmk  shresi  shed1  shed2  shed3  \\\n",
       "12  9999.0  9999.0  9999.0  917.0    NaN     2.0    1.0    3.0    1.0   \n",
       "16   -88.0  2119.0  1385.0  642.0    NaN     NaN    0.0    NaN    0.0   \n",
       "17  9999.0  9999.0  9999.0  614.0    NaN     NaN    1.0    3.0    1.0   \n",
       "26  -149.0  2068.0  1337.0  907.0    NaN     1.0    1.0    2.0    1.0   \n",
       "39  9999.0  9999.0  9999.0  556.0    NaN     NaN    0.0    NaN    0.0   \n",
       "\n",
       "    hyperglycaemia  \n",
       "12               1  \n",
       "16               0  \n",
       "17               0  \n",
       "26               0  \n",
       "39               0  \n",
       "\n",
       "[5 rows x 295 columns]"
      ]
     },
     "execution_count": 15,
     "metadata": {},
     "output_type": "execute_result"
    }
   ],
   "source": [
    "data = data.drop(['Unnamed: 0', 'meal', 'drink', 'measure_time', 'meal_delta', 'meal_fasting', 'drink_delta', 'drink_fasting'],axis=1)\n",
    "data.head()"
   ]
  },
  {
   "cell_type": "markdown",
   "metadata": {},
   "source": [
    "# Predictors\n",
    "- **Education (completed in years)**\n",
    "    1. DHS: **hv108** - Education completed in single years\n",
    "    2. SVRS2017: **q_16** - Level of Education\n",
    "- **Age**\n",
    "    1. DHS: **hv105** - Age of household members\n",
    "    2. SVRS2017: **q_10** - Age\n",
    "- **Urban/rural**\n",
    "    1. DHS: 'hv025'\n",
    "    2. SVRS2017: 'Rural/Urban' / 'rmo'\n",
    "- **Sex**\n",
    "    1. DHS:'hv104'\n",
    "    2. SVRS2017: 'Sex'"
   ]
  },
  {
   "cell_type": "code",
   "execution_count": 16,
   "metadata": {},
   "outputs": [
    {
     "data": {
      "text/plain": [
       "Index(['Education', 'Age', 'Urban/Rural', 'Gender', 'Hyperglycaemia'], dtype='object')"
      ]
     },
     "execution_count": 16,
     "metadata": {},
     "output_type": "execute_result"
    }
   ],
   "source": [
    "variables = ['Education', 'Age', 'Urban/Rural', 'Gender']\n",
    "orig_data = data[['hv108','hv105','hv025','hv104', 'hyperglycaemia']]\n",
    "orig_data.columns = variables + ['Hyperglycaemia']\n",
    "orig_data = orig_data[orig_data['Education'] != 98]\n",
    "orig_data = orig_data[orig_data['Hyperglycaemia'] != 9]\n",
    "orig_data = orig_data[orig_data['Education'] != 99]\n",
    "orig_data = orig_data[orig_data['Education'] != 99]\n",
    "orig_data.columns"
   ]
  },
  {
   "cell_type": "code",
   "execution_count": 18,
   "metadata": {},
   "outputs": [
    {
     "data": {
      "text/plain": [
       "18"
      ]
     },
     "execution_count": 18,
     "metadata": {},
     "output_type": "execute_result"
    }
   ],
   "source": [
    "orig_data['Education'].value_counts()\n",
    "orig_data['Education'].max()"
   ]
  },
  {
   "cell_type": "code",
   "execution_count": 18,
   "metadata": {},
   "outputs": [
    {
     "data": {
      "text/plain": [
       "Education        int64\n",
       "Age              int64\n",
       "Urban/Rural_1    uint8\n",
       "Urban/Rural_2    uint8\n",
       "Gender_1         uint8\n",
       "Gender_2         uint8\n",
       "dtype: object"
      ]
     },
     "execution_count": 18,
     "metadata": {},
     "output_type": "execute_result"
    }
   ],
   "source": [
    "orig_data['Urban/Rural'] = orig_data['Urban/Rural'].astype('category')\n",
    "orig_data['Gender'] = orig_data['Gender'].astype('category')\n",
    "y = orig_data['Hyperglycaemia']\n",
    "X = orig_data.drop(['Hyperglycaemia'], axis=1)\n",
    "X.dtypes\n",
    "X = pd.get_dummies(X)\n",
    "X.dtypes"
   ]
  },
  {
   "cell_type": "code",
   "execution_count": 19,
   "metadata": {},
   "outputs": [],
   "source": [
    "from sklearn.model_selection import train_test_split\n",
    "X_train, X_test, y_train, y_test = train_test_split(X, y,\n",
    "                                                   test_size=0.2, random_state=84)"
   ]
  },
  {
   "cell_type": "markdown",
   "metadata": {},
   "source": [
    "# Fine-tuning the model - Hyperglycemia"
   ]
  },
  {
   "cell_type": "code",
   "execution_count": 20,
   "metadata": {},
   "outputs": [],
   "source": [
    "def modelfit(alg, dtrain, dtest, predictors,useTrainCV=True, cv_folds=5, early_stopping_rounds=50):\n",
    "    \n",
    "    if useTrainCV:\n",
    "        xgb_param = alg.get_xgb_params()\n",
    "        xgtrain = xgb.DMatrix(dtrain[predictors].values, label=dtrain[target].values)\n",
    "        xgtest = xgb.DMatrix(dtest[predictors].values)\n",
    "        cvresult = xgb.cv(xgb_param, xgtrain, num_boost_round=alg.get_params()['n_estimators'], nfold=cv_folds,\n",
    "            metrics='auc', early_stopping_rounds=early_stopping_rounds)\n",
    "        alg.set_params(n_estimators=cvresult.shape[0])\n",
    "    \n",
    "    #Fit the algorithm on the data\n",
    "    alg.fit(dtrain[predictors], dtrain['Hyperglycaemia'],eval_metric='auc')\n",
    "        \n",
    "    #Predict training set:\n",
    "    dtrain_predictions = alg.predict(dtrain[predictors])\n",
    "    dtrain_predprob = alg.predict_proba(dtrain[predictors])[:,1]\n",
    "        \n",
    "    #Print model report:\n",
    "    print(\"\\nModel Report\")\n",
    "    print(f\"Accuracy : %.4g {metrics.accuracy_score(dtrain['Hyperglycaemia'].values, dtrain_predictions)}\")\n",
    "    print(f\"AUC Score (Train): {metrics.roc_auc_score(dtrain['Hyperglycaemia'], dtrain_predprob)}]\")\n",
    "    \n",
    "    #Predict on testing data:\n",
    "    dtest['predprob'] = alg.predict_proba(dtest[predictors])[:,1]\n",
    "    results = X_data_test.merge(dtest[['predprob']])\n",
    "    print(f\"AUC Score (Test): {metrics.roc_auc_score(results['Hyperglycaemia'], results['predprob'])}\")\n",
    "    print(alg.booster)\n",
    "    feat_imp = pd.Series(alg._Booster.get_fscore()).sort_values(ascending=False)\n",
    "    feat_imp.plot(kind='bar', title='Feature Importances')\n",
    "    plt.ylabel('Feature Importance Score')"
   ]
  },
  {
   "cell_type": "code",
   "execution_count": 21,
   "metadata": {},
   "outputs": [],
   "source": [
    "X_data_train = X_train.copy(deep=True)\n",
    "X_data_train['Hyperglycaemia'] = y_train\n",
    "X_data_test = X_test.copy(deep=True)\n",
    "X_data_test['Hyperglycaemia'] = y_test"
   ]
  },
  {
   "cell_type": "code",
   "execution_count": 22,
   "metadata": {},
   "outputs": [
    {
     "name": "stdout",
     "output_type": "stream",
     "text": [
      "\n",
      "Model Report\n",
      "Accuracy : %.4g 0.7546342153671997\n",
      "AUC Score (Train): 0.6363586502860237]\n",
      "AUC Score (Test): 0.5497231944455901\n",
      "gbtree\n"
     ]
    },
    {
     "data": {
      "image/png": "[encoded data removed]",
      "text/plain": [
       "<Figure size 864x288 with 1 Axes>"
      ]
     },
     "metadata": {
      "needs_background": "light"
     },
     "output_type": "display_data"
    }
   ],
   "source": [
    "import pandas as pd\n",
    "import numpy as np\n",
    "import xgboost as xgb\n",
    "from xgboost.sklearn import XGBClassifier\n",
    "import sklearn.metrics as metrics\n",
    "from sklearn.model_selection import GridSearchCV\n",
    "\n",
    "import matplotlib.pylab as plt\n",
    "%matplotlib inline\n",
    "from matplotlib.pylab import rcParams\n",
    "rcParams['figure.figsize'] = 12, 4\n",
    "target = 'Hyperglycaemia'\n",
    "predictors = [x for x in X_data_train.columns if x not in [target]]\n",
    "\n",
    "xgb1 = XGBClassifier(\n",
    "        learning_rate =0.1,\n",
    "        n_estimators=1000,\n",
    "        max_depth=5,\n",
    "        min_child_weight=1,\n",
    "        gamma=0,\n",
    "        subsample=0.8,\n",
    "        colsample_bytree=0.8,\n",
    "        objective= 'binary:logistic',\n",
    "        nthread=4,\n",
    "        scale_pos_weight=1,\n",
    "        seed=84)\n",
    "modelfit(xgb1, X_data_train, X_data_test, predictors)"
   ]
  },
  {
   "cell_type": "markdown",
   "metadata": {},
   "source": [
    "## Grid seach on max_depth and min_child_weight: Initial step"
   ]
  },
  {
   "cell_type": "code",
   "execution_count": 22,
   "metadata": {},
   "outputs": [
    {
     "data": {
      "text/plain": [
       "GridSearchCV(cv=10, error_score='raise-deprecating',\n",
       "       estimator=XGBClassifier(base_score=0.5, booster='gbtree', colsample_bylevel=1,\n",
       "       colsample_bytree=0.8, gamma=0, learning_rate=0.1, max_delta_step=0,\n",
       "       max_depth=5, min_child_weight=1, missing=None, n_estimators=200,\n",
       "       n_jobs=1, nthread=4, objective='binary:logistic', random_state=0,\n",
       "       reg_alpha=0, reg_lambda=1, scale_pos_weight=1, seed=84, silent=True,\n",
       "       subsample=0.8),\n",
       "       fit_params=None, iid=False, n_jobs=4,\n",
       "       param_grid={'max_depth': range(3, 10, 2), 'min_child_weight': range(1, 10, 2)},\n",
       "       pre_dispatch='2*n_jobs', refit=True, return_train_score='warn',\n",
       "       scoring='roc_auc', verbose=0)"
      ]
     },
     "execution_count": 22,
     "metadata": {},
     "output_type": "execute_result"
    }
   ],
   "source": [
    "param_test1 = {\n",
    "    'max_depth':range(3,10,2),\n",
    "    'min_child_weight':range(1,10,2)\n",
    "}\n",
    "gsearch1 = GridSearchCV(estimator = XGBClassifier(learning_rate=0.1, n_estimators=200, max_depth=5,\n",
    "                                        min_child_weight=1, gamma=0, subsample=0.8, colsample_bytree=0.8,\n",
    "                                        objective= 'binary:logistic', nthread=4, scale_pos_weight=1, seed=84), \n",
    "                       param_grid = param_test1, scoring='roc_auc',n_jobs=4,iid=False, cv=10)\n",
    "gsearch1.fit(X_train,y_train)"
   ]
  },
  {
   "cell_type": "code",
   "execution_count": 23,
   "metadata": {},
   "outputs": [
    {
     "name": "stdout",
     "output_type": "stream",
     "text": [
      "{'max_depth': 3, 'min_child_weight': 9}\n",
      "0.5921207067706626\n",
      "####################################################################################################\n"
     ]
    }
   ],
   "source": [
    "print(gsearch1.best_params_)\n",
    "print(gsearch1.best_score_)\n",
    "print(\"#\"*100)\n",
    "#gsearch1.cv_results_,gsearch1.best_params_, gsearch1.best_score_"
   ]
  },
  {
   "cell_type": "markdown",
   "metadata": {},
   "source": [
    "## Grid seach on max_depth and min_child_weight: Step 2"
   ]
  },
  {
   "cell_type": "code",
   "execution_count": 24,
   "metadata": {},
   "outputs": [
    {
     "data": {
      "text/plain": [
       "GridSearchCV(cv=10, error_score='raise-deprecating',\n",
       "       estimator=XGBClassifier(base_score=0.5, booster='gbtree', colsample_bylevel=1,\n",
       "       colsample_bytree=0.8, gamma=0, learning_rate=0.1, max_delta_step=0,\n",
       "       max_depth=3, min_child_weight=7, missing=None, n_estimators=200,\n",
       "       n_jobs=1, nthread=4, objective='binary:logistic', random_state=0,\n",
       "       reg_alpha=0, reg_lambda=1, scale_pos_weight=1, seed=84, silent=True,\n",
       "       subsample=0.8),\n",
       "       fit_params=None, iid=False, n_jobs=4,\n",
       "       param_grid={'max_depth': [1, 2, 3, 4, 5], 'min_child_weight': [7, 8, 9, 10, 11, 12]},\n",
       "       pre_dispatch='2*n_jobs', refit=True, return_train_score='warn',\n",
       "       scoring='roc_auc', verbose=0)"
      ]
     },
     "execution_count": 24,
     "metadata": {},
     "output_type": "execute_result"
    }
   ],
   "source": [
    "param_test2 = {\n",
    "    'max_depth':[1,2,3,4,5],\n",
    "    'min_child_weight':[7,8,9,10,11,12]\n",
    "}\n",
    "gsearch2 = GridSearchCV(estimator = XGBClassifier(learning_rate =0.1, n_estimators=200, max_depth=3,\n",
    "                                        min_child_weight=7, gamma=0, subsample=0.8, colsample_bytree=0.8,\n",
    "                                        objective= 'binary:logistic', nthread=4, scale_pos_weight=1, seed=84), \n",
    "                       param_grid = param_test2, scoring='roc_auc',n_jobs=4,iid=False, cv=10)\n",
    "gsearch2.fit(X_train,y_train)"
   ]
  },
  {
   "cell_type": "code",
   "execution_count": 25,
   "metadata": {},
   "outputs": [
    {
     "name": "stdout",
     "output_type": "stream",
     "text": [
      "{'max_depth': 2, 'min_child_weight': 10}\n",
      "0.5977529417019133\n",
      "####################################################################################################\n"
     ]
    }
   ],
   "source": [
    "print(gsearch2.best_params_)\n",
    "print(gsearch2.best_score_)\n",
    "print(\"#\"*100)\n",
    "#gsearch2.cv_results_,gsearch2.best_params_, gsearch2.best_score_"
   ]
  },
  {
   "cell_type": "markdown",
   "metadata": {},
   "source": [
    "## Grid seach on max_depth and min_child_weight: Double check"
   ]
  },
  {
   "cell_type": "code",
   "execution_count": 26,
   "metadata": {},
   "outputs": [
    {
     "data": {
      "text/plain": [
       "GridSearchCV(cv=10, error_score='raise-deprecating',\n",
       "       estimator=XGBClassifier(base_score=0.5, booster='gbtree', colsample_bylevel=1,\n",
       "       colsample_bytree=0.8, gamma=0, learning_rate=0.1, max_delta_step=0,\n",
       "       max_depth=2, min_child_weight=10, missing=None, n_estimators=200,\n",
       "       n_jobs=1, nthread=4, objective='binary:logistic', random_state=0,\n",
       "       reg_alpha=0, reg_lambda=1, scale_pos_weight=1, seed=84, silent=True,\n",
       "       subsample=0.8),\n",
       "       fit_params=None, iid=False, n_jobs=4,\n",
       "       param_grid={'max_depth': [1, 2, 3], 'min_child_weight': [1, 2, 3, 4, 5]},\n",
       "       pre_dispatch='2*n_jobs', refit=True, return_train_score='warn',\n",
       "       scoring='roc_auc', verbose=0)"
      ]
     },
     "execution_count": 26,
     "metadata": {},
     "output_type": "execute_result"
    }
   ],
   "source": [
    "param_test3 = {\n",
    "    'max_depth':[1,2,3],\n",
    "    'min_child_weight':[1,2,3,4,5]\n",
    "}\n",
    "gsearch3 = GridSearchCV(estimator = XGBClassifier( learning_rate =0.1, n_estimators=200, max_depth=2,\n",
    "                                        min_child_weight=10, gamma=0, subsample=0.8, colsample_bytree=0.8,\n",
    "                                        objective= 'binary:logistic', nthread=4, scale_pos_weight=1, seed=84), \n",
    "                       param_grid = param_test3, scoring='roc_auc',n_jobs=4,iid=False, cv=10)\n",
    "gsearch3.fit(X_train,y_train)"
   ]
  },
  {
   "cell_type": "code",
   "execution_count": 27,
   "metadata": {},
   "outputs": [
    {
     "name": "stdout",
     "output_type": "stream",
     "text": [
      "{'max_depth': 2, 'min_child_weight': 3}\n",
      "0.5975937200493292\n",
      "####################################################################################################\n"
     ]
    }
   ],
   "source": [
    "print(gsearch3.best_params_)\n",
    "print(gsearch3.best_score_)\n",
    "print(\"#\"*100)\n",
    "#gsearch3.cv_results_,gsearch3.best_params_, gsearch3.best_score_"
   ]
  },
  {
   "cell_type": "markdown",
   "metadata": {},
   "source": [
    "## Grid seach on gamma: Initial step"
   ]
  },
  {
   "cell_type": "code",
   "execution_count": 28,
   "metadata": {},
   "outputs": [
    {
     "data": {
      "text/plain": [
       "GridSearchCV(cv=10, error_score='raise-deprecating',\n",
       "       estimator=XGBClassifier(base_score=0.5, booster='gbtree', colsample_bylevel=1,\n",
       "       colsample_bytree=0.8, gamma=0, learning_rate=0.1, max_delta_step=0,\n",
       "       max_depth=2, min_child_weight=10, missing=None, n_estimators=200,\n",
       "       n_jobs=1, nthread=4, objective='binary:logistic', random_state=0,\n",
       "       reg_alpha=0, reg_lambda=1, scale_pos_weight=1, seed=84, silent=True,\n",
       "       subsample=0.8),\n",
       "       fit_params=None, iid=False, n_jobs=4,\n",
       "       param_grid={'gamma': [0.0, 0.1, 0.2, 0.3, 0.4]},\n",
       "       pre_dispatch='2*n_jobs', refit=True, return_train_score='warn',\n",
       "       scoring='roc_auc', verbose=0)"
      ]
     },
     "execution_count": 28,
     "metadata": {},
     "output_type": "execute_result"
    }
   ],
   "source": [
    "\n",
    "#Choose all predictors except target & IDcols\n",
    "param_test4 = {\n",
    "    'gamma':[i/10.0 for i in range(0,5)]\n",
    "}\n",
    "gsearch4 = GridSearchCV(estimator = XGBClassifier( learning_rate =0.1, n_estimators=200, max_depth=2,\n",
    "                                        min_child_weight=10, gamma=0, subsample=0.8, colsample_bytree=0.8,\n",
    "                                        objective= 'binary:logistic', nthread=4, scale_pos_weight=1,seed=84), \n",
    "                       param_grid = param_test4, scoring='roc_auc',n_jobs=4,iid=False, cv=10)\n",
    "gsearch4.fit(X_train,y_train)"
   ]
  },
  {
   "cell_type": "code",
   "execution_count": 29,
   "metadata": {},
   "outputs": [
    {
     "name": "stdout",
     "output_type": "stream",
     "text": [
      "{'gamma': 0.0}\n",
      "0.5977529417019133\n",
      "####################################################################################################\n"
     ]
    }
   ],
   "source": [
    "print(gsearch4.best_params_)\n",
    "print(gsearch4.best_score_)\n",
    "print(\"#\"*100)\n",
    "# gsearch4.cv_results_,gsearch4.best_params_, gsearch4.best_score_"
   ]
  },
  {
   "cell_type": "markdown",
   "metadata": {},
   "source": [
    "# Evaluate importance and accuracy"
   ]
  },
  {
   "cell_type": "code",
   "execution_count": 30,
   "metadata": {},
   "outputs": [
    {
     "name": "stdout",
     "output_type": "stream",
     "text": [
      "\n",
      "Model Report\n",
      "Accuracy : %.4g 0.7550587236451111\n",
      "AUC Score (Train): 0.6173824376327374]\n",
      "AUC Score (Test): 0.5805506678189266\n",
      "gbtree\n"
     ]
    },
    {
     "data": {
      "image/png": "[encoded data removed]",
      "text/plain": [
       "<Figure size 864x288 with 1 Axes>"
      ]
     },
     "metadata": {
      "needs_background": "light"
     },
     "output_type": "display_data"
    }
   ],
   "source": [
    "predictors = [x for x in X_data_train.columns if x not in [target]]\n",
    "xgb2 = XGBClassifier(\n",
    "        learning_rate =0.1,\n",
    "        n_estimators=1000,\n",
    "        max_depth=2,\n",
    "        min_child_weight=4,\n",
    "        gamma=0,\n",
    "        subsample=0.8,\n",
    "        colsample_bytree=0.8,\n",
    "        objective= 'binary:logistic',\n",
    "        nthread=4,\n",
    "        scale_pos_weight=1,\n",
    "        seed=84)\n",
    "modelfit(xgb2, X_data_train, X_data_test, predictors)"
   ]
  },
  {
   "cell_type": "markdown",
   "metadata": {},
   "source": [
    "## Grid seach on subsample and colsample_bytree: Initial step"
   ]
  },
  {
   "cell_type": "code",
   "execution_count": 31,
   "metadata": {},
   "outputs": [
    {
     "data": {
      "text/plain": [
       "GridSearchCV(cv=10, error_score='raise-deprecating',\n",
       "       estimator=XGBClassifier(base_score=0.5, booster='gbtree', colsample_bylevel=1,\n",
       "       colsample_bytree=0.8, gamma=0, learning_rate=0.1, max_delta_step=0,\n",
       "       max_depth=2, min_child_weight=10, missing=None, n_estimators=200,\n",
       "       n_jobs=1, nthread=4, objective='binary:logistic', random_state=0,\n",
       "       reg_alpha=0, reg_lambda=1, scale_pos_weight=1, seed=84, silent=True,\n",
       "       subsample=0.8),\n",
       "       fit_params=None, iid=False, n_jobs=4,\n",
       "       param_grid={'subsample': [0.6, 0.7, 0.8, 0.9], 'colsample_bytree': [0.6, 0.7, 0.8, 0.9]},\n",
       "       pre_dispatch='2*n_jobs', refit=True, return_train_score='warn',\n",
       "       scoring='roc_auc', verbose=0)"
      ]
     },
     "execution_count": 31,
     "metadata": {},
     "output_type": "execute_result"
    }
   ],
   "source": [
    "#Choose all predictors except target & IDcols\n",
    "param_test5 = {\n",
    "    'subsample':[i/10.0 for i in range(6,10)],\n",
    "    'colsample_bytree':[i/10.0 for i in range(6,10)]\n",
    "}\n",
    "gsearch5 = GridSearchCV(estimator = XGBClassifier(learning_rate =0.1, n_estimators=200, max_depth=2,\n",
    "                                        min_child_weight=10, gamma=0, subsample=0.8, colsample_bytree=0.8,\n",
    "                                        objective= 'binary:logistic', nthread=4, scale_pos_weight=1,seed=84), \n",
    "                       param_grid = param_test5, scoring='roc_auc',n_jobs=4,iid=False, cv=10)\n",
    "gsearch5.fit(X_train,y_train)"
   ]
  },
  {
   "cell_type": "code",
   "execution_count": 32,
   "metadata": {},
   "outputs": [
    {
     "name": "stdout",
     "output_type": "stream",
     "text": [
      "{'colsample_bytree': 0.6, 'subsample': 0.9}\n",
      "0.599050211942435\n",
      "####################################################################################################\n"
     ]
    }
   ],
   "source": [
    "print(gsearch5.best_params_)\n",
    "print(gsearch5.best_score_)\n",
    "print(\"#\"*100)\n",
    "#gsearch5.cv_results_,gsearch5.best_params_, gsearch5.best_score_"
   ]
  },
  {
   "cell_type": "markdown",
   "metadata": {},
   "source": [
    "## Grid seach on subsample and colsample_bytree:  Fine-tune"
   ]
  },
  {
   "cell_type": "code",
   "execution_count": 33,
   "metadata": {},
   "outputs": [
    {
     "data": {
      "text/plain": [
       "GridSearchCV(cv=10, error_score='raise-deprecating',\n",
       "       estimator=XGBClassifier(base_score=0.5, booster='gbtree', colsample_bylevel=1,\n",
       "       colsample_bytree=0.8, gamma=0, learning_rate=0.1, max_delta_step=0,\n",
       "       max_depth=2, min_child_weight=10, missing=None, n_estimators=200,\n",
       "       n_jobs=1, nthread=4, objective='binary:logistic', random_state=0,\n",
       "       reg_alpha=0, reg_lambda=1, scale_pos_weight=1, seed=84, silent=True,\n",
       "       subsample=0.8),\n",
       "       fit_params=None, iid=False, n_jobs=4,\n",
       "       param_grid={'subsample': [0.8, 0.85, 0.9, 0.95], 'colsample_bytree': [0.5, 0.55, 0.6, 0.65]},\n",
       "       pre_dispatch='2*n_jobs', refit=True, return_train_score='warn',\n",
       "       scoring='roc_auc', verbose=0)"
      ]
     },
     "execution_count": 33,
     "metadata": {},
     "output_type": "execute_result"
    }
   ],
   "source": [
    "#Choose all predictors except target & IDcols\n",
    "param_test6 = {\n",
    "    'subsample':[i/100.0 for i in range(80,100,5)],\n",
    "    'colsample_bytree':[i/100.0 for i in range(50,70,5)]\n",
    "}\n",
    "gsearch6 = GridSearchCV(estimator = XGBClassifier(learning_rate =0.1, n_estimators=200, max_depth=2,\n",
    "                                        min_child_weight=10, gamma=0, subsample=0.8, colsample_bytree=0.8,\n",
    "                                        objective= 'binary:logistic', nthread=4, scale_pos_weight=1,seed=84), \n",
    "                       param_grid = param_test6, scoring='roc_auc',n_jobs=4,iid=False, cv=10)\n",
    "gsearch6.fit(X_train,y_train)"
   ]
  },
  {
   "cell_type": "code",
   "execution_count": 34,
   "metadata": {
    "scrolled": true
   },
   "outputs": [
    {
     "name": "stdout",
     "output_type": "stream",
     "text": [
      "{'colsample_bytree': 0.5, 'subsample': 0.9}\n",
      "0.599050211942435\n",
      "####################################################################################################\n"
     ]
    }
   ],
   "source": [
    "print(gsearch6.best_params_)\n",
    "print(gsearch6.best_score_)\n",
    "print(\"#\"*100)\n",
    "#gsearch6.cv_results_,gsearch6.best_params_, gsearch6.best_score_"
   ]
  },
  {
   "cell_type": "markdown",
   "metadata": {},
   "source": [
    "## Grid seach on reg_alpha: Initial step"
   ]
  },
  {
   "cell_type": "code",
   "execution_count": 35,
   "metadata": {},
   "outputs": [
    {
     "data": {
      "text/plain": [
       "GridSearchCV(cv=10, error_score='raise-deprecating',\n",
       "       estimator=XGBClassifier(base_score=0.5, booster='gbtree', colsample_bylevel=1,\n",
       "       colsample_bytree=0.5, gamma=0, learning_rate=0.1, max_delta_step=0,\n",
       "       max_depth=2, min_child_weight=4, missing=None, n_estimators=200,\n",
       "       n_jobs=1, nthread=4, objective='binary:logistic', random_state=0,\n",
       "       reg_alpha=0, reg_lambda=1, scale_pos_weight=1, seed=84, silent=True,\n",
       "       subsample=0.9),\n",
       "       fit_params=None, iid=False, n_jobs=4,\n",
       "       param_grid={'reg_alpha': [1e-05, 0.01, 0.1, 1, 100]},\n",
       "       pre_dispatch='2*n_jobs', refit=True, return_train_score='warn',\n",
       "       scoring='roc_auc', verbose=0)"
      ]
     },
     "execution_count": 35,
     "metadata": {},
     "output_type": "execute_result"
    }
   ],
   "source": [
    "#Choose all predictors except target & IDcols\n",
    "param_test7 = {\n",
    "    'reg_alpha':[1e-5, 1e-2, 0.1, 1, 100]\n",
    "}\n",
    "gsearch7 = GridSearchCV(estimator = XGBClassifier(learning_rate=0.1, n_estimators=200, max_depth=2,\n",
    "                                        min_child_weight=4, gamma=0, subsample=0.9, colsample_bytree=0.5,\n",
    "                                        objective= 'binary:logistic', nthread=4, scale_pos_weight=1,seed=84), \n",
    "                       param_grid = param_test7, scoring='roc_auc',n_jobs=4,iid=False, cv=10)\n",
    "gsearch7.fit(X_train,y_train)"
   ]
  },
  {
   "cell_type": "code",
   "execution_count": 36,
   "metadata": {},
   "outputs": [
    {
     "name": "stdout",
     "output_type": "stream",
     "text": [
      "{'reg_alpha': 0.1}\n",
      "0.5992333383373312\n",
      "####################################################################################################\n"
     ]
    }
   ],
   "source": [
    "print(gsearch7.best_params_)\n",
    "print(gsearch7.best_score_)\n",
    "print(\"#\"*100)\n",
    "#gsearch7.cv_results_,gsearch7.best_params_, gsearch7.best_score_\n"
   ]
  },
  {
   "cell_type": "markdown",
   "metadata": {},
   "source": [
    "## Grid seach on reg_alpha: Fine-tune"
   ]
  },
  {
   "cell_type": "code",
   "execution_count": 37,
   "metadata": {},
   "outputs": [
    {
     "data": {
      "text/plain": [
       "GridSearchCV(cv=10, error_score='raise-deprecating',\n",
       "       estimator=XGBClassifier(base_score=0.5, booster='gbtree', colsample_bylevel=1,\n",
       "       colsample_bytree=0.5, gamma=0, learning_rate=0.1, max_delta_step=0,\n",
       "       max_depth=2, min_child_weight=10, missing=None, n_estimators=200,\n",
       "       n_jobs=1, nthread=4, objective='binary:logistic', random_state=0,\n",
       "       reg_alpha=0, reg_lambda=1, scale_pos_weight=1, seed=84, silent=True,\n",
       "       subsample=0.9),\n",
       "       fit_params=None, iid=False, n_jobs=4,\n",
       "       param_grid={'reg_alpha': [0.01, 0.05, 0.1, 1, 2, 5, 10]},\n",
       "       pre_dispatch='2*n_jobs', refit=True, return_train_score='warn',\n",
       "       scoring='roc_auc', verbose=0)"
      ]
     },
     "execution_count": 37,
     "metadata": {},
     "output_type": "execute_result"
    }
   ],
   "source": [
    "#Choose all predictors except target & IDcols\n",
    "param_test8 = {\n",
    "    'reg_alpha':[0.01,0.05, 0.1, 1, 2, 5, 10]\n",
    "}\n",
    "gsearch8 = GridSearchCV(estimator = XGBClassifier(learning_rate=0.1, n_estimators=200, max_depth=2,\n",
    "                                        min_child_weight=10, gamma=0, subsample=0.9, colsample_bytree=0.5,\n",
    "                                        objective= 'binary:logistic', nthread=4, scale_pos_weight=1,seed=84), \n",
    "                       param_grid = param_test8, scoring='roc_auc',n_jobs=4,iid=False, cv=10)\n",
    "gsearch8.fit(X_train,y_train)"
   ]
  },
  {
   "cell_type": "code",
   "execution_count": 38,
   "metadata": {},
   "outputs": [
    {
     "name": "stdout",
     "output_type": "stream",
     "text": [
      "{'reg_alpha': 5}\n",
      "0.6002142816245841\n",
      "####################################################################################################\n"
     ]
    }
   ],
   "source": [
    "print(gsearch8.best_params_)\n",
    "print(gsearch8.best_score_)\n",
    "print(\"#\"*100)\n",
    "# gsearch8.cv_results_,gsearch8.best_params_, gsearch8.best_score_"
   ]
  },
  {
   "cell_type": "code",
   "execution_count": 39,
   "metadata": {},
   "outputs": [
    {
     "data": {
      "text/plain": [
       "GridSearchCV(cv=10, error_score='raise-deprecating',\n",
       "       estimator=XGBClassifier(base_score=0.5, booster='gbtree', colsample_bylevel=1,\n",
       "       colsample_bytree=0.5, gamma=0, learning_rate=0.1, max_delta_step=0,\n",
       "       max_depth=2, min_child_weight=10, missing=None, n_estimators=200,\n",
       "       n_jobs=1, nthread=4, objective='binary:logistic', random_state=0,\n",
       "       reg_alpha=0, reg_lambda=1, scale_pos_weight=1, seed=84, silent=True,\n",
       "       subsample=0.9),\n",
       "       fit_params=None, iid=False, n_jobs=4,\n",
       "       param_grid={'reg_alpha': [0.1, 1, 2, 3, 4, 5, 6, 7, 8, 9, 10]},\n",
       "       pre_dispatch='2*n_jobs', refit=True, return_train_score='warn',\n",
       "       scoring='roc_auc', verbose=0)"
      ]
     },
     "execution_count": 39,
     "metadata": {},
     "output_type": "execute_result"
    }
   ],
   "source": [
    "#Choose all predictors except target & IDcols\n",
    "param_test9 = {\n",
    "    'reg_alpha':[0.1, 1, 2, 3, 4, 5, 6, 7, 8, 9, 10]\n",
    "}\n",
    "gsearch9 = GridSearchCV(estimator = XGBClassifier(learning_rate=0.1, n_estimators=200, max_depth=2,\n",
    "                                        min_child_weight=10, gamma=0, subsample=0.9, colsample_bytree=0.5,\n",
    "                                        objective= 'binary:logistic', nthread=4, scale_pos_weight=1,seed=84), \n",
    "                       param_grid = param_test9, scoring='roc_auc',n_jobs=4,iid=False, cv=10)\n",
    "gsearch9.fit(X_train,y_train)"
   ]
  },
  {
   "cell_type": "code",
   "execution_count": 40,
   "metadata": {},
   "outputs": [
    {
     "name": "stdout",
     "output_type": "stream",
     "text": [
      "{'reg_alpha': 3}\n",
      "0.6002829774792635\n",
      "####################################################################################################\n"
     ]
    }
   ],
   "source": [
    "print(gsearch9.best_params_)\n",
    "print(gsearch9.best_score_)\n",
    "print(\"#\"*100)\n",
    "# gsearch9.cv_results_,gsearch9.best_params_, gsearch9.best_score_"
   ]
  },
  {
   "cell_type": "code",
   "execution_count": 26,
   "metadata": {},
   "outputs": [
    {
     "name": "stdout",
     "output_type": "stream",
     "text": [
      "\n",
      "Model Report\n",
      "Accuracy : %.4g 0.7535021932927692\n",
      "AUC Score (Train): 0.6169790203862028]\n",
      "AUC Score (Test): 0.5790106229792402\n",
      "gbtree\n"
     ]
    },
    {
     "data": {
      "image/png": "[encoded data removed]",
      "text/plain": [
       "<Figure size 864x288 with 1 Axes>"
      ]
     },
     "metadata": {
      "needs_background": "light"
     },
     "output_type": "display_data"
    }
   ],
   "source": [
    "xgb3 = XGBClassifier(\n",
    "        learning_rate =0.1,\n",
    "        n_estimators=1000,\n",
    "        max_depth=2,\n",
    "        min_child_weight=10,\n",
    "        gamma=0,\n",
    "        subsample=0.9,\n",
    "        colsample_bytree=0.5,\n",
    "        reg_alpha=3,\n",
    "        objective= 'binary:logistic',\n",
    "        nthread=4,\n",
    "        scale_pos_weight=1,\n",
    "        seed=84)\n",
    "modelfit(xgb3, X_data_train, X_data_test, predictors)"
   ]
  },
  {
   "cell_type": "markdown",
   "metadata": {},
   "source": [
    "# Predicting hyperglycemia prevalence using SVRS 2013, 2014 and 2017 data\n",
    "\n",
    "- SVRS 2012: DBF\n",
    "- SVRS 2013: SAV\n",
    "- SVRS 2014: SAV\n",
    "- SVRS 2015: DBF\n",
    "- SVRS 2017: DTA"
   ]
  },
  {
   "cell_type": "code",
   "execution_count": null,
   "metadata": {},
   "outputs": [],
   "source": [
    "for var in ncd_data.columns: \n",
    "    print(var,len(ncd_data[var].value_counts()))"
   ]
  },
  {
   "cell_type": "code",
   "execution_count": 29,
   "metadata": {},
   "outputs": [
    {
     "name": "stderr",
     "output_type": "stream",
     "text": [
      "/anaconda3/lib/python3.7/site-packages/ipykernel_launcher.py:11: RuntimeWarning: invalid value encountered in long_scalars\n",
      "  # This is added back by InteractiveShellApp.init_path()\n"
     ]
    },
    {
     "data": {
      "text/html": [
       "<div>\n",
       "<style scoped>\n",
       "    .dataframe tbody tr th:only-of-type {\n",
       "        vertical-align: middle;\n",
       "    }\n",
       "\n",
       "    .dataframe tbody tr th {\n",
       "        vertical-align: top;\n",
       "    }\n",
       "\n",
       "    .dataframe thead th {\n",
       "        text-align: right;\n",
       "    }\n",
       "</style>\n",
       "<table border=\"1\" class=\"dataframe\">\n",
       "  <thead>\n",
       "    <tr style=\"text-align: right;\">\n",
       "      <th></th>\n",
       "      <th>EER</th>\n",
       "    </tr>\n",
       "  </thead>\n",
       "  <tbody>\n",
       "    <tr>\n",
       "      <th>0.29</th>\n",
       "      <td>0.037757</td>\n",
       "    </tr>\n",
       "    <tr>\n",
       "      <th>0.28</th>\n",
       "      <td>0.039233</td>\n",
       "    </tr>\n",
       "    <tr>\n",
       "      <th>0.3</th>\n",
       "      <td>0.072128</td>\n",
       "    </tr>\n",
       "    <tr>\n",
       "      <th>0.27</th>\n",
       "      <td>0.083131</td>\n",
       "    </tr>\n",
       "    <tr>\n",
       "      <th>0.31</th>\n",
       "      <td>0.121366</td>\n",
       "    </tr>\n",
       "    <tr>\n",
       "      <th>0.26</th>\n",
       "      <td>0.134499</td>\n",
       "    </tr>\n",
       "    <tr>\n",
       "      <th>0.32</th>\n",
       "      <td>0.150931</td>\n",
       "    </tr>\n",
       "    <tr>\n",
       "      <th>0.33</th>\n",
       "      <td>0.181024</td>\n",
       "    </tr>\n",
       "    <tr>\n",
       "      <th>0.25</th>\n",
       "      <td>0.184623</td>\n",
       "    </tr>\n",
       "    <tr>\n",
       "      <th>0.34</th>\n",
       "      <td>0.208217</td>\n",
       "    </tr>\n",
       "  </tbody>\n",
       "</table>\n",
       "</div>"
      ],
      "text/plain": [
       "           EER\n",
       "0.29  0.037757\n",
       "0.28  0.039233\n",
       "0.3   0.072128\n",
       "0.27  0.083131\n",
       "0.31  0.121366\n",
       "0.26  0.134499\n",
       "0.32  0.150931\n",
       "0.33  0.181024\n",
       "0.25  0.184623\n",
       "0.34  0.208217"
      ]
     },
     "metadata": {},
     "output_type": "display_data"
    }
   ],
   "source": [
    "def eer_threshold(model, test_X, test_y):\n",
    "    predictions = model.predict_proba(test_X)\n",
    "    predictions = predictions[:,1]\n",
    "    output = {}\n",
    "    for i in range(5,100,1):\n",
    "        y_predicted = np.where(predictions > i/100, 1, 0)\n",
    "        cm = confusion_matrix(y_pred=y_predicted, y_true=test_y,)\n",
    "        tn, fp, fn, tp = cm.ravel()\n",
    "        n = test_y.value_counts()[0]\n",
    "        p = test_y.value_counts()[1]\n",
    "        precision = tp/(tp + fp) # positive predictive value\n",
    "        recall = tp/(tp + fn) # true positive rate\n",
    "        output[str(i/100)] = precision-recall\n",
    "    output = pd.DataFrame.from_dict(output,orient='index', columns=['EER'])\n",
    "    output['EER'] = np.absolute(output['EER'])\n",
    "    output = output.sort_values(by='EER', ascending=True)\n",
    "    display(output.head(10))\n",
    "    return float(output.index[0]), output.iloc[0,0],\n",
    "tr = eer_threshold(model=xgb3,test_X=X_test, test_y=y_test)"
   ]
  },
  {
   "cell_type": "code",
   "execution_count": 30,
   "metadata": {},
   "outputs": [
    {
     "name": "stdout",
     "output_type": "stream",
     "text": [
      "0.036062378167641324\n"
     ]
    },
    {
     "data": {
      "text/plain": [
       "0.06746031746031746"
      ]
     },
     "execution_count": 30,
     "metadata": {},
     "output_type": "execute_result"
    },
    {
     "data": {
      "image/png": "[encoded data removed]",
      "text/plain": [
       "<Figure size 864x288 with 1 Axes>"
      ]
     },
     "metadata": {
      "needs_background": "light"
     },
     "output_type": "display_data"
    }
   ],
   "source": [
    "y_predicted = xgb3.predict_proba(X)\n",
    "y_predicted = y_predicted[:,1]\n",
    "y_predicted = np.where(y_predicted > 0.29, 1, 0)\n",
    "eval_prevalence = pd.DataFrame.from_dict({'actual': y, 'predicted': y_predicted, 'district':ncd_data.loc[y.index,'shdistrict']})\n",
    "eval_prevalence = eval_prevalence.groupby('district').sum()/eval_prevalence.groupby('district').count()\n",
    "plt.hist(eval_prevalence['actual'] - eval_prevalence['predicted'], bins=20)\n",
    "print((eval_prevalence['actual'] - eval_prevalence['predicted']).median())\n",
    "eval_prevalence['difference'] = np.absolute(eval_prevalence['actual'] - eval_prevalence['predicted'])\n",
    "eval_prevalence['difference'].median()"
   ]
  },
  {
   "cell_type": "code",
   "execution_count": 31,
   "metadata": {},
   "outputs": [
    {
     "name": "stdout",
     "output_type": "stream",
     "text": [
      "0.06314127861089189\n"
     ]
    },
    {
     "data": {
      "text/plain": [
       "0.05123619972352063"
      ]
     },
     "execution_count": 31,
     "metadata": {},
     "output_type": "execute_result"
    },
    {
     "data": {
      "image/png": "[encoded data removed]",
      "text/plain": [
       "<Figure size 864x288 with 1 Axes>"
      ]
     },
     "metadata": {
      "needs_background": "light"
     },
     "output_type": "display_data"
    }
   ],
   "source": [
    "y_predicted = xgb3.predict_proba(X)\n",
    "y_predicted = y_predicted[:,1]\n",
    "y_predicted = np.where(y_predicted > 0.29, 1, 0)\n",
    "eval_prevalence = pd.DataFrame.from_dict({'actual': y, 'predicted': y_predicted, 'district':ncd_data.loc[y.index,'hv024']})\n",
    "eval_prevalence = eval_prevalence.groupby('district').sum()/eval_prevalence.groupby('district').count()\n",
    "plt.hist(eval_prevalence['actual'] - eval_prevalence['predicted'], bins=20)\n",
    "print((eval_prevalence['actual'] - eval_prevalence['predicted']).median())\n",
    "eval_prevalence['difference'] = np.absolute(eval_prevalence['actual'] - eval_prevalence['predicted'])\n",
    "eval_prevalence['difference'].mean()"
   ]
  },
  {
   "cell_type": "code",
   "execution_count": 32,
   "metadata": {},
   "outputs": [
    {
     "name": "stdout",
     "output_type": "stream",
     "text": [
      "Predicted  False  True  __all__\n",
      "Actual                         \n",
      "False         22     8       30\n",
      "True           5     3        8\n",
      "__all__       27    11       38\n"
     ]
    }
   ],
   "source": [
    "from sklearn.metrics import confusion_matrix\n",
    "y_predicted = xgb3.predict_proba(X_test)\n",
    "y_predicted = y_predicted[:,1]\n",
    "y_predicted = np.where(y_predicted > 0.29, 1, 0)\n",
    "cm1= pd_ml.ConfusionMatrix(y_pred=y_predicted, y_true=y_test,)\n",
    "cm2 = confusion_matrix(y_pred=y_predicted, y_true=y_test,)\n",
    "print(cm1)\n"
   ]
  },
  {
   "cell_type": "code",
   "execution_count": 33,
   "metadata": {},
   "outputs": [
    {
     "name": "stdout",
     "output_type": "stream",
     "text": [
      "              precision    recall  f1-score   support\n",
      "\n",
      "           0       0.79      0.81      0.80      1339\n",
      "           1       0.34      0.31      0.32       428\n",
      "\n",
      "   micro avg       0.69      0.69      0.69      1767\n",
      "   macro avg       0.56      0.56      0.56      1767\n",
      "weighted avg       0.68      0.69      0.68      1767\n",
      "\n"
     ]
    }
   ],
   "source": [
    "from sklearn.metrics import average_precision_score\n",
    "print(classification_report(y_test, y_predicted))"
   ]
  },
  {
   "cell_type": "code",
   "execution_count": 22,
   "metadata": {},
   "outputs": [],
   "source": [
    "import os\n",
    "import sys\n",
    "import glob\n",
    "import tzlocal\n",
    "import numpy as np\n",
    "import pandas as pd\n",
    "from scipy import io\n",
    "from dbfread import DBF\n",
    "from collections import Counter\n",
    "import matplotlib.pyplot as plt\n",
    "import rpy2.robjects as robjects\n",
    "from rpy2.robjects import packages\n",
    "from rpy2.robjects import pandas2ri\n",
    "from simpledbf import Dbf5\n",
    "from dbfread import DBF\n",
    "\n",
    "def read_dbf(file):\n",
    "    tmp = DBF(file)\n",
    "    tmp = pd.DataFrame(iter(tmp))\n",
    "    return tmp\n",
    "\n",
    "def read_sav(file):\n",
    "    foreign = packages.importr('foreign')\n",
    "    pandas2ri.activate()\n",
    "    df = foreign.read_spss(file, reencode=False)\n",
    "    return pd.DataFrame(dict(zip(df.names, map(list,list(df)))))\n",
    "\n",
    "def read_svrs(file):\n",
    "    itr = pd.read_stata(file, iterator=True)\n",
    "    variables = list(itr.variable_labels().values())\n",
    "    data = pd.read_stata(os.path.join(file))\n",
    "    original_variables = list(data.columns)\n",
    "    data.columns = variables\n",
    "    return data, original_variables"
   ]
  },
  {
   "cell_type": "code",
   "execution_count": 23,
   "metadata": {},
   "outputs": [],
   "source": [
    "SVRS2012 = '/Users/edinhamzic/Symphony/wb_bangladesh/Bangladesh/data/bbs/svrs/SVRS_12/tafsil-2p.dbf'\n",
    "SVRS2013 = '/Users/edinhamzic/Symphony/wb_bangladesh/Bangladesh/data/bbs/svrs/SVRS_13/pop_hh_14-05-2015.sav'\n",
    "SVRS2014 = '/Users/edinhamzic/Symphony/wb_bangladesh/Bangladesh/data/bbs/svrs/SVRS_14/tafsil2P_12-06-2015.sav'\n",
    "SVRS2015 = '/Users/edinhamzic/Symphony/wb_bangladesh/Bangladesh/data/bbs/svrs/SVRS_15/tafsil-2p.dbf'\n",
    "SVRS2017 = '/Users/edinhamzic/Symphony/wb_bangladesh/Bangladesh/data/bbs/svrs/SVRS_17/tafsl-2p.dta'\n",
    "variables = ['Education', 'Age', 'Urban/Rural', 'Gender']"
   ]
  },
  {
   "cell_type": "markdown",
   "metadata": {},
   "source": [
    "## SVRS2012"
   ]
  },
  {
   "cell_type": "code",
   "execution_count": 24,
   "metadata": {},
   "outputs": [
    {
     "ename": "NameError",
     "evalue": "name 'data_svrs2012r' is not defined",
     "output_type": "error",
     "traceback": [
      "\u001b[0;31m---------------------------------------------------------------------------\u001b[0m",
      "\u001b[0;31mNameError\u001b[0m                                 Traceback (most recent call last)",
      "\u001b[0;32m<ipython-input-24-cf759db8aa3a>\u001b[0m in \u001b[0;36m<module>\u001b[0;34m\u001b[0m\n\u001b[0;32m----> 1\u001b[0;31m \u001b[0mdata_svrs2012r\u001b[0m\u001b[0;34m.\u001b[0m\u001b[0mcolumns\u001b[0m\u001b[0;34m\u001b[0m\u001b[0;34m\u001b[0m\u001b[0m\n\u001b[0m",
      "\u001b[0;31mNameError\u001b[0m: name 'data_svrs2012r' is not defined"
     ]
    }
   ],
   "source": [
    "data_svrs2012r.columns"
   ]
  },
  {
   "cell_type": "code",
   "execution_count": 25,
   "metadata": {},
   "outputs": [
    {
     "data": {
      "text/html": [
       "<div>\n",
       "<style scoped>\n",
       "    .dataframe tbody tr th:only-of-type {\n",
       "        vertical-align: middle;\n",
       "    }\n",
       "\n",
       "    .dataframe tbody tr th {\n",
       "        vertical-align: top;\n",
       "    }\n",
       "\n",
       "    .dataframe thead th {\n",
       "        text-align: right;\n",
       "    }\n",
       "</style>\n",
       "<table border=\"1\" class=\"dataframe\">\n",
       "  <thead>\n",
       "    <tr style=\"text-align: right;\">\n",
       "      <th></th>\n",
       "      <th>Education</th>\n",
       "      <th>Age</th>\n",
       "      <th>Urban/Rural_1</th>\n",
       "      <th>Urban/Rural_2</th>\n",
       "      <th>Gender_1</th>\n",
       "      <th>Gender_2</th>\n",
       "    </tr>\n",
       "  </thead>\n",
       "  <tbody>\n",
       "    <tr>\n",
       "      <th>0</th>\n",
       "      <td>10</td>\n",
       "      <td>60</td>\n",
       "      <td>1</td>\n",
       "      <td>0</td>\n",
       "      <td>1</td>\n",
       "      <td>0</td>\n",
       "    </tr>\n",
       "    <tr>\n",
       "      <th>1</th>\n",
       "      <td>8</td>\n",
       "      <td>41</td>\n",
       "      <td>1</td>\n",
       "      <td>0</td>\n",
       "      <td>1</td>\n",
       "      <td>0</td>\n",
       "    </tr>\n",
       "    <tr>\n",
       "      <th>2</th>\n",
       "      <td>8</td>\n",
       "      <td>14</td>\n",
       "      <td>1</td>\n",
       "      <td>0</td>\n",
       "      <td>1</td>\n",
       "      <td>0</td>\n",
       "    </tr>\n",
       "    <tr>\n",
       "      <th>3</th>\n",
       "      <td>11</td>\n",
       "      <td>19</td>\n",
       "      <td>1</td>\n",
       "      <td>0</td>\n",
       "      <td>1</td>\n",
       "      <td>0</td>\n",
       "    </tr>\n",
       "    <tr>\n",
       "      <th>4</th>\n",
       "      <td>5</td>\n",
       "      <td>48</td>\n",
       "      <td>1</td>\n",
       "      <td>0</td>\n",
       "      <td>1</td>\n",
       "      <td>0</td>\n",
       "    </tr>\n",
       "  </tbody>\n",
       "</table>\n",
       "</div>"
      ],
      "text/plain": [
       "   Education  Age  Urban/Rural_1  Urban/Rural_2  Gender_1  Gender_2\n",
       "0         10   60              1              0         1         0\n",
       "1          8   41              1              0         1         0\n",
       "2          8   14              1              0         1         0\n",
       "3         11   19              1              0         1         0\n",
       "4          5   48              1              0         1         0"
      ]
     },
     "execution_count": 25,
     "metadata": {},
     "output_type": "execute_result"
    }
   ],
   "source": [
    "data_svrs2012r = read_dbf(SVRS2012)\n",
    "data_svrs2012 = data_svrs2012r.copy(deep=True)\n",
    "data_svrs2012 = data_svrs2012r[['Q_16', 'Q_11', 'RMO', 'Q_12']]\n",
    "data_svrs2012.columns = variables\n",
    "data_svrs2012 = data_svrs2012[data_svrs2012['Education'] != 99]\n",
    "data_svrs2012r = data_svrs2012r[data_svrs2012r['Q_16'] != 99]\n",
    "data_svrs2012['Urban/Rural'] = np.where(data_svrs2012['Urban/Rural'] != '1', 2, 1)\n",
    "data_svrs2012['Urban/Rural'] = data_svrs2012['Urban/Rural'].astype(int).astype('category')\n",
    "data_svrs2012['Gender'] = data_svrs2012['Urban/Rural'].astype(int).astype('category')\n",
    "data_svrs2012 = pd.get_dummies(data_svrs2012)\n",
    "data_svrs2012.head()"
   ]
  },
  {
   "cell_type": "code",
   "execution_count": 16,
   "metadata": {},
   "outputs": [
    {
     "name": "stdout",
     "output_type": "stream",
     "text": [
      "(1116335, 27)\n",
      "(1116335, 6)\n"
     ]
    }
   ],
   "source": [
    "print(data_svrs2012r.shape)\n",
    "print(data_svrs2012.shape)"
   ]
  },
  {
   "cell_type": "markdown",
   "metadata": {},
   "source": [
    "## SVRS2013"
   ]
  },
  {
   "cell_type": "code",
   "execution_count": null,
   "metadata": {},
   "outputs": [],
   "source": [
    "data_svrs2013r = read_sav(SVRS2013)"
   ]
  },
  {
   "cell_type": "code",
   "execution_count": 44,
   "metadata": {},
   "outputs": [
    {
     "name": "stdout",
     "output_type": "stream",
     "text": [
      "PSU 1500\n",
      "HHNO 273\n",
      "div 7\n",
      "zila 64\n",
      "upz 95\n",
      "union 95\n",
      "mauza 740\n",
      "RMO 4\n",
      "Q9 32\n",
      "Q11 100\n",
      "Q12 2\n",
      "Q13 5\n",
      "Q14 5\n",
      "Q15 5\n",
      "Q16 18\n",
      "Q17 2\n",
      "Q18 3\n",
      "Q19 2\n",
      "Q20 5\n",
      "Q21 31\n",
      "stratum 128\n",
      "hhweight 128\n",
      "Q1 2\n",
      "Q2 6\n",
      "Q2A1 41\n",
      "Q2A2 1159\n",
      "Q2B1 44\n",
      "Q2B2 1221\n",
      "Q2C1 51\n",
      "Q2C2 1319\n",
      "Q2D1 34\n",
      "Q2D2 798\n",
      "Q2E1 19\n",
      "Q2E2 455\n",
      "Q2F1 6\n",
      "Q2F2 101\n",
      "Q3A 7\n",
      "Q3B 7\n",
      "Q4 6\n",
      "Q5 3\n",
      "Q6 7\n",
      "Q7 4\n",
      "Q8 5\n",
      "OP_ID 41\n"
     ]
    }
   ],
   "source": [
    "for var in data_svrs2013r.columns:\n",
    "    print(var, len(data_svrs2013r[var].value_counts()))"
   ]
  },
  {
   "cell_type": "code",
   "execution_count": 64,
   "metadata": {},
   "outputs": [
    {
     "name": "stdout",
     "output_type": "stream",
     "text": [
      "Index(['PSU', 'HHNO', 'div', 'zila', 'upz', 'union', 'mauza', 'RMO', 'Q9',\n",
      "       'Q11', 'Q12', 'Q13', 'Q14', 'Q15', 'Q16', 'Q17', 'Q18', 'Q19', 'Q20',\n",
      "       'Q21', 'stratum', 'hhweight', 'Q1', 'Q2', 'Q2A1', 'Q2A2', 'Q2B1',\n",
      "       'Q2B2', 'Q2C1', 'Q2C2', 'Q2D1', 'Q2D2', 'Q2E1', 'Q2E2', 'Q2F1', 'Q2F2',\n",
      "       'Q3A', 'Q3B', 'Q4', 'Q5', 'Q6', 'Q7', 'Q8', 'OP_ID'],\n",
      "      dtype='object')\n",
      "None                         151660\n",
      "Class V passed                79700\n",
      "SSC or equvalent              49139\n",
      "Class VIII passed             39721\n",
      "Class IXpassed                37609\n",
      "Class II passed               37346\n",
      "Class IV passed               34849\n",
      "Class III passed              33904\n",
      "HSC or equvalent              30952\n",
      "Class I passed                28689\n",
      "Class VII passed              26147\n",
      "Class VI passed               25854\n",
      "Degree or equvalent           21060\n",
      "Masters or equvalent          10540\n",
      "Doctor.Engineer/Krishibid      2791\n",
      "Diploma                        1329\n",
      "Other                          1072\n",
      "Vocational                      661\n",
      "Name: Q16, dtype: int64\n",
      "18\n",
      "0     150471\n",
      "5      79398\n",
      "10     48156\n",
      "9      41349\n",
      "8      40099\n",
      "4      37592\n",
      "2      36364\n",
      "3      35800\n",
      "11     33006\n",
      "7      27433\n",
      "6      26203\n",
      "1      23693\n",
      "12     22023\n",
      "13     11149\n",
      "14      2658\n",
      "15      1207\n",
      "16       482\n",
      "Name: Q16, dtype: int64\n",
      "17\n"
     ]
    }
   ],
   "source": [
    "#display(data_svrs2013r.head())\n",
    "print(data_svrs2013r.columns)\n",
    "# OK: print(data_svrs2013r['Q11'].value_counts().sort_index()) # Age\n",
    "# OK: print(data_svrs2013r['Q12'].value_counts().sort_index()) # Sex\n",
    "# OK: print(data_svrs2013r['RMO'].value_counts()) # Have to check three levels: of RMO\n",
    "# !!! Education correction: print(data_svrs2013['Q16'].value_counts()) # Education\n",
    "print(data_svrs2013r['Q16'].value_counts())\n",
    "print(len(data_svrs2013r['Q16'].value_counts()))\n",
    "print(data_svrs2014r['Q16'].value_counts().sort_values(ascending=False))\n",
    "print(len(data_svrs2014r['Q16'].value_counts()))"
   ]
  },
  {
   "cell_type": "markdown",
   "metadata": {},
   "source": [
    "## SVRS2014"
   ]
  },
  {
   "cell_type": "code",
   "execution_count": 18,
   "metadata": {},
   "outputs": [],
   "source": [
    "# print(data_svrs2014.columns)\n",
    "# print(data_svrs2014['Q11'].value_counts().sort_index()) # Age\n",
    "# print(data_svrs2014['Q16'].value_counts().sort_index()) # Education\n",
    "# print(data_svrs2014['Q12'].value_counts()) # Sex\n",
    "# print(data_svrs2014['RMO'].value_counts()) # Have to check three levels: of RMO"
   ]
  },
  {
   "cell_type": "code",
   "execution_count": 19,
   "metadata": {},
   "outputs": [
    {
     "ename": "NameError",
     "evalue": "name 'read_sav' is not defined",
     "output_type": "error",
     "traceback": [
      "\u001b[0;31m---------------------------------------------------------------------------\u001b[0m",
      "\u001b[0;31mNameError\u001b[0m                                 Traceback (most recent call last)",
      "\u001b[0;32m<ipython-input-19-3acd2785ec9a>\u001b[0m in \u001b[0;36m<module>\u001b[0;34m\u001b[0m\n\u001b[0;32m----> 1\u001b[0;31m \u001b[0mdata_svrs2014r\u001b[0m \u001b[0;34m=\u001b[0m \u001b[0mread_sav\u001b[0m\u001b[0;34m(\u001b[0m\u001b[0mSVRS2014\u001b[0m\u001b[0;34m)\u001b[0m\u001b[0;34m\u001b[0m\u001b[0;34m\u001b[0m\u001b[0m\n\u001b[0m\u001b[1;32m      2\u001b[0m \u001b[0mdata_svrs2014\u001b[0m \u001b[0;34m=\u001b[0m \u001b[0mdata_svrs2014r\u001b[0m\u001b[0;34m.\u001b[0m\u001b[0mcopy\u001b[0m\u001b[0;34m(\u001b[0m\u001b[0mdeep\u001b[0m\u001b[0;34m=\u001b[0m\u001b[0;32mTrue\u001b[0m\u001b[0;34m)\u001b[0m\u001b[0;34m\u001b[0m\u001b[0;34m\u001b[0m\u001b[0m\n\u001b[1;32m      3\u001b[0m \u001b[0mdata_svrs2014\u001b[0m \u001b[0;34m=\u001b[0m \u001b[0mdata_svrs2014\u001b[0m\u001b[0;34m[\u001b[0m\u001b[0mdata_svrs2014\u001b[0m\u001b[0;34m[\u001b[0m\u001b[0;34m'Q16'\u001b[0m\u001b[0;34m]\u001b[0m\u001b[0;34m.\u001b[0m\u001b[0mnotna\u001b[0m\u001b[0;34m(\u001b[0m\u001b[0;34m)\u001b[0m\u001b[0;34m]\u001b[0m\u001b[0;34m\u001b[0m\u001b[0;34m\u001b[0m\u001b[0m\n\u001b[1;32m      4\u001b[0m \u001b[0mdata_svrs2014\u001b[0m \u001b[0;34m=\u001b[0m \u001b[0mdata_svrs2014\u001b[0m\u001b[0;34m[\u001b[0m\u001b[0mdata_svrs2014\u001b[0m\u001b[0;34m[\u001b[0m\u001b[0;34m'Q16'\u001b[0m\u001b[0;34m]\u001b[0m \u001b[0;34m!=\u001b[0m \u001b[0;34m'Other'\u001b[0m\u001b[0;34m]\u001b[0m\u001b[0;34m\u001b[0m\u001b[0;34m\u001b[0m\u001b[0m\n\u001b[1;32m      5\u001b[0m \u001b[0mdata_svrs2014\u001b[0m \u001b[0;34m=\u001b[0m \u001b[0mdata_svrs2014\u001b[0m\u001b[0;34m[\u001b[0m\u001b[0mdata_svrs2014\u001b[0m\u001b[0;34m[\u001b[0m\u001b[0;34m'Q16'\u001b[0m\u001b[0;34m]\u001b[0m \u001b[0;34m!=\u001b[0m \u001b[0;34m'4.05'\u001b[0m\u001b[0;34m]\u001b[0m\u001b[0;34m\u001b[0m\u001b[0;34m\u001b[0m\u001b[0m\n",
      "\u001b[0;31mNameError\u001b[0m: name 'read_sav' is not defined"
     ]
    }
   ],
   "source": [
    "data_svrs2014r = read_sav(SVRS2014)\n",
    "data_svrs2014 = data_svrs2014r.copy(deep=True)\n",
    "data_svrs2014 = data_svrs2014[data_svrs2014['Q16'].notna()]\n",
    "data_svrs2014 = data_svrs2014[data_svrs2014['Q16'] != 'Other']\n",
    "data_svrs2014 = data_svrs2014[data_svrs2014['Q16'] != '4.05']\n",
    "data_svrs2014 = data_svrs2014[data_svrs2014['Q16'] != '99']\n",
    "data_svrs2014 = data_svrs2014[['Q16', 'Q11', 'RMO', 'Q12']]\n",
    "data_svrs2014.columns = variables\n",
    "data_svrs2014['Educationucation'] = data_svrs2014['Education'].astype(int)\n",
    "data_svrs2014['Age'] = data_svrs2014['Age'].astype(int)\n",
    "data_svrs2014['Urban/Rural'] = np.where(data_svrs2014['Urban/Rural'] != 'Rural', 2, 1)\n",
    "print(data_svrs2014['Urban/Rural'].value_counts())\n",
    "data_svrs2014['Urban/Rural'] = data_svrs2014['Urban/Rural'].astype(int).astype('category')\n",
    "data_svrs2014['Gender'] = np.where(data_svrs2014['Gender'] == 'Male', 1, 2)\n",
    "data_svrs2014['Gender'] = data_svrs2014['Gender'].astype(int).astype('category')\n",
    "data_svrs2014 = data_svrs2014[data_svrs2014['Education'] != 99]\n",
    "data_svrs2014r = data_svrs2014r[data_svrs2014r['Q16'].notna()]\n",
    "data_svrs2014r = data_svrs2014r[data_svrs2014r['Q16'] != 'Other']\n",
    "data_svrs2014r = data_svrs2014r[data_svrs2014r['Q16'] != '4.05']\n",
    "data_svrs2014r = data_svrs2014r[data_svrs2014r['Q16'] != '99']\n",
    "data_svrs2014 = pd.get_dummies(data_svrs2014)\n",
    "data_svrs2014.head()"
   ]
  },
  {
   "cell_type": "markdown",
   "metadata": {},
   "source": [
    "## SVRS2015"
   ]
  },
  {
   "cell_type": "code",
   "execution_count": 21,
   "metadata": {},
   "outputs": [],
   "source": [
    "# print(data_svrs2015.columns)\n",
    "# print(data_svrs2015['Q_11'].value_counts().sort_index()) # Sex\n",
    "# print(data_svrs2015['Q_10'].value_counts().sort_index()) # Age\n",
    "# print(data_svrs2015['Q_16'].value_counts().sort_index()) # Education\n",
    "# print(data_svrs2015['RMO'].value_counts()) # Have to check three levels: of RMO"
   ]
  },
  {
   "cell_type": "code",
   "execution_count": 22,
   "metadata": {},
   "outputs": [
    {
     "name": "stdout",
     "output_type": "stream",
     "text": [
      "['Education', 'Age', 'Urban/Rural', 'Gender']\n",
      "Education       int64\n",
      "Age             int64\n",
      "Urban/Rural    object\n",
      "Gender          int64\n",
      "dtype: object\n",
      "1    566771\n",
      "2    215526\n",
      "3    136780\n",
      "4     20453\n",
      "Name: Urban/Rural, dtype: int64\n",
      "1    566771\n",
      "2    372759\n",
      "Name: Urban/Rural, dtype: int64\n"
     ]
    },
    {
     "data": {
      "text/html": [
       "<div>\n",
       "<style scoped>\n",
       "    .dataframe tbody tr th:only-of-type {\n",
       "        vertical-align: middle;\n",
       "    }\n",
       "\n",
       "    .dataframe tbody tr th {\n",
       "        vertical-align: top;\n",
       "    }\n",
       "\n",
       "    .dataframe thead th {\n",
       "        text-align: right;\n",
       "    }\n",
       "</style>\n",
       "<table border=\"1\" class=\"dataframe\">\n",
       "  <thead>\n",
       "    <tr style=\"text-align: right;\">\n",
       "      <th></th>\n",
       "      <th>Education</th>\n",
       "      <th>Age</th>\n",
       "      <th>Urban/Rural_1</th>\n",
       "      <th>Urban/Rural_2</th>\n",
       "      <th>Gender_1</th>\n",
       "      <th>Gender_2</th>\n",
       "    </tr>\n",
       "  </thead>\n",
       "  <tbody>\n",
       "    <tr>\n",
       "      <th>0</th>\n",
       "      <td>13</td>\n",
       "      <td>53</td>\n",
       "      <td>0</td>\n",
       "      <td>1</td>\n",
       "      <td>1</td>\n",
       "      <td>0</td>\n",
       "    </tr>\n",
       "    <tr>\n",
       "      <th>1</th>\n",
       "      <td>9</td>\n",
       "      <td>43</td>\n",
       "      <td>0</td>\n",
       "      <td>1</td>\n",
       "      <td>0</td>\n",
       "      <td>1</td>\n",
       "    </tr>\n",
       "    <tr>\n",
       "      <th>2</th>\n",
       "      <td>6</td>\n",
       "      <td>13</td>\n",
       "      <td>0</td>\n",
       "      <td>1</td>\n",
       "      <td>1</td>\n",
       "      <td>0</td>\n",
       "    </tr>\n",
       "    <tr>\n",
       "      <th>3</th>\n",
       "      <td>10</td>\n",
       "      <td>21</td>\n",
       "      <td>0</td>\n",
       "      <td>1</td>\n",
       "      <td>1</td>\n",
       "      <td>0</td>\n",
       "    </tr>\n",
       "    <tr>\n",
       "      <th>4</th>\n",
       "      <td>7</td>\n",
       "      <td>46</td>\n",
       "      <td>0</td>\n",
       "      <td>1</td>\n",
       "      <td>1</td>\n",
       "      <td>0</td>\n",
       "    </tr>\n",
       "  </tbody>\n",
       "</table>\n",
       "</div>"
      ],
      "text/plain": [
       "   Education  Age  Urban/Rural_1  Urban/Rural_2  Gender_1  Gender_2\n",
       "0         13   53              0              1         1         0\n",
       "1          9   43              0              1         0         1\n",
       "2          6   13              0              1         1         0\n",
       "3         10   21              0              1         1         0\n",
       "4          7   46              0              1         1         0"
      ]
     },
     "execution_count": 22,
     "metadata": {},
     "output_type": "execute_result"
    }
   ],
   "source": [
    "data_svrs2015r = read_dbf(SVRS2015)\n",
    "data_svrs2015 = data_svrs2015r.copy(deep=True)\n",
    "print(variables)\n",
    "data_svrs2015 = data_svrs2015[['Q_16', 'Q_10', 'RMO', 'Q_11']]\n",
    "data_svrs2015.columns = variables\n",
    "print(data_svrs2015.dtypes)\n",
    "print(data_svrs2015['Urban/Rural'].value_counts())\n",
    "data_svrs2015['Urban/Rural'] = np.where(data_svrs2015['Urban/Rural'] != '1', 2, 1)\n",
    "print(data_svrs2015['Urban/Rural'].value_counts())\n",
    "data_svrs2015['Urban/Rural'] = data_svrs2015['Urban/Rural'].astype(int).astype('category')\n",
    "data_svrs2015['Gender'] = data_svrs2015['Gender'].astype(int).astype('category')\n",
    "data_svrs2015 = data_svrs2015[data_svrs2015['Education'] != 99]\n",
    "data_svrs2015r = data_svrs2015r[data_svrs2015r['Q_16'] != 99]\n",
    "data_svrs2015 = pd.get_dummies(data_svrs2015)\n",
    "data_svrs2015.head()"
   ]
  },
  {
   "cell_type": "code",
   "execution_count": 23,
   "metadata": {},
   "outputs": [
    {
     "name": "stdout",
     "output_type": "stream",
     "text": [
      "(938418, 21)\n",
      "(938418, 6)\n"
     ]
    }
   ],
   "source": [
    "print(data_svrs2015r.shape)\n",
    "print(data_svrs2015.shape)"
   ]
  },
  {
   "cell_type": "markdown",
   "metadata": {},
   "source": [
    "## SVRS2017"
   ]
  },
  {
   "cell_type": "code",
   "execution_count": 24,
   "metadata": {},
   "outputs": [],
   "source": [
    "# print(data_svrs2017.columns)\n",
    "# print(data_svrs2017['Q_11'].value_counts().sort_index()) # Sex\n",
    "# print(data_svrs2017['Q_10'].value_counts().sort_index()) # Age\n",
    "# print(data_svrs2017['Q_16'].value_counts().sort_index()) # Education\n",
    "# print(data_svrs2017['RMO'].value_counts()) # Have to check three levels: of RMO"
   ]
  },
  {
   "cell_type": "code",
   "execution_count": 25,
   "metadata": {},
   "outputs": [
    {
     "name": "stdout",
     "output_type": "stream",
     "text": [
      "(1252581, 4)\n",
      "1    699584\n",
      "2    210929\n",
      "Name: Urban/Rural, dtype: int64\n",
      "1.0    455602\n",
      "2.0    454911\n",
      "Name: Gender, dtype: int64\n",
      "(910513, 6)\n"
     ]
    },
    {
     "data": {
      "text/html": [
       "<div>\n",
       "<style scoped>\n",
       "    .dataframe tbody tr th:only-of-type {\n",
       "        vertical-align: middle;\n",
       "    }\n",
       "\n",
       "    .dataframe tbody tr th {\n",
       "        vertical-align: top;\n",
       "    }\n",
       "\n",
       "    .dataframe thead th {\n",
       "        text-align: right;\n",
       "    }\n",
       "</style>\n",
       "<table border=\"1\" class=\"dataframe\">\n",
       "  <thead>\n",
       "    <tr style=\"text-align: right;\">\n",
       "      <th></th>\n",
       "      <th>Education</th>\n",
       "      <th>Age</th>\n",
       "      <th>Urban/Rural_1</th>\n",
       "      <th>Urban/Rural_2</th>\n",
       "      <th>Gender_1</th>\n",
       "      <th>Gender_2</th>\n",
       "    </tr>\n",
       "  </thead>\n",
       "  <tbody>\n",
       "    <tr>\n",
       "      <th>0</th>\n",
       "      <td>10.0</td>\n",
       "      <td>22.0</td>\n",
       "      <td>0</td>\n",
       "      <td>1</td>\n",
       "      <td>1</td>\n",
       "      <td>0</td>\n",
       "    </tr>\n",
       "    <tr>\n",
       "      <th>1</th>\n",
       "      <td>8.0</td>\n",
       "      <td>12.0</td>\n",
       "      <td>0</td>\n",
       "      <td>1</td>\n",
       "      <td>1</td>\n",
       "      <td>0</td>\n",
       "    </tr>\n",
       "    <tr>\n",
       "      <th>2</th>\n",
       "      <td>13.0</td>\n",
       "      <td>55.0</td>\n",
       "      <td>0</td>\n",
       "      <td>1</td>\n",
       "      <td>0</td>\n",
       "      <td>1</td>\n",
       "    </tr>\n",
       "    <tr>\n",
       "      <th>3</th>\n",
       "      <td>9.0</td>\n",
       "      <td>45.0</td>\n",
       "      <td>0</td>\n",
       "      <td>1</td>\n",
       "      <td>0</td>\n",
       "      <td>1</td>\n",
       "    </tr>\n",
       "    <tr>\n",
       "      <th>4</th>\n",
       "      <td>7.0</td>\n",
       "      <td>53.0</td>\n",
       "      <td>0</td>\n",
       "      <td>1</td>\n",
       "      <td>1</td>\n",
       "      <td>0</td>\n",
       "    </tr>\n",
       "  </tbody>\n",
       "</table>\n",
       "</div>"
      ],
      "text/plain": [
       "   Education   Age  Urban/Rural_1  Urban/Rural_2  Gender_1  Gender_2\n",
       "0       10.0  22.0              0              1         1         0\n",
       "1        8.0  12.0              0              1         1         0\n",
       "2       13.0  55.0              0              1         0         1\n",
       "3        9.0  45.0              0              1         0         1\n",
       "4        7.0  53.0              0              1         1         0"
      ]
     },
     "execution_count": 25,
     "metadata": {},
     "output_type": "execute_result"
    }
   ],
   "source": [
    "data_svrs2017r, original_variables = read_svrs(SVRS2017)\n",
    "data_svrs2017 = data_svrs2017r[['  Level of Education', '  Age', '  Rural Urban code','  Sex']]\n",
    "variables = ['Education', 'Age', 'Urban/Rural', 'Gender']\n",
    "data_svrs2017.columns = variables\n",
    "print(data_svrs2017.shape)\n",
    "data_svrs2017 = data_svrs2017[data_svrs2017['Urban/Rural'] != 9]\n",
    "data_svrs2017 = data_svrs2017[data_svrs2017['Urban/Rural'] != 3]\n",
    "data_svrs2017 = data_svrs2017[data_svrs2017['Education'] != 99]\n",
    "data_svrs2017r = data_svrs2017r[data_svrs2017r['  Rural Urban code'] != 9]\n",
    "data_svrs2017r = data_svrs2017r[data_svrs2017r['  Rural Urban code'] != 3]\n",
    "data_svrs2017r = data_svrs2017r[data_svrs2017r['  Level of Education'] != 99]\n",
    "data_svrs2017['Urban/Rural'] = data_svrs2017['Urban/Rural'].astype(int).astype('category')\n",
    "print(data_svrs2017['Urban/Rural'].value_counts())\n",
    "print(data_svrs2017['Gender'].value_counts())\n",
    "data_svrs2017['Gender'] = data_svrs2017['Gender'].astype(int).astype('category')\n",
    "data_svrs2017 = pd.get_dummies(data_svrs2017)\n",
    "print(data_svrs2017.shape)\n",
    "data_svrs2017.head()"
   ]
  },
  {
   "cell_type": "code",
   "execution_count": 26,
   "metadata": {},
   "outputs": [
    {
     "name": "stdout",
     "output_type": "stream",
     "text": [
      "(910513, 30)\n",
      "(910513, 6)\n"
     ]
    }
   ],
   "source": [
    "print(data_svrs2017r.shape)\n",
    "print(data_svrs2017.shape)"
   ]
  },
  {
   "cell_type": "code",
   "execution_count": 39,
   "metadata": {},
   "outputs": [
    {
     "name": "stdout",
     "output_type": "stream",
     "text": [
      "0.626079984950754\n",
      "0.7075887684476805\n",
      "0.6325166397063995\n",
      "0.6375658557318786\n"
     ]
    }
   ],
   "source": [
    "print(data_svrs2012r['Q_11'].value_counts().sort_index()[18:].sum()/data_svrs2012r['Q_11'].value_counts().sort_index().sum())\n",
    "print(data_svrs2014r['Q11'].value_counts().sort_index()[18:].sum()/data_svrs2014r['Q11'].value_counts().sort_index().sum())\n",
    "print(data_svrs2015r['Q_10'].value_counts().sort_index()[18:].sum()/data_svrs2015r['Q_10'].value_counts().sort_index().sum())\n",
    "print(data_svrs2017r['  Age'].value_counts().sort_index()[18:].sum()/data_svrs2017r['  Age'].value_counts().sort_index().sum())\n"
   ]
  },
  {
   "cell_type": "markdown",
   "metadata": {},
   "source": [
    "# Prediting hyperglycemia and writing results out"
   ]
  },
  {
   "cell_type": "code",
   "execution_count": 139,
   "metadata": {},
   "outputs": [],
   "source": [
    "data_svrs2012r['Hyperglycaemia'] = xgb3.predict_proba(data_svrs2012)[:,1]\n",
    "data_svrs2012r['Hyperglycaemia'] = np.where(data_svrs2012r['Hyperglycaemia'] > 0.35, 1, 0)\n",
    "data_svrs2014r['Hyperglycaemia'] = xgb3.predict_proba(data_svrs2014)[:,1]\n",
    "data_svrs2014r['Hyperglycaemia'] = np.where(data_svrs2014r['Hyperglycaemia'] > 0.35, 1, 0)\n",
    "data_svrs2015r['Hyperglycaemia'] = xgb3.predict_proba(data_svrs2015)[:,1]\n",
    "data_svrs2015r['Hyperglycaemia'] = np.where(data_svrs2015r['Hyperglycaemia'] > 0.35, 1, 0)\n",
    "data_svrs2017r['Hyperglycaemia'] = xgb3.predict_proba(data_svrs2017)[:,1]\n",
    "data_svrs2017r['Hyperglycaemia'] = np.where(data_svrs2017r['Hyperglycaemia'] > 0.35, 1, 0)"
   ]
  },
  {
   "cell_type": "code",
   "execution_count": 140,
   "metadata": {},
   "outputs": [
    {
     "name": "stdout",
     "output_type": "stream",
     "text": [
      "Predictions for 2012:\n",
      " 0    95.453605\n",
      "1     4.546395\n",
      "Name: Hyperglycaemia, dtype: float64\n",
      "Predictions for 2014:\n",
      " 0    93.90633\n",
      "1     6.09367\n",
      "Name: Hyperglycaemia, dtype: float64\n",
      "Predictions for 2015:\n",
      " 0    94.427537\n",
      "1     5.572463\n",
      "Name: Hyperglycaemia, dtype: float64\n",
      "Predictions for 2017:\n",
      " 0    93.825788\n",
      "1     6.174212\n",
      "Name: Hyperglycaemia, dtype: float64\n"
     ]
    }
   ],
   "source": [
    "print(f\"Predictions for 2012:\\n {data_svrs2012r['Hyperglycaemia'].value_counts()/data_svrs2012r.shape[0]*100}\")\n",
    "print(f\"Predictions for 2014:\\n {data_svrs2014r['Hyperglycaemia'].value_counts()/data_svrs2014r.shape[0]*100}\")\n",
    "print(f\"Predictions for 2015:\\n {data_svrs2015r['Hyperglycaemia'].value_counts()/data_svrs2015r.shape[0]*100}\")\n",
    "print(f\"Predictions for 2017:\\n {data_svrs2017r['Hyperglycaemia'].value_counts()/data_svrs2017r.shape[0]*100}\")"
   ]
  },
  {
   "cell_type": "markdown",
   "metadata": {},
   "source": [
    "# Writing results out"
   ]
  },
  {
   "cell_type": "code",
   "execution_count": 141,
   "metadata": {},
   "outputs": [],
   "source": [
    "OUT = '/Users/edinhamzic/Symphony/wb_bangladesh/Bangladesh/output/ncd/'"
   ]
  },
  {
   "cell_type": "markdown",
   "metadata": {},
   "source": [
    "## Writing out 2012"
   ]
  },
  {
   "cell_type": "code",
   "execution_count": 142,
   "metadata": {},
   "outputs": [
    {
     "data": {
      "text/html": [
       "<div>\n",
       "<style scoped>\n",
       "    .dataframe tbody tr th:only-of-type {\n",
       "        vertical-align: middle;\n",
       "    }\n",
       "\n",
       "    .dataframe tbody tr th {\n",
       "        vertical-align: top;\n",
       "    }\n",
       "\n",
       "    .dataframe thead th {\n",
       "        text-align: right;\n",
       "    }\n",
       "</style>\n",
       "<table border=\"1\" class=\"dataframe\">\n",
       "  <thead>\n",
       "    <tr style=\"text-align: right;\">\n",
       "      <th></th>\n",
       "      <th>DIVN_ZILA</th>\n",
       "      <th>Hyperglycaemia count</th>\n",
       "      <th>Total count</th>\n",
       "      <th>Hyperglycaemia prevalence</th>\n",
       "    </tr>\n",
       "  </thead>\n",
       "  <tbody>\n",
       "    <tr>\n",
       "      <th>0</th>\n",
       "      <td>1004</td>\n",
       "      <td>764</td>\n",
       "      <td>13868</td>\n",
       "      <td>5.51</td>\n",
       "    </tr>\n",
       "    <tr>\n",
       "      <th>1</th>\n",
       "      <td>1006</td>\n",
       "      <td>1468</td>\n",
       "      <td>19779</td>\n",
       "      <td>7.42</td>\n",
       "    </tr>\n",
       "    <tr>\n",
       "      <th>2</th>\n",
       "      <td>1009</td>\n",
       "      <td>636</td>\n",
       "      <td>16751</td>\n",
       "      <td>3.80</td>\n",
       "    </tr>\n",
       "    <tr>\n",
       "      <th>3</th>\n",
       "      <td>1042</td>\n",
       "      <td>799</td>\n",
       "      <td>12628</td>\n",
       "      <td>6.33</td>\n",
       "    </tr>\n",
       "    <tr>\n",
       "      <th>4</th>\n",
       "      <td>1078</td>\n",
       "      <td>753</td>\n",
       "      <td>16258</td>\n",
       "      <td>4.63</td>\n",
       "    </tr>\n",
       "  </tbody>\n",
       "</table>\n",
       "</div>"
      ],
      "text/plain": [
       "  DIVN_ZILA  Hyperglycaemia count  Total count  Hyperglycaemia prevalence\n",
       "0      1004                   764        13868                       5.51\n",
       "1      1006                  1468        19779                       7.42\n",
       "2      1009                   636        16751                       3.80\n",
       "3      1042                   799        12628                       6.33\n",
       "4      1078                   753        16258                       4.63"
      ]
     },
     "execution_count": 142,
     "metadata": {},
     "output_type": "execute_result"
    }
   ],
   "source": [
    "data_svrs2012r[\"DIVN_ZILA\"] = data_svrs2012r[\"DIVN\"].str.cat(data_svrs2012r[\"ZILA\"])\n",
    "tmp1 = data_svrs2012r[[\"DIVN_ZILA\", \"Hyperglycaemia\"]].groupby('DIVN_ZILA').sum().reset_index()\n",
    "tmp1.columns = [\"DIVN_ZILA\", \"Hyperglycaemia count\"]\n",
    "tmp2 = data_svrs2012r[[\"DIVN_ZILA\", \"Hyperglycaemia\"]].groupby('DIVN_ZILA').count().reset_index()\n",
    "tmp2.columns = [\"DIVN_ZILA\", \"Total count\"]\n",
    "tmp = tmp1.merge(tmp2, how='left', on='DIVN_ZILA')\n",
    "tmp['Hyperglycaemia prevalence'] = np.round(tmp['Hyperglycaemia count']/tmp['Total count']*100,2)\n",
    "tmp.to_csv(OUT +'/hyperglycemia_prevalence_2012.csv', index=False, index_label=False)\n",
    "tmp.head()"
   ]
  },
  {
   "cell_type": "markdown",
   "metadata": {},
   "source": [
    "## Writing out 2014"
   ]
  },
  {
   "cell_type": "code",
   "execution_count": 143,
   "metadata": {},
   "outputs": [
    {
     "data": {
      "text/html": [
       "<div>\n",
       "<style scoped>\n",
       "    .dataframe tbody tr th:only-of-type {\n",
       "        vertical-align: middle;\n",
       "    }\n",
       "\n",
       "    .dataframe tbody tr th {\n",
       "        vertical-align: top;\n",
       "    }\n",
       "\n",
       "    .dataframe thead th {\n",
       "        text-align: right;\n",
       "    }\n",
       "</style>\n",
       "<table border=\"1\" class=\"dataframe\">\n",
       "  <thead>\n",
       "    <tr style=\"text-align: right;\">\n",
       "      <th></th>\n",
       "      <th>DIVN_ZILA</th>\n",
       "      <th>Hyperglycaemia count</th>\n",
       "      <th>Total count</th>\n",
       "      <th>Hyperglycaemia prevalence</th>\n",
       "    </tr>\n",
       "  </thead>\n",
       "  <tbody>\n",
       "    <tr>\n",
       "      <th>0</th>\n",
       "      <td>Bagerhat</td>\n",
       "      <td>450</td>\n",
       "      <td>5440</td>\n",
       "      <td>8.27</td>\n",
       "    </tr>\n",
       "    <tr>\n",
       "      <th>1</th>\n",
       "      <td>Bandarban</td>\n",
       "      <td>41</td>\n",
       "      <td>1948</td>\n",
       "      <td>2.10</td>\n",
       "    </tr>\n",
       "    <tr>\n",
       "      <th>2</th>\n",
       "      <td>Barguna</td>\n",
       "      <td>337</td>\n",
       "      <td>4528</td>\n",
       "      <td>7.44</td>\n",
       "    </tr>\n",
       "    <tr>\n",
       "      <th>3</th>\n",
       "      <td>Barisal</td>\n",
       "      <td>2035</td>\n",
       "      <td>28069</td>\n",
       "      <td>7.25</td>\n",
       "    </tr>\n",
       "    <tr>\n",
       "      <th>4</th>\n",
       "      <td>Bhola</td>\n",
       "      <td>443</td>\n",
       "      <td>8685</td>\n",
       "      <td>5.10</td>\n",
       "    </tr>\n",
       "  </tbody>\n",
       "</table>\n",
       "</div>"
      ],
      "text/plain": [
       "   DIVN_ZILA  Hyperglycaemia count  Total count  Hyperglycaemia prevalence\n",
       "0   Bagerhat                   450         5440                       8.27\n",
       "1  Bandarban                    41         1948                       2.10\n",
       "2    Barguna                   337         4528                       7.44\n",
       "3    Barisal                  2035        28069                       7.25\n",
       "4      Bhola                   443         8685                       5.10"
      ]
     },
     "execution_count": 143,
     "metadata": {},
     "output_type": "execute_result"
    }
   ],
   "source": [
    "data_svrs2014r[\"DIVN_ZILA\"] = data_svrs2014r[\"zila\"]\n",
    "tmp1 = data_svrs2014r[[\"DIVN_ZILA\", \"Hyperglycaemia\"]].groupby('DIVN_ZILA').sum().reset_index()\n",
    "tmp1.columns = [\"DIVN_ZILA\", \"Hyperglycaemia count\"]\n",
    "tmp2 = data_svrs2014r[[\"DIVN_ZILA\", \"Hyperglycaemia\"]].groupby('DIVN_ZILA').count().reset_index()\n",
    "tmp2.columns = [\"DIVN_ZILA\", \"Total count\"]\n",
    "tmp = tmp1.merge(tmp2, how='left', on='DIVN_ZILA')\n",
    "tmp['Hyperglycaemia prevalence'] = np.round(tmp['Hyperglycaemia count']/tmp['Total count']*100,2)\n",
    "tmp.to_csv(OUT +'/hyperglycemia_prevalence_2014.csv', index=False, index_label=False)\n",
    "tmp.head()## Writing out 2012\n"
   ]
  },
  {
   "cell_type": "markdown",
   "metadata": {},
   "source": [
    "## Writing out 2015"
   ]
  },
  {
   "cell_type": "code",
   "execution_count": 144,
   "metadata": {},
   "outputs": [
    {
     "data": {
      "text/html": [
       "<div>\n",
       "<style scoped>\n",
       "    .dataframe tbody tr th:only-of-type {\n",
       "        vertical-align: middle;\n",
       "    }\n",
       "\n",
       "    .dataframe tbody tr th {\n",
       "        vertical-align: top;\n",
       "    }\n",
       "\n",
       "    .dataframe thead th {\n",
       "        text-align: right;\n",
       "    }\n",
       "</style>\n",
       "<table border=\"1\" class=\"dataframe\">\n",
       "  <thead>\n",
       "    <tr style=\"text-align: right;\">\n",
       "      <th></th>\n",
       "      <th>DIVN_ZILA</th>\n",
       "      <th>Hyperglycaemia count</th>\n",
       "      <th>Total count</th>\n",
       "      <th>Hyperglycaemia prevalence</th>\n",
       "    </tr>\n",
       "  </thead>\n",
       "  <tbody>\n",
       "    <tr>\n",
       "      <th>0</th>\n",
       "      <td>01</td>\n",
       "      <td>834</td>\n",
       "      <td>9270</td>\n",
       "      <td>9.00</td>\n",
       "    </tr>\n",
       "    <tr>\n",
       "      <th>1</th>\n",
       "      <td>03</td>\n",
       "      <td>91</td>\n",
       "      <td>3628</td>\n",
       "      <td>2.51</td>\n",
       "    </tr>\n",
       "    <tr>\n",
       "      <th>2</th>\n",
       "      <td>04</td>\n",
       "      <td>583</td>\n",
       "      <td>7773</td>\n",
       "      <td>7.50</td>\n",
       "    </tr>\n",
       "    <tr>\n",
       "      <th>3</th>\n",
       "      <td>06</td>\n",
       "      <td>2636</td>\n",
       "      <td>45334</td>\n",
       "      <td>5.81</td>\n",
       "    </tr>\n",
       "    <tr>\n",
       "      <th>4</th>\n",
       "      <td>09</td>\n",
       "      <td>1119</td>\n",
       "      <td>15993</td>\n",
       "      <td>7.00</td>\n",
       "    </tr>\n",
       "  </tbody>\n",
       "</table>\n",
       "</div>"
      ],
      "text/plain": [
       "  DIVN_ZILA  Hyperglycaemia count  Total count  Hyperglycaemia prevalence\n",
       "0        01                   834         9270                       9.00\n",
       "1        03                    91         3628                       2.51\n",
       "2        04                   583         7773                       7.50\n",
       "3        06                  2636        45334                       5.81\n",
       "4        09                  1119        15993                       7.00"
      ]
     },
     "execution_count": 144,
     "metadata": {},
     "output_type": "execute_result"
    }
   ],
   "source": [
    "data_svrs2015r[\"DIVN_ZILA\"] = data_svrs2015r[\"ZILA\"]\n",
    "tmp1 = data_svrs2015r[[\"DIVN_ZILA\", \"Hyperglycaemia\"]].groupby('DIVN_ZILA').sum().reset_index()\n",
    "tmp1.columns = [\"DIVN_ZILA\", \"Hyperglycaemia count\"]\n",
    "tmp2 = data_svrs2015r[[\"DIVN_ZILA\", \"Hyperglycaemia\"]].groupby('DIVN_ZILA').count().reset_index()\n",
    "tmp2.columns = [\"DIVN_ZILA\", \"Total count\"]\n",
    "tmp = tmp1.merge(tmp2, how='left', on='DIVN_ZILA')\n",
    "tmp['Hyperglycaemia prevalence'] = np.round(tmp['Hyperglycaemia count']/tmp['Total count']*100,2)\n",
    "tmp.to_csv(OUT +'/hyperglycemia_prevalence_2015.csv', index=False, index_label=False)\n",
    "tmp.head()"
   ]
  },
  {
   "cell_type": "markdown",
   "metadata": {},
   "source": [
    "## Writing out 2017"
   ]
  },
  {
   "cell_type": "code",
   "execution_count": 145,
   "metadata": {},
   "outputs": [
    {
     "data": {
      "text/html": [
       "<div>\n",
       "<style scoped>\n",
       "    .dataframe tbody tr th:only-of-type {\n",
       "        vertical-align: middle;\n",
       "    }\n",
       "\n",
       "    .dataframe tbody tr th {\n",
       "        vertical-align: top;\n",
       "    }\n",
       "\n",
       "    .dataframe thead th {\n",
       "        text-align: right;\n",
       "    }\n",
       "</style>\n",
       "<table border=\"1\" class=\"dataframe\">\n",
       "  <thead>\n",
       "    <tr style=\"text-align: right;\">\n",
       "      <th></th>\n",
       "      <th>DIVN_ZILA</th>\n",
       "      <th>Hyperglycaemia count</th>\n",
       "      <th>Total count</th>\n",
       "      <th>Hyperglycaemia prevalence</th>\n",
       "    </tr>\n",
       "  </thead>\n",
       "  <tbody>\n",
       "    <tr>\n",
       "      <th>0</th>\n",
       "      <td>01</td>\n",
       "      <td>1191</td>\n",
       "      <td>12012</td>\n",
       "      <td>9.92</td>\n",
       "    </tr>\n",
       "    <tr>\n",
       "      <th>1</th>\n",
       "      <td>03</td>\n",
       "      <td>78</td>\n",
       "      <td>3295</td>\n",
       "      <td>2.37</td>\n",
       "    </tr>\n",
       "    <tr>\n",
       "      <th>2</th>\n",
       "      <td>04</td>\n",
       "      <td>771</td>\n",
       "      <td>9631</td>\n",
       "      <td>8.01</td>\n",
       "    </tr>\n",
       "    <tr>\n",
       "      <th>3</th>\n",
       "      <td>06</td>\n",
       "      <td>1551</td>\n",
       "      <td>21077</td>\n",
       "      <td>7.36</td>\n",
       "    </tr>\n",
       "    <tr>\n",
       "      <th>4</th>\n",
       "      <td>09</td>\n",
       "      <td>1001</td>\n",
       "      <td>15341</td>\n",
       "      <td>6.52</td>\n",
       "    </tr>\n",
       "  </tbody>\n",
       "</table>\n",
       "</div>"
      ],
      "text/plain": [
       "  DIVN_ZILA  Hyperglycaemia count  Total count  Hyperglycaemia prevalence\n",
       "0        01                  1191        12012                       9.92\n",
       "1        03                    78         3295                       2.37\n",
       "2        04                   771         9631                       8.01\n",
       "3        06                  1551        21077                       7.36\n",
       "4        09                  1001        15341                       6.52"
      ]
     },
     "execution_count": 145,
     "metadata": {},
     "output_type": "execute_result"
    }
   ],
   "source": [
    "data_svrs2017r[\"DIVN_ZILA\"] = data_svrs2017r[\"Zila code\"].astype(int).astype(str)\n",
    "data_svrs2017r[\"DIVN_ZILA\"] = data_svrs2017r[\"DIVN_ZILA\"].str.pad(width=2, side='left', fillchar='0')\n",
    "tmp1 = data_svrs2017r[[\"DIVN_ZILA\", \"Hyperglycaemia\"]].groupby('DIVN_ZILA').sum().reset_index()\n",
    "tmp1.columns = [\"DIVN_ZILA\", \"Hyperglycaemia count\"]\n",
    "tmp2 = data_svrs2017r[[\"DIVN_ZILA\", \"Hyperglycaemia\"]].groupby('DIVN_ZILA').count().reset_index()\n",
    "tmp2.columns = [\"DIVN_ZILA\", \"Total count\"]\n",
    "tmp = tmp1.merge(tmp2, how='left', on='DIVN_ZILA')\n",
    "tmp['Hyperglycaemia prevalence'] = np.round(tmp['Hyperglycaemia count']/tmp['Total count']*100,2)\n",
    "tmp.to_csv(OUT +'/hyperglycemia_prevalence_2017.csv', index=False, index_label=False)\n",
    "tmp.head()"
   ]
  }
 ],
 "metadata": {
  "kernelspec": {
   "display_name": "Python 3",
   "language": "python",
   "name": "python3"
  },
  "language_info": {
   "codemirror_mode": {
    "name": "ipython",
    "version": 3
   },
   "file_extension": ".py",
   "mimetype": "text/x-python",
   "name": "python",
   "nbconvert_exporter": "python",
   "pygments_lexer": "ipython3",
   "version": "3.7.2"
  }
 },
 "nbformat": 4,
 "nbformat_minor": 2
}
