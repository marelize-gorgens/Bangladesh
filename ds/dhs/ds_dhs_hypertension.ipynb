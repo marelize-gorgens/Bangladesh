{
 "cells": [
  {
   "cell_type": "markdown",
   "metadata": {},
   "source": [
    "# dp_dhs_ncd_hypertension"
   ]
  },
  {
   "cell_type": "markdown",
   "metadata": {},
   "source": [
    "## Notes\n",
    "\n",
    "- Definition of diabetes:\n",
    "    - Recommendation for diagnosis of hypertension [link](https://www.ncbi.nlm.nih.gov/pmc/articles/PMC4707193/)\n",
    "- Hypertension if meets any of the following three criteria:\n",
    "    - SBP ≥ 140 mmHg or DBP ≥ 90 mmHg\n",
    "    - Doctor/nurse diagnosed high blood pressure\n",
    "    - Taking blood pressure-lowering medication"
   ]
  },
  {
   "cell_type": "markdown",
   "metadata": {},
   "source": [
    "## Packages"
   ]
  },
  {
   "cell_type": "code",
   "execution_count": 1,
   "metadata": {},
   "outputs": [],
   "source": [
    "import os\n",
    "import re\n",
    "os.environ['KMP_DUPLICATE_LIB_OK']='True'\n",
    "import itertools\n",
    "import collections\n",
    "import logging\n",
    "import numpy as np\n",
    "import pandas as pd\n",
    "import pandas_ml as pd_ml\n",
    "import seaborn as sns\n",
    "from collections import Counter\n",
    "from sklearn.datasets import make_classification\n",
    "from imblearn.over_sampling import SMOTE\n",
    "from imblearn.over_sampling import RandomOverSampler \n",
    "from sklearn.linear_model import LogisticRegression\n",
    "from sklearn.linear_model import LogisticRegressionCV\n",
    "from xgboost import XGBClassifier\n",
    "\n",
    "from datetime import timedelta\n",
    "from datetime import datetime as dt\n",
    "\n",
    "import matplotlib.pyplot as plt\n",
    "from sklearn.metrics import roc_auc_score\n",
    "from sklearn.metrics import classification_report\n",
    "from sklearn.metrics import precision_recall_curve\n",
    "from sklearn.metrics import accuracy_score\n",
    "from sklearn.metrics import precision_score\n",
    "from sklearn.metrics import recall_score\n",
    "from sklearn.metrics import f1_score\n",
    "from sklearn.metrics import mean_squared_error\n",
    "\n",
    "from sklearn.preprocessing import OneHotEncoder\n",
    "from sklearn.metrics import classification_report\n",
    "from sklearn.model_selection import train_test_split\n",
    "from hyperopt import STATUS_OK, Trials, fmin, hp, tpe"
   ]
  },
  {
   "cell_type": "markdown",
   "metadata": {},
   "source": [
    "## Custom functions"
   ]
  },
  {
   "cell_type": "code",
   "execution_count": 2,
   "metadata": {},
   "outputs": [],
   "source": [
    "def subset_by_var1(input_df, var):\n",
    "    df = input_df.copy(deep=True)\n",
    "    print(df.shape)\n",
    "    df = df.loc[df[var].notna(),:]\n",
    "    print(df.shape)\n",
    "    return df\n",
    "\n",
    "\n",
    "def subset_by_var2(input_df, var):\n",
    "    df = input_df.copy(deep=True)\n",
    "    print(df.shape)\n",
    "    df = df.loc[df[var] != -9,:]\n",
    "    print(df.shape)\n",
    "    return df\n",
    "\n",
    "\n",
    "def remove_metadata(input_df, metadata):\n",
    "    df = input_df.copy(deep=True)\n",
    "    var_select = [var1 for var1,var2 in zip(metadata['variable'],metadata['model_keep']) if var2 == 0]\n",
    "    print(df.shape)\n",
    "    df = df.drop(var_select, axis=1)\n",
    "    print(df.shape)\n",
    "    return df \n",
    " \n",
    "def remove_uniform(input_df):\n",
    "    df = input_df.copy(deep=True)\n",
    "    var_list = []\n",
    "    for key, var in enumerate(df):\n",
    "        tmp = df[var].dropna()\n",
    "        if len(tmp.unique()) == 1:\n",
    "            var_list.append(var)\n",
    "    print(df.shape)\n",
    "    print(var_list)\n",
    "    df = df.drop(var_list, axis=1)\n",
    "    print(df.shape)\n",
    "    return df\n",
    "    \n",
    "def remove_identical(input_df):\n",
    "    df = input_df.copy(deep=True)\n",
    "    var_pairs_check = []\n",
    "    var_pairs = []\n",
    "    for pair in itertools.combinations(list(df.columns),2):\n",
    "        var_pairs.append(pair)\n",
    "        var_pairs_check.append(all(df[pair[0]] == df[pair[1]]))\n",
    "    selected_pairs = [pair for pair, check in zip(var_pairs, var_pairs_check) if check]\n",
    "    selected_var = [var2 for var1,var2 in selected_pairs]\n",
    "    print(df.shape)\n",
    "    df = df.drop(list(set(selected_var)), axis=1)\n",
    "    print(df.shape)\n",
    "    return df\n",
    "\n",
    "\n",
    "def remove_missing(input_df, threshold):\n",
    "    df = input_df.copy(deep=True)\n",
    "    drop_vars = []\n",
    "    for key, var in enumerate(df):\n",
    "        null_percent = round(df[var].isnull().mean() * 100,2)\n",
    "        if null_percent >= threshold:\n",
    "            drop_vars.append(var)\n",
    "    print(df.shape)\n",
    "    df = df.drop(drop_vars, axis=1)\n",
    "    print(df.shape)\n",
    "    return df\n",
    "\n",
    "\n",
    "def check_variables(input_df):\n",
    "    df = input_df.copy(deep=True)\n",
    "    var_types = [var_n for var_t,var_n  in zip(df.dtypes, df.columns) if var_t == 'O']\n",
    "    return var_types\n",
    "\n",
    "def summarize_variables(input_df, metadata_df):\n",
    "    metadata = metadata_df.copy(deep=True)\n",
    "    metadata['num_values'] = 'NaN'\n",
    "    for key, var in enumerate(metadata.values):\n",
    "        metadata.loc[key,'num_values'] = len(input_df[var[0]].unique())\n",
    "    return metadata\n",
    "\n",
    "\n",
    "def determine_hypertension(input_df):\n",
    "    df = input_df.copy(deep=True)\n",
    "    df['hypertension'] = -9\n",
    "    for key, value in enumerate(df.values):\n",
    "        if (df.loc[key,'sh250'] == 1. or df.loc[key,'sh249'] == 1. or df.loc[key,'fsysto'] >= 140. or df.loc[key,'fdysto'] >= 90.):\n",
    "            df.at[key, 'hypertension'] = 1\n",
    "        elif (df.loc[key,'sh250'] == 0 or df.loc[key,'sh249'] == 0 or df.loc[key,'fsysto'] < 140 or df.loc[key,'fdysto'] < 90):\n",
    "            df.at[key, 'hypertension'] = 0\n",
    "        else:\n",
    "            df.at[key,'hypertension'] = -9\n",
    "    return df  \n",
    "\n",
    "def determine_hyperglycaemia(input_df):\n",
    "    df = input_df.copy(deep=True)\n",
    "    df['sh280'] = np.where(df['sh280'].isna(), 9999, df['sh280'])\n",
    "    df['sh280'] = df['sh280'].astype(int).astype(str)\n",
    "    df['meal'] = 1\n",
    "    for key,time in enumerate(df['sh280']):\n",
    "        try:\n",
    "            df.at[key,'meal'] = dt.strptime(time,'%H%M')\n",
    "        except ValueError:\n",
    "            df.at[key,'meal'] = dt.strptime('2020-01-01:00:00','%Y-%m-%d:%H:%M')\n",
    "    \n",
    "    df['sh281'] = np.where(df['sh281'].isna(), 9999, df['sh281'])\n",
    "    df['sh281'] = df['sh281'].astype(int).astype(str)\n",
    "    df['drink'] = 1\n",
    "    for key,time in enumerate(df['sh281']):\n",
    "        try:\n",
    "            df.at[key,'drink'] = dt.strptime(time,'%H%M')\n",
    "        except ValueError:\n",
    "            df.at[key,'drink'] = dt.strptime('2020-01-01:00:00','%Y-%m-%d:%H:%M')\n",
    "    \n",
    "    df['sh283t'] = np.where(df['sh283t'].isna(), 9999, df['sh283t'])\n",
    "    df['sh283t'] = df['sh283t'].astype(int).astype(str)\n",
    "    df['measure_time'] = 1\n",
    "    for key,time in enumerate(df['sh283t']):\n",
    "        try:\n",
    "            df.at[key,'measure_time'] = dt.strptime(time,'%H%M')\n",
    "        except ValueError:\n",
    "            df.at[key,'measure_time'] = dt.strptime('2020-01-01:00:00','%Y-%m-%d:%H:%M')\n",
    "    df['meal'] = pd.to_datetime(df['meal'], format='%Y-%m-%d %H:%M:%S')\n",
    "    df['drink'] = pd.to_datetime(df['drink'], format='%Y-%m-%d %H:%M:%S')\n",
    "    df['measure_time'] = pd.to_datetime(df['measure_time'], format='%Y-%m-%d %H:%M:%S')\n",
    "    df['meal_delta'] = df['meal'] - df['measure_time']\n",
    "    df['meal_delta'] = df['meal_delta']/np.timedelta64(1,'h')\n",
    "    df['meal_fasting'] = np.where(df['meal_delta'] > 4, 1, 0)\n",
    "    df['drink_delta'] = df['drink'] - df['measure_time']\n",
    "    df['drink_delta'] = df['drink_delta']/np.timedelta64(1,'h')\n",
    "    df['drink_fasting'] = np.where(df['drink_delta'] > 4, 1, 0)\n",
    "    df['hyperglycaemia'] = -9\n",
    "    # sh258: Ever told by a doctor/nurse to have diabetes\n",
    "    # sh259: Taking medication for the diabetes\n",
    "    # df.loc[key,'drink_fasting'] == 1. and df.loc[key,'meal_fasting'] == 1. and \n",
    "    # df.loc[key,'drink_fasting'] == 0. and df.loc[key,'meal_fasting'] == 0. and \n",
    "    for key, value in enumerate(df.values):\n",
    "        if (df.loc[key,'sh284b'] >= 126 or df.loc[key,'sh258'] == 1 or df.loc[key,'sh259'] == 1):\n",
    "            df.at[key, 'hyperglycaemia'] = 1\n",
    "        elif (df.loc[key,'sh284b'] < 126 or df.loc[key,'sh258'] == 0 or df.loc[key,'sh259'] == 0):\n",
    "            df.at[key, 'hyperglycaemia'] = 0\n",
    "        else:\n",
    "            df.at[key, 'hyperglycaemia'] = -9\n",
    "    return df \n",
    "\n",
    "\n",
    "def to_categorical(input_df, input_meta):\n",
    "    df = input_df.copy(deep=True)\n",
    "    for var in df.columns:\n",
    "        if str(input_meta[input_meta['variable'] == var].values[0][4]) == 'categorical':\n",
    "            df[var] =  df[var].astype('str').astype('category')\n",
    "    return df\n",
    "\n",
    "def threshold_cut(input_df, threshold):\n",
    "    df = input_df.copy(deep=True)\n",
    "    df = df.sort_values(by='importance', ascending=False)\n",
    "    df['cumsum'] = np.cumsum(df['importance'])\n",
    "    df = df[df['cumsum'] >= threshold]\n",
    "    return df\n",
    "\n",
    "def read_svrs(path, pattern):\n",
    "    data = {}\n",
    "    for path, subdir, files in os.walk(path):\n",
    "        for file in files:\n",
    "            if file.endswith(pattern):\n",
    "                itr = pd.read_stata(os.path.join(path,file), iterator=True)\n",
    "                variables = list(itr.variable_labels().values())\n",
    "                data[file] = pd.read_stata(os.path.join(path,file))\n",
    "                data[file].columns = variables\n",
    "    return data"
   ]
  },
  {
   "cell_type": "markdown",
   "metadata": {},
   "source": [
    "## Variables"
   ]
  },
  {
   "cell_type": "code",
   "execution_count": 3,
   "metadata": {},
   "outputs": [],
   "source": [
    "NCD_DATA = '/Users/edinhamzic/Symphony/wb_bangladesh/Bangladesh/output/dhs/ncd_data/data_dd_dhs_ncd.csv'\n",
    "c = '/Users/edinhamzic/Symphony/wb_bangladesh/Bangladesh/output/dhs/ncd_data/metadata_dd_dhs_ncd.csv'\n",
    "METADATA_M = '/Users/edinhamzic/Symphony/wb_bangladesh/Bangladesh/output/dhs/ncd_data/metadata_dd_dhs_ncd_m.csv'\n",
    "SVRS2017 = '/Users/edinhamzic/Symphony/wb_bangladesh/Bangladesh/data/bbs/svrs/SVRS_17/'\n",
    "SVRS2013 = '/Users/edinhamzic/Symphony/wb_bangladesh/Bangladesh/data/bbs/svrs/SVRS_13/'\n",
    "\n",
    "SVRS2017_METADATA = '/Users/edinhamzic/Symphony/wb_bangladesh/Bangladesh/data/bbs/svrs/SVRS_17/metadata_bbs_SRVS_17.csv'\n",
    "SVRS2013_METADATA = '/Users/edinhamzic/Symphony/wb_bangladesh/Bangladesh/data/bbs/svrs/SVRS_13/metadata_bbs_SRVS_13.csv'\n",
    "SVRS2014_METADATA = '/Users/edinhamzic/Symphony/wb_bangladesh/Bangladesh/data/bbs/svrs/SVRS_14/metadata_bbs_SRVS_14.csv.csv'\n"
   ]
  },
  {
   "cell_type": "markdown",
   "metadata": {},
   "source": [
    "### Reading data"
   ]
  },
  {
   "cell_type": "code",
   "execution_count": 4,
   "metadata": {},
   "outputs": [],
   "source": [
    "ncd_data = pd.read_csv(NCD_DATA)\n",
    "ncd_metadata = pd.read_csv(METADATA_M)"
   ]
  },
  {
   "cell_type": "markdown",
   "metadata": {},
   "source": [
    "### Creating hypertension target variable"
   ]
  },
  {
   "cell_type": "code",
   "execution_count": 5,
   "metadata": {},
   "outputs": [
    {
     "name": "stdout",
     "output_type": "stream",
     "text": [
      "-9    75739\n",
      " 0     5561\n",
      " 1     2431\n",
      "Name: hypertension, dtype: int64\n"
     ]
    }
   ],
   "source": [
    "ncd_data = determine_hypertension(input_df=ncd_data)\n",
    "print(ncd_data['hypertension'].value_counts())"
   ]
  },
  {
   "cell_type": "code",
   "execution_count": 6,
   "metadata": {},
   "outputs": [],
   "source": [
    "ncd_metadata = summarize_variables(input_df=ncd_data, metadata_df=ncd_metadata)\n",
    "ncd_metadata.head()\n",
    "ncd_metadata.to_csv(METADATA_M, index=False, index_label=False)"
   ]
  },
  {
   "cell_type": "code",
   "execution_count": 7,
   "metadata": {},
   "outputs": [
    {
     "data": {
      "text/html": [
       "<div>\n",
       "<style scoped>\n",
       "    .dataframe tbody tr th:only-of-type {\n",
       "        vertical-align: middle;\n",
       "    }\n",
       "\n",
       "    .dataframe tbody tr th {\n",
       "        vertical-align: top;\n",
       "    }\n",
       "\n",
       "    .dataframe thead th {\n",
       "        text-align: right;\n",
       "    }\n",
       "</style>\n",
       "<table border=\"1\" class=\"dataframe\">\n",
       "  <thead>\n",
       "    <tr style=\"text-align: right;\">\n",
       "      <th></th>\n",
       "      <th>Unnamed: 0</th>\n",
       "      <th>hhid</th>\n",
       "      <th>hvidx</th>\n",
       "      <th>hv000</th>\n",
       "      <th>hv001</th>\n",
       "      <th>hv002</th>\n",
       "      <th>hv003</th>\n",
       "      <th>hv004</th>\n",
       "      <th>hv005</th>\n",
       "      <th>hv006</th>\n",
       "      <th>...</th>\n",
       "      <th>shbm</th>\n",
       "      <th>shri</th>\n",
       "      <th>shcmc</th>\n",
       "      <th>shflg</th>\n",
       "      <th>shsmk</th>\n",
       "      <th>shresi</th>\n",
       "      <th>shed1</th>\n",
       "      <th>shed2</th>\n",
       "      <th>shed3</th>\n",
       "      <th>hypertension</th>\n",
       "    </tr>\n",
       "  </thead>\n",
       "  <tbody>\n",
       "    <tr>\n",
       "      <th>0</th>\n",
       "      <td>1</td>\n",
       "      <td>1  3</td>\n",
       "      <td>1</td>\n",
       "      <td>BD6</td>\n",
       "      <td>1</td>\n",
       "      <td>3</td>\n",
       "      <td>2</td>\n",
       "      <td>1</td>\n",
       "      <td>504672</td>\n",
       "      <td>8</td>\n",
       "      <td>...</td>\n",
       "      <td>NaN</td>\n",
       "      <td>NaN</td>\n",
       "      <td>NaN</td>\n",
       "      <td>NaN</td>\n",
       "      <td>NaN</td>\n",
       "      <td>NaN</td>\n",
       "      <td>NaN</td>\n",
       "      <td>NaN</td>\n",
       "      <td>NaN</td>\n",
       "      <td>-9</td>\n",
       "    </tr>\n",
       "    <tr>\n",
       "      <th>1</th>\n",
       "      <td>2</td>\n",
       "      <td>1  3</td>\n",
       "      <td>2</td>\n",
       "      <td>BD6</td>\n",
       "      <td>1</td>\n",
       "      <td>3</td>\n",
       "      <td>2</td>\n",
       "      <td>1</td>\n",
       "      <td>504672</td>\n",
       "      <td>8</td>\n",
       "      <td>...</td>\n",
       "      <td>NaN</td>\n",
       "      <td>NaN</td>\n",
       "      <td>NaN</td>\n",
       "      <td>NaN</td>\n",
       "      <td>NaN</td>\n",
       "      <td>NaN</td>\n",
       "      <td>NaN</td>\n",
       "      <td>NaN</td>\n",
       "      <td>NaN</td>\n",
       "      <td>-9</td>\n",
       "    </tr>\n",
       "    <tr>\n",
       "      <th>2</th>\n",
       "      <td>3</td>\n",
       "      <td>1  3</td>\n",
       "      <td>3</td>\n",
       "      <td>BD6</td>\n",
       "      <td>1</td>\n",
       "      <td>3</td>\n",
       "      <td>2</td>\n",
       "      <td>1</td>\n",
       "      <td>504672</td>\n",
       "      <td>8</td>\n",
       "      <td>...</td>\n",
       "      <td>NaN</td>\n",
       "      <td>NaN</td>\n",
       "      <td>NaN</td>\n",
       "      <td>NaN</td>\n",
       "      <td>NaN</td>\n",
       "      <td>NaN</td>\n",
       "      <td>NaN</td>\n",
       "      <td>NaN</td>\n",
       "      <td>NaN</td>\n",
       "      <td>-9</td>\n",
       "    </tr>\n",
       "    <tr>\n",
       "      <th>3</th>\n",
       "      <td>4</td>\n",
       "      <td>1  3</td>\n",
       "      <td>4</td>\n",
       "      <td>BD6</td>\n",
       "      <td>1</td>\n",
       "      <td>3</td>\n",
       "      <td>2</td>\n",
       "      <td>1</td>\n",
       "      <td>504672</td>\n",
       "      <td>8</td>\n",
       "      <td>...</td>\n",
       "      <td>NaN</td>\n",
       "      <td>NaN</td>\n",
       "      <td>NaN</td>\n",
       "      <td>NaN</td>\n",
       "      <td>NaN</td>\n",
       "      <td>NaN</td>\n",
       "      <td>NaN</td>\n",
       "      <td>NaN</td>\n",
       "      <td>NaN</td>\n",
       "      <td>-9</td>\n",
       "    </tr>\n",
       "    <tr>\n",
       "      <th>4</th>\n",
       "      <td>5</td>\n",
       "      <td>1  3</td>\n",
       "      <td>5</td>\n",
       "      <td>BD6</td>\n",
       "      <td>1</td>\n",
       "      <td>3</td>\n",
       "      <td>2</td>\n",
       "      <td>1</td>\n",
       "      <td>504672</td>\n",
       "      <td>8</td>\n",
       "      <td>...</td>\n",
       "      <td>NaN</td>\n",
       "      <td>NaN</td>\n",
       "      <td>NaN</td>\n",
       "      <td>NaN</td>\n",
       "      <td>NaN</td>\n",
       "      <td>NaN</td>\n",
       "      <td>NaN</td>\n",
       "      <td>NaN</td>\n",
       "      <td>NaN</td>\n",
       "      <td>-9</td>\n",
       "    </tr>\n",
       "  </tbody>\n",
       "</table>\n",
       "<p>5 rows × 384 columns</p>\n",
       "</div>"
      ],
      "text/plain": [
       "   Unnamed: 0          hhid  hvidx hv000  hv001  hv002  hv003  hv004   hv005  \\\n",
       "0           1          1  3      1   BD6      1      3      2      1  504672   \n",
       "1           2          1  3      2   BD6      1      3      2      1  504672   \n",
       "2           3          1  3      3   BD6      1      3      2      1  504672   \n",
       "3           4          1  3      4   BD6      1      3      2      1  504672   \n",
       "4           5          1  3      5   BD6      1      3      2      1  504672   \n",
       "\n",
       "   hv006  ...  shbm  shri  shcmc  shflg  shsmk  shresi  shed1  shed2  shed3  \\\n",
       "0      8  ...   NaN   NaN    NaN    NaN    NaN     NaN    NaN    NaN    NaN   \n",
       "1      8  ...   NaN   NaN    NaN    NaN    NaN     NaN    NaN    NaN    NaN   \n",
       "2      8  ...   NaN   NaN    NaN    NaN    NaN     NaN    NaN    NaN    NaN   \n",
       "3      8  ...   NaN   NaN    NaN    NaN    NaN     NaN    NaN    NaN    NaN   \n",
       "4      8  ...   NaN   NaN    NaN    NaN    NaN     NaN    NaN    NaN    NaN   \n",
       "\n",
       "   hypertension  \n",
       "0            -9  \n",
       "1            -9  \n",
       "2            -9  \n",
       "3            -9  \n",
       "4            -9  \n",
       "\n",
       "[5 rows x 384 columns]"
      ]
     },
     "execution_count": 7,
     "metadata": {},
     "output_type": "execute_result"
    }
   ],
   "source": [
    "ncd_data.head()"
   ]
  },
  {
   "cell_type": "code",
   "execution_count": 8,
   "metadata": {},
   "outputs": [
    {
     "data": {
      "text/html": [
       "<div>\n",
       "<style scoped>\n",
       "    .dataframe tbody tr th:only-of-type {\n",
       "        vertical-align: middle;\n",
       "    }\n",
       "\n",
       "    .dataframe tbody tr th {\n",
       "        vertical-align: top;\n",
       "    }\n",
       "\n",
       "    .dataframe thead th {\n",
       "        text-align: right;\n",
       "    }\n",
       "</style>\n",
       "<table border=\"1\" class=\"dataframe\">\n",
       "  <thead>\n",
       "    <tr style=\"text-align: right;\">\n",
       "      <th></th>\n",
       "      <th>variable</th>\n",
       "      <th>description</th>\n",
       "      <th>model_keep</th>\n",
       "      <th>num_values</th>\n",
       "      <th>type</th>\n",
       "    </tr>\n",
       "  </thead>\n",
       "  <tbody>\n",
       "    <tr>\n",
       "      <th>0</th>\n",
       "      <td>hhid</td>\n",
       "      <td>Case Identification</td>\n",
       "      <td>0</td>\n",
       "      <td>17141</td>\n",
       "      <td>numeric</td>\n",
       "    </tr>\n",
       "    <tr>\n",
       "      <th>1</th>\n",
       "      <td>hvidx</td>\n",
       "      <td>Line number</td>\n",
       "      <td>0</td>\n",
       "      <td>31</td>\n",
       "      <td>categorical</td>\n",
       "    </tr>\n",
       "    <tr>\n",
       "      <th>2</th>\n",
       "      <td>hv000</td>\n",
       "      <td>Country code and phase</td>\n",
       "      <td>0</td>\n",
       "      <td>1</td>\n",
       "      <td>categorical</td>\n",
       "    </tr>\n",
       "    <tr>\n",
       "      <th>3</th>\n",
       "      <td>hv001</td>\n",
       "      <td>Cluster number</td>\n",
       "      <td>0</td>\n",
       "      <td>600</td>\n",
       "      <td>categorical</td>\n",
       "    </tr>\n",
       "    <tr>\n",
       "      <th>4</th>\n",
       "      <td>hv002</td>\n",
       "      <td>Household number</td>\n",
       "      <td>0</td>\n",
       "      <td>184</td>\n",
       "      <td>categorical</td>\n",
       "    </tr>\n",
       "  </tbody>\n",
       "</table>\n",
       "</div>"
      ],
      "text/plain": [
       "  variable             description  model_keep  num_values         type\n",
       "0     hhid     Case Identification           0       17141      numeric\n",
       "1    hvidx             Line number           0          31  categorical\n",
       "2    hv000  Country code and phase           0           1  categorical\n",
       "3    hv001          Cluster number           0         600  categorical\n",
       "4    hv002        Household number           0         184  categorical"
      ]
     },
     "execution_count": 8,
     "metadata": {},
     "output_type": "execute_result"
    }
   ],
   "source": [
    "ncd_metadata.head()"
   ]
  },
  {
   "cell_type": "markdown",
   "metadata": {},
   "source": [
    "### Subset data by target variable missingness"
   ]
  },
  {
   "cell_type": "code",
   "execution_count": 9,
   "metadata": {},
   "outputs": [
    {
     "name": "stdout",
     "output_type": "stream",
     "text": [
      "(83731, 384)\n",
      "(7992, 384)\n"
     ]
    },
    {
     "data": {
      "text/plain": [
       "True"
      ]
     },
     "execution_count": 9,
     "metadata": {},
     "output_type": "execute_result"
    }
   ],
   "source": [
    "data = subset_by_var2(input_df=ncd_data, var='hypertension')\n",
    "'hypertension' in data.columns"
   ]
  },
  {
   "cell_type": "markdown",
   "metadata": {},
   "source": [
    "### Subset data by metadata file (variables to keep column)"
   ]
  },
  {
   "cell_type": "code",
   "execution_count": 10,
   "metadata": {},
   "outputs": [
    {
     "name": "stdout",
     "output_type": "stream",
     "text": [
      "(7992, 384)\n",
      "(7992, 307)\n"
     ]
    },
    {
     "data": {
      "text/plain": [
       "True"
      ]
     },
     "execution_count": 10,
     "metadata": {},
     "output_type": "execute_result"
    }
   ],
   "source": [
    "data = remove_metadata(input_df=data, metadata=ncd_metadata)\n",
    "'hypertension' in data.columns"
   ]
  },
  {
   "cell_type": "markdown",
   "metadata": {},
   "source": [
    "### Remove uniformed variables (no variation)"
   ]
  },
  {
   "cell_type": "code",
   "execution_count": 11,
   "metadata": {},
   "outputs": [
    {
     "name": "stdout",
     "output_type": "stream",
     "text": [
      "(7992, 307)\n",
      "['hv015', 'hv020', 'hv027', 'hv042', 'hv120', 'hv121', 'hv122', 'hv124', 'sh21', 'ha62', 'hb62']\n",
      "(7992, 296)\n"
     ]
    },
    {
     "data": {
      "text/plain": [
       "True"
      ]
     },
     "execution_count": 11,
     "metadata": {},
     "output_type": "execute_result"
    }
   ],
   "source": [
    "data = remove_uniform(input_df=data)\n",
    "'hypertension' in data.columns"
   ]
  },
  {
   "cell_type": "markdown",
   "metadata": {},
   "source": [
    "### Removing missing by threshold "
   ]
  },
  {
   "cell_type": "code",
   "execution_count": 12,
   "metadata": {},
   "outputs": [
    {
     "name": "stdout",
     "output_type": "stream",
     "text": [
      "(7992, 296)\n",
      "(7992, 102)\n"
     ]
    },
    {
     "data": {
      "text/plain": [
       "True"
      ]
     },
     "execution_count": 12,
     "metadata": {},
     "output_type": "execute_result"
    }
   ],
   "source": [
    "data = remove_missing(input_df=data, threshold=1)\n",
    "'hypertension' in data.columns"
   ]
  },
  {
   "cell_type": "markdown",
   "metadata": {},
   "source": [
    "### Checking variables"
   ]
  },
  {
   "cell_type": "code",
   "execution_count": 13,
   "metadata": {},
   "outputs": [
    {
     "data": {
      "text/plain": [
       "[]"
      ]
     },
     "execution_count": 13,
     "metadata": {},
     "output_type": "execute_result"
    }
   ],
   "source": [
    "check_variables(input_df=data)"
   ]
  },
  {
   "cell_type": "markdown",
   "metadata": {},
   "source": [
    "### Removing meta variables"
   ]
  },
  {
   "cell_type": "code",
   "execution_count": 14,
   "metadata": {},
   "outputs": [
    {
     "data": {
      "text/html": [
       "<div>\n",
       "<style scoped>\n",
       "    .dataframe tbody tr th:only-of-type {\n",
       "        vertical-align: middle;\n",
       "    }\n",
       "\n",
       "    .dataframe tbody tr th {\n",
       "        vertical-align: top;\n",
       "    }\n",
       "\n",
       "    .dataframe thead th {\n",
       "        text-align: right;\n",
       "    }\n",
       "</style>\n",
       "<table border=\"1\" class=\"dataframe\">\n",
       "  <thead>\n",
       "    <tr style=\"text-align: right;\">\n",
       "      <th></th>\n",
       "      <th>hv009</th>\n",
       "      <th>hv010</th>\n",
       "      <th>hv011</th>\n",
       "      <th>hv012</th>\n",
       "      <th>hv013</th>\n",
       "      <th>hv014</th>\n",
       "      <th>hv016</th>\n",
       "      <th>hv017</th>\n",
       "      <th>hv024</th>\n",
       "      <th>hv025</th>\n",
       "      <th>...</th>\n",
       "      <th>sh234c</th>\n",
       "      <th>sh237</th>\n",
       "      <th>sh239</th>\n",
       "      <th>sh241</th>\n",
       "      <th>sh257</th>\n",
       "      <th>shwh</th>\n",
       "      <th>shcmc</th>\n",
       "      <th>shed1</th>\n",
       "      <th>shed3</th>\n",
       "      <th>hypertension</th>\n",
       "    </tr>\n",
       "  </thead>\n",
       "  <tbody>\n",
       "    <tr>\n",
       "      <th>16</th>\n",
       "      <td>6</td>\n",
       "      <td>0</td>\n",
       "      <td>0</td>\n",
       "      <td>6</td>\n",
       "      <td>2</td>\n",
       "      <td>1</td>\n",
       "      <td>10</td>\n",
       "      <td>1</td>\n",
       "      <td>1</td>\n",
       "      <td>2</td>\n",
       "      <td>...</td>\n",
       "      <td>58.0</td>\n",
       "      <td>0.0</td>\n",
       "      <td>0.0</td>\n",
       "      <td>1.0</td>\n",
       "      <td>1.0</td>\n",
       "      <td>0.0</td>\n",
       "      <td>642.0</td>\n",
       "      <td>0.0</td>\n",
       "      <td>0.0</td>\n",
       "      <td>0</td>\n",
       "    </tr>\n",
       "    <tr>\n",
       "      <th>17</th>\n",
       "      <td>6</td>\n",
       "      <td>0</td>\n",
       "      <td>0</td>\n",
       "      <td>6</td>\n",
       "      <td>2</td>\n",
       "      <td>1</td>\n",
       "      <td>10</td>\n",
       "      <td>1</td>\n",
       "      <td>1</td>\n",
       "      <td>2</td>\n",
       "      <td>...</td>\n",
       "      <td>60.0</td>\n",
       "      <td>1.0</td>\n",
       "      <td>13.0</td>\n",
       "      <td>1.0</td>\n",
       "      <td>1.0</td>\n",
       "      <td>3.0</td>\n",
       "      <td>614.0</td>\n",
       "      <td>1.0</td>\n",
       "      <td>1.0</td>\n",
       "      <td>1</td>\n",
       "    </tr>\n",
       "    <tr>\n",
       "      <th>26</th>\n",
       "      <td>5</td>\n",
       "      <td>1</td>\n",
       "      <td>1</td>\n",
       "      <td>5</td>\n",
       "      <td>5</td>\n",
       "      <td>1</td>\n",
       "      <td>10</td>\n",
       "      <td>1</td>\n",
       "      <td>1</td>\n",
       "      <td>2</td>\n",
       "      <td>...</td>\n",
       "      <td>36.0</td>\n",
       "      <td>1.0</td>\n",
       "      <td>52.0</td>\n",
       "      <td>1.0</td>\n",
       "      <td>1.0</td>\n",
       "      <td>0.0</td>\n",
       "      <td>907.0</td>\n",
       "      <td>1.0</td>\n",
       "      <td>1.0</td>\n",
       "      <td>0</td>\n",
       "    </tr>\n",
       "    <tr>\n",
       "      <th>39</th>\n",
       "      <td>2</td>\n",
       "      <td>0</td>\n",
       "      <td>0</td>\n",
       "      <td>2</td>\n",
       "      <td>2</td>\n",
       "      <td>0</td>\n",
       "      <td>10</td>\n",
       "      <td>1</td>\n",
       "      <td>1</td>\n",
       "      <td>2</td>\n",
       "      <td>...</td>\n",
       "      <td>65.0</td>\n",
       "      <td>0.0</td>\n",
       "      <td>13.0</td>\n",
       "      <td>1.0</td>\n",
       "      <td>1.0</td>\n",
       "      <td>3.0</td>\n",
       "      <td>556.0</td>\n",
       "      <td>0.0</td>\n",
       "      <td>0.0</td>\n",
       "      <td>1</td>\n",
       "    </tr>\n",
       "    <tr>\n",
       "      <th>40</th>\n",
       "      <td>2</td>\n",
       "      <td>0</td>\n",
       "      <td>0</td>\n",
       "      <td>2</td>\n",
       "      <td>2</td>\n",
       "      <td>0</td>\n",
       "      <td>10</td>\n",
       "      <td>1</td>\n",
       "      <td>1</td>\n",
       "      <td>2</td>\n",
       "      <td>...</td>\n",
       "      <td>55.0</td>\n",
       "      <td>0.0</td>\n",
       "      <td>0.0</td>\n",
       "      <td>1.0</td>\n",
       "      <td>1.0</td>\n",
       "      <td>0.0</td>\n",
       "      <td>669.0</td>\n",
       "      <td>0.0</td>\n",
       "      <td>0.0</td>\n",
       "      <td>0</td>\n",
       "    </tr>\n",
       "  </tbody>\n",
       "</table>\n",
       "<p>5 rows × 101 columns</p>\n",
       "</div>"
      ],
      "text/plain": [
       "    hv009  hv010  hv011  hv012  hv013  hv014  hv016  hv017  hv024  hv025  ...  \\\n",
       "16      6      0      0      6      2      1     10      1      1      2  ...   \n",
       "17      6      0      0      6      2      1     10      1      1      2  ...   \n",
       "26      5      1      1      5      5      1     10      1      1      2  ...   \n",
       "39      2      0      0      2      2      0     10      1      1      2  ...   \n",
       "40      2      0      0      2      2      0     10      1      1      2  ...   \n",
       "\n",
       "    sh234c  sh237  sh239  sh241  sh257  shwh  shcmc  shed1  shed3  \\\n",
       "16    58.0    0.0    0.0    1.0    1.0   0.0  642.0    0.0    0.0   \n",
       "17    60.0    1.0   13.0    1.0    1.0   3.0  614.0    1.0    1.0   \n",
       "26    36.0    1.0   52.0    1.0    1.0   0.0  907.0    1.0    1.0   \n",
       "39    65.0    0.0   13.0    1.0    1.0   3.0  556.0    0.0    0.0   \n",
       "40    55.0    0.0    0.0    1.0    1.0   0.0  669.0    0.0    0.0   \n",
       "\n",
       "    hypertension  \n",
       "16             0  \n",
       "17             1  \n",
       "26             0  \n",
       "39             1  \n",
       "40             0  \n",
       "\n",
       "[5 rows x 101 columns]"
      ]
     },
     "execution_count": 14,
     "metadata": {},
     "output_type": "execute_result"
    }
   ],
   "source": [
    "data = data.drop(['Unnamed: 0'],axis=1)\n",
    "data.head()"
   ]
  },
  {
   "cell_type": "markdown",
   "metadata": {},
   "source": [
    "# Predictors\n",
    "- **Education (completed in years)**\n",
    "    1. DHS: **hv108** - Education completed in single years\n",
    "    2. SVRS2017: **q_16** - Level of Education\n",
    "- **Age**\n",
    "    1. DHS: **hv105** - Age of household members\n",
    "    2. SVRS2017: **q_10** - Age\n",
    "- **Urban/rural**\n",
    "    1. DHS: 'hv025'\n",
    "    2. SVRS2017: 'Rural/Urban' / 'rmo'\n",
    "- **Sex**\n",
    "    1. DHS:'hv104'\n",
    "    2. SVRS2017: 'Sex'"
   ]
  },
  {
   "cell_type": "code",
   "execution_count": 15,
   "metadata": {},
   "outputs": [
    {
     "data": {
      "text/html": [
       "<div>\n",
       "<style scoped>\n",
       "    .dataframe tbody tr th:only-of-type {\n",
       "        vertical-align: middle;\n",
       "    }\n",
       "\n",
       "    .dataframe tbody tr th {\n",
       "        vertical-align: top;\n",
       "    }\n",
       "\n",
       "    .dataframe thead th {\n",
       "        text-align: right;\n",
       "    }\n",
       "</style>\n",
       "<table border=\"1\" class=\"dataframe\">\n",
       "  <thead>\n",
       "    <tr style=\"text-align: right;\">\n",
       "      <th></th>\n",
       "      <th>Education</th>\n",
       "      <th>Age</th>\n",
       "      <th>Urban/Rural</th>\n",
       "      <th>Gender</th>\n",
       "      <th>Hypertension</th>\n",
       "    </tr>\n",
       "  </thead>\n",
       "  <tbody>\n",
       "    <tr>\n",
       "      <th>16</th>\n",
       "      <td>0</td>\n",
       "      <td>58</td>\n",
       "      <td>2</td>\n",
       "      <td>2</td>\n",
       "      <td>0</td>\n",
       "    </tr>\n",
       "    <tr>\n",
       "      <th>17</th>\n",
       "      <td>3</td>\n",
       "      <td>60</td>\n",
       "      <td>2</td>\n",
       "      <td>1</td>\n",
       "      <td>1</td>\n",
       "    </tr>\n",
       "    <tr>\n",
       "      <th>26</th>\n",
       "      <td>2</td>\n",
       "      <td>36</td>\n",
       "      <td>2</td>\n",
       "      <td>1</td>\n",
       "      <td>0</td>\n",
       "    </tr>\n",
       "    <tr>\n",
       "      <th>39</th>\n",
       "      <td>0</td>\n",
       "      <td>65</td>\n",
       "      <td>2</td>\n",
       "      <td>1</td>\n",
       "      <td>1</td>\n",
       "    </tr>\n",
       "    <tr>\n",
       "      <th>40</th>\n",
       "      <td>0</td>\n",
       "      <td>55</td>\n",
       "      <td>2</td>\n",
       "      <td>2</td>\n",
       "      <td>0</td>\n",
       "    </tr>\n",
       "  </tbody>\n",
       "</table>\n",
       "</div>"
      ],
      "text/plain": [
       "    Education  Age  Urban/Rural  Gender  Hypertension\n",
       "16          0   58            2       2             0\n",
       "17          3   60            2       1             1\n",
       "26          2   36            2       1             0\n",
       "39          0   65            2       1             1\n",
       "40          0   55            2       2             0"
      ]
     },
     "execution_count": 15,
     "metadata": {},
     "output_type": "execute_result"
    }
   ],
   "source": [
    "variables = ['Education', 'Age', 'Urban/Rural', 'Gender']\n",
    "orig_data = data[['hv108','hv105','hv025','hv104', 'hypertension']]\n",
    "orig_data.columns = variables + ['Hypertension']\n",
    "orig_data = orig_data[orig_data['Education'] != 98]\n",
    "orig_data = orig_data[orig_data['Hypertension'] != 9]\n",
    "orig_data = orig_data[orig_data['Education'] != 99]\n",
    "orig_data = orig_data[orig_data['Education'] != 99]\n",
    "orig_data.head()"
   ]
  },
  {
   "cell_type": "code",
   "execution_count": 16,
   "metadata": {},
   "outputs": [
    {
     "data": {
      "text/plain": [
       "Education        int64\n",
       "Age              int64\n",
       "Urban/Rural_1    uint8\n",
       "Urban/Rural_2    uint8\n",
       "Gender_1         uint8\n",
       "Gender_2         uint8\n",
       "dtype: object"
      ]
     },
     "execution_count": 16,
     "metadata": {},
     "output_type": "execute_result"
    }
   ],
   "source": [
    "orig_data['Urban/Rural'] = orig_data['Urban/Rural'].astype('category')\n",
    "orig_data['Gender'] = orig_data['Gender'].astype('category')\n",
    "y = orig_data['Hypertension']\n",
    "X = orig_data.drop(['Hypertension'], axis=1)\n",
    "X.dtypes\n",
    "X = pd.get_dummies(X)\n",
    "X.dtypes"
   ]
  },
  {
   "cell_type": "code",
   "execution_count": 17,
   "metadata": {},
   "outputs": [],
   "source": [
    "from sklearn.model_selection import train_test_split\n",
    "X_train, X_test, y_train, y_test = train_test_split(X, y,\n",
    "                                                   test_size=0.2, random_state=84)"
   ]
  },
  {
   "cell_type": "markdown",
   "metadata": {},
   "source": [
    "# Fine-tuning the model - Hypertension"
   ]
  },
  {
   "cell_type": "code",
   "execution_count": 18,
   "metadata": {},
   "outputs": [],
   "source": [
    "def modelfit(alg, dtrain, dtest, predictors,useTrainCV=True, cv_folds=5, early_stopping_rounds=50):\n",
    "    \n",
    "    if useTrainCV:\n",
    "        xgb_param = alg.get_xgb_params()\n",
    "        xgtrain = xgb.DMatrix(dtrain[predictors].values, label=dtrain[target].values)\n",
    "        xgtest = xgb.DMatrix(dtest[predictors].values)\n",
    "        cvresult = xgb.cv(xgb_param, xgtrain, num_boost_round=alg.get_params()['n_estimators'], nfold=cv_folds,\n",
    "            metrics='auc', early_stopping_rounds=early_stopping_rounds)\n",
    "        alg.set_params(n_estimators=cvresult.shape[0])\n",
    "    \n",
    "    #Fit the algorithm on the data\n",
    "    alg.fit(dtrain[predictors], dtrain['Hypertension'],eval_metric='auc')\n",
    "        \n",
    "    #Predict training set:\n",
    "    dtrain_predictions = alg.predict(dtrain[predictors])\n",
    "    dtrain_predprob = alg.predict_proba(dtrain[predictors])[:,1]\n",
    "        \n",
    "    #Print model report:\n",
    "    print(\"\\nModel Report\")\n",
    "    print(f\"Accuracy : %.4g {metrics.accuracy_score(dtrain['Hypertension'].values, dtrain_predictions)}\")\n",
    "    print(f\"AUC Score (Train): {metrics.roc_auc_score(dtrain['Hypertension'], dtrain_predprob)}]\")\n",
    "    \n",
    "    #Predict on testing data:\n",
    "    dtest['predprob'] = alg.predict_proba(dtest[predictors])[:,1]\n",
    "    results = X_data_test.merge(dtest[['predprob']])\n",
    "    print(f\"AUC Score (Test): {metrics.roc_auc_score(results['Hypertension'], results['predprob'])}\")\n",
    "    print(alg.booster)\n",
    "    feat_imp = pd.Series(alg._Booster.get_fscore()).sort_values(ascending=False)\n",
    "    feat_imp.plot(kind='bar', title='Feature Importances')\n",
    "    plt.ylabel('Feature Importance Score')"
   ]
  },
  {
   "cell_type": "code",
   "execution_count": 19,
   "metadata": {},
   "outputs": [],
   "source": [
    "X_data_train = X_train.copy(deep=True)\n",
    "X_data_train['Hypertension'] = y_train\n",
    "X_data_test = X_test.copy(deep=True)\n",
    "X_data_test['Hypertension'] = y_test"
   ]
  },
  {
   "cell_type": "code",
   "execution_count": 20,
   "metadata": {},
   "outputs": [
    {
     "name": "stdout",
     "output_type": "stream",
     "text": [
      "\n",
      "Model Report\n",
      "Accuracy : %.4g 0.7203190990145472\n",
      "AUC Score (Train): 0.7042632579253214]\n",
      "AUC Score (Test): 0.6935865177509678\n",
      "gbtree\n"
     ]
    },
    {
     "data": {
      "image/png": "[encoded data removed]",
      "text/plain": [
       "<Figure size 864x288 with 1 Axes>"
      ]
     },
     "metadata": {
      "needs_background": "light"
     },
     "output_type": "display_data"
    }
   ],
   "source": [
    "import pandas as pd\n",
    "import numpy as np\n",
    "import xgboost as xgb\n",
    "from xgboost.sklearn import XGBClassifier\n",
    "import sklearn.metrics as metrics\n",
    "from sklearn.model_selection import GridSearchCV\n",
    "\n",
    "import matplotlib.pylab as plt\n",
    "%matplotlib inline\n",
    "from matplotlib.pylab import rcParams\n",
    "rcParams['figure.figsize'] = 12, 4\n",
    "target = 'Hypertension'\n",
    "predictors = [x for x in X_data_train.columns if x not in [target]]\n",
    "\n",
    "xgb1 = XGBClassifier(\n",
    "        learning_rate =0.1,\n",
    "        n_estimators=1000,\n",
    "        max_depth=5,\n",
    "        min_child_weight=1,\n",
    "        gamma=0,\n",
    "        subsample=0.8,\n",
    "        colsample_bytree=0.8,\n",
    "        objective= 'binary:logistic',\n",
    "        nthread=4,\n",
    "        scale_pos_weight=1,\n",
    "        seed=84)\n",
    "modelfit(xgb1, X_data_train, X_data_test, predictors)"
   ]
  },
  {
   "cell_type": "markdown",
   "metadata": {},
   "source": [
    "## Grid seach on max_depth and min_child_weight: Initial step"
   ]
  },
  {
   "cell_type": "code",
   "execution_count": 21,
   "metadata": {},
   "outputs": [
    {
     "data": {
      "text/plain": [
       "GridSearchCV(cv=10, error_score='raise-deprecating',\n",
       "       estimator=XGBClassifier(base_score=0.5, booster='gbtree', colsample_bylevel=1,\n",
       "       colsample_bytree=0.8, gamma=0, learning_rate=0.1, max_delta_step=0,\n",
       "       max_depth=5, min_child_weight=1, missing=None, n_estimators=200,\n",
       "       n_jobs=1, nthread=4, objective='binary:logistic', random_state=0,\n",
       "       reg_alpha=0, reg_lambda=1, scale_pos_weight=1, seed=84, silent=True,\n",
       "       subsample=0.8),\n",
       "       fit_params=None, iid=False, n_jobs=4,\n",
       "       param_grid={'max_depth': range(3, 10, 2), 'min_child_weight': range(1, 10, 2)},\n",
       "       pre_dispatch='2*n_jobs', refit=True, return_train_score='warn',\n",
       "       scoring='roc_auc', verbose=0)"
      ]
     },
     "execution_count": 21,
     "metadata": {},
     "output_type": "execute_result"
    }
   ],
   "source": [
    "param_test1 = {\n",
    "    'max_depth':range(3,10,2),\n",
    "    'min_child_weight':range(1,10,2)\n",
    "}\n",
    "gsearch1 = GridSearchCV(estimator = XGBClassifier(learning_rate=0.1, n_estimators=200, max_depth=5,\n",
    "                                        min_child_weight=1, gamma=0, subsample=0.8, colsample_bytree=0.8,\n",
    "                                        objective= 'binary:logistic', nthread=4, scale_pos_weight=1, seed=84), \n",
    "                       param_grid = param_test1, scoring='roc_auc',n_jobs=4,iid=False, cv=10)\n",
    "gsearch1.fit(X_train,y_train)"
   ]
  },
  {
   "cell_type": "code",
   "execution_count": 22,
   "metadata": {},
   "outputs": [
    {
     "name": "stdout",
     "output_type": "stream",
     "text": [
      "{'max_depth': 3, 'min_child_weight': 9}\n",
      "0.67448399641236\n",
      "####################################################################################################\n"
     ]
    }
   ],
   "source": [
    "print(gsearch1.best_params_)\n",
    "print(gsearch1.best_score_)\n",
    "print(\"#\"*100)\n",
    "#gsearch1.cv_results_,gsearch1.best_params_, gsearch1.best_score_"
   ]
  },
  {
   "cell_type": "markdown",
   "metadata": {},
   "source": [
    "## Grid seach on max_depth and min_child_weight: Step 2"
   ]
  },
  {
   "cell_type": "code",
   "execution_count": 23,
   "metadata": {},
   "outputs": [
    {
     "data": {
      "text/plain": [
       "GridSearchCV(cv=10, error_score='raise-deprecating',\n",
       "       estimator=XGBClassifier(base_score=0.5, booster='gbtree', colsample_bylevel=1,\n",
       "       colsample_bytree=0.8, gamma=0, learning_rate=0.1, max_delta_step=0,\n",
       "       max_depth=3, min_child_weight=7, missing=None, n_estimators=200,\n",
       "       n_jobs=1, nthread=4, objective='binary:logistic', random_state=0,\n",
       "       reg_alpha=0, reg_lambda=1, scale_pos_weight=1, seed=84, silent=True,\n",
       "       subsample=0.8),\n",
       "       fit_params=None, iid=False, n_jobs=4,\n",
       "       param_grid={'max_depth': [1, 2, 3, 4, 5], 'min_child_weight': [7, 8, 9, 10, 11, 12]},\n",
       "       pre_dispatch='2*n_jobs', refit=True, return_train_score='warn',\n",
       "       scoring='roc_auc', verbose=0)"
      ]
     },
     "execution_count": 23,
     "metadata": {},
     "output_type": "execute_result"
    }
   ],
   "source": [
    "param_test2 = {\n",
    "    'max_depth':[1,2,3,4,5],\n",
    "    'min_child_weight':[7,8,9,10,11,12]\n",
    "}\n",
    "gsearch2 = GridSearchCV(estimator = XGBClassifier(learning_rate =0.1, n_estimators=200, max_depth=3,\n",
    "                                        min_child_weight=7, gamma=0, subsample=0.8, colsample_bytree=0.8,\n",
    "                                        objective= 'binary:logistic', nthread=4, scale_pos_weight=1, seed=84), \n",
    "                       param_grid = param_test2, scoring='roc_auc',n_jobs=4,iid=False, cv=10)\n",
    "gsearch2.fit(X_train,y_train)"
   ]
  },
  {
   "cell_type": "code",
   "execution_count": 24,
   "metadata": {},
   "outputs": [
    {
     "name": "stdout",
     "output_type": "stream",
     "text": [
      "{'max_depth': 1, 'min_child_weight': 9}\n",
      "0.6800518678375121\n",
      "####################################################################################################\n"
     ]
    }
   ],
   "source": [
    "print(gsearch2.best_params_)\n",
    "print(gsearch2.best_score_)\n",
    "print(\"#\"*100)\n",
    "#gsearch2.cv_results_,gsearch2.best_params_, gsearch2.best_score_"
   ]
  },
  {
   "cell_type": "markdown",
   "metadata": {},
   "source": [
    "## Grid seach on max_depth and min_child_weight: Double check"
   ]
  },
  {
   "cell_type": "code",
   "execution_count": 25,
   "metadata": {},
   "outputs": [
    {
     "data": {
      "text/plain": [
       "GridSearchCV(cv=10, error_score='raise-deprecating',\n",
       "       estimator=XGBClassifier(base_score=0.5, booster='gbtree', colsample_bylevel=1,\n",
       "       colsample_bytree=0.8, gamma=0, learning_rate=0.1, max_delta_step=0,\n",
       "       max_depth=2, min_child_weight=10, missing=None, n_estimators=200,\n",
       "       n_jobs=1, nthread=4, objective='binary:logistic', random_state=0,\n",
       "       reg_alpha=0, reg_lambda=1, scale_pos_weight=1, seed=84, silent=True,\n",
       "       subsample=0.8),\n",
       "       fit_params=None, iid=False, n_jobs=4,\n",
       "       param_grid={'max_depth': [1, 2, 3], 'min_child_weight': [6, 7, 8, 9, 10, 11]},\n",
       "       pre_dispatch='2*n_jobs', refit=True, return_train_score='warn',\n",
       "       scoring='roc_auc', verbose=0)"
      ]
     },
     "execution_count": 25,
     "metadata": {},
     "output_type": "execute_result"
    }
   ],
   "source": [
    "param_test3 = {\n",
    "    'max_depth':[1,2,3],\n",
    "    'min_child_weight':[6,7,8,9,10,11]\n",
    "}\n",
    "gsearch3 = GridSearchCV(estimator = XGBClassifier( learning_rate =0.1, n_estimators=200, max_depth=2,\n",
    "                                        min_child_weight=10, gamma=0, subsample=0.8, colsample_bytree=0.8,\n",
    "                                        objective= 'binary:logistic', nthread=4, scale_pos_weight=1, seed=84), \n",
    "                       param_grid = param_test3, scoring='roc_auc',n_jobs=4,iid=False, cv=10)\n",
    "gsearch3.fit(X_train,y_train)"
   ]
  },
  {
   "cell_type": "code",
   "execution_count": 26,
   "metadata": {},
   "outputs": [
    {
     "name": "stdout",
     "output_type": "stream",
     "text": [
      "{'max_depth': 1, 'min_child_weight': 9}\n",
      "0.6800518678375121\n",
      "####################################################################################################\n"
     ]
    }
   ],
   "source": [
    "print(gsearch3.best_params_)\n",
    "print(gsearch3.best_score_)\n",
    "print(\"#\"*100)\n",
    "#gsearch3.cv_results_,gsearch3.best_params_, gsearch3.best_score_"
   ]
  },
  {
   "cell_type": "markdown",
   "metadata": {},
   "source": [
    "## Grid seach on gamma: Initial step"
   ]
  },
  {
   "cell_type": "code",
   "execution_count": 27,
   "metadata": {},
   "outputs": [
    {
     "data": {
      "text/plain": [
       "GridSearchCV(cv=10, error_score='raise-deprecating',\n",
       "       estimator=XGBClassifier(base_score=0.5, booster='gbtree', colsample_bylevel=1,\n",
       "       colsample_bytree=0.8, gamma=0, learning_rate=0.1, max_delta_step=0,\n",
       "       max_depth=1, min_child_weight=9, missing=None, n_estimators=200,\n",
       "       n_jobs=1, nthread=4, objective='binary:logistic', random_state=0,\n",
       "       reg_alpha=0, reg_lambda=1, scale_pos_weight=1, seed=84, silent=True,\n",
       "       subsample=0.8),\n",
       "       fit_params=None, iid=False, n_jobs=4,\n",
       "       param_grid={'gamma': [0.0, 0.1, 0.2, 0.3, 0.4]},\n",
       "       pre_dispatch='2*n_jobs', refit=True, return_train_score='warn',\n",
       "       scoring='roc_auc', verbose=0)"
      ]
     },
     "execution_count": 27,
     "metadata": {},
     "output_type": "execute_result"
    }
   ],
   "source": [
    "\n",
    "#Choose all predictors except target & IDcols\n",
    "param_test4 = {\n",
    "    'gamma':[i/10.0 for i in range(0,5)]\n",
    "}\n",
    "gsearch4 = GridSearchCV(estimator = XGBClassifier(learning_rate =0.1, n_estimators=200, max_depth=1,\n",
    "                                        min_child_weight=9, gamma=0, subsample=0.8, colsample_bytree=0.8,\n",
    "                                        objective= 'binary:logistic', nthread=4, scale_pos_weight=1,seed=84), \n",
    "                       param_grid = param_test4, scoring='roc_auc',n_jobs=4,iid=False, cv=10)\n",
    "gsearch4.fit(X_train,y_train)"
   ]
  },
  {
   "cell_type": "code",
   "execution_count": 28,
   "metadata": {},
   "outputs": [
    {
     "name": "stdout",
     "output_type": "stream",
     "text": [
      "{'gamma': 0.2}\n",
      "0.6800529977892655\n",
      "####################################################################################################\n"
     ]
    }
   ],
   "source": [
    "print(gsearch4.best_params_)\n",
    "print(gsearch4.best_score_)\n",
    "print(\"#\"*100)\n",
    "# gsearch4.cv_results_,gsearch4.best_params_, gsearch4.best_score_"
   ]
  },
  {
   "cell_type": "markdown",
   "metadata": {},
   "source": [
    "# Evaluate importance and accuracy"
   ]
  },
  {
   "cell_type": "code",
   "execution_count": 29,
   "metadata": {},
   "outputs": [
    {
     "name": "stdout",
     "output_type": "stream",
     "text": [
      "\n",
      "Model Report\n",
      "Accuracy : %.4g 0.7154700453621148\n",
      "AUC Score (Train): 0.6909854166816229]\n",
      "AUC Score (Test): 0.6827884067211493\n",
      "gbtree\n"
     ]
    },
    {
     "data": {
      "image/png": "[encoded data removed]",
      "text/plain": [
       "<Figure size 864x288 with 1 Axes>"
      ]
     },
     "metadata": {
      "needs_background": "light"
     },
     "output_type": "display_data"
    }
   ],
   "source": [
    "predictors = [x for x in X_data_train.columns if x not in [target]]\n",
    "xgb2 = XGBClassifier(\n",
    "        learning_rate =0.1,\n",
    "        n_estimators=1000,\n",
    "        max_depth=2,\n",
    "        min_child_weight=4,\n",
    "        gamma=0,\n",
    "        subsample=0.8,\n",
    "        colsample_bytree=0.8,\n",
    "        objective= 'binary:logistic',\n",
    "        nthread=4,\n",
    "        scale_pos_weight=1,\n",
    "        seed=84)\n",
    "modelfit(xgb2, X_data_train, X_data_test, predictors)"
   ]
  },
  {
   "cell_type": "markdown",
   "metadata": {},
   "source": [
    "## Grid seach on subsample and colsample_bytree: Initial step"
   ]
  },
  {
   "cell_type": "code",
   "execution_count": 30,
   "metadata": {},
   "outputs": [
    {
     "data": {
      "text/plain": [
       "GridSearchCV(cv=10, error_score='raise-deprecating',\n",
       "       estimator=XGBClassifier(base_score=0.5, booster='gbtree', colsample_bylevel=1,\n",
       "       colsample_bytree=0.8, gamma=0.2, learning_rate=0.1,\n",
       "       max_delta_step=0, max_depth=1, min_child_weight=9, missing=None,\n",
       "       n_estimators=200, n_jobs=1, nthread=4, objective='binary:logistic',\n",
       "       random_state=0, reg_alpha=0, reg_lambda=1, scale_pos_weight=1,\n",
       "       seed=84, silent=True, subsample=0.8),\n",
       "       fit_params=None, iid=False, n_jobs=4,\n",
       "       param_grid={'subsample': [0.6, 0.7, 0.8, 0.9], 'colsample_bytree': [0.6, 0.7, 0.8, 0.9]},\n",
       "       pre_dispatch='2*n_jobs', refit=True, return_train_score='warn',\n",
       "       scoring='roc_auc', verbose=0)"
      ]
     },
     "execution_count": 30,
     "metadata": {},
     "output_type": "execute_result"
    }
   ],
   "source": [
    "#Choose all predictors except target & IDcols\n",
    "param_test5 = {\n",
    "    'subsample':[i/10.0 for i in range(6,10)],\n",
    "    'colsample_bytree':[i/10.0 for i in range(6,10)]\n",
    "}\n",
    "gsearch5 = GridSearchCV(estimator = XGBClassifier(learning_rate =0.1, n_estimators=200, max_depth=1,\n",
    "                                        min_child_weight=9, gamma=0.2, subsample=0.8, colsample_bytree=0.8,\n",
    "                                        objective= 'binary:logistic', nthread=4, scale_pos_weight=1,seed=84), \n",
    "                       param_grid = param_test5, scoring='roc_auc',n_jobs=4,iid=False, cv=10)\n",
    "gsearch5.fit(X_train,y_train)"
   ]
  },
  {
   "cell_type": "code",
   "execution_count": 31,
   "metadata": {},
   "outputs": [
    {
     "name": "stdout",
     "output_type": "stream",
     "text": [
      "{'colsample_bytree': 0.9, 'subsample': 0.6}\n",
      "0.6814171211299479\n",
      "####################################################################################################\n"
     ]
    }
   ],
   "source": [
    "print(gsearch5.best_params_)\n",
    "print(gsearch5.best_score_)\n",
    "print(\"#\"*100)\n",
    "#gsearch5.cv_results_,gsearch5.best_params_, gsearch5.best_score_"
   ]
  },
  {
   "cell_type": "markdown",
   "metadata": {},
   "source": [
    "## Grid seach on subsample and colsample_bytree: Fine-tune"
   ]
  },
  {
   "cell_type": "code",
   "execution_count": 32,
   "metadata": {},
   "outputs": [
    {
     "data": {
      "text/plain": [
       "GridSearchCV(cv=10, error_score='raise-deprecating',\n",
       "       estimator=XGBClassifier(base_score=0.5, booster='gbtree', colsample_bylevel=1,\n",
       "       colsample_bytree=0.8, gamma=0.2, learning_rate=0.1,\n",
       "       max_delta_step=0, max_depth=1, min_child_weight=9, missing=None,\n",
       "       n_estimators=200, n_jobs=1, nthread=4, objective='binary:logistic',\n",
       "       random_state=0, reg_alpha=0, reg_lambda=1, scale_pos_weight=1,\n",
       "       seed=84, silent=True, subsample=0.8),\n",
       "       fit_params=None, iid=False, n_jobs=4,\n",
       "       param_grid={'subsample': [0.45, 0.5, 0.55, 0.6, 0.65, 0.7], 'colsample_bytree': [0.75, 0.8, 0.85, 0.9, 0.95]},\n",
       "       pre_dispatch='2*n_jobs', refit=True, return_train_score='warn',\n",
       "       scoring='roc_auc', verbose=0)"
      ]
     },
     "execution_count": 32,
     "metadata": {},
     "output_type": "execute_result"
    }
   ],
   "source": [
    "#Choose all predictors except target & IDcols\n",
    "param_test6 = {\n",
    "    'subsample':[i/100.0 for i in range(45,75,5)],\n",
    "    'colsample_bytree':[i/100.0 for i in range(75,100,5)]\n",
    "}\n",
    "gsearch6 = GridSearchCV(estimator = XGBClassifier(learning_rate =0.1, n_estimators=200, max_depth=1,\n",
    "                                        min_child_weight=9, gamma=0.2, subsample=0.8, colsample_bytree=0.8,\n",
    "                                        objective= 'binary:logistic', nthread=4, scale_pos_weight=1,seed=84), \n",
    "                       param_grid = param_test6, scoring='roc_auc',n_jobs=4,iid=False, cv=10)\n",
    "gsearch6.fit(X_train,y_train)"
   ]
  },
  {
   "cell_type": "code",
   "execution_count": 33,
   "metadata": {},
   "outputs": [
    {
     "name": "stdout",
     "output_type": "stream",
     "text": [
      "{'colsample_bytree': 0.85, 'subsample': 0.55}\n",
      "0.6814362965934094\n",
      "####################################################################################################\n"
     ]
    }
   ],
   "source": [
    "print(gsearch6.best_params_)\n",
    "print(gsearch6.best_score_)\n",
    "print(\"#\"*100)\n",
    "#gsearch6.cv_results_,gsearch6.best_params_, gsearch6.best_score_"
   ]
  },
  {
   "cell_type": "markdown",
   "metadata": {},
   "source": [
    "## Grid seach on reg_alpha: Initial step"
   ]
  },
  {
   "cell_type": "code",
   "execution_count": 34,
   "metadata": {},
   "outputs": [
    {
     "data": {
      "text/plain": [
       "GridSearchCV(cv=10, error_score='raise-deprecating',\n",
       "       estimator=XGBClassifier(base_score=0.5, booster='gbtree', colsample_bylevel=1,\n",
       "       colsample_bytree=0.85, gamma=0.2, learning_rate=0.1,\n",
       "       max_delta_step=0, max_depth=1, min_child_weight=9, missing=None,\n",
       "       n_estimators=200, n_jobs=1, nthread=4, objective='binary:logistic',\n",
       "       random_state=0, reg_alpha=0, reg_lambda=1, scale_pos_weight=1,\n",
       "       seed=84, silent=True, subsample=0.55),\n",
       "       fit_params=None, iid=False, n_jobs=4,\n",
       "       param_grid={'reg_alpha': [1e-05, 0.01, 0.1, 1, 100]},\n",
       "       pre_dispatch='2*n_jobs', refit=True, return_train_score='warn',\n",
       "       scoring='roc_auc', verbose=0)"
      ]
     },
     "execution_count": 34,
     "metadata": {},
     "output_type": "execute_result"
    }
   ],
   "source": [
    "#Choose all predictors except target & IDcols\n",
    "param_test7 = {\n",
    "    'reg_alpha':[1e-5, 1e-2, 0.1, 1, 100]\n",
    "}\n",
    "gsearch7 = GridSearchCV(estimator = XGBClassifier(learning_rate=0.1, n_estimators=200, max_depth=1,\n",
    "                                        min_child_weight=9, gamma=0.2, subsample=0.55, colsample_bytree=0.85,\n",
    "                                        objective= 'binary:logistic', nthread=4, scale_pos_weight=1,seed=84), \n",
    "                       param_grid = param_test7, scoring='roc_auc',n_jobs=4,iid=False, cv=10)\n",
    "gsearch7.fit(X_train,y_train)"
   ]
  },
  {
   "cell_type": "code",
   "execution_count": 35,
   "metadata": {},
   "outputs": [
    {
     "name": "stdout",
     "output_type": "stream",
     "text": [
      "{'reg_alpha': 1e-05}\n",
      "0.6814362965934094\n",
      "####################################################################################################\n"
     ]
    }
   ],
   "source": [
    "print(gsearch7.best_params_)\n",
    "print(gsearch7.best_score_)\n",
    "print(\"#\"*100)\n",
    "#gsearch7.cv_results_,gsearch7.best_params_, gsearch7.best_score_\n"
   ]
  },
  {
   "cell_type": "markdown",
   "metadata": {},
   "source": [
    "## Grid seach on reg_alpha: Fine-tune"
   ]
  },
  {
   "cell_type": "code",
   "execution_count": 36,
   "metadata": {},
   "outputs": [
    {
     "data": {
      "text/plain": [
       "GridSearchCV(cv=10, error_score='raise-deprecating',\n",
       "       estimator=XGBClassifier(base_score=0.5, booster='gbtree', colsample_bylevel=1,\n",
       "       colsample_bytree=0.85, gamma=0.2, learning_rate=0.1,\n",
       "       max_delta_step=0, max_depth=1, min_child_weight=9, missing=None,\n",
       "       n_estimators=200, n_jobs=1, nthread=4, objective='binary:logistic',\n",
       "       random_state=0, reg_alpha=0, reg_lambda=1, scale_pos_weight=1,\n",
       "       seed=84, silent=True, subsample=0.55),\n",
       "       fit_params=None, iid=False, n_jobs=4,\n",
       "       param_grid={'reg_alpha': [1e-07, 5e-07, 1e-06, 5e-06, 1e-05, 0.0005, 0.0001]},\n",
       "       pre_dispatch='2*n_jobs', refit=True, return_train_score='warn',\n",
       "       scoring='roc_auc', verbose=0)"
      ]
     },
     "execution_count": 36,
     "metadata": {},
     "output_type": "execute_result"
    }
   ],
   "source": [
    "#Choose all predictors except target & IDcols\n",
    "param_test8 = {\n",
    "    'reg_alpha':[1e-7, 5e-7, 1e-6, 5e-6, 1e-5, 5e-4, 1e-4]\n",
    "}\n",
    "gsearch8 = GridSearchCV(estimator = XGBClassifier(learning_rate=0.1, n_estimators=200, max_depth=1,\n",
    "                                        min_child_weight=9, gamma=0.2, subsample=0.55, colsample_bytree=0.85,\n",
    "                                        objective= 'binary:logistic', nthread=4, scale_pos_weight=1,seed=84), \n",
    "                       param_grid = param_test8, scoring='roc_auc',n_jobs=4,iid=False, cv=10)\n",
    "gsearch8.fit(X_train,y_train)"
   ]
  },
  {
   "cell_type": "code",
   "execution_count": 37,
   "metadata": {},
   "outputs": [
    {
     "name": "stdout",
     "output_type": "stream",
     "text": [
      "{'reg_alpha': 1e-07}\n",
      "0.6814362965934094\n",
      "####################################################################################################\n"
     ]
    }
   ],
   "source": [
    "print(gsearch8.best_params_)\n",
    "print(gsearch8.best_score_)\n",
    "print(\"#\"*100)\n",
    "# gsearch8.cv_results_,gsearch8.best_params_, gsearch8.best_score_"
   ]
  },
  {
   "cell_type": "code",
   "execution_count": 38,
   "metadata": {},
   "outputs": [
    {
     "name": "stdout",
     "output_type": "stream",
     "text": [
      "\n",
      "Model Report\n",
      "Accuracy : %.4g 0.7142186766776162\n",
      "AUC Score (Train): 0.6883541991217077]\n",
      "AUC Score (Test): 0.6998282219627161\n",
      "gbtree\n"
     ]
    },
    {
     "data": {
      "image/png": "[encoded data removed]",
      "text/plain": [
       "<Figure size 864x288 with 1 Axes>"
      ]
     },
     "metadata": {
      "needs_background": "light"
     },
     "output_type": "display_data"
    }
   ],
   "source": [
    "xgb3 = XGBClassifier(\n",
    "        learning_rate =0.2,\n",
    "        n_estimators=1000,\n",
    "        max_depth=1,\n",
    "        min_child_weight=9,\n",
    "        gamma=0.2,\n",
    "        subsample=0.55,\n",
    "        colsample_bytree=0.85,\n",
    "        reg_alpha=1e-05,\n",
    "        objective= 'binary:logistic',\n",
    "        nthread=4,\n",
    "        scale_pos_weight=1,\n",
    "        seed=84)\n",
    "modelfit(xgb3, X_data_train, X_data_test, predictors)"
   ]
  },
  {
   "cell_type": "markdown",
   "metadata": {},
   "source": [
    "# Predicting hypertension prevalence using SVRS 2013, 2014 and 2017 data\n",
    "\n",
    "- SVRS 2012: DBF\n",
    "- SVRS 2013: SAV\n",
    "- SVRS 2014: SAV\n",
    "- SVRS 2015: DBF\n",
    "- SVRS 2017: DTA"
   ]
  },
  {
   "cell_type": "code",
   "execution_count": 39,
   "metadata": {},
   "outputs": [
    {
     "name": "stdout",
     "output_type": "stream",
     "text": [
      "Predicted  False  True  __all__\n",
      "Actual                         \n",
      "False         17     5       22\n",
      "True           5     4        9\n",
      "__all__       22     9       31\n"
     ]
    }
   ],
   "source": [
    "from sklearn.metrics import confusion_matrix\n",
    "y_predicted = xgb3.predict_proba(X_test)\n",
    "y_predicted = y_predicted[:,1]\n",
    "y_predicted = np.where(y_predicted > 0.35, 1, 0)\n",
    "cm1= pd_ml.ConfusionMatrix(y_pred=y_predicted, y_true=y_test,)\n",
    "cm2 = confusion_matrix(y_pred=y_predicted, y_true=y_test,)\n",
    "print(cm1)"
   ]
  },
  {
   "cell_type": "code",
   "execution_count": 40,
   "metadata": {},
   "outputs": [
    {
     "name": "stdout",
     "output_type": "stream",
     "text": [
      "              precision    recall  f1-score   support\n",
      "\n",
      "           0       0.78      0.71      0.74      1107\n",
      "           1       0.46      0.56      0.51       492\n",
      "\n",
      "   micro avg       0.66      0.66      0.66      1599\n",
      "   macro avg       0.62      0.63      0.62      1599\n",
      "weighted avg       0.68      0.66      0.67      1599\n",
      "\n"
     ]
    }
   ],
   "source": [
    "from sklearn.metrics import average_precision_score\n",
    "print(classification_report(y_test, y_predicted))"
   ]
  },
  {
   "cell_type": "code",
   "execution_count": 41,
   "metadata": {},
   "outputs": [],
   "source": [
    "import os\n",
    "import sys\n",
    "import glob\n",
    "import tzlocal\n",
    "import numpy as np\n",
    "import pandas as pd\n",
    "from scipy import io\n",
    "from dbfread import DBF\n",
    "from collections import Counter\n",
    "import matplotlib.pyplot as plt\n",
    "import rpy2.robjects as robjects\n",
    "from rpy2.robjects import packages\n",
    "from rpy2.robjects import pandas2ri\n",
    "from simpledbf import Dbf5\n",
    "from dbfread import DBF\n",
    "\n",
    "def read_dbf(file):\n",
    "    tmp = DBF(file)\n",
    "    tmp = pd.DataFrame(iter(tmp))\n",
    "    return tmp\n",
    "\n",
    "def read_sav(file):\n",
    "    foreign = packages.importr('foreign')\n",
    "    pandas2ri.activate()\n",
    "    df = foreign.read_spss(file, reencode=False)\n",
    "    return pd.DataFrame(dict(zip(df.names, map(list,list(df)))))\n",
    "\n",
    "def read_svrs(file):\n",
    "    itr = pd.read_stata(file, iterator=True)\n",
    "    variables = list(itr.variable_labels().values())\n",
    "    data = pd.read_stata(os.path.join(file))\n",
    "    original_variables = list(data.columns)\n",
    "    data.columns = variables\n",
    "    return data, original_variables"
   ]
  },
  {
   "cell_type": "code",
   "execution_count": 42,
   "metadata": {},
   "outputs": [],
   "source": [
    "SVRS2012 = '/Users/edinhamzic/Symphony/wb_bangladesh/Bangladesh/data/bbs/svrs/SVRS_12/tafsil-2p.dbf'\n",
    "SVRS2013 = '/Users/edinhamzic/Symphony/wb_bangladesh/Bangladesh/data/bbs/svrs/SVRS_13/pop_hh_14-05-2015.sav'\n",
    "SVRS2014 = '/Users/edinhamzic/Symphony/wb_bangladesh/Bangladesh/data/bbs/svrs/SVRS_14/tafsil2P_12-06-2015.sav'\n",
    "SVRS2015 = '/Users/edinhamzic/Symphony/wb_bangladesh/Bangladesh/data/bbs/svrs/SVRS_15/tafsil-2p.dbf'\n",
    "SVRS2017 = '/Users/edinhamzic/Symphony/wb_bangladesh/Bangladesh/data/bbs/svrs/SVRS_17/tafsl-2p.dta'\n",
    "variables = ['Education', 'Age', 'Urban/Rural', 'Gender']"
   ]
  },
  {
   "cell_type": "markdown",
   "metadata": {},
   "source": [
    "## SVRS2012"
   ]
  },
  {
   "cell_type": "code",
   "execution_count": 43,
   "metadata": {},
   "outputs": [
    {
     "data": {
      "text/html": [
       "<div>\n",
       "<style scoped>\n",
       "    .dataframe tbody tr th:only-of-type {\n",
       "        vertical-align: middle;\n",
       "    }\n",
       "\n",
       "    .dataframe tbody tr th {\n",
       "        vertical-align: top;\n",
       "    }\n",
       "\n",
       "    .dataframe thead th {\n",
       "        text-align: right;\n",
       "    }\n",
       "</style>\n",
       "<table border=\"1\" class=\"dataframe\">\n",
       "  <thead>\n",
       "    <tr style=\"text-align: right;\">\n",
       "      <th></th>\n",
       "      <th>Education</th>\n",
       "      <th>Age</th>\n",
       "      <th>Urban/Rural_1</th>\n",
       "      <th>Urban/Rural_2</th>\n",
       "      <th>Gender_1</th>\n",
       "      <th>Gender_2</th>\n",
       "    </tr>\n",
       "  </thead>\n",
       "  <tbody>\n",
       "    <tr>\n",
       "      <th>0</th>\n",
       "      <td>10</td>\n",
       "      <td>60</td>\n",
       "      <td>1</td>\n",
       "      <td>0</td>\n",
       "      <td>1</td>\n",
       "      <td>0</td>\n",
       "    </tr>\n",
       "    <tr>\n",
       "      <th>1</th>\n",
       "      <td>8</td>\n",
       "      <td>41</td>\n",
       "      <td>1</td>\n",
       "      <td>0</td>\n",
       "      <td>1</td>\n",
       "      <td>0</td>\n",
       "    </tr>\n",
       "    <tr>\n",
       "      <th>2</th>\n",
       "      <td>8</td>\n",
       "      <td>14</td>\n",
       "      <td>1</td>\n",
       "      <td>0</td>\n",
       "      <td>1</td>\n",
       "      <td>0</td>\n",
       "    </tr>\n",
       "    <tr>\n",
       "      <th>3</th>\n",
       "      <td>11</td>\n",
       "      <td>19</td>\n",
       "      <td>1</td>\n",
       "      <td>0</td>\n",
       "      <td>1</td>\n",
       "      <td>0</td>\n",
       "    </tr>\n",
       "    <tr>\n",
       "      <th>4</th>\n",
       "      <td>5</td>\n",
       "      <td>48</td>\n",
       "      <td>1</td>\n",
       "      <td>0</td>\n",
       "      <td>1</td>\n",
       "      <td>0</td>\n",
       "    </tr>\n",
       "  </tbody>\n",
       "</table>\n",
       "</div>"
      ],
      "text/plain": [
       "   Education  Age  Urban/Rural_1  Urban/Rural_2  Gender_1  Gender_2\n",
       "0         10   60              1              0         1         0\n",
       "1          8   41              1              0         1         0\n",
       "2          8   14              1              0         1         0\n",
       "3         11   19              1              0         1         0\n",
       "4          5   48              1              0         1         0"
      ]
     },
     "execution_count": 43,
     "metadata": {},
     "output_type": "execute_result"
    }
   ],
   "source": [
    "data_svrs2012r = read_dbf(SVRS2012)\n",
    "data_svrs2012 = data_svrs2012r.copy(deep=True)\n",
    "data_svrs2012 = data_svrs2012r[['Q_16', 'Q_11', 'RMO', 'Q_12']]\n",
    "data_svrs2012.columns = variables\n",
    "data_svrs2012 = data_svrs2012[data_svrs2012['Education'] != 99]\n",
    "data_svrs2012r = data_svrs2012r[data_svrs2012r['Q_16'] != 99]\n",
    "data_svrs2012['Urban/Rural'] = np.where(data_svrs2012['Urban/Rural'] != '1', 2, 1)\n",
    "data_svrs2012['Urban/Rural'] = data_svrs2012['Urban/Rural'].astype(int).astype('category')\n",
    "data_svrs2012['Gender'] = data_svrs2012['Urban/Rural'].astype(int).astype('category')\n",
    "data_svrs2012 = pd.get_dummies(data_svrs2012)\n",
    "data_svrs2012.head()"
   ]
  },
  {
   "cell_type": "markdown",
   "metadata": {},
   "source": [
    "## SVRS2013"
   ]
  },
  {
   "cell_type": "code",
   "execution_count": 45,
   "metadata": {},
   "outputs": [],
   "source": [
    "# data_svrs2013r = read_sav(SVRS2013)\n",
    "# print(data_svrs2013.columns)\n",
    "# print(data_svrs2013['Q11'].value_counts().sort_index()) # Age\n",
    "# print(data_svrs2013['Q12'].value_counts().sort_index()) # Sex\n",
    "# !!! Education correction: print(data_svrs2013['Q16'].value_counts()) # Education\n",
    "# !!! print(data_svrs2013['RMO'].value_counts()) # Have to check three levels: of RMO"
   ]
  },
  {
   "cell_type": "markdown",
   "metadata": {},
   "source": [
    "## SVRS2014"
   ]
  },
  {
   "cell_type": "code",
   "execution_count": 46,
   "metadata": {},
   "outputs": [],
   "source": [
    "# print(data_svrs2014.columns)\n",
    "# print(data_svrs2014['Q11'].value_counts().sort_index()) # Age\n",
    "# print(data_svrs2014['Q16'].value_counts().sort_index()) # Education\n",
    "# print(data_svrs2014['Q12'].value_counts()) # Sex\n",
    "# print(data_svrs2014['RMO'].value_counts()) # Have to check three levels: of RMO"
   ]
  },
  {
   "cell_type": "code",
   "execution_count": 54,
   "metadata": {},
   "outputs": [
    {
     "name": "stdout",
     "output_type": "stream",
     "text": [
      "1    340701\n",
      "2    276382\n",
      "Name: Urban/Rural, dtype: int64\n"
     ]
    },
    {
     "data": {
      "text/html": [
       "<div>\n",
       "<style scoped>\n",
       "    .dataframe tbody tr th:only-of-type {\n",
       "        vertical-align: middle;\n",
       "    }\n",
       "\n",
       "    .dataframe tbody tr th {\n",
       "        vertical-align: top;\n",
       "    }\n",
       "\n",
       "    .dataframe thead th {\n",
       "        text-align: right;\n",
       "    }\n",
       "</style>\n",
       "<table border=\"1\" class=\"dataframe\">\n",
       "  <thead>\n",
       "    <tr style=\"text-align: right;\">\n",
       "      <th></th>\n",
       "      <th>Education</th>\n",
       "      <th>Age</th>\n",
       "      <th>Urban/Rural_1</th>\n",
       "      <th>Urban/Rural_2</th>\n",
       "      <th>Gender_1</th>\n",
       "      <th>Gender_2</th>\n",
       "    </tr>\n",
       "  </thead>\n",
       "  <tbody>\n",
       "    <tr>\n",
       "      <th>0</th>\n",
       "      <td>13</td>\n",
       "      <td>52</td>\n",
       "      <td>0</td>\n",
       "      <td>1</td>\n",
       "      <td>1</td>\n",
       "      <td>0</td>\n",
       "    </tr>\n",
       "    <tr>\n",
       "      <th>1</th>\n",
       "      <td>9</td>\n",
       "      <td>42</td>\n",
       "      <td>0</td>\n",
       "      <td>1</td>\n",
       "      <td>0</td>\n",
       "      <td>1</td>\n",
       "    </tr>\n",
       "    <tr>\n",
       "      <th>2</th>\n",
       "      <td>5</td>\n",
       "      <td>12</td>\n",
       "      <td>0</td>\n",
       "      <td>1</td>\n",
       "      <td>1</td>\n",
       "      <td>0</td>\n",
       "    </tr>\n",
       "    <tr>\n",
       "      <th>3</th>\n",
       "      <td>10</td>\n",
       "      <td>20</td>\n",
       "      <td>0</td>\n",
       "      <td>1</td>\n",
       "      <td>1</td>\n",
       "      <td>0</td>\n",
       "    </tr>\n",
       "    <tr>\n",
       "      <th>4</th>\n",
       "      <td>11</td>\n",
       "      <td>27</td>\n",
       "      <td>0</td>\n",
       "      <td>1</td>\n",
       "      <td>1</td>\n",
       "      <td>0</td>\n",
       "    </tr>\n",
       "  </tbody>\n",
       "</table>\n",
       "</div>"
      ],
      "text/plain": [
       "   Education  Age  Urban/Rural_1  Urban/Rural_2  Gender_1  Gender_2\n",
       "0         13   52              0              1         1         0\n",
       "1          9   42              0              1         0         1\n",
       "2          5   12              0              1         1         0\n",
       "3         10   20              0              1         1         0\n",
       "4         11   27              0              1         1         0"
      ]
     },
     "execution_count": 54,
     "metadata": {},
     "output_type": "execute_result"
    }
   ],
   "source": [
    "data_svrs2014r = read_sav(SVRS2014)\n",
    "data_svrs2014 = data_svrs2014r.copy(deep=True)\n",
    "data_svrs2014 = data_svrs2014[data_svrs2014['Q16'].notna()]\n",
    "data_svrs2014 = data_svrs2014[data_svrs2014['Q16'] != 'Other']\n",
    "data_svrs2014 = data_svrs2014[data_svrs2014['Q16'] != '4.05']\n",
    "data_svrs2014 = data_svrs2014[data_svrs2014['Q16'] != '99']\n",
    "data_svrs2014 = data_svrs2014[['Q16', 'Q11', 'RMO', 'Q12']]\n",
    "data_svrs2014.columns = variables\n",
    "data_svrs2014['Education'] = data_svrs2014['Education'].astype(int)\n",
    "data_svrs2014['Age'] = data_svrs2014['Age'].astype(int)\n",
    "data_svrs2014['Urban/Rural'] = np.where(data_svrs2014['Urban/Rural'] != 'Rural', 2, 1)\n",
    "print(data_svrs2014['Urban/Rural'].value_counts())\n",
    "data_svrs2014['Urban/Rural'] = data_svrs2014['Urban/Rural'].astype(int).astype('category')\n",
    "data_svrs2014['Gender'] = np.where(data_svrs2014['Gender'] == 'Male', 1, 2)\n",
    "data_svrs2014['Gender'] = data_svrs2014['Gender'].astype(int).astype('category')\n",
    "data_svrs2014 = data_svrs2014[data_svrs2014['Education'] != 99]\n",
    "data_svrs2014r = data_svrs2014r[data_svrs2014r['Q16'].notna()]\n",
    "data_svrs2014r = data_svrs2014r[data_svrs2014r['Q16'] != 'Other']\n",
    "data_svrs2014r = data_svrs2014r[data_svrs2014r['Q16'] != '4.05']\n",
    "data_svrs2014r = data_svrs2014r[data_svrs2014r['Q16'] != '99']\n",
    "data_svrs2014 = pd.get_dummies(data_svrs2014)\n",
    "data_svrs2014.head()"
   ]
  },
  {
   "cell_type": "markdown",
   "metadata": {},
   "source": [
    "## SVRS2015"
   ]
  },
  {
   "cell_type": "code",
   "execution_count": 49,
   "metadata": {},
   "outputs": [],
   "source": [
    "# print(data_svrs2015.columns)\n",
    "# print(data_svrs2015['Q_11'].value_counts().sort_index()) # Sex\n",
    "# print(data_svrs2015['Q_10'].value_counts().sort_index()) # Age\n",
    "# print(data_svrs2015['Q_16'].value_counts().sort_index()) # Education\n",
    "# print(data_svrs2015['RMO'].value_counts()) # Have to check three levels: of RMO"
   ]
  },
  {
   "cell_type": "code",
   "execution_count": 50,
   "metadata": {},
   "outputs": [
    {
     "name": "stdout",
     "output_type": "stream",
     "text": [
      "['Education', 'Age', 'Urban/Rural', 'Gender']\n",
      "Education       int64\n",
      "Age             int64\n",
      "Urban/Rural    object\n",
      "Gender          int64\n",
      "dtype: object\n",
      "1    566180\n",
      "2    215170\n",
      "3    136643\n",
      "4     20425\n",
      "Name: Urban/Rural, dtype: int64\n",
      "1    566180\n",
      "2    372238\n",
      "Name: Urban/Rural, dtype: int64\n"
     ]
    },
    {
     "data": {
      "text/html": [
       "<div>\n",
       "<style scoped>\n",
       "    .dataframe tbody tr th:only-of-type {\n",
       "        vertical-align: middle;\n",
       "    }\n",
       "\n",
       "    .dataframe tbody tr th {\n",
       "        vertical-align: top;\n",
       "    }\n",
       "\n",
       "    .dataframe thead th {\n",
       "        text-align: right;\n",
       "    }\n",
       "</style>\n",
       "<table border=\"1\" class=\"dataframe\">\n",
       "  <thead>\n",
       "    <tr style=\"text-align: right;\">\n",
       "      <th></th>\n",
       "      <th>Education</th>\n",
       "      <th>Age</th>\n",
       "      <th>Urban/Rural_1</th>\n",
       "      <th>Urban/Rural_2</th>\n",
       "      <th>Gender_1</th>\n",
       "      <th>Gender_2</th>\n",
       "    </tr>\n",
       "  </thead>\n",
       "  <tbody>\n",
       "    <tr>\n",
       "      <th>0</th>\n",
       "      <td>13</td>\n",
       "      <td>53</td>\n",
       "      <td>0</td>\n",
       "      <td>1</td>\n",
       "      <td>1</td>\n",
       "      <td>0</td>\n",
       "    </tr>\n",
       "    <tr>\n",
       "      <th>1</th>\n",
       "      <td>9</td>\n",
       "      <td>43</td>\n",
       "      <td>0</td>\n",
       "      <td>1</td>\n",
       "      <td>0</td>\n",
       "      <td>1</td>\n",
       "    </tr>\n",
       "    <tr>\n",
       "      <th>2</th>\n",
       "      <td>6</td>\n",
       "      <td>13</td>\n",
       "      <td>0</td>\n",
       "      <td>1</td>\n",
       "      <td>1</td>\n",
       "      <td>0</td>\n",
       "    </tr>\n",
       "    <tr>\n",
       "      <th>3</th>\n",
       "      <td>10</td>\n",
       "      <td>21</td>\n",
       "      <td>0</td>\n",
       "      <td>1</td>\n",
       "      <td>1</td>\n",
       "      <td>0</td>\n",
       "    </tr>\n",
       "    <tr>\n",
       "      <th>4</th>\n",
       "      <td>7</td>\n",
       "      <td>46</td>\n",
       "      <td>0</td>\n",
       "      <td>1</td>\n",
       "      <td>1</td>\n",
       "      <td>0</td>\n",
       "    </tr>\n",
       "  </tbody>\n",
       "</table>\n",
       "</div>"
      ],
      "text/plain": [
       "   Education  Age  Urban/Rural_1  Urban/Rural_2  Gender_1  Gender_2\n",
       "0         13   53              0              1         1         0\n",
       "1          9   43              0              1         0         1\n",
       "2          6   13              0              1         1         0\n",
       "3         10   21              0              1         1         0\n",
       "4          7   46              0              1         1         0"
      ]
     },
     "execution_count": 50,
     "metadata": {},
     "output_type": "execute_result"
    }
   ],
   "source": [
    "data_svrs2015r = read_dbf(SVRS2015)\n",
    "data_svrs2015 = data_svrs2015r.copy(deep=True)\n",
    "print(variables)\n",
    "data_svrs2015 = data_svrs2015[['Q_16', 'Q_10', 'RMO', 'Q_11']]\n",
    "data_svrs2015.columns = variables\n",
    "data_svrs2015 = data_svrs2015[data_svrs2015['Education'] != 99]\n",
    "print(data_svrs2015.dtypes)\n",
    "print(data_svrs2015['Urban/Rural'].value_counts())\n",
    "data_svrs2015['Urban/Rural'] = np.where(data_svrs2015['Urban/Rural'] != '1', 2, 1)\n",
    "print(data_svrs2015['Urban/Rural'].value_counts())\n",
    "data_svrs2015['Urban/Rural'] = data_svrs2015['Urban/Rural'].astype(int).astype('category')\n",
    "data_svrs2015['Gender'] = data_svrs2015['Gender'].astype(int).astype('category')\n",
    "data_svrs2015 = data_svrs2015[data_svrs2015['Education'] != 99]\n",
    "data_svrs2015r = data_svrs2015r[data_svrs2015r['Q_16'] != 99]\n",
    "data_svrs2015 = pd.get_dummies(data_svrs2015)\n",
    "data_svrs2015.head()"
   ]
  },
  {
   "cell_type": "markdown",
   "metadata": {},
   "source": [
    "## SVRS2017"
   ]
  },
  {
   "cell_type": "code",
   "execution_count": 51,
   "metadata": {},
   "outputs": [],
   "source": [
    "# print(data_svrs2017.columns)\n",
    "# print(data_svrs2017['Q_11'].value_counts().sort_index()) # Sex\n",
    "# print(data_svrs2017['Q_10'].value_counts().sort_index()) # Age\n",
    "# print(data_svrs2017['Q_16'].value_counts().sort_index()) # Education\n",
    "# print(data_svrs2017['RMO'].value_counts()) # Have to check three levels: of RMO"
   ]
  },
  {
   "cell_type": "code",
   "execution_count": 52,
   "metadata": {},
   "outputs": [
    {
     "name": "stdout",
     "output_type": "stream",
     "text": [
      "(1252581, 4)\n",
      "1    699584\n",
      "2    210929\n",
      "Name: Urban/Rural, dtype: int64\n",
      "1.0    455602\n",
      "2.0    454911\n",
      "Name: Gender, dtype: int64\n",
      "(910513, 6)\n"
     ]
    },
    {
     "data": {
      "text/html": [
       "<div>\n",
       "<style scoped>\n",
       "    .dataframe tbody tr th:only-of-type {\n",
       "        vertical-align: middle;\n",
       "    }\n",
       "\n",
       "    .dataframe tbody tr th {\n",
       "        vertical-align: top;\n",
       "    }\n",
       "\n",
       "    .dataframe thead th {\n",
       "        text-align: right;\n",
       "    }\n",
       "</style>\n",
       "<table border=\"1\" class=\"dataframe\">\n",
       "  <thead>\n",
       "    <tr style=\"text-align: right;\">\n",
       "      <th></th>\n",
       "      <th>Education</th>\n",
       "      <th>Age</th>\n",
       "      <th>Urban/Rural_1</th>\n",
       "      <th>Urban/Rural_2</th>\n",
       "      <th>Gender_1</th>\n",
       "      <th>Gender_2</th>\n",
       "    </tr>\n",
       "  </thead>\n",
       "  <tbody>\n",
       "    <tr>\n",
       "      <th>0</th>\n",
       "      <td>10.0</td>\n",
       "      <td>22.0</td>\n",
       "      <td>0</td>\n",
       "      <td>1</td>\n",
       "      <td>1</td>\n",
       "      <td>0</td>\n",
       "    </tr>\n",
       "    <tr>\n",
       "      <th>1</th>\n",
       "      <td>8.0</td>\n",
       "      <td>12.0</td>\n",
       "      <td>0</td>\n",
       "      <td>1</td>\n",
       "      <td>1</td>\n",
       "      <td>0</td>\n",
       "    </tr>\n",
       "    <tr>\n",
       "      <th>2</th>\n",
       "      <td>13.0</td>\n",
       "      <td>55.0</td>\n",
       "      <td>0</td>\n",
       "      <td>1</td>\n",
       "      <td>0</td>\n",
       "      <td>1</td>\n",
       "    </tr>\n",
       "    <tr>\n",
       "      <th>3</th>\n",
       "      <td>9.0</td>\n",
       "      <td>45.0</td>\n",
       "      <td>0</td>\n",
       "      <td>1</td>\n",
       "      <td>0</td>\n",
       "      <td>1</td>\n",
       "    </tr>\n",
       "    <tr>\n",
       "      <th>4</th>\n",
       "      <td>7.0</td>\n",
       "      <td>53.0</td>\n",
       "      <td>0</td>\n",
       "      <td>1</td>\n",
       "      <td>1</td>\n",
       "      <td>0</td>\n",
       "    </tr>\n",
       "  </tbody>\n",
       "</table>\n",
       "</div>"
      ],
      "text/plain": [
       "   Education   Age  Urban/Rural_1  Urban/Rural_2  Gender_1  Gender_2\n",
       "0       10.0  22.0              0              1         1         0\n",
       "1        8.0  12.0              0              1         1         0\n",
       "2       13.0  55.0              0              1         0         1\n",
       "3        9.0  45.0              0              1         0         1\n",
       "4        7.0  53.0              0              1         1         0"
      ]
     },
     "execution_count": 52,
     "metadata": {},
     "output_type": "execute_result"
    }
   ],
   "source": [
    "data_svrs2017r, original_variables = read_svrs(SVRS2017)\n",
    "data_svrs2017 = data_svrs2017r[['  Level of Education', '  Age', '  Rural Urban code','  Sex']]\n",
    "variables = ['Education', 'Age', 'Urban/Rural', 'Gender']\n",
    "data_svrs2017.columns = variables\n",
    "print(data_svrs2017.shape)\n",
    "data_svrs2017 = data_svrs2017[data_svrs2017['Urban/Rural'] != 9]\n",
    "data_svrs2017 = data_svrs2017[data_svrs2017['Urban/Rural'] != 3]\n",
    "data_svrs2017 = data_svrs2017[data_svrs2017['Education'] != 99]\n",
    "data_svrs2017r = data_svrs2017r[data_svrs2017r['  Rural Urban code'] != 9]\n",
    "data_svrs2017r = data_svrs2017r[data_svrs2017r['  Rural Urban code'] != 3]\n",
    "data_svrs2017r = data_svrs2017r[data_svrs2017r['  Level of Education'] != 99]\n",
    "data_svrs2017['Urban/Rural'] = data_svrs2017['Urban/Rural'].astype(int).astype('category')\n",
    "print(data_svrs2017['Urban/Rural'].value_counts())\n",
    "print(data_svrs2017['Gender'].value_counts())\n",
    "data_svrs2017['Gender'] = data_svrs2017['Gender'].astype(int).astype('category')\n",
    "data_svrs2017 = pd.get_dummies(data_svrs2017)\n",
    "print(data_svrs2017.shape)\n",
    "data_svrs2017.head()"
   ]
  },
  {
   "cell_type": "markdown",
   "metadata": {},
   "source": [
    "# Prediting hypertension and writing results out"
   ]
  },
  {
   "cell_type": "code",
   "execution_count": 60,
   "metadata": {},
   "outputs": [],
   "source": [
    "data_svrs2012r['Hypertension'] = xgb3.predict_proba(data_svrs2012)[:,1]\n",
    "data_svrs2012r['Hypertension'] = np.where(data_svrs2012r['Hypertension'] > 0.35, 1, 0)\n",
    "data_svrs2014r['Hypertension'] = xgb3.predict_proba(data_svrs2014)[:,1]\n",
    "data_svrs2014r['Hypertension'] = np.where(data_svrs2014r['Hypertension'] > 0.35, 1, 0)\n",
    "data_svrs2015r['Hypertension'] = xgb3.predict_proba(data_svrs2015)[:,1]\n",
    "data_svrs2015r['Hypertension'] = np.where(data_svrs2015r['Hypertension'] > 0.35, 1, 0)\n",
    "data_svrs2017r['Hypertension'] = xgb3.predict_proba(data_svrs2017)[:,1]\n",
    "data_svrs2017r['Hypertension'] = np.where(data_svrs2017r['Hypertension'] > 0.35, 1, 0)"
   ]
  },
  {
   "cell_type": "code",
   "execution_count": 61,
   "metadata": {},
   "outputs": [
    {
     "name": "stdout",
     "output_type": "stream",
     "text": [
      "Predictions for 2012:\n",
      " 0    89.384907\n",
      "1    10.615093\n",
      "Name: Hypertension, dtype: float64\n",
      "Predictions for 2014:\n",
      " 0    84.34457\n",
      "1    15.65543\n",
      "Name: Hypertension, dtype: float64\n",
      "Predictions for 2015:\n",
      " 0    85.246234\n",
      "1    14.753766\n",
      "Name: Hypertension, dtype: float64\n",
      "Predictions for 2017:\n",
      " 0    83.029457\n",
      "1    16.970543\n",
      "Name: Hypertension, dtype: float64\n"
     ]
    }
   ],
   "source": [
    "print(f\"Predictions for 2012:\\n {data_svrs2012r['Hypertension'].value_counts()/data_svrs2012r.shape[0]*100}\")\n",
    "print(f\"Predictions for 2014:\\n {data_svrs2014r['Hypertension'].value_counts()/data_svrs2014r.shape[0]*100}\")\n",
    "print(f\"Predictions for 2015:\\n {data_svrs2015r['Hypertension'].value_counts()/data_svrs2015r.shape[0]*100}\")\n",
    "print(f\"Predictions for 2017:\\n {data_svrs2017r['Hypertension'].value_counts()/data_svrs2017r.shape[0]*100}\")"
   ]
  },
  {
   "cell_type": "markdown",
   "metadata": {},
   "source": [
    "# Writing results out"
   ]
  },
  {
   "cell_type": "code",
   "execution_count": 62,
   "metadata": {},
   "outputs": [],
   "source": [
    "OUT = '/Users/edinhamzic/Symphony/wb_bangladesh/Bangladesh/output/ncd/'"
   ]
  },
  {
   "cell_type": "markdown",
   "metadata": {},
   "source": [
    "## Writing out 2012"
   ]
  },
  {
   "cell_type": "code",
   "execution_count": 63,
   "metadata": {},
   "outputs": [
    {
     "data": {
      "text/html": [
       "<div>\n",
       "<style scoped>\n",
       "    .dataframe tbody tr th:only-of-type {\n",
       "        vertical-align: middle;\n",
       "    }\n",
       "\n",
       "    .dataframe tbody tr th {\n",
       "        vertical-align: top;\n",
       "    }\n",
       "\n",
       "    .dataframe thead th {\n",
       "        text-align: right;\n",
       "    }\n",
       "</style>\n",
       "<table border=\"1\" class=\"dataframe\">\n",
       "  <thead>\n",
       "    <tr style=\"text-align: right;\">\n",
       "      <th></th>\n",
       "      <th>DIVN_ZILA</th>\n",
       "      <th>Hypertension count</th>\n",
       "      <th>Total count</th>\n",
       "      <th>Hypertension prevalence</th>\n",
       "    </tr>\n",
       "  </thead>\n",
       "  <tbody>\n",
       "    <tr>\n",
       "      <th>0</th>\n",
       "      <td>1004</td>\n",
       "      <td>1728</td>\n",
       "      <td>13868</td>\n",
       "      <td>12.46</td>\n",
       "    </tr>\n",
       "    <tr>\n",
       "      <th>1</th>\n",
       "      <td>1006</td>\n",
       "      <td>2361</td>\n",
       "      <td>19779</td>\n",
       "      <td>11.94</td>\n",
       "    </tr>\n",
       "    <tr>\n",
       "      <th>2</th>\n",
       "      <td>1009</td>\n",
       "      <td>1603</td>\n",
       "      <td>16751</td>\n",
       "      <td>9.57</td>\n",
       "    </tr>\n",
       "    <tr>\n",
       "      <th>3</th>\n",
       "      <td>1042</td>\n",
       "      <td>1618</td>\n",
       "      <td>12628</td>\n",
       "      <td>12.81</td>\n",
       "    </tr>\n",
       "    <tr>\n",
       "      <th>4</th>\n",
       "      <td>1078</td>\n",
       "      <td>1825</td>\n",
       "      <td>16258</td>\n",
       "      <td>11.23</td>\n",
       "    </tr>\n",
       "  </tbody>\n",
       "</table>\n",
       "</div>"
      ],
      "text/plain": [
       "  DIVN_ZILA  Hypertension count  Total count  Hypertension prevalence\n",
       "0      1004                1728        13868                    12.46\n",
       "1      1006                2361        19779                    11.94\n",
       "2      1009                1603        16751                     9.57\n",
       "3      1042                1618        12628                    12.81\n",
       "4      1078                1825        16258                    11.23"
      ]
     },
     "execution_count": 63,
     "metadata": {},
     "output_type": "execute_result"
    }
   ],
   "source": [
    "data_svrs2012r[\"DIVN_ZILA\"] = data_svrs2012r[\"DIVN\"].str.cat(data_svrs2012r[\"ZILA\"])\n",
    "tmp1 = data_svrs2012r[[\"DIVN_ZILA\", \"Hypertension\"]].groupby('DIVN_ZILA').sum().reset_index()\n",
    "tmp1.columns = [\"DIVN_ZILA\", \"Hypertension count\"]\n",
    "tmp2 = data_svrs2012r[[\"DIVN_ZILA\", \"Hypertension\"]].groupby('DIVN_ZILA').count().reset_index()\n",
    "tmp2.columns = [\"DIVN_ZILA\", \"Total count\"]\n",
    "tmp = tmp1.merge(tmp2, how='left', on='DIVN_ZILA')\n",
    "tmp['Hypertension prevalence'] = np.round(tmp['Hypertension count']/tmp['Total count']*100,2)\n",
    "tmp.to_csv(OUT +'/hypertension_prevalence_2012.csv', index=False, index_label=False)\n",
    "tmp.head()"
   ]
  },
  {
   "cell_type": "markdown",
   "metadata": {},
   "source": [
    "## Writing out 2014"
   ]
  },
  {
   "cell_type": "code",
   "execution_count": 64,
   "metadata": {},
   "outputs": [
    {
     "data": {
      "text/html": [
       "<div>\n",
       "<style scoped>\n",
       "    .dataframe tbody tr th:only-of-type {\n",
       "        vertical-align: middle;\n",
       "    }\n",
       "\n",
       "    .dataframe tbody tr th {\n",
       "        vertical-align: top;\n",
       "    }\n",
       "\n",
       "    .dataframe thead th {\n",
       "        text-align: right;\n",
       "    }\n",
       "</style>\n",
       "<table border=\"1\" class=\"dataframe\">\n",
       "  <thead>\n",
       "    <tr style=\"text-align: right;\">\n",
       "      <th></th>\n",
       "      <th>DIVN_ZILA</th>\n",
       "      <th>Hypertension count</th>\n",
       "      <th>Total count</th>\n",
       "      <th>Hypertension prevalence</th>\n",
       "    </tr>\n",
       "  </thead>\n",
       "  <tbody>\n",
       "    <tr>\n",
       "      <th>0</th>\n",
       "      <td>Bagerhat</td>\n",
       "      <td>1135</td>\n",
       "      <td>5440</td>\n",
       "      <td>20.86</td>\n",
       "    </tr>\n",
       "    <tr>\n",
       "      <th>1</th>\n",
       "      <td>Bandarban</td>\n",
       "      <td>218</td>\n",
       "      <td>1948</td>\n",
       "      <td>11.19</td>\n",
       "    </tr>\n",
       "    <tr>\n",
       "      <th>2</th>\n",
       "      <td>Barguna</td>\n",
       "      <td>926</td>\n",
       "      <td>4528</td>\n",
       "      <td>20.45</td>\n",
       "    </tr>\n",
       "    <tr>\n",
       "      <th>3</th>\n",
       "      <td>Barisal</td>\n",
       "      <td>4472</td>\n",
       "      <td>28069</td>\n",
       "      <td>15.93</td>\n",
       "    </tr>\n",
       "    <tr>\n",
       "      <th>4</th>\n",
       "      <td>Bhola</td>\n",
       "      <td>1333</td>\n",
       "      <td>8685</td>\n",
       "      <td>15.35</td>\n",
       "    </tr>\n",
       "  </tbody>\n",
       "</table>\n",
       "</div>"
      ],
      "text/plain": [
       "   DIVN_ZILA  Hypertension count  Total count  Hypertension prevalence\n",
       "0   Bagerhat                1135         5440                    20.86\n",
       "1  Bandarban                 218         1948                    11.19\n",
       "2    Barguna                 926         4528                    20.45\n",
       "3    Barisal                4472        28069                    15.93\n",
       "4      Bhola                1333         8685                    15.35"
      ]
     },
     "execution_count": 64,
     "metadata": {},
     "output_type": "execute_result"
    }
   ],
   "source": [
    "data_svrs2014r[\"DIVN_ZILA\"] = data_svrs2014r[\"zila\"]\n",
    "tmp1 = data_svrs2014r[[\"DIVN_ZILA\", \"Hypertension\"]].groupby('DIVN_ZILA').sum().reset_index()\n",
    "tmp1.columns = [\"DIVN_ZILA\", \"Hypertension count\"]\n",
    "tmp2 = data_svrs2014r[[\"DIVN_ZILA\", \"Hypertension\"]].groupby('DIVN_ZILA').count().reset_index()\n",
    "tmp2.columns = [\"DIVN_ZILA\", \"Total count\"]\n",
    "tmp = tmp1.merge(tmp2, how='left', on='DIVN_ZILA')\n",
    "tmp['Hypertension prevalence'] = np.round(tmp['Hypertension count']/tmp['Total count']*100,2)\n",
    "tmp.to_csv(OUT +'/hypertension_prevalence_2014.csv', index=False, index_label=False)\n",
    "tmp.head()\n"
   ]
  },
  {
   "cell_type": "markdown",
   "metadata": {},
   "source": [
    "## Writing out 2015"
   ]
  },
  {
   "cell_type": "code",
   "execution_count": 65,
   "metadata": {},
   "outputs": [
    {
     "data": {
      "text/html": [
       "<div>\n",
       "<style scoped>\n",
       "    .dataframe tbody tr th:only-of-type {\n",
       "        vertical-align: middle;\n",
       "    }\n",
       "\n",
       "    .dataframe tbody tr th {\n",
       "        vertical-align: top;\n",
       "    }\n",
       "\n",
       "    .dataframe thead th {\n",
       "        text-align: right;\n",
       "    }\n",
       "</style>\n",
       "<table border=\"1\" class=\"dataframe\">\n",
       "  <thead>\n",
       "    <tr style=\"text-align: right;\">\n",
       "      <th></th>\n",
       "      <th>DIVN_ZILA</th>\n",
       "      <th>Hypertension count</th>\n",
       "      <th>Total count</th>\n",
       "      <th>Hypertension prevalence</th>\n",
       "    </tr>\n",
       "  </thead>\n",
       "  <tbody>\n",
       "    <tr>\n",
       "      <th>0</th>\n",
       "      <td>01</td>\n",
       "      <td>1931</td>\n",
       "      <td>9270</td>\n",
       "      <td>20.83</td>\n",
       "    </tr>\n",
       "    <tr>\n",
       "      <th>1</th>\n",
       "      <td>03</td>\n",
       "      <td>455</td>\n",
       "      <td>3628</td>\n",
       "      <td>12.54</td>\n",
       "    </tr>\n",
       "    <tr>\n",
       "      <th>2</th>\n",
       "      <td>04</td>\n",
       "      <td>1486</td>\n",
       "      <td>7773</td>\n",
       "      <td>19.12</td>\n",
       "    </tr>\n",
       "    <tr>\n",
       "      <th>3</th>\n",
       "      <td>06</td>\n",
       "      <td>6520</td>\n",
       "      <td>45334</td>\n",
       "      <td>14.38</td>\n",
       "    </tr>\n",
       "    <tr>\n",
       "      <th>4</th>\n",
       "      <td>09</td>\n",
       "      <td>2670</td>\n",
       "      <td>15993</td>\n",
       "      <td>16.69</td>\n",
       "    </tr>\n",
       "  </tbody>\n",
       "</table>\n",
       "</div>"
      ],
      "text/plain": [
       "  DIVN_ZILA  Hypertension count  Total count  Hypertension prevalence\n",
       "0        01                1931         9270                    20.83\n",
       "1        03                 455         3628                    12.54\n",
       "2        04                1486         7773                    19.12\n",
       "3        06                6520        45334                    14.38\n",
       "4        09                2670        15993                    16.69"
      ]
     },
     "execution_count": 65,
     "metadata": {},
     "output_type": "execute_result"
    }
   ],
   "source": [
    "data_svrs2015r[\"DIVN_ZILA\"] = data_svrs2015r[\"ZILA\"]\n",
    "tmp1 = data_svrs2015r[[\"DIVN_ZILA\", \"Hypertension\"]].groupby('DIVN_ZILA').sum().reset_index()\n",
    "tmp1.columns = [\"DIVN_ZILA\", \"Hypertension count\"]\n",
    "tmp2 = data_svrs2015r[[\"DIVN_ZILA\", \"Hypertension\"]].groupby('DIVN_ZILA').count().reset_index()\n",
    "tmp2.columns = [\"DIVN_ZILA\", \"Total count\"]\n",
    "tmp = tmp1.merge(tmp2, how='left', on='DIVN_ZILA')\n",
    "tmp['Hypertension prevalence'] = np.round(tmp['Hypertension count']/tmp['Total count']*100,2)\n",
    "tmp.to_csv(OUT +'/hypertension_prevalence_2015.csv', index=False, index_label=False)\n",
    "tmp.head()"
   ]
  },
  {
   "cell_type": "markdown",
   "metadata": {},
   "source": [
    "## Writing out 2017"
   ]
  },
  {
   "cell_type": "code",
   "execution_count": 66,
   "metadata": {},
   "outputs": [
    {
     "data": {
      "text/html": [
       "<div>\n",
       "<style scoped>\n",
       "    .dataframe tbody tr th:only-of-type {\n",
       "        vertical-align: middle;\n",
       "    }\n",
       "\n",
       "    .dataframe tbody tr th {\n",
       "        vertical-align: top;\n",
       "    }\n",
       "\n",
       "    .dataframe thead th {\n",
       "        text-align: right;\n",
       "    }\n",
       "</style>\n",
       "<table border=\"1\" class=\"dataframe\">\n",
       "  <thead>\n",
       "    <tr style=\"text-align: right;\">\n",
       "      <th></th>\n",
       "      <th>DIVN_ZILA</th>\n",
       "      <th>Hypertension count</th>\n",
       "      <th>Total count</th>\n",
       "      <th>Hypertension prevalence</th>\n",
       "    </tr>\n",
       "  </thead>\n",
       "  <tbody>\n",
       "    <tr>\n",
       "      <th>0</th>\n",
       "      <td>01</td>\n",
       "      <td>2569</td>\n",
       "      <td>12012</td>\n",
       "      <td>21.39</td>\n",
       "    </tr>\n",
       "    <tr>\n",
       "      <th>1</th>\n",
       "      <td>03</td>\n",
       "      <td>492</td>\n",
       "      <td>3295</td>\n",
       "      <td>14.93</td>\n",
       "    </tr>\n",
       "    <tr>\n",
       "      <th>2</th>\n",
       "      <td>04</td>\n",
       "      <td>1961</td>\n",
       "      <td>9631</td>\n",
       "      <td>20.36</td>\n",
       "    </tr>\n",
       "    <tr>\n",
       "      <th>3</th>\n",
       "      <td>06</td>\n",
       "      <td>3993</td>\n",
       "      <td>21077</td>\n",
       "      <td>18.94</td>\n",
       "    </tr>\n",
       "    <tr>\n",
       "      <th>4</th>\n",
       "      <td>09</td>\n",
       "      <td>2530</td>\n",
       "      <td>15341</td>\n",
       "      <td>16.49</td>\n",
       "    </tr>\n",
       "  </tbody>\n",
       "</table>\n",
       "</div>"
      ],
      "text/plain": [
       "  DIVN_ZILA  Hypertension count  Total count  Hypertension prevalence\n",
       "0        01                2569        12012                    21.39\n",
       "1        03                 492         3295                    14.93\n",
       "2        04                1961         9631                    20.36\n",
       "3        06                3993        21077                    18.94\n",
       "4        09                2530        15341                    16.49"
      ]
     },
     "execution_count": 66,
     "metadata": {},
     "output_type": "execute_result"
    }
   ],
   "source": [
    "data_svrs2017r[\"DIVN_ZILA\"] = data_svrs2017r[\"Zila code\"].astype(int).astype(str)\n",
    "data_svrs2017r[\"DIVN_ZILA\"] = data_svrs2017r[\"DIVN_ZILA\"].str.pad(width=2, side='left', fillchar='0')\n",
    "tmp1 = data_svrs2017r[[\"DIVN_ZILA\", \"Hypertension\"]].groupby('DIVN_ZILA').sum().reset_index()\n",
    "tmp1.columns = [\"DIVN_ZILA\", \"Hypertension count\"]\n",
    "tmp2 = data_svrs2017r[[\"DIVN_ZILA\", \"Hypertension\"]].groupby('DIVN_ZILA').count().reset_index()\n",
    "tmp2.columns = [\"DIVN_ZILA\", \"Total count\"]\n",
    "tmp = tmp1.merge(tmp2, how='left', on='DIVN_ZILA')\n",
    "tmp['Hypertension prevalence'] = np.round(tmp['Hypertension count']/tmp['Total count']*100,2)\n",
    "tmp.to_csv(OUT +'/hypertension_prevalence_2017.csv', index=False, index_label=False)\n",
    "tmp.head()"
   ]
  }
 ],
 "metadata": {
  "kernelspec": {
   "display_name": "Python 3",
   "language": "python",
   "name": "python3"
  },
  "language_info": {
   "codemirror_mode": {
    "name": "ipython",
    "version": 3
   },
   "file_extension": ".py",
   "mimetype": "text/x-python",
   "name": "python",
   "nbconvert_exporter": "python",
   "pygments_lexer": "ipython3",
   "version": "3.7.2"
  }
 },
 "nbformat": 4,
 "nbformat_minor": 2
}
