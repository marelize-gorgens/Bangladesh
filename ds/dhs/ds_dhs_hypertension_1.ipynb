{
 "cells": [
  {
   "cell_type": "markdown",
   "metadata": {},
   "source": [
    "# Predicting prevalence of hypertension on Zila level"
   ]
  },
  {
   "cell_type": "markdown",
   "metadata": {},
   "source": [
    "## Notes\n",
    "\n",
    "- Definition of diabetes:\n",
    "    - Recommendation for diagnosis of hypertension [link](https://www.ncbi.nlm.nih.gov/pmc/articles/PMC4707193/)\n",
    "- Hypertension if meets any of the following three criteria:\n",
    "    - SBP ≥ 140 mmHg or DBP ≥ 90 mmHg\n",
    "    - Told by a doctor to have high blood pressure (sh249)\n",
    "    - Taking prescribed medicine to lower blood pressure (sh250)\n",
    "    \n",
    "- DHS Data\n",
    "    - Three measurements of both systolic and diastolic blood pressure were taken during the survey at approximately 10-minute intervals between measurements.\n",
    "    - The average of the second and third measurements was used to report respondent’s blood pressure values.\n",
    "    - Arterial blood pressure is the force exerted by the blood on the wall of a blood vessel as the heart pumps (contracts) and relaxes. Systolic blood pressure (SBP) is the measures the force when the heart pumps (contracts), and the diastolic blood pressure (DBP) measures the degree of force when the heart is relaxes. The 2011 BDHS uses the American Heart Association guidelines for cut-off points for blood pressure measurements (AHA, 2003). The chart below summarizes the systolic and diastolic blood pressure values as they relate to hypertension classification. The cut-off points correspond to the clinical classification for hypertension as they relate to the systolic and diastolic blood pressure measurements.\n",
    "   "
   ]
  },
  {
   "cell_type": "markdown",
   "metadata": {},
   "source": [
    "## Packages"
   ]
  },
  {
   "cell_type": "code",
   "execution_count": 1,
   "metadata": {},
   "outputs": [],
   "source": [
    "import os\n",
    "os.environ['KMP_DUPLICATE_LIB_OK']='True'\n",
    "import re\n",
    "import glob\n",
    "import logging\n",
    "import itertools\n",
    "import collections\n",
    "\n",
    "import numpy as np\n",
    "import pandas as pd\n",
    "import seaborn as sns\n",
    "import pandas_ml as pd_ml\n",
    "import matplotlib.pyplot as plt\n",
    "\n",
    "%matplotlib inline\n",
    "# import matplotlib.pylab as plt\n",
    "# from matplotlib.pylab import rcParams\n",
    "\n",
    "import rpy2.robjects as robjects\n",
    "from rpy2.robjects import packages\n",
    "from rpy2.robjects import pandas2ri\n",
    "\n",
    "from scipy import io\n",
    "from collections import Counter\n",
    "\n",
    "from sklearn.datasets import make_classification\n",
    "from sklearn.metrics import confusion_matrix\n",
    "from sklearn.metrics import average_precision_score\n",
    "\n",
    "from datetime import timedelta\n",
    "from datetime import datetime as dt\n",
    "\n",
    "from dbfread import DBF\n",
    "\n",
    "from sklearn.metrics import f1_score\n",
    "from sklearn.metrics import recall_score\n",
    "from sklearn.metrics import roc_auc_score\n",
    "from sklearn.metrics import accuracy_score\n",
    "from sklearn.metrics import precision_score\n",
    "from sklearn.metrics import confusion_matrix\n",
    "from sklearn.metrics import classification_report\n",
    "from sklearn.metrics import precision_recall_curve\n",
    "\n",
    "from sklearn.preprocessing import OneHotEncoder\n",
    "\n",
    "from sklearn.model_selection import train_test_split\n",
    "from sklearn.model_selection import GridSearchCV\n",
    "\n",
    "import xgboost as xgb\n",
    "from xgboost.sklearn import XGBClassifier"
   ]
  },
  {
   "cell_type": "markdown",
   "metadata": {},
   "source": [
    "## Custom functions"
   ]
  },
  {
   "cell_type": "code",
   "execution_count": 2,
   "metadata": {},
   "outputs": [],
   "source": [
    "def subset_by_var1(input_df, var):\n",
    "    df = input_df.copy(deep=True)\n",
    "    print(df.shape)\n",
    "    df = df.loc[df[var].notna(),:]\n",
    "    print(df.shape)\n",
    "    return df\n",
    "\n",
    "\n",
    "def subset_by_var2(input_df, var):\n",
    "    df = input_df.copy(deep=True)\n",
    "    print(df.shape)\n",
    "    df = df.loc[df[var] != -9,:]\n",
    "    print(df.shape)\n",
    "    return df\n",
    "\n",
    "\n",
    "def remove_metadata(input_df, metadata):\n",
    "    df = input_df.copy(deep=True)\n",
    "    var_select = [var1 for var1,var2 in zip(metadata['variable'],metadata['model_keep']) if var2 == 0]\n",
    "    print(df.shape)\n",
    "    df = df.drop(var_select, axis=1)\n",
    "    print(df.shape)\n",
    "    return df \n",
    " \n",
    "def remove_uniform(input_df):\n",
    "    df = input_df.copy(deep=True)\n",
    "    var_list = []\n",
    "    for key, var in enumerate(df):\n",
    "        tmp = df[var].dropna()\n",
    "        if len(tmp.unique()) == 1:\n",
    "            var_list.append(var)\n",
    "    print(df.shape)\n",
    "    print(var_list)\n",
    "    df = df.drop(var_list, axis=1)\n",
    "    print(df.shape)\n",
    "    return df\n",
    "    \n",
    "def remove_identical(input_df):\n",
    "    df = input_df.copy(deep=True)\n",
    "    var_pairs_check = []\n",
    "    var_pairs = []\n",
    "    for pair in itertools.combinations(list(df.columns),2):\n",
    "        var_pairs.append(pair)\n",
    "        var_pairs_check.append(all(df[pair[0]] == df[pair[1]]))\n",
    "    selected_pairs = [pair for pair, check in zip(var_pairs, var_pairs_check) if check]\n",
    "    selected_var = [var2 for var1,var2 in selected_pairs]\n",
    "    print(df.shape)\n",
    "    df = df.drop(list(set(selected_var)), axis=1)\n",
    "    print(df.shape)\n",
    "    return df\n",
    "\n",
    "\n",
    "def remove_missing(input_df, threshold):\n",
    "    df = input_df.copy(deep=True)\n",
    "    drop_vars = []\n",
    "    for key, var in enumerate(df):\n",
    "        null_percent = round(df[var].isnull().mean() * 100,2)\n",
    "        if null_percent >= threshold:\n",
    "            drop_vars.append(var)\n",
    "    print(df.shape)\n",
    "    df = df.drop(drop_vars, axis=1)\n",
    "    print(df.shape)\n",
    "    return df\n",
    "\n",
    "\n",
    "def check_variables(input_df):\n",
    "    df = input_df.copy(deep=True)\n",
    "    var_types = [var_n for var_t,var_n  in zip(df.dtypes, df.columns) if var_t == 'O']\n",
    "    return var_types\n",
    "\n",
    "def summarize_variables(input_df, metadata_df):\n",
    "    metadata = metadata_df.copy(deep=True)\n",
    "    metadata['num_values'] = 'NaN'\n",
    "    for key, var in enumerate(metadata.values):\n",
    "        metadata.loc[key,'num_values'] = len(input_df[var[0]].unique())\n",
    "    return metadata\n",
    "\n",
    "\n",
    "def determine_hypertension(input_df, option):\n",
    "    df = input_df.copy(deep=True)\n",
    "    df['hypertension'] = -9\n",
    "    for key, value in enumerate(df.values):\n",
    "        if option == 'valid':\n",
    "            if (df.loc[key,'sh250'] == 1. or df.loc[key,'sh249'] == 1. or df.loc[key,'fsysto'] >= 140. or df.loc[key,'fdysto'] >= 90.):\n",
    "                df.at[key, 'hypertension'] = 1\n",
    "            elif (df.loc[key,'sh250'] == 0 or df.loc[key,'sh249'] == 0 or df.loc[key,'fsysto'] < 140 or df.loc[key,'fdysto'] < 90):\n",
    "                df.at[key, 'hypertension'] = 0\n",
    "            else:\n",
    "                df.at[key,'hypertension'] = -9\n",
    "        elif option == 'average':\n",
    "            syst = np.mean([df.loc[key,'sh255s'],df.loc[key,'sh264s']])\n",
    "            dyst = np.mean([df.loc[key,'sh255d'],df.loc[key,'sh264d']])\n",
    "            if (df.loc[key,'sh250'] == 1. or df.loc[key,'sh249'] == 1. or syst >= 140. or dyst > 90.):\n",
    "                df.at[key, 'hypertension'] = 1\n",
    "            elif (df.loc[key,'sh250'] == 0 or df.loc[key,'sh249'] == 0 or syst < 140. or dyst < 90.):\n",
    "                df.at[key, 'hypertension'] = 0\n",
    "            else:\n",
    "                df.at[key,'hypertension'] = -9\n",
    "    return df  \n",
    "\n",
    "def determine_hyperglycaemia(input_df):\n",
    "    df = input_df.copy(deep=True)\n",
    "    df['sh280'] = np.where(df['sh280'].isna(), 9999, df['sh280'])\n",
    "    df['sh280'] = df['sh280'].astype(int).astype(str)\n",
    "    df['meal'] = 1\n",
    "    for key,time in enumerate(df['sh280']):\n",
    "        try:\n",
    "            df.at[key,'meal'] = dt.strptime(time,'%H%M')\n",
    "        except ValueError:\n",
    "            df.at[key,'meal'] = dt.strptime('2020-01-01:00:00','%Y-%m-%d:%H:%M')\n",
    "    \n",
    "    df['sh281'] = np.where(df['sh281'].isna(), 9999, df['sh281'])\n",
    "    df['sh281'] = df['sh281'].astype(int).astype(str)\n",
    "    df['drink'] = 1\n",
    "    for key,time in enumerate(df['sh281']):\n",
    "        try:\n",
    "            df.at[key,'drink'] = dt.strptime(time,'%H%M')\n",
    "        except ValueError:\n",
    "            df.at[key,'drink'] = dt.strptime('2020-01-01:00:00','%Y-%m-%d:%H:%M')\n",
    "    \n",
    "    df['sh283t'] = np.where(df['sh283t'].isna(), 9999, df['sh283t'])\n",
    "    df['sh283t'] = df['sh283t'].astype(int).astype(str)\n",
    "    df['measure_time'] = 1\n",
    "    for key,time in enumerate(df['sh283t']):\n",
    "        try:\n",
    "            df.at[key,'measure_time'] = dt.strptime(time,'%H%M')\n",
    "        except ValueError:\n",
    "            df.at[key,'measure_time'] = dt.strptime('2020-01-01:00:00','%Y-%m-%d:%H:%M')\n",
    "    df['meal'] = pd.to_datetime(df['meal'], format='%Y-%m-%d %H:%M:%S')\n",
    "    df['drink'] = pd.to_datetime(df['drink'], format='%Y-%m-%d %H:%M:%S')\n",
    "    df['measure_time'] = pd.to_datetime(df['measure_time'], format='%Y-%m-%d %H:%M:%S')\n",
    "    df['meal_delta'] = df['meal'] - df['measure_time']\n",
    "    df['meal_delta'] = df['meal_delta']/np.timedelta64(1,'h')\n",
    "    df['meal_fasting'] = np.where(df['meal_delta'] > 4, 1, 0)\n",
    "    df['drink_delta'] = df['drink'] - df['measure_time']\n",
    "    df['drink_delta'] = df['drink_delta']/np.timedelta64(1,'h')\n",
    "    df['drink_fasting'] = np.where(df['drink_delta'] > 4, 1, 0)\n",
    "    df['hyperglycaemia'] = -9\n",
    "    # sh258: Ever told by a doctor/nurse to have diabetes\n",
    "    # sh259: Taking medication for the diabetes\n",
    "    # df.loc[key,'drink_fasting'] == 1. and df.loc[key,'meal_fasting'] == 1. and \n",
    "    # df.loc[key,'drink_fasting'] == 0. and df.loc[key,'meal_fasting'] == 0. and \n",
    "    for key, value in enumerate(df.values):\n",
    "        if (df.loc[key,'sh284b'] >= 126 or df.loc[key,'sh258'] == 1 or df.loc[key,'sh259'] == 1):\n",
    "            df.at[key, 'hyperglycaemia'] = 1\n",
    "        elif (df.loc[key,'sh284b'] < 126 or df.loc[key,'sh258'] == 0 or df.loc[key,'sh259'] == 0):\n",
    "            df.at[key, 'hyperglycaemia'] = 0\n",
    "        else:\n",
    "            df.at[key, 'hyperglycaemia'] = -9\n",
    "    return df \n",
    "\n",
    "\n",
    "def to_categorical(input_df, input_meta):\n",
    "    df = input_df.copy(deep=True)\n",
    "    for var in df.columns:\n",
    "        if str(input_meta[input_meta['variable'] == var].values[0][4]) == 'categorical':\n",
    "            df[var] =  df[var].astype('str').astype('category')\n",
    "    return df\n",
    "\n",
    "def threshold_cut(input_df, threshold):\n",
    "    df = input_df.copy(deep=True)\n",
    "    df = df.sort_values(by='importance', ascending=False)\n",
    "    df['cumsum'] = np.cumsum(df['importance'])\n",
    "    df = df[df['cumsum'] >= threshold]\n",
    "    return df\n",
    "\n",
    "def read_svrs(path, pattern):\n",
    "    data = {}\n",
    "    for path, subdir, files in os.walk(path):\n",
    "        for file in files:\n",
    "            if file.endswith(pattern):\n",
    "                itr = pd.read_stata(os.path.join(path,file), iterator=True)\n",
    "                variables = list(itr.variable_labels().values())\n",
    "                data[file] = pd.read_stata(os.path.join(path,file))\n",
    "                data[file].columns = variables\n",
    "    return data\n",
    "\n",
    "def read_dbf(file):\n",
    "    tmp = DBF(file)\n",
    "    tmp = pd.DataFrame(iter(tmp))\n",
    "    return tmp\n",
    "\n",
    "def read_sav(file):\n",
    "    foreign = packages.importr('foreign')\n",
    "    pandas2ri.activate()\n",
    "    df = foreign.read_spss(file, reencode=False)\n",
    "    return pd.DataFrame(dict(zip(df.names, map(list,list(df)))))\n",
    "\n",
    "def read_svrs(file):\n",
    "    itr = pd.read_stata(file, iterator=True)\n",
    "    variables = list(itr.variable_labels().values())\n",
    "    data = pd.read_stata(os.path.join(file))\n",
    "    original_variables = list(data.columns)\n",
    "    data.columns = variables\n",
    "    return data, original_variables\n",
    "\n",
    "def eer_threshold(model, test_X, test_y):\n",
    "    predictions = model.predict_proba(test_X)\n",
    "    predictions = predictions[:,1]\n",
    "    output = {}\n",
    "    for i in range(5,100,1):\n",
    "        y_predicted = np.where(predictions > i/100, 1, 0)\n",
    "        cm = confusion_matrix(y_pred=y_predicted, y_true=test_y,)\n",
    "        tn, fp, fn, tp = cm.ravel()\n",
    "        n = test_y.value_counts()[0]\n",
    "        p = test_y.value_counts()[1]\n",
    "        precision = tp / (tp + fp) # positive predictive value\n",
    "        recall = tp / (tp + fn) # true positive rate\n",
    "        output[str(i/100)] = precision-recall\n",
    "    output = pd.DataFrame.from_dict(output,orient='index', columns=['EER'])\n",
    "    output['EER'] = np.absolute(output['EER'])\n",
    "    output = output.sort_values(by='EER', ascending=True)\n",
    "    display(output.head(10))\n",
    "    return float(output.index[0]), output.iloc[0,0],\n",
    "\n",
    "def modelfit(alg, dtrain, dtest, predictors,useTrainCV=True, cv_folds=5, early_stopping_rounds=50):\n",
    "    \n",
    "    if useTrainCV:\n",
    "        xgb_param = alg.get_xgb_params()\n",
    "        xgtrain = xgb.DMatrix(dtrain[predictors].values, label=dtrain[target].values)\n",
    "        xgtest = xgb.DMatrix(dtest[predictors].values)\n",
    "        cvresult = xgb.cv(xgb_param, xgtrain, num_boost_round=alg.get_params()['n_estimators'], nfold=cv_folds,\n",
    "            metrics='auc', early_stopping_rounds=early_stopping_rounds)\n",
    "        alg.set_params(n_estimators=cvresult.shape[0])\n",
    "    \n",
    "    #Fit the algorithm on the data\n",
    "    alg.fit(dtrain[predictors], dtrain['Hypertension'],eval_metric='auc')\n",
    "        \n",
    "    #Predict training set:\n",
    "    dtrain_predictions = alg.predict(dtrain[predictors])\n",
    "    dtrain_predprob = alg.predict_proba(dtrain[predictors])[:,1]\n",
    "        \n",
    "    #Print model report:\n",
    "    print(\"\\nModel Report\")\n",
    "    print(f\"Accuracy : %.4g {accuracy_score(dtrain['Hypertension'].values, dtrain_predictions)}\")\n",
    "    print(f\"AUC Score (Train): {roc_auc_score(dtrain['Hypertension'], dtrain_predprob)}]\")\n",
    "    \n",
    "    #Predict on testing data:\n",
    "    dtest['predprob'] = alg.predict_proba(dtest[predictors])[:,1]\n",
    "    results = X_data_test.merge(dtest[['predprob']])\n",
    "    print(f\"AUC Score (Test): {roc_auc_score(results['Hypertension'], results['predprob'])}\")\n",
    "    print(alg.booster)\n",
    "    feat_imp = pd.Series(alg._Booster.get_fscore()).sort_values(ascending=False)\n",
    "    feat_imp.plot(kind='bar', title='Feature Importances')\n",
    "    plt.ylabel('Feature Importance Score')"
   ]
  },
  {
   "cell_type": "markdown",
   "metadata": {},
   "source": [
    "## Variables"
   ]
  },
  {
   "cell_type": "code",
   "execution_count": 3,
   "metadata": {},
   "outputs": [],
   "source": [
    "NCD_DATA = '/Users/edinhamzic/Symphony/wb_bangladesh/Bangladesh/output/dhs/ncd_data/data_dd_dhs_ncd.csv'\n",
    "c = '/Users/edinhamzic/Symphony/wb_bangladesh/Bangladesh/output/dhs/ncd_data/metadata_dd_dhs_ncd.csv'\n",
    "METADATA_M = '/Users/edinhamzic/Symphony/wb_bangladesh/Bangladesh/output/dhs/ncd_data/metadata_dd_dhs_ncd_m.csv'\n",
    "SVRS2017 = '/Users/edinhamzic/Symphony/wb_bangladesh/Bangladesh/data/bbs/svrs/SVRS_17/'\n",
    "SVRS2013 = '/Users/edinhamzic/Symphony/wb_bangladesh/Bangladesh/data/bbs/svrs/SVRS_13/'\n",
    "\n",
    "SVRS2017_METADATA = '/Users/edinhamzic/Symphony/wb_bangladesh/Bangladesh/data/bbs/svrs/SVRS_17/metadata_bbs_SRVS_17.csv'\n",
    "SVRS2013_METADATA = '/Users/edinhamzic/Symphony/wb_bangladesh/Bangladesh/data/bbs/svrs/SVRS_13/metadata_bbs_SRVS_13.csv'\n",
    "SVRS2014_METADATA = '/Users/edinhamzic/Symphony/wb_bangladesh/Bangladesh/data/bbs/svrs/SVRS_14/metadata_bbs_SRVS_14.csv.csv'\n",
    "\n",
    "SVRS2012 = '/Users/edinhamzic/Symphony/wb_bangladesh/Bangladesh/data/bbs/svrs/SVRS_12/tafsil-2p.dbf'\n",
    "SVRS2013 = '/Users/edinhamzic/Symphony/wb_bangladesh/Bangladesh/data/bbs/svrs/SVRS_13/pop_hh_14-05-2015.sav'\n",
    "SVRS2014 = '/Users/edinhamzic/Symphony/wb_bangladesh/Bangladesh/data/bbs/svrs/SVRS_14/tafsil2P_12-06-2015.sav'\n",
    "SVRS2015 = '/Users/edinhamzic/Symphony/wb_bangladesh/Bangladesh/data/bbs/svrs/SVRS_15/tafsil-2p.dbf'\n",
    "SVRS2017 = '/Users/edinhamzic/Symphony/wb_bangladesh/Bangladesh/data/bbs/svrs/SVRS_17/tafsl-2p.dta'"
   ]
  },
  {
   "cell_type": "markdown",
   "metadata": {},
   "source": [
    "### Reading data"
   ]
  },
  {
   "cell_type": "code",
   "execution_count": 4,
   "metadata": {},
   "outputs": [],
   "source": [
    "ncd_data = pd.read_csv(NCD_DATA)\n",
    "ncd_metadata = pd.read_csv(METADATA_M)"
   ]
  },
  {
   "cell_type": "markdown",
   "metadata": {},
   "source": [
    "### Creating hypertension target variable"
   ]
  },
  {
   "cell_type": "code",
   "execution_count": 5,
   "metadata": {},
   "outputs": [],
   "source": [
    "# ncd_data = determine_hypertension(input_df=ncd_data, option='valid')\n",
    "# print(ncd_data['hypertension'].value_counts())"
   ]
  },
  {
   "cell_type": "code",
   "execution_count": 6,
   "metadata": {},
   "outputs": [
    {
     "name": "stdout",
     "output_type": "stream",
     "text": [
      "-9    75739\n",
      " 0     5644\n",
      " 1     2348\n",
      "Name: hypertension, dtype: int64\n"
     ]
    }
   ],
   "source": [
    "ncd_data = determine_hypertension(input_df=ncd_data, option='average')\n",
    "print(ncd_data['hypertension'].value_counts())"
   ]
  },
  {
   "cell_type": "code",
   "execution_count": 7,
   "metadata": {},
   "outputs": [],
   "source": [
    "ncd_metadata = summarize_variables(input_df=ncd_data, metadata_df=ncd_metadata)\n",
    "ncd_metadata.head()\n",
    "ncd_metadata.to_csv(METADATA_M, index=False, index_label=False)"
   ]
  },
  {
   "cell_type": "code",
   "execution_count": 8,
   "metadata": {},
   "outputs": [
    {
     "data": {
      "text/html": [
       "<div>\n",
       "<style scoped>\n",
       "    .dataframe tbody tr th:only-of-type {\n",
       "        vertical-align: middle;\n",
       "    }\n",
       "\n",
       "    .dataframe tbody tr th {\n",
       "        vertical-align: top;\n",
       "    }\n",
       "\n",
       "    .dataframe thead th {\n",
       "        text-align: right;\n",
       "    }\n",
       "</style>\n",
       "<table border=\"1\" class=\"dataframe\">\n",
       "  <thead>\n",
       "    <tr style=\"text-align: right;\">\n",
       "      <th></th>\n",
       "      <th>Unnamed: 0</th>\n",
       "      <th>hhid</th>\n",
       "      <th>hvidx</th>\n",
       "      <th>hv000</th>\n",
       "      <th>hv001</th>\n",
       "      <th>hv002</th>\n",
       "      <th>hv003</th>\n",
       "      <th>hv004</th>\n",
       "      <th>hv005</th>\n",
       "      <th>hv006</th>\n",
       "      <th>...</th>\n",
       "      <th>shbm</th>\n",
       "      <th>shri</th>\n",
       "      <th>shcmc</th>\n",
       "      <th>shflg</th>\n",
       "      <th>shsmk</th>\n",
       "      <th>shresi</th>\n",
       "      <th>shed1</th>\n",
       "      <th>shed2</th>\n",
       "      <th>shed3</th>\n",
       "      <th>hypertension</th>\n",
       "    </tr>\n",
       "  </thead>\n",
       "  <tbody>\n",
       "    <tr>\n",
       "      <th>0</th>\n",
       "      <td>1</td>\n",
       "      <td>1  3</td>\n",
       "      <td>1</td>\n",
       "      <td>BD6</td>\n",
       "      <td>1</td>\n",
       "      <td>3</td>\n",
       "      <td>2</td>\n",
       "      <td>1</td>\n",
       "      <td>504672</td>\n",
       "      <td>8</td>\n",
       "      <td>...</td>\n",
       "      <td>NaN</td>\n",
       "      <td>NaN</td>\n",
       "      <td>NaN</td>\n",
       "      <td>NaN</td>\n",
       "      <td>NaN</td>\n",
       "      <td>NaN</td>\n",
       "      <td>NaN</td>\n",
       "      <td>NaN</td>\n",
       "      <td>NaN</td>\n",
       "      <td>-9</td>\n",
       "    </tr>\n",
       "    <tr>\n",
       "      <th>1</th>\n",
       "      <td>2</td>\n",
       "      <td>1  3</td>\n",
       "      <td>2</td>\n",
       "      <td>BD6</td>\n",
       "      <td>1</td>\n",
       "      <td>3</td>\n",
       "      <td>2</td>\n",
       "      <td>1</td>\n",
       "      <td>504672</td>\n",
       "      <td>8</td>\n",
       "      <td>...</td>\n",
       "      <td>NaN</td>\n",
       "      <td>NaN</td>\n",
       "      <td>NaN</td>\n",
       "      <td>NaN</td>\n",
       "      <td>NaN</td>\n",
       "      <td>NaN</td>\n",
       "      <td>NaN</td>\n",
       "      <td>NaN</td>\n",
       "      <td>NaN</td>\n",
       "      <td>-9</td>\n",
       "    </tr>\n",
       "    <tr>\n",
       "      <th>2</th>\n",
       "      <td>3</td>\n",
       "      <td>1  3</td>\n",
       "      <td>3</td>\n",
       "      <td>BD6</td>\n",
       "      <td>1</td>\n",
       "      <td>3</td>\n",
       "      <td>2</td>\n",
       "      <td>1</td>\n",
       "      <td>504672</td>\n",
       "      <td>8</td>\n",
       "      <td>...</td>\n",
       "      <td>NaN</td>\n",
       "      <td>NaN</td>\n",
       "      <td>NaN</td>\n",
       "      <td>NaN</td>\n",
       "      <td>NaN</td>\n",
       "      <td>NaN</td>\n",
       "      <td>NaN</td>\n",
       "      <td>NaN</td>\n",
       "      <td>NaN</td>\n",
       "      <td>-9</td>\n",
       "    </tr>\n",
       "    <tr>\n",
       "      <th>3</th>\n",
       "      <td>4</td>\n",
       "      <td>1  3</td>\n",
       "      <td>4</td>\n",
       "      <td>BD6</td>\n",
       "      <td>1</td>\n",
       "      <td>3</td>\n",
       "      <td>2</td>\n",
       "      <td>1</td>\n",
       "      <td>504672</td>\n",
       "      <td>8</td>\n",
       "      <td>...</td>\n",
       "      <td>NaN</td>\n",
       "      <td>NaN</td>\n",
       "      <td>NaN</td>\n",
       "      <td>NaN</td>\n",
       "      <td>NaN</td>\n",
       "      <td>NaN</td>\n",
       "      <td>NaN</td>\n",
       "      <td>NaN</td>\n",
       "      <td>NaN</td>\n",
       "      <td>-9</td>\n",
       "    </tr>\n",
       "    <tr>\n",
       "      <th>4</th>\n",
       "      <td>5</td>\n",
       "      <td>1  3</td>\n",
       "      <td>5</td>\n",
       "      <td>BD6</td>\n",
       "      <td>1</td>\n",
       "      <td>3</td>\n",
       "      <td>2</td>\n",
       "      <td>1</td>\n",
       "      <td>504672</td>\n",
       "      <td>8</td>\n",
       "      <td>...</td>\n",
       "      <td>NaN</td>\n",
       "      <td>NaN</td>\n",
       "      <td>NaN</td>\n",
       "      <td>NaN</td>\n",
       "      <td>NaN</td>\n",
       "      <td>NaN</td>\n",
       "      <td>NaN</td>\n",
       "      <td>NaN</td>\n",
       "      <td>NaN</td>\n",
       "      <td>-9</td>\n",
       "    </tr>\n",
       "  </tbody>\n",
       "</table>\n",
       "<p>5 rows × 384 columns</p>\n",
       "</div>"
      ],
      "text/plain": [
       "   Unnamed: 0          hhid  hvidx hv000  hv001  hv002  hv003  hv004   hv005  \\\n",
       "0           1          1  3      1   BD6      1      3      2      1  504672   \n",
       "1           2          1  3      2   BD6      1      3      2      1  504672   \n",
       "2           3          1  3      3   BD6      1      3      2      1  504672   \n",
       "3           4          1  3      4   BD6      1      3      2      1  504672   \n",
       "4           5          1  3      5   BD6      1      3      2      1  504672   \n",
       "\n",
       "   hv006  ...  shbm  shri  shcmc  shflg  shsmk  shresi  shed1  shed2  shed3  \\\n",
       "0      8  ...   NaN   NaN    NaN    NaN    NaN     NaN    NaN    NaN    NaN   \n",
       "1      8  ...   NaN   NaN    NaN    NaN    NaN     NaN    NaN    NaN    NaN   \n",
       "2      8  ...   NaN   NaN    NaN    NaN    NaN     NaN    NaN    NaN    NaN   \n",
       "3      8  ...   NaN   NaN    NaN    NaN    NaN     NaN    NaN    NaN    NaN   \n",
       "4      8  ...   NaN   NaN    NaN    NaN    NaN     NaN    NaN    NaN    NaN   \n",
       "\n",
       "   hypertension  \n",
       "0            -9  \n",
       "1            -9  \n",
       "2            -9  \n",
       "3            -9  \n",
       "4            -9  \n",
       "\n",
       "[5 rows x 384 columns]"
      ]
     },
     "execution_count": 8,
     "metadata": {},
     "output_type": "execute_result"
    }
   ],
   "source": [
    "ncd_data.head()"
   ]
  },
  {
   "cell_type": "code",
   "execution_count": 9,
   "metadata": {},
   "outputs": [
    {
     "data": {
      "text/html": [
       "<div>\n",
       "<style scoped>\n",
       "    .dataframe tbody tr th:only-of-type {\n",
       "        vertical-align: middle;\n",
       "    }\n",
       "\n",
       "    .dataframe tbody tr th {\n",
       "        vertical-align: top;\n",
       "    }\n",
       "\n",
       "    .dataframe thead th {\n",
       "        text-align: right;\n",
       "    }\n",
       "</style>\n",
       "<table border=\"1\" class=\"dataframe\">\n",
       "  <thead>\n",
       "    <tr style=\"text-align: right;\">\n",
       "      <th></th>\n",
       "      <th>variable</th>\n",
       "      <th>description</th>\n",
       "      <th>model_keep</th>\n",
       "      <th>num_values</th>\n",
       "      <th>type</th>\n",
       "    </tr>\n",
       "  </thead>\n",
       "  <tbody>\n",
       "    <tr>\n",
       "      <th>0</th>\n",
       "      <td>hhid</td>\n",
       "      <td>Case Identification</td>\n",
       "      <td>0</td>\n",
       "      <td>17141</td>\n",
       "      <td>numeric</td>\n",
       "    </tr>\n",
       "    <tr>\n",
       "      <th>1</th>\n",
       "      <td>hvidx</td>\n",
       "      <td>Line number</td>\n",
       "      <td>0</td>\n",
       "      <td>31</td>\n",
       "      <td>categorical</td>\n",
       "    </tr>\n",
       "    <tr>\n",
       "      <th>2</th>\n",
       "      <td>hv000</td>\n",
       "      <td>Country code and phase</td>\n",
       "      <td>0</td>\n",
       "      <td>1</td>\n",
       "      <td>categorical</td>\n",
       "    </tr>\n",
       "    <tr>\n",
       "      <th>3</th>\n",
       "      <td>hv001</td>\n",
       "      <td>Cluster number</td>\n",
       "      <td>0</td>\n",
       "      <td>600</td>\n",
       "      <td>categorical</td>\n",
       "    </tr>\n",
       "    <tr>\n",
       "      <th>4</th>\n",
       "      <td>hv002</td>\n",
       "      <td>Household number</td>\n",
       "      <td>0</td>\n",
       "      <td>184</td>\n",
       "      <td>categorical</td>\n",
       "    </tr>\n",
       "  </tbody>\n",
       "</table>\n",
       "</div>"
      ],
      "text/plain": [
       "  variable             description  model_keep  num_values         type\n",
       "0     hhid     Case Identification           0       17141      numeric\n",
       "1    hvidx             Line number           0          31  categorical\n",
       "2    hv000  Country code and phase           0           1  categorical\n",
       "3    hv001          Cluster number           0         600  categorical\n",
       "4    hv002        Household number           0         184  categorical"
      ]
     },
     "execution_count": 9,
     "metadata": {},
     "output_type": "execute_result"
    }
   ],
   "source": [
    "ncd_metadata.head()"
   ]
  },
  {
   "cell_type": "code",
   "execution_count": 10,
   "metadata": {},
   "outputs": [
    {
     "name": "stdout",
     "output_type": "stream",
     "text": [
      "sh19 Eligible for blood glucose and blood pressure tests: Woman\n",
      "sh20 Eligible for height, weight,blood glucose and blood pressure tests: Woman\n",
      "sh22 Eligible for height,weight,blood glucose and blood pressure tests:Man\n",
      "sh241 Consent for blood pressure measurement\n",
      "sh244 Arm Circumference measurement for blood pressure\n",
      "sh245 Time for first blood pressure test\n",
      "sh246s Systolic blood pressure measurement\n",
      "sh246d Diastolic blood pressure measurement\n",
      "sh249 Told by a doctor to have high blood pressure\n",
      "sh250 Taking prescribed medicine to lower blood pressure\n",
      "sh253 Time for second blood pressure test\n",
      "sh254 Consent for second blood pressure test\n",
      "sh255s Systolic blood pressure\n",
      "sh255d Diastolic blood pressure\n",
      "sh262 Time for third blood pressure test\n",
      "sh263 Consent for third blood pressure test\n",
      "sh264s Systolic blood pressure\n",
      "sh264d Diastolic blood pressure\n",
      "fdysto Valid Dystolic blood pressure\n"
     ]
    }
   ],
   "source": [
    "for num, var in enumerate(ncd_metadata['description']):\n",
    "    if \"blood pressure\" in var:\n",
    "        print(ncd_metadata['variable'][num], ncd_metadata['description'][num])"
   ]
  },
  {
   "cell_type": "code",
   "execution_count": 11,
   "metadata": {},
   "outputs": [
    {
     "name": "stdout",
     "output_type": "stream",
     "text": [
      "sh246s Systolic blood pressure measurement\n",
      "sh246d Diastolic blood pressure measurement\n",
      "sh255s Systolic blood pressure\n",
      "sh255d Diastolic blood pressure\n",
      "sh264s Systolic blood pressure\n",
      "sh264d Diastolic blood pressure\n",
      "fdysto Valid Dystolic blood pressure\n"
     ]
    }
   ],
   "source": [
    "for num, var in enumerate(ncd_metadata['description']):\n",
    "    if \"tolic blood pressure\" in var:\n",
    "        print(ncd_metadata['variable'][num], ncd_metadata['description'][num])"
   ]
  },
  {
   "cell_type": "markdown",
   "metadata": {},
   "source": [
    "### Subset data by target variable missingness"
   ]
  },
  {
   "cell_type": "code",
   "execution_count": 12,
   "metadata": {},
   "outputs": [
    {
     "name": "stdout",
     "output_type": "stream",
     "text": [
      "(83731, 384)\n",
      "(7992, 384)\n"
     ]
    },
    {
     "data": {
      "text/plain": [
       "True"
      ]
     },
     "execution_count": 12,
     "metadata": {},
     "output_type": "execute_result"
    }
   ],
   "source": [
    "data = subset_by_var2(input_df=ncd_data, var='hypertension')\n",
    "'hypertension' in data.columns"
   ]
  },
  {
   "cell_type": "markdown",
   "metadata": {},
   "source": [
    "### Subset data by metadata file (variables to keep column)"
   ]
  },
  {
   "cell_type": "code",
   "execution_count": 13,
   "metadata": {},
   "outputs": [
    {
     "name": "stdout",
     "output_type": "stream",
     "text": [
      "(7992, 384)\n",
      "(7992, 307)\n"
     ]
    },
    {
     "data": {
      "text/plain": [
       "True"
      ]
     },
     "execution_count": 13,
     "metadata": {},
     "output_type": "execute_result"
    }
   ],
   "source": [
    "data = remove_metadata(input_df=data, metadata=ncd_metadata)\n",
    "'hypertension' in data.columns"
   ]
  },
  {
   "cell_type": "markdown",
   "metadata": {},
   "source": [
    "### Remove uniformed variables (no variation)"
   ]
  },
  {
   "cell_type": "code",
   "execution_count": 14,
   "metadata": {},
   "outputs": [
    {
     "name": "stdout",
     "output_type": "stream",
     "text": [
      "(7992, 307)\n",
      "['hv015', 'hv020', 'hv027', 'hv042', 'hv120', 'hv121', 'hv122', 'hv124', 'sh21', 'ha62', 'hb62']\n",
      "(7992, 296)\n"
     ]
    },
    {
     "data": {
      "text/plain": [
       "True"
      ]
     },
     "execution_count": 14,
     "metadata": {},
     "output_type": "execute_result"
    }
   ],
   "source": [
    "data = remove_uniform(input_df=data)\n",
    "'hypertension' in data.columns"
   ]
  },
  {
   "cell_type": "markdown",
   "metadata": {},
   "source": [
    "### Removing missing by threshold "
   ]
  },
  {
   "cell_type": "code",
   "execution_count": 15,
   "metadata": {},
   "outputs": [
    {
     "name": "stdout",
     "output_type": "stream",
     "text": [
      "(7992, 296)\n",
      "(7992, 102)\n"
     ]
    },
    {
     "data": {
      "text/plain": [
       "True"
      ]
     },
     "execution_count": 15,
     "metadata": {},
     "output_type": "execute_result"
    }
   ],
   "source": [
    "data = remove_missing(input_df=data, threshold=1)\n",
    "'hypertension' in data.columns"
   ]
  },
  {
   "cell_type": "markdown",
   "metadata": {},
   "source": [
    "### Checking variables"
   ]
  },
  {
   "cell_type": "code",
   "execution_count": 16,
   "metadata": {},
   "outputs": [
    {
     "data": {
      "text/plain": [
       "[]"
      ]
     },
     "execution_count": 16,
     "metadata": {},
     "output_type": "execute_result"
    }
   ],
   "source": [
    "check_variables(input_df=data)"
   ]
  },
  {
   "cell_type": "markdown",
   "metadata": {},
   "source": [
    "### Removing meta variables"
   ]
  },
  {
   "cell_type": "code",
   "execution_count": 17,
   "metadata": {},
   "outputs": [
    {
     "data": {
      "text/html": [
       "<div>\n",
       "<style scoped>\n",
       "    .dataframe tbody tr th:only-of-type {\n",
       "        vertical-align: middle;\n",
       "    }\n",
       "\n",
       "    .dataframe tbody tr th {\n",
       "        vertical-align: top;\n",
       "    }\n",
       "\n",
       "    .dataframe thead th {\n",
       "        text-align: right;\n",
       "    }\n",
       "</style>\n",
       "<table border=\"1\" class=\"dataframe\">\n",
       "  <thead>\n",
       "    <tr style=\"text-align: right;\">\n",
       "      <th></th>\n",
       "      <th>hv009</th>\n",
       "      <th>hv010</th>\n",
       "      <th>hv011</th>\n",
       "      <th>hv012</th>\n",
       "      <th>hv013</th>\n",
       "      <th>hv014</th>\n",
       "      <th>hv016</th>\n",
       "      <th>hv017</th>\n",
       "      <th>hv024</th>\n",
       "      <th>hv025</th>\n",
       "      <th>...</th>\n",
       "      <th>sh234c</th>\n",
       "      <th>sh237</th>\n",
       "      <th>sh239</th>\n",
       "      <th>sh241</th>\n",
       "      <th>sh257</th>\n",
       "      <th>shwh</th>\n",
       "      <th>shcmc</th>\n",
       "      <th>shed1</th>\n",
       "      <th>shed3</th>\n",
       "      <th>hypertension</th>\n",
       "    </tr>\n",
       "  </thead>\n",
       "  <tbody>\n",
       "    <tr>\n",
       "      <th>16</th>\n",
       "      <td>6</td>\n",
       "      <td>0</td>\n",
       "      <td>0</td>\n",
       "      <td>6</td>\n",
       "      <td>2</td>\n",
       "      <td>1</td>\n",
       "      <td>10</td>\n",
       "      <td>1</td>\n",
       "      <td>1</td>\n",
       "      <td>2</td>\n",
       "      <td>...</td>\n",
       "      <td>58.0</td>\n",
       "      <td>0.0</td>\n",
       "      <td>0.0</td>\n",
       "      <td>1.0</td>\n",
       "      <td>1.0</td>\n",
       "      <td>0.0</td>\n",
       "      <td>642.0</td>\n",
       "      <td>0.0</td>\n",
       "      <td>0.0</td>\n",
       "      <td>0</td>\n",
       "    </tr>\n",
       "    <tr>\n",
       "      <th>17</th>\n",
       "      <td>6</td>\n",
       "      <td>0</td>\n",
       "      <td>0</td>\n",
       "      <td>6</td>\n",
       "      <td>2</td>\n",
       "      <td>1</td>\n",
       "      <td>10</td>\n",
       "      <td>1</td>\n",
       "      <td>1</td>\n",
       "      <td>2</td>\n",
       "      <td>...</td>\n",
       "      <td>60.0</td>\n",
       "      <td>1.0</td>\n",
       "      <td>13.0</td>\n",
       "      <td>1.0</td>\n",
       "      <td>1.0</td>\n",
       "      <td>3.0</td>\n",
       "      <td>614.0</td>\n",
       "      <td>1.0</td>\n",
       "      <td>1.0</td>\n",
       "      <td>1</td>\n",
       "    </tr>\n",
       "    <tr>\n",
       "      <th>26</th>\n",
       "      <td>5</td>\n",
       "      <td>1</td>\n",
       "      <td>1</td>\n",
       "      <td>5</td>\n",
       "      <td>5</td>\n",
       "      <td>1</td>\n",
       "      <td>10</td>\n",
       "      <td>1</td>\n",
       "      <td>1</td>\n",
       "      <td>2</td>\n",
       "      <td>...</td>\n",
       "      <td>36.0</td>\n",
       "      <td>1.0</td>\n",
       "      <td>52.0</td>\n",
       "      <td>1.0</td>\n",
       "      <td>1.0</td>\n",
       "      <td>0.0</td>\n",
       "      <td>907.0</td>\n",
       "      <td>1.0</td>\n",
       "      <td>1.0</td>\n",
       "      <td>0</td>\n",
       "    </tr>\n",
       "    <tr>\n",
       "      <th>39</th>\n",
       "      <td>2</td>\n",
       "      <td>0</td>\n",
       "      <td>0</td>\n",
       "      <td>2</td>\n",
       "      <td>2</td>\n",
       "      <td>0</td>\n",
       "      <td>10</td>\n",
       "      <td>1</td>\n",
       "      <td>1</td>\n",
       "      <td>2</td>\n",
       "      <td>...</td>\n",
       "      <td>65.0</td>\n",
       "      <td>0.0</td>\n",
       "      <td>13.0</td>\n",
       "      <td>1.0</td>\n",
       "      <td>1.0</td>\n",
       "      <td>3.0</td>\n",
       "      <td>556.0</td>\n",
       "      <td>0.0</td>\n",
       "      <td>0.0</td>\n",
       "      <td>1</td>\n",
       "    </tr>\n",
       "    <tr>\n",
       "      <th>40</th>\n",
       "      <td>2</td>\n",
       "      <td>0</td>\n",
       "      <td>0</td>\n",
       "      <td>2</td>\n",
       "      <td>2</td>\n",
       "      <td>0</td>\n",
       "      <td>10</td>\n",
       "      <td>1</td>\n",
       "      <td>1</td>\n",
       "      <td>2</td>\n",
       "      <td>...</td>\n",
       "      <td>55.0</td>\n",
       "      <td>0.0</td>\n",
       "      <td>0.0</td>\n",
       "      <td>1.0</td>\n",
       "      <td>1.0</td>\n",
       "      <td>0.0</td>\n",
       "      <td>669.0</td>\n",
       "      <td>0.0</td>\n",
       "      <td>0.0</td>\n",
       "      <td>0</td>\n",
       "    </tr>\n",
       "  </tbody>\n",
       "</table>\n",
       "<p>5 rows × 101 columns</p>\n",
       "</div>"
      ],
      "text/plain": [
       "    hv009  hv010  hv011  hv012  hv013  hv014  hv016  hv017  hv024  hv025  ...  \\\n",
       "16      6      0      0      6      2      1     10      1      1      2  ...   \n",
       "17      6      0      0      6      2      1     10      1      1      2  ...   \n",
       "26      5      1      1      5      5      1     10      1      1      2  ...   \n",
       "39      2      0      0      2      2      0     10      1      1      2  ...   \n",
       "40      2      0      0      2      2      0     10      1      1      2  ...   \n",
       "\n",
       "    sh234c  sh237  sh239  sh241  sh257  shwh  shcmc  shed1  shed3  \\\n",
       "16    58.0    0.0    0.0    1.0    1.0   0.0  642.0    0.0    0.0   \n",
       "17    60.0    1.0   13.0    1.0    1.0   3.0  614.0    1.0    1.0   \n",
       "26    36.0    1.0   52.0    1.0    1.0   0.0  907.0    1.0    1.0   \n",
       "39    65.0    0.0   13.0    1.0    1.0   3.0  556.0    0.0    0.0   \n",
       "40    55.0    0.0    0.0    1.0    1.0   0.0  669.0    0.0    0.0   \n",
       "\n",
       "    hypertension  \n",
       "16             0  \n",
       "17             1  \n",
       "26             0  \n",
       "39             1  \n",
       "40             0  \n",
       "\n",
       "[5 rows x 101 columns]"
      ]
     },
     "execution_count": 17,
     "metadata": {},
     "output_type": "execute_result"
    }
   ],
   "source": [
    "data = data.drop(['Unnamed: 0'],axis=1)\n",
    "data.head()"
   ]
  },
  {
   "cell_type": "markdown",
   "metadata": {},
   "source": [
    "# Predictors\n",
    "- **Education (completed in years)**\n",
    "    1. DHS: **hv108** - Education completed in single years\n",
    "    2. SVRS2017: **q_16** - Level of Education\n",
    "- **Age**\n",
    "    1. DHS: **hv105** - Age of household members\n",
    "    2. SVRS2017: **q_10** - Age\n",
    "- **Urban/rural**\n",
    "    1. DHS: 'hv025'\n",
    "    2. SVRS2017: 'Rural/Urban' / 'rmo'\n",
    "- **Sex**\n",
    "    1. DHS:'hv104'\n",
    "    2. SVRS2017: 'Sex'"
   ]
  },
  {
   "cell_type": "code",
   "execution_count": 18,
   "metadata": {},
   "outputs": [
    {
     "data": {
      "text/html": [
       "<div>\n",
       "<style scoped>\n",
       "    .dataframe tbody tr th:only-of-type {\n",
       "        vertical-align: middle;\n",
       "    }\n",
       "\n",
       "    .dataframe tbody tr th {\n",
       "        vertical-align: top;\n",
       "    }\n",
       "\n",
       "    .dataframe thead th {\n",
       "        text-align: right;\n",
       "    }\n",
       "</style>\n",
       "<table border=\"1\" class=\"dataframe\">\n",
       "  <thead>\n",
       "    <tr style=\"text-align: right;\">\n",
       "      <th></th>\n",
       "      <th>Education</th>\n",
       "      <th>Age</th>\n",
       "      <th>Urban/Rural</th>\n",
       "      <th>Gender</th>\n",
       "      <th>Hypertension</th>\n",
       "    </tr>\n",
       "  </thead>\n",
       "  <tbody>\n",
       "    <tr>\n",
       "      <th>16</th>\n",
       "      <td>0</td>\n",
       "      <td>58</td>\n",
       "      <td>2</td>\n",
       "      <td>2</td>\n",
       "      <td>0</td>\n",
       "    </tr>\n",
       "    <tr>\n",
       "      <th>17</th>\n",
       "      <td>3</td>\n",
       "      <td>60</td>\n",
       "      <td>2</td>\n",
       "      <td>1</td>\n",
       "      <td>1</td>\n",
       "    </tr>\n",
       "    <tr>\n",
       "      <th>26</th>\n",
       "      <td>2</td>\n",
       "      <td>36</td>\n",
       "      <td>2</td>\n",
       "      <td>1</td>\n",
       "      <td>0</td>\n",
       "    </tr>\n",
       "    <tr>\n",
       "      <th>39</th>\n",
       "      <td>0</td>\n",
       "      <td>65</td>\n",
       "      <td>2</td>\n",
       "      <td>1</td>\n",
       "      <td>1</td>\n",
       "    </tr>\n",
       "    <tr>\n",
       "      <th>40</th>\n",
       "      <td>0</td>\n",
       "      <td>55</td>\n",
       "      <td>2</td>\n",
       "      <td>2</td>\n",
       "      <td>0</td>\n",
       "    </tr>\n",
       "  </tbody>\n",
       "</table>\n",
       "</div>"
      ],
      "text/plain": [
       "    Education  Age  Urban/Rural  Gender  Hypertension\n",
       "16          0   58            2       2             0\n",
       "17          3   60            2       1             1\n",
       "26          2   36            2       1             0\n",
       "39          0   65            2       1             1\n",
       "40          0   55            2       2             0"
      ]
     },
     "execution_count": 18,
     "metadata": {},
     "output_type": "execute_result"
    }
   ],
   "source": [
    "variables = ['Education', 'Age', 'Urban/Rural', 'Gender']\n",
    "orig_data = data[['hv108', 'hv105', 'hv025', 'hv104', 'hypertension']]\n",
    "orig_data.columns = variables + ['Hypertension']\n",
    "orig_data = orig_data[orig_data['Education'] != 98]\n",
    "orig_data = orig_data[orig_data['Education'] != 97]\n",
    "orig_data = orig_data[orig_data['Hypertension'] != 9]\n",
    "orig_data = orig_data[orig_data['Education'] != 99]\n",
    "orig_data = orig_data[orig_data['Education'] != 99]\n",
    "orig_data.head()"
   ]
  },
  {
   "cell_type": "markdown",
   "metadata": {},
   "source": [
    "### DHS Codes\tNew Codes Categorisation 1\n",
    "- 0\t\tNo education [0]\n",
    "- 1\t\tPrimary Education [1]\n",
    "- 2\t\tPrimary Education [1]\n",
    "- 3\t\tPrimary Education [1]\n",
    "- 4\t\tPrimary Education [1]\n",
    "- 5\t\tPrimary Education [1]\n",
    "- 6\t\tSecondary Education [2]\n",
    "- 7\t\tSecondary Education [2]\n",
    "- 8\t\tSecondary Education [2]\n",
    "- 9\t\tSecondary Education [2]\n",
    "- 10\tSecondary Education [2]\n",
    "- 11\tHigher Secondary Education [3]\n",
    "- 12\tHigher Secondary Education [3]\n",
    "- 13\tUndergraduate and more [4]\n",
    "- 14\tUndergraduate and more [4]\n",
    "- 15\tUndergraduate and more [4]\n",
    "- 16\tUndergraduate and more [4]\n",
    "- 17\tUndergraduate and more [4]\n",
    "- 18\tUndergraduate and more [4]\n",
    "- 97\tRemove [-1]\n",
    "- 98\tRemove [-1]"
   ]
  },
  {
   "cell_type": "markdown",
   "metadata": {},
   "source": [
    "### DHS Codes\tNew Codes Categorisation 2\n",
    "- **0** [No education]: 0\n",
    "- **1,2,3,4** [Primary incomplete]: 1\n",
    "- **5** [Completed primary]: 2\n",
    "- **6,7,8,9** [Secondary incomplete]: 3\n",
    "- **10** [Completed secondary]: 4\n",
    "- **11-18** [More than secondary]: 5\n",
    "- **97** [Missing]: Remove\n",
    "- **98** [Missing]: Remove"
   ]
  },
  {
   "cell_type": "code",
   "execution_count": 19,
   "metadata": {},
   "outputs": [
    {
     "name": "stdout",
     "output_type": "stream",
     "text": [
      "Counter({0: 3733, 1: 2128, 2: 1491, 4: 366, 3: 274})\n",
      "0     3733\n",
      "1      236\n",
      "2      355\n",
      "3      295\n",
      "4      413\n",
      "5      829\n",
      "6      149\n",
      "7      214\n",
      "8      306\n",
      "9      420\n",
      "10     402\n",
      "11       7\n",
      "12     267\n",
      "13       2\n",
      "14     170\n",
      "15      50\n",
      "16     110\n",
      "17      31\n",
      "18       3\n",
      "Name: Education, dtype: int64\n"
     ]
    }
   ],
   "source": [
    "edu_categorisation_1 = []\n",
    "for i in orig_data['Education']:\n",
    "    if i == 0:\n",
    "        edu_categorisation_1.append(0)\n",
    "    elif (i >= 1 and i <= 5):\n",
    "        edu_categorisation_1.append(1)\n",
    "    elif (i >= 6 and i <= 10):\n",
    "        edu_categorisation_1.append(2)\n",
    "    elif (i >= 11 and i <= 12):\n",
    "        edu_categorisation_1.append(3)\n",
    "    elif (i >= 13 and i <= 18):\n",
    "        edu_categorisation_1.append(4)\n",
    "    elif (i == 97 or i == 98):\n",
    "        edu_categorisation_1.append(-1)\n",
    "print(Counter(edu_categorisation_1))\n",
    "print(orig_data['Education'].value_counts().sort_index())"
   ]
  },
  {
   "cell_type": "code",
   "execution_count": 20,
   "metadata": {},
   "outputs": [
    {
     "name": "stdout",
     "output_type": "stream",
     "text": [
      "Counter({0: 3733, 1: 1299, 3: 1089, 2: 829, 5: 640, 4: 402})\n",
      "0     3733\n",
      "1      236\n",
      "2      355\n",
      "3      295\n",
      "4      413\n",
      "5      829\n",
      "6      149\n",
      "7      214\n",
      "8      306\n",
      "9      420\n",
      "10     402\n",
      "11       7\n",
      "12     267\n",
      "13       2\n",
      "14     170\n",
      "15      50\n",
      "16     110\n",
      "17      31\n",
      "18       3\n",
      "Name: Education, dtype: int64\n"
     ]
    }
   ],
   "source": [
    "edu_categorisation_2 = []\n",
    "for i in orig_data['Education']:\n",
    "    if i == 0:\n",
    "        edu_categorisation_2.append(0)\n",
    "    elif (i >= 1 and i <= 4):\n",
    "        edu_categorisation_2.append(1)\n",
    "    elif (i == 5):\n",
    "        edu_categorisation_2.append(2)\n",
    "    elif (i >= 6 and i <= 9):\n",
    "        edu_categorisation_2.append(3)\n",
    "    elif (i == 10):\n",
    "        edu_categorisation_2.append(4)\n",
    "    elif (i >= 11 and i <= 18):\n",
    "        edu_categorisation_2.append(5)\n",
    "    elif (i == 97 or i == 98):\n",
    "        edu_categorisation_1.append(-1)\n",
    "print(Counter(edu_categorisation_2))\n",
    "print(orig_data['Education'].value_counts().sort_index())"
   ]
  },
  {
   "cell_type": "code",
   "execution_count": 21,
   "metadata": {},
   "outputs": [
    {
     "data": {
      "text/plain": [
       "Age              int64\n",
       "Urban/Rural_1    uint8\n",
       "Urban/Rural_2    uint8\n",
       "Gender_1         uint8\n",
       "Gender_2         uint8\n",
       "Education_1_0    uint8\n",
       "Education_1_1    uint8\n",
       "Education_1_2    uint8\n",
       "Education_1_3    uint8\n",
       "Education_1_4    uint8\n",
       "dtype: object"
      ]
     },
     "execution_count": 21,
     "metadata": {},
     "output_type": "execute_result"
    }
   ],
   "source": [
    "orig_data['Urban/Rural'] = orig_data['Urban/Rural'].astype('category')\n",
    "orig_data['Gender'] = orig_data['Gender'].astype('category')\n",
    "orig_data['Education_1'] = edu_categorisation_1\n",
    "orig_data['Education_1'] = orig_data['Education_1'].astype('category')\n",
    "orig_data['Education_2'] = edu_categorisation_2\n",
    "orig_data['Education_2'] = orig_data['Education_2'].astype('category')\n",
    "\n",
    "y = orig_data['Hypertension']\n",
    "# X = orig_data.drop(['Hypertension', 'Education', 'Education_1'], axis=1)\n",
    "X = orig_data.drop(['Hypertension', 'Education', 'Education_2'], axis=1)\n",
    "X.dtypes\n",
    "X = pd.get_dummies(X)\n",
    "X.dtypes"
   ]
  },
  {
   "cell_type": "code",
   "execution_count": 22,
   "metadata": {},
   "outputs": [],
   "source": [
    "X_train, X_test, y_train, y_test = train_test_split(X, y,\n",
    "                                                   test_size=0.2, random_state=84)"
   ]
  },
  {
   "cell_type": "markdown",
   "metadata": {},
   "source": [
    "# Fine-tuning the model - Hypertension"
   ]
  },
  {
   "cell_type": "code",
   "execution_count": 23,
   "metadata": {},
   "outputs": [],
   "source": [
    "X_data_train = X_train.copy(deep=True)\n",
    "X_data_train['Hypertension'] = y_train\n",
    "X_data_test = X_test.copy(deep=True)\n",
    "X_data_test['Hypertension'] = y_test"
   ]
  },
  {
   "cell_type": "code",
   "execution_count": 24,
   "metadata": {},
   "outputs": [
    {
     "name": "stdout",
     "output_type": "stream",
     "text": [
      "\n",
      "Model Report\n",
      "Accuracy : %.4g 0.7301736274049742\n",
      "AUC Score (Train): 0.7071766002574685]\n",
      "AUC Score (Test): 0.6863091149419736\n",
      "gbtree\n"
     ]
    },
    {
     "data": {
      "image/png": "[encoded data removed]",
      "text/plain": [
       "<Figure size 864x288 with 1 Axes>"
      ]
     },
     "metadata": {
      "needs_background": "light"
     },
     "output_type": "display_data"
    }
   ],
   "source": [
    "plt.rcParams['figure.figsize'] = 12, 4\n",
    "target = 'Hypertension'\n",
    "predictors = [x for x in X_data_train.columns if x not in [target]]\n",
    "\n",
    "xgb1 = XGBClassifier(\n",
    "        learning_rate =0.1,\n",
    "        n_estimators=1000,\n",
    "        max_depth=5,\n",
    "        min_child_weight=1,\n",
    "        gamma=0,\n",
    "        subsample=0.8,\n",
    "        colsample_bytree=0.8,\n",
    "        objective= 'binary:logistic',\n",
    "        nthread=4,\n",
    "        scale_pos_weight=1,\n",
    "        seed=84)\n",
    "modelfit(xgb1, X_data_train, X_data_test, predictors)"
   ]
  },
  {
   "cell_type": "markdown",
   "metadata": {},
   "source": [
    "## Grid seach on n_estimators: Initial step"
   ]
  },
  {
   "cell_type": "code",
   "execution_count": 25,
   "metadata": {},
   "outputs": [
    {
     "data": {
      "text/plain": [
       "GridSearchCV(cv=10, error_score='raise-deprecating',\n",
       "       estimator=XGBClassifier(base_score=0.5, booster='gbtree', colsample_bylevel=1,\n",
       "       colsample_bytree=0.8, gamma=0, learning_rate=0.1, max_delta_step=0,\n",
       "       max_depth=5, min_child_weight=1, missing=None, n_estimators=200,\n",
       "       n_jobs=1, nthread=4, objective='binary:logistic', random_state=0,\n",
       "       reg_alpha=0, reg_lambda=1, scale_pos_weight=1, seed=84, silent=True,\n",
       "       subsample=0.8),\n",
       "       fit_params=None, iid=False, n_jobs=4,\n",
       "       param_grid={'n_estimators': range(10, 1000, 100)},\n",
       "       pre_dispatch='2*n_jobs', refit=True, return_train_score='warn',\n",
       "       scoring='roc_auc', verbose=0)"
      ]
     },
     "execution_count": 25,
     "metadata": {},
     "output_type": "execute_result"
    }
   ],
   "source": [
    "param_test0 = {\n",
    "    'n_estimators':range(10,1000,100)\n",
    "}\n",
    "gsearch0 = GridSearchCV(estimator = XGBClassifier(learning_rate=0.1, n_estimators=200, max_depth=5,\n",
    "                                        min_child_weight=1, gamma=0, subsample=0.8, colsample_bytree=0.8,\n",
    "                                        objective= 'binary:logistic', nthread=4, scale_pos_weight=1, seed=84), \n",
    "                       param_grid = param_test0, scoring='roc_auc',n_jobs=4,iid=False, cv=10)\n",
    "gsearch0.fit(X_train,y_train)"
   ]
  },
  {
   "cell_type": "code",
   "execution_count": 26,
   "metadata": {},
   "outputs": [
    {
     "name": "stdout",
     "output_type": "stream",
     "text": [
      "####################################################################################################\n",
      "{'n_estimators': 10}\n",
      "0.6761498925087835\n",
      "####################################################################################################\n"
     ]
    }
   ],
   "source": [
    "#gsearch0.cv_results_,gsearch0.best_params_, gsearch0.best_score_\n",
    "print(\"#\"*100)\n",
    "print(gsearch0.best_params_)\n",
    "print(gsearch0.best_score_)\n",
    "print(\"#\"*100)"
   ]
  },
  {
   "cell_type": "code",
   "execution_count": 27,
   "metadata": {},
   "outputs": [
    {
     "data": {
      "text/plain": [
       "GridSearchCV(cv=10, error_score='raise-deprecating',\n",
       "       estimator=XGBClassifier(base_score=0.5, booster='gbtree', colsample_bylevel=1,\n",
       "       colsample_bytree=0.8, gamma=0, learning_rate=0.1, max_delta_step=0,\n",
       "       max_depth=5, min_child_weight=1, missing=None, n_estimators=200,\n",
       "       n_jobs=1, nthread=4, objective='binary:logistic', random_state=0,\n",
       "       reg_alpha=0, reg_lambda=1, scale_pos_weight=1, seed=84, silent=True,\n",
       "       subsample=0.8),\n",
       "       fit_params=None, iid=False, n_jobs=4,\n",
       "       param_grid={'n_estimators': range(2, 10)}, pre_dispatch='2*n_jobs',\n",
       "       refit=True, return_train_score='warn', scoring='roc_auc', verbose=0)"
      ]
     },
     "execution_count": 27,
     "metadata": {},
     "output_type": "execute_result"
    }
   ],
   "source": [
    "param_test0a = {\n",
    "    'n_estimators':range(2,10,1)\n",
    "}\n",
    "gsearch0a = GridSearchCV(estimator = XGBClassifier(learning_rate=0.1, n_estimators=200, max_depth=5,\n",
    "                                        min_child_weight=1, gamma=0, subsample=0.8, colsample_bytree=0.8,\n",
    "                                        objective= 'binary:logistic', nthread=4, scale_pos_weight=1, seed=84), \n",
    "                       param_grid = param_test0a, scoring='roc_auc',n_jobs=4,iid=False, cv=10)\n",
    "gsearch0a.fit(X_train,y_train)"
   ]
  },
  {
   "cell_type": "code",
   "execution_count": 28,
   "metadata": {},
   "outputs": [
    {
     "name": "stdout",
     "output_type": "stream",
     "text": [
      "####################################################################################################\n",
      "{'n_estimators': 6}\n",
      "0.6761329748007746\n",
      "####################################################################################################\n"
     ]
    }
   ],
   "source": [
    "#gsearch0a.cv_results_,gsearch0a.best_params_, gsearch0a.best_score_\n",
    "print(\"#\"*100)\n",
    "print(gsearch0a.best_params_)\n",
    "print(gsearch0a.best_score_)\n",
    "print(\"#\"*100)"
   ]
  },
  {
   "cell_type": "markdown",
   "metadata": {},
   "source": [
    "## Grid seach on max_depth and min_child_weight: Initial step"
   ]
  },
  {
   "cell_type": "code",
   "execution_count": null,
   "metadata": {},
   "outputs": [],
   "source": [
    "param_test1 = {\n",
    "    'max_depth':range(3,10,1),\n",
    "    'min_child_weight':range(1,10,1)\n",
    "}\n",
    "gsearch1 = GridSearchCV(estimator = XGBClassifier(learning_rate=0.1, n_estimators=6, max_depth=5,\n",
    "                                        min_child_weight=1, gamma=0, subsample=0.8, colsample_bytree=0.8,\n",
    "                                        objective= 'binary:logistic', nthread=4, scale_pos_weight=1, seed=84), \n",
    "                       param_grid = param_test1, scoring='roc_auc',n_jobs=4,iid=False, cv=10)\n",
    "gsearch1.fit(X_train,y_train)"
   ]
  },
  {
   "cell_type": "code",
   "execution_count": null,
   "metadata": {},
   "outputs": [],
   "source": [
    "print(gsearch1.best_params_)\n",
    "print(gsearch1.best_score_)\n",
    "print(\"#\"*100)\n",
    "#gsearch1.cv_results_,gsearch1.best_params_, gsearch1.best_score_"
   ]
  },
  {
   "cell_type": "markdown",
   "metadata": {},
   "source": [
    "## Grid seach on max_depth and min_child_weight: Step 2"
   ]
  },
  {
   "cell_type": "code",
   "execution_count": 29,
   "metadata": {},
   "outputs": [
    {
     "data": {
      "text/plain": [
       "GridSearchCV(cv=10, error_score='raise-deprecating',\n",
       "       estimator=XGBClassifier(base_score=0.5, booster='gbtree', colsample_bylevel=1,\n",
       "       colsample_bytree=0.8, gamma=0.0, learning_rate=0.1,\n",
       "       max_delta_step=0, max_depth=6, min_child_weight=8, missing=None,\n",
       "       n_estimators=6, n_jobs=1, nthread=4, objective='binary:logistic',\n",
       "       random_state=0, reg_alpha=0, reg_lambda=1, scale_pos_weight=1,\n",
       "       seed=84, silent=True, subsample=0.8),\n",
       "       fit_params=None, iid=False, n_jobs=4,\n",
       "       param_grid={'max_depth': [4, 5, 6, 7, 8], 'min_child_weight': [6, 7, 8, 9, 10]},\n",
       "       pre_dispatch='2*n_jobs', refit=True, return_train_score='warn',\n",
       "       scoring='roc_auc', verbose=0)"
      ]
     },
     "execution_count": 29,
     "metadata": {},
     "output_type": "execute_result"
    }
   ],
   "source": [
    "param_test2 = {\n",
    "    'max_depth':[4,5,6,7,8],\n",
    "    'min_child_weight':[6,7,8,9,10]\n",
    "}\n",
    "gsearch2 = GridSearchCV(estimator = XGBClassifier(learning_rate =0.1, n_estimators=6, max_depth=6,\n",
    "                                        min_child_weight=8, gamma=0.0, subsample=0.8, colsample_bytree=0.8,\n",
    "                                        objective= 'binary:logistic', nthread=4, scale_pos_weight=1, seed=84), \n",
    "                       param_grid = param_test2, scoring='roc_auc',n_jobs=4,iid=False, cv=10)\n",
    "gsearch2.fit(X_train,y_train)"
   ]
  },
  {
   "cell_type": "code",
   "execution_count": 30,
   "metadata": {},
   "outputs": [
    {
     "name": "stdout",
     "output_type": "stream",
     "text": [
      "####################################################################################################\n",
      "{'max_depth': 6, 'min_child_weight': 8}\n",
      "0.6780296014211725\n",
      "####################################################################################################\n"
     ]
    }
   ],
   "source": [
    "#gsearch2.cv_results_,gsearch2.best_params_, gsearch2.best_score_\n",
    "print(\"#\"*100)\n",
    "print(gsearch2.best_params_)\n",
    "print(gsearch2.best_score_)\n",
    "print(\"#\"*100)"
   ]
  },
  {
   "cell_type": "markdown",
   "metadata": {},
   "source": [
    "## Grid seach on gamma: Initial step"
   ]
  },
  {
   "cell_type": "code",
   "execution_count": 31,
   "metadata": {
    "scrolled": true
   },
   "outputs": [
    {
     "data": {
      "text/plain": [
       "GridSearchCV(cv=10, error_score='raise-deprecating',\n",
       "       estimator=XGBClassifier(base_score=0.5, booster='gbtree', colsample_bylevel=1,\n",
       "       colsample_bytree=0.8, gamma=0, learning_rate=0.1, max_delta_step=0,\n",
       "       max_depth=6, min_child_weight=8, missing=None, n_estimators=6,\n",
       "       n_jobs=1, nthread=4, objective='binary:logistic', random_state=0,\n",
       "       reg_alpha=0, reg_lambda=1, scale_pos_weight=1, seed=84, silent=True,\n",
       "       subsample=0.8),\n",
       "       fit_params=None, iid=False, n_jobs=4,\n",
       "       param_grid={'gamma': [0, 1, 5, 0.0, 0.1, 0.2, 0.3, 0.4]},\n",
       "       pre_dispatch='2*n_jobs', refit=True, return_train_score='warn',\n",
       "       scoring='roc_auc', verbose=0)"
      ]
     },
     "execution_count": 31,
     "metadata": {},
     "output_type": "execute_result"
    }
   ],
   "source": [
    "\n",
    "#Choose all predictors except target & IDcols\n",
    "param_test3 = {\n",
    "    'gamma':[0,1,5] + [i/10.0 for i in range(0,5)]\n",
    "}\n",
    "gsearch3 = GridSearchCV(estimator = XGBClassifier(learning_rate =0.1, n_estimators=6, max_depth=6,\n",
    "                                        min_child_weight=8, gamma=0, subsample=0.8, colsample_bytree=0.8,\n",
    "                                        objective= 'binary:logistic', nthread=4, scale_pos_weight=1,seed=84), \n",
    "                       param_grid = param_test3, scoring='roc_auc',n_jobs=4,iid=False, cv=10)\n",
    "gsearch3.fit(X_train,y_train)"
   ]
  },
  {
   "cell_type": "code",
   "execution_count": 32,
   "metadata": {
    "scrolled": false
   },
   "outputs": [
    {
     "name": "stdout",
     "output_type": "stream",
     "text": [
      "####################################################################################################\n",
      "{'gamma': 0}\n",
      "0.6780296014211725\n",
      "####################################################################################################\n"
     ]
    }
   ],
   "source": [
    "# gsearch3.cv_results_,gsearch3.best_params_, gsearch3.best_score_\n",
    "print(\"#\"*100)\n",
    "print(gsearch3.best_params_)\n",
    "print(gsearch3.best_score_)\n",
    "print(\"#\"*100)"
   ]
  },
  {
   "cell_type": "code",
   "execution_count": 33,
   "metadata": {
    "scrolled": true
   },
   "outputs": [
    {
     "data": {
      "text/plain": [
       "GridSearchCV(cv=10, error_score='raise-deprecating',\n",
       "       estimator=XGBClassifier(base_score=0.5, booster='gbtree', colsample_bylevel=1,\n",
       "       colsample_bytree=0.8, gamma=0, learning_rate=0.1, max_delta_step=0,\n",
       "       max_depth=6, min_child_weight=8, missing=None, n_estimators=6,\n",
       "       n_jobs=1, nthread=4, objective='binary:logistic', random_state=0,\n",
       "       reg_alpha=0, reg_lambda=1, scale_pos_weight=1, seed=84, silent=True,\n",
       "       subsample=0.8),\n",
       "       fit_params=None, iid=False, n_jobs=4,\n",
       "       param_grid={'gamma': [0, 0.025, 0.05, 0.075, 0.1]},\n",
       "       pre_dispatch='2*n_jobs', refit=True, return_train_score='warn',\n",
       "       scoring='roc_auc', verbose=0)"
      ]
     },
     "execution_count": 33,
     "metadata": {},
     "output_type": "execute_result"
    }
   ],
   "source": [
    "#Choose all predictors except target & IDcols\n",
    "param_test4= {\n",
    "    'gamma':[0, 0.025, 0.05, 0.075, 0.1]\n",
    "}\n",
    "gsearch4 = GridSearchCV(estimator = XGBClassifier(learning_rate =0.1, n_estimators=6, max_depth=6,\n",
    "                                        min_child_weight=8, gamma=0, subsample=0.8, colsample_bytree=0.8,\n",
    "                                        objective= 'binary:logistic', nthread=4, scale_pos_weight=1,seed=84), \n",
    "                       param_grid = param_test4, scoring='roc_auc',n_jobs=4,iid=False, cv=10)\n",
    "gsearch4.fit(X_train,y_train)"
   ]
  },
  {
   "cell_type": "code",
   "execution_count": 34,
   "metadata": {},
   "outputs": [
    {
     "name": "stdout",
     "output_type": "stream",
     "text": [
      "####################################################################################################\n",
      "{'gamma': 0.05}\n",
      "0.6782331833209152\n",
      "####################################################################################################\n"
     ]
    }
   ],
   "source": [
    "# gsearch3.cv_results_,gsearch3.best_params_, gsearch3.best_score_\n",
    "print(\"#\"*100)\n",
    "print(gsearch4.best_params_)\n",
    "print(gsearch4.best_score_)\n",
    "print(\"#\"*100)"
   ]
  },
  {
   "cell_type": "code",
   "execution_count": 36,
   "metadata": {},
   "outputs": [
    {
     "name": "stdout",
     "output_type": "stream",
     "text": [
      "\n",
      "Model Report\n",
      "Accuracy : %.4g 0.7250117315814172\n",
      "AUC Score (Train): 0.7012008824120523]\n",
      "AUC Score (Test): 0.6988656912056262\n",
      "gbtree\n"
     ]
    },
    {
     "data": {
      "image/png": "[encoded data removed]",
      "text/plain": [
       "<Figure size 864x288 with 1 Axes>"
      ]
     },
     "metadata": {
      "needs_background": "light"
     },
     "output_type": "display_data"
    }
   ],
   "source": [
    "predictors = [x for x in X_data_train.columns if x not in [target]]\n",
    "xgb2 = XGBClassifier(\n",
    "        learning_rate=0.1,\n",
    "        n_estimators=6,\n",
    "        max_depth=6,\n",
    "        min_child_weight=8,\n",
    "        gamma=0.05,\n",
    "        subsample=0.8,\n",
    "        colsample_bytree=0.8,\n",
    "        objective= 'binary:logistic',\n",
    "        nthread=4,\n",
    "        scale_pos_weight=1,\n",
    "        seed=84)\n",
    "modelfit(xgb2, X_data_train, X_data_test, predictors)"
   ]
  },
  {
   "cell_type": "markdown",
   "metadata": {},
   "source": [
    "## Grid seach on subsample and colsample_bytree: Initial step"
   ]
  },
  {
   "cell_type": "code",
   "execution_count": 44,
   "metadata": {},
   "outputs": [
    {
     "data": {
      "text/plain": [
       "GridSearchCV(cv=10, error_score='raise-deprecating',\n",
       "       estimator=XGBClassifier(base_score=0.5, booster='gbtree', colsample_bylevel=1,\n",
       "       colsample_bytree=0.8, gamma=0.05, learning_rate=0.1,\n",
       "       max_delta_step=0, max_depth=6, min_child_weight=8, missing=None,\n",
       "       n_estimators=6, n_jobs=1, nthread=4, objective='binary:logistic',\n",
       "       random_state=0, reg_alpha=0, reg_lambda=1, scale_pos_weight=1,\n",
       "       seed=84, silent=True, subsample=0.8),\n",
       "       fit_params=None, iid=False, n_jobs=4,\n",
       "       param_grid={'subsample': [0.6, 0.65, 0.7, 0.75, 0.8, 0.85, 0.9, 0.95], 'colsample_bytree': [0.6, 0.65, 0.7, 0.75, 0.8, 0.85, 0.9, 0.95]},\n",
       "       pre_dispatch='2*n_jobs', refit=True, return_train_score='warn',\n",
       "       scoring='roc_auc', verbose=0)"
      ]
     },
     "execution_count": 44,
     "metadata": {},
     "output_type": "execute_result"
    }
   ],
   "source": [
    "#Choose all predictors except target & IDcols\n",
    "param_test5 = {\n",
    "    'subsample':[i/100.0 for i in range(60,100,5)],\n",
    "    'colsample_bytree':[i/100.0 for i in range(60,100,5)]\n",
    "}\n",
    "gsearch5 = GridSearchCV(estimator = XGBClassifier(learning_rate =0.1, n_estimators=6, max_depth=6,\n",
    "                                        min_child_weight=8, gamma=0.05, subsample=0.8, colsample_bytree=0.8,\n",
    "                                        objective= 'binary:logistic', nthread=4, scale_pos_weight=1,seed=84), \n",
    "                       param_grid = param_test5, scoring='roc_auc',n_jobs=4,iid=False, cv=10)\n",
    "gsearch5.fit(X_train,y_train)"
   ]
  },
  {
   "cell_type": "code",
   "execution_count": 45,
   "metadata": {},
   "outputs": [
    {
     "name": "stdout",
     "output_type": "stream",
     "text": [
      "####################################################################################################\n",
      "{'colsample_bytree': 0.6, 'subsample': 0.85}\n",
      "0.6789138069872\n",
      "####################################################################################################\n"
     ]
    }
   ],
   "source": [
    "#gsearch5.cv_results_,gsearch5.best_params_, gsearch5.best_score_\n",
    "print(\"#\"*100)\n",
    "print(gsearch5.best_params_)\n",
    "print(gsearch5.best_score_)\n",
    "print(\"#\"*100)"
   ]
  },
  {
   "cell_type": "markdown",
   "metadata": {},
   "source": [
    "## Grid seach on subsample and colsample_bytree: Fine-tune"
   ]
  },
  {
   "cell_type": "code",
   "execution_count": 49,
   "metadata": {},
   "outputs": [
    {
     "data": {
      "text/plain": [
       "GridSearchCV(cv=10, error_score='raise-deprecating',\n",
       "       estimator=XGBClassifier(base_score=0.5, booster='gbtree', colsample_bylevel=1,\n",
       "       colsample_bytree=0.8, gamma=0.05, learning_rate=0.1,\n",
       "       max_delta_step=0, max_depth=6, min_child_weight=8, missing=None,\n",
       "       n_estimators=6, n_jobs=1, nthread=4, objective='binary:logistic',\n",
       "       random_state=0, reg_alpha=0, reg_lambda=1, scale_pos_weight=1,\n",
       "       seed=84, silent=True, subsample=0.8),\n",
       "       fit_params=None, iid=False, n_jobs=4,\n",
       "       param_grid={'subsample': [0.75, 0.76, 0.77, 0.78, 0.79, 0.8, 0.81, 0.82, 0.83, 0.84, 0.85, 0.86, 0.87, 0.88, 0.89, 0.9, 0.91, 0.92, 0.93, 0.94], 'colsample_bytree': [0.5, 0.51, 0.52, 0.53, 0.54, 0.55, 0.56, 0.57, 0.58, 0.59, 0.6, 0.61, 0.62, 0.63, 0.64, 0.65, 0.66, 0.67, 0.68, 0.69]},\n",
       "       pre_dispatch='2*n_jobs', refit=True, return_train_score='warn',\n",
       "       scoring='roc_auc', verbose=0)"
      ]
     },
     "execution_count": 49,
     "metadata": {},
     "output_type": "execute_result"
    }
   ],
   "source": [
    "#Choose all predictors except target & IDcols\n",
    "param_test6 = {\n",
    "    'subsample':[i/100.0 for i in range(75,95)],\n",
    "    'colsample_bytree':[i/100.0 for i in range(50,70)]\n",
    "}\n",
    "gsearch6 = GridSearchCV(estimator = XGBClassifier(learning_rate =0.1, n_estimators=6, max_depth=6,\n",
    "                                        min_child_weight=8, gamma=0.05, subsample=0.8, colsample_bytree=0.8,\n",
    "                                        objective= 'binary:logistic', nthread=4, scale_pos_weight=1,seed=84), \n",
    "                       param_grid = param_test6, scoring='roc_auc',n_jobs=4,iid=False, cv=10)\n",
    "gsearch6.fit(X_train,y_train)"
   ]
  },
  {
   "cell_type": "code",
   "execution_count": 50,
   "metadata": {},
   "outputs": [
    {
     "name": "stdout",
     "output_type": "stream",
     "text": [
      "{'colsample_bytree': 0.6, 'subsample': 0.85}\n",
      "0.6789138069872\n",
      "####################################################################################################\n"
     ]
    }
   ],
   "source": [
    "print(gsearch6.best_params_)\n",
    "print(gsearch6.best_score_)\n",
    "print(\"#\"*100)\n",
    "#gsearch6.cv_results_,gsearch6.best_params_, gsearch6.best_score_"
   ]
  },
  {
   "cell_type": "markdown",
   "metadata": {},
   "source": [
    "## Grid seach on reg_alpha: Initial step"
   ]
  },
  {
   "cell_type": "code",
   "execution_count": 51,
   "metadata": {},
   "outputs": [
    {
     "data": {
      "text/plain": [
       "GridSearchCV(cv=10, error_score='raise-deprecating',\n",
       "       estimator=XGBClassifier(base_score=0.5, booster='gbtree', colsample_bylevel=1,\n",
       "       colsample_bytree=0.6, gamma=0.05, learning_rate=0.1,\n",
       "       max_delta_step=0, max_depth=6, min_child_weight=8, missing=None,\n",
       "       n_estimators=6, n_jobs=1, nthread=4, objective='binary:logistic',\n",
       "       random_state=0, reg_alpha=0, reg_lambda=1, scale_pos_weight=1,\n",
       "       seed=84, silent=True, subsample=0.85),\n",
       "       fit_params=None, iid=False, n_jobs=4,\n",
       "       param_grid={'reg_alpha': [1e-05, 0.01, 0.1, 1, 100]},\n",
       "       pre_dispatch='2*n_jobs', refit=True, return_train_score='warn',\n",
       "       scoring='roc_auc', verbose=0)"
      ]
     },
     "execution_count": 51,
     "metadata": {},
     "output_type": "execute_result"
    }
   ],
   "source": [
    "#Choose all predictors except target & IDcols\n",
    "param_test7 = {\n",
    "    'reg_alpha':[1e-5, 1e-2, 0.1, 1, 100]\n",
    "}\n",
    "gsearch7 = GridSearchCV(estimator = XGBClassifier(learning_rate=0.1, n_estimators=6, max_depth=6,\n",
    "                                        min_child_weight=8, gamma=0.05, subsample=0.85, colsample_bytree=0.6,\n",
    "                                        objective= 'binary:logistic', nthread=4, scale_pos_weight=1,seed=84), \n",
    "                       param_grid = param_test7, scoring='roc_auc',n_jobs=4,iid=False, cv=10)\n",
    "gsearch7.fit(X_train,y_train)"
   ]
  },
  {
   "cell_type": "code",
   "execution_count": 52,
   "metadata": {},
   "outputs": [
    {
     "name": "stdout",
     "output_type": "stream",
     "text": [
      "####################################################################################################\n",
      "{'reg_alpha': 1e-05}\n",
      "0.6789138069872\n",
      "####################################################################################################\n"
     ]
    }
   ],
   "source": [
    "#gsearch7.cv_results_,gsearch7.best_params_, gsearch7.best_score_\n",
    "print(\"#\"*100)\n",
    "print(gsearch7.best_params_)\n",
    "print(gsearch7.best_score_)\n",
    "print(\"#\"*100)"
   ]
  },
  {
   "cell_type": "markdown",
   "metadata": {},
   "source": [
    "## Grid seach on reg_alpha: Fine-tune"
   ]
  },
  {
   "cell_type": "code",
   "execution_count": 55,
   "metadata": {},
   "outputs": [
    {
     "data": {
      "text/plain": [
       "GridSearchCV(cv=10, error_score='raise-deprecating',\n",
       "       estimator=XGBClassifier(base_score=0.5, booster='gbtree', colsample_bylevel=1,\n",
       "       colsample_bytree=0.6, gamma=0.05, learning_rate=0.1,\n",
       "       max_delta_step=0, max_depth=6, min_child_weight=8, missing=None,\n",
       "       n_estimators=6, n_jobs=1, nthread=4, objective='binary:logistic',\n",
       "       random_state=0, reg_alpha=0, reg_lambda=1, scale_pos_weight=1,\n",
       "       seed=84, silent=True, subsample=0.85),\n",
       "       fit_params=None, iid=False, n_jobs=4,\n",
       "       param_grid={'reg_alpha': [1e-07, 5e-07, 1e-06, 5e-06, 1e-05, 0.0005, 0.0001]},\n",
       "       pre_dispatch='2*n_jobs', refit=True, return_train_score='warn',\n",
       "       scoring='roc_auc', verbose=0)"
      ]
     },
     "execution_count": 55,
     "metadata": {},
     "output_type": "execute_result"
    }
   ],
   "source": [
    "# Choose all predictors except target & IDcols\n",
    "param_test8 = {\n",
    "    'reg_alpha':[1e-7, 5e-7, 1e-6, 5e-6, 1e-5, 5e-4, 1e-4]\n",
    "}\n",
    "gsearch8 = GridSearchCV(estimator = XGBClassifier(learning_rate=0.1, n_estimators=6, max_depth=6,\n",
    "                                        min_child_weight=8, gamma=0.05, subsample=0.85, colsample_bytree=0.6,\n",
    "                                        objective= 'binary:logistic', nthread=4, scale_pos_weight=1,seed=84), \n",
    "                       param_grid = param_test8, scoring='roc_auc',n_jobs=4,iid=False, cv=10)\n",
    "gsearch8.fit(X_train,y_train)"
   ]
  },
  {
   "cell_type": "code",
   "execution_count": 56,
   "metadata": {},
   "outputs": [
    {
     "name": "stdout",
     "output_type": "stream",
     "text": [
      "####################################################################################################\n",
      "{'reg_alpha': 1e-07}\n",
      "0.6789138069872\n",
      "####################################################################################################\n"
     ]
    }
   ],
   "source": [
    "# gsearch8.cv_results_,gsearch8.best_params_, gsearch8.best_score_\n",
    "print(\"#\"*100)\n",
    "print(gsearch8.best_params_)\n",
    "print(gsearch8.best_score_)\n",
    "print(\"#\"*100)\n"
   ]
  },
  {
   "cell_type": "code",
   "execution_count": 59,
   "metadata": {},
   "outputs": [
    {
     "name": "stdout",
     "output_type": "stream",
     "text": [
      "\n",
      "Model Report\n",
      "Accuracy : %.4g 0.7246988894102925\n",
      "AUC Score (Train): 0.7041131090524225]\n",
      "AUC Score (Test): 0.6864342773070227\n",
      "gbtree\n"
     ]
    },
    {
     "data": {
      "image/png": "[encoded data removed]",
      "text/plain": [
       "<Figure size 864x288 with 1 Axes>"
      ]
     },
     "metadata": {
      "needs_background": "light"
     },
     "output_type": "display_data"
    }
   ],
   "source": [
    "xgb3 = XGBClassifier(\n",
    "        learning_rate =0.2,\n",
    "        n_estimators=6,\n",
    "        max_depth=6,\n",
    "        min_child_weight=8,\n",
    "        gamma=0.05,\n",
    "        subsample=0.85,\n",
    "        colsample_bytree=0.6,\n",
    "        reg_alpha=1e-07,\n",
    "        objective= 'binary:logistic',\n",
    "        nthread=4,\n",
    "        scale_pos_weight=1,\n",
    "        seed=84)\n",
    "modelfit(xgb3, X_data_train, X_data_test, predictors)"
   ]
  },
  {
   "cell_type": "markdown",
   "metadata": {},
   "source": [
    "# Evaluate importance and accuracy"
   ]
  },
  {
   "cell_type": "code",
   "execution_count": 63,
   "metadata": {},
   "outputs": [
    {
     "name": "stderr",
     "output_type": "stream",
     "text": [
      "/anaconda3/lib/python3.7/site-packages/ipykernel_launcher.py:207: RuntimeWarning: invalid value encountered in long_scalars\n"
     ]
    },
    {
     "data": {
      "text/html": [
       "<div>\n",
       "<style scoped>\n",
       "    .dataframe tbody tr th:only-of-type {\n",
       "        vertical-align: middle;\n",
       "    }\n",
       "\n",
       "    .dataframe tbody tr th {\n",
       "        vertical-align: top;\n",
       "    }\n",
       "\n",
       "    .dataframe thead th {\n",
       "        text-align: right;\n",
       "    }\n",
       "</style>\n",
       "<table border=\"1\" class=\"dataframe\">\n",
       "  <thead>\n",
       "    <tr style=\"text-align: right;\">\n",
       "      <th></th>\n",
       "      <th>EER</th>\n",
       "    </tr>\n",
       "  </thead>\n",
       "  <tbody>\n",
       "    <tr>\n",
       "      <th>0.4</th>\n",
       "      <td>0.000959</td>\n",
       "    </tr>\n",
       "    <tr>\n",
       "      <th>0.39</th>\n",
       "      <td>0.072441</td>\n",
       "    </tr>\n",
       "    <tr>\n",
       "      <th>0.41</th>\n",
       "      <td>0.075717</td>\n",
       "    </tr>\n",
       "    <tr>\n",
       "      <th>0.38</th>\n",
       "      <td>0.099076</td>\n",
       "    </tr>\n",
       "    <tr>\n",
       "      <th>0.37</th>\n",
       "      <td>0.143610</td>\n",
       "    </tr>\n",
       "    <tr>\n",
       "      <th>0.42</th>\n",
       "      <td>0.154755</td>\n",
       "    </tr>\n",
       "    <tr>\n",
       "      <th>0.57</th>\n",
       "      <td>0.164557</td>\n",
       "    </tr>\n",
       "    <tr>\n",
       "      <th>0.36</th>\n",
       "      <td>0.180921</td>\n",
       "    </tr>\n",
       "    <tr>\n",
       "      <th>0.58</th>\n",
       "      <td>0.197890</td>\n",
       "    </tr>\n",
       "    <tr>\n",
       "      <th>0.43</th>\n",
       "      <td>0.207565</td>\n",
       "    </tr>\n",
       "  </tbody>\n",
       "</table>\n",
       "</div>"
      ],
      "text/plain": [
       "           EER\n",
       "0.4   0.000959\n",
       "0.39  0.072441\n",
       "0.41  0.075717\n",
       "0.38  0.099076\n",
       "0.37  0.143610\n",
       "0.42  0.154755\n",
       "0.57  0.164557\n",
       "0.36  0.180921\n",
       "0.58  0.197890\n",
       "0.43  0.207565"
      ]
     },
     "metadata": {},
     "output_type": "display_data"
    },
    {
     "data": {
      "text/plain": [
       "(0.4, 0.00095895665515916)"
      ]
     },
     "execution_count": 63,
     "metadata": {},
     "output_type": "execute_result"
    }
   ],
   "source": [
    "eer_threshold(xgb3, test_X=X_test, test_y=y_test)\n"
   ]
  },
  {
   "cell_type": "code",
   "execution_count": 64,
   "metadata": {},
   "outputs": [
    {
     "name": "stdout",
     "output_type": "stream",
     "text": [
      "0.02873752783046095\n"
     ]
    },
    {
     "data": {
      "text/plain": [
       "0.06086163665374972"
      ]
     },
     "execution_count": 64,
     "metadata": {},
     "output_type": "execute_result"
    },
    {
     "data": {
      "image/png": "[encoded data removed]",
      "text/plain": [
       "<Figure size 864x288 with 1 Axes>"
      ]
     },
     "metadata": {
      "needs_background": "light"
     },
     "output_type": "display_data"
    }
   ],
   "source": [
    "y_predicted = xgb3.predict_proba(X)\n",
    "y_predicted = y_predicted[:,1]\n",
    "y_predicted = np.where(y_predicted > 0.4, 1, 0)\n",
    "eval_prevalence = pd.DataFrame.from_dict({'actual': y, 'predicted': y_predicted, 'district':ncd_data.loc[y.index,'shdistrict']})\n",
    "eval_prevalence = eval_prevalence.groupby('district').sum()/eval_prevalence.groupby('district').count()\n",
    "plt.hist(eval_prevalence['actual'] - eval_prevalence['predicted'], bins=20)\n",
    "print((eval_prevalence['actual'] - eval_prevalence['predicted']).median())\n",
    "eval_prevalence['difference'] = np.absolute(eval_prevalence['actual'] - eval_prevalence['predicted'])\n",
    "eval_prevalence['difference'].median()"
   ]
  },
  {
   "cell_type": "code",
   "execution_count": 65,
   "metadata": {},
   "outputs": [
    {
     "name": "stdout",
     "output_type": "stream",
     "text": [
      "-0.005076142131979711\n"
     ]
    },
    {
     "data": {
      "text/plain": [
       "0.026972988764516342"
      ]
     },
     "execution_count": 65,
     "metadata": {},
     "output_type": "execute_result"
    },
    {
     "data": {
      "image/png": "[encoded data removed]",
      "text/plain": [
       "<Figure size 864x288 with 1 Axes>"
      ]
     },
     "metadata": {
      "needs_background": "light"
     },
     "output_type": "display_data"
    }
   ],
   "source": [
    "y_predicted = xgb3.predict_proba(X)\n",
    "y_predicted = y_predicted[:,1]\n",
    "y_predicted = np.where(y_predicted > 0.4, 1, 0)\n",
    "eval_prevalence = pd.DataFrame.from_dict({'actual': y, 'predicted': y_predicted, 'district':ncd_data.loc[y.index,'hv024']})\n",
    "eval_prevalence = eval_prevalence.groupby('district').sum()/eval_prevalence.groupby('district').count()\n",
    "plt.hist(eval_prevalence['actual'] - eval_prevalence['predicted'], bins=20)\n",
    "print((eval_prevalence['actual'] - eval_prevalence['predicted']).median())\n",
    "eval_prevalence['difference'] = np.absolute(eval_prevalence['actual'] - eval_prevalence['predicted'])\n",
    "eval_prevalence['difference'].mean()"
   ]
  },
  {
   "cell_type": "code",
   "execution_count": 66,
   "metadata": {},
   "outputs": [
    {
     "name": "stdout",
     "output_type": "stream",
     "text": [
      "Predicted  False  True  __all__\n",
      "Actual                         \n",
      "False         18     4       22\n",
      "True           6     3        9\n",
      "__all__       24     7       31\n"
     ]
    }
   ],
   "source": [
    "y_predicted = xgb3.predict_proba(X_test)\n",
    "y_predicted = y_predicted[:,1]\n",
    "y_predicted = np.where(y_predicted > 0.4, 1, 0)\n",
    "cm1= pd_ml.ConfusionMatrix(y_pred=y_predicted, y_true=y_test,)\n",
    "cm2 = confusion_matrix(y_pred=y_predicted, y_true=y_test,)\n",
    "print(cm1)"
   ]
  },
  {
   "cell_type": "code",
   "execution_count": 67,
   "metadata": {
    "scrolled": true
   },
   "outputs": [
    {
     "name": "stdout",
     "output_type": "stream",
     "text": [
      "              precision    recall  f1-score   support\n",
      "\n",
      "           0       0.77      0.77      0.77      1125\n",
      "           1       0.45      0.45      0.45       474\n",
      "\n",
      "   micro avg       0.68      0.68      0.68      1599\n",
      "   macro avg       0.61      0.61      0.61      1599\n",
      "weighted avg       0.68      0.68      0.68      1599\n",
      "\n"
     ]
    }
   ],
   "source": [
    "print(classification_report(y_test, y_predicted))"
   ]
  },
  {
   "cell_type": "markdown",
   "metadata": {},
   "source": [
    "# Predicting hypertension prevalence using SVRS 2013, 2014 and 2017 data\n",
    "\n",
    "- SVRS 2012: DBF\n",
    "- SVRS 2013: SAV\n",
    "- SVRS 2014: SAV\n",
    "- SVRS 2015: DBF\n",
    "- SVRS 2017: DTA"
   ]
  },
  {
   "cell_type": "code",
   "execution_count": null,
   "metadata": {},
   "outputs": [],
   "source": [
    "for var in ncd_data.columns: \n",
    "    print(var,len(ncd_data[var].value_counts()))"
   ]
  },
  {
   "cell_type": "code",
   "execution_count": null,
   "metadata": {
    "scrolled": false
   },
   "outputs": [],
   "source": [
    "tr = eer_threshold(model=xgb3,test_X=X_test, test_y=y_test)\n",
    "tr"
   ]
  },
  {
   "cell_type": "code",
   "execution_count": null,
   "metadata": {},
   "outputs": [],
   "source": [
    "y_predicted = xgb3.predict_proba(X)\n",
    "y_predicted = y_predicted[:,1]\n",
    "y_predicted = np.where(y_predicted > 0.37, 1, 0)\n",
    "eval_prevalence = pd.DataFrame.from_dict({'actual': y, 'predicted': y_predicted, 'district':ncd_data.loc[y.index,'shdistrict']})\n",
    "eval_prevalence = eval_prevalence.groupby('district').sum()/eval_prevalence.groupby('district').count()\n",
    "plt.hist(eval_prevalence['actual'] - eval_prevalence['predicted'], bins=20)\n",
    "print((eval_prevalence['actual'] - eval_prevalence['predicted']).median())\n",
    "eval_prevalence['difference'] = np.absolute(eval_prevalence['actual'] - eval_prevalence['predicted'])\n",
    "eval_prevalence['difference'].median()"
   ]
  },
  {
   "cell_type": "code",
   "execution_count": null,
   "metadata": {},
   "outputs": [],
   "source": [
    "y_predicted = xgb3.predict_proba(X)\n",
    "y_predicted = y_predicted[:,1]\n",
    "y_predicted = np.where(y_predicted > 0.37, 1, 0)\n",
    "eval_prevalence = pd.DataFrame.from_dict({'actual': y, 'predicted': y_predicted, 'district':ncd_data.loc[y.index,'hv024']})\n",
    "eval_prevalence = eval_prevalence.groupby('district').sum()/eval_prevalence.groupby('district').count()\n",
    "plt.hist(eval_prevalence['actual'] - eval_prevalence['predicted'], bins=20)\n",
    "print((eval_prevalence['actual'] - eval_prevalence['predicted']).median())\n",
    "eval_prevalence['difference'] = np.absolute(eval_prevalence['actual'] - eval_prevalence['predicted'])\n",
    "eval_prevalence['difference'].mean()"
   ]
  },
  {
   "cell_type": "code",
   "execution_count": null,
   "metadata": {},
   "outputs": [],
   "source": [
    "y_predicted = xgb3.predict_proba(X_test)\n",
    "y_predicted = y_predicted[:,1]\n",
    "y_predicted = np.where(y_predicted > 0.37, 1, 0)\n",
    "cm1= pd_ml.ConfusionMatrix(y_pred=y_predicted, y_true=y_test,)\n",
    "cm2 = confusion_matrix(y_pred=y_predicted, y_true=y_test,)\n",
    "print(cm2)"
   ]
  },
  {
   "cell_type": "code",
   "execution_count": null,
   "metadata": {},
   "outputs": [],
   "source": [
    "print(classification_report(y_test, y_predicted))"
   ]
  }
 ],
 "metadata": {
  "kernelspec": {
   "display_name": "Python 3",
   "language": "python",
   "name": "python3"
  },
  "language_info": {
   "codemirror_mode": {
    "name": "ipython",
    "version": 3
   },
   "file_extension": ".py",
   "mimetype": "text/x-python",
   "name": "python",
   "nbconvert_exporter": "python",
   "pygments_lexer": "ipython3",
   "version": "3.7.2"
  }
 },
 "nbformat": 4,
 "nbformat_minor": 2
}
