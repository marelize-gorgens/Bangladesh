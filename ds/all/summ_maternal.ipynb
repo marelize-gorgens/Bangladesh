{
 "cells": [
  {
   "cell_type": "markdown",
   "metadata": {},
   "source": [
    "# Tables: Maternal mortality rate"
   ]
  },
  {
   "cell_type": "code",
   "execution_count": 5,
   "metadata": {},
   "outputs": [],
   "source": [
    "import pandas as pd"
   ]
  },
  {
   "cell_type": "code",
   "execution_count": 27,
   "metadata": {},
   "outputs": [],
   "source": [
    "DATA = '/Users/edinhamzic/Symphony/wb_bangladesh/Bangladesh/output/all/'\n",
    "clusters_intersect_all = 'clusters_maternal_mortality_intersect_all.csv'\n",
    "clusters_intersect_2016 = 'clusters_maternal_mortality_intersect_2016.csv'\n",
    "clusters_intersect_2011 = 'clusters_maternal_mortality_intersect_2011.csv'\n",
    "clusters_union_all = 'clusters_maternal_mortality_union_all.csv'\n",
    "clusters_union_2016 = 'clusters_maternal_mortality_union_2016.csv'\n",
    "clusters_union_2011 = 'clusters_maternal_mortality_union_2011.csv'\n",
    "corr_2016 = 'corr_maternal_mortality_2016.csv'\n",
    "cca_2016 = 'cca_maternal_mortality_2016.csv'\n",
    "corr_2011 = 'corr_maternal_mortality_2011.csv'\n",
    "cca_2011 = 'cca_maternal_mortality_2011.csv'\n",
    "corr_cca = [corr_2011, cca_2011, corr_2016, cca_2016]"
   ]
  },
  {
   "cell_type": "code",
   "execution_count": 7,
   "metadata": {},
   "outputs": [],
   "source": [
    "def read_corr_cca(dir_path, files_list):\n",
    "    data_dict = {}\n",
    "    for file in files_list:\n",
    "        data_dict[file] = pd.read_csv(dir_path+file)\n",
    "    return data_dict"
   ]
  },
  {
   "cell_type": "markdown",
   "metadata": {},
   "source": [
    "## Summary tables"
   ]
  },
  {
   "cell_type": "code",
   "execution_count": 19,
   "metadata": {},
   "outputs": [],
   "source": [
    "clusters_intersect = pd.read_csv(DATA+clusters_intersect_all)\n",
    "clusters_union = pd.read_csv(DATA+clusters_union_all)"
   ]
  },
  {
   "cell_type": "code",
   "execution_count": 20,
   "metadata": {},
   "outputs": [],
   "source": [
    "clusters_intersect_summ = clusters_intersect.groupby(['cluster', 'year']).median().transpose()\n",
    "clusters_union_summ = clusters_union.groupby(['cluster', 'year']).median().transpose()"
   ]
  },
  {
   "cell_type": "code",
   "execution_count": 21,
   "metadata": {},
   "outputs": [
    {
     "data": {
      "text/html": [
       "<div>\n",
       "<style scoped>\n",
       "    .dataframe tbody tr th:only-of-type {\n",
       "        vertical-align: middle;\n",
       "    }\n",
       "\n",
       "    .dataframe tbody tr th {\n",
       "        vertical-align: top;\n",
       "    }\n",
       "\n",
       "    .dataframe thead tr th {\n",
       "        text-align: left;\n",
       "    }\n",
       "</style>\n",
       "<table border=\"1\" class=\"dataframe\">\n",
       "  <thead>\n",
       "    <tr>\n",
       "      <th>cluster</th>\n",
       "      <th colspan=\"2\" halign=\"left\">0</th>\n",
       "      <th colspan=\"2\" halign=\"left\">1</th>\n",
       "      <th colspan=\"2\" halign=\"left\">2</th>\n",
       "    </tr>\n",
       "    <tr>\n",
       "      <th>year</th>\n",
       "      <th>2011</th>\n",
       "      <th>2016</th>\n",
       "      <th>2011</th>\n",
       "      <th>2016</th>\n",
       "      <th>2011</th>\n",
       "      <th>2016</th>\n",
       "    </tr>\n",
       "  </thead>\n",
       "  <tbody>\n",
       "    <tr>\n",
       "      <th>Nurse trained on IMCI working at SCANU, %</th>\n",
       "      <td>11.20</td>\n",
       "      <td>42.30</td>\n",
       "      <td>43.444444</td>\n",
       "      <td>59.648276</td>\n",
       "      <td>83.6</td>\n",
       "      <td>77.1</td>\n",
       "    </tr>\n",
       "    <tr>\n",
       "      <th>Pentavalent 1 to MR 2 dropout rate</th>\n",
       "      <td>0.67</td>\n",
       "      <td>10.75</td>\n",
       "      <td>2.950000</td>\n",
       "      <td>20.400000</td>\n",
       "      <td>4.2</td>\n",
       "      <td>19.8</td>\n",
       "    </tr>\n",
       "    <tr>\n",
       "      <th>Upazilla EPI supervision form closing balance</th>\n",
       "      <td>293.00</td>\n",
       "      <td>1163.00</td>\n",
       "      <td>102.000000</td>\n",
       "      <td>143.000000</td>\n",
       "      <td>26.0</td>\n",
       "      <td>663.0</td>\n",
       "    </tr>\n",
       "    <tr>\n",
       "      <th>Crude coverage TT1 among mothers with 0-11 months children, %</th>\n",
       "      <td>98.10</td>\n",
       "      <td>98.40</td>\n",
       "      <td>98.600000</td>\n",
       "      <td>98.900000</td>\n",
       "      <td>94.8</td>\n",
       "      <td>96.0</td>\n",
       "    </tr>\n",
       "    <tr>\n",
       "      <th>Crude coverage TT3 among mothers with 0-11 months children, %</th>\n",
       "      <td>86.70</td>\n",
       "      <td>89.45</td>\n",
       "      <td>85.450000</td>\n",
       "      <td>91.400000</td>\n",
       "      <td>77.6</td>\n",
       "      <td>84.5</td>\n",
       "    </tr>\n",
       "  </tbody>\n",
       "</table>\n",
       "</div>"
      ],
      "text/plain": [
       "cluster                                                  0           \\\n",
       "year                                                  2011     2016   \n",
       "Nurse trained on IMCI working at SCANU, %            11.20    42.30   \n",
       "Pentavalent 1 to MR 2 dropout rate                    0.67    10.75   \n",
       "Upazilla EPI supervision form closing balance       293.00  1163.00   \n",
       "Crude coverage TT1 among mothers with 0-11 mont...   98.10    98.40   \n",
       "Crude coverage TT3 among mothers with 0-11 mont...   86.70    89.45   \n",
       "\n",
       "cluster                                                      1              \\\n",
       "year                                                      2011        2016   \n",
       "Nurse trained on IMCI working at SCANU, %            43.444444   59.648276   \n",
       "Pentavalent 1 to MR 2 dropout rate                    2.950000   20.400000   \n",
       "Upazilla EPI supervision form closing balance       102.000000  143.000000   \n",
       "Crude coverage TT1 among mothers with 0-11 mont...   98.600000   98.900000   \n",
       "Crude coverage TT3 among mothers with 0-11 mont...   85.450000   91.400000   \n",
       "\n",
       "cluster                                                2         \n",
       "year                                                2011   2016  \n",
       "Nurse trained on IMCI working at SCANU, %           83.6   77.1  \n",
       "Pentavalent 1 to MR 2 dropout rate                   4.2   19.8  \n",
       "Upazilla EPI supervision form closing balance       26.0  663.0  \n",
       "Crude coverage TT1 among mothers with 0-11 mont...  94.8   96.0  \n",
       "Crude coverage TT3 among mothers with 0-11 mont...  77.6   84.5  "
      ]
     },
     "metadata": {},
     "output_type": "display_data"
    }
   ],
   "source": [
    "display(clusters_intersect_summ.head())\n",
    "clusters_intersect_summ.to_csv(DATA+'/maternal_summaries/maternal_intersect.csv')"
   ]
  },
  {
   "cell_type": "code",
   "execution_count": 22,
   "metadata": {},
   "outputs": [
    {
     "data": {
      "text/html": [
       "<div>\n",
       "<style scoped>\n",
       "    .dataframe tbody tr th:only-of-type {\n",
       "        vertical-align: middle;\n",
       "    }\n",
       "\n",
       "    .dataframe tbody tr th {\n",
       "        vertical-align: top;\n",
       "    }\n",
       "\n",
       "    .dataframe thead tr th {\n",
       "        text-align: left;\n",
       "    }\n",
       "</style>\n",
       "<table border=\"1\" class=\"dataframe\">\n",
       "  <thead>\n",
       "    <tr>\n",
       "      <th>cluster</th>\n",
       "      <th colspan=\"2\" halign=\"left\">0</th>\n",
       "      <th colspan=\"2\" halign=\"left\">1</th>\n",
       "      <th colspan=\"2\" halign=\"left\">2</th>\n",
       "    </tr>\n",
       "    <tr>\n",
       "      <th>year</th>\n",
       "      <th>2011</th>\n",
       "      <th>2016</th>\n",
       "      <th>2011</th>\n",
       "      <th>2016</th>\n",
       "      <th>2011</th>\n",
       "      <th>2016</th>\n",
       "    </tr>\n",
       "  </thead>\n",
       "  <tbody>\n",
       "    <tr>\n",
       "      <th>Crude coverage TT5 among mothers with 0-11 children, %</th>\n",
       "      <td>50.50</td>\n",
       "      <td>55.550</td>\n",
       "      <td>41.400</td>\n",
       "      <td>53.40</td>\n",
       "      <td>38.600000</td>\n",
       "      <td>50.70</td>\n",
       "    </tr>\n",
       "    <tr>\n",
       "      <th>Proportion of rural deaths</th>\n",
       "      <td>72.00</td>\n",
       "      <td>89.500</td>\n",
       "      <td>72.000</td>\n",
       "      <td>78.00</td>\n",
       "      <td>69.000000</td>\n",
       "      <td>72.00</td>\n",
       "    </tr>\n",
       "    <tr>\n",
       "      <th>Under-5 mortality rate</th>\n",
       "      <td>34.37</td>\n",
       "      <td>34.405</td>\n",
       "      <td>42.765</td>\n",
       "      <td>33.61</td>\n",
       "      <td>42.190000</td>\n",
       "      <td>38.87</td>\n",
       "    </tr>\n",
       "    <tr>\n",
       "      <th>Distributed injectables out of total (thana) NGO, %</th>\n",
       "      <td>15.51</td>\n",
       "      <td>16.480</td>\n",
       "      <td>22.130</td>\n",
       "      <td>22.42</td>\n",
       "      <td>22.482833</td>\n",
       "      <td>22.16</td>\n",
       "    </tr>\n",
       "    <tr>\n",
       "      <th>Differences between Pentavalent doses and vial uses</th>\n",
       "      <td>-854.00</td>\n",
       "      <td>17294.500</td>\n",
       "      <td>93.000</td>\n",
       "      <td>5205.00</td>\n",
       "      <td>239.000000</td>\n",
       "      <td>9687.00</td>\n",
       "    </tr>\n",
       "  </tbody>\n",
       "</table>\n",
       "</div>"
      ],
      "text/plain": [
       "cluster                                                  0                  1  \\\n",
       "year                                                  2011       2016    2011   \n",
       "Crude coverage TT5 among mothers with 0-11 chil...   50.50     55.550  41.400   \n",
       "Proportion of rural deaths                           72.00     89.500  72.000   \n",
       "Under-5 mortality rate                               34.37     34.405  42.765   \n",
       "Distributed injectables out of total (thana) NG...   15.51     16.480  22.130   \n",
       "Differences between Pentavalent doses and vial ... -854.00  17294.500  93.000   \n",
       "\n",
       "cluster                                                               2  \\\n",
       "year                                                   2016        2011   \n",
       "Crude coverage TT5 among mothers with 0-11 chil...    53.40   38.600000   \n",
       "Proportion of rural deaths                            78.00   69.000000   \n",
       "Under-5 mortality rate                                33.61   42.190000   \n",
       "Distributed injectables out of total (thana) NG...    22.42   22.482833   \n",
       "Differences between Pentavalent doses and vial ...  5205.00  239.000000   \n",
       "\n",
       "cluster                                                      \n",
       "year                                                   2016  \n",
       "Crude coverage TT5 among mothers with 0-11 chil...    50.70  \n",
       "Proportion of rural deaths                            72.00  \n",
       "Under-5 mortality rate                                38.87  \n",
       "Distributed injectables out of total (thana) NG...    22.16  \n",
       "Differences between Pentavalent doses and vial ...  9687.00  "
      ]
     },
     "metadata": {},
     "output_type": "display_data"
    }
   ],
   "source": [
    "display(clusters_union_summ.head())\n",
    "clusters_union_summ.to_csv(DATA+'/maternal_summaries/maternal_union.csv')"
   ]
  },
  {
   "cell_type": "markdown",
   "metadata": {},
   "source": [
    "## Outcome variable"
   ]
  },
  {
   "cell_type": "code",
   "execution_count": 33,
   "metadata": {},
   "outputs": [
    {
     "data": {
      "text/html": [
       "<div>\n",
       "<style scoped>\n",
       "    .dataframe tbody tr th:only-of-type {\n",
       "        vertical-align: middle;\n",
       "    }\n",
       "\n",
       "    .dataframe tbody tr th {\n",
       "        vertical-align: top;\n",
       "    }\n",
       "\n",
       "    .dataframe thead th {\n",
       "        text-align: right;\n",
       "    }\n",
       "</style>\n",
       "<table border=\"1\" class=\"dataframe\">\n",
       "  <thead>\n",
       "    <tr style=\"text-align: right;\">\n",
       "      <th>cluster</th>\n",
       "      <th>0</th>\n",
       "      <th>1</th>\n",
       "      <th>2</th>\n",
       "    </tr>\n",
       "  </thead>\n",
       "  <tbody>\n",
       "    <tr>\n",
       "      <th>rate_maternal_mortality</th>\n",
       "      <td>1.84</td>\n",
       "      <td>3.06</td>\n",
       "      <td>4.22</td>\n",
       "    </tr>\n",
       "  </tbody>\n",
       "</table>\n",
       "</div>"
      ],
      "text/plain": [
       "cluster                     0     1     2\n",
       "rate_maternal_mortality  1.84  3.06  4.22"
      ]
     },
     "metadata": {},
     "output_type": "display_data"
    },
    {
     "data": {
      "text/html": [
       "<div>\n",
       "<style scoped>\n",
       "    .dataframe tbody tr th:only-of-type {\n",
       "        vertical-align: middle;\n",
       "    }\n",
       "\n",
       "    .dataframe tbody tr th {\n",
       "        vertical-align: top;\n",
       "    }\n",
       "\n",
       "    .dataframe thead th {\n",
       "        text-align: right;\n",
       "    }\n",
       "</style>\n",
       "<table border=\"1\" class=\"dataframe\">\n",
       "  <thead>\n",
       "    <tr style=\"text-align: right;\">\n",
       "      <th>cluster</th>\n",
       "      <th>0</th>\n",
       "      <th>1</th>\n",
       "      <th>2</th>\n",
       "    </tr>\n",
       "  </thead>\n",
       "  <tbody>\n",
       "    <tr>\n",
       "      <th>rate_maternal_mortality</th>\n",
       "      <td>2.185</td>\n",
       "      <td>0.0</td>\n",
       "      <td>1.22</td>\n",
       "    </tr>\n",
       "  </tbody>\n",
       "</table>\n",
       "</div>"
      ],
      "text/plain": [
       "cluster                      0    1     2\n",
       "rate_maternal_mortality  2.185  0.0  1.22"
      ]
     },
     "metadata": {},
     "output_type": "display_data"
    }
   ],
   "source": [
    "ALL2011 = '/Users/edinhamzic/Symphony/wb_bangladesh/Bangladesh/output/all/all2011.csv'\n",
    "ALL2016 = '/Users/edinhamzic/Symphony/wb_bangladesh/Bangladesh/output/all/all2016.csv'\n",
    "all2011 = pd.read_csv(ALL2011)\n",
    "clusters_intersect2011 = pd.read_csv(DATA+clusters_intersect_2011)\n",
    "all2016 = pd.read_csv(ALL2016)\n",
    "clusters_intersect2016 = pd.read_csv(DATA+clusters_intersect_2016)\n",
    "all2011 = all2011.merge(clusters_intersect2011[['DistrictName', 'cluster', ]], how='left', on='DistrictName')\n",
    "all2016 = all2016.merge(clusters_intersect2016[['DistrictName', 'cluster', ]], how='left', on='DistrictName')\n",
    "display(all2011[['rate_maternal_mortality', 'cluster']].groupby('cluster').median().transpose())\n",
    "display(all2016[['rate_maternal_mortality', 'cluster']].groupby('cluster').median().transpose())"
   ]
  },
  {
   "cell_type": "markdown",
   "metadata": {},
   "source": [
    "## Correlations"
   ]
  },
  {
   "cell_type": "code",
   "execution_count": 8,
   "metadata": {},
   "outputs": [
    {
     "name": "stdout",
     "output_type": "stream",
     "text": [
      "corr_maternal_mortality_2011.csv\n"
     ]
    },
    {
     "data": {
      "text/html": [
       "<div>\n",
       "<style scoped>\n",
       "    .dataframe tbody tr th:only-of-type {\n",
       "        vertical-align: middle;\n",
       "    }\n",
       "\n",
       "    .dataframe tbody tr th {\n",
       "        vertical-align: top;\n",
       "    }\n",
       "\n",
       "    .dataframe thead th {\n",
       "        text-align: right;\n",
       "    }\n",
       "</style>\n",
       "<table border=\"1\" class=\"dataframe\">\n",
       "  <thead>\n",
       "    <tr style=\"text-align: right;\">\n",
       "      <th></th>\n",
       "      <th>index</th>\n",
       "      <th>Maternal mortality rate</th>\n",
       "      <th>abs_rate_maternal_mortality</th>\n",
       "      <th>p_value</th>\n",
       "    </tr>\n",
       "  </thead>\n",
       "  <tbody>\n",
       "    <tr>\n",
       "      <th>0</th>\n",
       "      <td>Crude coverage TT2 among mothers with 0-11 chi...</td>\n",
       "      <td>-0.393280</td>\n",
       "      <td>0.393280</td>\n",
       "      <td>0.001305</td>\n",
       "    </tr>\n",
       "    <tr>\n",
       "      <th>1</th>\n",
       "      <td>Crude coverage TT1 among mothers with 0-11 mon...</td>\n",
       "      <td>-0.379661</td>\n",
       "      <td>0.379661</td>\n",
       "      <td>0.001974</td>\n",
       "    </tr>\n",
       "    <tr>\n",
       "      <th>2</th>\n",
       "      <td>Crude coverage TT3 among mothers with 0-11 mon...</td>\n",
       "      <td>-0.337610</td>\n",
       "      <td>0.337610</td>\n",
       "      <td>0.006367</td>\n",
       "    </tr>\n",
       "    <tr>\n",
       "      <th>3</th>\n",
       "      <td>Newborns delivered by SBA at facility that rec...</td>\n",
       "      <td>0.291370</td>\n",
       "      <td>0.291370</td>\n",
       "      <td>0.019494</td>\n",
       "    </tr>\n",
       "    <tr>\n",
       "      <th>4</th>\n",
       "      <td>Pentavalent 1 to MR 2 dropout rate</td>\n",
       "      <td>0.271447</td>\n",
       "      <td>0.271447</td>\n",
       "      <td>0.030030</td>\n",
       "    </tr>\n",
       "  </tbody>\n",
       "</table>\n",
       "</div>"
      ],
      "text/plain": [
       "                                               index  Maternal mortality rate  \\\n",
       "0  Crude coverage TT2 among mothers with 0-11 chi...                -0.393280   \n",
       "1  Crude coverage TT1 among mothers with 0-11 mon...                -0.379661   \n",
       "2  Crude coverage TT3 among mothers with 0-11 mon...                -0.337610   \n",
       "3  Newborns delivered by SBA at facility that rec...                 0.291370   \n",
       "4                 Pentavalent 1 to MR 2 dropout rate                 0.271447   \n",
       "\n",
       "   abs_rate_maternal_mortality   p_value  \n",
       "0                     0.393280  0.001305  \n",
       "1                     0.379661  0.001974  \n",
       "2                     0.337610  0.006367  \n",
       "3                     0.291370  0.019494  \n",
       "4                     0.271447  0.030030  "
      ]
     },
     "metadata": {},
     "output_type": "display_data"
    },
    {
     "data": {
      "text/plain": [
       "(12, 4)"
      ]
     },
     "metadata": {},
     "output_type": "display_data"
    },
    {
     "name": "stdout",
     "output_type": "stream",
     "text": [
      "cca_maternal_mortality_2011.csv\n"
     ]
    },
    {
     "data": {
      "text/html": [
       "<div>\n",
       "<style scoped>\n",
       "    .dataframe tbody tr th:only-of-type {\n",
       "        vertical-align: middle;\n",
       "    }\n",
       "\n",
       "    .dataframe tbody tr th {\n",
       "        vertical-align: top;\n",
       "    }\n",
       "\n",
       "    .dataframe thead th {\n",
       "        text-align: right;\n",
       "    }\n",
       "</style>\n",
       "<table border=\"1\" class=\"dataframe\">\n",
       "  <thead>\n",
       "    <tr style=\"text-align: right;\">\n",
       "      <th></th>\n",
       "      <th>Indicators</th>\n",
       "      <th>CCA_coeff</th>\n",
       "      <th>CCA_coeff_abs</th>\n",
       "    </tr>\n",
       "  </thead>\n",
       "  <tbody>\n",
       "    <tr>\n",
       "      <th>0</th>\n",
       "      <td>Crude coverage TT1 among mothers with 0-11 mon...</td>\n",
       "      <td>-0.271485</td>\n",
       "      <td>0.271485</td>\n",
       "    </tr>\n",
       "    <tr>\n",
       "      <th>1</th>\n",
       "      <td>Vitamin A coverage children 12-59 months, %</td>\n",
       "      <td>-0.104220</td>\n",
       "      <td>0.104220</td>\n",
       "    </tr>\n",
       "    <tr>\n",
       "      <th>2</th>\n",
       "      <td>Crude coverage TT2 among mothers with 0-11 chi...</td>\n",
       "      <td>-0.158135</td>\n",
       "      <td>0.158135</td>\n",
       "    </tr>\n",
       "    <tr>\n",
       "      <th>3</th>\n",
       "      <td>Crude coverage TT5 among mothers with 0-11 chi...</td>\n",
       "      <td>0.114816</td>\n",
       "      <td>0.114816</td>\n",
       "    </tr>\n",
       "    <tr>\n",
       "      <th>4</th>\n",
       "      <td>Crude coverage measles children 12 months, %</td>\n",
       "      <td>0.109101</td>\n",
       "      <td>0.109101</td>\n",
       "    </tr>\n",
       "  </tbody>\n",
       "</table>\n",
       "</div>"
      ],
      "text/plain": [
       "                                          Indicators  CCA_coeff  CCA_coeff_abs\n",
       "0  Crude coverage TT1 among mothers with 0-11 mon...  -0.271485       0.271485\n",
       "1        Vitamin A coverage children 12-59 months, %  -0.104220       0.104220\n",
       "2  Crude coverage TT2 among mothers with 0-11 chi...  -0.158135       0.158135\n",
       "3  Crude coverage TT5 among mothers with 0-11 chi...   0.114816       0.114816\n",
       "4       Crude coverage measles children 12 months, %   0.109101       0.109101"
      ]
     },
     "metadata": {},
     "output_type": "display_data"
    },
    {
     "data": {
      "text/plain": [
       "(28, 3)"
      ]
     },
     "metadata": {},
     "output_type": "display_data"
    },
    {
     "name": "stdout",
     "output_type": "stream",
     "text": [
      "corr_maternal_mortality_2016.csv\n"
     ]
    },
    {
     "data": {
      "text/html": [
       "<div>\n",
       "<style scoped>\n",
       "    .dataframe tbody tr th:only-of-type {\n",
       "        vertical-align: middle;\n",
       "    }\n",
       "\n",
       "    .dataframe tbody tr th {\n",
       "        vertical-align: top;\n",
       "    }\n",
       "\n",
       "    .dataframe thead th {\n",
       "        text-align: right;\n",
       "    }\n",
       "</style>\n",
       "<table border=\"1\" class=\"dataframe\">\n",
       "  <thead>\n",
       "    <tr style=\"text-align: right;\">\n",
       "      <th></th>\n",
       "      <th>index</th>\n",
       "      <th>Maternal mortality rate</th>\n",
       "      <th>abs_rate_maternal_mortality</th>\n",
       "      <th>p_value</th>\n",
       "    </tr>\n",
       "  </thead>\n",
       "  <tbody>\n",
       "    <tr>\n",
       "      <th>0</th>\n",
       "      <td>Neonatal death reported individually, %</td>\n",
       "      <td>0.334630</td>\n",
       "      <td>0.334630</td>\n",
       "      <td>0.006878</td>\n",
       "    </tr>\n",
       "    <tr>\n",
       "      <th>1</th>\n",
       "      <td>DHS: Sex ratio (males / females)</td>\n",
       "      <td>-0.270372</td>\n",
       "      <td>0.270372</td>\n",
       "      <td>0.030714</td>\n",
       "    </tr>\n",
       "    <tr>\n",
       "      <th>2</th>\n",
       "      <td>PCV vial wastage rate</td>\n",
       "      <td>0.226345</td>\n",
       "      <td>0.226345</td>\n",
       "      <td>0.072099</td>\n",
       "    </tr>\n",
       "    <tr>\n",
       "      <th>3</th>\n",
       "      <td>Performed permanent methods out of total (than...</td>\n",
       "      <td>-0.223323</td>\n",
       "      <td>0.223323</td>\n",
       "      <td>0.076088</td>\n",
       "    </tr>\n",
       "    <tr>\n",
       "      <th>4</th>\n",
       "      <td>Performed permanent methods out of total (mont...</td>\n",
       "      <td>-0.223307</td>\n",
       "      <td>0.223307</td>\n",
       "      <td>0.076110</td>\n",
       "    </tr>\n",
       "  </tbody>\n",
       "</table>\n",
       "</div>"
      ],
      "text/plain": [
       "                                               index  Maternal mortality rate  \\\n",
       "0            Neonatal death reported individually, %                 0.334630   \n",
       "1                   DHS: Sex ratio (males / females)                -0.270372   \n",
       "2                              PCV vial wastage rate                 0.226345   \n",
       "3  Performed permanent methods out of total (than...                -0.223323   \n",
       "4  Performed permanent methods out of total (mont...                -0.223307   \n",
       "\n",
       "   abs_rate_maternal_mortality   p_value  \n",
       "0                     0.334630  0.006878  \n",
       "1                     0.270372  0.030714  \n",
       "2                     0.226345  0.072099  \n",
       "3                     0.223323  0.076088  \n",
       "4                     0.223307  0.076110  "
      ]
     },
     "metadata": {},
     "output_type": "display_data"
    },
    {
     "data": {
      "text/plain": [
       "(6, 4)"
      ]
     },
     "metadata": {},
     "output_type": "display_data"
    },
    {
     "name": "stdout",
     "output_type": "stream",
     "text": [
      "cca_maternal_mortality_2016.csv\n"
     ]
    },
    {
     "data": {
      "text/html": [
       "<div>\n",
       "<style scoped>\n",
       "    .dataframe tbody tr th:only-of-type {\n",
       "        vertical-align: middle;\n",
       "    }\n",
       "\n",
       "    .dataframe tbody tr th {\n",
       "        vertical-align: top;\n",
       "    }\n",
       "\n",
       "    .dataframe thead th {\n",
       "        text-align: right;\n",
       "    }\n",
       "</style>\n",
       "<table border=\"1\" class=\"dataframe\">\n",
       "  <thead>\n",
       "    <tr style=\"text-align: right;\">\n",
       "      <th></th>\n",
       "      <th>Indicators</th>\n",
       "      <th>CCA_coeff</th>\n",
       "      <th>CCA_coeff_abs</th>\n",
       "    </tr>\n",
       "  </thead>\n",
       "  <tbody>\n",
       "    <tr>\n",
       "      <th>0</th>\n",
       "      <td>Crude coverage TT1 among mothers with 0-11 mon...</td>\n",
       "      <td>-0.136305</td>\n",
       "      <td>0.136305</td>\n",
       "    </tr>\n",
       "    <tr>\n",
       "      <th>1</th>\n",
       "      <td>Crude coverage TT4 among mothers with 0-11 mon...</td>\n",
       "      <td>-0.109596</td>\n",
       "      <td>0.109596</td>\n",
       "    </tr>\n",
       "    <tr>\n",
       "      <th>2</th>\n",
       "      <td>Crude coverage TT3 among mothers with 0-11 mon...</td>\n",
       "      <td>-0.121278</td>\n",
       "      <td>0.121278</td>\n",
       "    </tr>\n",
       "    <tr>\n",
       "      <th>3</th>\n",
       "      <td>Under-5 mortality rate</td>\n",
       "      <td>-0.112080</td>\n",
       "      <td>0.112080</td>\n",
       "    </tr>\n",
       "    <tr>\n",
       "      <th>4</th>\n",
       "      <td>Proportion of married women (15 years)</td>\n",
       "      <td>-0.109768</td>\n",
       "      <td>0.109768</td>\n",
       "    </tr>\n",
       "  </tbody>\n",
       "</table>\n",
       "</div>"
      ],
      "text/plain": [
       "                                          Indicators  CCA_coeff  CCA_coeff_abs\n",
       "0  Crude coverage TT1 among mothers with 0-11 mon...  -0.136305       0.136305\n",
       "1  Crude coverage TT4 among mothers with 0-11 mon...  -0.109596       0.109596\n",
       "2  Crude coverage TT3 among mothers with 0-11 mon...  -0.121278       0.121278\n",
       "3                             Under-5 mortality rate  -0.112080       0.112080\n",
       "4             Proportion of married women (15 years)  -0.109768       0.109768"
      ]
     },
     "metadata": {},
     "output_type": "display_data"
    },
    {
     "data": {
      "text/plain": [
       "(32, 3)"
      ]
     },
     "metadata": {},
     "output_type": "display_data"
    }
   ],
   "source": [
    "corr_cca = read_corr_cca(dir_path=DATA,files_list=corr_cca)\n",
    "for key, value in corr_cca.items():\n",
    "    print(key)\n",
    "    display(value.head())\n",
    "    display(value.shape)"
   ]
  },
  {
   "cell_type": "markdown",
   "metadata": {},
   "source": [
    "## Deprecated code"
   ]
  },
  {
   "cell_type": "markdown",
   "metadata": {},
   "source": [
    "```\n",
    "## Union of corr_maternal_mortality_2011.csv and corr_maternal_mortality_2011.csv\n",
    "corr2011 = corr_cca['corr_maternal_mortality_2011.csv']['index']\n",
    "cca2011 = corr_cca['cca_maternal_mortality_2011.csv']['Indicators']\n",
    "vars2011 = list(set(corr2011).union(set(cca2011)))\n",
    "## Union of corr_maternal_mortality_2016.csv and corr_maternal_mortality_2016.csv\n",
    "corr2016 = corr_cca['corr_maternal_mortality_2016.csv']['index']\n",
    "cca2016 = corr_cca['cca_maternal_mortality_2016.csv']['Indicators']\n",
    "vars2016 = list(set(corr2016).union(set(cca2016)))\n",
    "## Intersection of 2011 and 2016 variables\n",
    "vars_intersect = list(set(vars2011).intersection(vars2016))\n",
    "vars_union = list(set(vars2011).union(vars2016))\n",
    "vars_intersect.append('clusters')\n",
    "vars_union.append('clusters')\n",
    "```"
   ]
  },
  {
   "cell_type": "code",
   "execution_count": null,
   "metadata": {},
   "outputs": [],
   "source": []
  }
 ],
 "metadata": {
  "kernelspec": {
   "display_name": "Python 3",
   "language": "python",
   "name": "python3"
  },
  "language_info": {
   "codemirror_mode": {
    "name": "ipython",
    "version": 3
   },
   "file_extension": ".py",
   "mimetype": "text/x-python",
   "name": "python",
   "nbconvert_exporter": "python",
   "pygments_lexer": "ipython3",
   "version": "3.7.2"
  }
 },
 "nbformat": 4,
 "nbformat_minor": 2
}
