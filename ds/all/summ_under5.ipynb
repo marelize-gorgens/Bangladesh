{
 "cells": [
  {
   "cell_type": "markdown",
   "metadata": {},
   "source": [
    "# Tables: Under 5 mortality rate"
   ]
  },
  {
   "cell_type": "code",
   "execution_count": 1,
   "metadata": {},
   "outputs": [],
   "source": [
    "import pandas as pd"
   ]
  },
  {
   "cell_type": "code",
   "execution_count": 2,
   "metadata": {},
   "outputs": [],
   "source": [
    "DATA = '/Users/edinhamzic/Symphony/wb_bangladesh/Bangladesh/output/all/'\n",
    "clusters_intersect_all = 'clusters_under5_mortality_intersect_all.csv'\n",
    "clusters_intersect_2016 = 'clusters_under5_mortality_intersect_2016.csv'\n",
    "clusters_intersect_2011 = 'clusters_under5_mortality_intersect_2011.csv'\n",
    "clusters_union_all = 'clusters_under5_mortality_union_all.csv'\n",
    "clusters_union_2016 = 'clusters_under5_mortality_union_2016.csv'\n",
    "clusters_union_2011 = 'clusters_under5_mortality_union_2011.csv'\n",
    "corr_2016 = 'corr_under5_mortality_2016.csv'\n",
    "cca_2016 = 'cca_under5_mortality_2016.csv'\n",
    "corr_2011 = 'corr_under5_mortality_2011.csv'\n",
    "cca_2011 = 'cca_under5_mortality_2011.csv'\n",
    "corr_cca = [corr_2011, cca_2011, corr_2016, cca_2016]"
   ]
  },
  {
   "cell_type": "code",
   "execution_count": 3,
   "metadata": {},
   "outputs": [],
   "source": [
    "def read_corr_cca(dir_path, files_list):\n",
    "    data_dict = {}\n",
    "    for file in files_list:\n",
    "        data_dict[file] = pd.read_csv(dir_path+file)\n",
    "    return data_dict"
   ]
  },
  {
   "cell_type": "markdown",
   "metadata": {},
   "source": [
    "## Summary tables"
   ]
  },
  {
   "cell_type": "code",
   "execution_count": 4,
   "metadata": {},
   "outputs": [],
   "source": [
    "clusters_intersect = pd.read_csv(DATA+clusters_intersect_all)\n",
    "clusters_union = pd.read_csv(DATA+clusters_union_all)"
   ]
  },
  {
   "cell_type": "code",
   "execution_count": 5,
   "metadata": {},
   "outputs": [],
   "source": [
    "clusters_intersect_summ = clusters_intersect.groupby(['cluster', 'year']).median().transpose()\n",
    "clusters_union_summ = clusters_union.groupby(['cluster', 'year']).median().transpose()"
   ]
  },
  {
   "cell_type": "code",
   "execution_count": 6,
   "metadata": {},
   "outputs": [
    {
     "data": {
      "text/html": [
       "<div>\n",
       "<style scoped>\n",
       "    .dataframe tbody tr th:only-of-type {\n",
       "        vertical-align: middle;\n",
       "    }\n",
       "\n",
       "    .dataframe tbody tr th {\n",
       "        vertical-align: top;\n",
       "    }\n",
       "\n",
       "    .dataframe thead tr th {\n",
       "        text-align: left;\n",
       "    }\n",
       "</style>\n",
       "<table border=\"1\" class=\"dataframe\">\n",
       "  <thead>\n",
       "    <tr>\n",
       "      <th>cluster</th>\n",
       "      <th colspan=\"2\" halign=\"left\">0</th>\n",
       "      <th colspan=\"2\" halign=\"left\">1</th>\n",
       "      <th colspan=\"2\" halign=\"left\">2</th>\n",
       "    </tr>\n",
       "    <tr>\n",
       "      <th>year</th>\n",
       "      <th>2011</th>\n",
       "      <th>2016</th>\n",
       "      <th>2011</th>\n",
       "      <th>2016</th>\n",
       "      <th>2011</th>\n",
       "      <th>2016</th>\n",
       "    </tr>\n",
       "  </thead>\n",
       "  <tbody>\n",
       "    <tr>\n",
       "      <th>Child mortality rate</th>\n",
       "      <td>1.765000</td>\n",
       "      <td>1.550000</td>\n",
       "      <td>3.460</td>\n",
       "      <td>2.92</td>\n",
       "      <td>2.210</td>\n",
       "      <td>1.960000</td>\n",
       "    </tr>\n",
       "    <tr>\n",
       "      <th>Male baby admitted in SCANU reported monthly, %</th>\n",
       "      <td>60.864706</td>\n",
       "      <td>60.205882</td>\n",
       "      <td>59.600</td>\n",
       "      <td>59.30</td>\n",
       "      <td>61.350</td>\n",
       "      <td>60.205882</td>\n",
       "    </tr>\n",
       "    <tr>\n",
       "      <th>Crude coverage OPV 0, %</th>\n",
       "      <td>3.500000</td>\n",
       "      <td>3.550000</td>\n",
       "      <td>7.400</td>\n",
       "      <td>8.80</td>\n",
       "      <td>15.800</td>\n",
       "      <td>14.400000</td>\n",
       "    </tr>\n",
       "    <tr>\n",
       "      <th>Upazilla EPI supervision form closing balance</th>\n",
       "      <td>261.500000</td>\n",
       "      <td>259.500000</td>\n",
       "      <td>75.000</td>\n",
       "      <td>57.00</td>\n",
       "      <td>2.000</td>\n",
       "      <td>26.000000</td>\n",
       "    </tr>\n",
       "    <tr>\n",
       "      <th>Proportion of live births</th>\n",
       "      <td>98.820000</td>\n",
       "      <td>96.740000</td>\n",
       "      <td>99.065</td>\n",
       "      <td>97.70</td>\n",
       "      <td>98.855</td>\n",
       "      <td>96.460000</td>\n",
       "    </tr>\n",
       "  </tbody>\n",
       "</table>\n",
       "</div>"
      ],
      "text/plain": [
       "cluster                                                   0              \\\n",
       "year                                                   2011        2016   \n",
       "Child mortality rate                               1.765000    1.550000   \n",
       "Male baby admitted in SCANU reported monthly, %   60.864706   60.205882   \n",
       "Crude coverage OPV 0, %                            3.500000    3.550000   \n",
       "Upazilla EPI supervision form closing balance    261.500000  259.500000   \n",
       "Proportion of live births                         98.820000   96.740000   \n",
       "\n",
       "cluster                                               1              2  \\\n",
       "year                                               2011   2016    2011   \n",
       "Child mortality rate                              3.460   2.92   2.210   \n",
       "Male baby admitted in SCANU reported monthly, %  59.600  59.30  61.350   \n",
       "Crude coverage OPV 0, %                           7.400   8.80  15.800   \n",
       "Upazilla EPI supervision form closing balance    75.000  57.00   2.000   \n",
       "Proportion of live births                        99.065  97.70  98.855   \n",
       "\n",
       "cluster                                                     \n",
       "year                                                  2016  \n",
       "Child mortality rate                              1.960000  \n",
       "Male baby admitted in SCANU reported monthly, %  60.205882  \n",
       "Crude coverage OPV 0, %                          14.400000  \n",
       "Upazilla EPI supervision form closing balance    26.000000  \n",
       "Proportion of live births                        96.460000  "
      ]
     },
     "metadata": {},
     "output_type": "display_data"
    }
   ],
   "source": [
    "display(clusters_intersect_summ.head())\n",
    "clusters_intersect_summ.to_csv(DATA+'/under5_summaries/under5_intersect.csv')"
   ]
  },
  {
   "cell_type": "code",
   "execution_count": 7,
   "metadata": {},
   "outputs": [
    {
     "data": {
      "text/html": [
       "<div>\n",
       "<style scoped>\n",
       "    .dataframe tbody tr th:only-of-type {\n",
       "        vertical-align: middle;\n",
       "    }\n",
       "\n",
       "    .dataframe tbody tr th {\n",
       "        vertical-align: top;\n",
       "    }\n",
       "\n",
       "    .dataframe thead tr th {\n",
       "        text-align: left;\n",
       "    }\n",
       "</style>\n",
       "<table border=\"1\" class=\"dataframe\">\n",
       "  <thead>\n",
       "    <tr>\n",
       "      <th>cluster</th>\n",
       "      <th colspan=\"2\" halign=\"left\">0</th>\n",
       "      <th colspan=\"2\" halign=\"left\">1</th>\n",
       "      <th colspan=\"2\" halign=\"left\">2</th>\n",
       "    </tr>\n",
       "    <tr>\n",
       "      <th>year</th>\n",
       "      <th>2011</th>\n",
       "      <th>2016</th>\n",
       "      <th>2011</th>\n",
       "      <th>2016</th>\n",
       "      <th>2011</th>\n",
       "      <th>2016</th>\n",
       "    </tr>\n",
       "  </thead>\n",
       "  <tbody>\n",
       "    <tr>\n",
       "      <th>Fully vaccinated children 23 months, %</th>\n",
       "      <td>82.600000</td>\n",
       "      <td>87.750</td>\n",
       "      <td>82.900</td>\n",
       "      <td>86.500000</td>\n",
       "      <td>84.300</td>\n",
       "      <td>87.90</td>\n",
       "    </tr>\n",
       "    <tr>\n",
       "      <th>Maternal mortality rate</th>\n",
       "      <td>2.820000</td>\n",
       "      <td>0.610</td>\n",
       "      <td>3.105</td>\n",
       "      <td>0.000000</td>\n",
       "      <td>5.025</td>\n",
       "      <td>0.00</td>\n",
       "    </tr>\n",
       "    <tr>\n",
       "      <th>Distributed condoms out of total (thana) NGO, %</th>\n",
       "      <td>13.621167</td>\n",
       "      <td>13.035</td>\n",
       "      <td>12.400</td>\n",
       "      <td>13.429677</td>\n",
       "      <td>10.415</td>\n",
       "      <td>10.51</td>\n",
       "    </tr>\n",
       "    <tr>\n",
       "      <th>Distributed injectables out of total (month, thana) NGO, %</th>\n",
       "      <td>19.920000</td>\n",
       "      <td>19.115</td>\n",
       "      <td>23.190</td>\n",
       "      <td>22.666935</td>\n",
       "      <td>27.795</td>\n",
       "      <td>29.28</td>\n",
       "    </tr>\n",
       "    <tr>\n",
       "      <th>DHS: Proportion of C-sections</th>\n",
       "      <td>14.680000</td>\n",
       "      <td>21.195</td>\n",
       "      <td>11.995</td>\n",
       "      <td>21.030000</td>\n",
       "      <td>9.395</td>\n",
       "      <td>24.94</td>\n",
       "    </tr>\n",
       "  </tbody>\n",
       "</table>\n",
       "</div>"
      ],
      "text/plain": [
       "cluster                                                     0               1  \\\n",
       "year                                                     2011    2016    2011   \n",
       "Fully vaccinated children 23 months, %              82.600000  87.750  82.900   \n",
       "Maternal mortality rate                              2.820000   0.610   3.105   \n",
       "Distributed condoms out of total (thana) NGO, %     13.621167  13.035  12.400   \n",
       "Distributed injectables out of total (month, th...  19.920000  19.115  23.190   \n",
       "DHS: Proportion of C-sections                       14.680000  21.195  11.995   \n",
       "\n",
       "cluster                                                             2         \n",
       "year                                                     2016    2011   2016  \n",
       "Fully vaccinated children 23 months, %              86.500000  84.300  87.90  \n",
       "Maternal mortality rate                              0.000000   5.025   0.00  \n",
       "Distributed condoms out of total (thana) NGO, %     13.429677  10.415  10.51  \n",
       "Distributed injectables out of total (month, th...  22.666935  27.795  29.28  \n",
       "DHS: Proportion of C-sections                       21.030000   9.395  24.94  "
      ]
     },
     "metadata": {},
     "output_type": "display_data"
    }
   ],
   "source": [
    "display(clusters_union_summ.head())\n",
    "clusters_union_summ.to_csv(DATA+'/under5_summaries/under5_union.csv')"
   ]
  },
  {
   "cell_type": "markdown",
   "metadata": {},
   "source": [
    "## Correlations"
   ]
  },
  {
   "cell_type": "code",
   "execution_count": 8,
   "metadata": {},
   "outputs": [
    {
     "name": "stdout",
     "output_type": "stream",
     "text": [
      "corr_under5_mortality_2011.csv\n"
     ]
    },
    {
     "data": {
      "text/html": [
       "<div>\n",
       "<style scoped>\n",
       "    .dataframe tbody tr th:only-of-type {\n",
       "        vertical-align: middle;\n",
       "    }\n",
       "\n",
       "    .dataframe tbody tr th {\n",
       "        vertical-align: top;\n",
       "    }\n",
       "\n",
       "    .dataframe thead th {\n",
       "        text-align: right;\n",
       "    }\n",
       "</style>\n",
       "<table border=\"1\" class=\"dataframe\">\n",
       "  <thead>\n",
       "    <tr style=\"text-align: right;\">\n",
       "      <th></th>\n",
       "      <th>index</th>\n",
       "      <th>Under-5 mortality rate</th>\n",
       "      <th>abs_rate_under5_mortality</th>\n",
       "      <th>p_value</th>\n",
       "    </tr>\n",
       "  </thead>\n",
       "  <tbody>\n",
       "    <tr>\n",
       "      <th>0</th>\n",
       "      <td>Infant mortality rate</td>\n",
       "      <td>0.846832</td>\n",
       "      <td>0.846832</td>\n",
       "      <td>1.183101e-18</td>\n",
       "    </tr>\n",
       "    <tr>\n",
       "      <th>1</th>\n",
       "      <td>DHS: Proportion of antenatal coverage</td>\n",
       "      <td>-0.459151</td>\n",
       "      <td>0.459151</td>\n",
       "      <td>1.355096e-04</td>\n",
       "    </tr>\n",
       "    <tr>\n",
       "      <th>2</th>\n",
       "      <td>DHS: Proportion of attendant deliveries</td>\n",
       "      <td>-0.442121</td>\n",
       "      <td>0.442121</td>\n",
       "      <td>2.545173e-04</td>\n",
       "    </tr>\n",
       "    <tr>\n",
       "      <th>3</th>\n",
       "      <td>DHS: Proportion of C-sections</td>\n",
       "      <td>-0.440108</td>\n",
       "      <td>0.440108</td>\n",
       "      <td>2.736160e-04</td>\n",
       "    </tr>\n",
       "    <tr>\n",
       "      <th>4</th>\n",
       "      <td>DHS: Proportion of institutional deliveries</td>\n",
       "      <td>-0.397629</td>\n",
       "      <td>0.397629</td>\n",
       "      <td>1.139450e-03</td>\n",
       "    </tr>\n",
       "  </tbody>\n",
       "</table>\n",
       "</div>"
      ],
      "text/plain": [
       "                                         index  Under-5 mortality rate  \\\n",
       "0                        Infant mortality rate                0.846832   \n",
       "1        DHS: Proportion of antenatal coverage               -0.459151   \n",
       "2      DHS: Proportion of attendant deliveries               -0.442121   \n",
       "3                DHS: Proportion of C-sections               -0.440108   \n",
       "4  DHS: Proportion of institutional deliveries               -0.397629   \n",
       "\n",
       "   abs_rate_under5_mortality       p_value  \n",
       "0                   0.846832  1.183101e-18  \n",
       "1                   0.459151  1.355096e-04  \n",
       "2                   0.442121  2.545173e-04  \n",
       "3                   0.440108  2.736160e-04  \n",
       "4                   0.397629  1.139450e-03  "
      ]
     },
     "metadata": {},
     "output_type": "display_data"
    },
    {
     "data": {
      "text/plain": [
       "(44, 4)"
      ]
     },
     "metadata": {},
     "output_type": "display_data"
    },
    {
     "name": "stdout",
     "output_type": "stream",
     "text": [
      "cca_under5_mortality_2011.csv\n"
     ]
    },
    {
     "data": {
      "text/html": [
       "<div>\n",
       "<style scoped>\n",
       "    .dataframe tbody tr th:only-of-type {\n",
       "        vertical-align: middle;\n",
       "    }\n",
       "\n",
       "    .dataframe tbody tr th {\n",
       "        vertical-align: top;\n",
       "    }\n",
       "\n",
       "    .dataframe thead th {\n",
       "        text-align: right;\n",
       "    }\n",
       "</style>\n",
       "<table border=\"1\" class=\"dataframe\">\n",
       "  <thead>\n",
       "    <tr style=\"text-align: right;\">\n",
       "      <th></th>\n",
       "      <th>Indicators</th>\n",
       "      <th>CCA_coeff</th>\n",
       "      <th>CCA_coeff_abs</th>\n",
       "    </tr>\n",
       "  </thead>\n",
       "  <tbody>\n",
       "    <tr>\n",
       "      <th>0</th>\n",
       "      <td>Crude coverage TT1 among mothers with 0-11 mon...</td>\n",
       "      <td>0.100790</td>\n",
       "      <td>0.100790</td>\n",
       "    </tr>\n",
       "    <tr>\n",
       "      <th>1</th>\n",
       "      <td>Infant mortality rate</td>\n",
       "      <td>0.653603</td>\n",
       "      <td>0.653603</td>\n",
       "    </tr>\n",
       "    <tr>\n",
       "      <th>2</th>\n",
       "      <td>Death rate</td>\n",
       "      <td>0.142165</td>\n",
       "      <td>0.142165</td>\n",
       "    </tr>\n",
       "    <tr>\n",
       "      <th>3</th>\n",
       "      <td>Child mortality rate</td>\n",
       "      <td>0.209118</td>\n",
       "      <td>0.209118</td>\n",
       "    </tr>\n",
       "    <tr>\n",
       "      <th>4</th>\n",
       "      <td>Maternal death reported individually with caus...</td>\n",
       "      <td>-0.155909</td>\n",
       "      <td>0.155909</td>\n",
       "    </tr>\n",
       "  </tbody>\n",
       "</table>\n",
       "</div>"
      ],
      "text/plain": [
       "                                          Indicators  CCA_coeff  CCA_coeff_abs\n",
       "0  Crude coverage TT1 among mothers with 0-11 mon...   0.100790       0.100790\n",
       "1                              Infant mortality rate   0.653603       0.653603\n",
       "2                                         Death rate   0.142165       0.142165\n",
       "3                               Child mortality rate   0.209118       0.209118\n",
       "4  Maternal death reported individually with caus...  -0.155909       0.155909"
      ]
     },
     "metadata": {},
     "output_type": "display_data"
    },
    {
     "data": {
      "text/plain": [
       "(13, 3)"
      ]
     },
     "metadata": {},
     "output_type": "display_data"
    },
    {
     "name": "stdout",
     "output_type": "stream",
     "text": [
      "corr_under5_mortality_2016.csv\n"
     ]
    },
    {
     "data": {
      "text/html": [
       "<div>\n",
       "<style scoped>\n",
       "    .dataframe tbody tr th:only-of-type {\n",
       "        vertical-align: middle;\n",
       "    }\n",
       "\n",
       "    .dataframe tbody tr th {\n",
       "        vertical-align: top;\n",
       "    }\n",
       "\n",
       "    .dataframe thead th {\n",
       "        text-align: right;\n",
       "    }\n",
       "</style>\n",
       "<table border=\"1\" class=\"dataframe\">\n",
       "  <thead>\n",
       "    <tr style=\"text-align: right;\">\n",
       "      <th></th>\n",
       "      <th>index</th>\n",
       "      <th>Under-5 mortality rate</th>\n",
       "      <th>abs_rate_under5_mortality</th>\n",
       "      <th>p_value</th>\n",
       "    </tr>\n",
       "  </thead>\n",
       "  <tbody>\n",
       "    <tr>\n",
       "      <th>0</th>\n",
       "      <td>Infant mortality rate</td>\n",
       "      <td>0.953170</td>\n",
       "      <td>0.953170</td>\n",
       "      <td>6.656469e-34</td>\n",
       "    </tr>\n",
       "    <tr>\n",
       "      <th>1</th>\n",
       "      <td>Child mortality rate</td>\n",
       "      <td>0.499057</td>\n",
       "      <td>0.499057</td>\n",
       "      <td>2.698398e-05</td>\n",
       "    </tr>\n",
       "    <tr>\n",
       "      <th>2</th>\n",
       "      <td>Proportion of live births</td>\n",
       "      <td>-0.477845</td>\n",
       "      <td>0.477845</td>\n",
       "      <td>6.522859e-05</td>\n",
       "    </tr>\n",
       "    <tr>\n",
       "      <th>3</th>\n",
       "      <td>Distributed injectables out of total (month, t...</td>\n",
       "      <td>0.337380</td>\n",
       "      <td>0.337380</td>\n",
       "      <td>6.405409e-03</td>\n",
       "    </tr>\n",
       "    <tr>\n",
       "      <th>4</th>\n",
       "      <td>Distributed injectables out of total (thana) N...</td>\n",
       "      <td>0.337380</td>\n",
       "      <td>0.337380</td>\n",
       "      <td>6.405409e-03</td>\n",
       "    </tr>\n",
       "  </tbody>\n",
       "</table>\n",
       "</div>"
      ],
      "text/plain": [
       "                                               index  Under-5 mortality rate  \\\n",
       "0                              Infant mortality rate                0.953170   \n",
       "1                               Child mortality rate                0.499057   \n",
       "2                          Proportion of live births               -0.477845   \n",
       "3  Distributed injectables out of total (month, t...                0.337380   \n",
       "4  Distributed injectables out of total (thana) N...                0.337380   \n",
       "\n",
       "   abs_rate_under5_mortality       p_value  \n",
       "0                   0.953170  6.656469e-34  \n",
       "1                   0.499057  2.698398e-05  \n",
       "2                   0.477845  6.522859e-05  \n",
       "3                   0.337380  6.405409e-03  \n",
       "4                   0.337380  6.405409e-03  "
      ]
     },
     "metadata": {},
     "output_type": "display_data"
    },
    {
     "data": {
      "text/plain": [
       "(22, 4)"
      ]
     },
     "metadata": {},
     "output_type": "display_data"
    },
    {
     "name": "stdout",
     "output_type": "stream",
     "text": [
      "cca_under5_mortality_2016.csv\n"
     ]
    },
    {
     "data": {
      "text/html": [
       "<div>\n",
       "<style scoped>\n",
       "    .dataframe tbody tr th:only-of-type {\n",
       "        vertical-align: middle;\n",
       "    }\n",
       "\n",
       "    .dataframe tbody tr th {\n",
       "        vertical-align: top;\n",
       "    }\n",
       "\n",
       "    .dataframe thead th {\n",
       "        text-align: right;\n",
       "    }\n",
       "</style>\n",
       "<table border=\"1\" class=\"dataframe\">\n",
       "  <thead>\n",
       "    <tr style=\"text-align: right;\">\n",
       "      <th></th>\n",
       "      <th>Indicators</th>\n",
       "      <th>CCA_coeff</th>\n",
       "      <th>CCA_coeff_abs</th>\n",
       "    </tr>\n",
       "  </thead>\n",
       "  <tbody>\n",
       "    <tr>\n",
       "      <th>0</th>\n",
       "      <td>Infant mortality rate</td>\n",
       "      <td>0.643482</td>\n",
       "      <td>0.643482</td>\n",
       "    </tr>\n",
       "    <tr>\n",
       "      <th>1</th>\n",
       "      <td>Maternal mortality rate</td>\n",
       "      <td>-0.111961</td>\n",
       "      <td>0.111961</td>\n",
       "    </tr>\n",
       "    <tr>\n",
       "      <th>2</th>\n",
       "      <td>Proportion of live births</td>\n",
       "      <td>-0.253621</td>\n",
       "      <td>0.253621</td>\n",
       "    </tr>\n",
       "    <tr>\n",
       "      <th>3</th>\n",
       "      <td>Child mortality rate</td>\n",
       "      <td>0.341876</td>\n",
       "      <td>0.341876</td>\n",
       "    </tr>\n",
       "    <tr>\n",
       "      <th>4</th>\n",
       "      <td>Non-functional photo therapty unit, %</td>\n",
       "      <td>-0.147996</td>\n",
       "      <td>0.147996</td>\n",
       "    </tr>\n",
       "  </tbody>\n",
       "</table>\n",
       "</div>"
      ],
      "text/plain": [
       "                              Indicators  CCA_coeff  CCA_coeff_abs\n",
       "0                  Infant mortality rate   0.643482       0.643482\n",
       "1                Maternal mortality rate  -0.111961       0.111961\n",
       "2              Proportion of live births  -0.253621       0.253621\n",
       "3                   Child mortality rate   0.341876       0.341876\n",
       "4  Non-functional photo therapty unit, %  -0.147996       0.147996"
      ]
     },
     "metadata": {},
     "output_type": "display_data"
    },
    {
     "data": {
      "text/plain": [
       "(13, 3)"
      ]
     },
     "metadata": {},
     "output_type": "display_data"
    }
   ],
   "source": [
    "corr_cca = read_corr_cca(dir_path=DATA,files_list=corr_cca)\n",
    "for key, value in corr_cca.items():\n",
    "    print(key)\n",
    "    display(value.head())\n",
    "    display(value.shape)"
   ]
  }
 ],
 "metadata": {
  "kernelspec": {
   "display_name": "Python 3",
   "language": "python",
   "name": "python3"
  },
  "language_info": {
   "codemirror_mode": {
    "name": "ipython",
    "version": 3
   },
   "file_extension": ".py",
   "mimetype": "text/x-python",
   "name": "python",
   "nbconvert_exporter": "python",
   "pygments_lexer": "ipython3",
   "version": "3.7.2"
  }
 },
 "nbformat": 4,
 "nbformat_minor": 2
}
