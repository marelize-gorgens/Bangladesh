{
 "cells": [
  {
   "cell_type": "markdown",
   "metadata": {},
   "source": [
    "# Correlation analysis, CCA and feature importance: Antenatal coverage\n",
    "\n",
    "## Outcome variables:\n",
    "- Maternal mortality rate: rate_anc_mortality\n",
    "- Under 5 mortality rate: rate_under5y_mortality\n",
    "- Antenatal coverage (ANC): prop_antenatal_coverage\n",
    "- Proportion of unmet contraceptive need: prop_unmet_need_family_planing\n",
    "- Oral rehydration solution (ORS): still to caclulate"
   ]
  },
  {
   "cell_type": "code",
   "execution_count": 1,
   "metadata": {},
   "outputs": [],
   "source": [
    "import re\n",
    "import collections\n",
    "import numpy as np\n",
    "import pandas as pd\n",
    "import seaborn as sns\n",
    "import matplotlib.pyplot as plt\n",
    "from sklearn.decomposition import PCA\n",
    "from sklearn.cross_decomposition import CCA\n",
    "from sklearn.preprocessing import StandardScaler\n",
    "%matplotlib inline"
   ]
  },
  {
   "cell_type": "code",
   "execution_count": 2,
   "metadata": {},
   "outputs": [],
   "source": [
    "def remove_miss_vars(input_df):\n",
    "    df = input_df.copy(deep=True)\n",
    "    remove_list = []\n",
    "    for var in df.columns:\n",
    "        if any(df[var].isna()):\n",
    "            remove_list.append(var)\n",
    "    return df.drop(remove_list, axis=1)\n",
    "\n",
    "def impute_miss_vars(input_df):\n",
    "    df = input_df.copy(deep=True)\n",
    "    for var in df.columns:\n",
    "        if any(df[var].isna()):\n",
    "            df[var].fillna(df[var].mean, inplace=True)\n",
    "    return df\n",
    "\n",
    "def intersect_dfs(input_df1, input_df2):\n",
    "    df1 = input_df1.copy(deep=True)\n",
    "    df2 = input_df2.copy(deep=True)\n",
    "    subset_var = list(set(list(df1.columns)).intersection(set(list(df2.columns))))\n",
    "    return df1[subset_var], df2[subset_var]"
   ]
  },
  {
   "cell_type": "markdown",
   "metadata": {},
   "source": [
    "## STEP 1: Import data and data processing: remove absolute and remove missing values"
   ]
  },
  {
   "cell_type": "code",
   "execution_count": 3,
   "metadata": {},
   "outputs": [],
   "source": [
    "DATA2011 = '/Users/edinhamzic/Symphony/wb_bangladesh/Bangladesh/output/all/all2011.csv'\n",
    "DATA2016 = '/Users/edinhamzic/Symphony/wb_bangladesh/Bangladesh/output/all/all2016.csv'\n",
    "DHIS2_VARS = '/Users/edinhamzic/Symphony/wb_bangladesh/Bangladesh/output/all/DHIS_Rate_Absolute.csv'\n",
    "OUT = '/Users/edinhamzic/Symphony/wb_bangladesh/Bangladesh/output/all/'"
   ]
  },
  {
   "cell_type": "markdown",
   "metadata": {},
   "source": [
    "### Removing all absolute variables. Including only indicators available from the DHIS2 system\n",
    "- Originally there were over 349 variables in the system that we retrieved from the DHIS2 system in collaboration with HMIS officials\n",
    "- We kept 279 indicators"
   ]
  },
  {
   "cell_type": "code",
   "execution_count": 4,
   "metadata": {},
   "outputs": [
    {
     "name": "stdout",
     "output_type": "stream",
     "text": [
      "(349, 4)\n",
      "(279, 4)\n"
     ]
    }
   ],
   "source": [
    "d2011 = pd.read_csv(DATA2011)\n",
    "d2016 = pd.read_csv(DATA2016)\n",
    "dhis2vars = pd.read_csv(DHIS2_VARS)\n",
    "print(dhis2vars.shape)\n",
    "tmp = dhis2vars[dhis2vars['Rate_Absolute'] == 'Absolute']\n",
    "print(tmp.shape)\n",
    "vars_remove = list(tmp['Full_name'])"
   ]
  },
  {
   "cell_type": "code",
   "execution_count": 5,
   "metadata": {},
   "outputs": [],
   "source": [
    "d2011 = d2011.drop(vars_remove, axis=1)\n",
    "d2016 = d2016.drop(vars_remove, axis=1)"
   ]
  },
  {
   "cell_type": "markdown",
   "metadata": {},
   "source": [
    "## Removing all object/string variables/indicators and fill missing values with mean"
   ]
  },
  {
   "cell_type": "code",
   "execution_count": 6,
   "metadata": {},
   "outputs": [
    {
     "name": "stdout",
     "output_type": "stream",
     "text": [
      "(64, 188)\n",
      "(64, 187)\n",
      "(64, 187)\n"
     ]
    },
    {
     "data": {
      "text/html": [
       "<div>\n",
       "<style scoped>\n",
       "    .dataframe tbody tr th:only-of-type {\n",
       "        vertical-align: middle;\n",
       "    }\n",
       "\n",
       "    .dataframe tbody tr th {\n",
       "        vertical-align: top;\n",
       "    }\n",
       "\n",
       "    .dataframe thead th {\n",
       "        text-align: right;\n",
       "    }\n",
       "</style>\n",
       "<table border=\"1\" class=\"dataframe\">\n",
       "  <thead>\n",
       "    <tr style=\"text-align: right;\">\n",
       "      <th></th>\n",
       "      <th>TT1_Mother0-11MChildren</th>\n",
       "      <th>Measles_Children23M</th>\n",
       "      <th>TT4_Mother0-11MChildren</th>\n",
       "      <th>OPV3_Children12M</th>\n",
       "      <th>OPV2_Children23M</th>\n",
       "      <th>OPV3_Children23M</th>\n",
       "      <th>PENTA2_Children12M</th>\n",
       "      <th>TT3_Mother0-11MChildren</th>\n",
       "      <th>PENTA3_Children23M</th>\n",
       "      <th>VitACoverage_Children12-59M</th>\n",
       "      <th>...</th>\n",
       "      <th>prop_pop_rural.1</th>\n",
       "      <th>prop_institutional_delivery</th>\n",
       "      <th>prop_current_contraceptive</th>\n",
       "      <th>prop_female_head</th>\n",
       "      <th>prop_antenatal_care4.</th>\n",
       "      <th>prop_unmet_need_family_planing</th>\n",
       "      <th>prop_pop_women.1</th>\n",
       "      <th>dependency_ratio.1</th>\n",
       "      <th>prop_registered_under5</th>\n",
       "      <th>sex_ratio.1</th>\n",
       "    </tr>\n",
       "    <tr>\n",
       "      <th>DistrictName</th>\n",
       "      <th></th>\n",
       "      <th></th>\n",
       "      <th></th>\n",
       "      <th></th>\n",
       "      <th></th>\n",
       "      <th></th>\n",
       "      <th></th>\n",
       "      <th></th>\n",
       "      <th></th>\n",
       "      <th></th>\n",
       "      <th></th>\n",
       "      <th></th>\n",
       "      <th></th>\n",
       "      <th></th>\n",
       "      <th></th>\n",
       "      <th></th>\n",
       "      <th></th>\n",
       "      <th></th>\n",
       "      <th></th>\n",
       "      <th></th>\n",
       "      <th></th>\n",
       "    </tr>\n",
       "  </thead>\n",
       "  <tbody>\n",
       "    <tr>\n",
       "      <th>Bagerhat</th>\n",
       "      <td>90.0</td>\n",
       "      <td>88.1</td>\n",
       "      <td>52.9</td>\n",
       "      <td>93.3</td>\n",
       "      <td>96.0</td>\n",
       "      <td>93.3</td>\n",
       "      <td>96.0</td>\n",
       "      <td>71.4</td>\n",
       "      <td>85.6</td>\n",
       "      <td>96.7</td>\n",
       "      <td>...</td>\n",
       "      <td>11.48</td>\n",
       "      <td>30.66</td>\n",
       "      <td>65.52</td>\n",
       "      <td>11.29</td>\n",
       "      <td>26.56</td>\n",
       "      <td>7.89</td>\n",
       "      <td>44.85</td>\n",
       "      <td>74.37</td>\n",
       "      <td>32.84</td>\n",
       "      <td>93.31</td>\n",
       "    </tr>\n",
       "    <tr>\n",
       "      <th>Bandarban</th>\n",
       "      <td>89.0</td>\n",
       "      <td>82.3</td>\n",
       "      <td>54.3</td>\n",
       "      <td>88.8</td>\n",
       "      <td>90.8</td>\n",
       "      <td>89.4</td>\n",
       "      <td>90.2</td>\n",
       "      <td>72.4</td>\n",
       "      <td>84.4</td>\n",
       "      <td>83.3</td>\n",
       "      <td>...</td>\n",
       "      <td>0.00</td>\n",
       "      <td>0.00</td>\n",
       "      <td>45.45</td>\n",
       "      <td>11.29</td>\n",
       "      <td>0.00</td>\n",
       "      <td>27.27</td>\n",
       "      <td>127.03</td>\n",
       "      <td>107.50</td>\n",
       "      <td>31.25</td>\n",
       "      <td>84.44</td>\n",
       "    </tr>\n",
       "    <tr>\n",
       "      <th>Barguna</th>\n",
       "      <td>99.0</td>\n",
       "      <td>88.1</td>\n",
       "      <td>47.6</td>\n",
       "      <td>94.7</td>\n",
       "      <td>98.6</td>\n",
       "      <td>95.4</td>\n",
       "      <td>98.6</td>\n",
       "      <td>72.4</td>\n",
       "      <td>87.9</td>\n",
       "      <td>96.7</td>\n",
       "      <td>...</td>\n",
       "      <td>6.48</td>\n",
       "      <td>10.56</td>\n",
       "      <td>72.36</td>\n",
       "      <td>2.97</td>\n",
       "      <td>20.97</td>\n",
       "      <td>11.14</td>\n",
       "      <td>25.33</td>\n",
       "      <td>70.73</td>\n",
       "      <td>41.40</td>\n",
       "      <td>105.44</td>\n",
       "    </tr>\n",
       "    <tr>\n",
       "      <th>Barisal</th>\n",
       "      <td>97.1</td>\n",
       "      <td>86.8</td>\n",
       "      <td>52.4</td>\n",
       "      <td>94.5</td>\n",
       "      <td>98.1</td>\n",
       "      <td>94.5</td>\n",
       "      <td>98.1</td>\n",
       "      <td>77.1</td>\n",
       "      <td>86.9</td>\n",
       "      <td>79.0</td>\n",
       "      <td>...</td>\n",
       "      <td>8.22</td>\n",
       "      <td>21.53</td>\n",
       "      <td>64.33</td>\n",
       "      <td>5.10</td>\n",
       "      <td>26.53</td>\n",
       "      <td>13.31</td>\n",
       "      <td>24.48</td>\n",
       "      <td>75.53</td>\n",
       "      <td>38.53</td>\n",
       "      <td>89.02</td>\n",
       "    </tr>\n",
       "    <tr>\n",
       "      <th>Bhola</th>\n",
       "      <td>98.6</td>\n",
       "      <td>85.0</td>\n",
       "      <td>67.6</td>\n",
       "      <td>93.0</td>\n",
       "      <td>96.5</td>\n",
       "      <td>93.0</td>\n",
       "      <td>95.8</td>\n",
       "      <td>85.7</td>\n",
       "      <td>86.3</td>\n",
       "      <td>87.1</td>\n",
       "      <td>...</td>\n",
       "      <td>7.40</td>\n",
       "      <td>9.64</td>\n",
       "      <td>68.40</td>\n",
       "      <td>5.65</td>\n",
       "      <td>29.51</td>\n",
       "      <td>10.81</td>\n",
       "      <td>26.74</td>\n",
       "      <td>80.16</td>\n",
       "      <td>21.19</td>\n",
       "      <td>94.76</td>\n",
       "    </tr>\n",
       "  </tbody>\n",
       "</table>\n",
       "<p>5 rows × 187 columns</p>\n",
       "</div>"
      ],
      "text/plain": [
       "              TT1_Mother0-11MChildren  Measles_Children23M  \\\n",
       "DistrictName                                                 \n",
       "Bagerhat                         90.0                 88.1   \n",
       "Bandarban                        89.0                 82.3   \n",
       "Barguna                          99.0                 88.1   \n",
       "Barisal                          97.1                 86.8   \n",
       "Bhola                            98.6                 85.0   \n",
       "\n",
       "              TT4_Mother0-11MChildren  OPV3_Children12M  OPV2_Children23M  \\\n",
       "DistrictName                                                                \n",
       "Bagerhat                         52.9              93.3              96.0   \n",
       "Bandarban                        54.3              88.8              90.8   \n",
       "Barguna                          47.6              94.7              98.6   \n",
       "Barisal                          52.4              94.5              98.1   \n",
       "Bhola                            67.6              93.0              96.5   \n",
       "\n",
       "              OPV3_Children23M  PENTA2_Children12M  TT3_Mother0-11MChildren  \\\n",
       "DistrictName                                                                  \n",
       "Bagerhat                  93.3                96.0                     71.4   \n",
       "Bandarban                 89.4                90.2                     72.4   \n",
       "Barguna                   95.4                98.6                     72.4   \n",
       "Barisal                   94.5                98.1                     77.1   \n",
       "Bhola                     93.0                95.8                     85.7   \n",
       "\n",
       "              PENTA3_Children23M  VitACoverage_Children12-59M  ...  \\\n",
       "DistrictName                                                   ...   \n",
       "Bagerhat                    85.6                         96.7  ...   \n",
       "Bandarban                   84.4                         83.3  ...   \n",
       "Barguna                     87.9                         96.7  ...   \n",
       "Barisal                     86.9                         79.0  ...   \n",
       "Bhola                       86.3                         87.1  ...   \n",
       "\n",
       "              prop_pop_rural.1  prop_institutional_delivery  \\\n",
       "DistrictName                                                  \n",
       "Bagerhat                 11.48                        30.66   \n",
       "Bandarban                 0.00                         0.00   \n",
       "Barguna                   6.48                        10.56   \n",
       "Barisal                   8.22                        21.53   \n",
       "Bhola                     7.40                         9.64   \n",
       "\n",
       "              prop_current_contraceptive  prop_female_head  \\\n",
       "DistrictName                                                 \n",
       "Bagerhat                           65.52             11.29   \n",
       "Bandarban                          45.45             11.29   \n",
       "Barguna                            72.36              2.97   \n",
       "Barisal                            64.33              5.10   \n",
       "Bhola                              68.40              5.65   \n",
       "\n",
       "              prop_antenatal_care4.  prop_unmet_need_family_planing  \\\n",
       "DistrictName                                                          \n",
       "Bagerhat                      26.56                            7.89   \n",
       "Bandarban                      0.00                           27.27   \n",
       "Barguna                       20.97                           11.14   \n",
       "Barisal                       26.53                           13.31   \n",
       "Bhola                         29.51                           10.81   \n",
       "\n",
       "              prop_pop_women.1  dependency_ratio.1  prop_registered_under5  \\\n",
       "DistrictName                                                                 \n",
       "Bagerhat                 44.85               74.37                   32.84   \n",
       "Bandarban               127.03              107.50                   31.25   \n",
       "Barguna                  25.33               70.73                   41.40   \n",
       "Barisal                  24.48               75.53                   38.53   \n",
       "Bhola                    26.74               80.16                   21.19   \n",
       "\n",
       "              sex_ratio.1  \n",
       "DistrictName               \n",
       "Bagerhat            93.31  \n",
       "Bandarban           84.44  \n",
       "Barguna            105.44  \n",
       "Barisal             89.02  \n",
       "Bhola               94.76  \n",
       "\n",
       "[5 rows x 187 columns]"
      ]
     },
     "execution_count": 6,
     "metadata": {},
     "output_type": "execute_result"
    }
   ],
   "source": [
    "d2011.shape\n",
    "d2011 = d2011.set_index(['DistrictName'])\n",
    "print(d2011.shape)\n",
    "d2011 = d2011.drop(['DistrictGeo'], axis=1)\n",
    "print(d2011.shape)\n",
    "subset_vars = [var for var, var_type in zip(d2011.dtypes.index, d2011.dtypes) if str(var_type) != 'object'] \n",
    "d2011 = d2011[subset_vars]\n",
    "d2011 = d2011.fillna(d2011.mean())\n",
    "#d2011 = remove_miss_vars(input_df=d2011)\n",
    "print(d2011.shape)\n",
    "d2011.head()"
   ]
  },
  {
   "cell_type": "code",
   "execution_count": 7,
   "metadata": {},
   "outputs": [
    {
     "name": "stdout",
     "output_type": "stream",
     "text": [
      "(64, 188)\n",
      "(64, 187)\n",
      "(64, 187)\n"
     ]
    },
    {
     "data": {
      "text/html": [
       "<div>\n",
       "<style scoped>\n",
       "    .dataframe tbody tr th:only-of-type {\n",
       "        vertical-align: middle;\n",
       "    }\n",
       "\n",
       "    .dataframe tbody tr th {\n",
       "        vertical-align: top;\n",
       "    }\n",
       "\n",
       "    .dataframe thead th {\n",
       "        text-align: right;\n",
       "    }\n",
       "</style>\n",
       "<table border=\"1\" class=\"dataframe\">\n",
       "  <thead>\n",
       "    <tr style=\"text-align: right;\">\n",
       "      <th></th>\n",
       "      <th>TT1_Mother0-11MChildren</th>\n",
       "      <th>Measles_Children23M</th>\n",
       "      <th>TT4_Mother0-11MChildren</th>\n",
       "      <th>OPV3_Children12M</th>\n",
       "      <th>OPV2_Children23M</th>\n",
       "      <th>OPV3_Children23M</th>\n",
       "      <th>PENTA2_Children12M</th>\n",
       "      <th>TT3_Mother0-11MChildren</th>\n",
       "      <th>PENTA3_Children23M</th>\n",
       "      <th>VitACoverage_Children12-59M</th>\n",
       "      <th>...</th>\n",
       "      <th>prop_pop_rural.1</th>\n",
       "      <th>prop_institutional_delivery</th>\n",
       "      <th>prop_current_contraceptive</th>\n",
       "      <th>prop_female_head</th>\n",
       "      <th>prop_antenatal_care4.</th>\n",
       "      <th>prop_unmet_need_family_planing</th>\n",
       "      <th>prop_pop_women.1</th>\n",
       "      <th>dependency_ratio.1</th>\n",
       "      <th>prop_registered_under5</th>\n",
       "      <th>sex_ratio.1</th>\n",
       "    </tr>\n",
       "    <tr>\n",
       "      <th>DistrictName</th>\n",
       "      <th></th>\n",
       "      <th></th>\n",
       "      <th></th>\n",
       "      <th></th>\n",
       "      <th></th>\n",
       "      <th></th>\n",
       "      <th></th>\n",
       "      <th></th>\n",
       "      <th></th>\n",
       "      <th></th>\n",
       "      <th></th>\n",
       "      <th></th>\n",
       "      <th></th>\n",
       "      <th></th>\n",
       "      <th></th>\n",
       "      <th></th>\n",
       "      <th></th>\n",
       "      <th></th>\n",
       "      <th></th>\n",
       "      <th></th>\n",
       "      <th></th>\n",
       "    </tr>\n",
       "  </thead>\n",
       "  <tbody>\n",
       "    <tr>\n",
       "      <th>Bagerhat</th>\n",
       "      <td>98.1</td>\n",
       "      <td>92.2</td>\n",
       "      <td>61.9</td>\n",
       "      <td>90.8</td>\n",
       "      <td>97.1</td>\n",
       "      <td>91.0</td>\n",
       "      <td>96.8</td>\n",
       "      <td>85.3</td>\n",
       "      <td>91.0</td>\n",
       "      <td>82.0</td>\n",
       "      <td>...</td>\n",
       "      <td>14.38</td>\n",
       "      <td>26.49</td>\n",
       "      <td>67.82</td>\n",
       "      <td>4.17</td>\n",
       "      <td>25.13</td>\n",
       "      <td>11.00</td>\n",
       "      <td>39.86</td>\n",
       "      <td>56.82</td>\n",
       "      <td>37.56</td>\n",
       "      <td>94.78</td>\n",
       "    </tr>\n",
       "    <tr>\n",
       "      <th>Bandarban</th>\n",
       "      <td>94.8</td>\n",
       "      <td>89.8</td>\n",
       "      <td>79.6</td>\n",
       "      <td>87.8</td>\n",
       "      <td>94.8</td>\n",
       "      <td>87.8</td>\n",
       "      <td>94.8</td>\n",
       "      <td>86.1</td>\n",
       "      <td>87.8</td>\n",
       "      <td>84.1</td>\n",
       "      <td>...</td>\n",
       "      <td>0.00</td>\n",
       "      <td>75.00</td>\n",
       "      <td>63.64</td>\n",
       "      <td>25.49</td>\n",
       "      <td>75.00</td>\n",
       "      <td>13.64</td>\n",
       "      <td>77.52</td>\n",
       "      <td>45.16</td>\n",
       "      <td>40.00</td>\n",
       "      <td>84.93</td>\n",
       "    </tr>\n",
       "    <tr>\n",
       "      <th>Barguna</th>\n",
       "      <td>98.8</td>\n",
       "      <td>94.9</td>\n",
       "      <td>64.4</td>\n",
       "      <td>93.0</td>\n",
       "      <td>98.3</td>\n",
       "      <td>93.6</td>\n",
       "      <td>97.9</td>\n",
       "      <td>88.4</td>\n",
       "      <td>93.6</td>\n",
       "      <td>96.8</td>\n",
       "      <td>...</td>\n",
       "      <td>9.48</td>\n",
       "      <td>27.54</td>\n",
       "      <td>73.30</td>\n",
       "      <td>8.06</td>\n",
       "      <td>47.46</td>\n",
       "      <td>8.22</td>\n",
       "      <td>28.64</td>\n",
       "      <td>68.24</td>\n",
       "      <td>25.10</td>\n",
       "      <td>87.82</td>\n",
       "    </tr>\n",
       "    <tr>\n",
       "      <th>Barisal</th>\n",
       "      <td>100.0</td>\n",
       "      <td>97.1</td>\n",
       "      <td>79.3</td>\n",
       "      <td>95.5</td>\n",
       "      <td>99.3</td>\n",
       "      <td>96.0</td>\n",
       "      <td>99.3</td>\n",
       "      <td>96.7</td>\n",
       "      <td>96.0</td>\n",
       "      <td>100.0</td>\n",
       "      <td>...</td>\n",
       "      <td>28.48</td>\n",
       "      <td>46.33</td>\n",
       "      <td>64.26</td>\n",
       "      <td>6.99</td>\n",
       "      <td>32.39</td>\n",
       "      <td>10.08</td>\n",
       "      <td>30.97</td>\n",
       "      <td>59.68</td>\n",
       "      <td>23.40</td>\n",
       "      <td>94.74</td>\n",
       "    </tr>\n",
       "    <tr>\n",
       "      <th>Bhola</th>\n",
       "      <td>100.0</td>\n",
       "      <td>96.6</td>\n",
       "      <td>79.0</td>\n",
       "      <td>94.5</td>\n",
       "      <td>99.8</td>\n",
       "      <td>94.5</td>\n",
       "      <td>99.8</td>\n",
       "      <td>94.1</td>\n",
       "      <td>94.5</td>\n",
       "      <td>98.4</td>\n",
       "      <td>...</td>\n",
       "      <td>9.99</td>\n",
       "      <td>11.27</td>\n",
       "      <td>67.28</td>\n",
       "      <td>3.53</td>\n",
       "      <td>15.62</td>\n",
       "      <td>10.01</td>\n",
       "      <td>26.58</td>\n",
       "      <td>69.35</td>\n",
       "      <td>17.64</td>\n",
       "      <td>101.71</td>\n",
       "    </tr>\n",
       "  </tbody>\n",
       "</table>\n",
       "<p>5 rows × 187 columns</p>\n",
       "</div>"
      ],
      "text/plain": [
       "              TT1_Mother0-11MChildren  Measles_Children23M  \\\n",
       "DistrictName                                                 \n",
       "Bagerhat                         98.1                 92.2   \n",
       "Bandarban                        94.8                 89.8   \n",
       "Barguna                          98.8                 94.9   \n",
       "Barisal                         100.0                 97.1   \n",
       "Bhola                           100.0                 96.6   \n",
       "\n",
       "              TT4_Mother0-11MChildren  OPV3_Children12M  OPV2_Children23M  \\\n",
       "DistrictName                                                                \n",
       "Bagerhat                         61.9              90.8              97.1   \n",
       "Bandarban                        79.6              87.8              94.8   \n",
       "Barguna                          64.4              93.0              98.3   \n",
       "Barisal                          79.3              95.5              99.3   \n",
       "Bhola                            79.0              94.5              99.8   \n",
       "\n",
       "              OPV3_Children23M  PENTA2_Children12M  TT3_Mother0-11MChildren  \\\n",
       "DistrictName                                                                  \n",
       "Bagerhat                  91.0                96.8                     85.3   \n",
       "Bandarban                 87.8                94.8                     86.1   \n",
       "Barguna                   93.6                97.9                     88.4   \n",
       "Barisal                   96.0                99.3                     96.7   \n",
       "Bhola                     94.5                99.8                     94.1   \n",
       "\n",
       "              PENTA3_Children23M  VitACoverage_Children12-59M  ...  \\\n",
       "DistrictName                                                   ...   \n",
       "Bagerhat                    91.0                         82.0  ...   \n",
       "Bandarban                   87.8                         84.1  ...   \n",
       "Barguna                     93.6                         96.8  ...   \n",
       "Barisal                     96.0                        100.0  ...   \n",
       "Bhola                       94.5                         98.4  ...   \n",
       "\n",
       "              prop_pop_rural.1  prop_institutional_delivery  \\\n",
       "DistrictName                                                  \n",
       "Bagerhat                 14.38                        26.49   \n",
       "Bandarban                 0.00                        75.00   \n",
       "Barguna                   9.48                        27.54   \n",
       "Barisal                  28.48                        46.33   \n",
       "Bhola                     9.99                        11.27   \n",
       "\n",
       "              prop_current_contraceptive  prop_female_head  \\\n",
       "DistrictName                                                 \n",
       "Bagerhat                           67.82              4.17   \n",
       "Bandarban                          63.64             25.49   \n",
       "Barguna                            73.30              8.06   \n",
       "Barisal                            64.26              6.99   \n",
       "Bhola                              67.28              3.53   \n",
       "\n",
       "              prop_antenatal_care4.  prop_unmet_need_family_planing  \\\n",
       "DistrictName                                                          \n",
       "Bagerhat                      25.13                           11.00   \n",
       "Bandarban                     75.00                           13.64   \n",
       "Barguna                       47.46                            8.22   \n",
       "Barisal                       32.39                           10.08   \n",
       "Bhola                         15.62                           10.01   \n",
       "\n",
       "              prop_pop_women.1  dependency_ratio.1  prop_registered_under5  \\\n",
       "DistrictName                                                                 \n",
       "Bagerhat                 39.86               56.82                   37.56   \n",
       "Bandarban                77.52               45.16                   40.00   \n",
       "Barguna                  28.64               68.24                   25.10   \n",
       "Barisal                  30.97               59.68                   23.40   \n",
       "Bhola                    26.58               69.35                   17.64   \n",
       "\n",
       "              sex_ratio.1  \n",
       "DistrictName               \n",
       "Bagerhat            94.78  \n",
       "Bandarban           84.93  \n",
       "Barguna             87.82  \n",
       "Barisal             94.74  \n",
       "Bhola              101.71  \n",
       "\n",
       "[5 rows x 187 columns]"
      ]
     },
     "execution_count": 7,
     "metadata": {},
     "output_type": "execute_result"
    }
   ],
   "source": [
    "d2016.shape\n",
    "d2016 = d2016.set_index(['DistrictName'])\n",
    "print(d2016.shape)\n",
    "d2016 = d2016.drop(['DistrictGeo'], axis=1)\n",
    "print(d2016.shape)\n",
    "subset_vars = [var for var, var_type in zip(d2016.dtypes.index, d2016.dtypes) if str(var_type) != 'object'] \n",
    "d2016 = d2016[subset_vars]\n",
    "d2016 = d2016.fillna(d2016.mean())\n",
    "# d2016 = remove_miss_vars(input_df=d2016)\n",
    "print(d2016.shape)\n",
    "d2016.head()"
   ]
  },
  {
   "cell_type": "markdown",
   "metadata": {},
   "source": [
    "## Renaming variables"
   ]
  },
  {
   "cell_type": "code",
   "execution_count": 8,
   "metadata": {},
   "outputs": [
    {
     "name": "stdout",
     "output_type": "stream",
     "text": [
      "True\n"
     ]
    }
   ],
   "source": [
    "var_names = pd.read_csv(\"/Users/edinhamzic/Symphony/wb_bangladesh/Bangladesh/output/all/IndicatorsNames_2011_2016.csv\")\n",
    "var_names.head()\n",
    "\n",
    "if all(d2016.columns == d2011.columns):\n",
    "    print(True)\n",
    "    if all([var1==var2 for var1,var2 in zip(list(d2016.columns), list(var_names['Indicators 2011']))]):\n",
    "        new_names = []\n",
    "        for key, var in enumerate(d2016.columns):\n",
    "            new_names.append(var_names.loc[key,'Description'])\n",
    "        d2011.columns = new_names\n",
    "        d2016.columns = new_names\n",
    "d2011 = d2011.drop('DHS: Proportion of antental coverage 4+', axis=1)\n",
    "d2016 = d2016.drop('DHS: Proportion of antental coverage 4+', axis=1)"
   ]
  },
  {
   "cell_type": "markdown",
   "metadata": {},
   "source": [
    "## STEP 2: Outcome variable: Antenatal coverage"
   ]
  },
  {
   "cell_type": "markdown",
   "metadata": {},
   "source": [
    "###  Antenatal coverage"
   ]
  },
  {
   "cell_type": "code",
   "execution_count": 9,
   "metadata": {},
   "outputs": [
    {
     "name": "stdout",
     "output_type": "stream",
     "text": [
      "Mean: 37.97  Standard deviation: 13.59\n"
     ]
    }
   ],
   "source": [
    "print(f\"Mean: {round(d2011['DHS: Proportion of antenatal coverage'].mean(),2)}\",\n",
    "      f\" Standard deviation: {round(d2011['DHS: Proportion of antenatal coverage'].std(),2)}\")"
   ]
  },
  {
   "cell_type": "code",
   "execution_count": 10,
   "metadata": {},
   "outputs": [
    {
     "name": "stdout",
     "output_type": "stream",
     "text": [
      "Mean: 56.92  Standard deviation: 17.35\n"
     ]
    }
   ],
   "source": [
    "print(f\"Mean: {round(d2016['DHS: Proportion of antenatal coverage'].mean(),2)}\",\n",
    "      f\" Standard deviation: {round(d2016['DHS: Proportion of antenatal coverage'].std(),2)}\")"
   ]
  },
  {
   "cell_type": "markdown",
   "metadata": {},
   "source": [
    "### Scaled and normalized data\n"
   ]
  },
  {
   "cell_type": "code",
   "execution_count": 11,
   "metadata": {},
   "outputs": [
    {
     "name": "stdout",
     "output_type": "stream",
     "text": [
      "(64, 186)\n",
      "[]\n",
      "(64, 186)\n"
     ]
    }
   ],
   "source": [
    "print(d2011.shape)\n",
    "drop_columns = []\n",
    "for var in d2011.columns:\n",
    "    if \"index\" in var:\n",
    "        drop_columns.append(var)\n",
    "drop_columns = list(set(drop_columns))\n",
    "print(drop_columns)\n",
    "d2011.drop(drop_columns, inplace=True, axis=1)\n",
    "print(d2011.shape)"
   ]
  },
  {
   "cell_type": "code",
   "execution_count": 12,
   "metadata": {},
   "outputs": [
    {
     "name": "stdout",
     "output_type": "stream",
     "text": [
      "(64, 186)\n",
      "[]\n",
      "(64, 186)\n"
     ]
    }
   ],
   "source": [
    "print(d2016.shape)\n",
    "drop_columns = []\n",
    "for var in d2016.columns:\n",
    "    if \"index\" in var:\n",
    "        drop_columns.append(var)\n",
    "drop_columns = list(set(drop_columns))\n",
    "print(drop_columns)\n",
    "d2016.drop(drop_columns, inplace=True, axis=1)\n",
    "print(d2016.shape)"
   ]
  },
  {
   "cell_type": "markdown",
   "metadata": {},
   "source": [
    "### Standar scaling of data\n",
    "- Standardize features by removing the mean and scaling to unit variance"
   ]
  },
  {
   "cell_type": "code",
   "execution_count": 13,
   "metadata": {},
   "outputs": [
    {
     "name": "stdout",
     "output_type": "stream",
     "text": [
      "(64, 186)\n",
      "(64, 186)\n"
     ]
    },
    {
     "name": "stderr",
     "output_type": "stream",
     "text": [
      "/anaconda3/lib/python3.7/site-packages/sklearn/preprocessing/data.py:625: DataConversionWarning: Data with input dtype int64, float64 were all converted to float64 by StandardScaler.\n",
      "  return self.partial_fit(X, y)\n",
      "/anaconda3/lib/python3.7/site-packages/sklearn/base.py:462: DataConversionWarning: Data with input dtype int64, float64 were all converted to float64 by StandardScaler.\n",
      "  return self.fit(X, **fit_params).transform(X)\n"
     ]
    }
   ],
   "source": [
    "s_data2011 = StandardScaler().fit_transform(d2011)\n",
    "s_data2011 = pd.DataFrame(s_data2011, columns=d2011.columns)\n",
    "print(s_data2011.shape)\n",
    "s_data2011 = remove_miss_vars(input_df=s_data2011)\n",
    "print(s_data2011.shape)"
   ]
  },
  {
   "cell_type": "code",
   "execution_count": 14,
   "metadata": {},
   "outputs": [
    {
     "name": "stdout",
     "output_type": "stream",
     "text": [
      "(64, 186)\n",
      "(64, 186)\n"
     ]
    },
    {
     "name": "stderr",
     "output_type": "stream",
     "text": [
      "/anaconda3/lib/python3.7/site-packages/sklearn/preprocessing/data.py:625: DataConversionWarning: Data with input dtype int64, float64 were all converted to float64 by StandardScaler.\n",
      "  return self.partial_fit(X, y)\n",
      "/anaconda3/lib/python3.7/site-packages/sklearn/base.py:462: DataConversionWarning: Data with input dtype int64, float64 were all converted to float64 by StandardScaler.\n",
      "  return self.fit(X, **fit_params).transform(X)\n"
     ]
    }
   ],
   "source": [
    "d2016[d2016==np.inf]=np.nan\n",
    "d2016.fillna(d2016.mean(), inplace=True)\n",
    "s_data2016 = StandardScaler().fit_transform(d2016)\n",
    "s_data2016 = pd.DataFrame(s_data2016, columns=d2016.columns)\n",
    "print(s_data2016.shape)\n",
    "s_data2016 = remove_miss_vars(input_df=s_data2016)\n",
    "print(s_data2016.shape)\n"
   ]
  },
  {
   "cell_type": "markdown",
   "metadata": {},
   "source": [
    "### Performing PCA on both years 2011 and 2016: Preliminary"
   ]
  },
  {
   "cell_type": "code",
   "execution_count": 15,
   "metadata": {},
   "outputs": [
    {
     "name": "stdout",
     "output_type": "stream",
     "text": [
      "40\n"
     ]
    }
   ],
   "source": [
    "pca = PCA(.95)\n",
    "pca2011 = pca.fit(s_data2011)\n",
    "print(pca.n_components_)"
   ]
  },
  {
   "cell_type": "code",
   "execution_count": 16,
   "metadata": {},
   "outputs": [
    {
     "name": "stdout",
     "output_type": "stream",
     "text": [
      "42\n"
     ]
    }
   ],
   "source": [
    "pca = PCA(.95)\n",
    "pca2016 = pca.fit(s_data2016)\n",
    "print(pca.n_components_)"
   ]
  },
  {
   "cell_type": "markdown",
   "metadata": {},
   "source": [
    "## Performing Canonical Correlation Analysis (CCA) and correlation analysis for 2011\n",
    "- The aim of this part is to identify variables highly correlated with antental coverage"
   ]
  },
  {
   "cell_type": "markdown",
   "metadata": {},
   "source": [
    "### Canonical Correlation Analysis (CCA) 2011"
   ]
  },
  {
   "cell_type": "code",
   "execution_count": 17,
   "metadata": {},
   "outputs": [
    {
     "name": "stdout",
     "output_type": "stream",
     "text": [
      "0.9993459340496103\n"
     ]
    },
    {
     "name": "stderr",
     "output_type": "stream",
     "text": [
      "/anaconda3/lib/python3.7/site-packages/sklearn/cross_decomposition/pls_.py:291: UserWarning: Y residual constant at iteration 1\n",
      "  warnings.warn('Y residual constant at iteration %s' % k)\n"
     ]
    }
   ],
   "source": [
    "cca_anc = CCA(copy=True, max_iter=1000, n_components=40, scale=True, tol=1e-06)\n",
    "cca_anc.fit(s_data2011.drop('DHS: Proportion of antenatal coverage', axis=1),\n",
    "                 s_data2011['DHS: Proportion of antenatal coverage'])\n",
    "print(cca_anc.score(s_data2011.drop('DHS: Proportion of antenatal coverage', axis=1),\n",
    "                         s_data2011['DHS: Proportion of antenatal coverage']))"
   ]
  },
  {
   "cell_type": "code",
   "execution_count": 18,
   "metadata": {},
   "outputs": [
    {
     "data": {
      "text/html": [
       "<div>\n",
       "<style scoped>\n",
       "    .dataframe tbody tr th:only-of-type {\n",
       "        vertical-align: middle;\n",
       "    }\n",
       "\n",
       "    .dataframe tbody tr th {\n",
       "        vertical-align: top;\n",
       "    }\n",
       "\n",
       "    .dataframe thead th {\n",
       "        text-align: right;\n",
       "    }\n",
       "</style>\n",
       "<table border=\"1\" class=\"dataframe\">\n",
       "  <thead>\n",
       "    <tr style=\"text-align: right;\">\n",
       "      <th></th>\n",
       "      <th>Indicators</th>\n",
       "      <th>CCA_coeff</th>\n",
       "      <th>CCA_coeff_abs</th>\n",
       "    </tr>\n",
       "  </thead>\n",
       "  <tbody>\n",
       "    <tr>\n",
       "      <th>2</th>\n",
       "      <td>Crude coverage TT4 among mothers with 0-11 mon...</td>\n",
       "      <td>-0.182782</td>\n",
       "      <td>0.182782</td>\n",
       "    </tr>\n",
       "    <tr>\n",
       "      <th>15</th>\n",
       "      <td>Crude coverage TT5 among mothers with 0-11 chi...</td>\n",
       "      <td>-0.142744</td>\n",
       "      <td>0.142744</td>\n",
       "    </tr>\n",
       "    <tr>\n",
       "      <th>21</th>\n",
       "      <td>Crude coverage BCG children 12 months, %</td>\n",
       "      <td>0.102570</td>\n",
       "      <td>0.102570</td>\n",
       "    </tr>\n",
       "    <tr>\n",
       "      <th>25</th>\n",
       "      <td>Proportion of women (15-45 years)</td>\n",
       "      <td>-0.122544</td>\n",
       "      <td>0.122544</td>\n",
       "    </tr>\n",
       "    <tr>\n",
       "      <th>30</th>\n",
       "      <td>Proportion of registered births</td>\n",
       "      <td>0.124551</td>\n",
       "      <td>0.124551</td>\n",
       "    </tr>\n",
       "  </tbody>\n",
       "</table>\n",
       "</div>"
      ],
      "text/plain": [
       "                                           Indicators  CCA_coeff  \\\n",
       "2   Crude coverage TT4 among mothers with 0-11 mon...  -0.182782   \n",
       "15  Crude coverage TT5 among mothers with 0-11 chi...  -0.142744   \n",
       "21           Crude coverage BCG children 12 months, %   0.102570   \n",
       "25                  Proportion of women (15-45 years)  -0.122544   \n",
       "30                    Proportion of registered births   0.124551   \n",
       "\n",
       "    CCA_coeff_abs  \n",
       "2        0.182782  \n",
       "15       0.142744  \n",
       "21       0.102570  \n",
       "25       0.122544  \n",
       "30       0.124551  "
      ]
     },
     "metadata": {},
     "output_type": "display_data"
    },
    {
     "name": "stdout",
     "output_type": "stream",
     "text": [
      "Number of indicators from the original file with coefficent values above 0.1 is 31\n"
     ]
    }
   ],
   "source": [
    "CCA_coeff_anc = pd.DataFrame({'Indicators': list(s_data2011.drop('DHS: Proportion of antenatal coverage', axis=1).columns),\n",
    "                                   'CCA_coeff': cca_anc.coef_[:,0],\n",
    "                                   'CCA_coeff_abs': np.absolute(cca_anc.coef_[:,0]),})\n",
    "CCA_coeff_anc.sort_values(by='CCA_coeff_abs', ascending =False).head()\n",
    "CCA_coeff_anc = CCA_coeff_anc[CCA_coeff_anc['CCA_coeff_abs'] > 0.1]\n",
    "display(CCA_coeff_anc.head())\n",
    "print(f\"Number of indicators from the original file with coefficent values above 0.1 is {CCA_coeff_anc.shape[0]}\")\n",
    "CCA_coeff_anc.to_csv(OUT+'/cca_antenatal_coverage_2011.csv', index=False, index_label=False)"
   ]
  },
  {
   "cell_type": "markdown",
   "metadata": {},
   "source": [
    "### Correlation analysis 2011"
   ]
  },
  {
   "cell_type": "code",
   "execution_count": 19,
   "metadata": {},
   "outputs": [
    {
     "data": {
      "text/plain": [
       "True"
      ]
     },
     "execution_count": 19,
     "metadata": {},
     "output_type": "execute_result"
    }
   ],
   "source": [
    "import scipy.stats as stats\n",
    "all(s_data2011.columns == s_data2016.columns)"
   ]
  },
  {
   "cell_type": "code",
   "execution_count": 20,
   "metadata": {},
   "outputs": [],
   "source": [
    "corr2011 = s_data2011.corr()"
   ]
  },
  {
   "cell_type": "code",
   "execution_count": 21,
   "metadata": {
    "scrolled": false
   },
   "outputs": [
    {
     "name": "stderr",
     "output_type": "stream",
     "text": [
      "/anaconda3/lib/python3.7/site-packages/ipykernel_launcher.py:2: SettingWithCopyWarning: \n",
      "A value is trying to be set on a copy of a slice from a DataFrame.\n",
      "Try using .loc[row_indexer,col_indexer] = value instead\n",
      "\n",
      "See the caveats in the documentation: http://pandas.pydata.org/pandas-docs/stable/indexing.html#indexing-view-versus-copy\n",
      "  \n",
      "/anaconda3/lib/python3.7/site-packages/scipy/stats/stats.py:3010: RuntimeWarning: invalid value encountered in double_scalars\n",
      "  r = r_num / r_den\n"
     ]
    },
    {
     "data": {
      "text/html": [
       "<div>\n",
       "<style scoped>\n",
       "    .dataframe tbody tr th:only-of-type {\n",
       "        vertical-align: middle;\n",
       "    }\n",
       "\n",
       "    .dataframe tbody tr th {\n",
       "        vertical-align: top;\n",
       "    }\n",
       "\n",
       "    .dataframe thead th {\n",
       "        text-align: right;\n",
       "    }\n",
       "</style>\n",
       "<table border=\"1\" class=\"dataframe\">\n",
       "  <thead>\n",
       "    <tr style=\"text-align: right;\">\n",
       "      <th></th>\n",
       "      <th>index</th>\n",
       "      <th>DHS: Proportion of antenatal coverage</th>\n",
       "      <th>abs_antenatal_coverage</th>\n",
       "      <th>p_value</th>\n",
       "    </tr>\n",
       "  </thead>\n",
       "  <tbody>\n",
       "    <tr>\n",
       "      <th>0</th>\n",
       "      <td>DHS: Proportion of C-sections</td>\n",
       "      <td>0.684099</td>\n",
       "      <td>0.684099</td>\n",
       "      <td>4.623235e-10</td>\n",
       "    </tr>\n",
       "    <tr>\n",
       "      <th>1</th>\n",
       "      <td>DHS: Proportion of attendant deliveries</td>\n",
       "      <td>0.671220</td>\n",
       "      <td>0.671220</td>\n",
       "      <td>1.280299e-09</td>\n",
       "    </tr>\n",
       "    <tr>\n",
       "      <th>2</th>\n",
       "      <td>DHS: Proportion of institutional deliveries</td>\n",
       "      <td>0.632610</td>\n",
       "      <td>0.632610</td>\n",
       "      <td>2.048893e-08</td>\n",
       "    </tr>\n",
       "    <tr>\n",
       "      <th>3</th>\n",
       "      <td>DHS: Proportion of women (15-45 years)</td>\n",
       "      <td>0.543440</td>\n",
       "      <td>0.543440</td>\n",
       "      <td>3.479477e-06</td>\n",
       "    </tr>\n",
       "    <tr>\n",
       "      <th>4</th>\n",
       "      <td>DHS: Dependency ratio</td>\n",
       "      <td>-0.517718</td>\n",
       "      <td>0.517718</td>\n",
       "      <td>1.180959e-05</td>\n",
       "    </tr>\n",
       "  </tbody>\n",
       "</table>\n",
       "</div>"
      ],
      "text/plain": [
       "                                         index  \\\n",
       "0                DHS: Proportion of C-sections   \n",
       "1      DHS: Proportion of attendant deliveries   \n",
       "2  DHS: Proportion of institutional deliveries   \n",
       "3       DHS: Proportion of women (15-45 years)   \n",
       "4                        DHS: Dependency ratio   \n",
       "\n",
       "   DHS: Proportion of antenatal coverage  abs_antenatal_coverage       p_value  \n",
       "0                               0.684099                0.684099  4.623235e-10  \n",
       "1                               0.671220                0.671220  1.280299e-09  \n",
       "2                               0.632610                0.632610  2.048893e-08  \n",
       "3                               0.543440                0.543440  3.479477e-06  \n",
       "4                              -0.517718                0.517718  1.180959e-05  "
      ]
     },
     "metadata": {},
     "output_type": "display_data"
    },
    {
     "name": "stdout",
     "output_type": "stream",
     "text": [
      "Number of indicators from the original file with correlation coefficient values above 0.1 is 46\n"
     ]
    }
   ],
   "source": [
    "antenatal_coverage_2011 = corr2011[['DHS: Proportion of antenatal coverage']]\n",
    "antenatal_coverage_2011['abs_antenatal_coverage'] = np.absolute(antenatal_coverage_2011['DHS: Proportion of antenatal coverage'])\n",
    "antenatal_coverage_2011 = antenatal_coverage_2011.sort_values(by='abs_antenatal_coverage', ascending=False)\n",
    "antenatal_coverage_2011.drop('DHS: Proportion of antenatal coverage',axis=0, inplace=True)\n",
    "antenatal_coverage_2011.reset_index(inplace=True)\n",
    "corr_pvalues = []\n",
    "for var in antenatal_coverage_2011['index']:\n",
    "    pvalue = stats.pearsonr(s_data2011[var], s_data2011['DHS: Proportion of antenatal coverage'])[1]\n",
    "    corr_pvalues.append(pvalue)\n",
    "antenatal_coverage_2011['p_value'] = corr_pvalues\n",
    "antenatal_coverage_2011 = antenatal_coverage_2011[antenatal_coverage_2011['p_value'] < 0.05]\n",
    "antenatal_coverage_2011.sort_values(by = 'abs_antenatal_coverage', ascending=False)\n",
    "display(antenatal_coverage_2011.head())\n",
    "print(f\"Number of indicators from the original file with correlation coefficient values above 0.1 is {antenatal_coverage_2011.shape[0]}\")\n",
    "antenatal_coverage_2011.to_csv(OUT+'/corr_antenatal_coverage_2011.csv', index=False, index_label=False)"
   ]
  },
  {
   "cell_type": "markdown",
   "metadata": {},
   "source": [
    "### Combine results"
   ]
  },
  {
   "cell_type": "code",
   "execution_count": 22,
   "metadata": {},
   "outputs": [
    {
     "data": {
      "text/plain": [
       "69"
      ]
     },
     "execution_count": 22,
     "metadata": {},
     "output_type": "execute_result"
    }
   ],
   "source": [
    "antenatal_coverage_vars_2011 = list(set(CCA_coeff_anc['Indicators']).union(set(antenatal_coverage_2011['index'])))\n",
    "len(list(set(CCA_coeff_anc['Indicators']).union(set(antenatal_coverage_2011['index']))))"
   ]
  },
  {
   "cell_type": "markdown",
   "metadata": {},
   "source": [
    "## Performing Canonical Correlation Analysis (CCA) and correlation analysis for 2016\n",
    "- The aim of this part is to identify variables highly correlated with antenatal coverage"
   ]
  },
  {
   "cell_type": "markdown",
   "metadata": {},
   "source": [
    "### Canonical Correlation Analysis (CCA) 2016"
   ]
  },
  {
   "cell_type": "code",
   "execution_count": 23,
   "metadata": {},
   "outputs": [
    {
     "name": "stdout",
     "output_type": "stream",
     "text": [
      "0.9563434138827416\n"
     ]
    },
    {
     "name": "stderr",
     "output_type": "stream",
     "text": [
      "/anaconda3/lib/python3.7/site-packages/sklearn/cross_decomposition/pls_.py:291: UserWarning: Y residual constant at iteration 1\n",
      "  warnings.warn('Y residual constant at iteration %s' % k)\n"
     ]
    }
   ],
   "source": [
    "cca_anc = CCA(copy=True, max_iter=500, n_components=40, scale=True, tol=1e-06)\n",
    "cca_anc.fit(s_data2016.drop('DHS: Proportion of antenatal coverage', axis=1),\n",
    "                 s_data2016['DHS: Proportion of antenatal coverage'])\n",
    "print(cca_anc.score(s_data2016.drop('DHS: Proportion of antenatal coverage', axis=1),\n",
    "                         s_data2016['DHS: Proportion of antenatal coverage']))"
   ]
  },
  {
   "cell_type": "code",
   "execution_count": 24,
   "metadata": {},
   "outputs": [
    {
     "data": {
      "text/html": [
       "<div>\n",
       "<style scoped>\n",
       "    .dataframe tbody tr th:only-of-type {\n",
       "        vertical-align: middle;\n",
       "    }\n",
       "\n",
       "    .dataframe tbody tr th {\n",
       "        vertical-align: top;\n",
       "    }\n",
       "\n",
       "    .dataframe thead th {\n",
       "        text-align: right;\n",
       "    }\n",
       "</style>\n",
       "<table border=\"1\" class=\"dataframe\">\n",
       "  <thead>\n",
       "    <tr style=\"text-align: right;\">\n",
       "      <th></th>\n",
       "      <th>Indicators</th>\n",
       "      <th>CCA_coeff</th>\n",
       "      <th>CCA_coeff_abs</th>\n",
       "    </tr>\n",
       "  </thead>\n",
       "  <tbody>\n",
       "    <tr>\n",
       "      <th>9</th>\n",
       "      <td>Vitamin A coverage children 12-59 months, %</td>\n",
       "      <td>-0.203491</td>\n",
       "      <td>0.203491</td>\n",
       "    </tr>\n",
       "    <tr>\n",
       "      <th>34</th>\n",
       "      <td>Proportion of rural deaths</td>\n",
       "      <td>-0.105043</td>\n",
       "      <td>0.105043</td>\n",
       "    </tr>\n",
       "    <tr>\n",
       "      <th>36</th>\n",
       "      <td>Proportion of women population</td>\n",
       "      <td>0.118521</td>\n",
       "      <td>0.118521</td>\n",
       "    </tr>\n",
       "    <tr>\n",
       "      <th>37</th>\n",
       "      <td>Dependency ratio</td>\n",
       "      <td>-0.124174</td>\n",
       "      <td>0.124174</td>\n",
       "    </tr>\n",
       "    <tr>\n",
       "      <th>38</th>\n",
       "      <td>Sex ratio</td>\n",
       "      <td>-0.114493</td>\n",
       "      <td>0.114493</td>\n",
       "    </tr>\n",
       "  </tbody>\n",
       "</table>\n",
       "</div>"
      ],
      "text/plain": [
       "                                     Indicators  CCA_coeff  CCA_coeff_abs\n",
       "9   Vitamin A coverage children 12-59 months, %  -0.203491       0.203491\n",
       "34                   Proportion of rural deaths  -0.105043       0.105043\n",
       "36               Proportion of women population   0.118521       0.118521\n",
       "37                             Dependency ratio  -0.124174       0.124174\n",
       "38                                    Sex ratio  -0.114493       0.114493"
      ]
     },
     "metadata": {},
     "output_type": "display_data"
    },
    {
     "name": "stdout",
     "output_type": "stream",
     "text": [
      "Number of indicators from the original file with coefficent values above 0.1 is 28\n"
     ]
    }
   ],
   "source": [
    "CCA_coeff_anc = pd.DataFrame({'Indicators': list(s_data2016.drop('DHS: Proportion of antenatal coverage', axis=1).columns),\n",
    "                                   'CCA_coeff': cca_anc.coef_[:,0],\n",
    "                                   'CCA_coeff_abs': np.absolute(cca_anc.coef_[:,0]),})\n",
    "CCA_coeff_anc.sort_values(by='CCA_coeff_abs', ascending =False).head()\n",
    "CCA_coeff_anc = CCA_coeff_anc[CCA_coeff_anc['CCA_coeff_abs'] > 0.1]\n",
    "display(CCA_coeff_anc.head())\n",
    "print(f\"Number of indicators from the original file with coefficent values above 0.1 is {CCA_coeff_anc.shape[0]}\")\n",
    "CCA_coeff_anc.to_csv(OUT+'/cca_antenatal_coverage_2016.csv', index=False, index_label=False)"
   ]
  },
  {
   "cell_type": "markdown",
   "metadata": {},
   "source": [
    "### Correlation analysis 2016"
   ]
  },
  {
   "cell_type": "code",
   "execution_count": 25,
   "metadata": {},
   "outputs": [
    {
     "data": {
      "text/plain": [
       "True"
      ]
     },
     "execution_count": 25,
     "metadata": {},
     "output_type": "execute_result"
    }
   ],
   "source": [
    "import scipy.stats  as stats\n",
    "all(s_data2011.columns == s_data2016.columns)"
   ]
  },
  {
   "cell_type": "code",
   "execution_count": 26,
   "metadata": {},
   "outputs": [],
   "source": [
    "corr2016 = s_data2016.corr()"
   ]
  },
  {
   "cell_type": "code",
   "execution_count": 27,
   "metadata": {},
   "outputs": [
    {
     "name": "stderr",
     "output_type": "stream",
     "text": [
      "/anaconda3/lib/python3.7/site-packages/ipykernel_launcher.py:2: SettingWithCopyWarning: \n",
      "A value is trying to be set on a copy of a slice from a DataFrame.\n",
      "Try using .loc[row_indexer,col_indexer] = value instead\n",
      "\n",
      "See the caveats in the documentation: http://pandas.pydata.org/pandas-docs/stable/indexing.html#indexing-view-versus-copy\n",
      "  \n",
      "/anaconda3/lib/python3.7/site-packages/scipy/stats/stats.py:3010: RuntimeWarning: invalid value encountered in double_scalars\n",
      "  r = r_num / r_den\n"
     ]
    },
    {
     "data": {
      "text/html": [
       "<div>\n",
       "<style scoped>\n",
       "    .dataframe tbody tr th:only-of-type {\n",
       "        vertical-align: middle;\n",
       "    }\n",
       "\n",
       "    .dataframe tbody tr th {\n",
       "        vertical-align: top;\n",
       "    }\n",
       "\n",
       "    .dataframe thead th {\n",
       "        text-align: right;\n",
       "    }\n",
       "</style>\n",
       "<table border=\"1\" class=\"dataframe\">\n",
       "  <thead>\n",
       "    <tr style=\"text-align: right;\">\n",
       "      <th></th>\n",
       "      <th>index</th>\n",
       "      <th>DHS: Proportion of antenatal coverage</th>\n",
       "      <th>abs_antenatal_coverage</th>\n",
       "      <th>p_value</th>\n",
       "    </tr>\n",
       "  </thead>\n",
       "  <tbody>\n",
       "    <tr>\n",
       "      <th>0</th>\n",
       "      <td>DHS: Proportion of attendant deliveries</td>\n",
       "      <td>0.774294</td>\n",
       "      <td>0.774294</td>\n",
       "      <td>6.170175e-14</td>\n",
       "    </tr>\n",
       "    <tr>\n",
       "      <th>1</th>\n",
       "      <td>DHS: Proportion of institutional deliveries</td>\n",
       "      <td>0.772737</td>\n",
       "      <td>0.772737</td>\n",
       "      <td>7.444530e-14</td>\n",
       "    </tr>\n",
       "    <tr>\n",
       "      <th>2</th>\n",
       "      <td>DHS: Proportion of C-sections</td>\n",
       "      <td>0.741550</td>\n",
       "      <td>0.741550</td>\n",
       "      <td>2.405134e-12</td>\n",
       "    </tr>\n",
       "    <tr>\n",
       "      <th>3</th>\n",
       "      <td>DHS: Dependency ratio</td>\n",
       "      <td>-0.406460</td>\n",
       "      <td>0.406460</td>\n",
       "      <td>8.599801e-04</td>\n",
       "    </tr>\n",
       "    <tr>\n",
       "      <th>4</th>\n",
       "      <td>DHS: Proportion of women (15-45 years)</td>\n",
       "      <td>0.400571</td>\n",
       "      <td>0.400571</td>\n",
       "      <td>1.038380e-03</td>\n",
       "    </tr>\n",
       "  </tbody>\n",
       "</table>\n",
       "</div>"
      ],
      "text/plain": [
       "                                         index  \\\n",
       "0      DHS: Proportion of attendant deliveries   \n",
       "1  DHS: Proportion of institutional deliveries   \n",
       "2                DHS: Proportion of C-sections   \n",
       "3                        DHS: Dependency ratio   \n",
       "4       DHS: Proportion of women (15-45 years)   \n",
       "\n",
       "   DHS: Proportion of antenatal coverage  abs_antenatal_coverage       p_value  \n",
       "0                               0.774294                0.774294  6.170175e-14  \n",
       "1                               0.772737                0.772737  7.444530e-14  \n",
       "2                               0.741550                0.741550  2.405134e-12  \n",
       "3                              -0.406460                0.406460  8.599801e-04  \n",
       "4                               0.400571                0.400571  1.038380e-03  "
      ]
     },
     "metadata": {},
     "output_type": "display_data"
    },
    {
     "name": "stdout",
     "output_type": "stream",
     "text": [
      "Number of indicators from the original file with correlation coefficient values above 0.1 is 17\n"
     ]
    }
   ],
   "source": [
    "antenatal_coverage_2016 = corr2016[['DHS: Proportion of antenatal coverage']]\n",
    "antenatal_coverage_2016['abs_antenatal_coverage'] = np.absolute(antenatal_coverage_2016['DHS: Proportion of antenatal coverage'])\n",
    "antenatal_coverage_2016 = antenatal_coverage_2016.sort_values(by='abs_antenatal_coverage', ascending=False)\n",
    "antenatal_coverage_2016.drop('DHS: Proportion of antenatal coverage',axis=0, inplace=True)\n",
    "antenatal_coverage_2016.reset_index(inplace=True)\n",
    "corr_pvalues = []\n",
    "for var in antenatal_coverage_2016['index']:\n",
    "    pvalue = stats.pearsonr(s_data2016[var], s_data2016['DHS: Proportion of antenatal coverage'])[1]\n",
    "    corr_pvalues.append(pvalue)\n",
    "antenatal_coverage_2016['p_value'] = corr_pvalues\n",
    "antenatal_coverage_2016 = antenatal_coverage_2016[antenatal_coverage_2016['p_value'] < 0.1]\n",
    "antenatal_coverage_2016.sort_values(by = 'abs_antenatal_coverage', ascending=False)\n",
    "display(antenatal_coverage_2016.head())\n",
    "print(f\"Number of indicators from the original file with correlation coefficient values above 0.1 is {antenatal_coverage_2016.shape[0]}\")\n",
    "antenatal_coverage_2016.to_csv(OUT+'/corr_antenatal_coverage_2016.csv', index=False, index_label=False)"
   ]
  },
  {
   "cell_type": "markdown",
   "metadata": {},
   "source": [
    "### Combine results"
   ]
  },
  {
   "cell_type": "code",
   "execution_count": 28,
   "metadata": {},
   "outputs": [
    {
     "data": {
      "text/plain": [
       "35"
      ]
     },
     "execution_count": 28,
     "metadata": {},
     "output_type": "execute_result"
    }
   ],
   "source": [
    "antenatal_coverage_vars_2016 = list(set(CCA_coeff_anc['Indicators']).union(set(antenatal_coverage_2016['index'])))\n",
    "len(list(set(CCA_coeff_anc['Indicators']).union(set(antenatal_coverage_2016['index']))))"
   ]
  },
  {
   "cell_type": "markdown",
   "metadata": {},
   "source": [
    "## Intersect variables"
   ]
  },
  {
   "cell_type": "code",
   "execution_count": 29,
   "metadata": {},
   "outputs": [
    {
     "name": "stdout",
     "output_type": "stream",
     "text": [
      "69\n",
      "35\n",
      "86\n",
      "18\n"
     ]
    }
   ],
   "source": [
    "print(len(antenatal_coverage_vars_2011))\n",
    "print(len(antenatal_coverage_vars_2016))\n",
    "antenatal_coverage_vars_union = list(set(antenatal_coverage_vars_2011).union(set(antenatal_coverage_vars_2016)))\n",
    "antenatal_coverage_vars_inter = list(set(antenatal_coverage_vars_2011).intersection(set(antenatal_coverage_vars_2016)))\n",
    "print(len(antenatal_coverage_vars_union))\n",
    "print(len(antenatal_coverage_vars_inter))"
   ]
  },
  {
   "cell_type": "markdown",
   "metadata": {},
   "source": [
    "## Performing HDBSCAN or Kmean clustering: Antenatal coverage"
   ]
  },
  {
   "cell_type": "code",
   "execution_count": 30,
   "metadata": {},
   "outputs": [],
   "source": [
    "import os\n",
    "import re\n",
    "import glob\n",
    "import conda\n",
    "import hdbscan\n",
    "import operator\n",
    "import itertools\n",
    "import numpy as np\n",
    "import pandas as pd\n",
    "import seaborn as sns\n",
    "from config import Config\n",
    "from collections import Counter\n",
    "from matplotlib import pyplot as plt\n",
    "conda_file_dir = conda.__file__\n",
    "conda_dir = conda_file_dir.split('lib')[0]\n",
    "proj_lib = os.path.join(os.path.join(conda_dir, 'share'), 'proj')\n",
    "os.environ[\"PROJ_LIB\"] = proj_lib\n",
    "from mpl_toolkits.basemap import Basemap\n",
    "from matplotlib.patches import Polygon\n",
    "from matplotlib.lines import Line2D\n",
    "from matplotlib.collections import PatchCollection\n",
    "from sklearn.cluster import KMeans"
   ]
  },
  {
   "cell_type": "code",
   "execution_count": 31,
   "metadata": {},
   "outputs": [],
   "source": [
    "def evaluate_hdbscan(input_df, min_samples, min_cluster_size, \n",
    "                     output, cluster_selection_method, \n",
    "                     fmin_samples, fmin_cluster_size,\n",
    "                     prune=False, plot=True):\n",
    "    samples = list(itertools.product(min_samples, min_cluster_size))\n",
    "    counter = 0\n",
    "    models = pd.DataFrame(columns=['min_samples',\n",
    "                                   'min_cluster_size',\n",
    "                                   'num_clusters_including_unclustered',\n",
    "                                   'percent_of_unclustered_geos',\n",
    "                                   'percent_of_maxclass',],index=range(len(samples)))\n",
    "\n",
    "    df = input_df.copy(deep=True)\n",
    "    for iteration in samples:\n",
    "        model = hdbscan.HDBSCAN(min_samples=int(iteration[0]), \n",
    "                                min_cluster_size=int(iteration[1]), \n",
    "                                metric='euclidean', \n",
    "                                algorithm='best',\n",
    "                                cluster_selection_method=cluster_selection_method, prediction_data=False).fit(df)\n",
    "        models.loc[counter,'min_cluster_size'] = iteration[1]\n",
    "        models.loc[counter, 'min_samples'] = iteration[0]\n",
    "        models.loc[counter, 'num_clusters_including_unclustered'] = len(Counter(model.labels_))\n",
    "        tmp_dict = dict(Counter(model.labels_))\n",
    "        total = sum([v for k,v in tmp_dict.items()])\n",
    "        tmp_dict = {k:round(v/total*100,2) for k,v in tmp_dict.items()}\n",
    "        try:\n",
    "            models.loc[counter, 'percent_of_unclustered_geos'] = tmp_dict.pop(-1)\n",
    "        except KeyError as error:\n",
    "            models.loc[counter, 'percent_of_unclustered_geos'] = 0 \n",
    "        if len(tmp_dict) > 1:\n",
    "            models.loc[counter, 'percent_of_maxclass'] = tmp_dict[max(tmp_dict.items(), key=operator.itemgetter(1))[0]]\n",
    "        else:\n",
    "            models.loc[counter, 'percent_of_maxclass'] = 100\n",
    "        counter += 1\n",
    "    if prune:\n",
    "        out_model = hdbscan.HDBSCAN(min_samples=int(fmin_samples), \n",
    "                                min_cluster_size=int(fmin_cluster_size), \n",
    "                                metric='euclidean', \n",
    "                                algorithm='best',\n",
    "                                cluster_selection_method=cluster_selection_method, prediction_data=False).fit(df)\n",
    "\n",
    "    else:\n",
    "        out_model = None\n",
    "\n",
    "    if plot:\n",
    "        plt.rcParams['figure.figsize'] = [20,10]\n",
    "        plt.plot(models['num_clusters_including_unclustered'], label='Number of clusters including unclustered')\n",
    "        plt.plot(models['percent_of_unclustered_geos'], label='Percent of unclustered geographies')\n",
    "        plt.plot(models['percent_of_maxclass'], label='Size of larges cluster (%)')\n",
    "        plt.xlabel(\"Iterations\", fontsize=20)\n",
    "        plt.ylabel(\"Value\", fontsize=20)\n",
    "        plt.savefig(os.path.split(output)[1] + \"/finetune_parameteres.jpeg\")\n",
    "        plt.legend()\n",
    "        plt.show()\n",
    "    del(input_df, df)\n",
    "    return models, out_model"
   ]
  },
  {
   "cell_type": "code",
   "execution_count": 32,
   "metadata": {},
   "outputs": [],
   "source": [
    "OUT = '/Users/edinhamzic/Symphony/wb_bangladesh/Bangladesh/output/all/'"
   ]
  },
  {
   "cell_type": "markdown",
   "metadata": {},
   "source": [
    "## Evaluate clustering method: HDBSCAN - leaf - 2011"
   ]
  },
  {
   "cell_type": "code",
   "execution_count": 33,
   "metadata": {},
   "outputs": [],
   "source": [
    "tmp, out = evaluate_hdbscan(input_df=s_data2011[antenatal_coverage_vars_union], \n",
    "                       min_samples=Config.tune_min_sample, \n",
    "                       min_cluster_size=Config.tune_min_cluster,\n",
    "                       output=OUT, cluster_selection_method ='leaf',\n",
    "                       fmin_samples=3, fmin_cluster_size=12,\n",
    "                       prune=True, plot=False)"
   ]
  },
  {
   "cell_type": "code",
   "execution_count": 34,
   "metadata": {},
   "outputs": [
    {
     "data": {
      "text/html": [
       "<div>\n",
       "<style scoped>\n",
       "    .dataframe tbody tr th:only-of-type {\n",
       "        vertical-align: middle;\n",
       "    }\n",
       "\n",
       "    .dataframe tbody tr th {\n",
       "        vertical-align: top;\n",
       "    }\n",
       "\n",
       "    .dataframe thead th {\n",
       "        text-align: right;\n",
       "    }\n",
       "</style>\n",
       "<table border=\"1\" class=\"dataframe\">\n",
       "  <thead>\n",
       "    <tr style=\"text-align: right;\">\n",
       "      <th></th>\n",
       "      <th>min_samples</th>\n",
       "      <th>min_cluster_size</th>\n",
       "      <th>num_clusters_including_unclustered</th>\n",
       "      <th>percent_of_unclustered_geos</th>\n",
       "      <th>percent_of_maxclass</th>\n",
       "    </tr>\n",
       "  </thead>\n",
       "  <tbody>\n",
       "    <tr>\n",
       "      <th>1</th>\n",
       "      <td>1</td>\n",
       "      <td>3</td>\n",
       "      <td>6</td>\n",
       "      <td>57.81</td>\n",
       "      <td>18.75</td>\n",
       "    </tr>\n",
       "    <tr>\n",
       "      <th>49</th>\n",
       "      <td>2</td>\n",
       "      <td>3</td>\n",
       "      <td>6</td>\n",
       "      <td>57.81</td>\n",
       "      <td>18.75</td>\n",
       "    </tr>\n",
       "    <tr>\n",
       "      <th>51</th>\n",
       "      <td>2</td>\n",
       "      <td>5</td>\n",
       "      <td>3</td>\n",
       "      <td>65.62</td>\n",
       "      <td>18.75</td>\n",
       "    </tr>\n",
       "    <tr>\n",
       "      <th>52</th>\n",
       "      <td>2</td>\n",
       "      <td>6</td>\n",
       "      <td>3</td>\n",
       "      <td>65.62</td>\n",
       "      <td>18.75</td>\n",
       "    </tr>\n",
       "    <tr>\n",
       "      <th>53</th>\n",
       "      <td>2</td>\n",
       "      <td>7</td>\n",
       "      <td>3</td>\n",
       "      <td>65.62</td>\n",
       "      <td>18.75</td>\n",
       "    </tr>\n",
       "    <tr>\n",
       "      <th>55</th>\n",
       "      <td>2</td>\n",
       "      <td>9</td>\n",
       "      <td>3</td>\n",
       "      <td>65.62</td>\n",
       "      <td>18.75</td>\n",
       "    </tr>\n",
       "    <tr>\n",
       "      <th>56</th>\n",
       "      <td>2</td>\n",
       "      <td>10</td>\n",
       "      <td>3</td>\n",
       "      <td>65.62</td>\n",
       "      <td>18.75</td>\n",
       "    </tr>\n",
       "    <tr>\n",
       "      <th>54</th>\n",
       "      <td>2</td>\n",
       "      <td>8</td>\n",
       "      <td>3</td>\n",
       "      <td>65.62</td>\n",
       "      <td>18.75</td>\n",
       "    </tr>\n",
       "    <tr>\n",
       "      <th>7</th>\n",
       "      <td>1</td>\n",
       "      <td>9</td>\n",
       "      <td>3</td>\n",
       "      <td>65.62</td>\n",
       "      <td>18.75</td>\n",
       "    </tr>\n",
       "    <tr>\n",
       "      <th>6</th>\n",
       "      <td>1</td>\n",
       "      <td>8</td>\n",
       "      <td>3</td>\n",
       "      <td>65.62</td>\n",
       "      <td>18.75</td>\n",
       "    </tr>\n",
       "  </tbody>\n",
       "</table>\n",
       "</div>"
      ],
      "text/plain": [
       "   min_samples min_cluster_size num_clusters_including_unclustered  \\\n",
       "1            1                3                                  6   \n",
       "49           2                3                                  6   \n",
       "51           2                5                                  3   \n",
       "52           2                6                                  3   \n",
       "53           2                7                                  3   \n",
       "55           2                9                                  3   \n",
       "56           2               10                                  3   \n",
       "54           2                8                                  3   \n",
       "7            1                9                                  3   \n",
       "6            1                8                                  3   \n",
       "\n",
       "   percent_of_unclustered_geos percent_of_maxclass  \n",
       "1                        57.81               18.75  \n",
       "49                       57.81               18.75  \n",
       "51                       65.62               18.75  \n",
       "52                       65.62               18.75  \n",
       "53                       65.62               18.75  \n",
       "55                       65.62               18.75  \n",
       "56                       65.62               18.75  \n",
       "54                       65.62               18.75  \n",
       "7                        65.62               18.75  \n",
       "6                        65.62               18.75  "
      ]
     },
     "execution_count": 34,
     "metadata": {},
     "output_type": "execute_result"
    }
   ],
   "source": [
    "tmp = tmp[tmp['num_clusters_including_unclustered'] <10]\n",
    "tmp.sort_values('percent_of_unclustered_geos', ascending=True).head(10)"
   ]
  },
  {
   "cell_type": "markdown",
   "metadata": {},
   "source": [
    "## Evaluate clustering method: HDBSCAN - eom - 2011"
   ]
  },
  {
   "cell_type": "code",
   "execution_count": 35,
   "metadata": {},
   "outputs": [],
   "source": [
    "tmp, out = evaluate_hdbscan(input_df=s_data2011[antenatal_coverage_vars_union], \n",
    "                       min_samples=Config.tune_min_sample, \n",
    "                       min_cluster_size=Config.tune_min_cluster,\n",
    "                       output=OUT, cluster_selection_method ='eom',\n",
    "                       fmin_samples=3, fmin_cluster_size=12,\n",
    "                       prune=True, plot=False)"
   ]
  },
  {
   "cell_type": "code",
   "execution_count": 36,
   "metadata": {},
   "outputs": [
    {
     "data": {
      "text/html": [
       "<div>\n",
       "<style scoped>\n",
       "    .dataframe tbody tr th:only-of-type {\n",
       "        vertical-align: middle;\n",
       "    }\n",
       "\n",
       "    .dataframe tbody tr th {\n",
       "        vertical-align: top;\n",
       "    }\n",
       "\n",
       "    .dataframe thead th {\n",
       "        text-align: right;\n",
       "    }\n",
       "</style>\n",
       "<table border=\"1\" class=\"dataframe\">\n",
       "  <thead>\n",
       "    <tr style=\"text-align: right;\">\n",
       "      <th></th>\n",
       "      <th>min_samples</th>\n",
       "      <th>min_cluster_size</th>\n",
       "      <th>num_clusters_including_unclustered</th>\n",
       "      <th>percent_of_unclustered_geos</th>\n",
       "      <th>percent_of_maxclass</th>\n",
       "    </tr>\n",
       "  </thead>\n",
       "  <tbody>\n",
       "    <tr>\n",
       "      <th>0</th>\n",
       "      <td>1</td>\n",
       "      <td>2</td>\n",
       "      <td>5</td>\n",
       "      <td>20.31</td>\n",
       "      <td>68.75</td>\n",
       "    </tr>\n",
       "    <tr>\n",
       "      <th>48</th>\n",
       "      <td>2</td>\n",
       "      <td>2</td>\n",
       "      <td>5</td>\n",
       "      <td>20.31</td>\n",
       "      <td>68.75</td>\n",
       "    </tr>\n",
       "    <tr>\n",
       "      <th>1</th>\n",
       "      <td>1</td>\n",
       "      <td>3</td>\n",
       "      <td>3</td>\n",
       "      <td>23.44</td>\n",
       "      <td>71.88</td>\n",
       "    </tr>\n",
       "    <tr>\n",
       "      <th>49</th>\n",
       "      <td>2</td>\n",
       "      <td>3</td>\n",
       "      <td>3</td>\n",
       "      <td>23.44</td>\n",
       "      <td>71.88</td>\n",
       "    </tr>\n",
       "    <tr>\n",
       "      <th>50</th>\n",
       "      <td>2</td>\n",
       "      <td>4</td>\n",
       "      <td>3</td>\n",
       "      <td>65.62</td>\n",
       "      <td>18.75</td>\n",
       "    </tr>\n",
       "    <tr>\n",
       "      <th>51</th>\n",
       "      <td>2</td>\n",
       "      <td>5</td>\n",
       "      <td>3</td>\n",
       "      <td>65.62</td>\n",
       "      <td>18.75</td>\n",
       "    </tr>\n",
       "    <tr>\n",
       "      <th>52</th>\n",
       "      <td>2</td>\n",
       "      <td>6</td>\n",
       "      <td>3</td>\n",
       "      <td>65.62</td>\n",
       "      <td>18.75</td>\n",
       "    </tr>\n",
       "    <tr>\n",
       "      <th>53</th>\n",
       "      <td>2</td>\n",
       "      <td>7</td>\n",
       "      <td>3</td>\n",
       "      <td>65.62</td>\n",
       "      <td>18.75</td>\n",
       "    </tr>\n",
       "    <tr>\n",
       "      <th>55</th>\n",
       "      <td>2</td>\n",
       "      <td>9</td>\n",
       "      <td>3</td>\n",
       "      <td>65.62</td>\n",
       "      <td>18.75</td>\n",
       "    </tr>\n",
       "    <tr>\n",
       "      <th>54</th>\n",
       "      <td>2</td>\n",
       "      <td>8</td>\n",
       "      <td>3</td>\n",
       "      <td>65.62</td>\n",
       "      <td>18.75</td>\n",
       "    </tr>\n",
       "  </tbody>\n",
       "</table>\n",
       "</div>"
      ],
      "text/plain": [
       "   min_samples min_cluster_size num_clusters_including_unclustered  \\\n",
       "0            1                2                                  5   \n",
       "48           2                2                                  5   \n",
       "1            1                3                                  3   \n",
       "49           2                3                                  3   \n",
       "50           2                4                                  3   \n",
       "51           2                5                                  3   \n",
       "52           2                6                                  3   \n",
       "53           2                7                                  3   \n",
       "55           2                9                                  3   \n",
       "54           2                8                                  3   \n",
       "\n",
       "   percent_of_unclustered_geos percent_of_maxclass  \n",
       "0                        20.31               68.75  \n",
       "48                       20.31               68.75  \n",
       "1                        23.44               71.88  \n",
       "49                       23.44               71.88  \n",
       "50                       65.62               18.75  \n",
       "51                       65.62               18.75  \n",
       "52                       65.62               18.75  \n",
       "53                       65.62               18.75  \n",
       "55                       65.62               18.75  \n",
       "54                       65.62               18.75  "
      ]
     },
     "execution_count": 36,
     "metadata": {},
     "output_type": "execute_result"
    }
   ],
   "source": [
    "tmp = tmp[tmp['num_clusters_including_unclustered'] <10]\n",
    "tmp.sort_values('percent_of_unclustered_geos', ascending=True).head(10)"
   ]
  },
  {
   "cell_type": "markdown",
   "metadata": {},
   "source": [
    "## Evaluate clustering method: HDBSCAN - leaf - 2016"
   ]
  },
  {
   "cell_type": "code",
   "execution_count": 37,
   "metadata": {},
   "outputs": [],
   "source": [
    "tmp, out = evaluate_hdbscan(input_df=s_data2016[antenatal_coverage_vars_inter], \n",
    "                       min_samples=Config.tune_min_sample, \n",
    "                       min_cluster_size=Config.tune_min_cluster,\n",
    "                       output=OUT, cluster_selection_method ='leaf',\n",
    "                       fmin_samples=3, fmin_cluster_size=12,\n",
    "                       prune=True, plot=False)"
   ]
  },
  {
   "cell_type": "code",
   "execution_count": 38,
   "metadata": {},
   "outputs": [
    {
     "data": {
      "text/html": [
       "<div>\n",
       "<style scoped>\n",
       "    .dataframe tbody tr th:only-of-type {\n",
       "        vertical-align: middle;\n",
       "    }\n",
       "\n",
       "    .dataframe tbody tr th {\n",
       "        vertical-align: top;\n",
       "    }\n",
       "\n",
       "    .dataframe thead th {\n",
       "        text-align: right;\n",
       "    }\n",
       "</style>\n",
       "<table border=\"1\" class=\"dataframe\">\n",
       "  <thead>\n",
       "    <tr style=\"text-align: right;\">\n",
       "      <th></th>\n",
       "      <th>min_samples</th>\n",
       "      <th>min_cluster_size</th>\n",
       "      <th>num_clusters_including_unclustered</th>\n",
       "      <th>percent_of_unclustered_geos</th>\n",
       "      <th>percent_of_maxclass</th>\n",
       "    </tr>\n",
       "  </thead>\n",
       "  <tbody>\n",
       "    <tr>\n",
       "      <th>1</th>\n",
       "      <td>1</td>\n",
       "      <td>3</td>\n",
       "      <td>4</td>\n",
       "      <td>70.31</td>\n",
       "      <td>18.75</td>\n",
       "    </tr>\n",
       "    <tr>\n",
       "      <th>2</th>\n",
       "      <td>1</td>\n",
       "      <td>4</td>\n",
       "      <td>3</td>\n",
       "      <td>75</td>\n",
       "      <td>18.75</td>\n",
       "    </tr>\n",
       "    <tr>\n",
       "      <th>48</th>\n",
       "      <td>2</td>\n",
       "      <td>2</td>\n",
       "      <td>5</td>\n",
       "      <td>85.94</td>\n",
       "      <td>4.69</td>\n",
       "    </tr>\n",
       "    <tr>\n",
       "      <th>96</th>\n",
       "      <td>3</td>\n",
       "      <td>2</td>\n",
       "      <td>3</td>\n",
       "      <td>85.94</td>\n",
       "      <td>10.94</td>\n",
       "    </tr>\n",
       "    <tr>\n",
       "      <th>276</th>\n",
       "      <td>6</td>\n",
       "      <td>38</td>\n",
       "      <td>1</td>\n",
       "      <td>100</td>\n",
       "      <td>100</td>\n",
       "    </tr>\n",
       "    <tr>\n",
       "      <th>295</th>\n",
       "      <td>7</td>\n",
       "      <td>9</td>\n",
       "      <td>1</td>\n",
       "      <td>100</td>\n",
       "      <td>100</td>\n",
       "    </tr>\n",
       "    <tr>\n",
       "      <th>294</th>\n",
       "      <td>7</td>\n",
       "      <td>8</td>\n",
       "      <td>1</td>\n",
       "      <td>100</td>\n",
       "      <td>100</td>\n",
       "    </tr>\n",
       "    <tr>\n",
       "      <th>293</th>\n",
       "      <td>7</td>\n",
       "      <td>7</td>\n",
       "      <td>1</td>\n",
       "      <td>100</td>\n",
       "      <td>100</td>\n",
       "    </tr>\n",
       "    <tr>\n",
       "      <th>292</th>\n",
       "      <td>7</td>\n",
       "      <td>6</td>\n",
       "      <td>1</td>\n",
       "      <td>100</td>\n",
       "      <td>100</td>\n",
       "    </tr>\n",
       "    <tr>\n",
       "      <th>291</th>\n",
       "      <td>7</td>\n",
       "      <td>5</td>\n",
       "      <td>1</td>\n",
       "      <td>100</td>\n",
       "      <td>100</td>\n",
       "    </tr>\n",
       "  </tbody>\n",
       "</table>\n",
       "</div>"
      ],
      "text/plain": [
       "    min_samples min_cluster_size num_clusters_including_unclustered  \\\n",
       "1             1                3                                  4   \n",
       "2             1                4                                  3   \n",
       "48            2                2                                  5   \n",
       "96            3                2                                  3   \n",
       "276           6               38                                  1   \n",
       "295           7                9                                  1   \n",
       "294           7                8                                  1   \n",
       "293           7                7                                  1   \n",
       "292           7                6                                  1   \n",
       "291           7                5                                  1   \n",
       "\n",
       "    percent_of_unclustered_geos percent_of_maxclass  \n",
       "1                         70.31               18.75  \n",
       "2                            75               18.75  \n",
       "48                        85.94                4.69  \n",
       "96                        85.94               10.94  \n",
       "276                         100                 100  \n",
       "295                         100                 100  \n",
       "294                         100                 100  \n",
       "293                         100                 100  \n",
       "292                         100                 100  \n",
       "291                         100                 100  "
      ]
     },
     "execution_count": 38,
     "metadata": {},
     "output_type": "execute_result"
    }
   ],
   "source": [
    "tmp = tmp[tmp['num_clusters_including_unclustered'] <10]\n",
    "tmp.sort_values('percent_of_unclustered_geos', ascending=True).head(10)"
   ]
  },
  {
   "cell_type": "markdown",
   "metadata": {},
   "source": [
    "## Evaluate clustering method: HDBSCAN - eom - 2016"
   ]
  },
  {
   "cell_type": "code",
   "execution_count": 39,
   "metadata": {},
   "outputs": [],
   "source": [
    "tmp, out = evaluate_hdbscan(input_df=s_data2016[antenatal_coverage_vars_inter], \n",
    "                       min_samples=Config.tune_min_sample, \n",
    "                       min_cluster_size=Config.tune_min_cluster,\n",
    "                       output=OUT, cluster_selection_method ='eom',\n",
    "                       fmin_samples=3, fmin_cluster_size=12,\n",
    "                       prune=True, plot=False)"
   ]
  },
  {
   "cell_type": "code",
   "execution_count": 40,
   "metadata": {},
   "outputs": [
    {
     "data": {
      "text/html": [
       "<div>\n",
       "<style scoped>\n",
       "    .dataframe tbody tr th:only-of-type {\n",
       "        vertical-align: middle;\n",
       "    }\n",
       "\n",
       "    .dataframe tbody tr th {\n",
       "        vertical-align: top;\n",
       "    }\n",
       "\n",
       "    .dataframe thead th {\n",
       "        text-align: right;\n",
       "    }\n",
       "</style>\n",
       "<table border=\"1\" class=\"dataframe\">\n",
       "  <thead>\n",
       "    <tr style=\"text-align: right;\">\n",
       "      <th></th>\n",
       "      <th>min_samples</th>\n",
       "      <th>min_cluster_size</th>\n",
       "      <th>num_clusters_including_unclustered</th>\n",
       "      <th>percent_of_unclustered_geos</th>\n",
       "      <th>percent_of_maxclass</th>\n",
       "    </tr>\n",
       "  </thead>\n",
       "  <tbody>\n",
       "    <tr>\n",
       "      <th>1</th>\n",
       "      <td>1</td>\n",
       "      <td>3</td>\n",
       "      <td>4</td>\n",
       "      <td>70.31</td>\n",
       "      <td>18.75</td>\n",
       "    </tr>\n",
       "    <tr>\n",
       "      <th>2</th>\n",
       "      <td>1</td>\n",
       "      <td>4</td>\n",
       "      <td>3</td>\n",
       "      <td>75</td>\n",
       "      <td>18.75</td>\n",
       "    </tr>\n",
       "    <tr>\n",
       "      <th>48</th>\n",
       "      <td>2</td>\n",
       "      <td>2</td>\n",
       "      <td>4</td>\n",
       "      <td>79.69</td>\n",
       "      <td>14.06</td>\n",
       "    </tr>\n",
       "    <tr>\n",
       "      <th>96</th>\n",
       "      <td>3</td>\n",
       "      <td>2</td>\n",
       "      <td>3</td>\n",
       "      <td>85.94</td>\n",
       "      <td>10.94</td>\n",
       "    </tr>\n",
       "    <tr>\n",
       "      <th>276</th>\n",
       "      <td>6</td>\n",
       "      <td>38</td>\n",
       "      <td>1</td>\n",
       "      <td>100</td>\n",
       "      <td>100</td>\n",
       "    </tr>\n",
       "    <tr>\n",
       "      <th>295</th>\n",
       "      <td>7</td>\n",
       "      <td>9</td>\n",
       "      <td>1</td>\n",
       "      <td>100</td>\n",
       "      <td>100</td>\n",
       "    </tr>\n",
       "    <tr>\n",
       "      <th>294</th>\n",
       "      <td>7</td>\n",
       "      <td>8</td>\n",
       "      <td>1</td>\n",
       "      <td>100</td>\n",
       "      <td>100</td>\n",
       "    </tr>\n",
       "    <tr>\n",
       "      <th>293</th>\n",
       "      <td>7</td>\n",
       "      <td>7</td>\n",
       "      <td>1</td>\n",
       "      <td>100</td>\n",
       "      <td>100</td>\n",
       "    </tr>\n",
       "    <tr>\n",
       "      <th>292</th>\n",
       "      <td>7</td>\n",
       "      <td>6</td>\n",
       "      <td>1</td>\n",
       "      <td>100</td>\n",
       "      <td>100</td>\n",
       "    </tr>\n",
       "    <tr>\n",
       "      <th>291</th>\n",
       "      <td>7</td>\n",
       "      <td>5</td>\n",
       "      <td>1</td>\n",
       "      <td>100</td>\n",
       "      <td>100</td>\n",
       "    </tr>\n",
       "  </tbody>\n",
       "</table>\n",
       "</div>"
      ],
      "text/plain": [
       "    min_samples min_cluster_size num_clusters_including_unclustered  \\\n",
       "1             1                3                                  4   \n",
       "2             1                4                                  3   \n",
       "48            2                2                                  4   \n",
       "96            3                2                                  3   \n",
       "276           6               38                                  1   \n",
       "295           7                9                                  1   \n",
       "294           7                8                                  1   \n",
       "293           7                7                                  1   \n",
       "292           7                6                                  1   \n",
       "291           7                5                                  1   \n",
       "\n",
       "    percent_of_unclustered_geos percent_of_maxclass  \n",
       "1                         70.31               18.75  \n",
       "2                            75               18.75  \n",
       "48                        79.69               14.06  \n",
       "96                        85.94               10.94  \n",
       "276                         100                 100  \n",
       "295                         100                 100  \n",
       "294                         100                 100  \n",
       "293                         100                 100  \n",
       "292                         100                 100  \n",
       "291                         100                 100  "
      ]
     },
     "execution_count": 40,
     "metadata": {},
     "output_type": "execute_result"
    }
   ],
   "source": [
    "tmp = tmp[tmp['num_clusters_including_unclustered'] <10]\n",
    "tmp.sort_values('percent_of_unclustered_geos', ascending=True).head(10)"
   ]
  },
  {
   "cell_type": "markdown",
   "metadata": {},
   "source": [
    "# Clustering with K-means"
   ]
  },
  {
   "cell_type": "markdown",
   "metadata": {},
   "source": [
    "### Clustering Union List"
   ]
  },
  {
   "cell_type": "code",
   "execution_count": 41,
   "metadata": {},
   "outputs": [],
   "source": [
    "kmeans_model = KMeans(n_clusters=4, random_state=0).fit(s_data2011[antenatal_coverage_vars_union])\n",
    "predicted2016 = kmeans_model.predict(s_data2016[antenatal_coverage_vars_union])\n",
    "d2011['cluster'] = kmeans_model.labels_\n",
    "d2016['cluster'] = predicted2016"
   ]
  },
  {
   "cell_type": "code",
   "execution_count": 42,
   "metadata": {},
   "outputs": [
    {
     "name": "stdout",
     "output_type": "stream",
     "text": [
      "(64, 87)\n",
      "(64, 87)\n"
     ]
    }
   ],
   "source": [
    "antenatal_coverage_vars_union.append('cluster')\n",
    "d2011[antenatal_coverage_vars_union].to_csv(OUT+'/clusters_antenatal_coverage_union_2011.csv')\n",
    "d2016[antenatal_coverage_vars_union].to_csv(OUT+'/clusters_antenatal_coverage_union_2016.csv')\n",
    "print(d2011[antenatal_coverage_vars_union].shape)\n",
    "print(d2016[antenatal_coverage_vars_union].shape)"
   ]
  },
  {
   "cell_type": "code",
   "execution_count": 43,
   "metadata": {},
   "outputs": [
    {
     "name": "stdout",
     "output_type": "stream",
     "text": [
      "Counter({3: 24, 1: 20, 0: 17, 2: 3})\n"
     ]
    }
   ],
   "source": [
    "print(Counter(d2011['cluster']))"
   ]
  },
  {
   "cell_type": "code",
   "execution_count": 44,
   "metadata": {},
   "outputs": [
    {
     "name": "stdout",
     "output_type": "stream",
     "text": [
      "Counter({3: 32, 1: 18, 0: 14})\n"
     ]
    }
   ],
   "source": [
    "print(Counter(d2016['cluster']))"
   ]
  },
  {
   "cell_type": "markdown",
   "metadata": {},
   "source": [
    "### Clustering Intersection List"
   ]
  },
  {
   "cell_type": "code",
   "execution_count": 45,
   "metadata": {},
   "outputs": [],
   "source": [
    "d2011 = d2011.drop('cluster', axis=1)\n",
    "d2016 = d2016.drop('cluster', axis=1)"
   ]
  },
  {
   "cell_type": "code",
   "execution_count": 46,
   "metadata": {},
   "outputs": [],
   "source": [
    "kmeans_model = KMeans(n_clusters=4, random_state=0).fit(s_data2011[antenatal_coverage_vars_inter])\n",
    "predicted2016 = kmeans_model.predict(s_data2016[antenatal_coverage_vars_inter])\n",
    "d2011['cluster'] = kmeans_model.labels_\n",
    "d2016['cluster'] = predicted2016"
   ]
  },
  {
   "cell_type": "code",
   "execution_count": 47,
   "metadata": {},
   "outputs": [
    {
     "name": "stdout",
     "output_type": "stream",
     "text": [
      "Counter({2: 20, 3: 19, 1: 18, 0: 7})\n"
     ]
    }
   ],
   "source": [
    "print(Counter(d2011['cluster']))"
   ]
  },
  {
   "cell_type": "code",
   "execution_count": 48,
   "metadata": {},
   "outputs": [
    {
     "name": "stdout",
     "output_type": "stream",
     "text": [
      "Counter({1: 22, 3: 18, 2: 17, 0: 7})\n"
     ]
    }
   ],
   "source": [
    "print(Counter(d2016['cluster']))"
   ]
  },
  {
   "cell_type": "code",
   "execution_count": 49,
   "metadata": {},
   "outputs": [
    {
     "name": "stdout",
     "output_type": "stream",
     "text": [
      "(64, 19)\n",
      "(64, 19)\n"
     ]
    }
   ],
   "source": [
    "antenatal_coverage_vars_inter.append('cluster')\n",
    "d2011[antenatal_coverage_vars_inter].to_csv(OUT+'/clusters_antenatal_coverage_intersect_2011.csv')\n",
    "d2016[antenatal_coverage_vars_inter].to_csv(OUT+'/clusters_antenatal_coverage_intersect_2016.csv')\n",
    "print(d2011[antenatal_coverage_vars_inter].shape)\n",
    "print(d2016[antenatal_coverage_vars_inter].shape)"
   ]
  },
  {
   "cell_type": "code",
   "execution_count": 50,
   "metadata": {},
   "outputs": [
    {
     "name": "stdout",
     "output_type": "stream",
     "text": [
      "(128, 21)\n"
     ]
    }
   ],
   "source": [
    "tmp1 = d2011[antenatal_coverage_vars_inter]\n",
    "tmp1 = tmp1.reset_index(col_level='DistricName')\n",
    "tmp1['year'] = 2011\n",
    "tmp2 = d2016[antenatal_coverage_vars_inter]\n",
    "tmp2 = tmp2.reset_index(col_level='DistricName')\n",
    "tmp2['year'] = 2016\n",
    "tmp = pd.concat([tmp1, tmp2], axis=0)\n",
    "print(tmp.shape)\n",
    "tmp.to_csv(OUT+'clusters_antenatal_coverage_intersect_all.csv', index=False)"
   ]
  },
  {
   "cell_type": "code",
   "execution_count": 51,
   "metadata": {},
   "outputs": [
    {
     "name": "stdout",
     "output_type": "stream",
     "text": [
      "(128, 89)\n"
     ]
    }
   ],
   "source": [
    "tmp1 = d2011[antenatal_coverage_vars_union]\n",
    "tmp1 = tmp1.reset_index(col_level='DistricName')\n",
    "tmp1['year'] = 2011\n",
    "tmp2 = d2016[antenatal_coverage_vars_union]\n",
    "tmp2 = tmp2.reset_index(col_level='DistricName')\n",
    "tmp2['year'] = 2016\n",
    "tmp = pd.concat([tmp1, tmp2], axis=0)\n",
    "print(tmp.shape)\n",
    "tmp.to_csv(OUT+'clusters_antenatal_coverage_union_all.csv', index=False)"
   ]
  }
 ],
 "metadata": {
  "kernelspec": {
   "display_name": "Python 3",
   "language": "python",
   "name": "python3"
  },
  "language_info": {
   "codemirror_mode": {
    "name": "ipython",
    "version": 3
   },
   "file_extension": ".py",
   "mimetype": "text/x-python",
   "name": "python",
   "nbconvert_exporter": "python",
   "pygments_lexer": "ipython3",
   "version": "3.7.2"
  }
 },
 "nbformat": 4,
 "nbformat_minor": 2
}
