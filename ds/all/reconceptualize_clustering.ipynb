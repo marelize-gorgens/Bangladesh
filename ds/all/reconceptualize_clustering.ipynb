{
 "cells": [
  {
   "cell_type": "markdown",
   "metadata": {},
   "source": [
    "# Explore clustering options"
   ]
  },
  {
   "cell_type": "code",
   "execution_count": 1,
   "metadata": {},
   "outputs": [],
   "source": [
    "d2011 = '/Users/edinhamzic/Symphony/wb_bangladesh/Bangladesh/output/all/all2011.csv'\n",
    "d2016 = '/Users/edinhamzic/Symphony/wb_bangladesh/Bangladesh/output/all/all2016.csv'"
   ]
  },
  {
   "cell_type": "code",
   "execution_count": 13,
   "metadata": {},
   "outputs": [],
   "source": [
    "import re\n",
    "import pandas as pd\n",
    "import matplotlib.pyplot as plt\n",
    "import seaborn as sns\n",
    "from sklearn.cluster import KMeans\n",
    "from sklearn.cluster import DBSCAN\n",
    "from collections import Counter\n",
    "from sklearn.preprocessing import StandardScaler"
   ]
  },
  {
   "cell_type": "code",
   "execution_count": 14,
   "metadata": {},
   "outputs": [],
   "source": [
    "data2011 = pd.read_csv(d2011)\n",
    "data2016 = pd.read_csv(d2016)"
   ]
  },
  {
   "cell_type": "code",
   "execution_count": 15,
   "metadata": {},
   "outputs": [
    {
     "name": "stdout",
     "output_type": "stream",
     "text": [
      "rate_infant_mortality\n",
      "rate_under5y_mortality\n",
      "rate_maternal_mortality\n"
     ]
    }
   ],
   "source": [
    "for var in data2011.columns:\n",
    "    if bool(re.search(r'mortality', var)):\n",
    "        print(var)"
   ]
  },
  {
   "cell_type": "code",
   "execution_count": 16,
   "metadata": {},
   "outputs": [],
   "source": [
    "districts2011 = data2011[['DistrictName', 'DistrictGeo']]\n",
    "districts2016 = data2016[['DistrictName', 'DistrictGeo']]\n",
    "variables = ['rate_maternal_mortality', 'rate_infant_mortality', \n",
    "             'rate_under5y_mortality']\n",
    "data2011 = data2011[variables]\n",
    "data2011.index = districts2011['DistrictName']\n",
    "data2016 = data2016[variables]\n",
    "data2016.index = districts2016['DistrictName']"
   ]
  },
  {
   "cell_type": "code",
   "execution_count": 17,
   "metadata": {},
   "outputs": [
    {
     "data": {
      "text/html": [
       "<div>\n",
       "<style scoped>\n",
       "    .dataframe tbody tr th:only-of-type {\n",
       "        vertical-align: middle;\n",
       "    }\n",
       "\n",
       "    .dataframe tbody tr th {\n",
       "        vertical-align: top;\n",
       "    }\n",
       "\n",
       "    .dataframe thead th {\n",
       "        text-align: right;\n",
       "    }\n",
       "</style>\n",
       "<table border=\"1\" class=\"dataframe\">\n",
       "  <thead>\n",
       "    <tr style=\"text-align: right;\">\n",
       "      <th></th>\n",
       "      <th>rate_maternal_mortality</th>\n",
       "      <th>rate_infant_mortality</th>\n",
       "      <th>rate_under5y_mortality</th>\n",
       "    </tr>\n",
       "    <tr>\n",
       "      <th>DistrictName</th>\n",
       "      <th></th>\n",
       "      <th></th>\n",
       "      <th></th>\n",
       "    </tr>\n",
       "  </thead>\n",
       "  <tbody>\n",
       "    <tr>\n",
       "      <th>Bagerhat</th>\n",
       "      <td>27.97</td>\n",
       "      <td>20.98</td>\n",
       "      <td>27.97</td>\n",
       "    </tr>\n",
       "    <tr>\n",
       "      <th>Bandarban</th>\n",
       "      <td>4.69</td>\n",
       "      <td>51.64</td>\n",
       "      <td>56.34</td>\n",
       "    </tr>\n",
       "    <tr>\n",
       "      <th>Barguna</th>\n",
       "      <td>3.53</td>\n",
       "      <td>21.20</td>\n",
       "      <td>38.87</td>\n",
       "    </tr>\n",
       "    <tr>\n",
       "      <th>Barisal</th>\n",
       "      <td>2.64</td>\n",
       "      <td>50.13</td>\n",
       "      <td>52.77</td>\n",
       "    </tr>\n",
       "    <tr>\n",
       "      <th>Bhola</th>\n",
       "      <td>9.93</td>\n",
       "      <td>59.60</td>\n",
       "      <td>66.23</td>\n",
       "    </tr>\n",
       "  </tbody>\n",
       "</table>\n",
       "</div>"
      ],
      "text/plain": [
       "              rate_maternal_mortality  rate_infant_mortality  \\\n",
       "DistrictName                                                   \n",
       "Bagerhat                        27.97                  20.98   \n",
       "Bandarban                        4.69                  51.64   \n",
       "Barguna                          3.53                  21.20   \n",
       "Barisal                          2.64                  50.13   \n",
       "Bhola                            9.93                  59.60   \n",
       "\n",
       "              rate_under5y_mortality  \n",
       "DistrictName                          \n",
       "Bagerhat                       27.97  \n",
       "Bandarban                      56.34  \n",
       "Barguna                        38.87  \n",
       "Barisal                        52.77  \n",
       "Bhola                          66.23  "
      ]
     },
     "execution_count": 17,
     "metadata": {},
     "output_type": "execute_result"
    }
   ],
   "source": [
    "data2011.head()"
   ]
  },
  {
   "cell_type": "code",
   "execution_count": 18,
   "metadata": {},
   "outputs": [
    {
     "name": "stderr",
     "output_type": "stream",
     "text": [
      "/anaconda3/lib/python3.7/site-packages/scipy/stats/stats.py:1713: FutureWarning: Using a non-tuple sequence for multidimensional indexing is deprecated; use `arr[tuple(seq)]` instead of `arr[seq]`. In the future this will be interpreted as an array index, `arr[np.array(seq)]`, which will result either in an error or a different result.\n",
      "  return np.add.reduce(sorted[indexer] * weights, axis=axis) / sumval\n"
     ]
    },
    {
     "name": "stdout",
     "output_type": "stream",
     "text": [
      "2011: count    64.000000\n",
      "mean      3.729687\n",
      "std       4.172789\n",
      "min       0.000000\n",
      "25%       0.000000\n",
      "50%       3.220000\n",
      "75%       5.040000\n",
      "max      27.970000\n",
      "Name: rate_maternal_mortality, dtype: float64\n",
      "2016: count    64.000000\n",
      "mean      2.650781\n",
      "std       4.957185\n",
      "min       0.000000\n",
      "25%       0.000000\n",
      "50%       0.000000\n",
      "75%       3.507500\n",
      "max      24.390000\n",
      "Name: rate_maternal_mortality, dtype: float64\n"
     ]
    },
    {
     "data": {
      "image/png": "[encoded data removed]",
      "text/plain": [
       "<Figure size 432x288 with 1 Axes>"
      ]
     },
     "metadata": {
      "needs_background": "light"
     },
     "output_type": "display_data"
    }
   ],
   "source": [
    "sns.distplot(data2011['rate_maternal_mortality'], hist_kws = dict(alpha=0.2), bins=20)\n",
    "print(f\"2011: {data2011['rate_maternal_mortality'].describe()}\")\n",
    "sns.distplot(data2016['rate_maternal_mortality'], hist_kws = dict(alpha=0.2), bins=20)\n",
    "print(f\"2016: {data2016['rate_maternal_mortality'].describe()}\")"
   ]
  },
  {
   "cell_type": "code",
   "execution_count": 19,
   "metadata": {},
   "outputs": [
    {
     "name": "stdout",
     "output_type": "stream",
     "text": [
      "2011: count    64.000000\n",
      "mean     33.928594\n",
      "std      10.664358\n",
      "min      15.810000\n",
      "25%      27.135000\n",
      "50%      32.390000\n",
      "75%      39.935000\n",
      "max      66.670000\n",
      "Name: rate_infant_mortality, dtype: float64\n",
      "2016: count     64.000000\n",
      "mean      31.654219\n",
      "std       17.171168\n",
      "min        3.920000\n",
      "25%       20.475000\n",
      "50%       28.435000\n",
      "75%       38.650000\n",
      "max      103.450000\n",
      "Name: rate_infant_mortality, dtype: float64\n"
     ]
    },
    {
     "data": {
      "image/png": "[encoded data removed]",
      "text/plain": [
       "<Figure size 432x288 with 1 Axes>"
      ]
     },
     "metadata": {
      "needs_background": "light"
     },
     "output_type": "display_data"
    }
   ],
   "source": [
    "sns.distplot(data2011['rate_infant_mortality'], hist_kws = dict(alpha=0.2), bins=20)\n",
    "print(f\"2011: {data2011['rate_infant_mortality'].describe()}\")\n",
    "sns.distplot(data2016['rate_infant_mortality'], hist_kws = dict(alpha=0.2), bins=20)\n",
    "print(f\"2016: {data2016['rate_infant_mortality'].describe()}\")"
   ]
  },
  {
   "cell_type": "code",
   "execution_count": 20,
   "metadata": {},
   "outputs": [
    {
     "name": "stdout",
     "output_type": "stream",
     "text": [
      "2011: count    64.000000\n",
      "mean     42.829375\n",
      "std      10.648461\n",
      "min      19.230000\n",
      "25%      36.085000\n",
      "50%      42.250000\n",
      "75%      49.390000\n",
      "max      70.370000\n",
      "Name: rate_under5y_mortality, dtype: float64\n",
      "2016: count     64.000000\n",
      "mean      39.446563\n",
      "std       19.795473\n",
      "min        7.870000\n",
      "25%       27.380000\n",
      "50%       35.295000\n",
      "75%       52.112500\n",
      "max      126.440000\n",
      "Name: rate_under5y_mortality, dtype: float64\n"
     ]
    },
    {
     "data": {
      "image/png": "[encoded data removed]",
      "text/plain": [
       "<Figure size 432x288 with 1 Axes>"
      ]
     },
     "metadata": {
      "needs_background": "light"
     },
     "output_type": "display_data"
    }
   ],
   "source": [
    "sns.distplot(data2011['rate_under5y_mortality'], hist_kws = dict(alpha=0.2), bins=20)\n",
    "print(f\"2011: {data2011['rate_under5y_mortality'].describe()}\")\n",
    "sns.distplot(data2016['rate_under5y_mortality'], hist_kws = dict(alpha=0.2), bins=20)\n",
    "print(f\"2016: {data2016['rate_under5y_mortality'].describe()}\")"
   ]
  },
  {
   "cell_type": "code",
   "execution_count": 21,
   "metadata": {},
   "outputs": [],
   "source": [
    "from sklearn.preprocessing import StandardScaler"
   ]
  },
  {
   "cell_type": "code",
   "execution_count": 22,
   "metadata": {},
   "outputs": [
    {
     "data": {
      "text/html": [
       "<div>\n",
       "<style scoped>\n",
       "    .dataframe tbody tr th:only-of-type {\n",
       "        vertical-align: middle;\n",
       "    }\n",
       "\n",
       "    .dataframe tbody tr th {\n",
       "        vertical-align: top;\n",
       "    }\n",
       "\n",
       "    .dataframe thead th {\n",
       "        text-align: right;\n",
       "    }\n",
       "</style>\n",
       "<table border=\"1\" class=\"dataframe\">\n",
       "  <thead>\n",
       "    <tr style=\"text-align: right;\">\n",
       "      <th></th>\n",
       "      <th>rate_maternal_mortality</th>\n",
       "      <th>rate_infant_mortality</th>\n",
       "      <th>rate_under5y_mortality</th>\n",
       "    </tr>\n",
       "  </thead>\n",
       "  <tbody>\n",
       "    <tr>\n",
       "      <th>0</th>\n",
       "      <td>5.855061</td>\n",
       "      <td>-1.223792</td>\n",
       "      <td>-1.406480</td>\n",
       "    </tr>\n",
       "    <tr>\n",
       "      <th>1</th>\n",
       "      <td>0.231956</td>\n",
       "      <td>1.673933</td>\n",
       "      <td>1.278817</td>\n",
       "    </tr>\n",
       "    <tr>\n",
       "      <th>2</th>\n",
       "      <td>-0.048233</td>\n",
       "      <td>-1.202999</td>\n",
       "      <td>-0.374765</td>\n",
       "    </tr>\n",
       "    <tr>\n",
       "      <th>3</th>\n",
       "      <td>-0.263206</td>\n",
       "      <td>1.531220</td>\n",
       "      <td>0.940907</td>\n",
       "    </tr>\n",
       "    <tr>\n",
       "      <th>4</th>\n",
       "      <td>1.497638</td>\n",
       "      <td>2.426245</td>\n",
       "      <td>2.214932</td>\n",
       "    </tr>\n",
       "  </tbody>\n",
       "</table>\n",
       "</div>"
      ],
      "text/plain": [
       "   rate_maternal_mortality  rate_infant_mortality  rate_under5y_mortality\n",
       "0                 5.855061              -1.223792               -1.406480\n",
       "1                 0.231956               1.673933                1.278817\n",
       "2                -0.048233              -1.202999               -0.374765\n",
       "3                -0.263206               1.531220                0.940907\n",
       "4                 1.497638               2.426245                2.214932"
      ]
     },
     "metadata": {},
     "output_type": "display_data"
    },
    {
     "data": {
      "text/html": [
       "<div>\n",
       "<style scoped>\n",
       "    .dataframe tbody tr th:only-of-type {\n",
       "        vertical-align: middle;\n",
       "    }\n",
       "\n",
       "    .dataframe tbody tr th {\n",
       "        vertical-align: top;\n",
       "    }\n",
       "\n",
       "    .dataframe thead th {\n",
       "        text-align: right;\n",
       "    }\n",
       "</style>\n",
       "<table border=\"1\" class=\"dataframe\">\n",
       "  <thead>\n",
       "    <tr style=\"text-align: right;\">\n",
       "      <th></th>\n",
       "      <th>rate_maternal_mortality</th>\n",
       "      <th>rate_infant_mortality</th>\n",
       "      <th>rate_under5y_mortality</th>\n",
       "    </tr>\n",
       "  </thead>\n",
       "  <tbody>\n",
       "    <tr>\n",
       "      <th>0</th>\n",
       "      <td>-0.900877</td>\n",
       "      <td>-1.529064</td>\n",
       "      <td>-2.373830</td>\n",
       "    </tr>\n",
       "    <tr>\n",
       "      <th>1</th>\n",
       "      <td>-0.900877</td>\n",
       "      <td>-0.506449</td>\n",
       "      <td>-1.349688</td>\n",
       "    </tr>\n",
       "    <tr>\n",
       "      <th>2</th>\n",
       "      <td>1.016969</td>\n",
       "      <td>-0.956324</td>\n",
       "      <td>-1.048692</td>\n",
       "    </tr>\n",
       "    <tr>\n",
       "      <th>3</th>\n",
       "      <td>-0.241467</td>\n",
       "      <td>-1.398638</td>\n",
       "      <td>-1.468004</td>\n",
       "    </tr>\n",
       "    <tr>\n",
       "      <th>4</th>\n",
       "      <td>-0.900877</td>\n",
       "      <td>-1.332480</td>\n",
       "      <td>-1.104538</td>\n",
       "    </tr>\n",
       "  </tbody>\n",
       "</table>\n",
       "</div>"
      ],
      "text/plain": [
       "   rate_maternal_mortality  rate_infant_mortality  rate_under5y_mortality\n",
       "0                -0.900877              -1.529064               -2.373830\n",
       "1                -0.900877              -0.506449               -1.349688\n",
       "2                 1.016969              -0.956324               -1.048692\n",
       "3                -0.241467              -1.398638               -1.468004\n",
       "4                -0.900877              -1.332480               -1.104538"
      ]
     },
     "metadata": {},
     "output_type": "display_data"
    }
   ],
   "source": [
    "scaler2011 = StandardScaler()\n",
    "scaler2011.fit(data2011)\n",
    "data2011t = pd.DataFrame(scaler2011.transform(data2011), columns=data2011.columns)\n",
    "display(data2011t.head())\n",
    "\n",
    "scaler2016 = StandardScaler()\n",
    "scaler2016.fit(data2016)\n",
    "data2016t = pd.DataFrame(scaler2011.transform(data2016), columns=data2016.columns)\n",
    "display(data2016t.head())\n"
   ]
  },
  {
   "cell_type": "markdown",
   "metadata": {},
   "source": [
    "# K-means cluster"
   ]
  },
  {
   "cell_type": "markdown",
   "metadata": {},
   "source": [
    "## Fine-tune parameters for K-means clustering"
   ]
  },
  {
   "cell_type": "code",
   "execution_count": 23,
   "metadata": {},
   "outputs": [],
   "source": [
    "def finetune_kmeans(data, max_num_cluster=10):\n",
    "    output = {'Number of clusters':[],\n",
    "                \"Inertia\":[]}\n",
    "    for i in range(2,max_num_cluster):\n",
    "        km = KMeans(n_clusters=i,random_state=84)\n",
    "        km.fit_predict(data)\n",
    "        output['Number of clusters'].append(i)\n",
    "        output['Inertia'].append(km.inertia_)\n",
    "    print(output['Inertia']/output['Inertia'][0])\n",
    "    sns.lineplot(x=output['Number of clusters'], y=output['Inertia'],color='red')\n",
    "    plt.show()\n",
    "    sns.barplot(x=output['Number of clusters'],y=output['Inertia']/output['Inertia'][0],color='blue')\n",
    "    plt.show()\n",
    "    return pd.DataFrame.from_dict(output)\n",
    "        \n",
    "        "
   ]
  },
  {
   "cell_type": "markdown",
   "metadata": {},
   "source": [
    "## Fine-tune 2011"
   ]
  },
  {
   "cell_type": "code",
   "execution_count": 24,
   "metadata": {},
   "outputs": [
    {
     "data": {
      "text/html": [
       "<div>\n",
       "<style scoped>\n",
       "    .dataframe tbody tr th:only-of-type {\n",
       "        vertical-align: middle;\n",
       "    }\n",
       "\n",
       "    .dataframe tbody tr th {\n",
       "        vertical-align: top;\n",
       "    }\n",
       "\n",
       "    .dataframe thead th {\n",
       "        text-align: right;\n",
       "    }\n",
       "</style>\n",
       "<table border=\"1\" class=\"dataframe\">\n",
       "  <thead>\n",
       "    <tr style=\"text-align: right;\">\n",
       "      <th></th>\n",
       "      <th>rate_maternal_mortality</th>\n",
       "      <th>rate_infant_mortality</th>\n",
       "      <th>rate_under5y_mortality</th>\n",
       "    </tr>\n",
       "  </thead>\n",
       "  <tbody>\n",
       "    <tr>\n",
       "      <th>0</th>\n",
       "      <td>5.855061</td>\n",
       "      <td>-1.223792</td>\n",
       "      <td>-1.406480</td>\n",
       "    </tr>\n",
       "    <tr>\n",
       "      <th>1</th>\n",
       "      <td>0.231956</td>\n",
       "      <td>1.673933</td>\n",
       "      <td>1.278817</td>\n",
       "    </tr>\n",
       "    <tr>\n",
       "      <th>2</th>\n",
       "      <td>-0.048233</td>\n",
       "      <td>-1.202999</td>\n",
       "      <td>-0.374765</td>\n",
       "    </tr>\n",
       "    <tr>\n",
       "      <th>3</th>\n",
       "      <td>-0.263206</td>\n",
       "      <td>1.531220</td>\n",
       "      <td>0.940907</td>\n",
       "    </tr>\n",
       "    <tr>\n",
       "      <th>4</th>\n",
       "      <td>1.497638</td>\n",
       "      <td>2.426245</td>\n",
       "      <td>2.214932</td>\n",
       "    </tr>\n",
       "  </tbody>\n",
       "</table>\n",
       "</div>"
      ],
      "text/plain": [
       "   rate_maternal_mortality  rate_infant_mortality  rate_under5y_mortality\n",
       "0                 5.855061              -1.223792               -1.406480\n",
       "1                 0.231956               1.673933                1.278817\n",
       "2                -0.048233              -1.202999               -0.374765\n",
       "3                -0.263206               1.531220                0.940907\n",
       "4                 1.497638               2.426245                2.214932"
      ]
     },
     "execution_count": 24,
     "metadata": {},
     "output_type": "execute_result"
    }
   ],
   "source": [
    "data2011t.head()"
   ]
  },
  {
   "cell_type": "code",
   "execution_count": 25,
   "metadata": {},
   "outputs": [
    {
     "name": "stdout",
     "output_type": "stream",
     "text": [
      "[1.         0.76816224 0.46944336 0.34583475 0.27835838 0.24732693\n",
      " 0.21762878 0.19606598 0.17216203 0.15848621 0.1400446  0.12641437\n",
      " 0.11897534]\n"
     ]
    },
    {
     "data": {
      "image/png": "[encoded data removed]",
      "text/plain": [
       "<Figure size 432x288 with 1 Axes>"
      ]
     },
     "metadata": {
      "needs_background": "light"
     },
     "output_type": "display_data"
    },
    {
     "data": {
      "image/png": "[encoded data removed]",
      "text/plain": [
       "<Figure size 432x288 with 1 Axes>"
      ]
     },
     "metadata": {
      "needs_background": "light"
     },
     "output_type": "display_data"
    },
    {
     "data": {
      "text/html": [
       "<div>\n",
       "<style scoped>\n",
       "    .dataframe tbody tr th:only-of-type {\n",
       "        vertical-align: middle;\n",
       "    }\n",
       "\n",
       "    .dataframe tbody tr th {\n",
       "        vertical-align: top;\n",
       "    }\n",
       "\n",
       "    .dataframe thead th {\n",
       "        text-align: right;\n",
       "    }\n",
       "</style>\n",
       "<table border=\"1\" class=\"dataframe\">\n",
       "  <thead>\n",
       "    <tr style=\"text-align: right;\">\n",
       "      <th></th>\n",
       "      <th>Number of clusters</th>\n",
       "      <th>Inertia</th>\n",
       "    </tr>\n",
       "  </thead>\n",
       "  <tbody>\n",
       "    <tr>\n",
       "      <th>0</th>\n",
       "      <td>2</td>\n",
       "      <td>121.163186</td>\n",
       "    </tr>\n",
       "    <tr>\n",
       "      <th>1</th>\n",
       "      <td>3</td>\n",
       "      <td>93.072984</td>\n",
       "    </tr>\n",
       "    <tr>\n",
       "      <th>2</th>\n",
       "      <td>4</td>\n",
       "      <td>56.879253</td>\n",
       "    </tr>\n",
       "    <tr>\n",
       "      <th>3</th>\n",
       "      <td>5</td>\n",
       "      <td>41.902440</td>\n",
       "    </tr>\n",
       "    <tr>\n",
       "      <th>4</th>\n",
       "      <td>6</td>\n",
       "      <td>33.726788</td>\n",
       "    </tr>\n",
       "    <tr>\n",
       "      <th>5</th>\n",
       "      <td>7</td>\n",
       "      <td>29.966919</td>\n",
       "    </tr>\n",
       "    <tr>\n",
       "      <th>6</th>\n",
       "      <td>8</td>\n",
       "      <td>26.368596</td>\n",
       "    </tr>\n",
       "    <tr>\n",
       "      <th>7</th>\n",
       "      <td>9</td>\n",
       "      <td>23.755979</td>\n",
       "    </tr>\n",
       "    <tr>\n",
       "      <th>8</th>\n",
       "      <td>10</td>\n",
       "      <td>20.859700</td>\n",
       "    </tr>\n",
       "    <tr>\n",
       "      <th>9</th>\n",
       "      <td>11</td>\n",
       "      <td>19.202694</td>\n",
       "    </tr>\n",
       "    <tr>\n",
       "      <th>10</th>\n",
       "      <td>12</td>\n",
       "      <td>16.968250</td>\n",
       "    </tr>\n",
       "    <tr>\n",
       "      <th>11</th>\n",
       "      <td>13</td>\n",
       "      <td>15.316767</td>\n",
       "    </tr>\n",
       "    <tr>\n",
       "      <th>12</th>\n",
       "      <td>14</td>\n",
       "      <td>14.415431</td>\n",
       "    </tr>\n",
       "  </tbody>\n",
       "</table>\n",
       "</div>"
      ],
      "text/plain": [
       "    Number of clusters     Inertia\n",
       "0                    2  121.163186\n",
       "1                    3   93.072984\n",
       "2                    4   56.879253\n",
       "3                    5   41.902440\n",
       "4                    6   33.726788\n",
       "5                    7   29.966919\n",
       "6                    8   26.368596\n",
       "7                    9   23.755979\n",
       "8                   10   20.859700\n",
       "9                   11   19.202694\n",
       "10                  12   16.968250\n",
       "11                  13   15.316767\n",
       "12                  14   14.415431"
      ]
     },
     "execution_count": 25,
     "metadata": {},
     "output_type": "execute_result"
    }
   ],
   "source": [
    "finetune_kmeans(data=data2011t, max_num_cluster=15)"
   ]
  },
  {
   "cell_type": "markdown",
   "metadata": {},
   "source": [
    "## Fine-tune 2016"
   ]
  },
  {
   "cell_type": "code",
   "execution_count": 26,
   "metadata": {},
   "outputs": [
    {
     "name": "stdout",
     "output_type": "stream",
     "text": [
      "[1.         0.70430018 0.48182361 0.35388405 0.26568541 0.22631112\n",
      " 0.18625274 0.15261442 0.13478359 0.11963243 0.09513546 0.08168101\n",
      " 0.07306106]\n"
     ]
    },
    {
     "data": {
      "image/png": "[encoded data removed]",
      "text/plain": [
       "<Figure size 432x288 with 1 Axes>"
      ]
     },
     "metadata": {
      "needs_background": "light"
     },
     "output_type": "display_data"
    },
    {
     "data": {
      "image/png": "[encoded data removed]",
      "text/plain": [
       "<Figure size 432x288 with 1 Axes>"
      ]
     },
     "metadata": {
      "needs_background": "light"
     },
     "output_type": "display_data"
    },
    {
     "data": {
      "text/html": [
       "<div>\n",
       "<style scoped>\n",
       "    .dataframe tbody tr th:only-of-type {\n",
       "        vertical-align: middle;\n",
       "    }\n",
       "\n",
       "    .dataframe tbody tr th {\n",
       "        vertical-align: top;\n",
       "    }\n",
       "\n",
       "    .dataframe thead th {\n",
       "        text-align: right;\n",
       "    }\n",
       "</style>\n",
       "<table border=\"1\" class=\"dataframe\">\n",
       "  <thead>\n",
       "    <tr style=\"text-align: right;\">\n",
       "      <th></th>\n",
       "      <th>Number of clusters</th>\n",
       "      <th>Inertia</th>\n",
       "    </tr>\n",
       "  </thead>\n",
       "  <tbody>\n",
       "    <tr>\n",
       "      <th>0</th>\n",
       "      <td>2</td>\n",
       "      <td>252.495160</td>\n",
       "    </tr>\n",
       "    <tr>\n",
       "      <th>1</th>\n",
       "      <td>3</td>\n",
       "      <td>177.832386</td>\n",
       "    </tr>\n",
       "    <tr>\n",
       "      <th>2</th>\n",
       "      <td>4</td>\n",
       "      <td>121.658129</td>\n",
       "    </tr>\n",
       "    <tr>\n",
       "      <th>3</th>\n",
       "      <td>5</td>\n",
       "      <td>89.354011</td>\n",
       "    </tr>\n",
       "    <tr>\n",
       "      <th>4</th>\n",
       "      <td>6</td>\n",
       "      <td>67.084280</td>\n",
       "    </tr>\n",
       "    <tr>\n",
       "      <th>5</th>\n",
       "      <td>7</td>\n",
       "      <td>57.142464</td>\n",
       "    </tr>\n",
       "    <tr>\n",
       "      <th>6</th>\n",
       "      <td>8</td>\n",
       "      <td>47.027916</td>\n",
       "    </tr>\n",
       "    <tr>\n",
       "      <th>7</th>\n",
       "      <td>9</td>\n",
       "      <td>38.534403</td>\n",
       "    </tr>\n",
       "    <tr>\n",
       "      <th>8</th>\n",
       "      <td>10</td>\n",
       "      <td>34.032205</td>\n",
       "    </tr>\n",
       "    <tr>\n",
       "      <th>9</th>\n",
       "      <td>11</td>\n",
       "      <td>30.206609</td>\n",
       "    </tr>\n",
       "    <tr>\n",
       "      <th>10</th>\n",
       "      <td>12</td>\n",
       "      <td>24.021244</td>\n",
       "    </tr>\n",
       "    <tr>\n",
       "      <th>11</th>\n",
       "      <td>13</td>\n",
       "      <td>20.624061</td>\n",
       "    </tr>\n",
       "    <tr>\n",
       "      <th>12</th>\n",
       "      <td>14</td>\n",
       "      <td>18.447564</td>\n",
       "    </tr>\n",
       "  </tbody>\n",
       "</table>\n",
       "</div>"
      ],
      "text/plain": [
       "    Number of clusters     Inertia\n",
       "0                    2  252.495160\n",
       "1                    3  177.832386\n",
       "2                    4  121.658129\n",
       "3                    5   89.354011\n",
       "4                    6   67.084280\n",
       "5                    7   57.142464\n",
       "6                    8   47.027916\n",
       "7                    9   38.534403\n",
       "8                   10   34.032205\n",
       "9                   11   30.206609\n",
       "10                  12   24.021244\n",
       "11                  13   20.624061\n",
       "12                  14   18.447564"
      ]
     },
     "execution_count": 26,
     "metadata": {},
     "output_type": "execute_result"
    }
   ],
   "source": [
    "finetune_kmeans(data=data2016t, max_num_cluster=15)"
   ]
  },
  {
   "cell_type": "markdown",
   "metadata": {},
   "source": [
    "## Fine-tune 2011 and 2019"
   ]
  },
  {
   "cell_type": "code",
   "execution_count": 27,
   "metadata": {},
   "outputs": [
    {
     "name": "stdout",
     "output_type": "stream",
     "text": [
      "[1.         0.73163979 0.53019024 0.40407531 0.33635239 0.26915776\n",
      " 0.24030904 0.21628423 0.19325425 0.17429533 0.15867683 0.14049597\n",
      " 0.12908201]\n"
     ]
    },
    {
     "data": {
      "image/png": "[encoded data removed]",
      "text/plain": [
       "<Figure size 432x288 with 1 Axes>"
      ]
     },
     "metadata": {
      "needs_background": "light"
     },
     "output_type": "display_data"
    },
    {
     "data": {
      "image/png": "[encoded data removed]",
      "text/plain": [
       "<Figure size 432x288 with 1 Axes>"
      ]
     },
     "metadata": {
      "needs_background": "light"
     },
     "output_type": "display_data"
    },
    {
     "data": {
      "text/html": [
       "<div>\n",
       "<style scoped>\n",
       "    .dataframe tbody tr th:only-of-type {\n",
       "        vertical-align: middle;\n",
       "    }\n",
       "\n",
       "    .dataframe tbody tr th {\n",
       "        vertical-align: top;\n",
       "    }\n",
       "\n",
       "    .dataframe thead th {\n",
       "        text-align: right;\n",
       "    }\n",
       "</style>\n",
       "<table border=\"1\" class=\"dataframe\">\n",
       "  <thead>\n",
       "    <tr style=\"text-align: right;\">\n",
       "      <th></th>\n",
       "      <th>Number of clusters</th>\n",
       "      <th>Inertia</th>\n",
       "    </tr>\n",
       "  </thead>\n",
       "  <tbody>\n",
       "    <tr>\n",
       "      <th>0</th>\n",
       "      <td>2</td>\n",
       "      <td>402.603497</td>\n",
       "    </tr>\n",
       "    <tr>\n",
       "      <th>1</th>\n",
       "      <td>3</td>\n",
       "      <td>294.560736</td>\n",
       "    </tr>\n",
       "    <tr>\n",
       "      <th>2</th>\n",
       "      <td>4</td>\n",
       "      <td>213.456443</td>\n",
       "    </tr>\n",
       "    <tr>\n",
       "      <th>3</th>\n",
       "      <td>5</td>\n",
       "      <td>162.682134</td>\n",
       "    </tr>\n",
       "    <tr>\n",
       "      <th>4</th>\n",
       "      <td>6</td>\n",
       "      <td>135.416647</td>\n",
       "    </tr>\n",
       "    <tr>\n",
       "      <th>5</th>\n",
       "      <td>7</td>\n",
       "      <td>108.363855</td>\n",
       "    </tr>\n",
       "    <tr>\n",
       "      <th>6</th>\n",
       "      <td>8</td>\n",
       "      <td>96.749258</td>\n",
       "    </tr>\n",
       "    <tr>\n",
       "      <th>7</th>\n",
       "      <td>9</td>\n",
       "      <td>87.076789</td>\n",
       "    </tr>\n",
       "    <tr>\n",
       "      <th>8</th>\n",
       "      <td>10</td>\n",
       "      <td>77.804837</td>\n",
       "    </tr>\n",
       "    <tr>\n",
       "      <th>9</th>\n",
       "      <td>11</td>\n",
       "      <td>70.171910</td>\n",
       "    </tr>\n",
       "    <tr>\n",
       "      <th>10</th>\n",
       "      <td>12</td>\n",
       "      <td>63.883846</td>\n",
       "    </tr>\n",
       "    <tr>\n",
       "      <th>11</th>\n",
       "      <td>13</td>\n",
       "      <td>56.564169</td>\n",
       "    </tr>\n",
       "    <tr>\n",
       "      <th>12</th>\n",
       "      <td>14</td>\n",
       "      <td>51.968870</td>\n",
       "    </tr>\n",
       "  </tbody>\n",
       "</table>\n",
       "</div>"
      ],
      "text/plain": [
       "    Number of clusters     Inertia\n",
       "0                    2  402.603497\n",
       "1                    3  294.560736\n",
       "2                    4  213.456443\n",
       "3                    5  162.682134\n",
       "4                    6  135.416647\n",
       "5                    7  108.363855\n",
       "6                    8   96.749258\n",
       "7                    9   87.076789\n",
       "8                   10   77.804837\n",
       "9                   11   70.171910\n",
       "10                  12   63.883846\n",
       "11                  13   56.564169\n",
       "12                  14   51.968870"
      ]
     },
     "execution_count": 27,
     "metadata": {},
     "output_type": "execute_result"
    }
   ],
   "source": [
    "finetune_kmeans(data=pd.concat([data2011t, data2016t], axis=0), max_num_cluster=15)"
   ]
  },
  {
   "cell_type": "markdown",
   "metadata": {},
   "source": [
    "### Let's say that optimal number of clusters: 6"
   ]
  },
  {
   "cell_type": "markdown",
   "metadata": {},
   "source": [
    "## Clustering on one-year and predicting on the next one"
   ]
  },
  {
   "cell_type": "code",
   "execution_count": 28,
   "metadata": {},
   "outputs": [
    {
     "name": "stdout",
     "output_type": "stream",
     "text": [
      "Counter({1: 18, 0: 14, 4: 13, 3: 12, 2: 6, 5: 1})\n",
      "Counter({0: 28, 1: 10, 2: 9, 3: 9, 4: 6, 5: 2})\n"
     ]
    }
   ],
   "source": [
    "kmeans2011 = KMeans(n_clusters=6)\n",
    "kmeans2011.fit(data2011t.values)\n",
    "data2011['clusters'] = kmeans2011.labels_\n",
    "data2016['clusters'] = kmeans2011.predict(data2016t.values)\n",
    "print(Counter(data2011['clusters']))\n",
    "print(Counter(data2016['clusters']))\n"
   ]
  },
  {
   "cell_type": "markdown",
   "metadata": {},
   "source": [
    "## Cluster independently on both datasets"
   ]
  },
  {
   "cell_type": "code",
   "execution_count": 221,
   "metadata": {},
   "outputs": [
    {
     "name": "stdout",
     "output_type": "stream",
     "text": [
      "Counter({1: 21, 0: 15, 5: 12, 4: 10, 2: 5, 3: 1})\n",
      "Counter({5: 23, 1: 16, 0: 14, 4: 7, 3: 2, 2: 2})\n"
     ]
    }
   ],
   "source": [
    "kmeans2011 = KMeans(n_clusters=6)\n",
    "kmeans2011.fit_predict(data2011t.values)\n",
    "data2011['clusters'] = kmeans2011.labels_\n",
    "kmeans2016 = KMeans(n_clusters=6)\n",
    "kmeans2016.fit_predict(data2016t.values)\n",
    "data2016['clusters'] = kmeans2016.labels_\n",
    "print(Counter(data2011['clusters']))\n",
    "print(Counter(data2016['clusters']))"
   ]
  },
  {
   "cell_type": "markdown",
   "metadata": {},
   "source": [
    "## Cluster on all data at once"
   ]
  },
  {
   "cell_type": "code",
   "execution_count": 222,
   "metadata": {},
   "outputs": [
    {
     "name": "stdout",
     "output_type": "stream",
     "text": [
      "[1.         0.69546998 0.50533774 0.40215726 0.32803356 0.28347288\n",
      " 0.2445824  0.21821446 0.19745162 0.17975929 0.17189469 0.15295069\n",
      " 0.14207503]\n"
     ]
    },
    {
     "data": {
      "image/png": "[encoded data removed]",
      "text/plain": [
       "<Figure size 432x288 with 1 Axes>"
      ]
     },
     "metadata": {
      "needs_background": "light"
     },
     "output_type": "display_data"
    },
    {
     "data": {
      "image/png": "[encoded data removed]",
      "text/plain": [
       "<Figure size 432x288 with 1 Axes>"
      ]
     },
     "metadata": {
      "needs_background": "light"
     },
     "output_type": "display_data"
    },
    {
     "data": {
      "text/html": [
       "<div>\n",
       "<style scoped>\n",
       "    .dataframe tbody tr th:only-of-type {\n",
       "        vertical-align: middle;\n",
       "    }\n",
       "\n",
       "    .dataframe tbody tr th {\n",
       "        vertical-align: top;\n",
       "    }\n",
       "\n",
       "    .dataframe thead th {\n",
       "        text-align: right;\n",
       "    }\n",
       "</style>\n",
       "<table border=\"1\" class=\"dataframe\">\n",
       "  <thead>\n",
       "    <tr style=\"text-align: right;\">\n",
       "      <th></th>\n",
       "      <th>Number of clusters</th>\n",
       "      <th>Inertia</th>\n",
       "    </tr>\n",
       "  </thead>\n",
       "  <tbody>\n",
       "    <tr>\n",
       "      <th>0</th>\n",
       "      <td>2</td>\n",
       "      <td>239.531063</td>\n",
       "    </tr>\n",
       "    <tr>\n",
       "      <th>1</th>\n",
       "      <td>3</td>\n",
       "      <td>166.586663</td>\n",
       "    </tr>\n",
       "    <tr>\n",
       "      <th>2</th>\n",
       "      <td>4</td>\n",
       "      <td>121.044086</td>\n",
       "    </tr>\n",
       "    <tr>\n",
       "      <th>3</th>\n",
       "      <td>5</td>\n",
       "      <td>96.329156</td>\n",
       "    </tr>\n",
       "    <tr>\n",
       "      <th>4</th>\n",
       "      <td>6</td>\n",
       "      <td>78.574227</td>\n",
       "    </tr>\n",
       "    <tr>\n",
       "      <th>5</th>\n",
       "      <td>7</td>\n",
       "      <td>67.900560</td>\n",
       "    </tr>\n",
       "    <tr>\n",
       "      <th>6</th>\n",
       "      <td>8</td>\n",
       "      <td>58.585082</td>\n",
       "    </tr>\n",
       "    <tr>\n",
       "      <th>7</th>\n",
       "      <td>9</td>\n",
       "      <td>52.269141</td>\n",
       "    </tr>\n",
       "    <tr>\n",
       "      <th>8</th>\n",
       "      <td>10</td>\n",
       "      <td>47.295795</td>\n",
       "    </tr>\n",
       "    <tr>\n",
       "      <th>9</th>\n",
       "      <td>11</td>\n",
       "      <td>43.057934</td>\n",
       "    </tr>\n",
       "    <tr>\n",
       "      <th>10</th>\n",
       "      <td>12</td>\n",
       "      <td>41.174118</td>\n",
       "    </tr>\n",
       "    <tr>\n",
       "      <th>11</th>\n",
       "      <td>13</td>\n",
       "      <td>36.636441</td>\n",
       "    </tr>\n",
       "    <tr>\n",
       "      <th>12</th>\n",
       "      <td>14</td>\n",
       "      <td>34.031382</td>\n",
       "    </tr>\n",
       "  </tbody>\n",
       "</table>\n",
       "</div>"
      ],
      "text/plain": [
       "    Number of clusters     Inertia\n",
       "0                    2  239.531063\n",
       "1                    3  166.586663\n",
       "2                    4  121.044086\n",
       "3                    5   96.329156\n",
       "4                    6   78.574227\n",
       "5                    7   67.900560\n",
       "6                    8   58.585082\n",
       "7                    9   52.269141\n",
       "8                   10   47.295795\n",
       "9                   11   43.057934\n",
       "10                  12   41.174118\n",
       "11                  13   36.636441\n",
       "12                  14   34.031382"
      ]
     },
     "execution_count": 222,
     "metadata": {},
     "output_type": "execute_result"
    }
   ],
   "source": [
    "finetune_kmeans(data=pd.concat([data2011t, data2016t], axis=0), max_num_cluster=15)"
   ]
  },
  {
   "cell_type": "code",
   "execution_count": 229,
   "metadata": {},
   "outputs": [
    {
     "name": "stdout",
     "output_type": "stream",
     "text": [
      "Counter({0: 32, 3: 30, 4: 30, 5: 26, 1: 7, 2: 3})\n"
     ]
    }
   ],
   "source": [
    "all_data = pd.concat([data2011t, data2016t], axis=0)\n",
    "data2011['year'] = 2011\n",
    "data2016['year'] = 2016\n",
    "all_data_r = pd.concat([data2011, data2016], axis=0)\n",
    "kmeans_all = KMeans(n_clusters=6)\n",
    "kmeans_all.fit_predict(all_data)\n",
    "all_data_r['clusters'] = kmeans_all.labels_\n",
    "print(Counter(all_data_r['clusters']))"
   ]
  },
  {
   "cell_type": "code",
   "execution_count": 230,
   "metadata": {},
   "outputs": [
    {
     "data": {
      "text/html": [
       "<div>\n",
       "<style scoped>\n",
       "    .dataframe tbody tr th:only-of-type {\n",
       "        vertical-align: middle;\n",
       "    }\n",
       "\n",
       "    .dataframe tbody tr th {\n",
       "        vertical-align: top;\n",
       "    }\n",
       "\n",
       "    .dataframe thead th {\n",
       "        text-align: right;\n",
       "    }\n",
       "</style>\n",
       "<table border=\"1\" class=\"dataframe\">\n",
       "  <thead>\n",
       "    <tr style=\"text-align: right;\">\n",
       "      <th></th>\n",
       "      <th>rate_maternal_mortality</th>\n",
       "      <th>rate_infant_mortality</th>\n",
       "      <th>rate_under5y_mortality</th>\n",
       "      <th>clusters</th>\n",
       "      <th>year</th>\n",
       "    </tr>\n",
       "    <tr>\n",
       "      <th>DistrictName</th>\n",
       "      <th></th>\n",
       "      <th></th>\n",
       "      <th></th>\n",
       "      <th></th>\n",
       "      <th></th>\n",
       "    </tr>\n",
       "  </thead>\n",
       "  <tbody>\n",
       "    <tr>\n",
       "      <th>Bagerhat</th>\n",
       "      <td>27.97</td>\n",
       "      <td>20.98</td>\n",
       "      <td>27.97</td>\n",
       "      <td>2</td>\n",
       "      <td>2011</td>\n",
       "    </tr>\n",
       "    <tr>\n",
       "      <th>Bandarban</th>\n",
       "      <td>4.69</td>\n",
       "      <td>51.64</td>\n",
       "      <td>56.34</td>\n",
       "      <td>5</td>\n",
       "      <td>2011</td>\n",
       "    </tr>\n",
       "    <tr>\n",
       "      <th>Barguna</th>\n",
       "      <td>3.53</td>\n",
       "      <td>21.20</td>\n",
       "      <td>38.87</td>\n",
       "      <td>3</td>\n",
       "      <td>2011</td>\n",
       "    </tr>\n",
       "    <tr>\n",
       "      <th>Barisal</th>\n",
       "      <td>2.64</td>\n",
       "      <td>50.13</td>\n",
       "      <td>52.77</td>\n",
       "      <td>5</td>\n",
       "      <td>2011</td>\n",
       "    </tr>\n",
       "    <tr>\n",
       "      <th>Bhola</th>\n",
       "      <td>9.93</td>\n",
       "      <td>59.60</td>\n",
       "      <td>66.23</td>\n",
       "      <td>1</td>\n",
       "      <td>2011</td>\n",
       "    </tr>\n",
       "  </tbody>\n",
       "</table>\n",
       "</div>"
      ],
      "text/plain": [
       "              rate_maternal_mortality  rate_infant_mortality  \\\n",
       "DistrictName                                                   \n",
       "Bagerhat                        27.97                  20.98   \n",
       "Bandarban                        4.69                  51.64   \n",
       "Barguna                          3.53                  21.20   \n",
       "Barisal                          2.64                  50.13   \n",
       "Bhola                            9.93                  59.60   \n",
       "\n",
       "              rate_under5y_mortality  clusters  year  \n",
       "DistrictName                                          \n",
       "Bagerhat                       27.97         2  2011  \n",
       "Bandarban                      56.34         5  2011  \n",
       "Barguna                        38.87         3  2011  \n",
       "Barisal                        52.77         5  2011  \n",
       "Bhola                          66.23         1  2011  "
      ]
     },
     "execution_count": 230,
     "metadata": {},
     "output_type": "execute_result"
    }
   ],
   "source": [
    "all_data_r.head()"
   ]
  },
  {
   "cell_type": "markdown",
   "metadata": {},
   "source": [
    "## Cluster on percent of change"
   ]
  },
  {
   "cell_type": "code",
   "execution_count": null,
   "metadata": {},
   "outputs": [],
   "source": []
  },
  {
   "cell_type": "code",
   "execution_count": null,
   "metadata": {},
   "outputs": [],
   "source": []
  },
  {
   "cell_type": "code",
   "execution_count": null,
   "metadata": {},
   "outputs": [],
   "source": []
  },
  {
   "cell_type": "code",
   "execution_count": null,
   "metadata": {},
   "outputs": [],
   "source": []
  },
  {
   "cell_type": "code",
   "execution_count": 106,
   "metadata": {},
   "outputs": [
    {
     "data": {
      "text/html": [
       "<div>\n",
       "<style scoped>\n",
       "    .dataframe tbody tr th:only-of-type {\n",
       "        vertical-align: middle;\n",
       "    }\n",
       "\n",
       "    .dataframe tbody tr th {\n",
       "        vertical-align: top;\n",
       "    }\n",
       "\n",
       "    .dataframe thead th {\n",
       "        text-align: right;\n",
       "    }\n",
       "</style>\n",
       "<table border=\"1\" class=\"dataframe\">\n",
       "  <thead>\n",
       "    <tr style=\"text-align: right;\">\n",
       "      <th></th>\n",
       "      <th>rate_maternal_mortality</th>\n",
       "      <th>rate_infant_mortality</th>\n",
       "      <th>rate_under5y_mortality</th>\n",
       "    </tr>\n",
       "    <tr>\n",
       "      <th>clusters</th>\n",
       "      <th></th>\n",
       "      <th></th>\n",
       "      <th></th>\n",
       "    </tr>\n",
       "  </thead>\n",
       "  <tbody>\n",
       "    <tr>\n",
       "      <th>0</th>\n",
       "      <td>3.094474</td>\n",
       "      <td>27.985263</td>\n",
       "      <td>36.598421</td>\n",
       "    </tr>\n",
       "    <tr>\n",
       "      <th>1</th>\n",
       "      <td>3.725600</td>\n",
       "      <td>43.480400</td>\n",
       "      <td>52.894800</td>\n",
       "    </tr>\n",
       "    <tr>\n",
       "      <th>2</th>\n",
       "      <td>27.970000</td>\n",
       "      <td>20.980000</td>\n",
       "      <td>27.970000</td>\n",
       "    </tr>\n",
       "  </tbody>\n",
       "</table>\n",
       "</div>"
      ],
      "text/plain": [
       "          rate_maternal_mortality  rate_infant_mortality  \\\n",
       "clusters                                                   \n",
       "0                        3.094474              27.985263   \n",
       "1                        3.725600              43.480400   \n",
       "2                       27.970000              20.980000   \n",
       "\n",
       "          rate_under5y_mortality  \n",
       "clusters                          \n",
       "0                      36.598421  \n",
       "1                      52.894800  \n",
       "2                      27.970000  "
      ]
     },
     "metadata": {},
     "output_type": "display_data"
    },
    {
     "data": {
      "text/html": [
       "<div>\n",
       "<style scoped>\n",
       "    .dataframe tbody tr th:only-of-type {\n",
       "        vertical-align: middle;\n",
       "    }\n",
       "\n",
       "    .dataframe tbody tr th {\n",
       "        vertical-align: top;\n",
       "    }\n",
       "\n",
       "    .dataframe thead th {\n",
       "        text-align: right;\n",
       "    }\n",
       "</style>\n",
       "<table border=\"1\" class=\"dataframe\">\n",
       "  <thead>\n",
       "    <tr style=\"text-align: right;\">\n",
       "      <th></th>\n",
       "      <th>rate_maternal_mortality</th>\n",
       "      <th>rate_infant_mortality</th>\n",
       "      <th>rate_under5y_mortality</th>\n",
       "    </tr>\n",
       "    <tr>\n",
       "      <th>clusters</th>\n",
       "      <th></th>\n",
       "      <th></th>\n",
       "      <th></th>\n",
       "    </tr>\n",
       "  </thead>\n",
       "  <tbody>\n",
       "    <tr>\n",
       "      <th>0</th>\n",
       "      <td>0.00</td>\n",
       "      <td>15.81</td>\n",
       "      <td>19.23</td>\n",
       "    </tr>\n",
       "    <tr>\n",
       "      <th>1</th>\n",
       "      <td>0.00</td>\n",
       "      <td>28.34</td>\n",
       "      <td>41.28</td>\n",
       "    </tr>\n",
       "    <tr>\n",
       "      <th>2</th>\n",
       "      <td>27.97</td>\n",
       "      <td>20.98</td>\n",
       "      <td>27.97</td>\n",
       "    </tr>\n",
       "  </tbody>\n",
       "</table>\n",
       "</div>"
      ],
      "text/plain": [
       "          rate_maternal_mortality  rate_infant_mortality  \\\n",
       "clusters                                                   \n",
       "0                            0.00                  15.81   \n",
       "1                            0.00                  28.34   \n",
       "2                           27.97                  20.98   \n",
       "\n",
       "          rate_under5y_mortality  \n",
       "clusters                          \n",
       "0                          19.23  \n",
       "1                          41.28  \n",
       "2                          27.97  "
      ]
     },
     "metadata": {},
     "output_type": "display_data"
    },
    {
     "data": {
      "text/html": [
       "<div>\n",
       "<style scoped>\n",
       "    .dataframe tbody tr th:only-of-type {\n",
       "        vertical-align: middle;\n",
       "    }\n",
       "\n",
       "    .dataframe tbody tr th {\n",
       "        vertical-align: top;\n",
       "    }\n",
       "\n",
       "    .dataframe thead th {\n",
       "        text-align: right;\n",
       "    }\n",
       "</style>\n",
       "<table border=\"1\" class=\"dataframe\">\n",
       "  <thead>\n",
       "    <tr style=\"text-align: right;\">\n",
       "      <th></th>\n",
       "      <th>rate_maternal_mortality</th>\n",
       "      <th>rate_infant_mortality</th>\n",
       "      <th>rate_under5y_mortality</th>\n",
       "    </tr>\n",
       "    <tr>\n",
       "      <th>clusters</th>\n",
       "      <th></th>\n",
       "      <th></th>\n",
       "      <th></th>\n",
       "    </tr>\n",
       "  </thead>\n",
       "  <tbody>\n",
       "    <tr>\n",
       "      <th>0</th>\n",
       "      <td>11.86</td>\n",
       "      <td>37.50</td>\n",
       "      <td>44.44</td>\n",
       "    </tr>\n",
       "    <tr>\n",
       "      <th>1</th>\n",
       "      <td>9.93</td>\n",
       "      <td>66.67</td>\n",
       "      <td>70.37</td>\n",
       "    </tr>\n",
       "    <tr>\n",
       "      <th>2</th>\n",
       "      <td>27.97</td>\n",
       "      <td>20.98</td>\n",
       "      <td>27.97</td>\n",
       "    </tr>\n",
       "  </tbody>\n",
       "</table>\n",
       "</div>"
      ],
      "text/plain": [
       "          rate_maternal_mortality  rate_infant_mortality  \\\n",
       "clusters                                                   \n",
       "0                           11.86                  37.50   \n",
       "1                            9.93                  66.67   \n",
       "2                           27.97                  20.98   \n",
       "\n",
       "          rate_under5y_mortality  \n",
       "clusters                          \n",
       "0                          44.44  \n",
       "1                          70.37  \n",
       "2                          27.97  "
      ]
     },
     "metadata": {},
     "output_type": "display_data"
    }
   ],
   "source": [
    "display(data2011[['rate_maternal_mortality','rate_infant_mortality','rate_under5y_mortality', 'clusters']].groupby('clusters').mean())\n",
    "display(data2011[['rate_maternal_mortality','rate_infant_mortality','rate_under5y_mortality', 'clusters']].groupby('clusters').min())\n",
    "display(data2011[['rate_maternal_mortality','rate_infant_mortality','rate_under5y_mortality', 'clusters']].groupby('clusters').max())\n",
    "\n",
    "data2016['clusters'] = kmeans2016\n",
    "display(data2016[['rate_maternal_mortality','rate_infant_mortality','rate_under5y_mortality', 'clusters']].groupby('clusters').mean())\n",
    "display(data2016[['rate_maternal_mortality','rate_infant_mortality','rate_under5y_mortality', 'clusters']].groupby('clusters').min())\n",
    "display(data2016[['rate_maternal_mortality','rate_infant_mortality','rate_under5y_mortality', 'clusters']].groupby('clusters').max())"
   ]
  },
  {
   "cell_type": "markdown",
   "metadata": {},
   "source": []
  }
 ],
 "metadata": {
  "kernelspec": {
   "display_name": "Python 3",
   "language": "python",
   "name": "python3"
  },
  "language_info": {
   "codemirror_mode": {
    "name": "ipython",
    "version": 3
   },
   "file_extension": ".py",
   "mimetype": "text/x-python",
   "name": "python",
   "nbconvert_exporter": "python",
   "pygments_lexer": "ipython3",
   "version": "3.7.2"
  }
 },
 "nbformat": 4,
 "nbformat_minor": 2
}
