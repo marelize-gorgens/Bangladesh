{
 "cells": [
  {
   "cell_type": "markdown",
   "metadata": {},
   "source": [
    "# Principal Component Analysis of All Data"
   ]
  },
  {
   "cell_type": "code",
   "execution_count": 1,
   "metadata": {},
   "outputs": [],
   "source": [
    "import re\n",
    "import collections\n",
    "import numpy as np\n",
    "import pandas as pd\n",
    "import seaborn as sns\n",
    "import matplotlib.pyplot as plt\n",
    "from sklearn.decomposition import PCA\n",
    "from sklearn.preprocessing import StandardScaler\n",
    "%matplotlib inline"
   ]
  },
  {
   "cell_type": "code",
   "execution_count": 2,
   "metadata": {},
   "outputs": [],
   "source": [
    "def remove_miss_vars(input_df):\n",
    "    df = input_df.copy(deep=True)\n",
    "    remove_list = []\n",
    "    for var in df.columns:\n",
    "        if any(df[var].isna()):\n",
    "            remove_list.append(var)\n",
    "    return df.drop(remove_list, axis=1)\n",
    "\n",
    "def impute_miss_vars(input_df):\n",
    "    df = input_df.copy(deep=True)\n",
    "    for var in df.columns:\n",
    "        if any(df[var].isna()):\n",
    "            df[var].fillna(df[var].mean, inplace=True)\n",
    "    return df\n",
    "\n",
    "def intersect_dfs(input_df1, input_df2):\n",
    "    df1 = input_df1.copy(deep=True)\n",
    "    df2 = input_df2.copy(deep=True)\n",
    "    subset_var = list(set(list(df1.columns)).intersection(set(list(df2.columns))))\n",
    "    return df1[subset_var], df2[subset_var]"
   ]
  },
  {
   "cell_type": "markdown",
   "metadata": {},
   "source": [
    "## STEP 1: Import data, remove absolute and remove missing values"
   ]
  },
  {
   "cell_type": "code",
   "execution_count": 3,
   "metadata": {},
   "outputs": [],
   "source": [
    "DATA2011 = '/Users/edinhamzic/Symphony/wb_bangladesh/Bangladesh/output/all/all2011.csv'\n",
    "DATA2016 = '/Users/edinhamzic/Symphony/wb_bangladesh/Bangladesh/output/all/all2016.csv'\n",
    "DHIS2_VARS = '/Users/edinhamzic/Symphony/wb_bangladesh/Bangladesh/output/all/DHIS_Rate_Absolute.csv'\n",
    "OUT = '/Users/edinhamzic/Symphony/wb_bangladesh/Bangladesh/output/all/'"
   ]
  },
  {
   "cell_type": "code",
   "execution_count": 4,
   "metadata": {},
   "outputs": [
    {
     "name": "stdout",
     "output_type": "stream",
     "text": [
      "(349, 4)\n",
      "(279, 4)\n"
     ]
    }
   ],
   "source": [
    "d2011 = pd.read_csv(DATA2011)\n",
    "d2016 = pd.read_csv(DATA2016)\n",
    "dhis2vars = pd.read_csv(DHIS2_VARS)\n",
    "print(dhis2vars.shape)\n",
    "tmp = dhis2vars[dhis2vars['Rate_Absolute'] == 'Absolute']\n",
    "print(tmp.shape)\n",
    "vars_remove = list(tmp['Full_name'])"
   ]
  },
  {
   "cell_type": "code",
   "execution_count": 5,
   "metadata": {},
   "outputs": [],
   "source": [
    "d2011 = d2011.drop(vars_remove, axis=1)\n",
    "d2016 = d2016.drop(vars_remove, axis=1)"
   ]
  },
  {
   "cell_type": "code",
   "execution_count": 6,
   "metadata": {},
   "outputs": [
    {
     "name": "stdout",
     "output_type": "stream",
     "text": [
      "2.65078125\n",
      "3.7296874999999994\n"
     ]
    }
   ],
   "source": [
    "print(d2016['rate_maternal_mortality'].mean())\n",
    "print(d2011['rate_maternal_mortality'].mean())"
   ]
  },
  {
   "cell_type": "code",
   "execution_count": 7,
   "metadata": {},
   "outputs": [
    {
     "data": {
      "text/html": [
       "<div>\n",
       "<style scoped>\n",
       "    .dataframe tbody tr th:only-of-type {\n",
       "        vertical-align: middle;\n",
       "    }\n",
       "\n",
       "    .dataframe tbody tr th {\n",
       "        vertical-align: top;\n",
       "    }\n",
       "\n",
       "    .dataframe thead th {\n",
       "        text-align: right;\n",
       "    }\n",
       "</style>\n",
       "<table border=\"1\" class=\"dataframe\">\n",
       "  <thead>\n",
       "    <tr style=\"text-align: right;\">\n",
       "      <th></th>\n",
       "      <th>vars</th>\n",
       "      <th>data source</th>\n",
       "    </tr>\n",
       "  </thead>\n",
       "  <tbody>\n",
       "    <tr>\n",
       "      <th>0</th>\n",
       "      <td>index</td>\n",
       "      <td>1</td>\n",
       "    </tr>\n",
       "    <tr>\n",
       "      <th>1</th>\n",
       "      <td>DistrictName</td>\n",
       "      <td>1</td>\n",
       "    </tr>\n",
       "    <tr>\n",
       "      <th>2</th>\n",
       "      <td>BCG_Children12M</td>\n",
       "      <td>1</td>\n",
       "    </tr>\n",
       "    <tr>\n",
       "      <th>3</th>\n",
       "      <td>TT4_Mother0-11MChildren</td>\n",
       "      <td>1</td>\n",
       "    </tr>\n",
       "    <tr>\n",
       "      <th>4</th>\n",
       "      <td>TT1_Mother0-11MChildren</td>\n",
       "      <td>1</td>\n",
       "    </tr>\n",
       "  </tbody>\n",
       "</table>\n",
       "</div>"
      ],
      "text/plain": [
       "                      vars  data source\n",
       "0                    index            1\n",
       "1             DistrictName            1\n",
       "2          BCG_Children12M            1\n",
       "3  TT4_Mother0-11MChildren            1\n",
       "4  TT1_Mother0-11MChildren            1"
      ]
     },
     "execution_count": 7,
     "metadata": {},
     "output_type": "execute_result"
    }
   ],
   "source": [
    "source_labels = []\n",
    "counter = 0\n",
    "for var in list(d2011.columns):\n",
    "    if bool(re.search(pattern=\"index\", string=var)):\n",
    "        counter += 1\n",
    "        source_labels.append(counter)\n",
    "    else:\n",
    "        source_labels.append(counter)\n",
    "        \n",
    "vars_labels2011 = pd.DataFrame({'vars':list(d2011.columns), 'data source': source_labels})\n",
    "vars_labels2011.head()"
   ]
  },
  {
   "cell_type": "code",
   "execution_count": 8,
   "metadata": {},
   "outputs": [
    {
     "data": {
      "text/html": [
       "<div>\n",
       "<style scoped>\n",
       "    .dataframe tbody tr th:only-of-type {\n",
       "        vertical-align: middle;\n",
       "    }\n",
       "\n",
       "    .dataframe tbody tr th {\n",
       "        vertical-align: top;\n",
       "    }\n",
       "\n",
       "    .dataframe thead th {\n",
       "        text-align: right;\n",
       "    }\n",
       "</style>\n",
       "<table border=\"1\" class=\"dataframe\">\n",
       "  <thead>\n",
       "    <tr style=\"text-align: right;\">\n",
       "      <th></th>\n",
       "      <th>vars</th>\n",
       "      <th>data source</th>\n",
       "    </tr>\n",
       "  </thead>\n",
       "  <tbody>\n",
       "    <tr>\n",
       "      <th>0</th>\n",
       "      <td>index</td>\n",
       "      <td>1</td>\n",
       "    </tr>\n",
       "    <tr>\n",
       "      <th>1</th>\n",
       "      <td>DistrictName</td>\n",
       "      <td>1</td>\n",
       "    </tr>\n",
       "    <tr>\n",
       "      <th>2</th>\n",
       "      <td>BCG_Children12M</td>\n",
       "      <td>1</td>\n",
       "    </tr>\n",
       "    <tr>\n",
       "      <th>3</th>\n",
       "      <td>TT4_Mother0-11MChildren</td>\n",
       "      <td>1</td>\n",
       "    </tr>\n",
       "    <tr>\n",
       "      <th>4</th>\n",
       "      <td>TT1_Mother0-11MChildren</td>\n",
       "      <td>1</td>\n",
       "    </tr>\n",
       "  </tbody>\n",
       "</table>\n",
       "</div>"
      ],
      "text/plain": [
       "                      vars  data source\n",
       "0                    index            1\n",
       "1             DistrictName            1\n",
       "2          BCG_Children12M            1\n",
       "3  TT4_Mother0-11MChildren            1\n",
       "4  TT1_Mother0-11MChildren            1"
      ]
     },
     "execution_count": 8,
     "metadata": {},
     "output_type": "execute_result"
    }
   ],
   "source": [
    "source_labels = []\n",
    "counter = 0\n",
    "for var in list(d2016.columns):\n",
    "    if bool(re.search(pattern=\"index\", string=var)):\n",
    "        counter += 1\n",
    "        source_labels.append(counter)\n",
    "    else:\n",
    "        source_labels.append(counter)\n",
    "        \n",
    "vars_labels2016 = pd.DataFrame({'vars':list(d2016.columns), 'data source': source_labels})\n",
    "vars_labels2016.head()"
   ]
  },
  {
   "cell_type": "code",
   "execution_count": 9,
   "metadata": {},
   "outputs": [
    {
     "name": "stdout",
     "output_type": "stream",
     "text": [
      "(64, 175)\n",
      "(64, 173)\n",
      "(64, 173)\n"
     ]
    },
    {
     "data": {
      "text/html": [
       "<div>\n",
       "<style scoped>\n",
       "    .dataframe tbody tr th:only-of-type {\n",
       "        vertical-align: middle;\n",
       "    }\n",
       "\n",
       "    .dataframe tbody tr th {\n",
       "        vertical-align: top;\n",
       "    }\n",
       "\n",
       "    .dataframe thead th {\n",
       "        text-align: right;\n",
       "    }\n",
       "</style>\n",
       "<table border=\"1\" class=\"dataframe\">\n",
       "  <thead>\n",
       "    <tr style=\"text-align: right;\">\n",
       "      <th></th>\n",
       "      <th>BCG_Children12M</th>\n",
       "      <th>TT4_Mother0-11MChildren</th>\n",
       "      <th>TT1_Mother0-11MChildren</th>\n",
       "      <th>TT3_Mother0-11MChildren</th>\n",
       "      <th>PENTA1_Children12M</th>\n",
       "      <th>PENTA2_Children12M</th>\n",
       "      <th>OPV2_Children12M</th>\n",
       "      <th>Measles_Children12M</th>\n",
       "      <th>OPV1_Children23M</th>\n",
       "      <th>Fully_Children23M</th>\n",
       "      <th>...</th>\n",
       "      <th>imp11subdistr_thanaprocessCAR</th>\n",
       "      <th>distr_GOPill_total</th>\n",
       "      <th>distr_GOfemalenormal</th>\n",
       "      <th>imp11subdistr_thanaprocessPercent_PerMale</th>\n",
       "      <th>imp11subdistr_ngothanaprocessNGO_Percent_Pill</th>\n",
       "      <th>distr_GOimplant_remove</th>\n",
       "      <th>imp11subdistr_ngothanaprocessNGO_Percent_PerMale</th>\n",
       "      <th>distr_GOImp_total</th>\n",
       "      <th>imp11subdistr_ngothanaprocessNGO_Percent_PerFemale</th>\n",
       "      <th>distr_GOfemale_total</th>\n",
       "    </tr>\n",
       "    <tr>\n",
       "      <th>DistrictName</th>\n",
       "      <th></th>\n",
       "      <th></th>\n",
       "      <th></th>\n",
       "      <th></th>\n",
       "      <th></th>\n",
       "      <th></th>\n",
       "      <th></th>\n",
       "      <th></th>\n",
       "      <th></th>\n",
       "      <th></th>\n",
       "      <th></th>\n",
       "      <th></th>\n",
       "      <th></th>\n",
       "      <th></th>\n",
       "      <th></th>\n",
       "      <th></th>\n",
       "      <th></th>\n",
       "      <th></th>\n",
       "      <th></th>\n",
       "      <th></th>\n",
       "      <th></th>\n",
       "    </tr>\n",
       "  </thead>\n",
       "  <tbody>\n",
       "    <tr>\n",
       "      <th>Bagerhat</th>\n",
       "      <td>98.1</td>\n",
       "      <td>52.9</td>\n",
       "      <td>90.0</td>\n",
       "      <td>71.4</td>\n",
       "      <td>98.1</td>\n",
       "      <td>96.0</td>\n",
       "      <td>96.0</td>\n",
       "      <td>86.7</td>\n",
       "      <td>98.1</td>\n",
       "      <td>79.7</td>\n",
       "      <td>...</td>\n",
       "      <td>80.83</td>\n",
       "      <td>3657.7126</td>\n",
       "      <td>3.0646</td>\n",
       "      <td>5.53</td>\n",
       "      <td>53.6100</td>\n",
       "      <td>0.0</td>\n",
       "      <td>3.810000</td>\n",
       "      <td>8.4006</td>\n",
       "      <td>4.040000</td>\n",
       "      <td>3.0646</td>\n",
       "    </tr>\n",
       "    <tr>\n",
       "      <th>Bandarban</th>\n",
       "      <td>94.3</td>\n",
       "      <td>54.3</td>\n",
       "      <td>89.0</td>\n",
       "      <td>72.4</td>\n",
       "      <td>94.3</td>\n",
       "      <td>90.2</td>\n",
       "      <td>90.8</td>\n",
       "      <td>79.2</td>\n",
       "      <td>93.8</td>\n",
       "      <td>76.2</td>\n",
       "      <td>...</td>\n",
       "      <td>77.01</td>\n",
       "      <td>655.7759</td>\n",
       "      <td>0.5443</td>\n",
       "      <td>4.76</td>\n",
       "      <td>48.9905</td>\n",
       "      <td>0.0</td>\n",
       "      <td>2.088167</td>\n",
       "      <td>1.7435</td>\n",
       "      <td>6.310333</td>\n",
       "      <td>0.5443</td>\n",
       "    </tr>\n",
       "    <tr>\n",
       "      <th>Barguna</th>\n",
       "      <td>100.0</td>\n",
       "      <td>47.6</td>\n",
       "      <td>99.0</td>\n",
       "      <td>72.4</td>\n",
       "      <td>100.0</td>\n",
       "      <td>98.6</td>\n",
       "      <td>98.6</td>\n",
       "      <td>82.6</td>\n",
       "      <td>99.5</td>\n",
       "      <td>79.9</td>\n",
       "      <td>...</td>\n",
       "      <td>75.47</td>\n",
       "      <td>1302.0635</td>\n",
       "      <td>0.4057</td>\n",
       "      <td>7.91</td>\n",
       "      <td>41.2100</td>\n",
       "      <td>0.0</td>\n",
       "      <td>3.190000</td>\n",
       "      <td>9.5650</td>\n",
       "      <td>6.130000</td>\n",
       "      <td>0.4057</td>\n",
       "    </tr>\n",
       "    <tr>\n",
       "      <th>Barisal</th>\n",
       "      <td>98.6</td>\n",
       "      <td>52.4</td>\n",
       "      <td>97.1</td>\n",
       "      <td>77.1</td>\n",
       "      <td>98.6</td>\n",
       "      <td>98.1</td>\n",
       "      <td>98.1</td>\n",
       "      <td>82.6</td>\n",
       "      <td>98.6</td>\n",
       "      <td>77.4</td>\n",
       "      <td>...</td>\n",
       "      <td>72.62</td>\n",
       "      <td>2935.3205</td>\n",
       "      <td>3.6730</td>\n",
       "      <td>2.46</td>\n",
       "      <td>56.4400</td>\n",
       "      <td>0.0</td>\n",
       "      <td>0.550000</td>\n",
       "      <td>7.5193</td>\n",
       "      <td>6.540000</td>\n",
       "      <td>3.6730</td>\n",
       "    </tr>\n",
       "    <tr>\n",
       "      <th>Bhola</th>\n",
       "      <td>100.0</td>\n",
       "      <td>67.6</td>\n",
       "      <td>98.6</td>\n",
       "      <td>85.7</td>\n",
       "      <td>100.0</td>\n",
       "      <td>95.8</td>\n",
       "      <td>96.5</td>\n",
       "      <td>83.0</td>\n",
       "      <td>99.0</td>\n",
       "      <td>76.7</td>\n",
       "      <td>...</td>\n",
       "      <td>72.23</td>\n",
       "      <td>2403.5347</td>\n",
       "      <td>0.7171</td>\n",
       "      <td>2.71</td>\n",
       "      <td>30.3200</td>\n",
       "      <td>0.0</td>\n",
       "      <td>1.480000</td>\n",
       "      <td>7.4587</td>\n",
       "      <td>2.570000</td>\n",
       "      <td>0.7171</td>\n",
       "    </tr>\n",
       "  </tbody>\n",
       "</table>\n",
       "<p>5 rows × 173 columns</p>\n",
       "</div>"
      ],
      "text/plain": [
       "              BCG_Children12M  TT4_Mother0-11MChildren  \\\n",
       "DistrictName                                             \n",
       "Bagerhat                 98.1                     52.9   \n",
       "Bandarban                94.3                     54.3   \n",
       "Barguna                 100.0                     47.6   \n",
       "Barisal                  98.6                     52.4   \n",
       "Bhola                   100.0                     67.6   \n",
       "\n",
       "              TT1_Mother0-11MChildren  TT3_Mother0-11MChildren  \\\n",
       "DistrictName                                                     \n",
       "Bagerhat                         90.0                     71.4   \n",
       "Bandarban                        89.0                     72.4   \n",
       "Barguna                          99.0                     72.4   \n",
       "Barisal                          97.1                     77.1   \n",
       "Bhola                            98.6                     85.7   \n",
       "\n",
       "              PENTA1_Children12M  PENTA2_Children12M  OPV2_Children12M  \\\n",
       "DistrictName                                                             \n",
       "Bagerhat                    98.1                96.0              96.0   \n",
       "Bandarban                   94.3                90.2              90.8   \n",
       "Barguna                    100.0                98.6              98.6   \n",
       "Barisal                     98.6                98.1              98.1   \n",
       "Bhola                      100.0                95.8              96.5   \n",
       "\n",
       "              Measles_Children12M  OPV1_Children23M  Fully_Children23M  ...  \\\n",
       "DistrictName                                                            ...   \n",
       "Bagerhat                     86.7              98.1               79.7  ...   \n",
       "Bandarban                    79.2              93.8               76.2  ...   \n",
       "Barguna                      82.6              99.5               79.9  ...   \n",
       "Barisal                      82.6              98.6               77.4  ...   \n",
       "Bhola                        83.0              99.0               76.7  ...   \n",
       "\n",
       "              imp11subdistr_thanaprocessCAR  distr_GOPill_total  \\\n",
       "DistrictName                                                      \n",
       "Bagerhat                              80.83           3657.7126   \n",
       "Bandarban                             77.01            655.7759   \n",
       "Barguna                               75.47           1302.0635   \n",
       "Barisal                               72.62           2935.3205   \n",
       "Bhola                                 72.23           2403.5347   \n",
       "\n",
       "              distr_GOfemalenormal  imp11subdistr_thanaprocessPercent_PerMale  \\\n",
       "DistrictName                                                                    \n",
       "Bagerhat                    3.0646                                       5.53   \n",
       "Bandarban                   0.5443                                       4.76   \n",
       "Barguna                     0.4057                                       7.91   \n",
       "Barisal                     3.6730                                       2.46   \n",
       "Bhola                       0.7171                                       2.71   \n",
       "\n",
       "              imp11subdistr_ngothanaprocessNGO_Percent_Pill  \\\n",
       "DistrictName                                                  \n",
       "Bagerhat                                            53.6100   \n",
       "Bandarban                                           48.9905   \n",
       "Barguna                                             41.2100   \n",
       "Barisal                                             56.4400   \n",
       "Bhola                                               30.3200   \n",
       "\n",
       "              distr_GOimplant_remove  \\\n",
       "DistrictName                           \n",
       "Bagerhat                         0.0   \n",
       "Bandarban                        0.0   \n",
       "Barguna                          0.0   \n",
       "Barisal                          0.0   \n",
       "Bhola                            0.0   \n",
       "\n",
       "              imp11subdistr_ngothanaprocessNGO_Percent_PerMale  \\\n",
       "DistrictName                                                     \n",
       "Bagerhat                                              3.810000   \n",
       "Bandarban                                             2.088167   \n",
       "Barguna                                               3.190000   \n",
       "Barisal                                               0.550000   \n",
       "Bhola                                                 1.480000   \n",
       "\n",
       "              distr_GOImp_total  \\\n",
       "DistrictName                      \n",
       "Bagerhat                 8.4006   \n",
       "Bandarban                1.7435   \n",
       "Barguna                  9.5650   \n",
       "Barisal                  7.5193   \n",
       "Bhola                    7.4587   \n",
       "\n",
       "              imp11subdistr_ngothanaprocessNGO_Percent_PerFemale  \\\n",
       "DistrictName                                                       \n",
       "Bagerhat                                               4.040000    \n",
       "Bandarban                                              6.310333    \n",
       "Barguna                                                6.130000    \n",
       "Barisal                                                6.540000    \n",
       "Bhola                                                  2.570000    \n",
       "\n",
       "              distr_GOfemale_total  \n",
       "DistrictName                        \n",
       "Bagerhat                    3.0646  \n",
       "Bandarban                   0.5443  \n",
       "Barguna                     0.4057  \n",
       "Barisal                     3.6730  \n",
       "Bhola                       0.7171  \n",
       "\n",
       "[5 rows x 173 columns]"
      ]
     },
     "execution_count": 9,
     "metadata": {},
     "output_type": "execute_result"
    }
   ],
   "source": [
    "d2011.shape\n",
    "d2011 = d2011.set_index(['DistrictName'])\n",
    "print(d2011.shape)\n",
    "d2011 = d2011.drop(['index', 'DistrictGeo'], axis=1)\n",
    "print(d2011.shape)\n",
    "subset_vars = [var for var, var_type in zip(d2011.dtypes.index, d2011.dtypes) if str(var_type) != 'object'] \n",
    "d2011 = d2011[subset_vars]\n",
    "d2011 = d2011.fillna(d2011.mean())\n",
    "#d2011 = remove_miss_vars(input_df=d2011)\n",
    "print(d2011.shape)\n",
    "d2011.head()"
   ]
  },
  {
   "cell_type": "code",
   "execution_count": 10,
   "metadata": {},
   "outputs": [
    {
     "name": "stdout",
     "output_type": "stream",
     "text": [
      "(64, 175)\n",
      "(64, 173)\n",
      "(64, 173)\n"
     ]
    },
    {
     "data": {
      "text/html": [
       "<div>\n",
       "<style scoped>\n",
       "    .dataframe tbody tr th:only-of-type {\n",
       "        vertical-align: middle;\n",
       "    }\n",
       "\n",
       "    .dataframe tbody tr th {\n",
       "        vertical-align: top;\n",
       "    }\n",
       "\n",
       "    .dataframe thead th {\n",
       "        text-align: right;\n",
       "    }\n",
       "</style>\n",
       "<table border=\"1\" class=\"dataframe\">\n",
       "  <thead>\n",
       "    <tr style=\"text-align: right;\">\n",
       "      <th></th>\n",
       "      <th>BCG_Children12M</th>\n",
       "      <th>TT4_Mother0-11MChildren</th>\n",
       "      <th>TT1_Mother0-11MChildren</th>\n",
       "      <th>TT3_Mother0-11MChildren</th>\n",
       "      <th>PENTA1_Children12M</th>\n",
       "      <th>PENTA2_Children12M</th>\n",
       "      <th>OPV2_Children12M</th>\n",
       "      <th>Measles_Children12M</th>\n",
       "      <th>OPV1_Children23M</th>\n",
       "      <th>Fully_Children23M</th>\n",
       "      <th>...</th>\n",
       "      <th>imp11subdistr_thanaprocessCAR</th>\n",
       "      <th>distr_GOPill_total</th>\n",
       "      <th>distr_GOfemalenormal</th>\n",
       "      <th>imp11subdistr_thanaprocessPercent_PerMale</th>\n",
       "      <th>imp11subdistr_ngothanaprocessNGO_Percent_Pill</th>\n",
       "      <th>distr_GOimplant_remove</th>\n",
       "      <th>imp11subdistr_ngothanaprocessNGO_Percent_PerMale</th>\n",
       "      <th>distr_GOImp_total</th>\n",
       "      <th>imp11subdistr_ngothanaprocessNGO_Percent_PerFemale</th>\n",
       "      <th>distr_GOfemale_total</th>\n",
       "    </tr>\n",
       "    <tr>\n",
       "      <th>DistrictName</th>\n",
       "      <th></th>\n",
       "      <th></th>\n",
       "      <th></th>\n",
       "      <th></th>\n",
       "      <th></th>\n",
       "      <th></th>\n",
       "      <th></th>\n",
       "      <th></th>\n",
       "      <th></th>\n",
       "      <th></th>\n",
       "      <th></th>\n",
       "      <th></th>\n",
       "      <th></th>\n",
       "      <th></th>\n",
       "      <th></th>\n",
       "      <th></th>\n",
       "      <th></th>\n",
       "      <th></th>\n",
       "      <th></th>\n",
       "      <th></th>\n",
       "      <th></th>\n",
       "    </tr>\n",
       "  </thead>\n",
       "  <tbody>\n",
       "    <tr>\n",
       "      <th>Bagerhat</th>\n",
       "      <td>98.2</td>\n",
       "      <td>61.9</td>\n",
       "      <td>98.1</td>\n",
       "      <td>85.3</td>\n",
       "      <td>97.4</td>\n",
       "      <td>96.8</td>\n",
       "      <td>96.8</td>\n",
       "      <td>90.3</td>\n",
       "      <td>97.4</td>\n",
       "      <td>88.3</td>\n",
       "      <td>...</td>\n",
       "      <td>81.39</td>\n",
       "      <td>4209.6460</td>\n",
       "      <td>1.7114</td>\n",
       "      <td>5.33</td>\n",
       "      <td>44.810000</td>\n",
       "      <td>2.5874</td>\n",
       "      <td>4.690000</td>\n",
       "      <td>10.1809</td>\n",
       "      <td>4.870000</td>\n",
       "      <td>2.3371</td>\n",
       "    </tr>\n",
       "    <tr>\n",
       "      <th>Bandarban</th>\n",
       "      <td>99.0</td>\n",
       "      <td>79.6</td>\n",
       "      <td>94.8</td>\n",
       "      <td>86.1</td>\n",
       "      <td>96.3</td>\n",
       "      <td>94.8</td>\n",
       "      <td>94.8</td>\n",
       "      <td>86.3</td>\n",
       "      <td>96.3</td>\n",
       "      <td>83.9</td>\n",
       "      <td>...</td>\n",
       "      <td>77.95</td>\n",
       "      <td>671.4688</td>\n",
       "      <td>0.1996</td>\n",
       "      <td>9.05</td>\n",
       "      <td>44.724032</td>\n",
       "      <td>0.7570</td>\n",
       "      <td>2.697097</td>\n",
       "      <td>2.8958</td>\n",
       "      <td>6.479516</td>\n",
       "      <td>0.2255</td>\n",
       "    </tr>\n",
       "    <tr>\n",
       "      <th>Barguna</th>\n",
       "      <td>99.7</td>\n",
       "      <td>64.4</td>\n",
       "      <td>98.8</td>\n",
       "      <td>88.4</td>\n",
       "      <td>98.8</td>\n",
       "      <td>97.9</td>\n",
       "      <td>97.9</td>\n",
       "      <td>91.0</td>\n",
       "      <td>98.8</td>\n",
       "      <td>91.1</td>\n",
       "      <td>...</td>\n",
       "      <td>76.12</td>\n",
       "      <td>1196.4034</td>\n",
       "      <td>0.3266</td>\n",
       "      <td>9.46</td>\n",
       "      <td>41.160000</td>\n",
       "      <td>1.8511</td>\n",
       "      <td>3.200000</td>\n",
       "      <td>8.5741</td>\n",
       "      <td>3.250000</td>\n",
       "      <td>0.8348</td>\n",
       "    </tr>\n",
       "    <tr>\n",
       "      <th>Barisal</th>\n",
       "      <td>99.7</td>\n",
       "      <td>79.3</td>\n",
       "      <td>100.0</td>\n",
       "      <td>96.7</td>\n",
       "      <td>99.1</td>\n",
       "      <td>99.3</td>\n",
       "      <td>99.3</td>\n",
       "      <td>93.1</td>\n",
       "      <td>99.1</td>\n",
       "      <td>94.6</td>\n",
       "      <td>...</td>\n",
       "      <td>75.77</td>\n",
       "      <td>611.6951</td>\n",
       "      <td>0.3437</td>\n",
       "      <td>2.98</td>\n",
       "      <td>53.300000</td>\n",
       "      <td>0.7047</td>\n",
       "      <td>0.970000</td>\n",
       "      <td>2.8073</td>\n",
       "      <td>4.070000</td>\n",
       "      <td>0.5894</td>\n",
       "    </tr>\n",
       "    <tr>\n",
       "      <th>Bhola</th>\n",
       "      <td>99.8</td>\n",
       "      <td>79.0</td>\n",
       "      <td>100.0</td>\n",
       "      <td>94.1</td>\n",
       "      <td>99.8</td>\n",
       "      <td>99.8</td>\n",
       "      <td>99.8</td>\n",
       "      <td>95.4</td>\n",
       "      <td>99.8</td>\n",
       "      <td>91.9</td>\n",
       "      <td>...</td>\n",
       "      <td>79.61</td>\n",
       "      <td>2050.1934</td>\n",
       "      <td>0.0398</td>\n",
       "      <td>3.21</td>\n",
       "      <td>32.150000</td>\n",
       "      <td>1.0568</td>\n",
       "      <td>2.310000</td>\n",
       "      <td>13.3310</td>\n",
       "      <td>2.550000</td>\n",
       "      <td>0.3316</td>\n",
       "    </tr>\n",
       "  </tbody>\n",
       "</table>\n",
       "<p>5 rows × 173 columns</p>\n",
       "</div>"
      ],
      "text/plain": [
       "              BCG_Children12M  TT4_Mother0-11MChildren  \\\n",
       "DistrictName                                             \n",
       "Bagerhat                 98.2                     61.9   \n",
       "Bandarban                99.0                     79.6   \n",
       "Barguna                  99.7                     64.4   \n",
       "Barisal                  99.7                     79.3   \n",
       "Bhola                    99.8                     79.0   \n",
       "\n",
       "              TT1_Mother0-11MChildren  TT3_Mother0-11MChildren  \\\n",
       "DistrictName                                                     \n",
       "Bagerhat                         98.1                     85.3   \n",
       "Bandarban                        94.8                     86.1   \n",
       "Barguna                          98.8                     88.4   \n",
       "Barisal                         100.0                     96.7   \n",
       "Bhola                           100.0                     94.1   \n",
       "\n",
       "              PENTA1_Children12M  PENTA2_Children12M  OPV2_Children12M  \\\n",
       "DistrictName                                                             \n",
       "Bagerhat                    97.4                96.8              96.8   \n",
       "Bandarban                   96.3                94.8              94.8   \n",
       "Barguna                     98.8                97.9              97.9   \n",
       "Barisal                     99.1                99.3              99.3   \n",
       "Bhola                       99.8                99.8              99.8   \n",
       "\n",
       "              Measles_Children12M  OPV1_Children23M  Fully_Children23M  ...  \\\n",
       "DistrictName                                                            ...   \n",
       "Bagerhat                     90.3              97.4               88.3  ...   \n",
       "Bandarban                    86.3              96.3               83.9  ...   \n",
       "Barguna                      91.0              98.8               91.1  ...   \n",
       "Barisal                      93.1              99.1               94.6  ...   \n",
       "Bhola                        95.4              99.8               91.9  ...   \n",
       "\n",
       "              imp11subdistr_thanaprocessCAR  distr_GOPill_total  \\\n",
       "DistrictName                                                      \n",
       "Bagerhat                              81.39           4209.6460   \n",
       "Bandarban                             77.95            671.4688   \n",
       "Barguna                               76.12           1196.4034   \n",
       "Barisal                               75.77            611.6951   \n",
       "Bhola                                 79.61           2050.1934   \n",
       "\n",
       "              distr_GOfemalenormal  imp11subdistr_thanaprocessPercent_PerMale  \\\n",
       "DistrictName                                                                    \n",
       "Bagerhat                    1.7114                                       5.33   \n",
       "Bandarban                   0.1996                                       9.05   \n",
       "Barguna                     0.3266                                       9.46   \n",
       "Barisal                     0.3437                                       2.98   \n",
       "Bhola                       0.0398                                       3.21   \n",
       "\n",
       "              imp11subdistr_ngothanaprocessNGO_Percent_Pill  \\\n",
       "DistrictName                                                  \n",
       "Bagerhat                                          44.810000   \n",
       "Bandarban                                         44.724032   \n",
       "Barguna                                           41.160000   \n",
       "Barisal                                           53.300000   \n",
       "Bhola                                             32.150000   \n",
       "\n",
       "              distr_GOimplant_remove  \\\n",
       "DistrictName                           \n",
       "Bagerhat                      2.5874   \n",
       "Bandarban                     0.7570   \n",
       "Barguna                       1.8511   \n",
       "Barisal                       0.7047   \n",
       "Bhola                         1.0568   \n",
       "\n",
       "              imp11subdistr_ngothanaprocessNGO_Percent_PerMale  \\\n",
       "DistrictName                                                     \n",
       "Bagerhat                                              4.690000   \n",
       "Bandarban                                             2.697097   \n",
       "Barguna                                               3.200000   \n",
       "Barisal                                               0.970000   \n",
       "Bhola                                                 2.310000   \n",
       "\n",
       "              distr_GOImp_total  \\\n",
       "DistrictName                      \n",
       "Bagerhat                10.1809   \n",
       "Bandarban                2.8958   \n",
       "Barguna                  8.5741   \n",
       "Barisal                  2.8073   \n",
       "Bhola                   13.3310   \n",
       "\n",
       "              imp11subdistr_ngothanaprocessNGO_Percent_PerFemale  \\\n",
       "DistrictName                                                       \n",
       "Bagerhat                                               4.870000    \n",
       "Bandarban                                              6.479516    \n",
       "Barguna                                                3.250000    \n",
       "Barisal                                                4.070000    \n",
       "Bhola                                                  2.550000    \n",
       "\n",
       "              distr_GOfemale_total  \n",
       "DistrictName                        \n",
       "Bagerhat                    2.3371  \n",
       "Bandarban                   0.2255  \n",
       "Barguna                     0.8348  \n",
       "Barisal                     0.5894  \n",
       "Bhola                       0.3316  \n",
       "\n",
       "[5 rows x 173 columns]"
      ]
     },
     "execution_count": 10,
     "metadata": {},
     "output_type": "execute_result"
    }
   ],
   "source": [
    "d2016.shape\n",
    "d2016 = d2016.set_index(['DistrictName'])\n",
    "print(d2016.shape)\n",
    "d2016 = d2016.drop(['index', 'DistrictGeo'], axis=1)\n",
    "print(d2016.shape)\n",
    "subset_vars = [var for var, var_type in zip(d2016.dtypes.index, d2016.dtypes) if str(var_type) != 'object'] \n",
    "d2016 = d2016[subset_vars]\n",
    "d2016 = d2016.fillna(d2016.mean())\n",
    "# d2016 = remove_miss_vars(input_df=d2016)\n",
    "print(d2016.shape)\n",
    "d2016.head()"
   ]
  },
  {
   "cell_type": "markdown",
   "metadata": {},
   "source": [
    "## Performing PCA and correlation analysis"
   ]
  },
  {
   "cell_type": "markdown",
   "metadata": {},
   "source": [
    "### Scaled and normalized data\n"
   ]
  },
  {
   "cell_type": "code",
   "execution_count": 11,
   "metadata": {},
   "outputs": [
    {
     "name": "stdout",
     "output_type": "stream",
     "text": [
      "(64, 173)\n",
      "['index.1', 'index.3', 'index.2']\n",
      "(64, 170)\n"
     ]
    }
   ],
   "source": [
    "print(d2011.shape)\n",
    "drop_columns = []\n",
    "for var in d2011.columns:\n",
    "    if \"index\" in var:\n",
    "        drop_columns.append(var)\n",
    "drop_columns = list(set(drop_columns))\n",
    "print(drop_columns)\n",
    "d2011.drop(drop_columns, inplace=True, axis=1)\n",
    "print(d2011.shape)"
   ]
  },
  {
   "cell_type": "code",
   "execution_count": 12,
   "metadata": {},
   "outputs": [
    {
     "name": "stdout",
     "output_type": "stream",
     "text": [
      "(64, 173)\n",
      "['index.1', 'index.3', 'index.2']\n",
      "(64, 170)\n"
     ]
    }
   ],
   "source": [
    "print(d2016.shape)\n",
    "drop_columns = []\n",
    "for var in d2016.columns:\n",
    "    if \"index\" in var:\n",
    "        drop_columns.append(var)\n",
    "drop_columns = list(set(drop_columns))\n",
    "print(drop_columns)\n",
    "d2016.drop(drop_columns, inplace=True, axis=1)\n",
    "print(d2016.shape)"
   ]
  },
  {
   "cell_type": "code",
   "execution_count": 13,
   "metadata": {},
   "outputs": [
    {
     "name": "stdout",
     "output_type": "stream",
     "text": [
      "(64, 170)\n",
      "(64, 170)\n"
     ]
    },
    {
     "name": "stderr",
     "output_type": "stream",
     "text": [
      "/anaconda3/lib/python3.7/site-packages/sklearn/preprocessing/data.py:625: DataConversionWarning: Data with input dtype int64, float64 were all converted to float64 by StandardScaler.\n",
      "  return self.partial_fit(X, y)\n",
      "/anaconda3/lib/python3.7/site-packages/sklearn/base.py:462: DataConversionWarning: Data with input dtype int64, float64 were all converted to float64 by StandardScaler.\n",
      "  return self.fit(X, **fit_params).transform(X)\n"
     ]
    }
   ],
   "source": [
    "s_data2011 = StandardScaler().fit_transform(d2011)\n",
    "s_data2011 = pd.DataFrame(s_data2011, columns=d2011.columns)\n",
    "print(s_data2011.shape)\n",
    "s_data2011 = remove_miss_vars(input_df=s_data2011)\n",
    "print(s_data2011.shape)"
   ]
  },
  {
   "cell_type": "code",
   "execution_count": 14,
   "metadata": {},
   "outputs": [
    {
     "name": "stdout",
     "output_type": "stream",
     "text": [
      "(64, 170)\n",
      "(64, 170)\n"
     ]
    },
    {
     "name": "stderr",
     "output_type": "stream",
     "text": [
      "/anaconda3/lib/python3.7/site-packages/sklearn/preprocessing/data.py:625: DataConversionWarning: Data with input dtype int64, float64 were all converted to float64 by StandardScaler.\n",
      "  return self.partial_fit(X, y)\n",
      "/anaconda3/lib/python3.7/site-packages/sklearn/base.py:462: DataConversionWarning: Data with input dtype int64, float64 were all converted to float64 by StandardScaler.\n",
      "  return self.fit(X, **fit_params).transform(X)\n"
     ]
    }
   ],
   "source": [
    "d2016[d2016==np.inf]=np.nan\n",
    "d2016.fillna(d2016.mean(), inplace=True)\n",
    "s_data2016 = StandardScaler().fit_transform(d2016)\n",
    "s_data2016 = pd.DataFrame(s_data2016, columns=d2016.columns)\n",
    "print(s_data2016.shape)\n",
    "s_data2016 = remove_miss_vars(input_df=s_data2016)\n",
    "print(s_data2016.shape)\n"
   ]
  },
  {
   "cell_type": "markdown",
   "metadata": {},
   "source": [
    "### Performing PCA on both years 2011 and 2016: Preliminary"
   ]
  },
  {
   "cell_type": "code",
   "execution_count": 15,
   "metadata": {},
   "outputs": [
    {
     "name": "stdout",
     "output_type": "stream",
     "text": [
      "39\n"
     ]
    }
   ],
   "source": [
    "pca = PCA(.95)\n",
    "pca2011 = pca.fit(s_data2011)\n",
    "print(pca.n_components_)"
   ]
  },
  {
   "cell_type": "code",
   "execution_count": 16,
   "metadata": {},
   "outputs": [
    {
     "name": "stdout",
     "output_type": "stream",
     "text": [
      "40\n"
     ]
    }
   ],
   "source": [
    "pca = PCA(.95)\n",
    "pca2016 = pca.fit(s_data2016)\n",
    "print(pca.n_components_)"
   ]
  },
  {
   "cell_type": "markdown",
   "metadata": {},
   "source": [
    "### Performing correlation analysis on the two subsets"
   ]
  },
  {
   "cell_type": "code",
   "execution_count": 17,
   "metadata": {},
   "outputs": [
    {
     "data": {
      "text/plain": [
       "True"
      ]
     },
     "execution_count": 17,
     "metadata": {},
     "output_type": "execute_result"
    }
   ],
   "source": [
    "all(s_data2016.columns == s_data2016.columns)"
   ]
  },
  {
   "cell_type": "code",
   "execution_count": 18,
   "metadata": {},
   "outputs": [],
   "source": [
    "corr2011 = s_data2011.corr()\n",
    "corr2016 = s_data2016.corr()"
   ]
  },
  {
   "cell_type": "code",
   "execution_count": 19,
   "metadata": {},
   "outputs": [
    {
     "name": "stdout",
     "output_type": "stream",
     "text": [
      "rate_maternal_mortality\n",
      "01MaternalHealth: % of maternal death reported individually with causes of death\n",
      "rate_under5y_mortality\n",
      "Fully_Children12M\n"
     ]
    }
   ],
   "source": [
    "for var in corr2011.columns:\n",
    "    if 'maternal' in var:\n",
    "        print(var)\n",
    "for var in corr2011.columns:\n",
    "    if 'under5' in var:\n",
    "        print(var)\n",
    "for var in corr2011.columns:\n",
    "    if 'Fully_Children12M' in var:\n",
    "        print(var)"
   ]
  },
  {
   "cell_type": "markdown",
   "metadata": {},
   "source": [
    "#### Correlation analysis for 2011"
   ]
  },
  {
   "cell_type": "code",
   "execution_count": 20,
   "metadata": {
    "scrolled": false
   },
   "outputs": [
    {
     "name": "stdout",
     "output_type": "stream",
     "text": [
      "(170, 2)\n",
      "(99, 3)\n"
     ]
    },
    {
     "name": "stderr",
     "output_type": "stream",
     "text": [
      "/anaconda3/lib/python3.7/site-packages/ipykernel_launcher.py:2: SettingWithCopyWarning: \n",
      "A value is trying to be set on a copy of a slice from a DataFrame.\n",
      "Try using .loc[row_indexer,col_indexer] = value instead\n",
      "\n",
      "See the caveats in the documentation: http://pandas.pydata.org/pandas-docs/stable/indexing.html#indexing-view-versus-copy\n",
      "  \n"
     ]
    }
   ],
   "source": [
    "maternal_mortality_2011 = corr2011[['rate_maternal_mortality']]\n",
    "maternal_mortality_2011['abs_rate_maternal_mortality'] = np.absolute(maternal_mortality_2011['rate_maternal_mortality'])\n",
    "maternal_mortality_2011 = maternal_mortality_2011.sort_values(by='abs_rate_maternal_mortality', ascending=False)\n",
    "print(maternal_mortality_2011.shape)\n",
    "maternal_mortality_2011 = maternal_mortality_2011.loc[maternal_mortality_2011['abs_rate_maternal_mortality'] > 0.05,:]\n",
    "maternal_mortality_2011.reset_index(inplace=True)\n",
    "print(maternal_mortality_2011.shape)\n",
    "maternal_mortality_2011.to_csv(OUT+'corr_maternal_mortality_2011.csv', index=False, index_label=False)"
   ]
  },
  {
   "cell_type": "code",
   "execution_count": 21,
   "metadata": {},
   "outputs": [
    {
     "name": "stdout",
     "output_type": "stream",
     "text": [
      "(170, 2)\n",
      "(99, 3)\n"
     ]
    },
    {
     "name": "stderr",
     "output_type": "stream",
     "text": [
      "/anaconda3/lib/python3.7/site-packages/ipykernel_launcher.py:2: SettingWithCopyWarning: \n",
      "A value is trying to be set on a copy of a slice from a DataFrame.\n",
      "Try using .loc[row_indexer,col_indexer] = value instead\n",
      "\n",
      "See the caveats in the documentation: http://pandas.pydata.org/pandas-docs/stable/indexing.html#indexing-view-versus-copy\n",
      "  \n"
     ]
    }
   ],
   "source": [
    "under5_mortality_2011 = corr2011[['rate_under5y_mortality']]\n",
    "under5_mortality_2011['abs_rate_under5y_mortality'] = np.absolute(under5_mortality_2011['rate_under5y_mortality'])\n",
    "under5_mortality_2011 = under5_mortality_2011.sort_values(by='abs_rate_under5y_mortality', ascending=False)\n",
    "print(under5_mortality_2011.shape)\n",
    "under5_mortality_2011 = under5_mortality_2011.loc[under5_mortality_2011['abs_rate_under5y_mortality'] > 0.1,:]\n",
    "under5_mortality_2011.reset_index(inplace=True)\n",
    "print(under5_mortality_2011.shape)\n",
    "under5_mortality_2011.to_csv(OUT+'corr_rate_under5y_mortality_2011.csv', index=False, index_label=False)"
   ]
  },
  {
   "cell_type": "code",
   "execution_count": 22,
   "metadata": {
    "scrolled": true
   },
   "outputs": [
    {
     "name": "stdout",
     "output_type": "stream",
     "text": [
      "(170, 2)\n",
      "(98, 3)\n"
     ]
    },
    {
     "name": "stderr",
     "output_type": "stream",
     "text": [
      "/anaconda3/lib/python3.7/site-packages/ipykernel_launcher.py:2: SettingWithCopyWarning: \n",
      "A value is trying to be set on a copy of a slice from a DataFrame.\n",
      "Try using .loc[row_indexer,col_indexer] = value instead\n",
      "\n",
      "See the caveats in the documentation: http://pandas.pydata.org/pandas-docs/stable/indexing.html#indexing-view-versus-copy\n",
      "  \n"
     ]
    }
   ],
   "source": [
    "fully_immunized_2011 = corr2011[['Fully_Children12M']]\n",
    "fully_immunized_2011['abs_Fully_Children12M'] = np.absolute(fully_immunized_2011['Fully_Children12M'])\n",
    "fully_immunized_2011 = fully_immunized_2011.sort_values(by='abs_Fully_Children12M', ascending=False)\n",
    "print(fully_immunized_2011.shape)\n",
    "fully_immunized_2011 = fully_immunized_2011.loc[fully_immunized_2011['abs_Fully_Children12M'] > 0.1,:]\n",
    "fully_immunized_2011.reset_index(inplace=True)\n",
    "print(fully_immunized_2011.shape)\n",
    "fully_immunized_2011.to_csv(OUT+'corr_Fully_Children12M_2011.csv', index=False, index_label=False)"
   ]
  },
  {
   "cell_type": "markdown",
   "metadata": {},
   "source": [
    "#### Correlation analysis for 2016"
   ]
  },
  {
   "cell_type": "code",
   "execution_count": 23,
   "metadata": {},
   "outputs": [
    {
     "name": "stdout",
     "output_type": "stream",
     "text": [
      "(170, 2)\n",
      "(112, 3)\n"
     ]
    },
    {
     "name": "stderr",
     "output_type": "stream",
     "text": [
      "/anaconda3/lib/python3.7/site-packages/ipykernel_launcher.py:2: SettingWithCopyWarning: \n",
      "A value is trying to be set on a copy of a slice from a DataFrame.\n",
      "Try using .loc[row_indexer,col_indexer] = value instead\n",
      "\n",
      "See the caveats in the documentation: http://pandas.pydata.org/pandas-docs/stable/indexing.html#indexing-view-versus-copy\n",
      "  \n"
     ]
    }
   ],
   "source": [
    "maternal_mortality_2016 = corr2016[['rate_maternal_mortality']]\n",
    "maternal_mortality_2016['abs_rate_maternal_mortality'] = np.absolute(maternal_mortality_2016['rate_maternal_mortality'])\n",
    "maternal_mortality_2016 = maternal_mortality_2016.sort_values(by='abs_rate_maternal_mortality', ascending=False)\n",
    "print(maternal_mortality_2016.shape)\n",
    "maternal_mortality_2016 = maternal_mortality_2016.loc[maternal_mortality_2016['abs_rate_maternal_mortality'] > 0.05,:]\n",
    "maternal_mortality_2016.reset_index(inplace=True)\n",
    "print(maternal_mortality_2016.shape)\n",
    "maternal_mortality_2016.to_csv(OUT+'corr_maternal_mortality_2016.csv', index=False, index_label=False)\n"
   ]
  },
  {
   "cell_type": "code",
   "execution_count": 24,
   "metadata": {},
   "outputs": [
    {
     "name": "stderr",
     "output_type": "stream",
     "text": [
      "/anaconda3/lib/python3.7/site-packages/ipykernel_launcher.py:2: SettingWithCopyWarning: \n",
      "A value is trying to be set on a copy of a slice from a DataFrame.\n",
      "Try using .loc[row_indexer,col_indexer] = value instead\n",
      "\n",
      "See the caveats in the documentation: http://pandas.pydata.org/pandas-docs/stable/indexing.html#indexing-view-versus-copy\n",
      "  \n"
     ]
    },
    {
     "name": "stdout",
     "output_type": "stream",
     "text": [
      "(170, 2)\n",
      "(62, 3)\n"
     ]
    }
   ],
   "source": [
    "under5_mortality_2016 = corr2016[['rate_under5y_mortality']]\n",
    "under5_mortality_2016['abs_rate_under5y_mortality'] = np.absolute(under5_mortality_2016['rate_under5y_mortality'])\n",
    "under5_mortality_2016 = under5_mortality_2016.sort_values(by='abs_rate_under5y_mortality', ascending=False)\n",
    "print(under5_mortality_2016.shape)\n",
    "under5_mortality_2016 = under5_mortality_2016.loc[under5_mortality_2016['abs_rate_under5y_mortality'] > 0.1,:]\n",
    "under5_mortality_2016.reset_index(inplace=True)\n",
    "print(under5_mortality_2016.shape)\n",
    "under5_mortality_2016.to_csv(OUT+'corr_rate_under5y_mortality_2016.csv', index=False, index_label=False)"
   ]
  },
  {
   "cell_type": "code",
   "execution_count": 25,
   "metadata": {},
   "outputs": [
    {
     "name": "stderr",
     "output_type": "stream",
     "text": [
      "/anaconda3/lib/python3.7/site-packages/ipykernel_launcher.py:2: SettingWithCopyWarning: \n",
      "A value is trying to be set on a copy of a slice from a DataFrame.\n",
      "Try using .loc[row_indexer,col_indexer] = value instead\n",
      "\n",
      "See the caveats in the documentation: http://pandas.pydata.org/pandas-docs/stable/indexing.html#indexing-view-versus-copy\n",
      "  \n"
     ]
    },
    {
     "name": "stdout",
     "output_type": "stream",
     "text": [
      "(170, 2)\n",
      "(78, 3)\n"
     ]
    }
   ],
   "source": [
    "fully_immunized_2016 = corr2016[['Fully_Children12M']]\n",
    "fully_immunized_2016['abs_Fully_Children12M'] = np.absolute(fully_immunized_2016['Fully_Children12M'])\n",
    "fully_immunized_2016 = fully_immunized_2016.sort_values(by='abs_Fully_Children12M', ascending=False)\n",
    "print(fully_immunized_2016.shape)\n",
    "fully_immunized_2016 = fully_immunized_2016.loc[fully_immunized_2016['abs_Fully_Children12M'] > 0.1,:]\n",
    "fully_immunized_2016.reset_index(inplace=True)\n",
    "print(fully_immunized_2016.shape)\n",
    "fully_immunized_2016.to_csv(OUT+'corr_Fully_Children12M_2016.csv', index=False, index_label=False)"
   ]
  },
  {
   "cell_type": "markdown",
   "metadata": {},
   "source": [
    "## Write out results"
   ]
  },
  {
   "cell_type": "markdown",
   "metadata": {},
   "source": [
    "### Maternal mortality"
   ]
  },
  {
   "cell_type": "code",
   "execution_count": 26,
   "metadata": {},
   "outputs": [],
   "source": [
    "full_maternal_mortality = list(set(maternal_mortality_2011['index']).intersection(set(maternal_mortality_2016['index'])))\n",
    "data_maternal_mortality_2011 = d2011[full_maternal_mortality]\n",
    "s_data_maternal_mortality_2011 = s_data2011[full_maternal_mortality]\n",
    "data_maternal_mortality_2016 = d2016[full_maternal_mortality]\n",
    "s_data_maternal_mortality_2016 = s_data2016[full_maternal_mortality]\n"
   ]
  },
  {
   "cell_type": "code",
   "execution_count": 27,
   "metadata": {},
   "outputs": [
    {
     "name": "stdout",
     "output_type": "stream",
     "text": [
      "(64, 65)\n",
      "(64, 65)\n",
      "(64, 65)\n",
      "(64, 65)\n"
     ]
    }
   ],
   "source": [
    "print(data_maternal_mortality_2011.shape)\n",
    "print(data_maternal_mortality_2016.shape)\n",
    "print(s_data_maternal_mortality_2011.shape)\n",
    "print(s_data_maternal_mortality_2016.shape)"
   ]
  },
  {
   "cell_type": "code",
   "execution_count": 28,
   "metadata": {},
   "outputs": [],
   "source": [
    "data_maternal_mortality_2011.to_csv(OUT+'maternal_mortality_2011.csv')\n",
    "s_data_maternal_mortality_2011.to_csv(OUT+'s_maternal_mortality_2011.csv')\n",
    "data_maternal_mortality_2016.to_csv(OUT+'maternal_mortality_2016.csv')\n",
    "s_data_maternal_mortality_2016.to_csv(OUT+'s_maternal_mortality_2016.csv')"
   ]
  },
  {
   "cell_type": "markdown",
   "metadata": {},
   "source": [
    "### Under 5 mortality"
   ]
  },
  {
   "cell_type": "code",
   "execution_count": 29,
   "metadata": {},
   "outputs": [],
   "source": [
    "full_under5_mortality = list(set(under5_mortality_2011['index']).intersection(set(under5_mortality_2016['index'])))\n",
    "data_under5_mortality_2011 = d2011[full_under5_mortality]\n",
    "s_data_under5_mortality_2011 = s_data2011[full_under5_mortality]\n",
    "data_under5_mortality_2016 = d2016[full_under5_mortality]\n",
    "s_data_under5_mortality_2016 = s_data2016[full_under5_mortality]\n"
   ]
  },
  {
   "cell_type": "code",
   "execution_count": 30,
   "metadata": {},
   "outputs": [
    {
     "name": "stdout",
     "output_type": "stream",
     "text": [
      "(64, 44)\n",
      "(64, 44)\n",
      "(64, 44)\n",
      "(64, 44)\n"
     ]
    }
   ],
   "source": [
    "print(data_under5_mortality_2011.shape)\n",
    "print(s_data_under5_mortality_2011.shape)\n",
    "print(data_under5_mortality_2016.shape)\n",
    "print(s_data_under5_mortality_2016.shape)"
   ]
  },
  {
   "cell_type": "code",
   "execution_count": 31,
   "metadata": {},
   "outputs": [],
   "source": [
    "data_under5_mortality_2011.to_csv(OUT+'under5_mortality_2011.csv')\n",
    "s_data_under5_mortality_2011.to_csv(OUT+'s_under5_mortality_2011.csv')\n",
    "data_under5_mortality_2016.to_csv(OUT+'under5_mortality_2016.csv')\n",
    "s_data_under5_mortality_2016.to_csv(OUT+'s_under5_mortality_2016.csv')\n"
   ]
  },
  {
   "cell_type": "markdown",
   "metadata": {},
   "source": [
    "### Fully immunized children"
   ]
  },
  {
   "cell_type": "code",
   "execution_count": 32,
   "metadata": {},
   "outputs": [],
   "source": [
    "full_immunized = list(set(fully_immunized_2011['index']).intersection(set(fully_immunized_2016['index'])))\n",
    "data_full_immunized_2011 = d2011[full_immunized]\n",
    "s_data_full_immunized_2011 = s_data2011[full_immunized]\n",
    "data_full_immunized_2016 = d2016[full_immunized]\n",
    "s_data_full_immunized_2016 = s_data2016[full_immunized]\n"
   ]
  },
  {
   "cell_type": "code",
   "execution_count": 33,
   "metadata": {},
   "outputs": [
    {
     "name": "stdout",
     "output_type": "stream",
     "text": [
      "(64, 56)\n",
      "(64, 56)\n",
      "(64, 56)\n",
      "(64, 56)\n"
     ]
    }
   ],
   "source": [
    "print(data_full_immunized_2011.shape)\n",
    "print(s_data_full_immunized_2011.shape)\n",
    "print(data_full_immunized_2016.shape)\n",
    "print(s_data_full_immunized_2016.shape)"
   ]
  },
  {
   "cell_type": "code",
   "execution_count": 34,
   "metadata": {},
   "outputs": [],
   "source": [
    "data_full_immunized_2011.to_csv(OUT+'full_immunized_2011.csv')\n",
    "s_data_full_immunized_2011.to_csv(OUT+'s_full_immunized_2011.csv')\n",
    "data_full_immunized_2016.to_csv(OUT+'full_immunized_2016.csv')\n",
    "s_data_full_immunized_2016.to_csv(OUT+'s_full_immunized_2016.csv')"
   ]
  },
  {
   "cell_type": "code",
   "execution_count": null,
   "metadata": {},
   "outputs": [],
   "source": []
  }
 ],
 "metadata": {
  "kernelspec": {
   "display_name": "Python 3",
   "language": "python",
   "name": "python3"
  },
  "language_info": {
   "codemirror_mode": {
    "name": "ipython",
    "version": 3
   },
   "file_extension": ".py",
   "mimetype": "text/x-python",
   "name": "python",
   "nbconvert_exporter": "python",
   "pygments_lexer": "ipython3",
   "version": "3.7.2"
  }
 },
 "nbformat": 4,
 "nbformat_minor": 2
}
