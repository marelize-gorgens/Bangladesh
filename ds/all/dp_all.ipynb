{
 "cells": [
  {
   "cell_type": "markdown",
   "metadata": {},
   "source": [
    "# NOTEBOOK"
   ]
  },
  {
   "cell_type": "markdown",
   "metadata": {},
   "source": [
    "## Data sources:\n",
    "- DHIS2 health indicators: 2011 and 2016\n",
    "- DGFP health indicators: 2011 and 2016\n",
    "- DHS raw variables: 2011 and 2014\n",
    "- SVRS raw variables: 2012 and 2015\n",
    "- CES indicators: 2011 and 2016\n",
    "\n",
    "## Time points:\n",
    "![Timpoints](timepoints.png)"
   ]
  },
  {
   "cell_type": "code",
   "execution_count": null,
   "metadata": {},
   "outputs": [],
   "source": [
    "import os\n",
    "import re\n",
    "import numpy as np\n",
    "import pandas as pd\n",
    "from collections import Counter\n",
    "from fuzzywuzzy import fuzz"
   ]
  },
  {
   "cell_type": "code",
   "execution_count": null,
   "metadata": {},
   "outputs": [],
   "source": [
    "def intersect_dfs(input_df1, input_df2):\n",
    "    df1 = input_df1.copy(deep=True)\n",
    "    df2 = input_df2.copy(deep=True)\n",
    "    subset_var = list(set(list(df1.columns)).intersection(set(list(df2.columns))))\n",
    "    return df1[subset_var], df2[subset_var]\n",
    "\n",
    "def read_ces(files_list, common=True):\n",
    "    data_dict = {}\n",
    "    for file in files_list:\n",
    "        data_dict[file] = pd.read_csv(file, encoding='cp850')\n",
    "        data_dict[file].rename(columns={'Survey.Units\"':'geo'}, inplace=True)\n",
    "        subset = [not bool(re.search(r\"Division|Launch District|CC|KCC|RCC|DCC|SCC|CCC|BCC|Urban|Rural|CC Slum| Slum|National\", geo)) for geo in data_dict[file]['Survey.Units']]\n",
    "        print(Counter([not bool(re.search(r\"Division|Launch District|CC|KCC|RCC|DCC|SCC|CCC|BCC|Urban|Rural|CC Slum| Slum|National\", geo)) for geo in data_dict[file]['Survey.Units']]))\n",
    "        data_dict[file] = data_dict[file].loc[subset,:]\n",
    "        print(data_dict[file].shape)\n",
    "    return data_dict\n",
    "\n",
    "def match_districts(ref_df, ref_match, input_df, input_match):\n",
    "    out = pd.DataFrame()\n",
    "    for key, code in enumerate(input_df[input_match]):\n",
    "        code_match = {}\n",
    "        code_match['FuzzRatio'] = [fuzz.ratio(ref_code, code)  for ref_code in ref_df[ref_match]]\n",
    "        code_match['Geo'] = code\n",
    "        code_match['DistrictGeo'] = [value[0] for value in ref_df.values]\n",
    "        code_match['DistrictName'] = [value[1]  for value in ref_df.values]\n",
    "        code_match = pd.DataFrame.from_dict(code_match)\n",
    "        out = out.append(code_match.sort_values('FuzzRatio', ascending=False).iloc[0,:])\n",
    "    for var in list(out.columns):\n",
    "        if out[var].dtype.kind == 'f':\n",
    "            out[var] = out[var].astype(int)\n",
    "            out[var] = out[var].astype(str)\n",
    "            code_length = max([len(char) for char in out[var]])\n",
    "            out[var] = out[var].str.pad(width=code_length, side='left', fillchar='0') \n",
    "    return out\n",
    "\n",
    "def read_dgfp(files_list):\n",
    "    data_dict = {}\n",
    "    for file in files_list:\n",
    "        data_dict[file] = pd.read_csv(file)\n",
    "    return data_dict\n",
    "\n",
    "def distrGO_rates(input_df, pattern, denominator_male, denominator_female):\n",
    "    df = input_df.copy(deep=True)\n",
    "    vars_rates = [var for var in df.columns if pattern in var]\n",
    "    for var in vars_rates:\n",
    "        if \"_male\" in var:\n",
    "            df[var] = np.round(df[var]/(denominator_male/1000),4)\n",
    "        else: \n",
    "            df[var] = np.round(df[var]/(denominator_female/1000), 4)\n",
    "    return df, vars_rates"
   ]
  },
  {
   "cell_type": "markdown",
   "metadata": {},
   "source": [
    "## GEOS"
   ]
  },
  {
   "cell_type": "markdown",
   "metadata": {},
   "source": [
    "## CES Data"
   ]
  },
  {
   "cell_type": "code",
   "execution_count": null,
   "metadata": {},
   "outputs": [],
   "source": [
    "CES2011 = '/Users/edinhamzic/Symphony/wb_bangladesh/Bangladesh/output/unicef/gdata/gdata_unicef_ces_2011.csv'\n",
    "CES2016 = '/Users/edinhamzic/Symphony/wb_bangladesh/Bangladesh/output/unicef/gdata/gdata_unicef_ces_2016.csv'\n",
    "ces_list = [CES2011, CES2016]\n",
    "ces = read_ces(files_list=ces_list, common=True)\n",
    "ces.keys()"
   ]
  },
  {
   "cell_type": "code",
   "execution_count": null,
   "metadata": {},
   "outputs": [],
   "source": [
    "ces_2011, ces_2016 = intersect_dfs(input_df1=ces[ces_list[0]], input_df2=ces[ces_list[1]])\n",
    "print(ces_2011.shape)\n",
    "print(ces_2016.shape)"
   ]
  },
  {
   "cell_type": "code",
   "execution_count": null,
   "metadata": {},
   "outputs": [],
   "source": [
    "ces_2011['DistrictCode'] = ces_2011['DistrictCode'].astype(str).str.pad(width=2, side='left', fillchar='0')\n",
    "ces_2011['DivisionCode'] = ces_2011['DivisionCode'].astype(str).str.pad(width=2, side='left', fillchar='0')\n",
    "ces_2011['DistrictGeo'] = ces_2011['DivisionCode'].str.cat(ces_2011['DistrictCode'], sep=\"\")\n",
    "ces_2011 = ces_2011.drop(['DivisionName', 'DivisionCode', 'Geo', 'DistrictCode', 'Year', 'FuzzRatio', 'Survey.Units'], axis=1)\n",
    "ces_2011.head()"
   ]
  },
  {
   "cell_type": "code",
   "execution_count": null,
   "metadata": {},
   "outputs": [],
   "source": [
    "ces_2016['DistrictCode'] = ces_2016['DistrictCode'].astype(str).str.pad(width=2, side='left', fillchar='0')\n",
    "ces_2016['DivisionCode'] = ces_2016['DivisionCode'].astype(str).str.pad(width=2, side='left', fillchar='0')\n",
    "ces_2016['DistrictGeo'] = ces_2016['DivisionCode'].str.cat(ces_2016['DistrictCode'], sep=\"\")\n",
    "ces_2016 = ces_2016.drop(['DivisionName', 'DivisionCode', 'Geo', 'DistrictCode', 'Year', 'FuzzRatio', 'Survey.Units'], axis=1)\n",
    "ces_2016.head()"
   ]
  },
  {
   "cell_type": "code",
   "execution_count": null,
   "metadata": {},
   "outputs": [],
   "source": [
    "check_list = []\n",
    "for var1, var2 in zip(sorted(ces_2011['DistrictName']), sorted(ces_2011['DistrictName'])):\n",
    "    check_list.append(var1==var2)\n",
    "print(all(check_list))\n",
    "geo = ces_2011[['DistrictGeo', 'DistrictName']]\n",
    "geo.head()"
   ]
  },
  {
   "cell_type": "markdown",
   "metadata": {},
   "source": [
    "## SVRS Data "
   ]
  },
  {
   "cell_type": "code",
   "execution_count": null,
   "metadata": {},
   "outputs": [],
   "source": [
    "SVRS2011 = '/Users/edinhamzic/Symphony/wb_bangladesh/Bangladesh/output/bbs/data/data_svrs_zila_2012_clean.csv'\n",
    "SVRS2016 = '/Users/edinhamzic/Symphony/wb_bangladesh/Bangladesh/output/bbs/data/data_svrs_zila_2015_clean.csv'"
   ]
  },
  {
   "cell_type": "code",
   "execution_count": null,
   "metadata": {},
   "outputs": [],
   "source": [
    "svrs_2011 = pd.read_csv(SVRS2011)\n",
    "svrs_2011['district'] = svrs_2011['district'].str.replace(' Zila', '')\n",
    "display(svrs_2011.head())\n",
    "svrs_2016 = pd.read_csv(SVRS2016)\n",
    "display(svrs_2016.head())\n",
    "svrs_2011, svrs_2016 = intersect_dfs(input_df1=svrs_2011, input_df2=svrs_2016)\n",
    "print(svrs_2011.columns)\n",
    "print(svrs_2016.columns)"
   ]
  },
  {
   "cell_type": "code",
   "execution_count": null,
   "metadata": {},
   "outputs": [],
   "source": [
    "geo_svrs_2011 = match_districts(ref_df=geo, ref_match='DistrictName', input_df=svrs_2011, input_match='district')\n",
    "geo_svrs_2016 = match_districts(ref_df=geo, ref_match='DistrictName', input_df=svrs_2016, input_match='district')"
   ]
  },
  {
   "cell_type": "code",
   "execution_count": null,
   "metadata": {},
   "outputs": [],
   "source": [
    "print(svrs_2011.shape)\n",
    "print(svrs_2016.shape)\n",
    "svrs_2011 = svrs_2011.merge(geo_svrs_2011, how='left', left_on='district', right_on='Geo')\n",
    "svrs_2016 = svrs_2016.merge(geo_svrs_2016, how='left', left_on='district', right_on='Geo')\n",
    "svrs_2011 = svrs_2011.drop(['FuzzRatio','Geo', 'district', 'year'], axis=1)\n",
    "svrs_2016 = svrs_2016.drop(['FuzzRatio','Geo', 'district', 'year'], axis=1)\n",
    "print(svrs_2011.shape)\n",
    "print(svrs_2016.shape)"
   ]
  },
  {
   "cell_type": "code",
   "execution_count": null,
   "metadata": {},
   "outputs": [],
   "source": [
    "print(svrs_2011['rate_maternal_mortality'].mean())\n",
    "print(svrs_2016['rate_maternal_mortality'].mean())"
   ]
  },
  {
   "cell_type": "markdown",
   "metadata": {},
   "source": [
    "## DHIS2 Data"
   ]
  },
  {
   "cell_type": "code",
   "execution_count": null,
   "metadata": {},
   "outputs": [],
   "source": [
    "DHIS2011 = '/Users/edinhamzic/Symphony/wb_bangladesh/Bangladesh/output/dhis2/health_indicators/District_2011_NAME.csv'\n",
    "DHIS2014 = '/Users/edinhamzic/Symphony/wb_bangladesh/Bangladesh/output/dhis2/health_indicators/District_2014_NAME.csv'\n",
    "DHIS2017 = '/Users/edinhamzic/Symphony/wb_bangladesh/Bangladesh/output/dhis2/health_indicators/District_2017_NAME.csv'"
   ]
  },
  {
   "cell_type": "code",
   "execution_count": null,
   "metadata": {},
   "outputs": [],
   "source": [
    "dhis_2011 = pd.read_csv(DHIS2011)\n",
    "dhis_2011['Geo'] = dhis_2011['True'].str.replace(\" District\", \"\")\n",
    "display(dhis_2011.head())\n",
    "dhis_2016 = pd.read_csv(DHIS2016)\n",
    "dhis_2016['Geo'] = dhis_2016['True'].str.replace(\" District\", \"\")\n",
    "display(dhis_2016.head())\n",
    "dhis_2011, dhis_2016 = intersect_dfs(input_df1=dhis_2011, input_df2=dhis_2016)\n",
    "print(dhis_2011.shape)\n",
    "print(dhis_2016.shape)"
   ]
  },
  {
   "cell_type": "code",
   "execution_count": null,
   "metadata": {},
   "outputs": [],
   "source": [
    "geo_dhis_2011 = match_districts(ref_df=geo, ref_match='DistrictName', input_df=dhis_2011, input_match='Geo')\n",
    "geo_dhis_2016 = match_districts(ref_df=geo, ref_match='DistrictName', input_df=dhis_2016, input_match='Geo')"
   ]
  },
  {
   "cell_type": "code",
   "execution_count": null,
   "metadata": {},
   "outputs": [],
   "source": [
    "print(dhis_2011.shape)\n",
    "print(dhis_2016.shape)\n",
    "dhis_2011 = dhis_2011.merge(geo_dhis_2011, how='left', left_on='Geo', right_on='Geo')\n",
    "dhis_2016 = dhis_2016.merge(geo_dhis_2016, how='left', left_on='Geo', right_on='Geo')\n",
    "dhis_2011 = dhis_2011.drop(['FuzzRatio','Geo',], axis=1)\n",
    "dhis_2016 = dhis_2016.drop(['FuzzRatio','Geo',], axis=1)\n",
    "print(dhis_2011.shape)\n",
    "print(dhis_2016.shape)"
   ]
  },
  {
   "cell_type": "markdown",
   "metadata": {},
   "source": [
    "## DGFP Data"
   ]
  },
  {
   "cell_type": "code",
   "execution_count": null,
   "metadata": {},
   "outputs": [],
   "source": [
    "DGFP2011a = '/Users/edinhamzic/Symphony/wb_bangladesh/Bangladesh/output/dgfp/data/data_dgfp_imp11subdistr_ngothanaprocess_2011.csv'\n",
    "DGFP2011b = '/Users/edinhamzic/Symphony/wb_bangladesh/Bangladesh/output/dgfp/data/data_dgfp_imp11subdistr_thanaprocess_2011.csv'\n",
    "DGFP2011c = '/Users/edinhamzic/Symphony/wb_bangladesh/Bangladesh/output/dgfp/data/data_dgfp_imp12distr_district_monthprocess_2011.csv'\n",
    "DGFP2011d = '/Users/edinhamzic/Symphony/wb_bangladesh/Bangladesh/output/dgfp/data/data_dgfp_imp12distr_ngodistrict_monthprocess_2011.csv'\n",
    "DGFP2011e = '/Users/edinhamzic/Symphony/wb_bangladesh/Bangladesh/output/dgfp/data/data_dgfp_imp12distr_distributionGO_distmonthProcess_2011.csv'\n",
    "DGFP2011 = [DGFP2011a, DGFP2011b, DGFP2011c, DGFP2011d, DGFP2011e]\n",
    "DGFP2016a = '/Users/edinhamzic/Symphony/wb_bangladesh/Bangladesh/output/dgfp/data/data_dgfp_imp11subdistr_ngothanaprocess_2016.csv'\n",
    "DGFP2016b = '/Users/edinhamzic/Symphony/wb_bangladesh/Bangladesh/output/dgfp/data/data_dgfp_imp11subdistr_thanaprocess_2016.csv'\n",
    "DGFP2016c = '/Users/edinhamzic/Symphony/wb_bangladesh/Bangladesh/output/dgfp/data/data_dgfp_imp12distr_district_monthprocess_2016.csv'\n",
    "DGFP2016d = '/Users/edinhamzic/Symphony/wb_bangladesh/Bangladesh/output/dgfp/data/data_dgfp_imp12distr_ngodistrict_monthprocess_2016.csv'\n",
    "DGFP2016e = '/Users/edinhamzic/Symphony/wb_bangladesh/Bangladesh/output/dgfp/data/data_dgfp_imp12distr_distributionGO_distmonthProcess_2016.csv'\n",
    "\n",
    "DGFP2016 = [DGFP2016a, DGFP2016b, DGFP2016c, DGFP2016d, DGFP2016e]"
   ]
  },
  {
   "cell_type": "code",
   "execution_count": null,
   "metadata": {},
   "outputs": [],
   "source": [
    "dgfp2011 = read_dgfp(files_list=DGFP2011)\n",
    "dgfp2016 = read_dgfp(files_list=DGFP2016)"
   ]
  },
  {
   "cell_type": "markdown",
   "metadata": {},
   "source": []
  },
  {
   "cell_type": "code",
   "execution_count": null,
   "metadata": {},
   "outputs": [],
   "source": [
    "dgfp2011[DGFP2011e]['distr_GOdistr_GOfemalepn'].sum()"
   ]
  },
  {
   "cell_type": "code",
   "execution_count": null,
   "metadata": {},
   "outputs": [],
   "source": [
    "dgfp2011df = pd.concat([dgfp2011[DGFP2011a], \n",
    "                        dgfp2011[DGFP2011b].drop('geo', axis=1), \n",
    "                        dgfp2011[DGFP2011c].drop('geo', axis=1),\n",
    "                        dgfp2011[DGFP2011d].drop('geo', axis=1),\n",
    "                        dgfp2011[DGFP2011e].drop('geo', axis=1)], axis=1)\n",
    "print(dgfp2011df.shape)\n",
    "print(dgfp2011df.columns)\n",
    "dgfp2016df = pd.concat([dgfp2016[DGFP2016a], \n",
    "                        dgfp2016[DGFP2016b].drop('geo', axis=1), \n",
    "                        dgfp2016[DGFP2016c].drop('geo', axis=1), \n",
    "                        dgfp2016[DGFP2016d].drop('geo', axis=1),\n",
    "                        dgfp2016[DGFP2016e].drop('geo', axis=1)], axis=1)\n",
    "print(dgfp2016df.shape)\n",
    "print(dgfp2016df.columns)"
   ]
  },
  {
   "cell_type": "code",
   "execution_count": null,
   "metadata": {},
   "outputs": [],
   "source": [
    "dgfp2011df, dgfp2016df = intersect_dfs(input_df1= dgfp2011df, input_df2= dgfp2016df)"
   ]
  },
  {
   "cell_type": "code",
   "execution_count": null,
   "metadata": {},
   "outputs": [],
   "source": [
    "dgfp2011df[\"geo\"] = dgfp2011df[\"geo\"].astype(str)\n",
    "print(dgfp2011df.shape)\n",
    "dgfp2011df = dgfp2011df.merge(geo, how='left', left_on=\"geo\", right_on=\"DistrictGeo\")\n",
    "print(dgfp2011df.shape)\n",
    "dgfp2011df = dgfp2011df.drop('geo', axis=1)"
   ]
  },
  {
   "cell_type": "code",
   "execution_count": null,
   "metadata": {},
   "outputs": [],
   "source": [
    "dgfp2016df[\"geo\"] = dgfp2016df[\"geo\"].astype(str)\n",
    "print(dgfp2016df.shape)\n",
    "dgfp2016df = dgfp2016df.merge(geo, how='left', left_on=\"geo\", right_on=\"DistrictGeo\")\n",
    "print(dgfp2016df.shape)\n",
    "dgfp2016df = dgfp2016df.drop('geo', axis=1)"
   ]
  },
  {
   "cell_type": "code",
   "execution_count": null,
   "metadata": {},
   "outputs": [],
   "source": [
    "dgfp2011df.columns"
   ]
  },
  {
   "cell_type": "markdown",
   "metadata": {},
   "source": [
    "## Demographics"
   ]
  },
  {
   "cell_type": "code",
   "execution_count": null,
   "metadata": {
    "scrolled": false
   },
   "outputs": [],
   "source": [
    "woman15_45_2011 = '/Users/edinhamzic/Symphony/wb_bangladesh/Bangladesh/output/bbs/data/data_svrs_zila_2012.csv'\n",
    "woman15_45_2016 = '/Users/edinhamzic/Symphony/wb_bangladesh/Bangladesh/output/bbs/data/data_svrs_zila_2015.csv'\n",
    "TOTAL_POP2011 = 144043697\n",
    "TOTAL_POP2016 = 162951560\n",
    "data_svrs2011 = pd.read_csv(woman15_45_2011)\n",
    "data_svrs2011['district'] = data_svrs2011['district'].str.replace(' Zila', '')\n",
    "data_svrs2016 = pd.read_csv(woman15_45_2016)\n",
    "data_svrs2011['total_bang_svrs'] = data_svrs2011['total_pop'].sum()\n",
    "data_svrs2016['total_bang_svrs'] = data_svrs2016['total_pop'].sum()\n",
    "data_svrs2011['total_bang'] = TOTAL_POP2011\n",
    "data_svrs2016['total_bang'] = TOTAL_POP2016\n",
    "\n",
    "data_svrs2011['total_pop_percent'] = data_svrs2011['total_pop']/data_svrs2011['total_pop'].sum()\n",
    "data_svrs2016['total_pop_percent'] = data_svrs2016['total_pop']/data_svrs2016['total_pop'].sum()\n",
    "data_svrs2011['total_pop_abs'] = data_svrs2011['total_pop_percent']*TOTAL_POP2011\n",
    "data_svrs2016['total_pop_abs'] = data_svrs2016['total_pop_percent']*TOTAL_POP2016\n",
    "data_svrs2011['woman15_45_abs'] = np.round(data_svrs2011['total_pop_abs'] * data_svrs2011['women_15.45y']/data_svrs2011['total_pop'])\n",
    "data_svrs2016['woman15_45_abs'] = np.round(data_svrs2016['total_pop_abs'] * data_svrs2016['women_15.45y']/data_svrs2016['total_pop'])\n",
    "display(data_svrs2011[['total_bang_svrs', 'total_pop', 'total_pop_percent', 'women_15.45y',\n",
    "                      'total_pop_abs', 'woman15_45_abs', 'total_bang']].head())\n",
    "display(data_svrs2016[['total_bang_svrs', 'total_pop', 'total_pop_percent', 'women_15.45y',\n",
    "                      'total_pop_abs', 'woman15_45_abs', 'total_bang']].head())"
   ]
  },
  {
   "cell_type": "code",
   "execution_count": null,
   "metadata": {},
   "outputs": [],
   "source": [
    "geo_svrs_2011s = match_districts(ref_df=geo, ref_match='DistrictName', input_df=data_svrs2011, input_match='district')\n",
    "geo_svrs_2016s = match_districts(ref_df=geo, ref_match='DistrictName', input_df=data_svrs2016, input_match='district')\n",
    "print(data_svrs2011.shape)\n",
    "print(data_svrs2016.shape)\n",
    "data_svrs2011 = data_svrs2011.merge(geo_svrs_2011s, how='left', left_on='district', right_on='Geo')\n",
    "data_svrs2016 = data_svrs2016.merge(geo_svrs_2016s, how='left', left_on='district', right_on='Geo')\n",
    "data_svrs2011 = data_svrs2011.drop(['FuzzRatio','Geo', 'district', 'year'], axis=1)\n",
    "data_svrs2016 = data_svrs2016.drop(['FuzzRatio','Geo', 'district', 'year'], axis=1)\n",
    "print(data_svrs2011.shape)\n",
    "print(data_svrs2016.shape)"
   ]
  },
  {
   "cell_type": "markdown",
   "metadata": {},
   "source": [
    "## Recalculating indicators"
   ]
  },
  {
   "cell_type": "code",
   "execution_count": null,
   "metadata": {},
   "outputs": [],
   "source": [
    "print(sorted(data_svrs2011['DistrictName']) == sorted(dgfp2011df['DistrictName']))\n",
    "print(sorted(data_svrs2016['DistrictName']) == sorted(dgfp2016df['DistrictName']))"
   ]
  },
  {
   "cell_type": "code",
   "execution_count": null,
   "metadata": {},
   "outputs": [],
   "source": [
    "dgfp2011df = dgfp2011df.sort_values(\"DistrictName\")\n",
    "data_svrs2011 = data_svrs2011.sort_values(\"DistrictName\")\n",
    "dgfp2011df, variables = distrGO_rates(input_df=dgfp2011df, pattern=\"distr_GO\", \n",
    "              denominator_female=data_svrs2011['woman15_45_abs'], \n",
    "              denominator_male=data_svrs2011['total_bang'])\n",
    "display(dgfp2011df[variables].head())"
   ]
  },
  {
   "cell_type": "code",
   "execution_count": null,
   "metadata": {},
   "outputs": [],
   "source": [
    "dgfp2016df = dgfp2016df.sort_values(by =\"DistrictName\")\n",
    "data_svrs2016 = data_svrs2016.sort_values(\"DistrictName\")\n",
    "dgfp2016df, variables = distrGO_rates(input_df=dgfp2016df, pattern=\"distr_GO\", \n",
    "              denominator_female=data_svrs2016['woman15_45_abs'], \n",
    "              denominator_male=data_svrs2016['total_bang'])\n",
    "display(dgfp2016df[variables].head())"
   ]
  },
  {
   "cell_type": "code",
   "execution_count": null,
   "metadata": {},
   "outputs": [],
   "source": [
    "dgfp2011df.head()"
   ]
  },
  {
   "cell_type": "code",
   "execution_count": null,
   "metadata": {},
   "outputs": [],
   "source": [
    "dgfp2016df.head()"
   ]
  },
  {
   "cell_type": "markdown",
   "metadata": {},
   "source": [
    "## DHS Data"
   ]
  },
  {
   "cell_type": "code",
   "execution_count": null,
   "metadata": {},
   "outputs": [],
   "source": [
    "DHS2011 = '/Users/edinhamzic/Symphony/wb_bangladesh/Bangladesh/output/dhs/data/data_dhs_2011_clean.csv' \n",
    "DHS2014 = '/Users/edinhamzic/Symphony/wb_bangladesh/Bangladesh/output/dhs/data/data_dhs_2014_clean.csv' "
   ]
  },
  {
   "cell_type": "code",
   "execution_count": null,
   "metadata": {},
   "outputs": [],
   "source": [
    "dhs_2011 = pd.read_csv(DHS2011)\n",
    "display(dhs_2011.head())\n",
    "dhs_2014 = pd.read_csv(DHS2014)\n",
    "display(dhs_2014.head())"
   ]
  },
  {
   "cell_type": "code",
   "execution_count": null,
   "metadata": {},
   "outputs": [],
   "source": [
    "print(geo.shape)\n",
    "print(dhs_2011.shape)\n",
    "geo_dhs_2011 = match_districts(ref_df=geo, ref_match='DistrictName', input_df=dhs_2011, input_match='district')\n",
    "print(geo_dhs_2011.shape)\n",
    "print(\"#\"*100)\n",
    "print(geo.shape)\n",
    "print(dhs_2014.shape)\n",
    "geo_dhs_2014 = match_districts(ref_df=geo, ref_match='DistrictName', input_df=dhs_2014, input_match='district')\n",
    "print(geo_dhs_2014.shape)"
   ]
  },
  {
   "cell_type": "code",
   "execution_count": null,
   "metadata": {},
   "outputs": [],
   "source": [
    "print(dhs_2011.shape)\n",
    "print(dhs_2014.shape)\n",
    "dhs_2011 = dhs_2011.merge(geo_dhs_2011, how='left', left_on='district', right_on='Geo')\n",
    "dhs_2014 = dhs_2014.merge(geo_dhs_2014, how='left', left_on='district', right_on='Geo')\n",
    "dhs_2011 = dhs_2011.drop(['FuzzRatio','Geo', 'district', 'year'], axis=1)\n",
    "dhs_2014 = dhs_2014.drop(['FuzzRatio','Geo', 'district', 'year'], axis=1)\n",
    "print(dhs_2011.shape)\n",
    "print(dhs_2014.shape)"
   ]
  },
  {
   "cell_type": "markdown",
   "metadata": {},
   "source": [
    "### Renaming DHS data sets from 2014 to 2016\n"
   ]
  },
  {
   "cell_type": "code",
   "execution_count": null,
   "metadata": {},
   "outputs": [],
   "source": [
    "dhs_2011, dhs_2016 = intersect_dfs(input_df1= dhs_2011, input_df2= dhs_2014)"
   ]
  },
  {
   "cell_type": "code",
   "execution_count": null,
   "metadata": {},
   "outputs": [],
   "source": [
    "dhs_2011.equals(dhs_2016)"
   ]
  },
  {
   "cell_type": "markdown",
   "metadata": {},
   "source": [
    "## Combine data"
   ]
  },
  {
   "cell_type": "code",
   "execution_count": null,
   "metadata": {
    "scrolled": true
   },
   "outputs": [],
   "source": [
    "for ces, svrs, dhis, dgfp, dhs in zip(sorted(ces_2011['DistrictName']), sorted(svrs_2011['DistrictName']), \n",
    "                                 sorted(dhis_2011['DistrictName']), sorted(dgfp2011df['DistrictName']),\n",
    "                                 sorted(dhs_2011['DistrictName'])):\n",
    "    print(\"\\n -------------------\")\n",
    "    print(ces, svrs, dhis, dgfp, dhs)\n",
    "    print(f\"CES vs SVRS: {ces == svrs}\")\n",
    "    print(f\"CES vs DHIS: {ces == dhis}\")\n",
    "    print(f\"CES vs DGFP: {ces == dgfp}\")\n",
    "    print(f\"CES vs DHS: {ces == dhs}\")\n",
    "    print(f\"SVRS vs DHIS: {svrs == dhis}\")\n",
    "    print(f\"SVRS vs DGFP: {svrs == dgfp}\")\n",
    "    print(f\"SVRS vs DHS: {svrs == dhs}\")\n",
    "    print(f\"DHIS vs DGFP: {dhis == dgfp}\")\n",
    "    print(f\"DHIS vs DHS: {dhis == dhs}\")\n",
    "    print(f\"DHS vs DGFP: {dhs == dgfp}\")"
   ]
  },
  {
   "cell_type": "code",
   "execution_count": null,
   "metadata": {
    "scrolled": true
   },
   "outputs": [],
   "source": [
    "for ces, svrs, dhis, dgfp, dhs in zip(sorted(ces_2016['DistrictName']), sorted(svrs_2016['DistrictName']), \n",
    "                                 sorted(dhis_2016['DistrictName']), sorted(dgfp2016df['DistrictName']),\n",
    "                                 sorted(dhs_2016['DistrictName'])):\n",
    "    print(\"\\n -------------------\")\n",
    "    print(ces, svrs, dhis, dgfp, dhs)\n",
    "    print(f\"CES vs SVRS: {ces == svrs}\")\n",
    "    print(f\"CES vs DHIS: {ces == dhis}\")\n",
    "    print(f\"CES vs DGFP: {ces == dgfp}\")\n",
    "    print(f\"CES vs DHS: {ces == dhs}\")\n",
    "    print(f\"SVRS vs DHIS: {svrs == dhis}\")\n",
    "    print(f\"SVRS vs DGFP: {svrs == dgfp}\")\n",
    "    print(f\"SVRS vs DHS: {svrs == dhs}\")\n",
    "    print(f\"DHIS vs DGFP: {dhis == dgfp}\")\n",
    "    print(f\"DHIS vs DHS: {dhis == dhs}\")\n",
    "    print(f\"DHS vs DGFP: {dhs == dgfp}\")"
   ]
  },
  {
   "cell_type": "markdown",
   "metadata": {},
   "source": [
    "## Combining data"
   ]
  },
  {
   "cell_type": "code",
   "execution_count": null,
   "metadata": {
    "scrolled": true
   },
   "outputs": [],
   "source": [
    "for a,b,c,d in zip(dgfp2011[DGFP2011a]['geo'], dgfp2011[DGFP2011b]['geo'], \n",
    "                   dgfp2011[DGFP2011c]['geo'], dgfp2011[DGFP2011d]['geo']):\n",
    "    print(a,b,c,d)\n",
    "    print(a == b)\n",
    "    print(a == c)\n",
    "    print(a == d)\n",
    "    print(b == c)\n",
    "    print(b == d)\n",
    "    print(c == d)\n",
    "    print(\"\\n -----------\")"
   ]
  },
  {
   "cell_type": "markdown",
   "metadata": {},
   "source": [
    "### Preparing 2011"
   ]
  },
  {
   "cell_type": "code",
   "execution_count": null,
   "metadata": {},
   "outputs": [],
   "source": [
    "drop_vars = ['DistrictName', 'DistrictGeo']\n",
    "ces_2011 = ces_2011.sort_values(by='DistrictName').reset_index(drop=True)\n",
    "svrs_2011 = svrs_2011.sort_values(by='DistrictName').reset_index(drop=True)\n",
    "dhis_2011 = dhis_2011.sort_values(by='DistrictName').reset_index(drop=True)\n",
    "dgfp2011df = dgfp2011df.sort_values(by='DistrictName').reset_index(drop=True)\n",
    "dhs_2011 = dhs_2011.sort_values(by='DistrictName').reset_index(drop=True)\n",
    "\n",
    "d2011 = [ces_2011, svrs_2011.drop(drop_vars,axis=1), dhis_2011.drop(drop_vars,axis=1),\n",
    "         dgfp2011df.drop(drop_vars,axis=1), dhs_2011.drop(drop_vars, axis=1)]\n",
    "df2011 = pd.concat(d2011, axis=1)\n",
    "df2011.shape"
   ]
  },
  {
   "cell_type": "markdown",
   "metadata": {},
   "source": [
    "### Preparing 2016"
   ]
  },
  {
   "cell_type": "code",
   "execution_count": null,
   "metadata": {},
   "outputs": [],
   "source": [
    "ces_2016 = ces_2016.sort_values(by='DistrictName').reset_index(drop=True)\n",
    "svrs_2016 = svrs_2016.sort_values(by='DistrictName').reset_index(drop=True)\n",
    "dhis_2016 = dhis_2016.sort_values(by='DistrictName').reset_index(drop=True)\n",
    "dgfp2016df = dgfp2016df.sort_values(by='DistrictName').reset_index(drop=True)\n",
    "d2016 = [ces_2016, svrs_2016.drop(drop_vars,axis=1),\n",
    "         dhis_2016.drop(drop_vars,axis=1), dgfp2016df.drop(drop_vars,axis=1),\n",
    "         dhs_2016.drop(drop_vars, axis=1)]\n",
    "df2016 = pd.concat(d2016, axis=1)\n",
    "df2016.shape"
   ]
  },
  {
   "cell_type": "markdown",
   "metadata": {},
   "source": [
    "## Determining outcome variables "
   ]
  },
  {
   "cell_type": "code",
   "execution_count": null,
   "metadata": {},
   "outputs": [],
   "source": [
    "print(df2011['rate_maternal_mortality'].mean())\n",
    "print(df2016['rate_maternal_mortality'].mean())"
   ]
  },
  {
   "cell_type": "code",
   "execution_count": null,
   "metadata": {
    "scrolled": true
   },
   "outputs": [],
   "source": [
    "print(df2011['rate_under5y_mortality'].mean())\n",
    "print(df2016['rate_under5y_mortality'].mean())"
   ]
  },
  {
   "cell_type": "code",
   "execution_count": null,
   "metadata": {},
   "outputs": [],
   "source": [
    "print(df2011['prop_antenatal_coverage'].mean())\n",
    "print(df2016['prop_antenatal_coverage'].mean())"
   ]
  },
  {
   "cell_type": "code",
   "execution_count": null,
   "metadata": {},
   "outputs": [],
   "source": [
    "print(df2011['prop_unmet_need_family_planing'].mean())\n",
    "print(df2016['prop_unmet_need_family_planing'].mean())"
   ]
  },
  {
   "cell_type": "markdown",
   "metadata": {},
   "source": [
    "```\n",
    "print(df2011['ORS_RHF_ORT'].mean())\n",
    "print(df2016['ORS_RHF_ORT'].mean())\n",
    "```"
   ]
  },
  {
   "cell_type": "code",
   "execution_count": null,
   "metadata": {},
   "outputs": [],
   "source": [
    "df2011.shape\n",
    "468-3"
   ]
  },
  {
   "cell_type": "code",
   "execution_count": null,
   "metadata": {},
   "outputs": [],
   "source": [
    "list(df2011.columns)"
   ]
  },
  {
   "cell_type": "code",
   "execution_count": null,
   "metadata": {},
   "outputs": [],
   "source": [
    "df2011.to_csv('/Users/edinhamzic/Symphony/wb_bangladesh/Bangladesh/output/all/all2011.csv', index=False, index_label=False)\n",
    "df2016.to_csv('/Users/edinhamzic/Symphony/wb_bangladesh/Bangladesh/output/all/all2016.csv', index=False, index_label=False)"
   ]
  },
  {
   "cell_type": "code",
   "execution_count": null,
   "metadata": {},
   "outputs": [],
   "source": [
    "df2011['year'] = 2011\n",
    "df2016['year'] = 2016\n",
    "tmp = pd.concat([df2011, df2016], axis=0)\n",
    "tmp.to_csv('/Users/edinhamzic/Symphony/wb_bangladesh/Bangladesh/output/all/all.csv')\n",
    "print(tmp.shape)"
   ]
  }
 ],
 "metadata": {
  "kernelspec": {
   "display_name": "Python 3",
   "language": "python",
   "name": "python3"
  },
  "language_info": {
   "codemirror_mode": {
    "name": "ipython",
    "version": 3
   },
   "file_extension": ".py",
   "mimetype": "text/x-python",
   "name": "python",
   "nbconvert_exporter": "python",
   "pygments_lexer": "ipython3",
   "version": "3.7.2"
  }
 },
 "nbformat": 4,
 "nbformat_minor": 2
}
