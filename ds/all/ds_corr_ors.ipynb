{
 "cells": [
  {
   "cell_type": "markdown",
   "metadata": {},
   "source": [
    "# Correlation analysis, CCA and feature importance\n",
    "\n",
    "## Outcome variables:\n",
    "- Maternal mortality rate: rate_maternal_mortality\n",
    "- Under 5 mortality rate: rate_under5y_mortality\n",
    "- Antenatal coverage (ANC): prop_antenatal_coverage\n",
    "- Proportion of unmet contraceptive need: prop_unmet_need_family_planing"
   ]
  },
  {
   "cell_type": "code",
   "execution_count": 11,
   "metadata": {},
   "outputs": [],
   "source": [
    "import re\n",
    "import collections\n",
    "import numpy as np\n",
    "import pandas as pd\n",
    "import seaborn as sns\n",
    "import matplotlib.pyplot as plt\n",
    "from sklearn.decomposition import PCA\n",
    "from sklearn.preprocessing import StandardScaler\n",
    "%matplotlib inline"
   ]
  },
  {
   "cell_type": "code",
   "execution_count": 12,
   "metadata": {},
   "outputs": [],
   "source": [
    "def remove_miss_vars(input_df):\n",
    "    df = input_df.copy(deep=True)\n",
    "    remove_list = []\n",
    "    for var in df.columns:\n",
    "        if any(df[var].isna()):\n",
    "            remove_list.append(var)\n",
    "    return df.drop(remove_list, axis=1)\n",
    "\n",
    "def impute_miss_vars(input_df):\n",
    "    df = input_df.copy(deep=True)\n",
    "    for var in df.columns:\n",
    "        if any(df[var].isna()):\n",
    "            df[var].fillna(df[var].mean, inplace=True)\n",
    "    return df\n",
    "\n",
    "def intersect_dfs(input_df1, input_df2):\n",
    "    df1 = input_df1.copy(deep=True)\n",
    "    df2 = input_df2.copy(deep=True)\n",
    "    subset_var = list(set(list(df1.columns)).intersection(set(list(df2.columns))))\n",
    "    return df1[subset_var], df2[subset_var]"
   ]
  },
  {
   "cell_type": "markdown",
   "metadata": {},
   "source": [
    "## STEP 1: Import data and data processing: remove absolute and remove missing values"
   ]
  },
  {
   "cell_type": "code",
   "execution_count": 13,
   "metadata": {},
   "outputs": [],
   "source": [
    "DATA2011 = '/Users/edinhamzic/Symphony/wb_bangladesh/Bangladesh/output/all/all2011.csv'\n",
    "DATA2016 = '/Users/edinhamzic/Symphony/wb_bangladesh/Bangladesh/output/all/all2016.csv'\n",
    "DHIS2_VARS = '/Users/edinhamzic/Symphony/wb_bangladesh/Bangladesh/output/all/DHIS_Rate_Absolute.csv'\n",
    "OUT = '/Users/edinhamzic/Symphony/wb_bangladesh/Bangladesh/output/all/'"
   ]
  },
  {
   "cell_type": "code",
   "execution_count": 14,
   "metadata": {},
   "outputs": [
    {
     "name": "stdout",
     "output_type": "stream",
     "text": [
      "(349, 4)\n",
      "(279, 4)\n"
     ]
    }
   ],
   "source": [
    "d2011 = pd.read_csv(DATA2011)\n",
    "d2016 = pd.read_csv(DATA2016)\n",
    "dhis2vars = pd.read_csv(DHIS2_VARS)\n",
    "print(dhis2vars.shape)\n",
    "tmp = dhis2vars[dhis2vars['Rate_Absolute'] == 'Absolute']\n",
    "print(tmp.shape)\n",
    "vars_remove = list(tmp['Full_name'])"
   ]
  },
  {
   "cell_type": "code",
   "execution_count": 15,
   "metadata": {},
   "outputs": [],
   "source": [
    "d2011 = d2011.drop(vars_remove, axis=1)\n",
    "d2016 = d2016.drop(vars_remove, axis=1)"
   ]
  },
  {
   "cell_type": "code",
   "execution_count": 16,
   "metadata": {},
   "outputs": [
    {
     "name": "stdout",
     "output_type": "stream",
     "text": [
      "(64, 188)\n",
      "(64, 187)\n",
      "(64, 187)\n"
     ]
    },
    {
     "data": {
      "text/html": [
       "<div>\n",
       "<style scoped>\n",
       "    .dataframe tbody tr th:only-of-type {\n",
       "        vertical-align: middle;\n",
       "    }\n",
       "\n",
       "    .dataframe tbody tr th {\n",
       "        vertical-align: top;\n",
       "    }\n",
       "\n",
       "    .dataframe thead th {\n",
       "        text-align: right;\n",
       "    }\n",
       "</style>\n",
       "<table border=\"1\" class=\"dataframe\">\n",
       "  <thead>\n",
       "    <tr style=\"text-align: right;\">\n",
       "      <th></th>\n",
       "      <th>BCG_Children12M</th>\n",
       "      <th>PENTA1_Children23M</th>\n",
       "      <th>OPV2_Children12M</th>\n",
       "      <th>PENTA2_Children12M</th>\n",
       "      <th>PENTA2_Children23M</th>\n",
       "      <th>Fully_Children12M</th>\n",
       "      <th>Measles_Children23M</th>\n",
       "      <th>PENTA1_Children12M</th>\n",
       "      <th>PENTA3_Children12M</th>\n",
       "      <th>TT4_Mother0-11MChildren</th>\n",
       "      <th>...</th>\n",
       "      <th>prop_current_contraceptive</th>\n",
       "      <th>prop_pop_women.1</th>\n",
       "      <th>prop_unmet_need_family_planing</th>\n",
       "      <th>prop_pop_rural_women.1</th>\n",
       "      <th>prop_female_head</th>\n",
       "      <th>prop_pop_rural.1</th>\n",
       "      <th>prop_women_15.45y_overwomen.1</th>\n",
       "      <th>prop_antenatal_coverage</th>\n",
       "      <th>dependency_ratio.1</th>\n",
       "      <th>prop_caesarean</th>\n",
       "    </tr>\n",
       "    <tr>\n",
       "      <th>DistrictName</th>\n",
       "      <th></th>\n",
       "      <th></th>\n",
       "      <th></th>\n",
       "      <th></th>\n",
       "      <th></th>\n",
       "      <th></th>\n",
       "      <th></th>\n",
       "      <th></th>\n",
       "      <th></th>\n",
       "      <th></th>\n",
       "      <th></th>\n",
       "      <th></th>\n",
       "      <th></th>\n",
       "      <th></th>\n",
       "      <th></th>\n",
       "      <th></th>\n",
       "      <th></th>\n",
       "      <th></th>\n",
       "      <th></th>\n",
       "      <th></th>\n",
       "      <th></th>\n",
       "    </tr>\n",
       "  </thead>\n",
       "  <tbody>\n",
       "    <tr>\n",
       "      <th>Bagerhat</th>\n",
       "      <td>98.1</td>\n",
       "      <td>98.1</td>\n",
       "      <td>96.0</td>\n",
       "      <td>96.0</td>\n",
       "      <td>96.0</td>\n",
       "      <td>78.3</td>\n",
       "      <td>88.1</td>\n",
       "      <td>98.1</td>\n",
       "      <td>85.6</td>\n",
       "      <td>52.9</td>\n",
       "      <td>...</td>\n",
       "      <td>65.52</td>\n",
       "      <td>44.85</td>\n",
       "      <td>7.89</td>\n",
       "      <td>5.67</td>\n",
       "      <td>11.29</td>\n",
       "      <td>11.48</td>\n",
       "      <td>46.74</td>\n",
       "      <td>29.91</td>\n",
       "      <td>74.37</td>\n",
       "      <td>15.74</td>\n",
       "    </tr>\n",
       "    <tr>\n",
       "      <th>Bandarban</th>\n",
       "      <td>94.3</td>\n",
       "      <td>94.3</td>\n",
       "      <td>90.8</td>\n",
       "      <td>90.2</td>\n",
       "      <td>90.2</td>\n",
       "      <td>73.1</td>\n",
       "      <td>82.3</td>\n",
       "      <td>94.3</td>\n",
       "      <td>83.8</td>\n",
       "      <td>54.3</td>\n",
       "      <td>...</td>\n",
       "      <td>45.45</td>\n",
       "      <td>127.03</td>\n",
       "      <td>27.27</td>\n",
       "      <td>0.00</td>\n",
       "      <td>11.29</td>\n",
       "      <td>0.00</td>\n",
       "      <td>35.56</td>\n",
       "      <td>30.00</td>\n",
       "      <td>107.50</td>\n",
       "      <td>0.00</td>\n",
       "    </tr>\n",
       "    <tr>\n",
       "      <th>Barguna</th>\n",
       "      <td>100.0</td>\n",
       "      <td>100.0</td>\n",
       "      <td>98.6</td>\n",
       "      <td>98.6</td>\n",
       "      <td>98.6</td>\n",
       "      <td>74.4</td>\n",
       "      <td>88.1</td>\n",
       "      <td>100.0</td>\n",
       "      <td>87.3</td>\n",
       "      <td>47.6</td>\n",
       "      <td>...</td>\n",
       "      <td>72.36</td>\n",
       "      <td>25.33</td>\n",
       "      <td>11.14</td>\n",
       "      <td>2.98</td>\n",
       "      <td>2.97</td>\n",
       "      <td>6.48</td>\n",
       "      <td>49.26</td>\n",
       "      <td>37.91</td>\n",
       "      <td>70.73</td>\n",
       "      <td>5.21</td>\n",
       "    </tr>\n",
       "    <tr>\n",
       "      <th>Barisal</th>\n",
       "      <td>98.6</td>\n",
       "      <td>98.6</td>\n",
       "      <td>98.1</td>\n",
       "      <td>98.1</td>\n",
       "      <td>98.1</td>\n",
       "      <td>73.4</td>\n",
       "      <td>86.8</td>\n",
       "      <td>98.6</td>\n",
       "      <td>86.9</td>\n",
       "      <td>52.4</td>\n",
       "      <td>...</td>\n",
       "      <td>64.33</td>\n",
       "      <td>24.48</td>\n",
       "      <td>13.31</td>\n",
       "      <td>4.37</td>\n",
       "      <td>5.10</td>\n",
       "      <td>8.22</td>\n",
       "      <td>48.17</td>\n",
       "      <td>35.21</td>\n",
       "      <td>75.53</td>\n",
       "      <td>13.06</td>\n",
       "    </tr>\n",
       "    <tr>\n",
       "      <th>Bhola</th>\n",
       "      <td>100.0</td>\n",
       "      <td>100.0</td>\n",
       "      <td>96.5</td>\n",
       "      <td>95.8</td>\n",
       "      <td>95.8</td>\n",
       "      <td>74.7</td>\n",
       "      <td>85.0</td>\n",
       "      <td>100.0</td>\n",
       "      <td>86.3</td>\n",
       "      <td>67.6</td>\n",
       "      <td>...</td>\n",
       "      <td>68.40</td>\n",
       "      <td>26.74</td>\n",
       "      <td>10.81</td>\n",
       "      <td>3.86</td>\n",
       "      <td>5.65</td>\n",
       "      <td>7.40</td>\n",
       "      <td>45.49</td>\n",
       "      <td>25.64</td>\n",
       "      <td>80.16</td>\n",
       "      <td>3.75</td>\n",
       "    </tr>\n",
       "  </tbody>\n",
       "</table>\n",
       "<p>5 rows × 187 columns</p>\n",
       "</div>"
      ],
      "text/plain": [
       "              BCG_Children12M  PENTA1_Children23M  OPV2_Children12M  \\\n",
       "DistrictName                                                          \n",
       "Bagerhat                 98.1                98.1              96.0   \n",
       "Bandarban                94.3                94.3              90.8   \n",
       "Barguna                 100.0               100.0              98.6   \n",
       "Barisal                  98.6                98.6              98.1   \n",
       "Bhola                   100.0               100.0              96.5   \n",
       "\n",
       "              PENTA2_Children12M  PENTA2_Children23M  Fully_Children12M  \\\n",
       "DistrictName                                                              \n",
       "Bagerhat                    96.0                96.0               78.3   \n",
       "Bandarban                   90.2                90.2               73.1   \n",
       "Barguna                     98.6                98.6               74.4   \n",
       "Barisal                     98.1                98.1               73.4   \n",
       "Bhola                       95.8                95.8               74.7   \n",
       "\n",
       "              Measles_Children23M  PENTA1_Children12M  PENTA3_Children12M  \\\n",
       "DistrictName                                                                \n",
       "Bagerhat                     88.1                98.1                85.6   \n",
       "Bandarban                    82.3                94.3                83.8   \n",
       "Barguna                      88.1               100.0                87.3   \n",
       "Barisal                      86.8                98.6                86.9   \n",
       "Bhola                        85.0               100.0                86.3   \n",
       "\n",
       "              TT4_Mother0-11MChildren  ...  prop_current_contraceptive  \\\n",
       "DistrictName                           ...                               \n",
       "Bagerhat                         52.9  ...                       65.52   \n",
       "Bandarban                        54.3  ...                       45.45   \n",
       "Barguna                          47.6  ...                       72.36   \n",
       "Barisal                          52.4  ...                       64.33   \n",
       "Bhola                            67.6  ...                       68.40   \n",
       "\n",
       "              prop_pop_women.1  prop_unmet_need_family_planing  \\\n",
       "DistrictName                                                     \n",
       "Bagerhat                 44.85                            7.89   \n",
       "Bandarban               127.03                           27.27   \n",
       "Barguna                  25.33                           11.14   \n",
       "Barisal                  24.48                           13.31   \n",
       "Bhola                    26.74                           10.81   \n",
       "\n",
       "              prop_pop_rural_women.1  prop_female_head  prop_pop_rural.1  \\\n",
       "DistrictName                                                               \n",
       "Bagerhat                        5.67             11.29             11.48   \n",
       "Bandarban                       0.00             11.29              0.00   \n",
       "Barguna                         2.98              2.97              6.48   \n",
       "Barisal                         4.37              5.10              8.22   \n",
       "Bhola                           3.86              5.65              7.40   \n",
       "\n",
       "              prop_women_15.45y_overwomen.1  prop_antenatal_coverage  \\\n",
       "DistrictName                                                           \n",
       "Bagerhat                              46.74                    29.91   \n",
       "Bandarban                             35.56                    30.00   \n",
       "Barguna                               49.26                    37.91   \n",
       "Barisal                               48.17                    35.21   \n",
       "Bhola                                 45.49                    25.64   \n",
       "\n",
       "              dependency_ratio.1  prop_caesarean  \n",
       "DistrictName                                      \n",
       "Bagerhat                   74.37           15.74  \n",
       "Bandarban                 107.50            0.00  \n",
       "Barguna                    70.73            5.21  \n",
       "Barisal                    75.53           13.06  \n",
       "Bhola                      80.16            3.75  \n",
       "\n",
       "[5 rows x 187 columns]"
      ]
     },
     "execution_count": 16,
     "metadata": {},
     "output_type": "execute_result"
    }
   ],
   "source": [
    "d2011.shape\n",
    "d2011 = d2011.set_index(['DistrictName'])\n",
    "print(d2011.shape)\n",
    "d2011 = d2011.drop(['DistrictGeo'], axis=1)\n",
    "print(d2011.shape)\n",
    "subset_vars = [var for var, var_type in zip(d2011.dtypes.index, d2011.dtypes) if str(var_type) != 'object'] \n",
    "d2011 = d2011[subset_vars]\n",
    "d2011 = d2011.fillna(d2011.mean())\n",
    "#d2011 = remove_miss_vars(input_df=d2011)\n",
    "print(d2011.shape)\n",
    "d2011.head()"
   ]
  },
  {
   "cell_type": "code",
   "execution_count": 17,
   "metadata": {},
   "outputs": [
    {
     "name": "stdout",
     "output_type": "stream",
     "text": [
      "(64, 188)\n",
      "(64, 187)\n",
      "(64, 187)\n"
     ]
    },
    {
     "data": {
      "text/html": [
       "<div>\n",
       "<style scoped>\n",
       "    .dataframe tbody tr th:only-of-type {\n",
       "        vertical-align: middle;\n",
       "    }\n",
       "\n",
       "    .dataframe tbody tr th {\n",
       "        vertical-align: top;\n",
       "    }\n",
       "\n",
       "    .dataframe thead th {\n",
       "        text-align: right;\n",
       "    }\n",
       "</style>\n",
       "<table border=\"1\" class=\"dataframe\">\n",
       "  <thead>\n",
       "    <tr style=\"text-align: right;\">\n",
       "      <th></th>\n",
       "      <th>BCG_Children12M</th>\n",
       "      <th>PENTA1_Children23M</th>\n",
       "      <th>OPV2_Children12M</th>\n",
       "      <th>PENTA2_Children12M</th>\n",
       "      <th>PENTA2_Children23M</th>\n",
       "      <th>Fully_Children12M</th>\n",
       "      <th>Measles_Children23M</th>\n",
       "      <th>PENTA1_Children12M</th>\n",
       "      <th>PENTA3_Children12M</th>\n",
       "      <th>TT4_Mother0-11MChildren</th>\n",
       "      <th>...</th>\n",
       "      <th>prop_current_contraceptive</th>\n",
       "      <th>prop_pop_women.1</th>\n",
       "      <th>prop_unmet_need_family_planing</th>\n",
       "      <th>prop_pop_rural_women.1</th>\n",
       "      <th>prop_female_head</th>\n",
       "      <th>prop_pop_rural.1</th>\n",
       "      <th>prop_women_15.45y_overwomen.1</th>\n",
       "      <th>prop_antenatal_coverage</th>\n",
       "      <th>dependency_ratio.1</th>\n",
       "      <th>prop_caesarean</th>\n",
       "    </tr>\n",
       "    <tr>\n",
       "      <th>DistrictName</th>\n",
       "      <th></th>\n",
       "      <th></th>\n",
       "      <th></th>\n",
       "      <th></th>\n",
       "      <th></th>\n",
       "      <th></th>\n",
       "      <th></th>\n",
       "      <th></th>\n",
       "      <th></th>\n",
       "      <th></th>\n",
       "      <th></th>\n",
       "      <th></th>\n",
       "      <th></th>\n",
       "      <th></th>\n",
       "      <th></th>\n",
       "      <th></th>\n",
       "      <th></th>\n",
       "      <th></th>\n",
       "      <th></th>\n",
       "      <th></th>\n",
       "      <th></th>\n",
       "    </tr>\n",
       "  </thead>\n",
       "  <tbody>\n",
       "    <tr>\n",
       "      <th>Bagerhat</th>\n",
       "      <td>98.2</td>\n",
       "      <td>97.4</td>\n",
       "      <td>96.8</td>\n",
       "      <td>96.8</td>\n",
       "      <td>97.1</td>\n",
       "      <td>86.8</td>\n",
       "      <td>92.2</td>\n",
       "      <td>97.4</td>\n",
       "      <td>90.8</td>\n",
       "      <td>61.9</td>\n",
       "      <td>...</td>\n",
       "      <td>67.82</td>\n",
       "      <td>39.86</td>\n",
       "      <td>11.00</td>\n",
       "      <td>7.53</td>\n",
       "      <td>4.17</td>\n",
       "      <td>14.38</td>\n",
       "      <td>48.65</td>\n",
       "      <td>48.69</td>\n",
       "      <td>56.82</td>\n",
       "      <td>22.38</td>\n",
       "    </tr>\n",
       "    <tr>\n",
       "      <th>Bandarban</th>\n",
       "      <td>99.0</td>\n",
       "      <td>96.3</td>\n",
       "      <td>94.8</td>\n",
       "      <td>94.8</td>\n",
       "      <td>94.8</td>\n",
       "      <td>80.9</td>\n",
       "      <td>89.8</td>\n",
       "      <td>96.3</td>\n",
       "      <td>87.8</td>\n",
       "      <td>79.6</td>\n",
       "      <td>...</td>\n",
       "      <td>63.64</td>\n",
       "      <td>77.52</td>\n",
       "      <td>13.64</td>\n",
       "      <td>0.00</td>\n",
       "      <td>25.49</td>\n",
       "      <td>0.00</td>\n",
       "      <td>54.79</td>\n",
       "      <td>100.00</td>\n",
       "      <td>45.16</td>\n",
       "      <td>50.00</td>\n",
       "    </tr>\n",
       "    <tr>\n",
       "      <th>Barguna</th>\n",
       "      <td>99.7</td>\n",
       "      <td>98.8</td>\n",
       "      <td>97.9</td>\n",
       "      <td>97.9</td>\n",
       "      <td>98.3</td>\n",
       "      <td>87.6</td>\n",
       "      <td>94.9</td>\n",
       "      <td>98.8</td>\n",
       "      <td>93.0</td>\n",
       "      <td>64.4</td>\n",
       "      <td>...</td>\n",
       "      <td>73.30</td>\n",
       "      <td>28.64</td>\n",
       "      <td>8.22</td>\n",
       "      <td>5.13</td>\n",
       "      <td>8.06</td>\n",
       "      <td>9.48</td>\n",
       "      <td>44.84</td>\n",
       "      <td>37.97</td>\n",
       "      <td>68.24</td>\n",
       "      <td>22.90</td>\n",
       "    </tr>\n",
       "    <tr>\n",
       "      <th>Barisal</th>\n",
       "      <td>99.7</td>\n",
       "      <td>99.1</td>\n",
       "      <td>99.3</td>\n",
       "      <td>99.3</td>\n",
       "      <td>99.3</td>\n",
       "      <td>91.0</td>\n",
       "      <td>97.1</td>\n",
       "      <td>99.1</td>\n",
       "      <td>95.5</td>\n",
       "      <td>79.3</td>\n",
       "      <td>...</td>\n",
       "      <td>64.26</td>\n",
       "      <td>30.97</td>\n",
       "      <td>10.08</td>\n",
       "      <td>13.91</td>\n",
       "      <td>6.99</td>\n",
       "      <td>28.48</td>\n",
       "      <td>51.10</td>\n",
       "      <td>64.01</td>\n",
       "      <td>59.68</td>\n",
       "      <td>31.22</td>\n",
       "    </tr>\n",
       "    <tr>\n",
       "      <th>Bhola</th>\n",
       "      <td>99.8</td>\n",
       "      <td>99.8</td>\n",
       "      <td>99.8</td>\n",
       "      <td>99.8</td>\n",
       "      <td>99.8</td>\n",
       "      <td>91.3</td>\n",
       "      <td>96.6</td>\n",
       "      <td>99.8</td>\n",
       "      <td>94.5</td>\n",
       "      <td>79.0</td>\n",
       "      <td>...</td>\n",
       "      <td>67.28</td>\n",
       "      <td>26.58</td>\n",
       "      <td>10.01</td>\n",
       "      <td>5.06</td>\n",
       "      <td>3.53</td>\n",
       "      <td>9.99</td>\n",
       "      <td>47.39</td>\n",
       "      <td>29.44</td>\n",
       "      <td>69.35</td>\n",
       "      <td>4.01</td>\n",
       "    </tr>\n",
       "  </tbody>\n",
       "</table>\n",
       "<p>5 rows × 187 columns</p>\n",
       "</div>"
      ],
      "text/plain": [
       "              BCG_Children12M  PENTA1_Children23M  OPV2_Children12M  \\\n",
       "DistrictName                                                          \n",
       "Bagerhat                 98.2                97.4              96.8   \n",
       "Bandarban                99.0                96.3              94.8   \n",
       "Barguna                  99.7                98.8              97.9   \n",
       "Barisal                  99.7                99.1              99.3   \n",
       "Bhola                    99.8                99.8              99.8   \n",
       "\n",
       "              PENTA2_Children12M  PENTA2_Children23M  Fully_Children12M  \\\n",
       "DistrictName                                                              \n",
       "Bagerhat                    96.8                97.1               86.8   \n",
       "Bandarban                   94.8                94.8               80.9   \n",
       "Barguna                     97.9                98.3               87.6   \n",
       "Barisal                     99.3                99.3               91.0   \n",
       "Bhola                       99.8                99.8               91.3   \n",
       "\n",
       "              Measles_Children23M  PENTA1_Children12M  PENTA3_Children12M  \\\n",
       "DistrictName                                                                \n",
       "Bagerhat                     92.2                97.4                90.8   \n",
       "Bandarban                    89.8                96.3                87.8   \n",
       "Barguna                      94.9                98.8                93.0   \n",
       "Barisal                      97.1                99.1                95.5   \n",
       "Bhola                        96.6                99.8                94.5   \n",
       "\n",
       "              TT4_Mother0-11MChildren  ...  prop_current_contraceptive  \\\n",
       "DistrictName                           ...                               \n",
       "Bagerhat                         61.9  ...                       67.82   \n",
       "Bandarban                        79.6  ...                       63.64   \n",
       "Barguna                          64.4  ...                       73.30   \n",
       "Barisal                          79.3  ...                       64.26   \n",
       "Bhola                            79.0  ...                       67.28   \n",
       "\n",
       "              prop_pop_women.1  prop_unmet_need_family_planing  \\\n",
       "DistrictName                                                     \n",
       "Bagerhat                 39.86                           11.00   \n",
       "Bandarban                77.52                           13.64   \n",
       "Barguna                  28.64                            8.22   \n",
       "Barisal                  30.97                           10.08   \n",
       "Bhola                    26.58                           10.01   \n",
       "\n",
       "              prop_pop_rural_women.1  prop_female_head  prop_pop_rural.1  \\\n",
       "DistrictName                                                               \n",
       "Bagerhat                        7.53              4.17             14.38   \n",
       "Bandarban                       0.00             25.49              0.00   \n",
       "Barguna                         5.13              8.06              9.48   \n",
       "Barisal                        13.91              6.99             28.48   \n",
       "Bhola                           5.06              3.53              9.99   \n",
       "\n",
       "              prop_women_15.45y_overwomen.1  prop_antenatal_coverage  \\\n",
       "DistrictName                                                           \n",
       "Bagerhat                              48.65                    48.69   \n",
       "Bandarban                             54.79                   100.00   \n",
       "Barguna                               44.84                    37.97   \n",
       "Barisal                               51.10                    64.01   \n",
       "Bhola                                 47.39                    29.44   \n",
       "\n",
       "              dependency_ratio.1  prop_caesarean  \n",
       "DistrictName                                      \n",
       "Bagerhat                   56.82           22.38  \n",
       "Bandarban                  45.16           50.00  \n",
       "Barguna                    68.24           22.90  \n",
       "Barisal                    59.68           31.22  \n",
       "Bhola                      69.35            4.01  \n",
       "\n",
       "[5 rows x 187 columns]"
      ]
     },
     "execution_count": 17,
     "metadata": {},
     "output_type": "execute_result"
    }
   ],
   "source": [
    "d2016.shape\n",
    "d2016 = d2016.set_index(['DistrictName'])\n",
    "print(d2016.shape)\n",
    "d2016 = d2016.drop(['DistrictGeo'], axis=1)\n",
    "print(d2016.shape)\n",
    "subset_vars = [var for var, var_type in zip(d2016.dtypes.index, d2016.dtypes) if str(var_type) != 'object'] \n",
    "d2016 = d2016[subset_vars]\n",
    "d2016 = d2016.fillna(d2016.mean())\n",
    "# d2016 = remove_miss_vars(input_df=d2016)\n",
    "print(d2016.shape)\n",
    "d2016.head()"
   ]
  },
  {
   "cell_type": "markdown",
   "metadata": {},
   "source": [
    "## STEP 2: Outcome variables: Maternal mortality rate"
   ]
  },
  {
   "cell_type": "markdown",
   "metadata": {},
   "source": [
    "### Maternal mortality rate"
   ]
  },
  {
   "cell_type": "code",
   "execution_count": 88,
   "metadata": {},
   "outputs": [
    {
     "name": "stdout",
     "output_type": "stream",
     "text": [
      "Mean: 3.7296874999999994  Standard deviation: 4.17278939432187\n"
     ]
    }
   ],
   "source": [
    "print(f\"Mean: {d2011['rate_maternal_mortality'].mean()}\",\n",
    "      f\" Standard deviation: {d2011['rate_maternal_mortality'].std()}\")"
   ]
  },
  {
   "cell_type": "code",
   "execution_count": 89,
   "metadata": {},
   "outputs": [
    {
     "name": "stdout",
     "output_type": "stream",
     "text": [
      "Mean: 2.65078125  Standard deviation: 4.957185358804691\n"
     ]
    }
   ],
   "source": [
    "print(f\"Mean: {d2016['rate_maternal_mortality'].mean()}\",\n",
    "      f\" Standard deviation: {d2016['rate_maternal_mortality'].std()}\")"
   ]
  },
  {
   "cell_type": "markdown",
   "metadata": {},
   "source": [
    "### Under 5 mortality rate"
   ]
  },
  {
   "cell_type": "code",
   "execution_count": 90,
   "metadata": {},
   "outputs": [
    {
     "name": "stdout",
     "output_type": "stream",
     "text": [
      "Mean: 42.829375  Standard deviation: 10.648460634706263\n"
     ]
    }
   ],
   "source": [
    "print(f\"Mean: {d2011['rate_under5y_mortality'].mean()}\",\n",
    "      f\" Standard deviation: {d2011['rate_under5y_mortality'].std()}\")"
   ]
  },
  {
   "cell_type": "code",
   "execution_count": 91,
   "metadata": {},
   "outputs": [
    {
     "name": "stdout",
     "output_type": "stream",
     "text": [
      "Mean: 39.446562500000006  Standard deviation: 19.795472884631746\n"
     ]
    }
   ],
   "source": [
    "print(f\"Mean: {d2016['rate_under5y_mortality'].mean()}\",\n",
    "      f\" Standard deviation: {d2016['rate_under5y_mortality'].std()}\")"
   ]
  },
  {
   "cell_type": "markdown",
   "metadata": {},
   "source": [
    "### ANC "
   ]
  },
  {
   "cell_type": "code",
   "execution_count": 94,
   "metadata": {},
   "outputs": [
    {
     "name": "stdout",
     "output_type": "stream",
     "text": [
      "Mean: 22.2790625  Standard deviation: 12.296192302452368\n"
     ]
    }
   ],
   "source": [
    "print(f\"Mean: {d2011['prop_antenatal_care4.'].mean()}\",\n",
    "      f\" Standard deviation: {d2011['prop_antenatal_care4.'].std()}\")"
   ]
  },
  {
   "cell_type": "code",
   "execution_count": 95,
   "metadata": {},
   "outputs": [
    {
     "name": "stdout",
     "output_type": "stream",
     "text": [
      "Mean: 30.083124999999992  Standard deviation: 16.787184915314192\n"
     ]
    }
   ],
   "source": [
    "print(f\"Mean: {d2016['prop_antenatal_care4.'].mean()}\",\n",
    "      f\" Standard deviation: {d2016['prop_antenatal_care4.'].std()}\")"
   ]
  },
  {
   "cell_type": "markdown",
   "metadata": {},
   "source": [
    "### Unmet contraceptive need"
   ]
  },
  {
   "cell_type": "code",
   "execution_count": 96,
   "metadata": {},
   "outputs": [
    {
     "name": "stdout",
     "output_type": "stream",
     "text": [
      "Mean: 13.562187500000004  Standard deviation: 6.310768189284793\n"
     ]
    }
   ],
   "source": [
    "print(f\"Mean: {d2011['prop_unmet_need_family_planing'].mean()}\",\n",
    "      f\" Standard deviation: {d2011['prop_unmet_need_family_planing'].std()}\")"
   ]
  },
  {
   "cell_type": "code",
   "execution_count": 97,
   "metadata": {},
   "outputs": [
    {
     "name": "stdout",
     "output_type": "stream",
     "text": [
      "Mean: 11.942968750000002  Standard deviation: 5.531831890296378\n"
     ]
    }
   ],
   "source": [
    "print(f\"Mean: {d2016['prop_unmet_need_family_planing'].mean()}\",\n",
    "      f\" Standard deviation: {d2016['prop_unmet_need_family_planing'].std()}\")"
   ]
  },
  {
   "cell_type": "markdown",
   "metadata": {},
   "source": [
    "## Performing PCA and correlation analysis"
   ]
  },
  {
   "cell_type": "markdown",
   "metadata": {},
   "source": [
    "### Scaled and normalized data\n"
   ]
  },
  {
   "cell_type": "code",
   "execution_count": 99,
   "metadata": {},
   "outputs": [
    {
     "name": "stdout",
     "output_type": "stream",
     "text": [
      "(64, 187)\n",
      "[]\n",
      "(64, 187)\n"
     ]
    }
   ],
   "source": [
    "print(d2011.shape)\n",
    "drop_columns = []\n",
    "for var in d2011.columns:\n",
    "    if \"index\" in var:\n",
    "        drop_columns.append(var)\n",
    "drop_columns = list(set(drop_columns))\n",
    "print(drop_columns)\n",
    "d2011.drop(drop_columns, inplace=True, axis=1)\n",
    "print(d2011.shape)"
   ]
  },
  {
   "cell_type": "code",
   "execution_count": 100,
   "metadata": {},
   "outputs": [
    {
     "name": "stdout",
     "output_type": "stream",
     "text": [
      "(64, 187)\n",
      "[]\n",
      "(64, 187)\n"
     ]
    }
   ],
   "source": [
    "print(d2016.shape)\n",
    "drop_columns = []\n",
    "for var in d2016.columns:\n",
    "    if \"index\" in var:\n",
    "        drop_columns.append(var)\n",
    "drop_columns = list(set(drop_columns))\n",
    "print(drop_columns)\n",
    "d2016.drop(drop_columns, inplace=True, axis=1)\n",
    "print(d2016.shape)"
   ]
  },
  {
   "cell_type": "code",
   "execution_count": 101,
   "metadata": {},
   "outputs": [
    {
     "name": "stdout",
     "output_type": "stream",
     "text": [
      "(64, 187)\n",
      "(64, 187)\n"
     ]
    },
    {
     "name": "stderr",
     "output_type": "stream",
     "text": [
      "/anaconda3/lib/python3.7/site-packages/sklearn/preprocessing/data.py:625: DataConversionWarning: Data with input dtype int64, float64 were all converted to float64 by StandardScaler.\n",
      "  return self.partial_fit(X, y)\n",
      "/anaconda3/lib/python3.7/site-packages/sklearn/base.py:462: DataConversionWarning: Data with input dtype int64, float64 were all converted to float64 by StandardScaler.\n",
      "  return self.fit(X, **fit_params).transform(X)\n"
     ]
    }
   ],
   "source": [
    "s_data2011 = StandardScaler().fit_transform(d2011)\n",
    "s_data2011 = pd.DataFrame(s_data2011, columns=d2011.columns)\n",
    "print(s_data2011.shape)\n",
    "s_data2011 = remove_miss_vars(input_df=s_data2011)\n",
    "print(s_data2011.shape)"
   ]
  },
  {
   "cell_type": "code",
   "execution_count": 102,
   "metadata": {},
   "outputs": [
    {
     "name": "stdout",
     "output_type": "stream",
     "text": [
      "(64, 187)\n",
      "(64, 187)\n"
     ]
    },
    {
     "name": "stderr",
     "output_type": "stream",
     "text": [
      "/anaconda3/lib/python3.7/site-packages/sklearn/preprocessing/data.py:625: DataConversionWarning: Data with input dtype int64, float64 were all converted to float64 by StandardScaler.\n",
      "  return self.partial_fit(X, y)\n",
      "/anaconda3/lib/python3.7/site-packages/sklearn/base.py:462: DataConversionWarning: Data with input dtype int64, float64 were all converted to float64 by StandardScaler.\n",
      "  return self.fit(X, **fit_params).transform(X)\n"
     ]
    }
   ],
   "source": [
    "d2016[d2016==np.inf]=np.nan\n",
    "d2016.fillna(d2016.mean(), inplace=True)\n",
    "s_data2016 = StandardScaler().fit_transform(d2016)\n",
    "s_data2016 = pd.DataFrame(s_data2016, columns=d2016.columns)\n",
    "print(s_data2016.shape)\n",
    "s_data2016 = remove_miss_vars(input_df=s_data2016)\n",
    "print(s_data2016.shape)\n"
   ]
  },
  {
   "cell_type": "markdown",
   "metadata": {},
   "source": [
    "### Performing PCA on both years 2011 and 2016: Preliminary"
   ]
  },
  {
   "cell_type": "code",
   "execution_count": 34,
   "metadata": {},
   "outputs": [
    {
     "name": "stdout",
     "output_type": "stream",
     "text": [
      "40\n"
     ]
    }
   ],
   "source": [
    "pca = PCA(.95)\n",
    "pca2011 = pca.fit(s_data2011)\n",
    "print(pca.n_components_)"
   ]
  },
  {
   "cell_type": "code",
   "execution_count": 35,
   "metadata": {},
   "outputs": [
    {
     "name": "stdout",
     "output_type": "stream",
     "text": [
      "42\n"
     ]
    }
   ],
   "source": [
    "pca = PCA(.95)\n",
    "pca2016 = pca.fit(s_data2016)\n",
    "print(pca.n_components_)"
   ]
  },
  {
   "cell_type": "markdown",
   "metadata": {},
   "source": [
    "- Maternal mortality rate: rate_maternal_mortality\n",
    "- Under 5 mortality rate: rate_under5y_mortality\n",
    "- Antenatal coverage (ANC): prop_antenatal_coverage\n",
    "- Proportion of unmet contraceptive need: prop_unmet_need_family_planing"
   ]
  },
  {
   "cell_type": "code",
   "execution_count": null,
   "metadata": {},
   "outputs": [],
   "source": [
    "- Perform CCA and correlation analysis and compare results\n",
    "- Perform HDBSCAN and Kmeans\n",
    "- "
   ]
  },
  {
   "cell_type": "code",
   "execution_count": 125,
   "metadata": {},
   "outputs": [
    {
     "data": {
      "text/plain": [
       "(64, 187)"
      ]
     },
     "execution_count": 125,
     "metadata": {},
     "output_type": "execute_result"
    }
   ],
   "source": [
    "s_data2011.shape"
   ]
  },
  {
   "cell_type": "code",
   "execution_count": 137,
   "metadata": {},
   "outputs": [
    {
     "name": "stdout",
     "output_type": "stream",
     "text": [
      "[array([0.22552299]), array([0.19463575]), array([0.14648812]), array([0.13025207]), array([0.11481562]), array([0.11075815]), array([0.10910105]), array([0.10831948]), array([0.10415679]), array([0.10344528]), array([0.10344528]), array([0.10308316]), array([0.09914956]), array([0.09709225]), array([0.09553478]), array([0.09491146]), array([0.09307898]), array([0.09307898]), array([0.09251791]), array([0.09251791]), array([0.08022503]), array([0.08015836]), array([0.07797078]), array([0.0778185]), array([0.0775575]), array([0.07726829]), array([0.07603214]), array([0.07549381]), array([0.07516327]), array([0.06975654]), array([0.0695324]), array([0.0695324]), array([0.06820807]), array([0.06751975]), array([0.0666025]), array([0.06504488]), array([0.06328794]), array([0.06118453]), array([0.0592436]), array([0.05790883]), array([0.05570642]), array([0.05263294]), array([0.05170834]), array([0.04951227]), array([0.04918968]), array([0.04747109]), array([0.04652246]), array([0.04479132]), array([0.04221995]), array([0.04206081]), array([0.03926653]), array([0.03669129]), array([0.03576376]), array([0.03511795]), array([0.03384741]), array([0.03363723]), array([0.03101426]), array([0.03087223]), array([0.0296421]), array([0.02896499]), array([0.02807306]), array([0.02466862]), array([0.02175642]), array([0.01663693]), array([0.01663693]), array([0.01632601]), array([0.01612033]), array([0.01587208]), array([0.01560741]), array([0.01549761]), array([0.01230995]), array([0.01090332]), array([0.01090332]), array([0.00971396]), array([0.00918546]), array([0.00795628]), array([0.00630008]), array([0.00540072]), array([0.00419598]), array([0.00317202]), array([0.00236339]), array([0.00182692]), array([0.00018021]), array([0.]), array([0.]), array([0.]), array([0.]), array([0.]), array([0.]), array([0.]), array([0.]), array([0.]), array([0.]), array([0.]), array([0.]), array([0.]), array([-4.83346874e-05]), array([-0.00017888]), array([-0.0002896]), array([-0.0012157]), array([-0.0016548]), array([-0.00430592]), array([-0.0051062]), array([-0.00531265]), array([-0.00531265]), array([-0.00555468]), array([-0.01017586]), array([-0.0102313]), array([-0.01222765]), array([-0.01549761]), array([-0.01571836]), array([-0.0163256]), array([-0.01688366]), array([-0.01688366]), array([-0.01693477]), array([-0.0170495]), array([-0.01829974]), array([-0.01854318]), array([-0.01968076]), array([-0.01984286]), array([-0.02076034]), array([-0.02076034]), array([-0.02249344]), array([-0.02315187]), array([-0.02422094]), array([-0.02653216]), array([-0.0267729]), array([-0.02896831]), array([-0.02966371]), array([-0.03000676]), array([-0.0316001]), array([-0.0326286]), array([-0.03341179]), array([-0.0358464]), array([-0.03652806]), array([-0.03690254]), array([-0.03690254]), array([-0.03733817]), array([-0.04263738]), array([-0.04284887]), array([-0.04286907]), array([-0.04473598]), array([-0.04567654]), array([-0.0457008]), array([-0.046596]), array([-0.0495028]), array([-0.05507849]), array([-0.05562779]), array([-0.05601704]), array([-0.05704752]), array([-0.05704752]), array([-0.05901006]), array([-0.07175904]), array([-0.07183299]), array([-0.07197413]), array([-0.07342975]), array([-0.07493706]), array([-0.07493706]), array([-0.07565223]), array([-0.07599309]), array([-0.08246339]), array([-0.08246339]), array([-0.08740826]), array([-0.08758635]), array([-0.08790488]), array([-0.08790488]), array([-0.09189391]), array([-0.09189391]), array([-0.09324781]), array([-0.09709225]), array([-0.10166622]), array([-0.10422033]), array([-0.10978013]), array([-0.11106437]), array([-0.11131143]), array([-0.11209755]), array([-0.11232696]), array([-0.12425079]), array([-0.1581347]), array([-0.162788]), array([-0.16341971]), array([-0.17377205]), array([-0.17574041]), array([-0.18613601]), array([-0.24404905]), array([-0.27148521])]\n"
     ]
    },
    {
     "name": "stderr",
     "output_type": "stream",
     "text": [
      "/anaconda3/lib/python3.7/site-packages/sklearn/cross_decomposition/pls_.py:291: UserWarning: Y residual constant at iteration 1\n",
      "  warnings.warn('Y residual constant at iteration %s' % k)\n"
     ]
    },
    {
     "data": {
      "text/plain": [
       "<bound method RegressorMixin.score of CCA(copy=True, max_iter=500, n_components=40, scale=True, tol=1e-06)>"
      ]
     },
     "execution_count": 137,
     "metadata": {},
     "output_type": "execute_result"
    }
   ],
   "source": [
    "from sklearn.cross_decomposition import CCA\n",
    "cca_maternal = CCA(copy=True, max_iter=500, n_components=40, scale=True, tol=1e-06)\n",
    "cca_maternal.fit(s_data2011.drop('rate_maternal_mortality', axis=1), s_data2011['rate_maternal_mortality'])\n",
    "cca_maternal.score(s_data2011.drop('rate_maternal_mortality', axis=1), s_data2011['rate_maternal_mortality'])\n",
    "print(sorted(cca_maternal.coef_,reverse=True))\n",
    "cca_maternal.score"
   ]
  },
  {
   "cell_type": "markdown",
   "metadata": {},
   "source": [
    "### Performing correlation analysis on the two subsets"
   ]
  },
  {
   "cell_type": "code",
   "execution_count": 36,
   "metadata": {},
   "outputs": [
    {
     "data": {
      "text/plain": [
       "True"
      ]
     },
     "execution_count": 36,
     "metadata": {},
     "output_type": "execute_result"
    }
   ],
   "source": [
    "all(s_data2016.columns == s_data2016.columns)"
   ]
  },
  {
   "cell_type": "code",
   "execution_count": 18,
   "metadata": {},
   "outputs": [],
   "source": [
    "corr2011 = s_data2011.corr()\n",
    "corr2016 = s_data2016.corr()"
   ]
  },
  {
   "cell_type": "markdown",
   "metadata": {},
   "source": [
    "#### Correlation analysis for 2011"
   ]
  },
  {
   "cell_type": "code",
   "execution_count": null,
   "metadata": {
    "scrolled": false
   },
   "outputs": [],
   "source": [
    "maternal_mortality_2011 = corr2011[['rate_maternal_mortality']]\n",
    "maternal_mortality_2011['abs_rate_maternal_mortality'] = np.absolute(maternal_mortality_2011['rate_maternal_mortality'])\n",
    "maternal_mortality_2011 = maternal_mortality_2011.sort_values(by='abs_rate_maternal_mortality', ascending=False)\n",
    "print(maternal_mortality_2011.shape)\n",
    "maternal_mortality_2011 = maternal_mortality_2011.loc[maternal_mortality_2011['abs_rate_maternal_mortality'] > 0.05,:]\n",
    "maternal_mortality_2011.reset_index(inplace=True)\n",
    "print(maternal_mortality_2011.shape)\n",
    "maternal_mortality_2011.to_csv(OUT+'corr_maternal_mortality_2011.csv', index=False, index_label=False)"
   ]
  },
  {
   "cell_type": "code",
   "execution_count": null,
   "metadata": {},
   "outputs": [],
   "source": [
    "under5_mortality_2011 = corr2011[['rate_under5y_mortality']]\n",
    "under5_mortality_2011['abs_rate_under5y_mortality'] = np.absolute(under5_mortality_2011['rate_under5y_mortality'])\n",
    "under5_mortality_2011 = under5_mortality_2011.sort_values(by='abs_rate_under5y_mortality', ascending=False)\n",
    "print(under5_mortality_2011.shape)\n",
    "under5_mortality_2011 = under5_mortality_2011.loc[under5_mortality_2011['abs_rate_under5y_mortality'] > 0.1,:]\n",
    "under5_mortality_2011.reset_index(inplace=True)\n",
    "print(under5_mortality_2011.shape)\n",
    "under5_mortality_2011.to_csv(OUT+'corr_rate_under5y_mortality_2011.csv', index=False, index_label=False)"
   ]
  },
  {
   "cell_type": "code",
   "execution_count": null,
   "metadata": {
    "scrolled": true
   },
   "outputs": [],
   "source": [
    "fully_immunized_2011 = corr2011[['Fully_Children12M']]\n",
    "fully_immunized_2011['abs_Fully_Children12M'] = np.absolute(fully_immunized_2011['Fully_Children12M'])\n",
    "fully_immunized_2011 = fully_immunized_2011.sort_values(by='abs_Fully_Children12M', ascending=False)\n",
    "print(fully_immunized_2011.shape)\n",
    "fully_immunized_2011 = fully_immunized_2011.loc[fully_immunized_2011['abs_Fully_Children12M'] > 0.1,:]\n",
    "fully_immunized_2011.reset_index(inplace=True)\n",
    "print(fully_immunized_2011.shape)\n",
    "fully_immunized_2011.to_csv(OUT+'corr_Fully_Children12M_2011.csv', index=False, index_label=False)"
   ]
  },
  {
   "cell_type": "markdown",
   "metadata": {},
   "source": [
    "#### Correlation analysis for 2016"
   ]
  },
  {
   "cell_type": "code",
   "execution_count": null,
   "metadata": {},
   "outputs": [],
   "source": [
    "maternal_mortality_2016 = corr2016[['rate_maternal_mortality']]\n",
    "maternal_mortality_2016['abs_rate_maternal_mortality'] = np.absolute(maternal_mortality_2016['rate_maternal_mortality'])\n",
    "maternal_mortality_2016 = maternal_mortality_2016.sort_values(by='abs_rate_maternal_mortality', ascending=False)\n",
    "print(maternal_mortality_2016.shape)\n",
    "maternal_mortality_2016 = maternal_mortality_2016.loc[maternal_mortality_2016['abs_rate_maternal_mortality'] > 0.05,:]\n",
    "maternal_mortality_2016.reset_index(inplace=True)\n",
    "print(maternal_mortality_2016.shape)\n",
    "maternal_mortality_2016.to_csv(OUT+'corr_maternal_mortality_2016.csv', index=False, index_label=False)\n"
   ]
  },
  {
   "cell_type": "code",
   "execution_count": null,
   "metadata": {},
   "outputs": [],
   "source": [
    "under5_mortality_2016 = corr2016[['rate_under5y_mortality']]\n",
    "under5_mortality_2016['abs_rate_under5y_mortality'] = np.absolute(under5_mortality_2016['rate_under5y_mortality'])\n",
    "under5_mortality_2016 = under5_mortality_2016.sort_values(by='abs_rate_under5y_mortality', ascending=False)\n",
    "print(under5_mortality_2016.shape)\n",
    "under5_mortality_2016 = under5_mortality_2016.loc[under5_mortality_2016['abs_rate_under5y_mortality'] > 0.1,:]\n",
    "under5_mortality_2016.reset_index(inplace=True)\n",
    "print(under5_mortality_2016.shape)\n",
    "under5_mortality_2016.to_csv(OUT+'corr_rate_under5y_mortality_2016.csv', index=False, index_label=False)"
   ]
  },
  {
   "cell_type": "code",
   "execution_count": null,
   "metadata": {},
   "outputs": [],
   "source": [
    "fully_immunized_2016 = corr2016[['Fully_Children12M']]\n",
    "fully_immunized_2016['abs_Fully_Children12M'] = np.absolute(fully_immunized_2016['Fully_Children12M'])\n",
    "fully_immunized_2016 = fully_immunized_2016.sort_values(by='abs_Fully_Children12M', ascending=False)\n",
    "print(fully_immunized_2016.shape)\n",
    "fully_immunized_2016 = fully_immunized_2016.loc[fully_immunized_2016['abs_Fully_Children12M'] > 0.1,:]\n",
    "fully_immunized_2016.reset_index(inplace=True)\n",
    "print(fully_immunized_2016.shape)\n",
    "fully_immunized_2016.to_csv(OUT+'corr_Fully_Children12M_2016.csv', index=False, index_label=False)"
   ]
  },
  {
   "cell_type": "markdown",
   "metadata": {},
   "source": [
    "## Write out results"
   ]
  },
  {
   "cell_type": "markdown",
   "metadata": {},
   "source": [
    "### Maternal mortality"
   ]
  },
  {
   "cell_type": "code",
   "execution_count": null,
   "metadata": {},
   "outputs": [],
   "source": [
    "full_maternal_mortality = list(set(maternal_mortality_2011['index']).intersection(set(maternal_mortality_2016['index'])))\n",
    "data_maternal_mortality_2011 = d2011[full_maternal_mortality]\n",
    "s_data_maternal_mortality_2011 = s_data2011[full_maternal_mortality]\n",
    "data_maternal_mortality_2016 = d2016[full_maternal_mortality]\n",
    "s_data_maternal_mortality_2016 = s_data2016[full_maternal_mortality]\n"
   ]
  },
  {
   "cell_type": "code",
   "execution_count": null,
   "metadata": {},
   "outputs": [],
   "source": [
    "print(data_maternal_mortality_2011.shape)\n",
    "print(data_maternal_mortality_2016.shape)\n",
    "print(s_data_maternal_mortality_2011.shape)\n",
    "print(s_data_maternal_mortality_2016.shape)"
   ]
  },
  {
   "cell_type": "code",
   "execution_count": null,
   "metadata": {},
   "outputs": [],
   "source": [
    "data_maternal_mortality_2011.to_csv(OUT+'maternal_mortality_2011.csv')\n",
    "s_data_maternal_mortality_2011.to_csv(OUT+'s_maternal_mortality_2011.csv')\n",
    "data_maternal_mortality_2016.to_csv(OUT+'maternal_mortality_2016.csv')\n",
    "s_data_maternal_mortality_2016.to_csv(OUT+'s_maternal_mortality_2016.csv')"
   ]
  },
  {
   "cell_type": "markdown",
   "metadata": {},
   "source": [
    "### Under 5 mortality"
   ]
  },
  {
   "cell_type": "code",
   "execution_count": null,
   "metadata": {},
   "outputs": [],
   "source": [
    "full_under5_mortality = list(set(under5_mortality_2011['index']).intersection(set(under5_mortality_2016['index'])))\n",
    "data_under5_mortality_2011 = d2011[full_under5_mortality]\n",
    "s_data_under5_mortality_2011 = s_data2011[full_under5_mortality]\n",
    "data_under5_mortality_2016 = d2016[full_under5_mortality]\n",
    "s_data_under5_mortality_2016 = s_data2016[full_under5_mortality]\n"
   ]
  },
  {
   "cell_type": "code",
   "execution_count": null,
   "metadata": {},
   "outputs": [],
   "source": [
    "print(data_under5_mortality_2011.shape)\n",
    "print(s_data_under5_mortality_2011.shape)\n",
    "print(data_under5_mortality_2016.shape)\n",
    "print(s_data_under5_mortality_2016.shape)"
   ]
  },
  {
   "cell_type": "code",
   "execution_count": null,
   "metadata": {},
   "outputs": [],
   "source": [
    "data_under5_mortality_2011.to_csv(OUT+'under5_mortality_2011.csv')\n",
    "s_data_under5_mortality_2011.to_csv(OUT+'s_under5_mortality_2011.csv')\n",
    "data_under5_mortality_2016.to_csv(OUT+'under5_mortality_2016.csv')\n",
    "s_data_under5_mortality_2016.to_csv(OUT+'s_under5_mortality_2016.csv')\n"
   ]
  },
  {
   "cell_type": "markdown",
   "metadata": {},
   "source": [
    "### Fully immunized children"
   ]
  },
  {
   "cell_type": "code",
   "execution_count": null,
   "metadata": {},
   "outputs": [],
   "source": [
    "full_immunized = list(set(fully_immunized_2011['index']).intersection(set(fully_immunized_2016['index'])))\n",
    "data_full_immunized_2011 = d2011[full_immunized]\n",
    "s_data_full_immunized_2011 = s_data2011[full_immunized]\n",
    "data_full_immunized_2016 = d2016[full_immunized]\n",
    "s_data_full_immunized_2016 = s_data2016[full_immunized]\n"
   ]
  },
  {
   "cell_type": "code",
   "execution_count": null,
   "metadata": {},
   "outputs": [],
   "source": [
    "print(data_full_immunized_2011.shape)\n",
    "print(s_data_full_immunized_2011.shape)\n",
    "print(data_full_immunized_2016.shape)\n",
    "print(s_data_full_immunized_2016.shape)"
   ]
  },
  {
   "cell_type": "code",
   "execution_count": null,
   "metadata": {},
   "outputs": [],
   "source": [
    "data_full_immunized_2011.to_csv(OUT+'full_immunized_2011.csv')\n",
    "s_data_full_immunized_2011.to_csv(OUT+'s_full_immunized_2011.csv')\n",
    "data_full_immunized_2016.to_csv(OUT+'full_immunized_2016.csv')\n",
    "s_data_full_immunized_2016.to_csv(OUT+'s_full_immunized_2016.csv')"
   ]
  },
  {
   "cell_type": "code",
   "execution_count": null,
   "metadata": {},
   "outputs": [],
   "source": []
  }
 ],
 "metadata": {
  "kernelspec": {
   "display_name": "Python 3",
   "language": "python",
   "name": "python3"
  },
  "language_info": {
   "codemirror_mode": {
    "name": "ipython",
    "version": 3
   },
   "file_extension": ".py",
   "mimetype": "text/x-python",
   "name": "python",
   "nbconvert_exporter": "python",
   "pygments_lexer": "ipython3",
   "version": "3.7.2"
  }
 },
 "nbformat": 4,
 "nbformat_minor": 2
}
