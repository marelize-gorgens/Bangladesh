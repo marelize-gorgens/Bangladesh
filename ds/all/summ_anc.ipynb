{
 "cells": [
  {
   "cell_type": "markdown",
   "metadata": {},
   "source": [
    "# Tables: Antenatal coverage"
   ]
  },
  {
   "cell_type": "code",
   "execution_count": 1,
   "metadata": {},
   "outputs": [],
   "source": [
    "import pandas as pd"
   ]
  },
  {
   "cell_type": "code",
   "execution_count": 2,
   "metadata": {},
   "outputs": [],
   "source": [
    "DATA = '/Users/edinhamzic/Symphony/wb_bangladesh/Bangladesh/output/all/'\n",
    "clusters_intersect_all = 'clusters_antenatal_coverage_intersect_all.csv'\n",
    "clusters_intersect_2016 = 'clusters_antenatal_coverage_intersect_2016.csv'\n",
    "clusters_intersect_2011 = 'clusters_antenatal_coverage_intersect_2011.csv'\n",
    "clusters_union_all = 'clusters_antenatal_coverage_union_all.csv'\n",
    "clusters_union_2016 = 'clusters_antenatal_coverage_union_2016.csv'\n",
    "clusters_union_2011 = 'clusters_antenatal_coverage_union_2011.csv'\n",
    "corr_2016 = 'corr_antenatal_coverage_2016.csv'\n",
    "cca_2016 = 'cca_antenatal_coverage_2016.csv'\n",
    "corr_2011 = 'corr_antenatal_coverage_2011.csv'\n",
    "cca_2011 = 'cca_antenatal_coverage_2011.csv'\n",
    "corr_cca = [corr_2011, cca_2011, corr_2016, cca_2016]"
   ]
  },
  {
   "cell_type": "code",
   "execution_count": 3,
   "metadata": {},
   "outputs": [],
   "source": [
    "def read_corr_cca(dir_path, files_list):\n",
    "    data_dict = {}\n",
    "    for file in files_list:\n",
    "        data_dict[file] = pd.read_csv(dir_path+file)\n",
    "    return data_dict"
   ]
  },
  {
   "cell_type": "markdown",
   "metadata": {},
   "source": [
    "## Summary tables"
   ]
  },
  {
   "cell_type": "code",
   "execution_count": 4,
   "metadata": {},
   "outputs": [],
   "source": [
    "clusters_intersect = pd.read_csv(DATA+clusters_intersect_all)\n",
    "clusters_union = pd.read_csv(DATA+clusters_union_all)"
   ]
  },
  {
   "cell_type": "code",
   "execution_count": 5,
   "metadata": {},
   "outputs": [],
   "source": [
    "clusters_intersect_summ = clusters_intersect.groupby(['cluster', 'year']).median().transpose()\n",
    "clusters_union_summ = clusters_union.groupby(['cluster', 'year']).median().transpose()"
   ]
  },
  {
   "cell_type": "code",
   "execution_count": 6,
   "metadata": {},
   "outputs": [
    {
     "data": {
      "text/html": [
       "<div>\n",
       "<style scoped>\n",
       "    .dataframe tbody tr th:only-of-type {\n",
       "        vertical-align: middle;\n",
       "    }\n",
       "\n",
       "    .dataframe tbody tr th {\n",
       "        vertical-align: top;\n",
       "    }\n",
       "\n",
       "    .dataframe thead tr th {\n",
       "        text-align: left;\n",
       "    }\n",
       "</style>\n",
       "<table border=\"1\" class=\"dataframe\">\n",
       "  <thead>\n",
       "    <tr>\n",
       "      <th>cluster</th>\n",
       "      <th colspan=\"2\" halign=\"left\">0</th>\n",
       "      <th colspan=\"2\" halign=\"left\">1</th>\n",
       "      <th colspan=\"2\" halign=\"left\">2</th>\n",
       "      <th colspan=\"2\" halign=\"left\">3</th>\n",
       "    </tr>\n",
       "    <tr>\n",
       "      <th>year</th>\n",
       "      <th>2011</th>\n",
       "      <th>2016</th>\n",
       "      <th>2011</th>\n",
       "      <th>2016</th>\n",
       "      <th>2011</th>\n",
       "      <th>2016</th>\n",
       "      <th>2011</th>\n",
       "      <th>2016</th>\n",
       "    </tr>\n",
       "  </thead>\n",
       "  <tbody>\n",
       "    <tr>\n",
       "      <th>Dependency ratio</th>\n",
       "      <td>63.840000</td>\n",
       "      <td>64.720000</td>\n",
       "      <td>57.495000</td>\n",
       "      <td>57.110000</td>\n",
       "      <td>57.320</td>\n",
       "      <td>55.68</td>\n",
       "      <td>48.950000</td>\n",
       "      <td>52.670000</td>\n",
       "    </tr>\n",
       "    <tr>\n",
       "      <th>Referral cases admitted at SCANU, %</th>\n",
       "      <td>61.902941</td>\n",
       "      <td>57.970588</td>\n",
       "      <td>61.902941</td>\n",
       "      <td>57.970588</td>\n",
       "      <td>64.250</td>\n",
       "      <td>60.30</td>\n",
       "      <td>61.902941</td>\n",
       "      <td>57.970588</td>\n",
       "    </tr>\n",
       "    <tr>\n",
       "      <th>DHS: Proportion of women population</th>\n",
       "      <td>77.440000</td>\n",
       "      <td>60.850000</td>\n",
       "      <td>45.540000</td>\n",
       "      <td>43.280000</td>\n",
       "      <td>62.160</td>\n",
       "      <td>44.26</td>\n",
       "      <td>51.320000</td>\n",
       "      <td>52.010000</td>\n",
       "    </tr>\n",
       "    <tr>\n",
       "      <th>Sex ratio</th>\n",
       "      <td>103.300000</td>\n",
       "      <td>100.890000</td>\n",
       "      <td>100.825000</td>\n",
       "      <td>99.085000</td>\n",
       "      <td>105.485</td>\n",
       "      <td>103.33</td>\n",
       "      <td>103.300000</td>\n",
       "      <td>101.165000</td>\n",
       "    </tr>\n",
       "    <tr>\n",
       "      <th>Upazilla EPI supervision form closing balance</th>\n",
       "      <td>663.000000</td>\n",
       "      <td>354.000000</td>\n",
       "      <td>0.000000</td>\n",
       "      <td>235.000000</td>\n",
       "      <td>221.000</td>\n",
       "      <td>232.00</td>\n",
       "      <td>21.000000</td>\n",
       "      <td>45.500000</td>\n",
       "    </tr>\n",
       "  </tbody>\n",
       "</table>\n",
       "</div>"
      ],
      "text/plain": [
       "cluster                                                 0              \\\n",
       "year                                                 2011        2016   \n",
       "Dependency ratio                                63.840000   64.720000   \n",
       "Referral cases admitted at SCANU, %             61.902941   57.970588   \n",
       "DHS: Proportion of women population             77.440000   60.850000   \n",
       "Sex ratio                                      103.300000  100.890000   \n",
       "Upazilla EPI supervision form closing balance  663.000000  354.000000   \n",
       "\n",
       "cluster                                                 1              \\\n",
       "year                                                 2011        2016   \n",
       "Dependency ratio                                57.495000   57.110000   \n",
       "Referral cases admitted at SCANU, %             61.902941   57.970588   \n",
       "DHS: Proportion of women population             45.540000   43.280000   \n",
       "Sex ratio                                      100.825000   99.085000   \n",
       "Upazilla EPI supervision form closing balance    0.000000  235.000000   \n",
       "\n",
       "cluster                                              2                   3  \\\n",
       "year                                              2011    2016        2011   \n",
       "Dependency ratio                                57.320   55.68   48.950000   \n",
       "Referral cases admitted at SCANU, %             64.250   60.30   61.902941   \n",
       "DHS: Proportion of women population             62.160   44.26   51.320000   \n",
       "Sex ratio                                      105.485  103.33  103.300000   \n",
       "Upazilla EPI supervision form closing balance  221.000  232.00   21.000000   \n",
       "\n",
       "cluster                                                    \n",
       "year                                                 2016  \n",
       "Dependency ratio                                52.670000  \n",
       "Referral cases admitted at SCANU, %             57.970588  \n",
       "DHS: Proportion of women population             52.010000  \n",
       "Sex ratio                                      101.165000  \n",
       "Upazilla EPI supervision form closing balance   45.500000  "
      ]
     },
     "metadata": {},
     "output_type": "display_data"
    }
   ],
   "source": [
    "display(clusters_intersect_summ.head())\n",
    "clusters_intersect_summ.to_csv(DATA+'/anc_summaries/anc_intersect.csv')"
   ]
  },
  {
   "cell_type": "code",
   "execution_count": 10,
   "metadata": {},
   "outputs": [
    {
     "data": {
      "text/plain": [
       "MultiIndex(levels=[[0, 1, 2, 3], [2011, 2016]],\n",
       "           codes=[[0, 0, 1, 1, 2, 2, 3, 3], [0, 1, 0, 1, 0, 1, 0, 1]],\n",
       "           names=['cluster', 'year'])"
      ]
     },
     "execution_count": 10,
     "metadata": {},
     "output_type": "execute_result"
    }
   ],
   "source": [
    "clusters_union_summ.columns"
   ]
  },
  {
   "cell_type": "code",
   "execution_count": 7,
   "metadata": {},
   "outputs": [
    {
     "data": {
      "text/html": [
       "<div>\n",
       "<style scoped>\n",
       "    .dataframe tbody tr th:only-of-type {\n",
       "        vertical-align: middle;\n",
       "    }\n",
       "\n",
       "    .dataframe tbody tr th {\n",
       "        vertical-align: top;\n",
       "    }\n",
       "\n",
       "    .dataframe thead tr th {\n",
       "        text-align: left;\n",
       "    }\n",
       "</style>\n",
       "<table border=\"1\" class=\"dataframe\">\n",
       "  <thead>\n",
       "    <tr>\n",
       "      <th>cluster</th>\n",
       "      <th colspan=\"2\" halign=\"left\">0</th>\n",
       "      <th colspan=\"2\" halign=\"left\">1</th>\n",
       "      <th colspan=\"2\" halign=\"left\">2</th>\n",
       "      <th colspan=\"2\" halign=\"left\">3</th>\n",
       "    </tr>\n",
       "    <tr>\n",
       "      <th>year</th>\n",
       "      <th>2011</th>\n",
       "      <th>2016</th>\n",
       "      <th>2011</th>\n",
       "      <th>2016</th>\n",
       "      <th>2011</th>\n",
       "      <th>2016</th>\n",
       "      <th>2011</th>\n",
       "      <th>2016</th>\n",
       "    </tr>\n",
       "  </thead>\n",
       "  <tbody>\n",
       "    <tr>\n",
       "      <th>Contraceptive acceptance rate (thana) NGO, %</th>\n",
       "      <td>76.735167</td>\n",
       "      <td>82.040000</td>\n",
       "      <td>74.880000</td>\n",
       "      <td>79.330000</td>\n",
       "      <td>77.835000</td>\n",
       "      <td>81.9700</td>\n",
       "      <td>80.430000</td>\n",
       "      <td>80.207213</td>\n",
       "    </tr>\n",
       "    <tr>\n",
       "      <th>Neonatal case fatality rate (EmOC)</th>\n",
       "      <td>0.340700</td>\n",
       "      <td>0.479100</td>\n",
       "      <td>0.390500</td>\n",
       "      <td>0.299250</td>\n",
       "      <td>0.453350</td>\n",
       "      <td>0.4233</td>\n",
       "      <td>0.097800</td>\n",
       "      <td>0.215150</td>\n",
       "    </tr>\n",
       "    <tr>\n",
       "      <th>Crude coverage penta 2 children 23 months, %</th>\n",
       "      <td>93.500000</td>\n",
       "      <td>95.700000</td>\n",
       "      <td>98.500000</td>\n",
       "      <td>98.000000</td>\n",
       "      <td>97.950000</td>\n",
       "      <td>97.3000</td>\n",
       "      <td>98.900000</td>\n",
       "      <td>98.100000</td>\n",
       "    </tr>\n",
       "    <tr>\n",
       "      <th>Proportion of rural deaths</th>\n",
       "      <td>65.000000</td>\n",
       "      <td>81.000000</td>\n",
       "      <td>75.500000</td>\n",
       "      <td>74.500000</td>\n",
       "      <td>72.000000</td>\n",
       "      <td>80.0000</td>\n",
       "      <td>65.000000</td>\n",
       "      <td>71.500000</td>\n",
       "    </tr>\n",
       "    <tr>\n",
       "      <th>Nurse training on KMC at SCANU, %</th>\n",
       "      <td>66.354167</td>\n",
       "      <td>63.611538</td>\n",
       "      <td>66.354167</td>\n",
       "      <td>63.611538</td>\n",
       "      <td>66.354167</td>\n",
       "      <td>62.8000</td>\n",
       "      <td>66.354167</td>\n",
       "      <td>63.611538</td>\n",
       "    </tr>\n",
       "  </tbody>\n",
       "</table>\n",
       "</div>"
      ],
      "text/plain": [
       "cluster                                               0                     1  \\\n",
       "year                                               2011       2016       2011   \n",
       "Contraceptive acceptance rate (thana) NGO, %  76.735167  82.040000  74.880000   \n",
       "Neonatal case fatality rate (EmOC)             0.340700   0.479100   0.390500   \n",
       "Crude coverage penta 2 children 23 months, %  93.500000  95.700000  98.500000   \n",
       "Proportion of rural deaths                    65.000000  81.000000  75.500000   \n",
       "Nurse training on KMC at SCANU, %             66.354167  63.611538  66.354167   \n",
       "\n",
       "cluster                                                          2           \\\n",
       "year                                               2016       2011     2016   \n",
       "Contraceptive acceptance rate (thana) NGO, %  79.330000  77.835000  81.9700   \n",
       "Neonatal case fatality rate (EmOC)             0.299250   0.453350   0.4233   \n",
       "Crude coverage penta 2 children 23 months, %  98.000000  97.950000  97.3000   \n",
       "Proportion of rural deaths                    74.500000  72.000000  80.0000   \n",
       "Nurse training on KMC at SCANU, %             63.611538  66.354167  62.8000   \n",
       "\n",
       "cluster                                               3             \n",
       "year                                               2011       2016  \n",
       "Contraceptive acceptance rate (thana) NGO, %  80.430000  80.207213  \n",
       "Neonatal case fatality rate (EmOC)             0.097800   0.215150  \n",
       "Crude coverage penta 2 children 23 months, %  98.900000  98.100000  \n",
       "Proportion of rural deaths                    65.000000  71.500000  \n",
       "Nurse training on KMC at SCANU, %             66.354167  63.611538  "
      ]
     },
     "metadata": {},
     "output_type": "display_data"
    }
   ],
   "source": [
    "display(clusters_union_summ.head())\n",
    "clusters_union_summ.to_csv(DATA+'/anc_summaries/anc_union.csv')"
   ]
  },
  {
   "cell_type": "markdown",
   "metadata": {},
   "source": [
    "## Correlations"
   ]
  },
  {
   "cell_type": "code",
   "execution_count": 8,
   "metadata": {},
   "outputs": [
    {
     "name": "stdout",
     "output_type": "stream",
     "text": [
      "corr_antenatal_coverage_2011.csv\n"
     ]
    },
    {
     "data": {
      "text/html": [
       "<div>\n",
       "<style scoped>\n",
       "    .dataframe tbody tr th:only-of-type {\n",
       "        vertical-align: middle;\n",
       "    }\n",
       "\n",
       "    .dataframe tbody tr th {\n",
       "        vertical-align: top;\n",
       "    }\n",
       "\n",
       "    .dataframe thead th {\n",
       "        text-align: right;\n",
       "    }\n",
       "</style>\n",
       "<table border=\"1\" class=\"dataframe\">\n",
       "  <thead>\n",
       "    <tr style=\"text-align: right;\">\n",
       "      <th></th>\n",
       "      <th>index</th>\n",
       "      <th>DHS: Proportion of antenatal coverage</th>\n",
       "      <th>abs_antenatal_coverage</th>\n",
       "      <th>p_value</th>\n",
       "    </tr>\n",
       "  </thead>\n",
       "  <tbody>\n",
       "    <tr>\n",
       "      <th>0</th>\n",
       "      <td>DHS: Proportion of C-sections</td>\n",
       "      <td>0.684099</td>\n",
       "      <td>0.684099</td>\n",
       "      <td>4.623235e-10</td>\n",
       "    </tr>\n",
       "    <tr>\n",
       "      <th>1</th>\n",
       "      <td>DHS: Proportion of attendant deliveries</td>\n",
       "      <td>0.671220</td>\n",
       "      <td>0.671220</td>\n",
       "      <td>1.280299e-09</td>\n",
       "    </tr>\n",
       "    <tr>\n",
       "      <th>2</th>\n",
       "      <td>DHS: Proportion of institutional deliveries</td>\n",
       "      <td>0.632610</td>\n",
       "      <td>0.632610</td>\n",
       "      <td>2.048893e-08</td>\n",
       "    </tr>\n",
       "    <tr>\n",
       "      <th>3</th>\n",
       "      <td>DHS: Proportion of women (15-45 years)</td>\n",
       "      <td>0.543440</td>\n",
       "      <td>0.543440</td>\n",
       "      <td>3.479477e-06</td>\n",
       "    </tr>\n",
       "    <tr>\n",
       "      <th>4</th>\n",
       "      <td>DHS: Dependency ratio</td>\n",
       "      <td>-0.517718</td>\n",
       "      <td>0.517718</td>\n",
       "      <td>1.180959e-05</td>\n",
       "    </tr>\n",
       "  </tbody>\n",
       "</table>\n",
       "</div>"
      ],
      "text/plain": [
       "                                         index  \\\n",
       "0                DHS: Proportion of C-sections   \n",
       "1      DHS: Proportion of attendant deliveries   \n",
       "2  DHS: Proportion of institutional deliveries   \n",
       "3       DHS: Proportion of women (15-45 years)   \n",
       "4                        DHS: Dependency ratio   \n",
       "\n",
       "   DHS: Proportion of antenatal coverage  abs_antenatal_coverage       p_value  \n",
       "0                               0.684099                0.684099  4.623235e-10  \n",
       "1                               0.671220                0.671220  1.280299e-09  \n",
       "2                               0.632610                0.632610  2.048893e-08  \n",
       "3                               0.543440                0.543440  3.479477e-06  \n",
       "4                              -0.517718                0.517718  1.180959e-05  "
      ]
     },
     "metadata": {},
     "output_type": "display_data"
    },
    {
     "data": {
      "text/plain": [
       "(46, 4)"
      ]
     },
     "metadata": {},
     "output_type": "display_data"
    },
    {
     "name": "stdout",
     "output_type": "stream",
     "text": [
      "cca_antenatal_coverage_2011.csv\n"
     ]
    },
    {
     "data": {
      "text/html": [
       "<div>\n",
       "<style scoped>\n",
       "    .dataframe tbody tr th:only-of-type {\n",
       "        vertical-align: middle;\n",
       "    }\n",
       "\n",
       "    .dataframe tbody tr th {\n",
       "        vertical-align: top;\n",
       "    }\n",
       "\n",
       "    .dataframe thead th {\n",
       "        text-align: right;\n",
       "    }\n",
       "</style>\n",
       "<table border=\"1\" class=\"dataframe\">\n",
       "  <thead>\n",
       "    <tr style=\"text-align: right;\">\n",
       "      <th></th>\n",
       "      <th>Indicators</th>\n",
       "      <th>CCA_coeff</th>\n",
       "      <th>CCA_coeff_abs</th>\n",
       "    </tr>\n",
       "  </thead>\n",
       "  <tbody>\n",
       "    <tr>\n",
       "      <th>0</th>\n",
       "      <td>Crude coverage TT4 among mothers with 0-11 mon...</td>\n",
       "      <td>-0.182782</td>\n",
       "      <td>0.182782</td>\n",
       "    </tr>\n",
       "    <tr>\n",
       "      <th>1</th>\n",
       "      <td>Crude coverage TT5 among mothers with 0-11 chi...</td>\n",
       "      <td>-0.142744</td>\n",
       "      <td>0.142744</td>\n",
       "    </tr>\n",
       "    <tr>\n",
       "      <th>2</th>\n",
       "      <td>Crude coverage BCG children 12 months, %</td>\n",
       "      <td>0.102570</td>\n",
       "      <td>0.102570</td>\n",
       "    </tr>\n",
       "    <tr>\n",
       "      <th>3</th>\n",
       "      <td>Proportion of women (15-45 years)</td>\n",
       "      <td>-0.122544</td>\n",
       "      <td>0.122544</td>\n",
       "    </tr>\n",
       "    <tr>\n",
       "      <th>4</th>\n",
       "      <td>Proportion of registered births</td>\n",
       "      <td>0.124551</td>\n",
       "      <td>0.124551</td>\n",
       "    </tr>\n",
       "  </tbody>\n",
       "</table>\n",
       "</div>"
      ],
      "text/plain": [
       "                                          Indicators  CCA_coeff  CCA_coeff_abs\n",
       "0  Crude coverage TT4 among mothers with 0-11 mon...  -0.182782       0.182782\n",
       "1  Crude coverage TT5 among mothers with 0-11 chi...  -0.142744       0.142744\n",
       "2           Crude coverage BCG children 12 months, %   0.102570       0.102570\n",
       "3                  Proportion of women (15-45 years)  -0.122544       0.122544\n",
       "4                    Proportion of registered births   0.124551       0.124551"
      ]
     },
     "metadata": {},
     "output_type": "display_data"
    },
    {
     "data": {
      "text/plain": [
       "(31, 3)"
      ]
     },
     "metadata": {},
     "output_type": "display_data"
    },
    {
     "name": "stdout",
     "output_type": "stream",
     "text": [
      "corr_antenatal_coverage_2016.csv\n"
     ]
    },
    {
     "data": {
      "text/html": [
       "<div>\n",
       "<style scoped>\n",
       "    .dataframe tbody tr th:only-of-type {\n",
       "        vertical-align: middle;\n",
       "    }\n",
       "\n",
       "    .dataframe tbody tr th {\n",
       "        vertical-align: top;\n",
       "    }\n",
       "\n",
       "    .dataframe thead th {\n",
       "        text-align: right;\n",
       "    }\n",
       "</style>\n",
       "<table border=\"1\" class=\"dataframe\">\n",
       "  <thead>\n",
       "    <tr style=\"text-align: right;\">\n",
       "      <th></th>\n",
       "      <th>index</th>\n",
       "      <th>DHS: Proportion of antenatal coverage</th>\n",
       "      <th>abs_antenatal_coverage</th>\n",
       "      <th>p_value</th>\n",
       "    </tr>\n",
       "  </thead>\n",
       "  <tbody>\n",
       "    <tr>\n",
       "      <th>0</th>\n",
       "      <td>DHS: Proportion of attendant deliveries</td>\n",
       "      <td>0.774294</td>\n",
       "      <td>0.774294</td>\n",
       "      <td>6.170175e-14</td>\n",
       "    </tr>\n",
       "    <tr>\n",
       "      <th>1</th>\n",
       "      <td>DHS: Proportion of institutional deliveries</td>\n",
       "      <td>0.772737</td>\n",
       "      <td>0.772737</td>\n",
       "      <td>7.444530e-14</td>\n",
       "    </tr>\n",
       "    <tr>\n",
       "      <th>2</th>\n",
       "      <td>DHS: Proportion of C-sections</td>\n",
       "      <td>0.741550</td>\n",
       "      <td>0.741550</td>\n",
       "      <td>2.405134e-12</td>\n",
       "    </tr>\n",
       "    <tr>\n",
       "      <th>3</th>\n",
       "      <td>DHS: Dependency ratio</td>\n",
       "      <td>-0.406460</td>\n",
       "      <td>0.406460</td>\n",
       "      <td>8.599801e-04</td>\n",
       "    </tr>\n",
       "    <tr>\n",
       "      <th>4</th>\n",
       "      <td>DHS: Proportion of women (15-45 years)</td>\n",
       "      <td>0.400571</td>\n",
       "      <td>0.400571</td>\n",
       "      <td>1.038380e-03</td>\n",
       "    </tr>\n",
       "  </tbody>\n",
       "</table>\n",
       "</div>"
      ],
      "text/plain": [
       "                                         index  \\\n",
       "0      DHS: Proportion of attendant deliveries   \n",
       "1  DHS: Proportion of institutional deliveries   \n",
       "2                DHS: Proportion of C-sections   \n",
       "3                        DHS: Dependency ratio   \n",
       "4       DHS: Proportion of women (15-45 years)   \n",
       "\n",
       "   DHS: Proportion of antenatal coverage  abs_antenatal_coverage       p_value  \n",
       "0                               0.774294                0.774294  6.170175e-14  \n",
       "1                               0.772737                0.772737  7.444530e-14  \n",
       "2                               0.741550                0.741550  2.405134e-12  \n",
       "3                              -0.406460                0.406460  8.599801e-04  \n",
       "4                               0.400571                0.400571  1.038380e-03  "
      ]
     },
     "metadata": {},
     "output_type": "display_data"
    },
    {
     "data": {
      "text/plain": [
       "(17, 4)"
      ]
     },
     "metadata": {},
     "output_type": "display_data"
    },
    {
     "name": "stdout",
     "output_type": "stream",
     "text": [
      "cca_antenatal_coverage_2016.csv\n"
     ]
    },
    {
     "data": {
      "text/html": [
       "<div>\n",
       "<style scoped>\n",
       "    .dataframe tbody tr th:only-of-type {\n",
       "        vertical-align: middle;\n",
       "    }\n",
       "\n",
       "    .dataframe tbody tr th {\n",
       "        vertical-align: top;\n",
       "    }\n",
       "\n",
       "    .dataframe thead th {\n",
       "        text-align: right;\n",
       "    }\n",
       "</style>\n",
       "<table border=\"1\" class=\"dataframe\">\n",
       "  <thead>\n",
       "    <tr style=\"text-align: right;\">\n",
       "      <th></th>\n",
       "      <th>Indicators</th>\n",
       "      <th>CCA_coeff</th>\n",
       "      <th>CCA_coeff_abs</th>\n",
       "    </tr>\n",
       "  </thead>\n",
       "  <tbody>\n",
       "    <tr>\n",
       "      <th>0</th>\n",
       "      <td>Vitamin A coverage children 12-59 months, %</td>\n",
       "      <td>-0.203491</td>\n",
       "      <td>0.203491</td>\n",
       "    </tr>\n",
       "    <tr>\n",
       "      <th>1</th>\n",
       "      <td>Proportion of rural deaths</td>\n",
       "      <td>-0.105043</td>\n",
       "      <td>0.105043</td>\n",
       "    </tr>\n",
       "    <tr>\n",
       "      <th>2</th>\n",
       "      <td>Proportion of women population</td>\n",
       "      <td>0.118521</td>\n",
       "      <td>0.118521</td>\n",
       "    </tr>\n",
       "    <tr>\n",
       "      <th>3</th>\n",
       "      <td>Dependency ratio</td>\n",
       "      <td>-0.124174</td>\n",
       "      <td>0.124174</td>\n",
       "    </tr>\n",
       "    <tr>\n",
       "      <th>4</th>\n",
       "      <td>Sex ratio</td>\n",
       "      <td>-0.114493</td>\n",
       "      <td>0.114493</td>\n",
       "    </tr>\n",
       "  </tbody>\n",
       "</table>\n",
       "</div>"
      ],
      "text/plain": [
       "                                    Indicators  CCA_coeff  CCA_coeff_abs\n",
       "0  Vitamin A coverage children 12-59 months, %  -0.203491       0.203491\n",
       "1                   Proportion of rural deaths  -0.105043       0.105043\n",
       "2               Proportion of women population   0.118521       0.118521\n",
       "3                             Dependency ratio  -0.124174       0.124174\n",
       "4                                    Sex ratio  -0.114493       0.114493"
      ]
     },
     "metadata": {},
     "output_type": "display_data"
    },
    {
     "data": {
      "text/plain": [
       "(28, 3)"
      ]
     },
     "metadata": {},
     "output_type": "display_data"
    }
   ],
   "source": [
    "corr_cca = read_corr_cca(dir_path=DATA,files_list=corr_cca)\n",
    "for key, value in corr_cca.items():\n",
    "    print(key)\n",
    "    display(value.head())\n",
    "    display(value.shape)"
   ]
  }
 ],
 "metadata": {
  "kernelspec": {
   "display_name": "Python 3",
   "language": "python",
   "name": "python3"
  },
  "language_info": {
   "codemirror_mode": {
    "name": "ipython",
    "version": 3
   },
   "file_extension": ".py",
   "mimetype": "text/x-python",
   "name": "python",
   "nbconvert_exporter": "python",
   "pygments_lexer": "ipython3",
   "version": "3.7.2"
  }
 },
 "nbformat": 4,
 "nbformat_minor": 2
}
