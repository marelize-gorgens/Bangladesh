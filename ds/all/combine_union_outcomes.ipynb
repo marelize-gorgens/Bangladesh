{
 "cells": [
  {
   "cell_type": "markdown",
   "metadata": {},
   "source": [
    "# Combine outcome variables and clusters union results"
   ]
  },
  {
   "cell_type": "code",
   "execution_count": 1,
   "metadata": {},
   "outputs": [],
   "source": [
    "import pandas as pd"
   ]
  },
  {
   "cell_type": "code",
   "execution_count": 2,
   "metadata": {},
   "outputs": [
    {
     "name": "stdout",
     "output_type": "stream",
     "text": [
      "(64, 5)\n",
      "(64, 5)\n",
      "(128, 470)\n"
     ]
    }
   ],
   "source": [
    "outcome_variables = ['DistrictName', 'rate_maternal_mortality',\n",
    "                     'rate_under5y_mortality', 'prop_unmet_need_family_planing',\n",
    "                     'prop_antenatal_coverage']\n",
    "DATA = '/Users/edinhamzic/Symphony/wb_bangladesh/Bangladesh/output/all/all.csv'\n",
    "DATA2011 = '/Users/edinhamzic/Symphony/wb_bangladesh/Bangladesh/output/all/all2011.csv'\n",
    "DATA2016 = '/Users/edinhamzic/Symphony/wb_bangladesh/Bangladesh/output/all/all2016.csv'\n",
    "data = pd.read_csv(DATA)\n",
    "data2011 = pd.read_csv(DATA2011)\n",
    "data2011 = data2011[outcome_variables]\n",
    "data2016 = pd.read_csv(DATA2016)\n",
    "data2016 = data2016[outcome_variables]\n",
    "print(data2016.shape)\n",
    "print(data2011.shape)\n",
    "print(data.shape)"
   ]
  },
  {
   "cell_type": "markdown",
   "metadata": {},
   "source": [
    "## Maternal mortality"
   ]
  },
  {
   "cell_type": "code",
   "execution_count": 3,
   "metadata": {},
   "outputs": [
    {
     "name": "stdout",
     "output_type": "stream",
     "text": [
      "(128, 1003)\n",
      "(64, 72)\n",
      "(64, 72)\n",
      "(128, 1472)\n",
      "(64, 76)\n",
      "(64, 76)\n"
     ]
    }
   ],
   "source": [
    "clusters_union_all = '/Users/edinhamzic/Symphony/wb_bangladesh/Bangladesh/output/all/clusters_maternal_mortality_union_all.csv'\n",
    "clusters_union_2011 = '/Users/edinhamzic/Symphony/wb_bangladesh/Bangladesh/output/all/clusters_maternal_mortality_union_2011.csv'\n",
    "clusters_union_2016 = '/Users/edinhamzic/Symphony/wb_bangladesh/Bangladesh/output/all/clusters_maternal_mortality_union_2016.csv'\n",
    "clusters_all = pd.read_csv(clusters_union_all)\n",
    "clusters_2011 = pd.read_csv(clusters_union_2011)\n",
    "clusters_2016 = pd.read_csv(clusters_union_2016)\n",
    "test1 = all(clusters_all['DistrictName'] == data['DistrictName'])\n",
    "test2 = all(clusters_2011['DistrictName'] == data2011['DistrictName'])\n",
    "test3 = all(clusters_2011['DistrictName'] == data2016['DistrictName'])\n",
    "if test1 and test2 and test3:\n",
    "    print(clusters_all.shape)\n",
    "    print(clusters_2011.shape)\n",
    "    print(clusters_2016.shape)\n",
    "    clusters_all = pd.concat([clusters_all, data.drop('DistrictName', axis=1)],axis=1)\n",
    "    clusters_2011 = pd.concat([clusters_2011, data2011.drop('DistrictName', axis=1)],axis=1)\n",
    "    clusters_2016 = pd.concat([clusters_2016, data2016.drop('DistrictName', axis=1)],axis=1)\n",
    "    print(clusters_all.shape)\n",
    "    print(clusters_2011.shape)\n",
    "    print(clusters_2016.shape)\n",
    "    clusters_all.to_csv(clusters_union_all)\n",
    "    clusters_2011.to_csv(clusters_union_2011)\n",
    "    clusters_2016.to_csv(clusters_union_2016)\n"
   ]
  },
  {
   "cell_type": "markdown",
   "metadata": {},
   "source": [
    "## Under 5 years mortality"
   ]
  },
  {
   "cell_type": "code",
   "execution_count": 4,
   "metadata": {},
   "outputs": [
    {
     "name": "stdout",
     "output_type": "stream",
     "text": [
      "(128, 541)\n",
      "(64, 75)\n",
      "(64, 75)\n",
      "(128, 1010)\n",
      "(64, 79)\n",
      "(64, 79)\n"
     ]
    }
   ],
   "source": [
    "clusters_union_all = '/Users/edinhamzic/Symphony/wb_bangladesh/Bangladesh/output/all/clusters_under5_mortality_union_all.csv'\n",
    "clusters_union_2016 = '/Users/edinhamzic/Symphony/wb_bangladesh/Bangladesh/output/all/clusters_under5_mortality_union_2016.csv'\n",
    "clusters_union_2011 = '/Users/edinhamzic/Symphony/wb_bangladesh/Bangladesh/output/all/clusters_under5_mortality_union_2011.csv'\n",
    "clusters_all = pd.read_csv(clusters_union_all)\n",
    "clusters_2011 = pd.read_csv(clusters_union_2011)\n",
    "clusters_2016 = pd.read_csv(clusters_union_2016)\n",
    "test1 = all(clusters_all['DistrictName'] == data['DistrictName'])\n",
    "test2 = all(clusters_2011['DistrictName'] == data2011['DistrictName'])\n",
    "test3 = all(clusters_2011['DistrictName'] == data2016['DistrictName'])\n",
    "if test1 and test2 and test3:\n",
    "    print(clusters_all.shape)\n",
    "    print(clusters_2011.shape)\n",
    "    print(clusters_2016.shape)\n",
    "    clusters_all = pd.concat([clusters_all, data.drop('DistrictName', axis=1)],axis=1)\n",
    "    clusters_2011 = pd.concat([clusters_2011, data2011.drop('DistrictName', axis=1)],axis=1)\n",
    "    clusters_2016 = pd.concat([clusters_2016, data2016.drop('DistrictName', axis=1)],axis=1)\n",
    "    print(clusters_all.shape)\n",
    "    print(clusters_2011.shape)\n",
    "    print(clusters_2016.shape)\n",
    "    clusters_all.to_csv(clusters_union_all)\n",
    "    clusters_2011.to_csv(clusters_union_2011)\n",
    "    clusters_2016.to_csv(clusters_union_2016)\n"
   ]
  },
  {
   "cell_type": "markdown",
   "metadata": {},
   "source": [
    "## ANC"
   ]
  },
  {
   "cell_type": "code",
   "execution_count": 5,
   "metadata": {},
   "outputs": [
    {
     "name": "stdout",
     "output_type": "stream",
     "text": [
      "(128, 560)\n",
      "(64, 94)\n",
      "(64, 94)\n",
      "(128, 1029)\n",
      "(64, 98)\n",
      "(64, 98)\n"
     ]
    }
   ],
   "source": [
    "clusters_union_all = '/Users/edinhamzic/Symphony/wb_bangladesh/Bangladesh/output/all/clusters_antenatal_coverage_union_all.csv'\n",
    "clusters_union_2016 = '/Users/edinhamzic/Symphony/wb_bangladesh/Bangladesh/output/all/clusters_antenatal_coverage_union_2016.csv'\n",
    "clusters_union_2011 = '/Users/edinhamzic/Symphony/wb_bangladesh/Bangladesh/output/all/clusters_antenatal_coverage_union_2011.csv'\n",
    "clusters_all = pd.read_csv(clusters_union_all)\n",
    "clusters_2011 = pd.read_csv(clusters_union_2011)\n",
    "clusters_2016 = pd.read_csv(clusters_union_2016)\n",
    "test1 = all(clusters_all['DistrictName'] == data['DistrictName'])\n",
    "test2 = all(clusters_2011['DistrictName'] == data2011['DistrictName'])\n",
    "test3 = all(clusters_2011['DistrictName'] == data2016['DistrictName'])\n",
    "if test1 and test2 and test3:\n",
    "    print(clusters_all.shape)\n",
    "    print(clusters_2011.shape)\n",
    "    print(clusters_2016.shape)\n",
    "    clusters_all = pd.concat([clusters_all, data.drop('DistrictName', axis=1)],axis=1)\n",
    "    clusters_2011 = pd.concat([clusters_2011, data2011.drop('DistrictName', axis=1)],axis=1)\n",
    "    clusters_2016 = pd.concat([clusters_2016, data2016.drop('DistrictName', axis=1)],axis=1)\n",
    "    print(clusters_all.shape)\n",
    "    print(clusters_2011.shape)\n",
    "    print(clusters_2016.shape)\n",
    "    clusters_all.to_csv(clusters_union_all)\n",
    "    clusters_2011.to_csv(clusters_union_2011)\n",
    "    clusters_2016.to_csv(clusters_union_2016)\n"
   ]
  },
  {
   "cell_type": "markdown",
   "metadata": {},
   "source": [
    "## Unmet need for family planning"
   ]
  },
  {
   "cell_type": "code",
   "execution_count": 6,
   "metadata": {},
   "outputs": [
    {
     "name": "stdout",
     "output_type": "stream",
     "text": [
      "(128, 119)\n",
      "(64, 118)\n",
      "(64, 118)\n",
      "(128, 588)\n",
      "(64, 122)\n",
      "(64, 122)\n"
     ]
    }
   ],
   "source": [
    "clusters_union_all = '/Users/edinhamzic/Symphony/wb_bangladesh/Bangladesh/output/all/clusters_unmet_needs_vars_union_all.csv'\n",
    "clusters_union_2016 = '/Users/edinhamzic/Symphony/wb_bangladesh/Bangladesh/output/all/clusters_unmet_needs_vars_union_2016.csv'\n",
    "clusters_union_2011 = '/Users/edinhamzic/Symphony/wb_bangladesh/Bangladesh/output/all/clusters_unmet_needs_vars_union_2011.csv'\n",
    "clusters_all = pd.read_csv(clusters_union_all)\n",
    "clusters_2011 = pd.read_csv(clusters_union_2011)\n",
    "clusters_2016 = pd.read_csv(clusters_union_2016)\n",
    "test1 = all(clusters_all['DistrictName'] == data['DistrictName'])\n",
    "test2 = all(clusters_2011['DistrictName'] == data2011['DistrictName'])\n",
    "test3 = all(clusters_2011['DistrictName'] == data2016['DistrictName'])\n",
    "if test1 and test2 and test3:\n",
    "    print(clusters_all.shape)\n",
    "    print(clusters_2011.shape)\n",
    "    print(clusters_2016.shape)\n",
    "    clusters_all = pd.concat([clusters_all, data.drop('DistrictName', axis=1)],axis=1)\n",
    "    clusters_2011 = pd.concat([clusters_2011, data2011.drop('DistrictName', axis=1)],axis=1)\n",
    "    clusters_2016 = pd.concat([clusters_2016, data2016.drop('DistrictName', axis=1)],axis=1)\n",
    "    print(clusters_all.shape)\n",
    "    print(clusters_2011.shape)\n",
    "    print(clusters_2016.shape)\n",
    "    clusters_all.to_csv(clusters_union_all)\n",
    "    clusters_2011.to_csv(clusters_union_2011)\n",
    "    clusters_2016.to_csv(clusters_union_2016)\n"
   ]
  }
 ],
 "metadata": {
  "kernelspec": {
   "display_name": "Python 3",
   "language": "python",
   "name": "python3"
  },
  "language_info": {
   "codemirror_mode": {
    "name": "ipython",
    "version": 3
   },
   "file_extension": ".py",
   "mimetype": "text/x-python",
   "name": "python",
   "nbconvert_exporter": "python",
   "pygments_lexer": "ipython3",
   "version": "3.7.2"
  }
 },
 "nbformat": 4,
 "nbformat_minor": 2
}
