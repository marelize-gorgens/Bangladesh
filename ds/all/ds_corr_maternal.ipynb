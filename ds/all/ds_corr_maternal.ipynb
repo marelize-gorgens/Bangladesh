{
 "cells": [
  {
   "cell_type": "markdown",
   "metadata": {},
   "source": [
    "# Correlation analysis, CCA and feature importance\n",
    "\n",
    "## Outcome variables:\n",
    "- Maternal mortality rate: rate_maternal_mortality\n",
    "- Under 5 mortality rate: rate_under5y_mortality\n",
    "- Antenatal coverage (ANC): prop_antenatal_coverage\n",
    "- Proportion of unmet contraceptive need: prop_unmet_need_family_planing\n",
    "- ORS: "
   ]
  },
  {
   "cell_type": "code",
   "execution_count": 1,
   "metadata": {},
   "outputs": [],
   "source": [
    "import re\n",
    "import collections\n",
    "import numpy as np\n",
    "import pandas as pd\n",
    "import seaborn as sns\n",
    "import matplotlib.pyplot as plt\n",
    "from sklearn.decomposition import PCA\n",
    "from sklearn.cross_decomposition import CCA\n",
    "from sklearn.preprocessing import StandardScaler\n",
    "\n",
    "%matplotlib inline"
   ]
  },
  {
   "cell_type": "code",
   "execution_count": 2,
   "metadata": {},
   "outputs": [],
   "source": [
    "def remove_miss_vars(input_df):\n",
    "    df = input_df.copy(deep=True)\n",
    "    remove_list = []\n",
    "    for var in df.columns:\n",
    "        if any(df[var].isna()):\n",
    "            remove_list.append(var)\n",
    "    return df.drop(remove_list, axis=1)\n",
    "\n",
    "def impute_miss_vars(input_df):\n",
    "    df = input_df.copy(deep=True)\n",
    "    for var in df.columns:\n",
    "        if any(df[var].isna()):\n",
    "            df[var].fillna(df[var].mean, inplace=True)\n",
    "    return df\n",
    "\n",
    "def intersect_dfs(input_df1, input_df2):\n",
    "    df1 = input_df1.copy(deep=True)\n",
    "    df2 = input_df2.copy(deep=True)\n",
    "    subset_var = list(set(list(df1.columns)).intersection(set(list(df2.columns))))\n",
    "    return df1[subset_var], df2[subset_var]"
   ]
  },
  {
   "cell_type": "markdown",
   "metadata": {},
   "source": [
    "## STEP 1: Import data and data processing: remove absolute and remove missing values"
   ]
  },
  {
   "cell_type": "code",
   "execution_count": 3,
   "metadata": {},
   "outputs": [],
   "source": [
    "DATA2011 = '/Users/edinhamzic/Symphony/wb_bangladesh/Bangladesh/output/all/all2011.csv'\n",
    "DATA2016 = '/Users/edinhamzic/Symphony/wb_bangladesh/Bangladesh/output/all/all2016.csv'\n",
    "DHIS2_VARS = '/Users/edinhamzic/Symphony/wb_bangladesh/Bangladesh/output/all/DHIS_Rate_Absolute.csv'\n",
    "OUT = '/Users/edinhamzic/Symphony/wb_bangladesh/Bangladesh/output/all/'"
   ]
  },
  {
   "cell_type": "code",
   "execution_count": 4,
   "metadata": {},
   "outputs": [
    {
     "name": "stdout",
     "output_type": "stream",
     "text": [
      "(349, 4)\n",
      "(279, 4)\n"
     ]
    }
   ],
   "source": [
    "d2011 = pd.read_csv(DATA2011)\n",
    "d2016 = pd.read_csv(DATA2016)\n",
    "dhis2vars = pd.read_csv(DHIS2_VARS)\n",
    "print(dhis2vars.shape)\n",
    "tmp = dhis2vars[dhis2vars['Rate_Absolute'] == 'Absolute']\n",
    "print(tmp.shape)\n",
    "vars_remove = list(tmp['Full_name'])"
   ]
  },
  {
   "cell_type": "code",
   "execution_count": 5,
   "metadata": {},
   "outputs": [],
   "source": [
    "d2011 = d2011.drop(vars_remove, axis=1)\n",
    "d2016 = d2016.drop(vars_remove, axis=1)"
   ]
  },
  {
   "cell_type": "code",
   "execution_count": 6,
   "metadata": {},
   "outputs": [
    {
     "name": "stdout",
     "output_type": "stream",
     "text": [
      "(64, 188)\n",
      "(64, 187)\n",
      "(64, 187)\n"
     ]
    },
    {
     "data": {
      "text/html": [
       "<div>\n",
       "<style scoped>\n",
       "    .dataframe tbody tr th:only-of-type {\n",
       "        vertical-align: middle;\n",
       "    }\n",
       "\n",
       "    .dataframe tbody tr th {\n",
       "        vertical-align: top;\n",
       "    }\n",
       "\n",
       "    .dataframe thead th {\n",
       "        text-align: right;\n",
       "    }\n",
       "</style>\n",
       "<table border=\"1\" class=\"dataframe\">\n",
       "  <thead>\n",
       "    <tr style=\"text-align: right;\">\n",
       "      <th></th>\n",
       "      <th>BCG_Children12M</th>\n",
       "      <th>PENTA1_Children23M</th>\n",
       "      <th>OPV2_Children12M</th>\n",
       "      <th>PENTA2_Children12M</th>\n",
       "      <th>PENTA2_Children23M</th>\n",
       "      <th>Fully_Children12M</th>\n",
       "      <th>Measles_Children23M</th>\n",
       "      <th>PENTA1_Children12M</th>\n",
       "      <th>PENTA3_Children12M</th>\n",
       "      <th>TT4_Mother0-11MChildren</th>\n",
       "      <th>...</th>\n",
       "      <th>prop_current_contraceptive</th>\n",
       "      <th>prop_pop_women.1</th>\n",
       "      <th>prop_unmet_need_family_planing</th>\n",
       "      <th>prop_pop_rural_women.1</th>\n",
       "      <th>prop_female_head</th>\n",
       "      <th>prop_pop_rural.1</th>\n",
       "      <th>prop_women_15.45y_overwomen.1</th>\n",
       "      <th>prop_antenatal_coverage</th>\n",
       "      <th>dependency_ratio.1</th>\n",
       "      <th>prop_caesarean</th>\n",
       "    </tr>\n",
       "    <tr>\n",
       "      <th>DistrictName</th>\n",
       "      <th></th>\n",
       "      <th></th>\n",
       "      <th></th>\n",
       "      <th></th>\n",
       "      <th></th>\n",
       "      <th></th>\n",
       "      <th></th>\n",
       "      <th></th>\n",
       "      <th></th>\n",
       "      <th></th>\n",
       "      <th></th>\n",
       "      <th></th>\n",
       "      <th></th>\n",
       "      <th></th>\n",
       "      <th></th>\n",
       "      <th></th>\n",
       "      <th></th>\n",
       "      <th></th>\n",
       "      <th></th>\n",
       "      <th></th>\n",
       "      <th></th>\n",
       "    </tr>\n",
       "  </thead>\n",
       "  <tbody>\n",
       "    <tr>\n",
       "      <th>Bagerhat</th>\n",
       "      <td>98.1</td>\n",
       "      <td>98.1</td>\n",
       "      <td>96.0</td>\n",
       "      <td>96.0</td>\n",
       "      <td>96.0</td>\n",
       "      <td>78.3</td>\n",
       "      <td>88.1</td>\n",
       "      <td>98.1</td>\n",
       "      <td>85.6</td>\n",
       "      <td>52.9</td>\n",
       "      <td>...</td>\n",
       "      <td>65.52</td>\n",
       "      <td>44.85</td>\n",
       "      <td>7.89</td>\n",
       "      <td>5.67</td>\n",
       "      <td>11.29</td>\n",
       "      <td>11.48</td>\n",
       "      <td>46.74</td>\n",
       "      <td>29.91</td>\n",
       "      <td>74.37</td>\n",
       "      <td>15.74</td>\n",
       "    </tr>\n",
       "    <tr>\n",
       "      <th>Bandarban</th>\n",
       "      <td>94.3</td>\n",
       "      <td>94.3</td>\n",
       "      <td>90.8</td>\n",
       "      <td>90.2</td>\n",
       "      <td>90.2</td>\n",
       "      <td>73.1</td>\n",
       "      <td>82.3</td>\n",
       "      <td>94.3</td>\n",
       "      <td>83.8</td>\n",
       "      <td>54.3</td>\n",
       "      <td>...</td>\n",
       "      <td>45.45</td>\n",
       "      <td>127.03</td>\n",
       "      <td>27.27</td>\n",
       "      <td>0.00</td>\n",
       "      <td>11.29</td>\n",
       "      <td>0.00</td>\n",
       "      <td>35.56</td>\n",
       "      <td>30.00</td>\n",
       "      <td>107.50</td>\n",
       "      <td>0.00</td>\n",
       "    </tr>\n",
       "    <tr>\n",
       "      <th>Barguna</th>\n",
       "      <td>100.0</td>\n",
       "      <td>100.0</td>\n",
       "      <td>98.6</td>\n",
       "      <td>98.6</td>\n",
       "      <td>98.6</td>\n",
       "      <td>74.4</td>\n",
       "      <td>88.1</td>\n",
       "      <td>100.0</td>\n",
       "      <td>87.3</td>\n",
       "      <td>47.6</td>\n",
       "      <td>...</td>\n",
       "      <td>72.36</td>\n",
       "      <td>25.33</td>\n",
       "      <td>11.14</td>\n",
       "      <td>2.98</td>\n",
       "      <td>2.97</td>\n",
       "      <td>6.48</td>\n",
       "      <td>49.26</td>\n",
       "      <td>37.91</td>\n",
       "      <td>70.73</td>\n",
       "      <td>5.21</td>\n",
       "    </tr>\n",
       "    <tr>\n",
       "      <th>Barisal</th>\n",
       "      <td>98.6</td>\n",
       "      <td>98.6</td>\n",
       "      <td>98.1</td>\n",
       "      <td>98.1</td>\n",
       "      <td>98.1</td>\n",
       "      <td>73.4</td>\n",
       "      <td>86.8</td>\n",
       "      <td>98.6</td>\n",
       "      <td>86.9</td>\n",
       "      <td>52.4</td>\n",
       "      <td>...</td>\n",
       "      <td>64.33</td>\n",
       "      <td>24.48</td>\n",
       "      <td>13.31</td>\n",
       "      <td>4.37</td>\n",
       "      <td>5.10</td>\n",
       "      <td>8.22</td>\n",
       "      <td>48.17</td>\n",
       "      <td>35.21</td>\n",
       "      <td>75.53</td>\n",
       "      <td>13.06</td>\n",
       "    </tr>\n",
       "    <tr>\n",
       "      <th>Bhola</th>\n",
       "      <td>100.0</td>\n",
       "      <td>100.0</td>\n",
       "      <td>96.5</td>\n",
       "      <td>95.8</td>\n",
       "      <td>95.8</td>\n",
       "      <td>74.7</td>\n",
       "      <td>85.0</td>\n",
       "      <td>100.0</td>\n",
       "      <td>86.3</td>\n",
       "      <td>67.6</td>\n",
       "      <td>...</td>\n",
       "      <td>68.40</td>\n",
       "      <td>26.74</td>\n",
       "      <td>10.81</td>\n",
       "      <td>3.86</td>\n",
       "      <td>5.65</td>\n",
       "      <td>7.40</td>\n",
       "      <td>45.49</td>\n",
       "      <td>25.64</td>\n",
       "      <td>80.16</td>\n",
       "      <td>3.75</td>\n",
       "    </tr>\n",
       "  </tbody>\n",
       "</table>\n",
       "<p>5 rows × 187 columns</p>\n",
       "</div>"
      ],
      "text/plain": [
       "              BCG_Children12M  PENTA1_Children23M  OPV2_Children12M  \\\n",
       "DistrictName                                                          \n",
       "Bagerhat                 98.1                98.1              96.0   \n",
       "Bandarban                94.3                94.3              90.8   \n",
       "Barguna                 100.0               100.0              98.6   \n",
       "Barisal                  98.6                98.6              98.1   \n",
       "Bhola                   100.0               100.0              96.5   \n",
       "\n",
       "              PENTA2_Children12M  PENTA2_Children23M  Fully_Children12M  \\\n",
       "DistrictName                                                              \n",
       "Bagerhat                    96.0                96.0               78.3   \n",
       "Bandarban                   90.2                90.2               73.1   \n",
       "Barguna                     98.6                98.6               74.4   \n",
       "Barisal                     98.1                98.1               73.4   \n",
       "Bhola                       95.8                95.8               74.7   \n",
       "\n",
       "              Measles_Children23M  PENTA1_Children12M  PENTA3_Children12M  \\\n",
       "DistrictName                                                                \n",
       "Bagerhat                     88.1                98.1                85.6   \n",
       "Bandarban                    82.3                94.3                83.8   \n",
       "Barguna                      88.1               100.0                87.3   \n",
       "Barisal                      86.8                98.6                86.9   \n",
       "Bhola                        85.0               100.0                86.3   \n",
       "\n",
       "              TT4_Mother0-11MChildren  ...  prop_current_contraceptive  \\\n",
       "DistrictName                           ...                               \n",
       "Bagerhat                         52.9  ...                       65.52   \n",
       "Bandarban                        54.3  ...                       45.45   \n",
       "Barguna                          47.6  ...                       72.36   \n",
       "Barisal                          52.4  ...                       64.33   \n",
       "Bhola                            67.6  ...                       68.40   \n",
       "\n",
       "              prop_pop_women.1  prop_unmet_need_family_planing  \\\n",
       "DistrictName                                                     \n",
       "Bagerhat                 44.85                            7.89   \n",
       "Bandarban               127.03                           27.27   \n",
       "Barguna                  25.33                           11.14   \n",
       "Barisal                  24.48                           13.31   \n",
       "Bhola                    26.74                           10.81   \n",
       "\n",
       "              prop_pop_rural_women.1  prop_female_head  prop_pop_rural.1  \\\n",
       "DistrictName                                                               \n",
       "Bagerhat                        5.67             11.29             11.48   \n",
       "Bandarban                       0.00             11.29              0.00   \n",
       "Barguna                         2.98              2.97              6.48   \n",
       "Barisal                         4.37              5.10              8.22   \n",
       "Bhola                           3.86              5.65              7.40   \n",
       "\n",
       "              prop_women_15.45y_overwomen.1  prop_antenatal_coverage  \\\n",
       "DistrictName                                                           \n",
       "Bagerhat                              46.74                    29.91   \n",
       "Bandarban                             35.56                    30.00   \n",
       "Barguna                               49.26                    37.91   \n",
       "Barisal                               48.17                    35.21   \n",
       "Bhola                                 45.49                    25.64   \n",
       "\n",
       "              dependency_ratio.1  prop_caesarean  \n",
       "DistrictName                                      \n",
       "Bagerhat                   74.37           15.74  \n",
       "Bandarban                 107.50            0.00  \n",
       "Barguna                    70.73            5.21  \n",
       "Barisal                    75.53           13.06  \n",
       "Bhola                      80.16            3.75  \n",
       "\n",
       "[5 rows x 187 columns]"
      ]
     },
     "execution_count": 6,
     "metadata": {},
     "output_type": "execute_result"
    }
   ],
   "source": [
    "d2011.shape\n",
    "d2011 = d2011.set_index(['DistrictName'])\n",
    "print(d2011.shape)\n",
    "d2011 = d2011.drop(['DistrictGeo'], axis=1)\n",
    "print(d2011.shape)\n",
    "subset_vars = [var for var, var_type in zip(d2011.dtypes.index, d2011.dtypes) if str(var_type) != 'object'] \n",
    "d2011 = d2011[subset_vars]\n",
    "d2011 = d2011.fillna(d2011.mean())\n",
    "#d2011 = remove_miss_vars(input_df=d2011)\n",
    "print(d2011.shape)\n",
    "d2011.head()"
   ]
  },
  {
   "cell_type": "code",
   "execution_count": 7,
   "metadata": {},
   "outputs": [
    {
     "name": "stdout",
     "output_type": "stream",
     "text": [
      "(64, 188)\n",
      "(64, 187)\n",
      "(64, 187)\n"
     ]
    },
    {
     "data": {
      "text/html": [
       "<div>\n",
       "<style scoped>\n",
       "    .dataframe tbody tr th:only-of-type {\n",
       "        vertical-align: middle;\n",
       "    }\n",
       "\n",
       "    .dataframe tbody tr th {\n",
       "        vertical-align: top;\n",
       "    }\n",
       "\n",
       "    .dataframe thead th {\n",
       "        text-align: right;\n",
       "    }\n",
       "</style>\n",
       "<table border=\"1\" class=\"dataframe\">\n",
       "  <thead>\n",
       "    <tr style=\"text-align: right;\">\n",
       "      <th></th>\n",
       "      <th>BCG_Children12M</th>\n",
       "      <th>PENTA1_Children23M</th>\n",
       "      <th>OPV2_Children12M</th>\n",
       "      <th>PENTA2_Children12M</th>\n",
       "      <th>PENTA2_Children23M</th>\n",
       "      <th>Fully_Children12M</th>\n",
       "      <th>Measles_Children23M</th>\n",
       "      <th>PENTA1_Children12M</th>\n",
       "      <th>PENTA3_Children12M</th>\n",
       "      <th>TT4_Mother0-11MChildren</th>\n",
       "      <th>...</th>\n",
       "      <th>prop_current_contraceptive</th>\n",
       "      <th>prop_pop_women.1</th>\n",
       "      <th>prop_unmet_need_family_planing</th>\n",
       "      <th>prop_pop_rural_women.1</th>\n",
       "      <th>prop_female_head</th>\n",
       "      <th>prop_pop_rural.1</th>\n",
       "      <th>prop_women_15.45y_overwomen.1</th>\n",
       "      <th>prop_antenatal_coverage</th>\n",
       "      <th>dependency_ratio.1</th>\n",
       "      <th>prop_caesarean</th>\n",
       "    </tr>\n",
       "    <tr>\n",
       "      <th>DistrictName</th>\n",
       "      <th></th>\n",
       "      <th></th>\n",
       "      <th></th>\n",
       "      <th></th>\n",
       "      <th></th>\n",
       "      <th></th>\n",
       "      <th></th>\n",
       "      <th></th>\n",
       "      <th></th>\n",
       "      <th></th>\n",
       "      <th></th>\n",
       "      <th></th>\n",
       "      <th></th>\n",
       "      <th></th>\n",
       "      <th></th>\n",
       "      <th></th>\n",
       "      <th></th>\n",
       "      <th></th>\n",
       "      <th></th>\n",
       "      <th></th>\n",
       "      <th></th>\n",
       "    </tr>\n",
       "  </thead>\n",
       "  <tbody>\n",
       "    <tr>\n",
       "      <th>Bagerhat</th>\n",
       "      <td>98.2</td>\n",
       "      <td>97.4</td>\n",
       "      <td>96.8</td>\n",
       "      <td>96.8</td>\n",
       "      <td>97.1</td>\n",
       "      <td>86.8</td>\n",
       "      <td>92.2</td>\n",
       "      <td>97.4</td>\n",
       "      <td>90.8</td>\n",
       "      <td>61.9</td>\n",
       "      <td>...</td>\n",
       "      <td>67.82</td>\n",
       "      <td>39.86</td>\n",
       "      <td>11.00</td>\n",
       "      <td>7.53</td>\n",
       "      <td>4.17</td>\n",
       "      <td>14.38</td>\n",
       "      <td>48.65</td>\n",
       "      <td>48.69</td>\n",
       "      <td>56.82</td>\n",
       "      <td>22.38</td>\n",
       "    </tr>\n",
       "    <tr>\n",
       "      <th>Bandarban</th>\n",
       "      <td>99.0</td>\n",
       "      <td>96.3</td>\n",
       "      <td>94.8</td>\n",
       "      <td>94.8</td>\n",
       "      <td>94.8</td>\n",
       "      <td>80.9</td>\n",
       "      <td>89.8</td>\n",
       "      <td>96.3</td>\n",
       "      <td>87.8</td>\n",
       "      <td>79.6</td>\n",
       "      <td>...</td>\n",
       "      <td>63.64</td>\n",
       "      <td>77.52</td>\n",
       "      <td>13.64</td>\n",
       "      <td>0.00</td>\n",
       "      <td>25.49</td>\n",
       "      <td>0.00</td>\n",
       "      <td>54.79</td>\n",
       "      <td>100.00</td>\n",
       "      <td>45.16</td>\n",
       "      <td>50.00</td>\n",
       "    </tr>\n",
       "    <tr>\n",
       "      <th>Barguna</th>\n",
       "      <td>99.7</td>\n",
       "      <td>98.8</td>\n",
       "      <td>97.9</td>\n",
       "      <td>97.9</td>\n",
       "      <td>98.3</td>\n",
       "      <td>87.6</td>\n",
       "      <td>94.9</td>\n",
       "      <td>98.8</td>\n",
       "      <td>93.0</td>\n",
       "      <td>64.4</td>\n",
       "      <td>...</td>\n",
       "      <td>73.30</td>\n",
       "      <td>28.64</td>\n",
       "      <td>8.22</td>\n",
       "      <td>5.13</td>\n",
       "      <td>8.06</td>\n",
       "      <td>9.48</td>\n",
       "      <td>44.84</td>\n",
       "      <td>37.97</td>\n",
       "      <td>68.24</td>\n",
       "      <td>22.90</td>\n",
       "    </tr>\n",
       "    <tr>\n",
       "      <th>Barisal</th>\n",
       "      <td>99.7</td>\n",
       "      <td>99.1</td>\n",
       "      <td>99.3</td>\n",
       "      <td>99.3</td>\n",
       "      <td>99.3</td>\n",
       "      <td>91.0</td>\n",
       "      <td>97.1</td>\n",
       "      <td>99.1</td>\n",
       "      <td>95.5</td>\n",
       "      <td>79.3</td>\n",
       "      <td>...</td>\n",
       "      <td>64.26</td>\n",
       "      <td>30.97</td>\n",
       "      <td>10.08</td>\n",
       "      <td>13.91</td>\n",
       "      <td>6.99</td>\n",
       "      <td>28.48</td>\n",
       "      <td>51.10</td>\n",
       "      <td>64.01</td>\n",
       "      <td>59.68</td>\n",
       "      <td>31.22</td>\n",
       "    </tr>\n",
       "    <tr>\n",
       "      <th>Bhola</th>\n",
       "      <td>99.8</td>\n",
       "      <td>99.8</td>\n",
       "      <td>99.8</td>\n",
       "      <td>99.8</td>\n",
       "      <td>99.8</td>\n",
       "      <td>91.3</td>\n",
       "      <td>96.6</td>\n",
       "      <td>99.8</td>\n",
       "      <td>94.5</td>\n",
       "      <td>79.0</td>\n",
       "      <td>...</td>\n",
       "      <td>67.28</td>\n",
       "      <td>26.58</td>\n",
       "      <td>10.01</td>\n",
       "      <td>5.06</td>\n",
       "      <td>3.53</td>\n",
       "      <td>9.99</td>\n",
       "      <td>47.39</td>\n",
       "      <td>29.44</td>\n",
       "      <td>69.35</td>\n",
       "      <td>4.01</td>\n",
       "    </tr>\n",
       "  </tbody>\n",
       "</table>\n",
       "<p>5 rows × 187 columns</p>\n",
       "</div>"
      ],
      "text/plain": [
       "              BCG_Children12M  PENTA1_Children23M  OPV2_Children12M  \\\n",
       "DistrictName                                                          \n",
       "Bagerhat                 98.2                97.4              96.8   \n",
       "Bandarban                99.0                96.3              94.8   \n",
       "Barguna                  99.7                98.8              97.9   \n",
       "Barisal                  99.7                99.1              99.3   \n",
       "Bhola                    99.8                99.8              99.8   \n",
       "\n",
       "              PENTA2_Children12M  PENTA2_Children23M  Fully_Children12M  \\\n",
       "DistrictName                                                              \n",
       "Bagerhat                    96.8                97.1               86.8   \n",
       "Bandarban                   94.8                94.8               80.9   \n",
       "Barguna                     97.9                98.3               87.6   \n",
       "Barisal                     99.3                99.3               91.0   \n",
       "Bhola                       99.8                99.8               91.3   \n",
       "\n",
       "              Measles_Children23M  PENTA1_Children12M  PENTA3_Children12M  \\\n",
       "DistrictName                                                                \n",
       "Bagerhat                     92.2                97.4                90.8   \n",
       "Bandarban                    89.8                96.3                87.8   \n",
       "Barguna                      94.9                98.8                93.0   \n",
       "Barisal                      97.1                99.1                95.5   \n",
       "Bhola                        96.6                99.8                94.5   \n",
       "\n",
       "              TT4_Mother0-11MChildren  ...  prop_current_contraceptive  \\\n",
       "DistrictName                           ...                               \n",
       "Bagerhat                         61.9  ...                       67.82   \n",
       "Bandarban                        79.6  ...                       63.64   \n",
       "Barguna                          64.4  ...                       73.30   \n",
       "Barisal                          79.3  ...                       64.26   \n",
       "Bhola                            79.0  ...                       67.28   \n",
       "\n",
       "              prop_pop_women.1  prop_unmet_need_family_planing  \\\n",
       "DistrictName                                                     \n",
       "Bagerhat                 39.86                           11.00   \n",
       "Bandarban                77.52                           13.64   \n",
       "Barguna                  28.64                            8.22   \n",
       "Barisal                  30.97                           10.08   \n",
       "Bhola                    26.58                           10.01   \n",
       "\n",
       "              prop_pop_rural_women.1  prop_female_head  prop_pop_rural.1  \\\n",
       "DistrictName                                                               \n",
       "Bagerhat                        7.53              4.17             14.38   \n",
       "Bandarban                       0.00             25.49              0.00   \n",
       "Barguna                         5.13              8.06              9.48   \n",
       "Barisal                        13.91              6.99             28.48   \n",
       "Bhola                           5.06              3.53              9.99   \n",
       "\n",
       "              prop_women_15.45y_overwomen.1  prop_antenatal_coverage  \\\n",
       "DistrictName                                                           \n",
       "Bagerhat                              48.65                    48.69   \n",
       "Bandarban                             54.79                   100.00   \n",
       "Barguna                               44.84                    37.97   \n",
       "Barisal                               51.10                    64.01   \n",
       "Bhola                                 47.39                    29.44   \n",
       "\n",
       "              dependency_ratio.1  prop_caesarean  \n",
       "DistrictName                                      \n",
       "Bagerhat                   56.82           22.38  \n",
       "Bandarban                  45.16           50.00  \n",
       "Barguna                    68.24           22.90  \n",
       "Barisal                    59.68           31.22  \n",
       "Bhola                      69.35            4.01  \n",
       "\n",
       "[5 rows x 187 columns]"
      ]
     },
     "execution_count": 7,
     "metadata": {},
     "output_type": "execute_result"
    }
   ],
   "source": [
    "d2016.shape\n",
    "d2016 = d2016.set_index(['DistrictName'])\n",
    "print(d2016.shape)\n",
    "d2016 = d2016.drop(['DistrictGeo'], axis=1)\n",
    "print(d2016.shape)\n",
    "subset_vars = [var for var, var_type in zip(d2016.dtypes.index, d2016.dtypes) if str(var_type) != 'object'] \n",
    "d2016 = d2016[subset_vars]\n",
    "d2016 = d2016.fillna(d2016.mean())\n",
    "# d2016 = remove_miss_vars(input_df=d2016)\n",
    "print(d2016.shape)\n",
    "d2016.head()"
   ]
  },
  {
   "cell_type": "markdown",
   "metadata": {},
   "source": [
    "## STEP 2: Outcome variables: Maternal mortality rate"
   ]
  },
  {
   "cell_type": "markdown",
   "metadata": {},
   "source": [
    "### Maternal mortality rate"
   ]
  },
  {
   "cell_type": "code",
   "execution_count": 8,
   "metadata": {},
   "outputs": [
    {
     "name": "stdout",
     "output_type": "stream",
     "text": [
      "Mean: 3.7296874999999994  Standard deviation: 4.17278939432187\n"
     ]
    }
   ],
   "source": [
    "print(f\"Mean: {d2011['rate_maternal_mortality'].mean()}\",\n",
    "      f\" Standard deviation: {d2011['rate_maternal_mortality'].std()}\")"
   ]
  },
  {
   "cell_type": "code",
   "execution_count": 9,
   "metadata": {},
   "outputs": [
    {
     "name": "stdout",
     "output_type": "stream",
     "text": [
      "Mean: 2.65078125  Standard deviation: 4.957185358804691\n"
     ]
    }
   ],
   "source": [
    "print(f\"Mean: {d2016['rate_maternal_mortality'].mean()}\",\n",
    "      f\" Standard deviation: {d2016['rate_maternal_mortality'].std()}\")"
   ]
  },
  {
   "cell_type": "markdown",
   "metadata": {},
   "source": [
    "### Scaled and normalized data\n"
   ]
  },
  {
   "cell_type": "code",
   "execution_count": 10,
   "metadata": {},
   "outputs": [
    {
     "name": "stdout",
     "output_type": "stream",
     "text": [
      "(64, 187)\n",
      "[]\n",
      "(64, 187)\n"
     ]
    }
   ],
   "source": [
    "print(d2011.shape)\n",
    "drop_columns = []\n",
    "for var in d2011.columns:\n",
    "    if \"index\" in var:\n",
    "        drop_columns.append(var)\n",
    "drop_columns = list(set(drop_columns))\n",
    "print(drop_columns)\n",
    "d2011.drop(drop_columns, inplace=True, axis=1)\n",
    "print(d2011.shape)"
   ]
  },
  {
   "cell_type": "code",
   "execution_count": 11,
   "metadata": {},
   "outputs": [
    {
     "name": "stdout",
     "output_type": "stream",
     "text": [
      "(64, 187)\n",
      "[]\n",
      "(64, 187)\n"
     ]
    }
   ],
   "source": [
    "print(d2016.shape)\n",
    "drop_columns = []\n",
    "for var in d2016.columns:\n",
    "    if \"index\" in var:\n",
    "        drop_columns.append(var)\n",
    "drop_columns = list(set(drop_columns))\n",
    "print(drop_columns)\n",
    "d2016.drop(drop_columns, inplace=True, axis=1)\n",
    "print(d2016.shape)"
   ]
  },
  {
   "cell_type": "code",
   "execution_count": 12,
   "metadata": {},
   "outputs": [
    {
     "name": "stdout",
     "output_type": "stream",
     "text": [
      "(64, 187)\n",
      "(64, 187)\n"
     ]
    },
    {
     "name": "stderr",
     "output_type": "stream",
     "text": [
      "/anaconda3/lib/python3.7/site-packages/sklearn/preprocessing/data.py:625: DataConversionWarning: Data with input dtype int64, float64 were all converted to float64 by StandardScaler.\n",
      "  return self.partial_fit(X, y)\n",
      "/anaconda3/lib/python3.7/site-packages/sklearn/base.py:462: DataConversionWarning: Data with input dtype int64, float64 were all converted to float64 by StandardScaler.\n",
      "  return self.fit(X, **fit_params).transform(X)\n"
     ]
    }
   ],
   "source": [
    "s_data2011 = StandardScaler().fit_transform(d2011)\n",
    "s_data2011 = pd.DataFrame(s_data2011, columns=d2011.columns)\n",
    "print(s_data2011.shape)\n",
    "s_data2011 = remove_miss_vars(input_df=s_data2011)\n",
    "print(s_data2011.shape)"
   ]
  },
  {
   "cell_type": "code",
   "execution_count": 13,
   "metadata": {},
   "outputs": [
    {
     "name": "stdout",
     "output_type": "stream",
     "text": [
      "(64, 187)\n",
      "(64, 187)\n"
     ]
    },
    {
     "name": "stderr",
     "output_type": "stream",
     "text": [
      "/anaconda3/lib/python3.7/site-packages/sklearn/preprocessing/data.py:625: DataConversionWarning: Data with input dtype int64, float64 were all converted to float64 by StandardScaler.\n",
      "  return self.partial_fit(X, y)\n",
      "/anaconda3/lib/python3.7/site-packages/sklearn/base.py:462: DataConversionWarning: Data with input dtype int64, float64 were all converted to float64 by StandardScaler.\n",
      "  return self.fit(X, **fit_params).transform(X)\n"
     ]
    }
   ],
   "source": [
    "d2016[d2016==np.inf]=np.nan\n",
    "d2016.fillna(d2016.mean(), inplace=True)\n",
    "s_data2016 = StandardScaler().fit_transform(d2016)\n",
    "s_data2016 = pd.DataFrame(s_data2016, columns=d2016.columns)\n",
    "print(s_data2016.shape)\n",
    "s_data2016 = remove_miss_vars(input_df=s_data2016)\n",
    "print(s_data2016.shape)\n"
   ]
  },
  {
   "cell_type": "markdown",
   "metadata": {},
   "source": [
    "### Performing PCA on both years 2011 and 2016: Preliminary"
   ]
  },
  {
   "cell_type": "code",
   "execution_count": 14,
   "metadata": {},
   "outputs": [
    {
     "name": "stdout",
     "output_type": "stream",
     "text": [
      "40\n"
     ]
    }
   ],
   "source": [
    "pca = PCA(.95)\n",
    "pca2011 = pca.fit(s_data2011)\n",
    "print(pca.n_components_)"
   ]
  },
  {
   "cell_type": "code",
   "execution_count": 15,
   "metadata": {},
   "outputs": [
    {
     "name": "stdout",
     "output_type": "stream",
     "text": [
      "42\n"
     ]
    }
   ],
   "source": [
    "pca = PCA(.95)\n",
    "pca2016 = pca.fit(s_data2016)\n",
    "print(pca.n_components_)"
   ]
  },
  {
   "cell_type": "markdown",
   "metadata": {},
   "source": [
    "## Performing Canonical Correlation Analysis (CCA) and correlation analysis for 2011\n",
    "- The aim of this part is to identify variables highly correlated with maternal mortality rate"
   ]
  },
  {
   "cell_type": "markdown",
   "metadata": {},
   "source": [
    "### Canonical Correlation Analysis (CCA) 2011"
   ]
  },
  {
   "cell_type": "code",
   "execution_count": 16,
   "metadata": {},
   "outputs": [
    {
     "name": "stdout",
     "output_type": "stream",
     "text": [
      "0.8719748512696558\n"
     ]
    },
    {
     "name": "stderr",
     "output_type": "stream",
     "text": [
      "/anaconda3/lib/python3.7/site-packages/sklearn/cross_decomposition/pls_.py:291: UserWarning: Y residual constant at iteration 1\n",
      "  warnings.warn('Y residual constant at iteration %s' % k)\n"
     ]
    }
   ],
   "source": [
    "cca_maternal = CCA(copy=True, max_iter=1000, n_components=40, scale=True, tol=1e-06)\n",
    "cca_maternal.fit(s_data2011.drop('rate_maternal_mortality', axis=1),\n",
    "                 s_data2011['rate_maternal_mortality'])\n",
    "print(cca_maternal.score(s_data2011.drop('rate_maternal_mortality', axis=1),\n",
    "                         s_data2011['rate_maternal_mortality']))"
   ]
  },
  {
   "cell_type": "code",
   "execution_count": 17,
   "metadata": {},
   "outputs": [
    {
     "data": {
      "text/html": [
       "<div>\n",
       "<style scoped>\n",
       "    .dataframe tbody tr th:only-of-type {\n",
       "        vertical-align: middle;\n",
       "    }\n",
       "\n",
       "    .dataframe tbody tr th {\n",
       "        vertical-align: top;\n",
       "    }\n",
       "\n",
       "    .dataframe thead th {\n",
       "        text-align: right;\n",
       "    }\n",
       "</style>\n",
       "<table border=\"1\" class=\"dataframe\">\n",
       "  <thead>\n",
       "    <tr style=\"text-align: right;\">\n",
       "      <th></th>\n",
       "      <th>Indicators</th>\n",
       "      <th>CCA_coeff</th>\n",
       "      <th>CCA_coeff_abs</th>\n",
       "    </tr>\n",
       "  </thead>\n",
       "  <tbody>\n",
       "    <tr>\n",
       "      <th>10</th>\n",
       "      <td>TT1_Mother0-11MChildren</td>\n",
       "      <td>-0.271485</td>\n",
       "      <td>0.271485</td>\n",
       "    </tr>\n",
       "    <tr>\n",
       "      <th>11</th>\n",
       "      <td>VitACoverage_Children12-59M</td>\n",
       "      <td>-0.104220</td>\n",
       "      <td>0.104220</td>\n",
       "    </tr>\n",
       "    <tr>\n",
       "      <th>14</th>\n",
       "      <td>Measles_Children12M</td>\n",
       "      <td>0.109101</td>\n",
       "      <td>0.109101</td>\n",
       "    </tr>\n",
       "    <tr>\n",
       "      <th>15</th>\n",
       "      <td>TT2_Mother0-11MChildren</td>\n",
       "      <td>-0.158135</td>\n",
       "      <td>0.158135</td>\n",
       "    </tr>\n",
       "    <tr>\n",
       "      <th>19</th>\n",
       "      <td>TT5_Mother0-11MChildren</td>\n",
       "      <td>0.114816</td>\n",
       "      <td>0.114816</td>\n",
       "    </tr>\n",
       "  </tbody>\n",
       "</table>\n",
       "</div>"
      ],
      "text/plain": [
       "                     Indicators  CCA_coeff  CCA_coeff_abs\n",
       "10      TT1_Mother0-11MChildren  -0.271485       0.271485\n",
       "11  VitACoverage_Children12-59M  -0.104220       0.104220\n",
       "14          Measles_Children12M   0.109101       0.109101\n",
       "15      TT2_Mother0-11MChildren  -0.158135       0.158135\n",
       "19      TT5_Mother0-11MChildren   0.114816       0.114816"
      ]
     },
     "metadata": {},
     "output_type": "display_data"
    },
    {
     "name": "stdout",
     "output_type": "stream",
     "text": [
      "(28, 3)\n"
     ]
    }
   ],
   "source": [
    "CCA_coeff_maternal = pd.DataFrame({'Indicators': list(s_data2011.drop('rate_maternal_mortality', axis=1).columns),\n",
    "                                   'CCA_coeff': cca_maternal.coef_[:,0],\n",
    "                                   'CCA_coeff_abs': np.absolute(cca_maternal.coef_[:,0]),})\n",
    "CCA_coeff_maternal.sort_values(by='CCA_coeff_abs', ascending =False).head()\n",
    "CCA_coeff_maternal = CCA_coeff_maternal[CCA_coeff_maternal['CCA_coeff_abs'] > 0.1]\n",
    "display(CCA_coeff_maternal.head())\n",
    "print(CCA_coeff_maternal.shape)\n",
    "CCA_coeff_maternal.to_csv(OUT+'/cca_maternal_mortality_2016.csv', index=False, index_label=False)"
   ]
  },
  {
   "cell_type": "markdown",
   "metadata": {},
   "source": [
    "### Correlation analysis 2011"
   ]
  },
  {
   "cell_type": "code",
   "execution_count": 18,
   "metadata": {},
   "outputs": [
    {
     "data": {
      "text/plain": [
       "True"
      ]
     },
     "execution_count": 18,
     "metadata": {},
     "output_type": "execute_result"
    }
   ],
   "source": [
    "import scipy.stats  as stats\n",
    "all(s_data2011.columns == s_data2016.columns)"
   ]
  },
  {
   "cell_type": "code",
   "execution_count": 19,
   "metadata": {},
   "outputs": [],
   "source": [
    "corr2011 = s_data2011.corr()"
   ]
  },
  {
   "cell_type": "code",
   "execution_count": 20,
   "metadata": {
    "scrolled": false
   },
   "outputs": [
    {
     "name": "stderr",
     "output_type": "stream",
     "text": [
      "/anaconda3/lib/python3.7/site-packages/ipykernel_launcher.py:2: SettingWithCopyWarning: \n",
      "A value is trying to be set on a copy of a slice from a DataFrame.\n",
      "Try using .loc[row_indexer,col_indexer] = value instead\n",
      "\n",
      "See the caveats in the documentation: http://pandas.pydata.org/pandas-docs/stable/indexing.html#indexing-view-versus-copy\n",
      "  \n",
      "/anaconda3/lib/python3.7/site-packages/scipy/stats/stats.py:3010: RuntimeWarning: invalid value encountered in double_scalars\n",
      "  r = r_num / r_den\n"
     ]
    },
    {
     "data": {
      "text/html": [
       "<div>\n",
       "<style scoped>\n",
       "    .dataframe tbody tr th:only-of-type {\n",
       "        vertical-align: middle;\n",
       "    }\n",
       "\n",
       "    .dataframe tbody tr th {\n",
       "        vertical-align: top;\n",
       "    }\n",
       "\n",
       "    .dataframe thead th {\n",
       "        text-align: right;\n",
       "    }\n",
       "</style>\n",
       "<table border=\"1\" class=\"dataframe\">\n",
       "  <thead>\n",
       "    <tr style=\"text-align: right;\">\n",
       "      <th></th>\n",
       "      <th>index</th>\n",
       "      <th>rate_maternal_mortality</th>\n",
       "      <th>abs_rate_maternal_mortality</th>\n",
       "      <th>p_value</th>\n",
       "    </tr>\n",
       "  </thead>\n",
       "  <tbody>\n",
       "    <tr>\n",
       "      <th>0</th>\n",
       "      <td>TT2_Mother0-11MChildren</td>\n",
       "      <td>-0.393280</td>\n",
       "      <td>0.393280</td>\n",
       "      <td>0.001305</td>\n",
       "    </tr>\n",
       "    <tr>\n",
       "      <th>1</th>\n",
       "      <td>TT1_Mother0-11MChildren</td>\n",
       "      <td>-0.379661</td>\n",
       "      <td>0.379661</td>\n",
       "      <td>0.001974</td>\n",
       "    </tr>\n",
       "    <tr>\n",
       "      <th>2</th>\n",
       "      <td>TT3_Mother0-11MChildren</td>\n",
       "      <td>-0.337610</td>\n",
       "      <td>0.337610</td>\n",
       "      <td>0.006367</td>\n",
       "    </tr>\n",
       "    <tr>\n",
       "      <th>3</th>\n",
       "      <td>04Newborn: Percentage of newborns delivered by...</td>\n",
       "      <td>0.291370</td>\n",
       "      <td>0.291370</td>\n",
       "      <td>0.019494</td>\n",
       "    </tr>\n",
       "    <tr>\n",
       "      <th>4</th>\n",
       "      <td>03Immunization: Penta 1 to MR 2 drop out Rate</td>\n",
       "      <td>0.271447</td>\n",
       "      <td>0.271447</td>\n",
       "      <td>0.030030</td>\n",
       "    </tr>\n",
       "    <tr>\n",
       "      <th>5</th>\n",
       "      <td>Imp12DistrNGOMonthThana_Percent_Injectable</td>\n",
       "      <td>0.264959</td>\n",
       "      <td>0.264959</td>\n",
       "      <td>0.034356</td>\n",
       "    </tr>\n",
       "    <tr>\n",
       "      <th>6</th>\n",
       "      <td>imp11subdistr_ngothanaprocessNGO_Percent_Injec...</td>\n",
       "      <td>0.264959</td>\n",
       "      <td>0.264959</td>\n",
       "      <td>0.034356</td>\n",
       "    </tr>\n",
       "    <tr>\n",
       "      <th>7</th>\n",
       "      <td>03Immunization: TT vial wastage rate</td>\n",
       "      <td>-0.252406</td>\n",
       "      <td>0.252406</td>\n",
       "      <td>0.044203</td>\n",
       "    </tr>\n",
       "    <tr>\n",
       "      <th>8</th>\n",
       "      <td>04Newborn: Nurse Bed ratio at SCANU (Recommend...</td>\n",
       "      <td>-0.239982</td>\n",
       "      <td>0.239982</td>\n",
       "      <td>0.056129</td>\n",
       "    </tr>\n",
       "    <tr>\n",
       "      <th>9</th>\n",
       "      <td>03Immunization: MR 2 Crude Coverage %</td>\n",
       "      <td>-0.224465</td>\n",
       "      <td>0.224465</td>\n",
       "      <td>0.074560</td>\n",
       "    </tr>\n",
       "    <tr>\n",
       "      <th>10</th>\n",
       "      <td>imp11subdistr_ngothanaprocessNGO_Percent_Condom</td>\n",
       "      <td>-0.219568</td>\n",
       "      <td>0.219568</td>\n",
       "      <td>0.081288</td>\n",
       "    </tr>\n",
       "    <tr>\n",
       "      <th>11</th>\n",
       "      <td>Imp12DistrNGOMonthThana_Percent_Condom</td>\n",
       "      <td>-0.219568</td>\n",
       "      <td>0.219568</td>\n",
       "      <td>0.081288</td>\n",
       "    </tr>\n",
       "  </tbody>\n",
       "</table>\n",
       "</div>"
      ],
      "text/plain": [
       "                                                index  \\\n",
       "0                             TT2_Mother0-11MChildren   \n",
       "1                             TT1_Mother0-11MChildren   \n",
       "2                             TT3_Mother0-11MChildren   \n",
       "3   04Newborn: Percentage of newborns delivered by...   \n",
       "4       03Immunization: Penta 1 to MR 2 drop out Rate   \n",
       "5          Imp12DistrNGOMonthThana_Percent_Injectable   \n",
       "6   imp11subdistr_ngothanaprocessNGO_Percent_Injec...   \n",
       "7                03Immunization: TT vial wastage rate   \n",
       "8   04Newborn: Nurse Bed ratio at SCANU (Recommend...   \n",
       "9               03Immunization: MR 2 Crude Coverage %   \n",
       "10    imp11subdistr_ngothanaprocessNGO_Percent_Condom   \n",
       "11             Imp12DistrNGOMonthThana_Percent_Condom   \n",
       "\n",
       "    rate_maternal_mortality  abs_rate_maternal_mortality   p_value  \n",
       "0                 -0.393280                     0.393280  0.001305  \n",
       "1                 -0.379661                     0.379661  0.001974  \n",
       "2                 -0.337610                     0.337610  0.006367  \n",
       "3                  0.291370                     0.291370  0.019494  \n",
       "4                  0.271447                     0.271447  0.030030  \n",
       "5                  0.264959                     0.264959  0.034356  \n",
       "6                  0.264959                     0.264959  0.034356  \n",
       "7                 -0.252406                     0.252406  0.044203  \n",
       "8                 -0.239982                     0.239982  0.056129  \n",
       "9                 -0.224465                     0.224465  0.074560  \n",
       "10                -0.219568                     0.219568  0.081288  \n",
       "11                -0.219568                     0.219568  0.081288  "
      ]
     },
     "metadata": {},
     "output_type": "display_data"
    },
    {
     "name": "stdout",
     "output_type": "stream",
     "text": [
      "(12, 4)\n"
     ]
    }
   ],
   "source": [
    "maternal_mortality_2011 = corr2011[['rate_maternal_mortality']]\n",
    "maternal_mortality_2011['abs_rate_maternal_mortality'] = np.absolute(maternal_mortality_2011['rate_maternal_mortality'])\n",
    "maternal_mortality_2011 = maternal_mortality_2011.sort_values(by='abs_rate_maternal_mortality', ascending=False)\n",
    "maternal_mortality_2011.drop('rate_maternal_mortality',axis=0, inplace=True)\n",
    "maternal_mortality_2011.reset_index(inplace=True)\n",
    "corr_pvalues = []\n",
    "for var in maternal_mortality_2011['index']:\n",
    "    pvalue = stats.pearsonr(s_data2011[var], s_data2011['rate_maternal_mortality'])[1]\n",
    "    corr_pvalues.append(pvalue)\n",
    "maternal_mortality_2011['p_value'] = corr_pvalues\n",
    "maternal_mortality_2011 = maternal_mortality_2011[maternal_mortality_2011['p_value'] < 0.1]\n",
    "maternal_mortality_2011.sort_values(by = 'abs_rate_maternal_mortality', ascending=False)\n",
    "display(maternal_mortality_2011)\n",
    "print(maternal_mortality_2011.shape)\n",
    "maternal_mortality_2011.to_csv(OUT+'/corr_maternal_mortality_2011.csv', index=False, index_label=False)"
   ]
  },
  {
   "cell_type": "markdown",
   "metadata": {},
   "source": [
    "### Combine results"
   ]
  },
  {
   "cell_type": "code",
   "execution_count": 21,
   "metadata": {},
   "outputs": [
    {
     "data": {
      "text/plain": [
       "34"
      ]
     },
     "execution_count": 21,
     "metadata": {},
     "output_type": "execute_result"
    }
   ],
   "source": [
    "maternal_mortality_vars_2011 = list(set(CCA_coeff_maternal['Indicators']).union(set(maternal_mortality_2011['index'])))\n",
    "len(list(set(CCA_coeff_maternal['Indicators']).union(set(maternal_mortality_2011['index']))))"
   ]
  },
  {
   "cell_type": "markdown",
   "metadata": {},
   "source": [
    "## Performing Canonical Correlation Analysis (CCA) and correlation analysis for 2016\n",
    "- The aim of this part is to identify variables highly correlated with maternal mortality rate"
   ]
  },
  {
   "cell_type": "markdown",
   "metadata": {},
   "source": [
    "### Canonical Correlation Analysis (CCA) 2016"
   ]
  },
  {
   "cell_type": "code",
   "execution_count": 22,
   "metadata": {},
   "outputs": [
    {
     "name": "stdout",
     "output_type": "stream",
     "text": [
      "0.8921521460955979\n"
     ]
    },
    {
     "name": "stderr",
     "output_type": "stream",
     "text": [
      "/anaconda3/lib/python3.7/site-packages/sklearn/cross_decomposition/pls_.py:291: UserWarning: Y residual constant at iteration 1\n",
      "  warnings.warn('Y residual constant at iteration %s' % k)\n"
     ]
    }
   ],
   "source": [
    "cca_maternal = CCA(copy=True, max_iter=500, n_components=40, scale=True, tol=1e-06)\n",
    "cca_maternal.fit(s_data2016.drop('rate_maternal_mortality', axis=1),\n",
    "                 s_data2016['rate_maternal_mortality'])\n",
    "print(cca_maternal.score(s_data2016.drop('rate_maternal_mortality', axis=1),\n",
    "                         s_data2016['rate_maternal_mortality']))"
   ]
  },
  {
   "cell_type": "code",
   "execution_count": 23,
   "metadata": {},
   "outputs": [
    {
     "data": {
      "text/html": [
       "<div>\n",
       "<style scoped>\n",
       "    .dataframe tbody tr th:only-of-type {\n",
       "        vertical-align: middle;\n",
       "    }\n",
       "\n",
       "    .dataframe tbody tr th {\n",
       "        vertical-align: top;\n",
       "    }\n",
       "\n",
       "    .dataframe thead th {\n",
       "        text-align: right;\n",
       "    }\n",
       "</style>\n",
       "<table border=\"1\" class=\"dataframe\">\n",
       "  <thead>\n",
       "    <tr style=\"text-align: right;\">\n",
       "      <th></th>\n",
       "      <th>Indicators</th>\n",
       "      <th>CCA_coeff</th>\n",
       "      <th>CCA_coeff_abs</th>\n",
       "    </tr>\n",
       "  </thead>\n",
       "  <tbody>\n",
       "    <tr>\n",
       "      <th>9</th>\n",
       "      <td>TT4_Mother0-11MChildren</td>\n",
       "      <td>-0.109596</td>\n",
       "      <td>0.109596</td>\n",
       "    </tr>\n",
       "    <tr>\n",
       "      <th>10</th>\n",
       "      <td>TT1_Mother0-11MChildren</td>\n",
       "      <td>-0.136305</td>\n",
       "      <td>0.136305</td>\n",
       "    </tr>\n",
       "    <tr>\n",
       "      <th>20</th>\n",
       "      <td>TT3_Mother0-11MChildren</td>\n",
       "      <td>-0.121278</td>\n",
       "      <td>0.121278</td>\n",
       "    </tr>\n",
       "    <tr>\n",
       "      <th>26</th>\n",
       "      <td>sex_ratio</td>\n",
       "      <td>0.178354</td>\n",
       "      <td>0.178354</td>\n",
       "    </tr>\n",
       "    <tr>\n",
       "      <th>28</th>\n",
       "      <td>prop_married_..15y</td>\n",
       "      <td>-0.109768</td>\n",
       "      <td>0.109768</td>\n",
       "    </tr>\n",
       "  </tbody>\n",
       "</table>\n",
       "</div>"
      ],
      "text/plain": [
       "                 Indicators  CCA_coeff  CCA_coeff_abs\n",
       "9   TT4_Mother0-11MChildren  -0.109596       0.109596\n",
       "10  TT1_Mother0-11MChildren  -0.136305       0.136305\n",
       "20  TT3_Mother0-11MChildren  -0.121278       0.121278\n",
       "26                sex_ratio   0.178354       0.178354\n",
       "28       prop_married_..15y  -0.109768       0.109768"
      ]
     },
     "metadata": {},
     "output_type": "display_data"
    },
    {
     "name": "stdout",
     "output_type": "stream",
     "text": [
      "(32, 3)\n"
     ]
    }
   ],
   "source": [
    "CCA_coeff_maternal = pd.DataFrame({'Indicators': list(s_data2016.drop('rate_maternal_mortality', axis=1).columns),\n",
    "                                   'CCA_coeff': cca_maternal.coef_[:,0],\n",
    "                                   'CCA_coeff_abs': np.absolute(cca_maternal.coef_[:,0]),})\n",
    "CCA_coeff_maternal.sort_values(by='CCA_coeff_abs', ascending =False).head()\n",
    "CCA_coeff_maternal = CCA_coeff_maternal[CCA_coeff_maternal['CCA_coeff_abs'] > 0.1]\n",
    "display(CCA_coeff_maternal.head())\n",
    "print(CCA_coeff_maternal.shape)\n",
    "CCA_coeff_maternal.to_csv(OUT+'/cca_maternal_mortality_2016.csv', index=False, index_label=False)"
   ]
  },
  {
   "cell_type": "markdown",
   "metadata": {},
   "source": [
    "### Correlation analysis 2016"
   ]
  },
  {
   "cell_type": "code",
   "execution_count": 24,
   "metadata": {},
   "outputs": [
    {
     "data": {
      "text/plain": [
       "True"
      ]
     },
     "execution_count": 24,
     "metadata": {},
     "output_type": "execute_result"
    }
   ],
   "source": [
    "import scipy.stats  as stats\n",
    "all(s_data2011.columns == s_data2016.columns)"
   ]
  },
  {
   "cell_type": "code",
   "execution_count": 25,
   "metadata": {},
   "outputs": [],
   "source": [
    "corr2016 = s_data2016.corr()"
   ]
  },
  {
   "cell_type": "code",
   "execution_count": 26,
   "metadata": {},
   "outputs": [
    {
     "name": "stderr",
     "output_type": "stream",
     "text": [
      "/anaconda3/lib/python3.7/site-packages/ipykernel_launcher.py:2: SettingWithCopyWarning: \n",
      "A value is trying to be set on a copy of a slice from a DataFrame.\n",
      "Try using .loc[row_indexer,col_indexer] = value instead\n",
      "\n",
      "See the caveats in the documentation: http://pandas.pydata.org/pandas-docs/stable/indexing.html#indexing-view-versus-copy\n",
      "  \n",
      "/anaconda3/lib/python3.7/site-packages/scipy/stats/stats.py:3010: RuntimeWarning: invalid value encountered in double_scalars\n",
      "  r = r_num / r_den\n"
     ]
    },
    {
     "data": {
      "text/html": [
       "<div>\n",
       "<style scoped>\n",
       "    .dataframe tbody tr th:only-of-type {\n",
       "        vertical-align: middle;\n",
       "    }\n",
       "\n",
       "    .dataframe tbody tr th {\n",
       "        vertical-align: top;\n",
       "    }\n",
       "\n",
       "    .dataframe thead th {\n",
       "        text-align: right;\n",
       "    }\n",
       "</style>\n",
       "<table border=\"1\" class=\"dataframe\">\n",
       "  <thead>\n",
       "    <tr style=\"text-align: right;\">\n",
       "      <th></th>\n",
       "      <th>index</th>\n",
       "      <th>rate_maternal_mortality</th>\n",
       "      <th>abs_rate_maternal_mortality</th>\n",
       "      <th>p_value</th>\n",
       "    </tr>\n",
       "  </thead>\n",
       "  <tbody>\n",
       "    <tr>\n",
       "      <th>0</th>\n",
       "      <td>02ChildHealth: % of neonatal death reported in...</td>\n",
       "      <td>0.334630</td>\n",
       "      <td>0.334630</td>\n",
       "      <td>0.006878</td>\n",
       "    </tr>\n",
       "    <tr>\n",
       "      <th>1</th>\n",
       "      <td>sex_ratio.1</td>\n",
       "      <td>-0.270372</td>\n",
       "      <td>0.270372</td>\n",
       "      <td>0.030714</td>\n",
       "    </tr>\n",
       "    <tr>\n",
       "      <th>2</th>\n",
       "      <td>03Immunization: PCV vial wastage rate</td>\n",
       "      <td>0.226345</td>\n",
       "      <td>0.226345</td>\n",
       "      <td>0.072099</td>\n",
       "    </tr>\n",
       "    <tr>\n",
       "      <th>3</th>\n",
       "      <td>imp11subdistr_thanaprocessPercent_PerMale</td>\n",
       "      <td>-0.223323</td>\n",
       "      <td>0.223323</td>\n",
       "      <td>0.076088</td>\n",
       "    </tr>\n",
       "    <tr>\n",
       "      <th>4</th>\n",
       "      <td>imp12distr_monthprocessImp12DistrMonthThana_Pe...</td>\n",
       "      <td>-0.223307</td>\n",
       "      <td>0.223307</td>\n",
       "      <td>0.076110</td>\n",
       "    </tr>\n",
       "    <tr>\n",
       "      <th>5</th>\n",
       "      <td>02ChildHealth: IMCI Stunting (%)</td>\n",
       "      <td>-0.213330</td>\n",
       "      <td>0.213330</td>\n",
       "      <td>0.090541</td>\n",
       "    </tr>\n",
       "  </tbody>\n",
       "</table>\n",
       "</div>"
      ],
      "text/plain": [
       "                                               index  rate_maternal_mortality  \\\n",
       "0  02ChildHealth: % of neonatal death reported in...                 0.334630   \n",
       "1                                        sex_ratio.1                -0.270372   \n",
       "2              03Immunization: PCV vial wastage rate                 0.226345   \n",
       "3          imp11subdistr_thanaprocessPercent_PerMale                -0.223323   \n",
       "4  imp12distr_monthprocessImp12DistrMonthThana_Pe...                -0.223307   \n",
       "5                   02ChildHealth: IMCI Stunting (%)                -0.213330   \n",
       "\n",
       "   abs_rate_maternal_mortality   p_value  \n",
       "0                     0.334630  0.006878  \n",
       "1                     0.270372  0.030714  \n",
       "2                     0.226345  0.072099  \n",
       "3                     0.223323  0.076088  \n",
       "4                     0.223307  0.076110  \n",
       "5                     0.213330  0.090541  "
      ]
     },
     "metadata": {},
     "output_type": "display_data"
    },
    {
     "name": "stdout",
     "output_type": "stream",
     "text": [
      "(6, 4)\n"
     ]
    }
   ],
   "source": [
    "maternal_mortality_2016 = corr2016[['rate_maternal_mortality']]\n",
    "maternal_mortality_2016['abs_rate_maternal_mortality'] = np.absolute(maternal_mortality_2016['rate_maternal_mortality'])\n",
    "maternal_mortality_2016 = maternal_mortality_2016.sort_values(by='abs_rate_maternal_mortality', ascending=False)\n",
    "maternal_mortality_2016.drop('rate_maternal_mortality',axis=0, inplace=True)\n",
    "maternal_mortality_2016.reset_index(inplace=True)\n",
    "corr_pvalues = []\n",
    "for var in maternal_mortality_2016['index']:\n",
    "    pvalue = stats.pearsonr(s_data2016[var], s_data2016['rate_maternal_mortality'])[1]\n",
    "    corr_pvalues.append(pvalue)\n",
    "maternal_mortality_2016['p_value'] = corr_pvalues\n",
    "maternal_mortality_2016 = maternal_mortality_2016[maternal_mortality_2016['p_value'] < 0.1]\n",
    "maternal_mortality_2016.sort_values(by = 'abs_rate_maternal_mortality', ascending=False)\n",
    "display(maternal_mortality_2016)\n",
    "print(maternal_mortality_2016.shape)\n",
    "maternal_mortality_2016.to_csv(OUT+'/corr_maternal_mortality_2016.csv', index=False, index_label=False)"
   ]
  },
  {
   "cell_type": "markdown",
   "metadata": {},
   "source": [
    "### Combine results"
   ]
  },
  {
   "cell_type": "code",
   "execution_count": 27,
   "metadata": {},
   "outputs": [
    {
     "data": {
      "text/plain": [
       "35"
      ]
     },
     "execution_count": 27,
     "metadata": {},
     "output_type": "execute_result"
    }
   ],
   "source": [
    "maternal_mortality_vars_2016 = list(set(CCA_coeff_maternal['Indicators']).union(set(maternal_mortality_2016['index'])))\n",
    "len(list(set(CCA_coeff_maternal['Indicators']).union(set(maternal_mortality_2016['index']))))"
   ]
  },
  {
   "cell_type": "markdown",
   "metadata": {},
   "source": [
    "## Intersect variables"
   ]
  },
  {
   "cell_type": "code",
   "execution_count": 28,
   "metadata": {},
   "outputs": [
    {
     "name": "stdout",
     "output_type": "stream",
     "text": [
      "34\n",
      "35\n",
      "60\n",
      "9\n"
     ]
    }
   ],
   "source": [
    "print(len(maternal_mortality_vars_2011))\n",
    "print(len(maternal_mortality_vars_2016))\n",
    "maternal_mortality_vars_union = list(set(maternal_mortality_vars_2011).union(set(maternal_mortality_vars_2016)))\n",
    "maternal_mortality_vars_inter = list(set(maternal_mortality_vars_2011).intersection(set(maternal_mortality_vars_2016)))\n",
    "print(len(maternal_mortality_vars_union))\n",
    "print(len(maternal_mortality_vars_inter))"
   ]
  },
  {
   "cell_type": "markdown",
   "metadata": {},
   "source": [
    "## Performing HDBSCAN or Kmean clustering: Maternal mortality rate "
   ]
  },
  {
   "cell_type": "markdown",
   "metadata": {},
   "source": [
    "## TO DO LIST:\n",
    "\n",
    "- Evaluate the optimal number of clusters using HDBSCAN and K-means\n",
    "- Run clustering on 2011 and predict clusters for 2016\n",
    "- Take average values for clusters for maternal mortality for 2011 and 2016\n",
    "- Take average values for all variables in corresponding clustering option for 2011 and 2016\n",
    "- Take difference for maternal mortality and all other indicators\n",
    "- Create spreadsheet and share with Marelize"
   ]
  },
  {
   "cell_type": "code",
   "execution_count": 29,
   "metadata": {},
   "outputs": [],
   "source": [
    "import os\n",
    "import re\n",
    "import glob\n",
    "import conda\n",
    "import hdbscan\n",
    "import operator\n",
    "import itertools\n",
    "import numpy as np\n",
    "import pandas as pd\n",
    "import seaborn as sns\n",
    "from config import Config\n",
    "from collections import Counter\n",
    "from matplotlib import pyplot as plt\n",
    "conda_file_dir = conda.__file__\n",
    "conda_dir = conda_file_dir.split('lib')[0]\n",
    "proj_lib = os.path.join(os.path.join(conda_dir, 'share'), 'proj')\n",
    "os.environ[\"PROJ_LIB\"] = proj_lib\n",
    "from mpl_toolkits.basemap import Basemap\n",
    "from matplotlib.patches import Polygon\n",
    "from matplotlib.lines import Line2D\n",
    "from matplotlib.collections import PatchCollection\n",
    "from sklearn.cluster import KMeans"
   ]
  },
  {
   "cell_type": "code",
   "execution_count": 30,
   "metadata": {},
   "outputs": [],
   "source": [
    "def evaluate_hdbscan(input_df, min_samples, min_cluster_size, \n",
    "                     output, cluster_selection_method, \n",
    "                     fmin_samples, fmin_cluster_size,\n",
    "                     prune=False, plot=True):\n",
    "    samples = list(itertools.product(min_samples, min_cluster_size))\n",
    "    counter = 0\n",
    "    models = pd.DataFrame(columns=['min_samples',\n",
    "                                   'min_cluster_size',\n",
    "                                   'num_clusters_including_unclustered',\n",
    "                                   'percent_of_unclustered_geos',\n",
    "                                   'percent_of_maxclass',],index=range(len(samples)))\n",
    "    #geo = input_df['index']\n",
    "    #input_df = input_df.drop('index', axis=1)\n",
    "    df = input_df.copy(deep=True)\n",
    "    for iteration in samples:\n",
    "        model = hdbscan.HDBSCAN(min_samples=int(iteration[0]), \n",
    "                                min_cluster_size=int(iteration[1]), \n",
    "                                metric='euclidean', \n",
    "                                algorithm='best',\n",
    "                                cluster_selection_method=cluster_selection_method, prediction_data=False).fit(df)\n",
    "        models.loc[counter,'min_cluster_size'] = iteration[1]\n",
    "        models.loc[counter, 'min_samples'] = iteration[0]\n",
    "        models.loc[counter, 'num_clusters_including_unclustered'] = len(Counter(model.labels_))\n",
    "        tmp_dict = dict(Counter(model.labels_))\n",
    "        total = sum([v for k,v in tmp_dict.items()])\n",
    "        tmp_dict = {k:round(v/total*100,2) for k,v in tmp_dict.items()}\n",
    "        try:\n",
    "            models.loc[counter, 'percent_of_unclustered_geos'] = tmp_dict.pop(-1)\n",
    "        except KeyError as error:\n",
    "            models.loc[counter, 'percent_of_unclustered_geos'] = 0 \n",
    "        if len(tmp_dict) > 1:\n",
    "            models.loc[counter, 'percent_of_maxclass'] = tmp_dict[max(tmp_dict.items(), key=operator.itemgetter(1))[0]]\n",
    "        else:\n",
    "            models.loc[counter, 'percent_of_maxclass'] = 100\n",
    "        counter += 1\n",
    "    if prune:\n",
    "        out_model = hdbscan.HDBSCAN(min_samples=int(fmin_samples), \n",
    "                                min_cluster_size=int(fmin_cluster_size), \n",
    "                                metric='euclidean', \n",
    "                                algorithm='best',\n",
    "                                cluster_selection_method=cluster_selection_method, prediction_data=False).fit(df)\n",
    "\n",
    "    else:\n",
    "        out_model = None\n",
    "\n",
    "    if plot:\n",
    "        plt.rcParams['figure.figsize'] = [20,10]\n",
    "        plt.plot(models['num_clusters_including_unclustered'], label='Number of clusters including unclustered')\n",
    "        plt.plot(models['percent_of_unclustered_geos'], label='Percent of unclustered geographies')\n",
    "        plt.plot(models['percent_of_maxclass'], label='Size of larges cluster (%)')\n",
    "        plt.xlabel(\"Iterations\", fontsize=20)\n",
    "        plt.ylabel(\"Value\", fontsize=20)\n",
    "        plt.savefig(os.path.split(output)[1] + \"/finetune_parameteres.jpeg\")\n",
    "        plt.legend()\n",
    "        plt.show()\n",
    "    del(input_df, df)\n",
    "    return models, out_model"
   ]
  },
  {
   "cell_type": "code",
   "execution_count": 31,
   "metadata": {},
   "outputs": [],
   "source": [
    "DATA2011 = '/Users/edinhamzic/Symphony/wb_bangladesh/Bangladesh/output/all/maternal_mortality_2011.csv'\n",
    "DATA2016 = '/Users/edinhamzic/Symphony/wb_bangladesh/Bangladesh/output/all/maternal_mortality_2016.csv'\n",
    "SDATA2011 = '/Users/edinhamzic/Symphony/wb_bangladesh/Bangladesh/output/all/s_maternal_mortality_2011.csv'\n",
    "SDATA2016 = '/Users/edinhamzic/Symphony/wb_bangladesh/Bangladesh/output/all/s_maternal_mortality_2016.csv'\n",
    "OUT = '/Users/edinhamzic/Symphony/wb_bangladesh/Bangladesh/output/all/'"
   ]
  },
  {
   "cell_type": "markdown",
   "metadata": {},
   "source": [
    "## Evaluate clustering method: HDBSCAN - leaf - 2011"
   ]
  },
  {
   "cell_type": "code",
   "execution_count": 32,
   "metadata": {},
   "outputs": [],
   "source": [
    "tmp, out = evaluate_hdbscan(input_df=s_data2011[maternal_mortality_vars_union], \n",
    "                       min_samples=Config.tune_min_sample, \n",
    "                       min_cluster_size=Config.tune_min_cluster,\n",
    "                       output=OUT, cluster_selection_method ='leaf',\n",
    "                       fmin_samples=3, fmin_cluster_size=12,\n",
    "                       prune=True, plot=False)"
   ]
  },
  {
   "cell_type": "code",
   "execution_count": 33,
   "metadata": {},
   "outputs": [
    {
     "data": {
      "text/html": [
       "<div>\n",
       "<style scoped>\n",
       "    .dataframe tbody tr th:only-of-type {\n",
       "        vertical-align: middle;\n",
       "    }\n",
       "\n",
       "    .dataframe tbody tr th {\n",
       "        vertical-align: top;\n",
       "    }\n",
       "\n",
       "    .dataframe thead th {\n",
       "        text-align: right;\n",
       "    }\n",
       "</style>\n",
       "<table border=\"1\" class=\"dataframe\">\n",
       "  <thead>\n",
       "    <tr style=\"text-align: right;\">\n",
       "      <th></th>\n",
       "      <th>min_samples</th>\n",
       "      <th>min_cluster_size</th>\n",
       "      <th>num_clusters_including_unclustered</th>\n",
       "      <th>percent_of_unclustered_geos</th>\n",
       "      <th>percent_of_maxclass</th>\n",
       "    </tr>\n",
       "  </thead>\n",
       "  <tbody>\n",
       "    <tr>\n",
       "      <th>1</th>\n",
       "      <td>1</td>\n",
       "      <td>3</td>\n",
       "      <td>3</td>\n",
       "      <td>26.56</td>\n",
       "      <td>68.75</td>\n",
       "    </tr>\n",
       "    <tr>\n",
       "      <th>0</th>\n",
       "      <td>1</td>\n",
       "      <td>2</td>\n",
       "      <td>8</td>\n",
       "      <td>75</td>\n",
       "      <td>4.69</td>\n",
       "    </tr>\n",
       "    <tr>\n",
       "      <th>48</th>\n",
       "      <td>2</td>\n",
       "      <td>2</td>\n",
       "      <td>4</td>\n",
       "      <td>75</td>\n",
       "      <td>18.75</td>\n",
       "    </tr>\n",
       "    <tr>\n",
       "      <th>294</th>\n",
       "      <td>7</td>\n",
       "      <td>8</td>\n",
       "      <td>1</td>\n",
       "      <td>100</td>\n",
       "      <td>100</td>\n",
       "    </tr>\n",
       "    <tr>\n",
       "      <th>293</th>\n",
       "      <td>7</td>\n",
       "      <td>7</td>\n",
       "      <td>1</td>\n",
       "      <td>100</td>\n",
       "      <td>100</td>\n",
       "    </tr>\n",
       "    <tr>\n",
       "      <th>292</th>\n",
       "      <td>7</td>\n",
       "      <td>6</td>\n",
       "      <td>1</td>\n",
       "      <td>100</td>\n",
       "      <td>100</td>\n",
       "    </tr>\n",
       "    <tr>\n",
       "      <th>291</th>\n",
       "      <td>7</td>\n",
       "      <td>5</td>\n",
       "      <td>1</td>\n",
       "      <td>100</td>\n",
       "      <td>100</td>\n",
       "    </tr>\n",
       "    <tr>\n",
       "      <th>290</th>\n",
       "      <td>7</td>\n",
       "      <td>4</td>\n",
       "      <td>1</td>\n",
       "      <td>100</td>\n",
       "      <td>100</td>\n",
       "    </tr>\n",
       "    <tr>\n",
       "      <th>289</th>\n",
       "      <td>7</td>\n",
       "      <td>3</td>\n",
       "      <td>1</td>\n",
       "      <td>100</td>\n",
       "      <td>100</td>\n",
       "    </tr>\n",
       "    <tr>\n",
       "      <th>288</th>\n",
       "      <td>7</td>\n",
       "      <td>2</td>\n",
       "      <td>1</td>\n",
       "      <td>100</td>\n",
       "      <td>100</td>\n",
       "    </tr>\n",
       "  </tbody>\n",
       "</table>\n",
       "</div>"
      ],
      "text/plain": [
       "    min_samples min_cluster_size num_clusters_including_unclustered  \\\n",
       "1             1                3                                  3   \n",
       "0             1                2                                  8   \n",
       "48            2                2                                  4   \n",
       "294           7                8                                  1   \n",
       "293           7                7                                  1   \n",
       "292           7                6                                  1   \n",
       "291           7                5                                  1   \n",
       "290           7                4                                  1   \n",
       "289           7                3                                  1   \n",
       "288           7                2                                  1   \n",
       "\n",
       "    percent_of_unclustered_geos percent_of_maxclass  \n",
       "1                         26.56               68.75  \n",
       "0                            75                4.69  \n",
       "48                           75               18.75  \n",
       "294                         100                 100  \n",
       "293                         100                 100  \n",
       "292                         100                 100  \n",
       "291                         100                 100  \n",
       "290                         100                 100  \n",
       "289                         100                 100  \n",
       "288                         100                 100  "
      ]
     },
     "execution_count": 33,
     "metadata": {},
     "output_type": "execute_result"
    }
   ],
   "source": [
    "tmp = tmp[tmp['num_clusters_including_unclustered'] <10]\n",
    "tmp.sort_values('percent_of_unclustered_geos', ascending=True).head(10)"
   ]
  },
  {
   "cell_type": "markdown",
   "metadata": {},
   "source": [
    "## Evaluate clustering method: HDBSCAN - eom - 2011"
   ]
  },
  {
   "cell_type": "code",
   "execution_count": 34,
   "metadata": {},
   "outputs": [],
   "source": [
    "tmp, out = evaluate_hdbscan(input_df=s_data2011[maternal_mortality_vars_union], \n",
    "                       min_samples=Config.tune_min_sample, \n",
    "                       min_cluster_size=Config.tune_min_cluster,\n",
    "                       output=OUT, cluster_selection_method ='eom',\n",
    "                       fmin_samples=3, fmin_cluster_size=12,\n",
    "                       prune=True, plot=False)"
   ]
  },
  {
   "cell_type": "code",
   "execution_count": 35,
   "metadata": {},
   "outputs": [
    {
     "data": {
      "text/html": [
       "<div>\n",
       "<style scoped>\n",
       "    .dataframe tbody tr th:only-of-type {\n",
       "        vertical-align: middle;\n",
       "    }\n",
       "\n",
       "    .dataframe tbody tr th {\n",
       "        vertical-align: top;\n",
       "    }\n",
       "\n",
       "    .dataframe thead th {\n",
       "        text-align: right;\n",
       "    }\n",
       "</style>\n",
       "<table border=\"1\" class=\"dataframe\">\n",
       "  <thead>\n",
       "    <tr style=\"text-align: right;\">\n",
       "      <th></th>\n",
       "      <th>min_samples</th>\n",
       "      <th>min_cluster_size</th>\n",
       "      <th>num_clusters_including_unclustered</th>\n",
       "      <th>percent_of_unclustered_geos</th>\n",
       "      <th>percent_of_maxclass</th>\n",
       "    </tr>\n",
       "  </thead>\n",
       "  <tbody>\n",
       "    <tr>\n",
       "      <th>0</th>\n",
       "      <td>1</td>\n",
       "      <td>2</td>\n",
       "      <td>3</td>\n",
       "      <td>26.56</td>\n",
       "      <td>68.75</td>\n",
       "    </tr>\n",
       "    <tr>\n",
       "      <th>1</th>\n",
       "      <td>1</td>\n",
       "      <td>3</td>\n",
       "      <td>3</td>\n",
       "      <td>26.56</td>\n",
       "      <td>68.75</td>\n",
       "    </tr>\n",
       "    <tr>\n",
       "      <th>48</th>\n",
       "      <td>2</td>\n",
       "      <td>2</td>\n",
       "      <td>3</td>\n",
       "      <td>34.38</td>\n",
       "      <td>62.5</td>\n",
       "    </tr>\n",
       "    <tr>\n",
       "      <th>294</th>\n",
       "      <td>7</td>\n",
       "      <td>8</td>\n",
       "      <td>1</td>\n",
       "      <td>100</td>\n",
       "      <td>100</td>\n",
       "    </tr>\n",
       "    <tr>\n",
       "      <th>293</th>\n",
       "      <td>7</td>\n",
       "      <td>7</td>\n",
       "      <td>1</td>\n",
       "      <td>100</td>\n",
       "      <td>100</td>\n",
       "    </tr>\n",
       "    <tr>\n",
       "      <th>292</th>\n",
       "      <td>7</td>\n",
       "      <td>6</td>\n",
       "      <td>1</td>\n",
       "      <td>100</td>\n",
       "      <td>100</td>\n",
       "    </tr>\n",
       "    <tr>\n",
       "      <th>291</th>\n",
       "      <td>7</td>\n",
       "      <td>5</td>\n",
       "      <td>1</td>\n",
       "      <td>100</td>\n",
       "      <td>100</td>\n",
       "    </tr>\n",
       "    <tr>\n",
       "      <th>290</th>\n",
       "      <td>7</td>\n",
       "      <td>4</td>\n",
       "      <td>1</td>\n",
       "      <td>100</td>\n",
       "      <td>100</td>\n",
       "    </tr>\n",
       "    <tr>\n",
       "      <th>289</th>\n",
       "      <td>7</td>\n",
       "      <td>3</td>\n",
       "      <td>1</td>\n",
       "      <td>100</td>\n",
       "      <td>100</td>\n",
       "    </tr>\n",
       "    <tr>\n",
       "      <th>288</th>\n",
       "      <td>7</td>\n",
       "      <td>2</td>\n",
       "      <td>1</td>\n",
       "      <td>100</td>\n",
       "      <td>100</td>\n",
       "    </tr>\n",
       "  </tbody>\n",
       "</table>\n",
       "</div>"
      ],
      "text/plain": [
       "    min_samples min_cluster_size num_clusters_including_unclustered  \\\n",
       "0             1                2                                  3   \n",
       "1             1                3                                  3   \n",
       "48            2                2                                  3   \n",
       "294           7                8                                  1   \n",
       "293           7                7                                  1   \n",
       "292           7                6                                  1   \n",
       "291           7                5                                  1   \n",
       "290           7                4                                  1   \n",
       "289           7                3                                  1   \n",
       "288           7                2                                  1   \n",
       "\n",
       "    percent_of_unclustered_geos percent_of_maxclass  \n",
       "0                         26.56               68.75  \n",
       "1                         26.56               68.75  \n",
       "48                        34.38                62.5  \n",
       "294                         100                 100  \n",
       "293                         100                 100  \n",
       "292                         100                 100  \n",
       "291                         100                 100  \n",
       "290                         100                 100  \n",
       "289                         100                 100  \n",
       "288                         100                 100  "
      ]
     },
     "execution_count": 35,
     "metadata": {},
     "output_type": "execute_result"
    }
   ],
   "source": [
    "tmp = tmp[tmp['num_clusters_including_unclustered'] <10]\n",
    "tmp.sort_values('percent_of_unclustered_geos', ascending=True).head(10)"
   ]
  },
  {
   "cell_type": "markdown",
   "metadata": {},
   "source": [
    "## Evaluate clustering method: HDBSCAN - leaf - 2016"
   ]
  },
  {
   "cell_type": "code",
   "execution_count": 36,
   "metadata": {},
   "outputs": [],
   "source": [
    "tmp, out = evaluate_hdbscan(input_df=s_data2016[maternal_mortality_vars_union], \n",
    "                       min_samples=Config.tune_min_sample, \n",
    "                       min_cluster_size=Config.tune_min_cluster,\n",
    "                       output=OUT, cluster_selection_method ='leaf',\n",
    "                       fmin_samples=3, fmin_cluster_size=12,\n",
    "                       prune=True, plot=False)"
   ]
  },
  {
   "cell_type": "code",
   "execution_count": 37,
   "metadata": {},
   "outputs": [
    {
     "data": {
      "text/html": [
       "<div>\n",
       "<style scoped>\n",
       "    .dataframe tbody tr th:only-of-type {\n",
       "        vertical-align: middle;\n",
       "    }\n",
       "\n",
       "    .dataframe tbody tr th {\n",
       "        vertical-align: top;\n",
       "    }\n",
       "\n",
       "    .dataframe thead th {\n",
       "        text-align: right;\n",
       "    }\n",
       "</style>\n",
       "<table border=\"1\" class=\"dataframe\">\n",
       "  <thead>\n",
       "    <tr style=\"text-align: right;\">\n",
       "      <th></th>\n",
       "      <th>min_samples</th>\n",
       "      <th>min_cluster_size</th>\n",
       "      <th>num_clusters_including_unclustered</th>\n",
       "      <th>percent_of_unclustered_geos</th>\n",
       "      <th>percent_of_maxclass</th>\n",
       "    </tr>\n",
       "  </thead>\n",
       "  <tbody>\n",
       "    <tr>\n",
       "      <th>0</th>\n",
       "      <td>1</td>\n",
       "      <td>2</td>\n",
       "      <td>7</td>\n",
       "      <td>78.12</td>\n",
       "      <td>6.25</td>\n",
       "    </tr>\n",
       "    <tr>\n",
       "      <th>294</th>\n",
       "      <td>7</td>\n",
       "      <td>8</td>\n",
       "      <td>1</td>\n",
       "      <td>100</td>\n",
       "      <td>100</td>\n",
       "    </tr>\n",
       "    <tr>\n",
       "      <th>293</th>\n",
       "      <td>7</td>\n",
       "      <td>7</td>\n",
       "      <td>1</td>\n",
       "      <td>100</td>\n",
       "      <td>100</td>\n",
       "    </tr>\n",
       "    <tr>\n",
       "      <th>292</th>\n",
       "      <td>7</td>\n",
       "      <td>6</td>\n",
       "      <td>1</td>\n",
       "      <td>100</td>\n",
       "      <td>100</td>\n",
       "    </tr>\n",
       "    <tr>\n",
       "      <th>291</th>\n",
       "      <td>7</td>\n",
       "      <td>5</td>\n",
       "      <td>1</td>\n",
       "      <td>100</td>\n",
       "      <td>100</td>\n",
       "    </tr>\n",
       "    <tr>\n",
       "      <th>290</th>\n",
       "      <td>7</td>\n",
       "      <td>4</td>\n",
       "      <td>1</td>\n",
       "      <td>100</td>\n",
       "      <td>100</td>\n",
       "    </tr>\n",
       "    <tr>\n",
       "      <th>289</th>\n",
       "      <td>7</td>\n",
       "      <td>3</td>\n",
       "      <td>1</td>\n",
       "      <td>100</td>\n",
       "      <td>100</td>\n",
       "    </tr>\n",
       "    <tr>\n",
       "      <th>288</th>\n",
       "      <td>7</td>\n",
       "      <td>2</td>\n",
       "      <td>1</td>\n",
       "      <td>100</td>\n",
       "      <td>100</td>\n",
       "    </tr>\n",
       "    <tr>\n",
       "      <th>287</th>\n",
       "      <td>6</td>\n",
       "      <td>49</td>\n",
       "      <td>1</td>\n",
       "      <td>100</td>\n",
       "      <td>100</td>\n",
       "    </tr>\n",
       "    <tr>\n",
       "      <th>286</th>\n",
       "      <td>6</td>\n",
       "      <td>48</td>\n",
       "      <td>1</td>\n",
       "      <td>100</td>\n",
       "      <td>100</td>\n",
       "    </tr>\n",
       "  </tbody>\n",
       "</table>\n",
       "</div>"
      ],
      "text/plain": [
       "    min_samples min_cluster_size num_clusters_including_unclustered  \\\n",
       "0             1                2                                  7   \n",
       "294           7                8                                  1   \n",
       "293           7                7                                  1   \n",
       "292           7                6                                  1   \n",
       "291           7                5                                  1   \n",
       "290           7                4                                  1   \n",
       "289           7                3                                  1   \n",
       "288           7                2                                  1   \n",
       "287           6               49                                  1   \n",
       "286           6               48                                  1   \n",
       "\n",
       "    percent_of_unclustered_geos percent_of_maxclass  \n",
       "0                         78.12                6.25  \n",
       "294                         100                 100  \n",
       "293                         100                 100  \n",
       "292                         100                 100  \n",
       "291                         100                 100  \n",
       "290                         100                 100  \n",
       "289                         100                 100  \n",
       "288                         100                 100  \n",
       "287                         100                 100  \n",
       "286                         100                 100  "
      ]
     },
     "execution_count": 37,
     "metadata": {},
     "output_type": "execute_result"
    }
   ],
   "source": [
    "tmp = tmp[tmp['num_clusters_including_unclustered'] <10]\n",
    "tmp.sort_values('percent_of_unclustered_geos', ascending=True).head(10)"
   ]
  },
  {
   "cell_type": "markdown",
   "metadata": {},
   "source": [
    "## Evaluate clustering method: HDBSCAN - eom - 2016"
   ]
  },
  {
   "cell_type": "code",
   "execution_count": 38,
   "metadata": {},
   "outputs": [],
   "source": [
    "tmp, out = evaluate_hdbscan(input_df=s_data2016[maternal_mortality_vars_union], \n",
    "                       min_samples=Config.tune_min_sample, \n",
    "                       min_cluster_size=Config.tune_min_cluster,\n",
    "                       output=OUT, cluster_selection_method ='eom',\n",
    "                       fmin_samples=3, fmin_cluster_size=12,\n",
    "                       prune=True, plot=False)"
   ]
  },
  {
   "cell_type": "code",
   "execution_count": 39,
   "metadata": {},
   "outputs": [
    {
     "data": {
      "text/html": [
       "<div>\n",
       "<style scoped>\n",
       "    .dataframe tbody tr th:only-of-type {\n",
       "        vertical-align: middle;\n",
       "    }\n",
       "\n",
       "    .dataframe tbody tr th {\n",
       "        vertical-align: top;\n",
       "    }\n",
       "\n",
       "    .dataframe thead th {\n",
       "        text-align: right;\n",
       "    }\n",
       "</style>\n",
       "<table border=\"1\" class=\"dataframe\">\n",
       "  <thead>\n",
       "    <tr style=\"text-align: right;\">\n",
       "      <th></th>\n",
       "      <th>min_samples</th>\n",
       "      <th>min_cluster_size</th>\n",
       "      <th>num_clusters_including_unclustered</th>\n",
       "      <th>percent_of_unclustered_geos</th>\n",
       "      <th>percent_of_maxclass</th>\n",
       "    </tr>\n",
       "  </thead>\n",
       "  <tbody>\n",
       "    <tr>\n",
       "      <th>0</th>\n",
       "      <td>1</td>\n",
       "      <td>2</td>\n",
       "      <td>4</td>\n",
       "      <td>32.81</td>\n",
       "      <td>60.94</td>\n",
       "    </tr>\n",
       "    <tr>\n",
       "      <th>294</th>\n",
       "      <td>7</td>\n",
       "      <td>8</td>\n",
       "      <td>1</td>\n",
       "      <td>100</td>\n",
       "      <td>100</td>\n",
       "    </tr>\n",
       "    <tr>\n",
       "      <th>293</th>\n",
       "      <td>7</td>\n",
       "      <td>7</td>\n",
       "      <td>1</td>\n",
       "      <td>100</td>\n",
       "      <td>100</td>\n",
       "    </tr>\n",
       "    <tr>\n",
       "      <th>292</th>\n",
       "      <td>7</td>\n",
       "      <td>6</td>\n",
       "      <td>1</td>\n",
       "      <td>100</td>\n",
       "      <td>100</td>\n",
       "    </tr>\n",
       "    <tr>\n",
       "      <th>291</th>\n",
       "      <td>7</td>\n",
       "      <td>5</td>\n",
       "      <td>1</td>\n",
       "      <td>100</td>\n",
       "      <td>100</td>\n",
       "    </tr>\n",
       "    <tr>\n",
       "      <th>290</th>\n",
       "      <td>7</td>\n",
       "      <td>4</td>\n",
       "      <td>1</td>\n",
       "      <td>100</td>\n",
       "      <td>100</td>\n",
       "    </tr>\n",
       "    <tr>\n",
       "      <th>289</th>\n",
       "      <td>7</td>\n",
       "      <td>3</td>\n",
       "      <td>1</td>\n",
       "      <td>100</td>\n",
       "      <td>100</td>\n",
       "    </tr>\n",
       "    <tr>\n",
       "      <th>288</th>\n",
       "      <td>7</td>\n",
       "      <td>2</td>\n",
       "      <td>1</td>\n",
       "      <td>100</td>\n",
       "      <td>100</td>\n",
       "    </tr>\n",
       "    <tr>\n",
       "      <th>287</th>\n",
       "      <td>6</td>\n",
       "      <td>49</td>\n",
       "      <td>1</td>\n",
       "      <td>100</td>\n",
       "      <td>100</td>\n",
       "    </tr>\n",
       "    <tr>\n",
       "      <th>286</th>\n",
       "      <td>6</td>\n",
       "      <td>48</td>\n",
       "      <td>1</td>\n",
       "      <td>100</td>\n",
       "      <td>100</td>\n",
       "    </tr>\n",
       "  </tbody>\n",
       "</table>\n",
       "</div>"
      ],
      "text/plain": [
       "    min_samples min_cluster_size num_clusters_including_unclustered  \\\n",
       "0             1                2                                  4   \n",
       "294           7                8                                  1   \n",
       "293           7                7                                  1   \n",
       "292           7                6                                  1   \n",
       "291           7                5                                  1   \n",
       "290           7                4                                  1   \n",
       "289           7                3                                  1   \n",
       "288           7                2                                  1   \n",
       "287           6               49                                  1   \n",
       "286           6               48                                  1   \n",
       "\n",
       "    percent_of_unclustered_geos percent_of_maxclass  \n",
       "0                         32.81               60.94  \n",
       "294                         100                 100  \n",
       "293                         100                 100  \n",
       "292                         100                 100  \n",
       "291                         100                 100  \n",
       "290                         100                 100  \n",
       "289                         100                 100  \n",
       "288                         100                 100  \n",
       "287                         100                 100  \n",
       "286                         100                 100  "
      ]
     },
     "execution_count": 39,
     "metadata": {},
     "output_type": "execute_result"
    }
   ],
   "source": [
    "tmp = tmp[tmp['num_clusters_including_unclustered'] <10]\n",
    "tmp.sort_values('percent_of_unclustered_geos', ascending=True).head(10)"
   ]
  },
  {
   "cell_type": "markdown",
   "metadata": {},
   "source": [
    "# Clustering with K-means"
   ]
  },
  {
   "cell_type": "markdown",
   "metadata": {},
   "source": [
    "### Clustering Union List"
   ]
  },
  {
   "cell_type": "code",
   "execution_count": 40,
   "metadata": {},
   "outputs": [],
   "source": [
    "kmeans_model = KMeans(n_clusters=3, random_state=0).fit(s_data2011[maternal_mortality_vars_union])\n",
    "predicted2016 = kmeans_model.predict(s_data2016[maternal_mortality_vars_union])\n",
    "d2011['cluster'] = kmeans_model.labels_\n",
    "d2016['cluster'] = predicted2016"
   ]
  },
  {
   "cell_type": "code",
   "execution_count": 41,
   "metadata": {},
   "outputs": [
    {
     "name": "stdout",
     "output_type": "stream",
     "text": [
      "(64, 61)\n",
      "(64, 61)\n"
     ]
    }
   ],
   "source": [
    "maternal_mortality_vars_union.append('cluster')\n",
    "d2011[maternal_mortality_vars_union].to_csv(OUT+'/clusters_maternal_mortality_union_2011.csv')\n",
    "d2016[maternal_mortality_vars_union].to_csv(OUT+'/clusters_maternal_mortality_union_2016.csv')\n",
    "print(d2011[maternal_mortality_vars_union].shape)\n",
    "print(d2016[maternal_mortality_vars_union].shape)"
   ]
  },
  {
   "cell_type": "code",
   "execution_count": 42,
   "metadata": {},
   "outputs": [
    {
     "name": "stdout",
     "output_type": "stream",
     "text": [
      "Counter({2: 40, 1: 18, 0: 6})\n"
     ]
    }
   ],
   "source": [
    "print(Counter(d2011['cluster']))"
   ]
  },
  {
   "cell_type": "code",
   "execution_count": 43,
   "metadata": {},
   "outputs": [
    {
     "name": "stdout",
     "output_type": "stream",
     "text": [
      "Counter({2: 41, 1: 18, 0: 5})\n"
     ]
    }
   ],
   "source": [
    "print(Counter(d2016['cluster']))"
   ]
  },
  {
   "cell_type": "markdown",
   "metadata": {},
   "source": [
    "### Clustering Intersection List"
   ]
  },
  {
   "cell_type": "code",
   "execution_count": 44,
   "metadata": {},
   "outputs": [],
   "source": [
    "d2011 = d2011.drop('cluster', axis=1)\n",
    "d2016 = d2016.drop('cluster', axis=1)"
   ]
  },
  {
   "cell_type": "code",
   "execution_count": 45,
   "metadata": {},
   "outputs": [],
   "source": [
    "kmeans_model = KMeans(n_clusters=3, random_state=0).fit(s_data2011[maternal_mortality_vars_inter])\n",
    "predicted2016 = kmeans_model.predict(s_data2016[maternal_mortality_vars_inter])\n",
    "d2011['cluster'] = kmeans_model.labels_\n",
    "d2016['cluster'] = predicted2016"
   ]
  },
  {
   "cell_type": "code",
   "execution_count": 46,
   "metadata": {},
   "outputs": [
    {
     "name": "stdout",
     "output_type": "stream",
     "text": [
      "Counter({1: 50, 2: 11, 0: 3})\n"
     ]
    }
   ],
   "source": [
    "print(Counter(d2011['cluster']))"
   ]
  },
  {
   "cell_type": "code",
   "execution_count": 47,
   "metadata": {},
   "outputs": [
    {
     "name": "stdout",
     "output_type": "stream",
     "text": [
      "Counter({1: 49, 2: 13, 0: 2})\n"
     ]
    }
   ],
   "source": [
    "print(Counter(d2016['cluster']))"
   ]
  },
  {
   "cell_type": "code",
   "execution_count": 48,
   "metadata": {},
   "outputs": [
    {
     "name": "stdout",
     "output_type": "stream",
     "text": [
      "(64, 10)\n",
      "(64, 10)\n"
     ]
    }
   ],
   "source": [
    "maternal_mortality_vars_inter.append('cluster')\n",
    "d2011[maternal_mortality_vars_inter].to_csv(OUT+'/clusters_maternal_mortality_intersect_2011.csv')\n",
    "d2016[maternal_mortality_vars_inter].to_csv(OUT+'/clusters_maternal_mortality_intersect_2016.csv')\n",
    "print(d2011[maternal_mortality_vars_inter].shape)\n",
    "print(d2016[maternal_mortality_vars_inter].shape)"
   ]
  }
 ],
 "metadata": {
  "kernelspec": {
   "display_name": "Python 3",
   "language": "python",
   "name": "python3"
  },
  "language_info": {
   "codemirror_mode": {
    "name": "ipython",
    "version": 3
   },
   "file_extension": ".py",
   "mimetype": "text/x-python",
   "name": "python",
   "nbconvert_exporter": "python",
   "pygments_lexer": "ipython3",
   "version": "3.7.2"
  }
 },
 "nbformat": 4,
 "nbformat_minor": 2
}
