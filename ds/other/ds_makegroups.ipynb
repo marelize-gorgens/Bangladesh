{
 "cells": [
  {
   "cell_type": "markdown",
   "metadata": {},
   "source": [
    "# ds_makegroups"
   ]
  },
  {
   "cell_type": "code",
   "execution_count": 62,
   "metadata": {},
   "outputs": [],
   "source": [
    "import os\n",
    "import pandas as pd"
   ]
  },
  {
   "cell_type": "markdown",
   "metadata": {},
   "source": [
    "## Getting data"
   ]
  },
  {
   "cell_type": "code",
   "execution_count": 63,
   "metadata": {},
   "outputs": [],
   "source": [
    "dgfp_path = '/Users/edinhamzic/Symphony/wb_bangladesh/Bangladesh/output/other/FP_dataset_vars_definitions_PHCPI.xlsx'\n",
    "dghs_path = '/Users/edinhamzic/Symphony/wb_bangladesh/Bangladesh/output/other/DHIS2_data_summary_PHCPI.xlsx'"
   ]
  },
  {
   "cell_type": "code",
   "execution_count": 64,
   "metadata": {},
   "outputs": [],
   "source": [
    "dgfp = pd.read_excel(dgfp_path)\n",
    "dghs = pd.read_excel(dghs_path)"
   ]
  },
  {
   "cell_type": "markdown",
   "metadata": {},
   "source": [
    "## Filtering rows"
   ]
  },
  {
   "cell_type": "markdown",
   "metadata": {},
   "source": [
    "### Remove NAs base on availability among SVRS denominators"
   ]
  },
  {
   "cell_type": "code",
   "execution_count": 65,
   "metadata": {},
   "outputs": [
    {
     "name": "stdout",
     "output_type": "stream",
     "text": [
      "(319, 8)\n",
      "(256, 8)\n"
     ]
    }
   ],
   "source": [
    "print(dgfp.shape)\n",
    "dgfp = dgfp[dgfp['On SVRS'].notna()]\n",
    "print(dgfp.shape)"
   ]
  },
  {
   "cell_type": "code",
   "execution_count": 66,
   "metadata": {},
   "outputs": [
    {
     "name": "stdout",
     "output_type": "stream",
     "text": [
      "(355, 11)\n",
      "(196, 11)\n"
     ]
    }
   ],
   "source": [
    "print(dghs.shape)\n",
    "dghs = dghs[dghs['On SVRS'].notna()]\n",
    "print(dghs.shape)"
   ]
  },
  {
   "cell_type": "markdown",
   "metadata": {},
   "source": [
    "### Remove NAs base on availability among PHCPI and Other indicator"
   ]
  },
  {
   "cell_type": "code",
   "execution_count": 67,
   "metadata": {},
   "outputs": [
    {
     "name": "stdout",
     "output_type": "stream",
     "text": [
      "(256, 8)\n",
      "(224, 8)\n"
     ]
    }
   ],
   "source": [
    "test = [var1 or var2 for var1,var2 in zip(dgfp['PHCPI Indicator'].notna(),dgfp['Other Indicator'].notna())]\n",
    "print(dgfp.shape)\n",
    "dgfp = dgfp[test]\n",
    "print(dgfp.shape)"
   ]
  },
  {
   "cell_type": "code",
   "execution_count": 68,
   "metadata": {},
   "outputs": [
    {
     "data": {
      "text/html": [
       "<div>\n",
       "<style scoped>\n",
       "    .dataframe tbody tr th:only-of-type {\n",
       "        vertical-align: middle;\n",
       "    }\n",
       "\n",
       "    .dataframe tbody tr th {\n",
       "        vertical-align: top;\n",
       "    }\n",
       "\n",
       "    .dataframe thead th {\n",
       "        text-align: right;\n",
       "    }\n",
       "</style>\n",
       "<table border=\"1\" class=\"dataframe\">\n",
       "  <thead>\n",
       "    <tr style=\"text-align: right;\">\n",
       "      <th></th>\n",
       "      <th>year</th>\n",
       "      <th>data_element</th>\n",
       "      <th>geo_level</th>\n",
       "      <th>var_name</th>\n",
       "      <th>is_empty</th>\n",
       "      <th>Interesting outcome variable?</th>\n",
       "      <th>PHCPI indicator</th>\n",
       "      <th>Other indicator</th>\n",
       "      <th>Denominator</th>\n",
       "      <th>Note</th>\n",
       "      <th>On SVRS</th>\n",
       "    </tr>\n",
       "  </thead>\n",
       "  <tbody>\n",
       "    <tr>\n",
       "      <th>0</th>\n",
       "      <td>Upazila</td>\n",
       "      <td>09AdolescentHealth</td>\n",
       "      <td>2009</td>\n",
       "      <td># of Adolescent girls using sanitary napkin</td>\n",
       "      <td>False</td>\n",
       "      <td>NaN</td>\n",
       "      <td>NaN</td>\n",
       "      <td>Adolescent use of sanitary napkin</td>\n",
       "      <td>Women 15-19 years old and/or # of adolescents ...</td>\n",
       "      <td>NaN</td>\n",
       "      <td>women_15-19y</td>\n",
       "    </tr>\n",
       "    <tr>\n",
       "      <th>1</th>\n",
       "      <td>Upazila</td>\n",
       "      <td>09AdolescentHealth</td>\n",
       "      <td>2009</td>\n",
       "      <td># of Adolescent girls using sanitary napkin (M...</td>\n",
       "      <td>False</td>\n",
       "      <td>NaN</td>\n",
       "      <td>NaN</td>\n",
       "      <td>Adolescent use of sanitary napkin</td>\n",
       "      <td>Women 15-19 years old and/or # of adolescents ...</td>\n",
       "      <td>NaN</td>\n",
       "      <td>women_15-19y</td>\n",
       "    </tr>\n",
       "    <tr>\n",
       "      <th>2</th>\n",
       "      <td>Upazila</td>\n",
       "      <td>09AdolescentHealth</td>\n",
       "      <td>2009</td>\n",
       "      <td># of Adolescent referred from Adolescent clubs...</td>\n",
       "      <td>False</td>\n",
       "      <td>NaN</td>\n",
       "      <td>NaN</td>\n",
       "      <td>Adolescent referral from clubs</td>\n",
       "      <td>Men and women 15-19 years old and/or # of adol...</td>\n",
       "      <td>NaN</td>\n",
       "      <td>pop_15-19y</td>\n",
       "    </tr>\n",
       "    <tr>\n",
       "      <th>3</th>\n",
       "      <td>Upazila</td>\n",
       "      <td>09AdolescentHealth</td>\n",
       "      <td>2009</td>\n",
       "      <td># of Adolescent referred from Educational Inst...</td>\n",
       "      <td>False</td>\n",
       "      <td>NaN</td>\n",
       "      <td>NaN</td>\n",
       "      <td>Adolescent referral from educational institution</td>\n",
       "      <td>Men and women 15-19 years old and/or # of adol...</td>\n",
       "      <td>NaN</td>\n",
       "      <td>pop_15-19y</td>\n",
       "    </tr>\n",
       "    <tr>\n",
       "      <th>4</th>\n",
       "      <td>Upazila</td>\n",
       "      <td>09AdolescentHealth</td>\n",
       "      <td>2009</td>\n",
       "      <td># of Adolescents measured as an under-weight</td>\n",
       "      <td>False</td>\n",
       "      <td>NaN</td>\n",
       "      <td>Nutrition service availability: adolescents</td>\n",
       "      <td>NaN</td>\n",
       "      <td>Men and women 15-19 years old and/or # of adol...</td>\n",
       "      <td>NaN</td>\n",
       "      <td>pop_15-19y</td>\n",
       "    </tr>\n",
       "  </tbody>\n",
       "</table>\n",
       "</div>"
      ],
      "text/plain": [
       "      year        data_element  geo_level  \\\n",
       "0  Upazila  09AdolescentHealth       2009   \n",
       "1  Upazila  09AdolescentHealth       2009   \n",
       "2  Upazila  09AdolescentHealth       2009   \n",
       "3  Upazila  09AdolescentHealth       2009   \n",
       "4  Upazila  09AdolescentHealth       2009   \n",
       "\n",
       "                                            var_name  is_empty  \\\n",
       "0        # of Adolescent girls using sanitary napkin     False   \n",
       "1  # of Adolescent girls using sanitary napkin (M...     False   \n",
       "2  # of Adolescent referred from Adolescent clubs...     False   \n",
       "3  # of Adolescent referred from Educational Inst...     False   \n",
       "4       # of Adolescents measured as an under-weight     False   \n",
       "\n",
       "  Interesting outcome variable?                              PHCPI indicator  \\\n",
       "0                           NaN                                          NaN   \n",
       "1                           NaN                                          NaN   \n",
       "2                           NaN                                          NaN   \n",
       "3                           NaN                                          NaN   \n",
       "4                           NaN  Nutrition service availability: adolescents   \n",
       "\n",
       "                                    Other indicator  \\\n",
       "0                 Adolescent use of sanitary napkin   \n",
       "1                 Adolescent use of sanitary napkin   \n",
       "2                    Adolescent referral from clubs   \n",
       "3  Adolescent referral from educational institution   \n",
       "4                                               NaN   \n",
       "\n",
       "                                         Denominator Note       On SVRS  \n",
       "0  Women 15-19 years old and/or # of adolescents ...  NaN  women_15-19y  \n",
       "1  Women 15-19 years old and/or # of adolescents ...  NaN  women_15-19y  \n",
       "2  Men and women 15-19 years old and/or # of adol...  NaN    pop_15-19y  \n",
       "3  Men and women 15-19 years old and/or # of adol...  NaN    pop_15-19y  \n",
       "4  Men and women 15-19 years old and/or # of adol...  NaN    pop_15-19y  "
      ]
     },
     "execution_count": 68,
     "metadata": {},
     "output_type": "execute_result"
    }
   ],
   "source": [
    "dghs.head()"
   ]
  },
  {
   "cell_type": "code",
   "execution_count": 69,
   "metadata": {},
   "outputs": [
    {
     "name": "stdout",
     "output_type": "stream",
     "text": [
      "(196, 11)\n",
      "(196, 11)\n"
     ]
    }
   ],
   "source": [
    "test = [var1 or var2 for var1,var2 in zip(dghs['PHCPI indicator'].notna(),dghs['Other indicator'].notna())]\n",
    "print(dghs.shape)\n",
    "dghs = dghs[test]\n",
    "print(dghs.shape)"
   ]
  },
  {
   "cell_type": "markdown",
   "metadata": {},
   "source": [
    "### Summarize available variables"
   ]
  },
  {
   "cell_type": "code",
   "execution_count": 82,
   "metadata": {},
   "outputs": [
    {
     "data": {
      "text/plain": [
       "no_registered_births    147\n",
       "child_0-5y               25\n",
       "pop_15-19y               14\n",
       "women_15-49y              5\n",
       "women_15-19y              4\n",
       "child_<5y                 1\n",
       "Name: On SVRS, dtype: int64"
      ]
     },
     "metadata": {},
     "output_type": "display_data"
    },
    {
     "name": "stdout",
     "output_type": "stream",
     "text": [
      "##########################################################################################\n",
      "##########################################################################################\n"
     ]
    },
    {
     "data": {
      "text/plain": [
       "IMCI Service availability                      27\n",
       "ANC care quality?                              10\n",
       "ANC Quality?                                    6\n",
       "Nutrition service availability: adolescents     4\n",
       "STI service availability: adolescents           4\n",
       "ANC4                                            1\n",
       "FP service availability: adolescents            1\n",
       "Immunization service availability               1\n",
       "Nutrition Service availability                  1\n",
       "FP service availability                         1\n",
       "Financial protection?                           1\n",
       "Infant mortality                                1\n",
       "Name: PHCPI indicator, dtype: int64"
      ]
     },
     "metadata": {},
     "output_type": "display_data"
    },
    {
     "name": "stdout",
     "output_type": "stream",
     "text": [
      "##########################################################################################\n",
      "##########################################################################################\n"
     ]
    },
    {
     "data": {
      "text/plain": [
       "Delivery services available                                          40\n",
       "Newborn care service availability                                    39\n",
       "Delivery services: quality?                                          10\n",
       "Kangaroo Mother Care services available                               9\n",
       "Nutrition service available                                           6\n",
       "Newborn care service: quality?                                        5\n",
       "Adult immunization                                                    5\n",
       "Facility Quality of care monitoring?                                  5\n",
       "Facility Quality of care monitoring                                   4\n",
       "Kangaroo Mother Care: quality?                                        3\n",
       "ANC at delivery                                                       3\n",
       "Adolescent service availability                                       2\n",
       "Adolescent use of sanitary napkin                                     2\n",
       "Underweight births                                                    2\n",
       "Neonatal services available                                           2\n",
       "Postnatal services available                                          2\n",
       "Delivery services available: c-section                                1\n",
       "Facility quality of care monitoring                                   1\n",
       "Adolescent knowledge of legal age of marriage                         1\n",
       "Maternal death                                                        1\n",
       "Immunization service registration                                     1\n",
       "Normal deliveries                                                     1\n",
       "Neonatal Deaths                                                       1\n",
       "Adolescent counselling during puberty                                 1\n",
       "Newborn care service availability/ Nutrition Service availability     1\n",
       "Adolescent referral from clubs                                        1\n",
       "Facility Live Births                                                  1\n",
       "Still births                                                          1\n",
       "Adolescent referral from educational institution                      1\n",
       "Post Natal care available                                             1\n",
       "Name: Other indicator, dtype: int64"
      ]
     },
     "metadata": {},
     "output_type": "display_data"
    }
   ],
   "source": [
    "display(dghs['On SVRS'].value_counts())\n",
    "print(\"#\"*90)\n",
    "print(\"#\"*90)\n",
    "display(dghs['PHCPI indicator'].value_counts())\n",
    "print(\"#\"*90)\n",
    "print(\"#\"*90)\n",
    "display(dghs['Other indicator'].value_counts())"
   ]
  },
  {
   "cell_type": "code",
   "execution_count": 81,
   "metadata": {
    "scrolled": false
   },
   "outputs": [
    {
     "data": {
      "text/plain": [
       "FP services available                                               66\n",
       "FP Services available                                               52\n",
       "FP service available                                                 9\n",
       "ANC Sevices available                                                8\n",
       "Vaccination Service availability                                     7\n",
       "Vaccination service available                                        7\n",
       "ANC quality?                                                         5\n",
       "ANC Quality ?                                                        5\n",
       "Caseload: Total consultations [need total health care providers]     4\n",
       "STI service available                                                2\n",
       "STI Service availablity                                              2\n",
       "Name: PHCPI Indicator, dtype: int64"
      ]
     },
     "metadata": {},
     "output_type": "display_data"
    },
    {
     "name": "stdout",
     "output_type": "stream",
     "text": [
      "##########################################################################################\n"
     ]
    },
    {
     "data": {
      "text/plain": [
       "Delivery Services Available                10\n",
       "Post Natal Care services available          8\n",
       "Post Natal Services available               8\n",
       "Delivery: at risk referral                  4\n",
       "New-born care                               2\n",
       "FP Service utilization: MR                  2\n",
       "Mortality: total?                           2\n",
       "New-born care: nutrition                    2\n",
       "C-section                                   1\n",
       "Delivery services available                 1\n",
       "Mortality: other?                           1\n",
       "Mortality: still birth                      1\n",
       "Mortality: Maternal                         1\n",
       "Mortality: U5M                              1\n",
       "Delivery services available: c-section      1\n",
       "Mortality: infant                           1\n",
       "Post-abortion care                          1\n",
       "Fertility Services: referral                1\n",
       "Delivery: total birth                       1\n",
       "Adolescent Health Service: Sanitary Pad     1\n",
       "ANC services by trained person?             1\n",
       "ANC services by non-trained person?         1\n",
       "Quality of delivery services?               1\n",
       "Mortality: neonatal                         1\n",
       "FP Service utilization: ECP                 1\n",
       "FP Service utilization: Misoprostol         1\n",
       "Adolescent Health Service: Nutrition        1\n",
       "Fertility Services: advice                  1\n",
       "Delivery quality?                           1\n",
       "Mortality: Low Birth Weight                 1\n",
       "Mortality: premature birth                  1\n",
       "Adolescent Health Service:STI               1\n",
       "Name: Other Indicator, dtype: int64"
      ]
     },
     "metadata": {},
     "output_type": "display_data"
    }
   ],
   "source": [
    "display(dgfp['On SVRS'].value_counts())\n",
    "print(\"#\"*90)\n",
    "print(\"#\"*90)\n",
    "display(dgfp['PHCPI Indicator'].value_counts())\n",
    "print(\"#\"*90)\n",
    "print(\"#\"*90)\n",
    "display(dgfp['Other Indicator'].value_counts())"
   ]
  },
  {
   "cell_type": "code",
   "execution_count": 71,
   "metadata": {},
   "outputs": [
    {
     "data": {
      "text/html": [
       "<div>\n",
       "<style scoped>\n",
       "    .dataframe tbody tr th:only-of-type {\n",
       "        vertical-align: middle;\n",
       "    }\n",
       "\n",
       "    .dataframe tbody tr th {\n",
       "        vertical-align: top;\n",
       "    }\n",
       "\n",
       "    .dataframe thead th {\n",
       "        text-align: right;\n",
       "    }\n",
       "</style>\n",
       "<table border=\"1\" class=\"dataframe\">\n",
       "  <thead>\n",
       "    <tr style=\"text-align: right;\">\n",
       "      <th></th>\n",
       "      <th>dir</th>\n",
       "      <th>Names</th>\n",
       "      <th>Metadata</th>\n",
       "      <th>Report</th>\n",
       "      <th>PHCPI Indicator</th>\n",
       "      <th>Other Indicator</th>\n",
       "      <th>Denominator</th>\n",
       "      <th>On SVRS</th>\n",
       "    </tr>\n",
       "  </thead>\n",
       "  <tbody>\n",
       "    <tr>\n",
       "      <th>1</th>\n",
       "      <td>../../data/dgfp/data/importance12_districts/mc...</td>\n",
       "      <td>MCH85</td>\n",
       "      <td>Child Service (0-59 months)_No. of Immunized C...</td>\n",
       "      <td>District Month wise MCH services</td>\n",
       "      <td>Vaccination Service availability</td>\n",
       "      <td>NaN</td>\n",
       "      <td>Children 0-59 months</td>\n",
       "      <td>child_&lt;5y</td>\n",
       "    </tr>\n",
       "    <tr>\n",
       "      <th>2</th>\n",
       "      <td>../../data/dgfp/data/importance12_districts/mc...</td>\n",
       "      <td>MCH82</td>\n",
       "      <td>Child Service (0-59 months)_No. of Immunized C...</td>\n",
       "      <td>District Month wise MCH services</td>\n",
       "      <td>Vaccination Service availability</td>\n",
       "      <td>NaN</td>\n",
       "      <td>Children 0-59 months</td>\n",
       "      <td>child_&lt;5y</td>\n",
       "    </tr>\n",
       "    <tr>\n",
       "      <th>3</th>\n",
       "      <td>../../data/dgfp/data/importance12_districts/mc...</td>\n",
       "      <td>MCH88</td>\n",
       "      <td>Child Service (0-59 months)_No. of Immunized C...</td>\n",
       "      <td>District Month wise MCH services</td>\n",
       "      <td>Vaccination Service availability</td>\n",
       "      <td>NaN</td>\n",
       "      <td>Children 0-59 months</td>\n",
       "      <td>child_&lt;5y</td>\n",
       "    </tr>\n",
       "    <tr>\n",
       "      <th>4</th>\n",
       "      <td>../../data/dgfp/data/importance12_districts/mc...</td>\n",
       "      <td>MCH87</td>\n",
       "      <td>Child Service (0-59 months)_No. of Immunized C...</td>\n",
       "      <td>District Month wise MCH services</td>\n",
       "      <td>Vaccination Service availability</td>\n",
       "      <td>NaN</td>\n",
       "      <td>Children 0-59 months</td>\n",
       "      <td>child_&lt;5y</td>\n",
       "    </tr>\n",
       "    <tr>\n",
       "      <th>5</th>\n",
       "      <td>../../data/dgfp/data/importance12_districts/mc...</td>\n",
       "      <td>MCH83</td>\n",
       "      <td>Child Service (0-59 months)_No. of Immunized C...</td>\n",
       "      <td>District Month wise MCH services</td>\n",
       "      <td>Vaccination Service availability</td>\n",
       "      <td>NaN</td>\n",
       "      <td>Children 0-59 months</td>\n",
       "      <td>child_&lt;5y</td>\n",
       "    </tr>\n",
       "  </tbody>\n",
       "</table>\n",
       "</div>"
      ],
      "text/plain": [
       "                                                 dir  Names  \\\n",
       "1  ../../data/dgfp/data/importance12_districts/mc...  MCH85   \n",
       "2  ../../data/dgfp/data/importance12_districts/mc...  MCH82   \n",
       "3  ../../data/dgfp/data/importance12_districts/mc...  MCH88   \n",
       "4  ../../data/dgfp/data/importance12_districts/mc...  MCH87   \n",
       "5  ../../data/dgfp/data/importance12_districts/mc...  MCH83   \n",
       "\n",
       "                                            Metadata  \\\n",
       "1  Child Service (0-59 months)_No. of Immunized C...   \n",
       "2  Child Service (0-59 months)_No. of Immunized C...   \n",
       "3  Child Service (0-59 months)_No. of Immunized C...   \n",
       "4  Child Service (0-59 months)_No. of Immunized C...   \n",
       "5  Child Service (0-59 months)_No. of Immunized C...   \n",
       "\n",
       "                             Report                   PHCPI Indicator  \\\n",
       "1  District Month wise MCH services  Vaccination Service availability   \n",
       "2  District Month wise MCH services  Vaccination Service availability   \n",
       "3  District Month wise MCH services  Vaccination Service availability   \n",
       "4  District Month wise MCH services  Vaccination Service availability   \n",
       "5  District Month wise MCH services  Vaccination Service availability   \n",
       "\n",
       "  Other Indicator           Denominator    On SVRS  \n",
       "1             NaN  Children 0-59 months  child_<5y  \n",
       "2             NaN  Children 0-59 months  child_<5y  \n",
       "3             NaN  Children 0-59 months  child_<5y  \n",
       "4             NaN  Children 0-59 months  child_<5y  \n",
       "5             NaN  Children 0-59 months  child_<5y  "
      ]
     },
     "execution_count": 71,
     "metadata": {},
     "output_type": "execute_result"
    }
   ],
   "source": [
    "dgfp.head()"
   ]
  },
  {
   "cell_type": "code",
   "execution_count": null,
   "metadata": {},
   "outputs": [],
   "source": [
    "- Reproductive:\n",
    "    - Services:\n",
    "    - Outcomes:\n",
    "- Maternal:\n",
    "    - Services:\n",
    "    - Outcomes:\n",
    "- Neonatal:\n",
    "    - Services:\n",
    "    - Outcomes:\n",
    "- Child:\n",
    "    - Services:\n",
    "    - Outcomes:"
   ]
  },
  {
   "cell_type": "code",
   "execution_count": null,
   "metadata": {},
   "outputs": [],
   "source": [
    "## ToDo List\n",
    "1. DONE Import both xlsx spreadsheets for DGFP and DGHS\n",
    "2. DONE Remove NAs base on availability among SVRS denominators\n",
    "3. DONE Remove NAs base on availability among PHCPI and Other indicator\n",
    "4. Create total population numbers for **2011**, 2012, **2013**, **2014**, 2015, 2016, **2017**\n",
    "5. "
   ]
  },
  {
   "cell_type": "markdown",
   "metadata": {},
   "source": [
    "## The 11 indicators of maternal, newborn and child health\n",
    "- Maternal mortality ratio\n",
    "- Under-five child mortality, with the proportion of newborn deaths\n",
    "- Children under five who are stunted\n",
    "- Proportion of demand for family planning satisfied (met need for contraception)\n",
    "- Antenatal care coverage (at least four times during pregnancy)\n",
    "- Antiretroviral (ARV) prophylaxis among HIVpositive pregnant women to prevent HIV transmission and antiretroviral therapy for [pregnant] women who are treatment-eligible\n",
    "- Skilled attendant at birth\n",
    "- Postnatal care for mothers and babies within two days of birth\n",
    "- Exclusive breastfeeding for six months (0–5 months)\n",
    "- Three doses of combined diphtheria-tetanuspertussis (DTP3) immunization coverage (12–23 months)\n",
    "- Antibiotic treatment for suspected pneumonia"
   ]
  },
  {
   "cell_type": "code",
   "execution_count": null,
   "metadata": {},
   "outputs": [],
   "source": []
  }
 ],
 "metadata": {
  "kernelspec": {
   "display_name": "Python 3",
   "language": "python",
   "name": "python3"
  },
  "language_info": {
   "codemirror_mode": {
    "name": "ipython",
    "version": 3
   },
   "file_extension": ".py",
   "mimetype": "text/x-python",
   "name": "python",
   "nbconvert_exporter": "python",
   "pygments_lexer": "ipython3",
   "version": "3.7.2"
  }
 },
 "nbformat": 4,
 "nbformat_minor": 2
}
