{
 "cells": [
  {
   "cell_type": "markdown",
   "metadata": {},
   "source": [
    "# WORKBOOK"
   ]
  },
  {
   "cell_type": "markdown",
   "metadata": {
    "collapsed": true
   },
   "source": [
    "## NOTES: 18 Feb 2019\n",
    "\n",
    "### Edin H.\n",
    "\n",
    "- Setting up GitHub repository and laying out repository structure and naming nomenclature.\n"
   ]
  },
  {
   "cell_type": "markdown",
   "metadata": {},
   "source": [
    "## NOTES: 19 Feb 2019\n",
    "\n",
    "### Edin H.\n",
    "\n",
    "- Finishing up the naming nomenclature and the repository structure.\n",
    "- Syncing my local Bangladesh/data directory with the one from OneDrive.\n",
    "\n",
    "### Hellen M.\n",
    "\n",
    "- Installing and setting up the computer.\n",
    "- "
   ]
  },
  {
   "cell_type": "code",
   "execution_count": null,
   "metadata": {
    "collapsed": true
   },
   "outputs": [],
   "source": []
  }
 ],
 "metadata": {
  "kernelspec": {
   "display_name": "Python 3",
   "language": "python",
   "name": "python3"
  },
  "language_info": {
   "codemirror_mode": {
    "name": "ipython",
    "version": 3
   },
   "file_extension": ".py",
   "mimetype": "text/x-python",
   "name": "python",
   "nbconvert_exporter": "python",
   "pygments_lexer": "ipython3",
   "version": "3.6.6"
  }
 },
 "nbformat": 4,
 "nbformat_minor": 2
}
