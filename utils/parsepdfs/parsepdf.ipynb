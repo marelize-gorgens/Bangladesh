{
 "cells": [
  {
   "cell_type": "markdown",
   "metadata": {},
   "source": [
    "# Processing Census 2011 Web Data"
   ]
  },
  {
   "cell_type": "markdown",
   "metadata": {},
   "source": [
    "## TO DO LIST\n",
    "- Check all names from the pdfs and dict_cols\n",
    "- Make a script that combines everything into a one script\n",
    "- "
   ]
  },
  {
   "cell_type": "code",
   "execution_count": 62,
   "metadata": {},
   "outputs": [
    {
     "data": {
      "text/plain": [
       "'/Users/edinhamzic/Symphony/wb_bangladesh/Bangladesh/utils/parsepdfs'"
      ]
     },
     "execution_count": 62,
     "metadata": {},
     "output_type": "execute_result"
    }
   ],
   "source": [
    "import os\n",
    "import re\n",
    "import PyPDF2\n",
    "from collections import Counter\n",
    "import pandas as pd\n",
    "from config import Config\n",
    "os.getcwd()"
   ]
  },
  {
   "cell_type": "code",
   "execution_count": 63,
   "metadata": {},
   "outputs": [],
   "source": [
    "census2011 = '/Users/edinhamzic/Symphony/wb_bangladesh/Bangladesh/data/bbs/webtestapplication/userfiles/image/Census2011'\n"
   ]
  },
  {
   "cell_type": "code",
   "execution_count": 64,
   "metadata": {},
   "outputs": [],
   "source": [
    "def check_pdf(file):\n",
    "    df_file_obj = open(file, 'rb')\n",
    "    pdf_reader = PyPDF2.PdfFileReader(df_file_obj, strict=False)\n",
    "    num_pages = pdf_reader.getNumPages()\n",
    "    pages = ''\n",
    "    for page in range(num_pages):\n",
    "        page_obj = pdf_reader.getPage(page)\n",
    "        pages = pages + page_obj.extractText()\n",
    "    pages = pages.split(\"\\n\")\n",
    "    pages = [element.replace(\",\", \"\") for element in pages]\n",
    "    check_points = []\n",
    "    for key, element in enumerate(pages):\n",
    "        if element.isspace() or not element.strip():\n",
    "            pages[key] = float('nan')\n",
    "        if key > 6:\n",
    "            try:\n",
    "                digits_check = pages[key - 4:key + 5]\n",
    "                string_check = digits_check.pop(4)\n",
    "                digits_check = [int(digit) for digit in digits_check]\n",
    "                geoname_check = not string_check.isdigit()\n",
    "                values_check_int = all([str(digit).isdigit() for digit in digits_check])\n",
    "                geoname_values_check = geoname_check and values_check_int\n",
    "                patterns = ['Zila', 'Upazila', 'Ward', 'Union', '*']\n",
    "                pattern_check = any([pattern in element for pattern in patterns])\n",
    "                if geoname_values_check or pattern_check:\n",
    "                    check_points.append(key)\n",
    "            except ValueError:\n",
    "                digits_check = pages[key - 4:key + 5]\n",
    "                string_check = digits_check.pop(4)\n",
    "                geoname_check = not check_float(string_check)\n",
    "                values_check_float = all([check_float(digit) for digit in digits_check])\n",
    "                geoname_values_check = geoname_check and values_check_float\n",
    "                patterns = ['Zila', 'Upazila', 'Ward', 'Union', '*']\n",
    "                pattern_check = any([pattern in element for pattern in patterns])\n",
    "                if geoname_values_check or pattern_check:\n",
    "                    check_points.append(key)\n",
    "            else:\n",
    "                pass\n",
    "    out = [j-i for i,j in zip(check_points[:-1], check_points[1:])]\n",
    "    return Counter(out).most_common(1)"
   ]
  },
  {
   "cell_type": "code",
   "execution_count": 71,
   "metadata": {},
   "outputs": [
    {
     "data": {
      "text/plain": [
       "15"
      ]
     },
     "execution_count": 71,
     "metadata": {},
     "output_type": "execute_result"
    }
   ],
   "source": [
    "output = '/Users/edinhamzic/Symphony/wb_bangladesh/Bangladesh/output/bbs/'\n",
    "Kushtia = '../../data/bbs/webtestapplication/userfiles/image/Census2011/Khulna/Kushtia/Kushtia_C12.pdf'\n",
    "out_test = check_pdf(file=Kushtia)\n",
    "out_test[0][0]"
   ]
  },
  {
   "cell_type": "code",
   "execution_count": 27,
   "metadata": {},
   "outputs": [],
   "source": [
    "def set_wd(path):\n",
    "    os.chdir(path)\n",
    "\n",
    "\n",
    "def check_float(string):\n",
    "    try:\n",
    "        float(string)\n",
    "        return True\n",
    "    except ValueError:\n",
    "        return False\n",
    "\n",
    "\n",
    "def get_pdf_files():\n",
    "    output = {'file': [], 'program': []}\n",
    "    for path, subdirs, files in os.walk('.'):\n",
    "        for name in files:\n",
    "            if bool(re.search(r'_C[0-9][0-9].pdf', name)):\n",
    "                output['file'].append(os.path.join(path, name))\n",
    "                output['program'].append(name[-7:-4])\n",
    "    return pd.DataFrame.from_dict(output)\n",
    "\n",
    "def parse_files(file, ncol_before, ncol_after, col_names):\n",
    "    df_file_obj = open(file, 'rb')\n",
    "    pdf_reader = PyPDF2.PdfFileReader(df_file_obj, strict=False)\n",
    "    num_pages = pdf_reader.getNumPages()\n",
    "    pages = ''\n",
    "    subset = {}\n",
    "    for page in range(num_pages):\n",
    "        page_obj = pdf_reader.getPage(page)\n",
    "        pages = pages + page_obj.extractText()\n",
    "    pages = pages.split(\"\\n\")\n",
    "    pages = [element.replace(\",\", \"\") for element in pages]\n",
    "    for key, element in enumerate(pages):\n",
    "        if element.isspace() or not element.strip():\n",
    "            pages[key] = float('nan')\n",
    "        if key > 6:\n",
    "            try:\n",
    "                digits_check = pages[key - 4:key + 5]\n",
    "                string_check = digits_check.pop(4)\n",
    "                digits_check = [int(digit) for digit in digits_check]\n",
    "                geoname_check = not string_check.isdigit()\n",
    "                values_check_int = all([str(digit).isdigit() for digit in digits_check])\n",
    "                geoname_values_check = geoname_check and values_check_int\n",
    "                patterns = ['Zila', 'Upazila', 'Ward', 'Union', '*']\n",
    "                pattern_check = any([pattern in element for pattern in patterns])\n",
    "                if geoname_values_check or pattern_check:\n",
    "                    subset[key] = pages[key - ncol_before:key + ncol_after]\n",
    "            except ValueError:\n",
    "                digits_check = pages[key - 4:key + 5]\n",
    "                string_check = digits_check.pop(4)\n",
    "                geoname_check = not check_float(string_check)\n",
    "                values_check_float = all([check_float(digit) for digit in digits_check])\n",
    "                geoname_values_check = geoname_check and values_check_float\n",
    "                patterns = ['Zila', 'Upazila', 'Ward', 'Union', '*']\n",
    "                pattern_check = any([pattern in element for pattern in patterns])\n",
    "                if geoname_values_check or pattern_check:\n",
    "                    subset[key] = pages[key - ncol_before:key + ncol_after]\n",
    "            else:\n",
    "                pass\n",
    "    subset = pd.DataFrame.from_dict(subset, orient='index', columns=col_names)\n",
    "    df_file_obj.close()\n",
    "    return subset\n",
    "\n",
    "def write_data(input_files, output_dir):\n",
    "    for subset in input_files['program'].unique():\n",
    "        tmp = input_files[input_files['program'] == subset]\n",
    "        out_list = []\n",
    "        for key, values in enumerate(tmp.values):\n",
    "            data = parse_files(values[0],\n",
    "                           ncol_before=Config.parse_parameters[values[1]]['ncol_before'],\n",
    "                           ncol_after=Config.parse_parameters[values[1]]['ncol_after'],\n",
    "                           col_names=Config.cols_dict[values[1]])\n",
    "            out_list.append(data)\n",
    "        program_df = pd.concat(out_list)\n",
    "        program_df.to_csv(os.path.join(output_dir,subset+\".csv\"), index=False, index_label=None)\n",
    "\n",
    "def main():\n",
    "    set_wd(path=census2011)\n",
    "    out = get_pdf_files()\n",
    "    write_data(input_files=out,output_dir=output)\n",
    "    return out"
   ]
  },
  {
   "cell_type": "code",
   "execution_count": null,
   "metadata": {
    "collapsed": true
   },
   "outputs": [],
   "source": [
    "main()"
   ]
  },
  {
   "cell_type": "code",
   "execution_count": null,
   "metadata": {
    "collapsed": true,
    "scrolled": true
   },
   "outputs": [],
   "source": [
    "t1 = parse_files(file=baruna_files[0], \n",
    "                     ncol_before=6, \n",
    "                     ncol_after=5, \n",
    "                     col_names = cols_dict['C01'])\n",
    "print(t1['ZL'].value_counts())\n",
    "t1.head()\n"
   ]
  },
  {
   "cell_type": "code",
   "execution_count": null,
   "metadata": {
    "collapsed": true
   },
   "outputs": [],
   "source": [
    "t2 = parse_files(file=baruna_files[1], ncol_before=6, ncol_after=9, col_names = cols_dict['C02'])\n",
    "print(t2['ZL'].value_counts())\n",
    "t2.head()"
   ]
  },
  {
   "cell_type": "code",
   "execution_count": null,
   "metadata": {
    "collapsed": true,
    "scrolled": true
   },
   "outputs": [],
   "source": [
    "t3 = parse_files(file=baruna_files[2], ncol_before=6, ncol_after=11, col_names = cols_dict['C03'])\n",
    "print(t3['ZL'].value_counts())\n",
    "t3.head()"
   ]
  },
  {
   "cell_type": "code",
   "execution_count": null,
   "metadata": {
    "collapsed": true
   },
   "outputs": [],
   "source": [
    "t4 = parse_files(file=baruna_files[3], ncol_before=6, ncol_after=12, col_names = cols_dict['C04'])\n",
    "print(t4['ZL'].value_counts())\n",
    "t4.head()"
   ]
  },
  {
   "cell_type": "code",
   "execution_count": null,
   "metadata": {
    "collapsed": true
   },
   "outputs": [],
   "source": [
    "t5 = parse_files(file=baruna_files[4], ncol_before=6, ncol_after=11, col_names = cols_dict['C05'])\n",
    "print(t5['ZL'].value_counts())\n",
    "t5.head()"
   ]
  },
  {
   "cell_type": "code",
   "execution_count": null,
   "metadata": {
    "collapsed": true
   },
   "outputs": [],
   "source": [
    "print(cols_dict['C06'])\n",
    "print(len(cols_dict['C06']))\n",
    "t6 = parse_files(file=baruna_files[5], ncol_before=6, ncol_after=10, col_names = cols_dict['C06'])\n",
    "print(t6['ZL'].value_counts())\n",
    "t6.head()"
   ]
  },
  {
   "cell_type": "code",
   "execution_count": null,
   "metadata": {
    "collapsed": true
   },
   "outputs": [],
   "source": [
    "print(cols_dict['C07'])\n",
    "print(len(cols_dict['C07']))\n",
    "t7 = parse_files(file=baruna_files[6], ncol_before=6, ncol_after=13, col_names = cols_dict['C07'])\n",
    "print(t7['ZL'].value_counts())\n",
    "t7.head()"
   ]
  },
  {
   "cell_type": "code",
   "execution_count": null,
   "metadata": {
    "collapsed": true
   },
   "outputs": [],
   "source": [
    "print(cols_dict['C08'])\n",
    "print(len(cols_dict['C08']))\n",
    "t8 = parse_files(file=baruna_files[7], ncol_before=6, ncol_after=13, col_names = cols_dict['C08'])\n",
    "print(t8['ZL'].value_counts())\n",
    "t8.head()"
   ]
  },
  {
   "cell_type": "code",
   "execution_count": null,
   "metadata": {
    "collapsed": true
   },
   "outputs": [],
   "source": [
    "print(cols_dict['C09'])\n",
    "print(len(cols_dict['C09']))\n",
    "t9 = parse_files(file=baruna_files[8], ncol_before=6, ncol_after=9, col_names = cols_dict['C09'])\n",
    "print(t9['ZL'].value_counts())\n",
    "t9.head()"
   ]
  },
  {
   "cell_type": "code",
   "execution_count": null,
   "metadata": {
    "collapsed": true
   },
   "outputs": [],
   "source": [
    "print(cols_dict['C10'])\n",
    "print(len(cols_dict['C10']))\n",
    "t10 = parse_files(file=baruna_files[9], ncol_before=6, ncol_after=9, col_names=cols_dict['C10'])\n",
    "print(t10['ZL'].value_counts())\n",
    "t10.head()"
   ]
  },
  {
   "cell_type": "code",
   "execution_count": null,
   "metadata": {
    "collapsed": true
   },
   "outputs": [],
   "source": [
    "print(cols_dict['C11'])\n",
    "print(len(cols_dict['C11']))\n",
    "t11 = parse_files(file=baruna_files[10], ncol_before=6, ncol_after=10, col_names=cols_dict['C11'])\n",
    "print(t11['ZL'].value_counts())\n",
    "t11.head()"
   ]
  },
  {
   "cell_type": "code",
   "execution_count": null,
   "metadata": {
    "collapsed": true
   },
   "outputs": [],
   "source": [
    "print(cols_dict['C12'])\n",
    "print(len(cols_dict['C12']))\n",
    "t12 = parse_files(file=baruna_files[11], ncol_before=6, ncol_after=9, col_names=cols_dict['C12'])\n",
    "print(t12['ZL'].value_counts())\n",
    "t11.head()"
   ]
  },
  {
   "cell_type": "code",
   "execution_count": null,
   "metadata": {
    "collapsed": true
   },
   "outputs": [],
   "source": [
    "print(cols_dict['C12_e'])\n",
    "print(len(cols_dict['C12_e']))\n",
    "t12_e = parse_files(file=baruna_files[12], ncol_before=6, ncol_after=9, col_names=cols_dict['C12_e'])\n",
    "print(t12_e['ZL'].value_counts())\n",
    "t11.head()"
   ]
  },
  {
   "cell_type": "code",
   "execution_count": null,
   "metadata": {
    "collapsed": true
   },
   "outputs": [],
   "source": [
    "print(cols_dict['C13'])\n",
    "print(len(cols_dict['C13']))\n",
    "t13 = parse_files(file=baruna_files[13], ncol_before=6, ncol_after=7, col_names=cols_dict['C13'])\n",
    "print(t13['ZL'].value_counts())\n",
    "t13.head()"
   ]
  },
  {
   "cell_type": "code",
   "execution_count": null,
   "metadata": {
    "collapsed": true
   },
   "outputs": [],
   "source": [
    "print(cols_dict['C14'])\n",
    "print(len(cols_dict['C14']))\n",
    "t14 = parse_files(file=baruna_files[14], ncol_before=6, ncol_after=10, col_names=cols_dict['C14'])\n",
    "print(t14['ZL'].value_counts())\n",
    "t14.head()"
   ]
  },
  {
   "cell_type": "code",
   "execution_count": null,
   "metadata": {
    "collapsed": true
   },
   "outputs": [],
   "source": [
    "print(cols_dict['C15'])\n",
    "print(len(cols_dict['C15']))\n",
    "t15 = parse_files(file=baruna_files[15], ncol_before=6, ncol_after=9, col_names=cols_dict['C15'])\n",
    "print(t15['ZL'].value_counts())\n",
    "t15.head()"
   ]
  },
  {
   "cell_type": "code",
   "execution_count": 9,
   "metadata": {},
   "outputs": [],
   "source": [
    "    cols_dict = {'C01': ['ZL', 'UZ', 'UN/WA', 'MZ/MH', 'Vill', 'RMO',\n",
    "                         'Administrative Unit Residence Community', 'Area in Acres',\n",
    "                         'Total Households', 'Population-Total', 'Population-In Households'],\n",
    "                 'C02': ['ZL', 'UZ', 'UN/WA', 'MZ/MH', 'Vill', 'RMO',\n",
    "                         'Administrative Unit Residence Community',\n",
    "                         'Households-Total', 'Households-General', 'Households-Institutional',\n",
    "                         'Households-Others', 'Population-Both', 'Population-Male', 'Population-Female', 'Sex Ratio'],\n",
    "                 'C03': ['ZL', 'UZ', 'UN/WA', 'MZ/MH', 'Vill', 'RMO',\n",
    "                         'Administrative Unit Residence Community',\n",
    "                         'General Households', 'Percentage of Households comprising-1 person',\n",
    "                         'Percentage of Households comprising-2 persons',\n",
    "                         'Percentage of Households comprising-3 persons',\n",
    "                         'Percentage of Households comprising-4 persons',\n",
    "                         'Percentage of Households comprising-5 persons',\n",
    "                         'Percentage of Households comprising-6 persons',\n",
    "                         'Percentage of Households comprising-7 persons',\n",
    "                         'Percentage of Households comprising-8+ persons', 'Average size of Household'],\n",
    "                 'C04': ['ZL', 'UZ', 'UN/WA', 'MZ/MH', 'Vill', 'RMO',\n",
    "                         'Administrative Unit Residence Community', 'All ages',\n",
    "                         'Percentage of population in the age group 0-4',\n",
    "                         'Percentage of population in the age group 5-9',\n",
    "                         'Percentage of population in the age group 10-14',\n",
    "                         'Percentage of population in the age group 15-19',\n",
    "                         'Percentage of population in the age group 20-24',\n",
    "                         'Percentage of population in the age group 25-29',\n",
    "                         'Percentage of population in the age group 30-49',\n",
    "                         'Percentage of population in the age group 50-59',\n",
    "                         'Percentage of population in the age group 60-64',\n",
    "                         'Percentage of population in the age group 65+', ],\n",
    "                 'C05': ['ZL', 'UZ', 'UN/WA', 'MZ/MH', 'Vill', 'RMO',\n",
    "                         'Administrative Unit Residence Community',\n",
    "                         'Total Male', '% Male-Never married', '% Male-Married', '% Male-Widowed',\n",
    "                         '% Male-Divorced/Separated',\n",
    "                         'Total Female', '% Female-Never married', '% Female-Married', '% Female-Widowed',\n",
    "                         '% Female-Divorced/Separated'],\n",
    "                 'C06': ['ZL', 'UZ', 'UN/WA', 'MZ/MH', 'Vill', 'RMO',\n",
    "                         'Administrative Unit Residence Community',\n",
    "                         'Literate (can write a letter)-Both-Yes', 'Literate (can write a letter)-Both-No',\n",
    "                         'Literate (can write a letter)-Male-Yes', 'Literate (can write a letter)-Male-No',\n",
    "                         'Literate (can write a letter)-Female-Yes', 'Literate (can write a letter)-Female-No',\n",
    "                         'Literacy Rate (%)-Both', 'Literacy Rate (%)-Male', 'Literacy Rate (%)-Female', ],\n",
    "                 'C07': ['ZL', 'UZ', 'UN/WA', 'MZ/MH', 'Vill', 'RMO',\n",
    "                         'Administrative Unit Residence Community',\n",
    "                         'Population aged 3-5 years-Attending school-Male',\n",
    "                         'Population aged 3-5 years-Attending school-Female',\n",
    "                         'Population aged 3-5 years-Not attending school-Male',\n",
    "                         'Population aged 3-5 years-Not attending school-Female',\n",
    "                         'Population aged 6-10 years-Attending school-Male',\n",
    "                         'Population aged 6-10 years-Attending school-Female',\n",
    "                         'Population aged 6-10 years-Not attending school-Male',\n",
    "                         'Population aged 6-10 years-Not attending school-Female',\n",
    "                         'Population aged 11-14 years-Attending school-Male',\n",
    "                         'Population aged 11-14 years-Attending school-Female',\n",
    "                         'Population aged 11-14 years-Not attending school-Male',\n",
    "                         'Population aged 11-14 years-Not attending school-Female', ],\n",
    "                 'C08': ['ZL', 'UZ', 'UN/WA', 'MZ/MH', 'Vill', 'RMO',\n",
    "                         'Administrative Unit Residence Community',\n",
    "                         'Population aged 15-19 years-Attending school-Male',\n",
    "                         'Population aged 15-19 years-Attending school-Female',\n",
    "                         'Population aged 15-19 years-Not attending school-Male',\n",
    "                         'Population aged 15-19 years-Not attending school-Female',\n",
    "                         'Population aged 20-24 years-Attending school-Male',\n",
    "                         'Population aged 20-24 years-Attending school-Female',\n",
    "                         'Population aged 20-24 years-Not attending school-Male',\n",
    "                         'Population aged 20-24 years-Not attending school-Female',\n",
    "                         'Population aged 25-29 years-Attending school-Male',\n",
    "                         'Population aged 25-29 years-Attending school-Female',\n",
    "                         'Population aged 25-29 years-Not attending school-Male',\n",
    "                         'Population aged 25-29 years-Not attending school-Female', ],\n",
    "\n",
    "                 'C09': ['ZL', 'UZ', 'UN/WA', 'MZ/MH', 'Vill', 'RMO',\n",
    "                         'Administrative Unit Residence Community',\n",
    "                         'Total Population', 'Type of disability (%)-All', 'Type of disability (%)-Speech',\n",
    "                         'Type of disability (%)-Vision', 'Type of disability (%)-Hearing',\n",
    "                         'Type of disability (%)-Physical', 'Type of disability (%)-Mental',\n",
    "                         'Type of disability (%)-Autism', ],\n",
    "                 'C10': ['ZL', 'UZ', 'UN/WA', 'MZ/MH', 'Vill', 'RMO',\n",
    "                         'Administrative Unit Residence Community',\n",
    "                         'Population aged 7+ and not attending school-Both',\n",
    "                         'Population aged 7+ and not attending school-Male',\n",
    "                         'Population aged 7+ and not attending school-Female',\n",
    "                         'Employment Status-Employed-Male', 'Employment Status-Employed-Female',\n",
    "                         'Employment Status-Looking for work-Male', 'Employment Status-Looking for work-Female',\n",
    "                         'Employment Status-Household work-Male', 'Employment Status-Household work-Female',\n",
    "                         'Employment Status-Do not work-Male', 'Employment Status-Do not work-Female', ],\n",
    "                 'C11': ['ZL', 'UZ', 'UN/WA', 'MZ/MH', 'Vill', 'RMO',\n",
    "                         'Administrative Unit Residence Community',\n",
    "                         'Population aged 7+, not attending school and employed-Both',\n",
    "                         'Population aged 7+, not attending school and employed-Male',\n",
    "                         'Population aged 7+, not attending school and employed-Female',\n",
    "                         'Field of Activity-Agriculture-Male', 'Field of Activity-Agriculture-Female',\n",
    "                         'Field of Activity-Industry-Male', 'Field of Activity-Industry-Female',\n",
    "                         'Field of Activity-Service-Male', 'Field of Activity-Service-Female', ],\n",
    "                 'C12_e': ['ZL', 'UZ', 'UN/WA', 'MZ/MH', 'Vill', 'RMO',\n",
    "                           'Administrative Unit Residence Community',\n",
    "                           'Ethnic-Households', 'Ethnic-Population-Both', 'Ethnic-Population-Male',\n",
    "                           'Ethnic-Population-Female',\n",
    "                           'Ethnic Population in Main Groups-Rakhain', 'Ethnic Population in Main Groups-Chakma',\n",
    "                           'Ethnic Population in Main Groups-Marma', 'Ethnic Population in Main Groups-Others', ],\n",
    "                 'C12': ['ZL', 'UZ', 'UN/WA', 'MZ/MH', 'Vill', 'RMO',\n",
    "                         'Administrative Unit Residence Community',\n",
    "                         'Ethnic-Households', 'Ethnic-Population-Both', 'Ethnic-Population-Male',\n",
    "                         'Ethnic-Population-Female',\n",
    "                         'Ethnic Population in Main Groups-Malpahari', 'Ethnic Population in Main Groups-Chakma',\n",
    "                         'Ethnic Population in Main Groups-Dalu', 'Ethnic Population in Main Groups-Others', ],\n",
    "                 'C13': ['ZL', 'UZ', 'UN/WA', 'MZ/MH', 'Vill', 'RMO',\n",
    "                         'Administrative Unit Residence Community',\n",
    "                         'Total', 'Muslim', 'Hindu', 'Christian', 'Buddhist', 'Others'],\n",
    "                 'C14': ['ZL', 'UZ', 'UN/WA', 'MZ/MH', 'Vill', 'RMO',\n",
    "                         'Administrative Unit Residence Community',\n",
    "                         'Number of Households', 'Type of Structure (%)-Pucka', 'Type of Structure (%)-Semi-pucka',\n",
    "                         'Type of Structure (%)-Kutcha', 'Type of Structure (%)-Jhupri',\n",
    "                         'Toilet Facility (%)-Sanitary (water-sealed)',\n",
    "                         'Toilet Facility (%)-Sanitary (non water-sealed)',\n",
    "                         'Toilet Facility (%)-Non-sanitary', 'Toilet Facility (%)-None', ],\n",
    "                 'C15': ['ZL', 'UZ', 'UN/WA', 'MZ/MH', 'Vill', 'RMO',\n",
    "                         'Administrative Unit Residence Community',\n",
    "                         'Number of Households',\n",
    "                         'Source of Drinking Water (%)-Tap', 'Source of Drinking Water (%)-Tube-Well',\n",
    "                         'Source of Drinking Water (%)-Other',\n",
    "                         'Electricity Connection (%)',\n",
    "                         'Housing Tenancy (%)-Owned', 'Housing Tenancy (%)-Rented', 'Housing Tenancy (%)-Rent free'],\n",
    "                 }\n",
    "parse_parameters = {'C01': {'ncol_before': 6, 'ncol_after': 5},\n",
    "                        'C02': {'ncol_before': 6, 'ncol_after': 9},\n",
    "                        'C03': {'ncol_before': 6, 'ncol_after': 11},\n",
    "                        'C04': {'ncol_before': 6, 'ncol_after': 12},\n",
    "                        'C05': {'ncol_before': 6, 'ncol_after': 11},\n",
    "                        'C06': {'ncol_before': 6, 'ncol_after': 10},\n",
    "                        'C07': {'ncol_before': 6, 'ncol_after': 13},\n",
    "                        'C08': {'ncol_before': 6, 'ncol_after': 13},\n",
    "                        'C09': {'ncol_before': 6, 'ncol_after': 9},\n",
    "                        'C10': {'ncol_before': 6, 'ncol_after': 12},\n",
    "                        'C11': {'ncol_before': 6, 'ncol_after': 10},\n",
    "                        'C12': {'ncol_before':6, 'ncol_after':18},\n",
    "                        'C13': {'ncol_before': 6, 'ncol_after': 7},\n",
    "                        'C14': {'ncol_before': 6, 'ncol_after': 10},\n",
    "                        'C15': {'ncol_before': 6, 'ncol_after': 9},\n",
    "                           }"
   ]
  },
  {
   "cell_type": "code",
   "execution_count": 10,
   "metadata": {},
   "outputs": [
    {
     "name": "stdout",
     "output_type": "stream",
     "text": [
      "C01 11\n",
      "C02 15\n",
      "C03 17\n",
      "C04 18\n",
      "C05 17\n",
      "C06 16\n",
      "C07 19\n",
      "C08 19\n",
      "C09 15\n",
      "C10 18\n",
      "C11 16\n",
      "C12_e 15\n",
      "C12 15\n",
      "C13 13\n",
      "C14 16\n",
      "C15 15\n"
     ]
    }
   ],
   "source": [
    "for key,values in cols_dict.items():\n",
    "    print(key, len(values))"
   ]
  },
  {
   "cell_type": "code",
   "execution_count": 13,
   "metadata": {},
   "outputs": [
    {
     "name": "stdout",
     "output_type": "stream",
     "text": [
      "C01 11\n",
      "C02 15\n",
      "C03 17\n",
      "C04 18\n",
      "C05 17\n",
      "C06 16\n",
      "C07 19\n",
      "C08 19\n",
      "C09 15\n",
      "C10 15\n",
      "C11 16\n",
      "C12 24\n",
      "C13 13\n",
      "C14 16\n",
      "C15 15\n"
     ]
    }
   ],
   "source": [
    "for key,values in parse_parameters.items():\n",
    "    print(f\"{key} {parse_parameters[key]['ncol_after']+parse_parameters[key]['ncol_before']}\")"
   ]
  },
  {
   "cell_type": "code",
   "execution_count": null,
   "metadata": {},
   "outputs": [],
   "source": []
  }
 ],
 "metadata": {
  "kernelspec": {
   "display_name": "Python 3",
   "language": "python",
   "name": "python3"
  },
  "language_info": {
   "codemirror_mode": {
    "name": "ipython",
    "version": 3
   },
   "file_extension": ".py",
   "mimetype": "text/x-python",
   "name": "python",
   "nbconvert_exporter": "python",
   "pygments_lexer": "ipython3",
   "version": "3.7.1"
  }
 },
 "nbformat": 4,
 "nbformat_minor": 2
}
