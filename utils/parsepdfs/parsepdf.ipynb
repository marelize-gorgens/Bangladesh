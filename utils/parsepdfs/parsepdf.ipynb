{
 "cells": [
  {
   "cell_type": "markdown",
   "metadata": {},
   "source": [
    "# Processing Census 2011 Web Data"
   ]
  },
  {
   "cell_type": "markdown",
   "metadata": {},
   "source": [
    "## TO DO LIST\n",
    "- Check all names from the pdfs and dict_cols\n",
    "- Make a script that combines everything into a one script\n",
    "- "
   ]
  },
  {
   "cell_type": "code",
   "execution_count": 1,
   "metadata": {},
   "outputs": [
    {
     "data": {
      "text/plain": [
       "'/Users/edinhamzic/Symphony/wb_bangladesh/Bangladesh/fe/bbs'"
      ]
     },
     "execution_count": 1,
     "metadata": {},
     "output_type": "execute_result"
    }
   ],
   "source": [
    "import os\n",
    "import re\n",
    "import PyPDF2\n",
    "import pandas as pd\n",
    "from config import Config\n",
    "os.getcwd()"
   ]
  },
  {
   "cell_type": "code",
   "execution_count": 2,
   "metadata": {
    "collapsed": true
   },
   "outputs": [],
   "source": [
    "census2011 = '/Users/edinhamzic/Symphony/wb_bangladesh/Bangladesh/data/bbs/webtestapplication/userfiles/image/Census2011'\n"
   ]
  },
  {
   "cell_type": "code",
   "execution_count": 3,
   "metadata": {
    "collapsed": true
   },
   "outputs": [],
   "source": [
    "output = '/Users/edinhamzic/Symphony/wb_bangladesh/Bangladesh/output/bbs/'\n",
    "#Barguna = '../../data/bbs/webtestapplication/userfiles/image/Census2011/Barisal/Barguna/'\n",
    "#baruna_files = sorted(glob.glob(Barguna + '/*[0-9].pdf'))\n",
    "#baruna_files"
   ]
  },
  {
   "cell_type": "code",
   "execution_count": 6,
   "metadata": {
    "collapsed": true
   },
   "outputs": [],
   "source": [
    "def set_wd(path):\n",
    "    os.chdir(path)\n",
    "\n",
    "\n",
    "def check_float(string):\n",
    "    try:\n",
    "        float(string)\n",
    "        return True\n",
    "    except ValueError:\n",
    "        return False\n",
    "\n",
    "\n",
    "def get_pdf_files():\n",
    "    output = {'file': [], 'program': []}\n",
    "    for path, subdirs, files in os.walk('.'):\n",
    "        for name in files:\n",
    "            if bool(re.search(r'_C[0-9][0-9].pdf', name)):\n",
    "                output['file'].append(os.path.join(path, name))\n",
    "                output['program'].append(name[-7:-4])\n",
    "    return pd.DataFrame.from_dict(output)\n",
    "\n",
    "def parse_files(file, ncol_before, ncol_after, col_names):\n",
    "    df_file_obj = open(file, 'rb')\n",
    "    pdf_reader = PyPDF2.PdfFileReader(df_file_obj, strict=False)\n",
    "    num_pages = pdf_reader.getNumPages()\n",
    "    pages = ''\n",
    "    subset = {}\n",
    "    for page in range(num_pages):\n",
    "        page_obj = pdf_reader.getPage(page)\n",
    "        pages = pages + page_obj.extractText()\n",
    "    pages = pages.split(\"\\n\")\n",
    "    pages = [element.replace(\",\", \"\") for element in pages]\n",
    "    for key, element in enumerate(pages):\n",
    "        if element.isspace() or not element.strip():\n",
    "            pages[key] = float('nan')\n",
    "        if key > 6:\n",
    "            try:\n",
    "                digits_check = pages[key - 4:key + 5]\n",
    "                string_check = digits_check.pop(4)\n",
    "                digits_check = [int(digit) for digit in digits_check]\n",
    "                geoname_check = not string_check.isdigit()\n",
    "                values_check_int = all([str(digit).isdigit() for digit in digits_check])\n",
    "                geoname_values_check = geoname_check and values_check_int\n",
    "                patterns = ['Zila', 'Upazila', 'Ward', 'Union', '*']\n",
    "                pattern_check = any([pattern in element for pattern in patterns])\n",
    "                if geoname_values_check or pattern_check:\n",
    "                    subset[key] = pages[key - ncol_before:key + ncol_after]\n",
    "            except ValueError:\n",
    "                digits_check = pages[key - 4:key + 5]\n",
    "                string_check = digits_check.pop(4)\n",
    "                geoname_check = not check_float(string_check)\n",
    "                values_check_float = all([check_float(digit) for digit in digits_check])\n",
    "                geoname_values_check = geoname_check and values_check_float\n",
    "                patterns = ['Zila', 'Upazila', 'Ward', 'Union', '*']\n",
    "                pattern_check = any([pattern in element for pattern in patterns])\n",
    "                if geoname_values_check or pattern_check:\n",
    "                    subset[key] = pages[key - ncol_before:key + ncol_after]\n",
    "            else:\n",
    "                pass\n",
    "    subset = pd.DataFrame.from_dict(subset, orient='index', columns=col_names)\n",
    "    df_file_obj.close()\n",
    "    return subset\n",
    "\n",
    "def write_data(input_files, output_dir):\n",
    "    for subset in input_files['program'].unique():\n",
    "        tmp = input_files[input_files['program'] == subset]\n",
    "        out_list = []\n",
    "        for key, values in enumerate(tmp.values):\n",
    "            data = parse_files(values[0],\n",
    "                           ncol_before=Config.parse_parameters[values[1]]['ncol_before'],\n",
    "                           ncol_after=Config.parse_parameters[values[1]]['ncol_after'],\n",
    "                           col_names=Config.cols_dict[values[1]])\n",
    "            out_list.append(data)\n",
    "        program_df = pd.concat(out_list)\n",
    "        program_df.to_csv(os.path.join(output_dir,subset+\".csv\"), index=False, index_label=None)\n",
    "\n",
    "def main():\n",
    "    set_wd(path=census2011)\n",
    "    out = get_pdf_files()\n",
    "    write_data(input_files=out,output_dir=output)\n",
    "    return out"
   ]
  },
  {
   "cell_type": "code",
   "execution_count": null,
   "metadata": {
    "collapsed": true
   },
   "outputs": [],
   "source": [
    "main()"
   ]
  },
  {
   "cell_type": "code",
   "execution_count": null,
   "metadata": {
    "collapsed": true,
    "scrolled": true
   },
   "outputs": [],
   "source": [
    "t1 = parse_files(file=baruna_files[0], \n",
    "                     ncol_before=6, \n",
    "                     ncol_after=5, \n",
    "                     col_names = cols_dict['C01'])\n",
    "print(t1['ZL'].value_counts())\n",
    "t1.head()\n"
   ]
  },
  {
   "cell_type": "code",
   "execution_count": null,
   "metadata": {
    "collapsed": true
   },
   "outputs": [],
   "source": [
    "t2 = parse_files(file=baruna_files[1], ncol_before=6, ncol_after=9, col_names = cols_dict['C02'])\n",
    "print(t2['ZL'].value_counts())\n",
    "t2.head()"
   ]
  },
  {
   "cell_type": "code",
   "execution_count": null,
   "metadata": {
    "collapsed": true,
    "scrolled": true
   },
   "outputs": [],
   "source": [
    "t3 = parse_files(file=baruna_files[2], ncol_before=6, ncol_after=11, col_names = cols_dict['C03'])\n",
    "print(t3['ZL'].value_counts())\n",
    "t3.head()"
   ]
  },
  {
   "cell_type": "code",
   "execution_count": null,
   "metadata": {
    "collapsed": true
   },
   "outputs": [],
   "source": [
    "t4 = parse_files(file=baruna_files[3], ncol_before=6, ncol_after=12, col_names = cols_dict['C04'])\n",
    "print(t4['ZL'].value_counts())\n",
    "t4.head()"
   ]
  },
  {
   "cell_type": "code",
   "execution_count": null,
   "metadata": {
    "collapsed": true
   },
   "outputs": [],
   "source": [
    "t5 = parse_files(file=baruna_files[4], ncol_before=6, ncol_after=11, col_names = cols_dict['C05'])\n",
    "print(t5['ZL'].value_counts())\n",
    "t5.head()"
   ]
  },
  {
   "cell_type": "code",
   "execution_count": null,
   "metadata": {
    "collapsed": true
   },
   "outputs": [],
   "source": [
    "print(cols_dict['C06'])\n",
    "print(len(cols_dict['C06']))\n",
    "t6 = parse_files(file=baruna_files[5], ncol_before=6, ncol_after=10, col_names = cols_dict['C06'])\n",
    "print(t6['ZL'].value_counts())\n",
    "t6.head()"
   ]
  },
  {
   "cell_type": "code",
   "execution_count": null,
   "metadata": {
    "collapsed": true
   },
   "outputs": [],
   "source": [
    "print(cols_dict['C07'])\n",
    "print(len(cols_dict['C07']))\n",
    "t7 = parse_files(file=baruna_files[6], ncol_before=6, ncol_after=13, col_names = cols_dict['C07'])\n",
    "print(t7['ZL'].value_counts())\n",
    "t7.head()"
   ]
  },
  {
   "cell_type": "code",
   "execution_count": null,
   "metadata": {
    "collapsed": true
   },
   "outputs": [],
   "source": [
    "print(cols_dict['C08'])\n",
    "print(len(cols_dict['C08']))\n",
    "t8 = parse_files(file=baruna_files[7], ncol_before=6, ncol_after=13, col_names = cols_dict['C08'])\n",
    "print(t8['ZL'].value_counts())\n",
    "t8.head()"
   ]
  },
  {
   "cell_type": "code",
   "execution_count": null,
   "metadata": {
    "collapsed": true
   },
   "outputs": [],
   "source": [
    "print(cols_dict['C09'])\n",
    "print(len(cols_dict['C09']))\n",
    "t9 = parse_files(file=baruna_files[8], ncol_before=6, ncol_after=9, col_names = cols_dict['C09'])\n",
    "print(t9['ZL'].value_counts())\n",
    "t9.head()"
   ]
  },
  {
   "cell_type": "code",
   "execution_count": null,
   "metadata": {
    "collapsed": true
   },
   "outputs": [],
   "source": [
    "print(cols_dict['C10'])\n",
    "print(len(cols_dict['C10']))\n",
    "t10 = parse_files(file=baruna_files[9], ncol_before=6, ncol_after=9, col_names=cols_dict['C10'])\n",
    "print(t10['ZL'].value_counts())\n",
    "t10.head()"
   ]
  },
  {
   "cell_type": "code",
   "execution_count": null,
   "metadata": {
    "collapsed": true
   },
   "outputs": [],
   "source": [
    "print(cols_dict['C11'])\n",
    "print(len(cols_dict['C11']))\n",
    "t11 = parse_files(file=baruna_files[10], ncol_before=6, ncol_after=10, col_names=cols_dict['C11'])\n",
    "print(t11['ZL'].value_counts())\n",
    "t11.head()"
   ]
  },
  {
   "cell_type": "code",
   "execution_count": null,
   "metadata": {
    "collapsed": true
   },
   "outputs": [],
   "source": [
    "print(cols_dict['C12'])\n",
    "print(len(cols_dict['C12']))\n",
    "t12 = parse_files(file=baruna_files[11], ncol_before=6, ncol_after=9, col_names=cols_dict['C12'])\n",
    "print(t12['ZL'].value_counts())\n",
    "t11.head()"
   ]
  },
  {
   "cell_type": "code",
   "execution_count": null,
   "metadata": {
    "collapsed": true
   },
   "outputs": [],
   "source": [
    "print(cols_dict['C12_e'])\n",
    "print(len(cols_dict['C12_e']))\n",
    "t12_e = parse_files(file=baruna_files[12], ncol_before=6, ncol_after=9, col_names=cols_dict['C12_e'])\n",
    "print(t12_e['ZL'].value_counts())\n",
    "t11.head()"
   ]
  },
  {
   "cell_type": "code",
   "execution_count": null,
   "metadata": {
    "collapsed": true
   },
   "outputs": [],
   "source": [
    "print(cols_dict['C13'])\n",
    "print(len(cols_dict['C13']))\n",
    "t13 = parse_files(file=baruna_files[13], ncol_before=6, ncol_after=7, col_names=cols_dict['C13'])\n",
    "print(t13['ZL'].value_counts())\n",
    "t13.head()"
   ]
  },
  {
   "cell_type": "code",
   "execution_count": null,
   "metadata": {
    "collapsed": true
   },
   "outputs": [],
   "source": [
    "print(cols_dict['C14'])\n",
    "print(len(cols_dict['C14']))\n",
    "t14 = parse_files(file=baruna_files[14], ncol_before=6, ncol_after=10, col_names=cols_dict['C14'])\n",
    "print(t14['ZL'].value_counts())\n",
    "t14.head()"
   ]
  },
  {
   "cell_type": "code",
   "execution_count": null,
   "metadata": {
    "collapsed": true
   },
   "outputs": [],
   "source": [
    "print(cols_dict['C15'])\n",
    "print(len(cols_dict['C15']))\n",
    "t15 = parse_files(file=baruna_files[15], ncol_before=6, ncol_after=9, col_names=cols_dict['C15'])\n",
    "print(t15['ZL'].value_counts())\n",
    "t15.head()"
   ]
  },
  {
   "cell_type": "code",
   "execution_count": null,
   "metadata": {
    "collapsed": true
   },
   "outputs": [],
   "source": []
  }
 ],
 "metadata": {
  "kernelspec": {
   "display_name": "Python 3",
   "language": "python",
   "name": "python3"
  },
  "language_info": {
   "codemirror_mode": {
    "name": "ipython",
    "version": 3
   },
   "file_extension": ".py",
   "mimetype": "text/x-python",
   "name": "python",
   "nbconvert_exporter": "python",
   "pygments_lexer": "ipython3",
   "version": "3.6.7"
  }
 },
 "nbformat": 4,
 "nbformat_minor": 2
}
