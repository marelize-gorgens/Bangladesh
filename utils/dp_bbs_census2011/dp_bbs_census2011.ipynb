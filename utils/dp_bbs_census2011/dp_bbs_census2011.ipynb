{
 "cells": [
  {
   "cell_type": "code",
   "execution_count": 13,
   "metadata": {},
   "outputs": [
    {
     "data": {
      "text/plain": [
       "'/Users/edinhamzic/Symphony/wb_bangladesh/Bangladesh/utils/dp_bbs_census2011'"
      ]
     },
     "execution_count": 13,
     "metadata": {},
     "output_type": "execute_result"
    }
   ],
   "source": [
    "import os\n",
    "import re\n",
    "import numpy as np\n",
    "import pandas as pd\n",
    "os.getcwd()"
   ]
  },
  {
   "cell_type": "code",
   "execution_count": 32,
   "metadata": {},
   "outputs": [
    {
     "data": {
      "text/plain": [
       "Index(['0', '1', '2', '3', '4', '5', '6', '7', '8', '9', '10', '11', '12',\n",
       "       '13', '14'],\n",
       "      dtype='object')"
      ]
     },
     "execution_count": 32,
     "metadata": {},
     "output_type": "execute_result"
    }
   ],
   "source": [
    "DATA_PATH = '../../data/bbs/census2011_parsed/'\n",
    "OUT_PATH = '../../output/bbs/data/census2011/'\n",
    "t = pd.read_csv('Dinajpur_C12.pdf.csv')\n",
    "t.columns\n"
   ]
  },
  {
   "cell_type": "code",
   "execution_count": 6,
   "metadata": {},
   "outputs": [
    {
     "data": {
      "text/plain": [
       "['../../data/bbs/census2011_parsed/C10.csv',\n",
       " '../../data/bbs/census2011_parsed/C04.csv',\n",
       " '../../data/bbs/census2011_parsed/C05.csv',\n",
       " '../../data/bbs/census2011_parsed/C11.csv',\n",
       " '../../data/bbs/census2011_parsed/C07.csv',\n",
       " '../../data/bbs/census2011_parsed/C13.csv',\n",
       " '../../data/bbs/census2011_parsed/C06.csv',\n",
       " '../../data/bbs/census2011_parsed/C02.csv',\n",
       " '../../data/bbs/census2011_parsed/C03.csv',\n",
       " '../../data/bbs/census2011_parsed/C15.csv',\n",
       " '../../data/bbs/census2011_parsed/C01.csv',\n",
       " '../../data/bbs/census2011_parsed/C14.csv',\n",
       " '../../data/bbs/census2011_parsed/C08.csv',\n",
       " '../../data/bbs/census2011_parsed/C09.csv',\n",
       " '../../data/bbs/census2011_parsed/C12/Chittagong_C12.pdf.csv',\n",
       " '../../data/bbs/census2011_parsed/C12/Pirojpur_C12.pdf.csv',\n",
       " '../../data/bbs/census2011_parsed/C12/Feni_C12.pdf.csv',\n",
       " '../../data/bbs/census2011_parsed/C12/Kurigram_C12.pdf.csv',\n",
       " '../../data/bbs/census2011_parsed/C12/Chaudanga_C12.pdf.csv',\n",
       " '../../data/bbs/census2011_parsed/C12/Sherpur_C12.pdf.csv',\n",
       " '../../data/bbs/census2011_parsed/C12/Barguna_C12.pdf.csv',\n",
       " '../../data/bbs/census2011_parsed/C12/Gazipur_C12.pdf.csv',\n",
       " '../../data/bbs/census2011_parsed/C12/Mymensingh_C12.pdf.csv',\n",
       " '../../data/bbs/census2011_parsed/C12/Pabna_C12.pdf.csv',\n",
       " '../../data/bbs/census2011_parsed/C12/Lalmonirhat_C12.pdf.csv',\n",
       " '../../data/bbs/census2011_parsed/C12/Chandpur_C12.pdf.csv',\n",
       " '../../data/bbs/census2011_parsed/C12/Joypurhat_C12.pdf.csv',\n",
       " '../../data/bbs/census2011_parsed/C12/Bogra_C12.pdf.csv',\n",
       " '../../data/bbs/census2011_parsed/C12/Satkhira_C12.pdf.csv',\n",
       " '../../data/bbs/census2011_parsed/C12/Nilphamari_C12.pdf.csv',\n",
       " '../../data/bbs/census2011_parsed/C12/Habiganj_C12.pdf.csv',\n",
       " '../../data/bbs/census2011_parsed/C12/Narail_C12.pdf.csv',\n",
       " '../../data/bbs/census2011_parsed/C12/Manikganj_C12.pdf.csv',\n",
       " '../../data/bbs/census2011_parsed/C12/Gopalganj _C12.pdf.csv',\n",
       " '../../data/bbs/census2011_parsed/C12/Faridpur_C12.pdf.csv',\n",
       " '../../data/bbs/census2011_parsed/C12/Lakshmipur_C12.pdf.csv',\n",
       " '../../data/bbs/census2011_parsed/C12/Meherpur_C12.pdf.csv',\n",
       " '../../data/bbs/census2011_parsed/C12/Rangamati_C12.pdf.csv',\n",
       " '../../data/bbs/census2011_parsed/C12/Naogaon_C12.pdf.csv',\n",
       " '../../data/bbs/census2011_parsed/C12/Narsingdi_C12.pdf.csv',\n",
       " '../../data/bbs/census2011_parsed/C12/Jhalokati_C12.pdf.csv',\n",
       " '../../data/bbs/census2011_parsed/C12/Kushtia_C12.pdf.csv',\n",
       " '../../data/bbs/census2011_parsed/C12/Noakhali_C12.pdf.csv',\n",
       " '../../data/bbs/census2011_parsed/C12/Sylhet_C12.pdf.csv',\n",
       " '../../data/bbs/census2011_parsed/C12/Sirajganj_C12.pdf.csv',\n",
       " '../../data/bbs/census2011_parsed/C12/Dinajpur_C12.pdf.csv',\n",
       " '../../data/bbs/census2011_parsed/C12/Rajbari_C12.pdf.csv',\n",
       " '../../data/bbs/census2011_parsed/C12/Sunamganj_C12.pdf.csv',\n",
       " '../../data/bbs/census2011_parsed/C12/Kishoreganj_C12.pdf.csv',\n",
       " '../../data/bbs/census2011_parsed/C12/Gaibandha_C12.pdf.csv',\n",
       " '../../data/bbs/census2011_parsed/C12/Panchagarh_C12.pdf.csv',\n",
       " '../../data/bbs/census2011_parsed/C12/Dhaka_C12.pdf.csv',\n",
       " '../../data/bbs/census2011_parsed/C12/Jamalpur_C12.pdf.csv',\n",
       " \"../../data/bbs/census2011_parsed/C12/Cox's Bazar_C12.pdf.csv\",\n",
       " '../../data/bbs/census2011_parsed/C12/Brahmanbaria_C12.pdf.csv',\n",
       " '../../data/bbs/census2011_parsed/C12/Bandarban_C12.pdf.csv',\n",
       " '../../data/bbs/census2011_parsed/C12/Rajshahi_C12.pdf.csv',\n",
       " '../../data/bbs/census2011_parsed/C12/Patuakhali_C12.pdf.csv',\n",
       " '../../data/bbs/census2011_parsed/C12/Khulna_C12.pdf.csv',\n",
       " '../../data/bbs/census2011_parsed/C12/Bhola_C12.pdf.csv',\n",
       " '../../data/bbs/census2011_parsed/C12/Maulvibazar_C12.pdf.csv',\n",
       " '../../data/bbs/census2011_parsed/C12/Jessore_C12.pdf.csv',\n",
       " '../../data/bbs/census2011_parsed/C12/Madaripur_C12.pdf.csv',\n",
       " '../../data/bbs/census2011_parsed/C12/Comilla_C12.pdf.csv',\n",
       " '../../data/bbs/census2011_parsed/C12/Bagerhat_C12.pdf.csv',\n",
       " '../../data/bbs/census2011_parsed/C12/Natore_C12.pdf.csv',\n",
       " '../../data/bbs/census2011_parsed/C12/Chapai Nawabganj_C12.pdf.csv',\n",
       " '../../data/bbs/census2011_parsed/C12/Takurgaon_C12.pdf.csv',\n",
       " '../../data/bbs/census2011_parsed/C12/Barisal_C12.pdf.csv',\n",
       " '../../data/bbs/census2011_parsed/C12/Rangpur_C12.pdf.csv',\n",
       " '../../data/bbs/census2011_parsed/C12/Narayanganj_C12.pdf.csv',\n",
       " '../../data/bbs/census2011_parsed/C12/Magura_C12.pdf.csv',\n",
       " '../../data/bbs/census2011_parsed/C12/Tangail_C12.pdf.csv',\n",
       " '../../data/bbs/census2011_parsed/C12/Munshiganj_C12.pdf.csv',\n",
       " '../../data/bbs/census2011_parsed/C12/Netrakona_C12.pdf.csv',\n",
       " '../../data/bbs/census2011_parsed/C12/Khagrachhari_C12.pdf.csv',\n",
       " '../../data/bbs/census2011_parsed/C12/Shariatpur_C12.pdf.csv',\n",
       " '../../data/bbs/census2011_parsed/C12/Jhenaidah_C12.pdf.csv']"
      ]
     },
     "execution_count": 6,
     "metadata": {},
     "output_type": "execute_result"
    }
   ],
   "source": [
    "files_list = []\n",
    "for path, subdirs, files in os.walk(DATA_PATH):\n",
    "    for file in files:\n",
    "        if bool(re.search(pattern='.csv', string=file)):\n",
    "            files_list.append(os.path.join(path, file))\n",
    "files_list"
   ]
  },
  {
   "cell_type": "code",
   "execution_count": 21,
   "metadata": {},
   "outputs": [],
   "source": [
    "for file in files_list[0:1]:\n",
    "    data = pd.read_csv(file)\n",
    "    for var in ['ZL', 'UZ','UN/WA', 'MZ/MH', 'Vill', 'RMO']:\n",
    "        if var == 'MZ/MH':\n",
    "            data[var] = data[var].astype(str).str.replace('-9', 'XXX')\n",
    "            data[var] = data[var].str.pad(width=3, side='left', fillchar='0')\n",
    "        else:\n",
    "            data[var] = data[var].astype(str).str.replace('-9', 'XX')\n",
    "            data[var] = data[var].str.pad(width=2, side='left', fillchar='0')\n",
    "    check = ['XX', 'XX', 'XXX', 'XX', 'XX']\n",
    "    check_var = []\n",
    "    for key,values in enumerate(data.values):\n",
    "        geos = values[1:6]\n",
    "        geo_check = [i==j for i,j in zip(geos,check)]\n",
    "        geo_check = list(np.where(geo_check, 1, 0))\n",
    "        geo_check = [str(i) for i in geo_check]\n",
    "        geo_check = ''.join(geo_check)\n",
    "        check_var.append(geo_check)\n",
    "    data['check_var'] = check_var\n",
    "for subset in data['check_var'].unique():\n",
    "    if subset == '11111':\n",
    "        tmp = data[data['check_var'] == subset]\n",
    "        tmp.to_csv(os.path.join(OUT_PATH,'ZilaTotal_' + os.path.split(file.replace('.pdf','.csv'))[1]),index=False, index_label=False)\n",
    "    elif subset == '11110':\n",
    "        tmp = data[data['check_var'] == subset]\n",
    "        tmp_urban = tmp[tmp['RMO'] == '01']\n",
    "        tmp_urban.to_csv(os.path.join(OUT_PATH,'ZilaTotal_Urban_' + os.path.split(file.replace('.pdf','.csv'))[1]),index=False, index_label=False)\n",
    "        tmp_rural = tmp[tmp['RMO'] == '02']\n",
    "        tmp_rural.to_csv(os.path.join(OUT_PATH,'ZilaTotal_Rural_' + os.path.split(file.replace('.pdf','.csv'))[1]),index=False, index_label=False)\n",
    "        tmp_other = tmp[tmp['RMO'] == '03']\n",
    "        tmp_other.to_csv(os.path.join(OUT_PATH,'ZilaTotal_Other_' + os.path.split(file.replace('.pdf','.csv'))[1]),index=False, index_label=False)\n",
    "    elif subset == '01111':\n",
    "        tmp = data[data['check_var'] == subset]\n",
    "        tmp.to_csv(os.path.join(OUT_PATH,'UpazilaTotal_' + os.path.split(file.replace('.pdf','.csv'))[1]),index=False, index_label=False)\n",
    "    elif subset == '01110':\n",
    "        tmp = data[data['check_var'] == subset]\n",
    "        tmp_urban = tmp[tmp['RMO'] == '01']\n",
    "        tmp_urban.to_csv(os.path.join(OUT_PATH,'UpazilaTotal_Urban_' + os.path.split(file.replace('.pdf','.csv'))[1]),index=False, index_label=False)\n",
    "        tmp_rural = tmp[tmp['RMO'] == '02']\n",
    "        tmp_rural.to_csv(os.path.join(OUT_PATH,'UpazilaTotal_Rural_' + os.path.split(file.replace('.pdf','.csv'))[1]),index=False, index_label=False)\n",
    "        tmp_other = tmp[tmp['RMO'] == '03']\n",
    "        tmp_other.to_csv(os.path.join(OUT_PATH,'UpazilaTotal_Other_' + os.path.split(file.replace('.pdf','.csv'))[1]),index=False, index_label=False)\n",
    "    elif subset == '00111':\n",
    "        tmp = data[data['check_var'] == subset]\n",
    "        tmp.to_csv(os.path.join(OUT_PATH,'UnionWardsTotal_' + os.path.split(file.replace('.pdf','.csv'))[1]),index=False, index_label=False)\n",
    "    elif subset == '00110':\n",
    "        tmp = data[data['check_var'] == subset]\n",
    "        tmp_urban = tmp[tmp['RMO'] == '01']\n",
    "        tmp_urban.to_csv(os.path.join(OUT_PATH,'UnionWardsTotal_Urban_' + os.path.split(file.replace('.pdf','.csv'))[1]),index=False, index_label=False)\n",
    "        tmp_rural = tmp[tmp['RMO'] == '02']\n",
    "        tmp_rural.to_csv(os.path.join(OUT_PATH,'UnionWardsTotal_Rural_' + os.path.split(file.replace('.pdf','.csv'))[1]),index=False, index_label=False)\n",
    "        tmp_other = tmp[tmp['RMO'] == '03']\n",
    "        tmp_other.to_csv(os.path.join(OUT_PATH,'UnionWardsTotal_Other_' + os.path.split(file.replace('.pdf','.csv'))[1]),index=False, index_label=False)\n",
    "    elif subset == '00010':\n",
    "        tmp = data[data['check_var'] == subset]\n",
    "        tmp.to_csv(os.path.join(OUT_PATH,'MouzaMahallaTotal_' + os.path.split(file.replace('.pdf','.csv'))[1]),index=False, index_label=False)\n",
    "    elif subset == '00000':\n",
    "        tmp = data[data['check_var'] == subset]\n",
    "        tmp.to_csv(os.path.join(OUT_PATH,'VillageTotal_' + os.path.split(file.replace('.pdf','.csv'))[1]),index=False, index_label=False)    "
   ]
  },
  {
   "cell_type": "code",
   "execution_count": 29,
   "metadata": {},
   "outputs": [],
   "source": []
  },
  {
   "cell_type": "code",
   "execution_count": null,
   "metadata": {},
   "outputs": [],
   "source": []
  }
 ],
 "metadata": {
  "kernelspec": {
   "display_name": "Python 3",
   "language": "python",
   "name": "python3"
  },
  "language_info": {
   "codemirror_mode": {
    "name": "ipython",
    "version": 3
   },
   "file_extension": ".py",
   "mimetype": "text/x-python",
   "name": "python",
   "nbconvert_exporter": "python",
   "pygments_lexer": "ipython3",
   "version": "3.7.1"
  }
 },
 "nbformat": 4,
 "nbformat_minor": 2
}
