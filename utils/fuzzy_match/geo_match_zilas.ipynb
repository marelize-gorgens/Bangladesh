{
 "cells": [
  {
   "cell_type": "markdown",
   "metadata": {},
   "source": [
    "# fuzzy_match"
   ]
  },
  {
   "cell_type": "markdown",
   "metadata": {},
   "source": [
    "## TO DO LIST:\n",
    "- DONE: Import processed UNICEF data\n",
    "- DONE: Evaluate UNICEF geo variables - All districts, with CC and divisons and other stuff\n",
    "- Get raw geo xlsx file and process and export to output\n",
    "- Create function for matching zilas and exporting data"
   ]
  },
  {
   "cell_type": "markdown",
   "metadata": {},
   "source": [
    "```\n",
    "!pip install fuzzywuzzy\n",
    "!pip install python-Levenshtein\n",
    "```"
   ]
  },
  {
   "cell_type": "code",
   "execution_count": 100,
   "metadata": {},
   "outputs": [],
   "source": [
    "import os\n",
    "import re\n",
    "import pandas as pd\n",
    "from fuzzywuzzy import fuzz"
   ]
  },
  {
   "cell_type": "code",
   "execution_count": 101,
   "metadata": {},
   "outputs": [
    {
     "data": {
      "text/plain": [
       "'/Users/edinhamzic/Symphony/wb_bangladesh/Bangladesh/utils/fuzzy_match'"
      ]
     },
     "execution_count": 101,
     "metadata": {},
     "output_type": "execute_result"
    }
   ],
   "source": [
    "os.getcwd()"
   ]
  },
  {
   "cell_type": "markdown",
   "metadata": {},
   "source": [
    "## Create and clena geo reference"
   ]
  },
  {
   "cell_type": "code",
   "execution_count": 102,
   "metadata": {},
   "outputs": [],
   "source": [
    "GEO = '../../data/geo_files/bbs_geos/geo.xlsx'\n",
    "DATA = '../../output/unicef/data'\n",
    "OUT_DIR = '/Users/edinhamzic/Symphony/wb_bangladesh/Bangladesh/output/unicef/gdata/'"
   ]
  },
  {
   "cell_type": "code",
   "execution_count": 136,
   "metadata": {},
   "outputs": [],
   "source": [
    "def process_zilas_upazilas(path, out_path):\n",
    "    tmp = pd.read_excel(path, header=1)\n",
    "    tmp = tmp[['Division Code','Division name', 'District Code','District Name','Upazilla code','Upazilla']]\n",
    "    tmp.columns = ['DivisionCode','DivisionName', 'DistrictCode','DistrictName','UpazillaCode','UpazillaName']\n",
    "    tmp['DistrictName'] = tmp['DistrictName'].str.replace(' Zila', '')\n",
    "    tmp['UpazillaName'] = tmp['UpazillaName'].str.replace(' Upazila', '')\n",
    "    tmp = tmp.drop_duplicates()\n",
    "    tmp.to_csv(out_path+'/georef_zila_upazila.csv', index=False, index_label=False)\n",
    "    return tmp, list(tmp.columns)\n",
    "\n",
    "\n",
    "def import_data(dir_path):\n",
    "    data_dict = {}\n",
    "    for path, subdir, files in os.walk(dir_path):\n",
    "        for file in files:\n",
    "            if bool(re.search(\"^data_\", file)):\n",
    "                try:\n",
    "                    data_dict[file] = pd.read_csv(os.path.join(path,file))\n",
    "                except UnicodeDecodeError:\n",
    "                    data_dict[file] = pd.read_csv(os.path.join(path,file), encoding='latin-1')\n",
    "    return data_dict\n",
    "\n",
    "def get_input_geos(path):\n",
    "    tmp = pd.read_csv(path)\n",
    "    return tmp\n",
    "\n",
    "def match_districts(ref_df, ref_match, input_df):\n",
    "    out = pd.DataFrame()\n",
    "    idvar = [var for var in input_df.columns if bool(re.search(r\"Survey|Unit\",var))]\n",
    "    print(idvar)\n",
    "    for key, code in enumerate(input_df[idvar[0]]):\n",
    "        code_match = {}\n",
    "        code_match['FuzzRatio'] = [fuzz.ratio(ref_code, code)  for ref_code in ref_df[ref_match]]\n",
    "        code_match['Geo'] = code\n",
    "        code_match['DivisionCode'] = [value[0] for value in ref_df.values]\n",
    "        code_match['DivisionName'] = [value[1]  for value in ref_df.values]\n",
    "        code_match['DistrictCode'] = [value[2]  for value in ref_df.values]\n",
    "        code_match['DistrictName'] = [value[3]  for value in ref_df.values]\n",
    "        code_match = pd.DataFrame.from_dict(code_match)\n",
    "        out = out.append(code_match.sort_values('FuzzRatio', ascending=False).iloc[0,:])\n",
    "    for var in list(out.columns):\n",
    "        if out[var].dtype.kind == 'f':\n",
    "            out[var] = out[var].astype(int)\n",
    "            out[var] = out[var].astype(str)\n",
    "            code_length = max([len(char) for char in out[var]])\n",
    "            out[var] = out[var].str.pad(width=code_length, side='left', fillchar='0') \n",
    "    return out\n",
    "\n",
    "def merge_out(ref_df, ref_match, data_dict, out_path):\n",
    "    out_dict = {}\n",
    "    for key, value in data_dict.items():\n",
    "        print(\"#\"*80)\n",
    "        print(f\"key shape: {value.shape}\")\n",
    "        matched_df = match_districts(ref_df=ref_df, ref_match='DistrictName', input_df=value)\n",
    "        print(f\"matched_df shape: {matched_df.shape}\")\n",
    "        id_var = [var for var in value.columns if bool(re.search(r\"Survey|Unit\",var))]\n",
    "        print(id_var)\n",
    "        out_df = matched_df.merge(right=value, how='inner', left_on='Geo', right_on=id_var[0])\n",
    "        out_df.to_csv(os.path.join(out_path, 'g'+ key), index=False, index_label=False)\n",
    "        print(f\"out_df shape: {out_df.shape}\")\n",
    "        out_df['GeoCode'] = out_df['DivisionCode'].str.cat(out_df['DistrictCode'], sep='')\n",
    "        out_dict['g'+ key] = out_df\n",
    "    return out_dict"
   ]
  },
  {
   "cell_type": "code",
   "execution_count": 137,
   "metadata": {},
   "outputs": [
    {
     "name": "stdout",
     "output_type": "stream",
     "text": [
      "################################################################################\n",
      "key shape: (88, 46)\n",
      "['Survey.Units']\n",
      "matched_df shape: (88, 6)\n",
      "['Survey.Units']\n",
      "out_df shape: (88, 52)\n",
      "################################################################################\n",
      "key shape: (87, 44)\n",
      "['Survey.Units']\n",
      "matched_df shape: (87, 6)\n",
      "['Survey.Units']\n",
      "out_df shape: (87, 50)\n",
      "################################################################################\n",
      "key shape: (65, 134)\n",
      "['Unit']\n",
      "matched_df shape: (65, 6)\n",
      "['Unit']\n",
      "out_df shape: (65, 140)\n",
      "################################################################################\n",
      "key shape: (87, 44)\n",
      "['Survey.Units']\n",
      "matched_df shape: (87, 6)\n",
      "['Survey.Units']\n",
      "out_df shape: (87, 50)\n",
      "################################################################################\n",
      "key shape: (84, 38)\n",
      "['Survey.Units']\n",
      "matched_df shape: (84, 6)\n",
      "['Survey.Units']\n",
      "out_df shape: (84, 44)\n",
      "################################################################################\n",
      "key shape: (86, 45)\n",
      "['Survey.Units']\n",
      "matched_df shape: (86, 6)\n",
      "['Survey.Units']\n",
      "out_df shape: (98, 51)\n",
      "################################################################################\n",
      "key shape: (77, 30)\n",
      "['Survey.Units']\n",
      "matched_df shape: (77, 6)\n",
      "['Survey.Units']\n",
      "out_df shape: (77, 36)\n",
      "################################################################################\n",
      "key shape: (98, 44)\n",
      "['Survey.Units']\n",
      "matched_df shape: (98, 6)\n",
      "['Survey.Units']\n",
      "out_df shape: (98, 50)\n"
     ]
    }
   ],
   "source": [
    "data = import_data(dir_path=DATA)\n",
    "geo,geo_list = process_zilas_upazilas(path=GEO, out_path='/Users/edinhamzic/Symphony/wb_bangladesh/Bangladesh/output/geo_files/data/')\n",
    "geo_matched = merge_out(ref_df=geo, \n",
    "                ref_match='DistrictName',\n",
    "                data_dict=data,\n",
    "                out_path=OUT_DIR)"
   ]
  },
  {
   "cell_type": "code",
   "execution_count": null,
   "metadata": {},
   "outputs": [],
   "source": []
  }
 ],
 "metadata": {
  "kernelspec": {
   "display_name": "Python 3",
   "language": "python",
   "name": "python3"
  },
  "language_info": {
   "codemirror_mode": {
    "name": "ipython",
    "version": 3
   },
   "file_extension": ".py",
   "mimetype": "text/x-python",
   "name": "python",
   "nbconvert_exporter": "python",
   "pygments_lexer": "ipython3",
   "version": "3.7.1"
  }
 },
 "nbformat": 4,
 "nbformat_minor": 2
}
