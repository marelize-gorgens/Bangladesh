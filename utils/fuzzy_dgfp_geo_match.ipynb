{
 "cells": [
  {
   "cell_type": "markdown",
   "metadata": {},
   "source": [
    "# match_geos"
   ]
  },
  {
   "cell_type": "markdown",
   "metadata": {},
   "source": [
    "```\n",
    "!pip3 install python-Levenshtein\n",
    "```"
   ]
  },
  {
   "cell_type": "code",
   "execution_count": 33,
   "metadata": {
    "collapsed": true
   },
   "outputs": [],
   "source": [
    "import os\n",
    "import pandas as pd\n",
    "import numpy as np\n",
    "from fuzzywuzzy import fuzz"
   ]
  },
  {
   "cell_type": "code",
   "execution_count": 34,
   "metadata": {},
   "outputs": [
    {
     "name": "stdout",
     "output_type": "stream",
     "text": [
      "/Users/edinhamzic/Symphony/wb_bangladesh/Bangladesh/utils\n"
     ]
    }
   ],
   "source": [
    "print(os.getcwd())\n",
    "REF_DATA = '../data/geo_files/bbs_geos/geo.xlsx'\n",
    "INPUT_DATA = '../data/dgfp/dgfp_geo.csv'"
   ]
  },
  {
   "cell_type": "code",
   "execution_count": 35,
   "metadata": {
    "collapsed": true
   },
   "outputs": [],
   "source": [
    "def process_zilas_upazilas(path):\n",
    "    tmp = pd.read_excel(path, header=1)\n",
    "    tmp = tmp[['Division Code','Division name', 'District Code','District Name','Upazilla code','Upazilla']]\n",
    "    tmp.columns = ['DivisionCode','DivisionName', 'DistrictCode','DistrictName','UpazillaCode','UpazillaName']\n",
    "    tmp['DistrictName'] = tmp['DistrictName'].str.replace(' Zila', '')\n",
    "    tmp['UpazillaName'] = tmp['UpazillaName'].str.replace(' Upazila', '')\n",
    "    tmp = tmp.drop_duplicates()\n",
    "    return tmp, list(tmp.columns)\n",
    "\n",
    "def get_input_geos(path):\n",
    "    tmp = pd.read_csv(path)\n",
    "    display(tmp.head())\n",
    "    return tmp\n",
    "\n",
    "def partial_match(ref_df, ref_match, input_df, input_match):\n",
    "    out = pd.DataFrame()\n",
    "    for key, code in enumerate(input_df[input_match]):\n",
    "        code_match = {}\n",
    "        code_match['FuzzRatio'] = [fuzz.ratio(ref_code, code)  for ref_code in ref_df[ref_match]]\n",
    "        code_match['FuzzRatioDivision'] = [fuzz.ratio(ref_df.iloc[k,1], input_data.iloc[key,5])  for k,ref_code in enumerate(ref_df[ref_match])]\n",
    "        code_match['InputDivision'] = input_data.iloc[key,5]\n",
    "        code_match['Geo'] = code\n",
    "        code_match['DivisionCode'] = [value[0] for value in ref_df.values]\n",
    "        code_match['DivisionName'] = [value[1]  for value in ref_df.values]\n",
    "        code_match['DistrictCode'] = [value[2]  for value in ref_df.values]\n",
    "        code_match['DistrictName'] = [value[3]  for value in ref_df.values]\n",
    "        code_match['UpazillaCode'] = [value[4]  for value in ref_df.values]\n",
    "        code_match['UpazillaName'] = [value[5]  for value in ref_df.values]\n",
    "        code_match = pd.DataFrame.from_dict(code_match)\n",
    "        code_match['MeanFuzzRation'] = np.round((code_match['FuzzRatio'] + code_match['FuzzRatioDivision'])/2,2)\n",
    "        out = out.append(code_match.sort_values('MeanFuzzRation', ascending=False).iloc[0,:])\n",
    "    return out\n",
    "   "
   ]
  },
  {
   "cell_type": "markdown",
   "metadata": {},
   "source": [
    "# test"
   ]
  },
  {
   "cell_type": "code",
   "execution_count": 36,
   "metadata": {},
   "outputs": [
    {
     "data": {
      "text/html": [
       "<div>\n",
       "<style scoped>\n",
       "    .dataframe tbody tr th:only-of-type {\n",
       "        vertical-align: middle;\n",
       "    }\n",
       "\n",
       "    .dataframe tbody tr th {\n",
       "        vertical-align: top;\n",
       "    }\n",
       "\n",
       "    .dataframe thead th {\n",
       "        text-align: right;\n",
       "    }\n",
       "</style>\n",
       "<table border=\"1\" class=\"dataframe\">\n",
       "  <thead>\n",
       "    <tr style=\"text-align: right;\">\n",
       "      <th></th>\n",
       "      <th>Unnamed: 0</th>\n",
       "      <th>thana</th>\n",
       "      <th>District</th>\n",
       "      <th>Division</th>\n",
       "      <th>program</th>\n",
       "    </tr>\n",
       "  </thead>\n",
       "  <tbody>\n",
       "    <tr>\n",
       "      <th>0</th>\n",
       "      <td>0</td>\n",
       "      <td>Boda</td>\n",
       "      <td>103</td>\n",
       "      <td>07</td>\n",
       "      <td>thana_process</td>\n",
       "    </tr>\n",
       "    <tr>\n",
       "      <th>1</th>\n",
       "      <td>1</td>\n",
       "      <td>Panchgarh</td>\n",
       "      <td>103</td>\n",
       "      <td>07</td>\n",
       "      <td>thana_process</td>\n",
       "    </tr>\n",
       "    <tr>\n",
       "      <th>2</th>\n",
       "      <td>2</td>\n",
       "      <td>Tetulia</td>\n",
       "      <td>103</td>\n",
       "      <td>07</td>\n",
       "      <td>thana_process</td>\n",
       "    </tr>\n",
       "    <tr>\n",
       "      <th>3</th>\n",
       "      <td>3</td>\n",
       "      <td>Atowari</td>\n",
       "      <td>103</td>\n",
       "      <td>07</td>\n",
       "      <td>thana_process</td>\n",
       "    </tr>\n",
       "    <tr>\n",
       "      <th>4</th>\n",
       "      <td>4</td>\n",
       "      <td>Debiganj</td>\n",
       "      <td>103</td>\n",
       "      <td>07</td>\n",
       "      <td>thana_process</td>\n",
       "    </tr>\n",
       "  </tbody>\n",
       "</table>\n",
       "</div>"
      ],
      "text/plain": [
       "   Unnamed: 0      thana  District Division        program\n",
       "0           0       Boda       103       07  thana_process\n",
       "1           1  Panchgarh       103       07  thana_process\n",
       "2           2    Tetulia       103       07  thana_process\n",
       "3           3    Atowari       103       07  thana_process\n",
       "4           4   Debiganj       103       07  thana_process"
      ]
     },
     "metadata": {},
     "output_type": "display_data"
    },
    {
     "data": {
      "text/html": [
       "<div>\n",
       "<style scoped>\n",
       "    .dataframe tbody tr th:only-of-type {\n",
       "        vertical-align: middle;\n",
       "    }\n",
       "\n",
       "    .dataframe tbody tr th {\n",
       "        vertical-align: top;\n",
       "    }\n",
       "\n",
       "    .dataframe thead th {\n",
       "        text-align: right;\n",
       "    }\n",
       "</style>\n",
       "<table border=\"1\" class=\"dataframe\">\n",
       "  <thead>\n",
       "    <tr style=\"text-align: right;\">\n",
       "      <th></th>\n",
       "      <th>Unnamed: 0</th>\n",
       "      <th>thana</th>\n",
       "      <th>District</th>\n",
       "      <th>Division</th>\n",
       "      <th>program</th>\n",
       "      <th>DivisionName</th>\n",
       "    </tr>\n",
       "  </thead>\n",
       "  <tbody>\n",
       "    <tr>\n",
       "      <th>0</th>\n",
       "      <td>0</td>\n",
       "      <td>Boda</td>\n",
       "      <td>103</td>\n",
       "      <td>07</td>\n",
       "      <td>thana_process</td>\n",
       "      <td>Rangpur</td>\n",
       "    </tr>\n",
       "    <tr>\n",
       "      <th>1</th>\n",
       "      <td>1</td>\n",
       "      <td>Panchgarh</td>\n",
       "      <td>103</td>\n",
       "      <td>07</td>\n",
       "      <td>thana_process</td>\n",
       "      <td>Rangpur</td>\n",
       "    </tr>\n",
       "    <tr>\n",
       "      <th>2</th>\n",
       "      <td>2</td>\n",
       "      <td>Tetulia</td>\n",
       "      <td>103</td>\n",
       "      <td>07</td>\n",
       "      <td>thana_process</td>\n",
       "      <td>Rangpur</td>\n",
       "    </tr>\n",
       "    <tr>\n",
       "      <th>3</th>\n",
       "      <td>3</td>\n",
       "      <td>Atowari</td>\n",
       "      <td>103</td>\n",
       "      <td>07</td>\n",
       "      <td>thana_process</td>\n",
       "      <td>Rangpur</td>\n",
       "    </tr>\n",
       "    <tr>\n",
       "      <th>4</th>\n",
       "      <td>4</td>\n",
       "      <td>Debiganj</td>\n",
       "      <td>103</td>\n",
       "      <td>07</td>\n",
       "      <td>thana_process</td>\n",
       "      <td>Rangpur</td>\n",
       "    </tr>\n",
       "  </tbody>\n",
       "</table>\n",
       "</div>"
      ],
      "text/plain": [
       "   Unnamed: 0      thana  District Division        program DivisionName\n",
       "0           0       Boda       103       07  thana_process      Rangpur\n",
       "1           1  Panchgarh       103       07  thana_process      Rangpur\n",
       "2           2    Tetulia       103       07  thana_process      Rangpur\n",
       "3           3    Atowari       103       07  thana_process      Rangpur\n",
       "4           4   Debiganj       103       07  thana_process      Rangpur"
      ]
     },
     "metadata": {},
     "output_type": "display_data"
    }
   ],
   "source": [
    "bbs_geos, geo_levels = process_zilas_upazilas(REF_DATA)\n",
    "input_data = get_input_geos(path=INPUT_DATA)\n",
    "old_new = {'01': 'Rajshahi',\n",
    "           '02': 'Khulna',\n",
    "           '03': 'Barisal',\n",
    "           '04': 'Dhaka',\n",
    "           '05': 'Chittagong',\n",
    "           '06': 'Sylhet',\n",
    "           '07':'Rangpur', \n",
    "           '08': 'Mymensingh',\n",
    "          }\n",
    "input_data['DivisionName'] = input_data['Division'].astype('category')\n",
    "input_data['DivisionName'] = input_data['DivisionName'].cat.rename_categories(old_new)\n",
    "display(input_data.head())"
   ]
  },
  {
   "cell_type": "code",
   "execution_count": 37,
   "metadata": {},
   "outputs": [
    {
     "data": {
      "text/html": [
       "<div>\n",
       "<style scoped>\n",
       "    .dataframe tbody tr th:only-of-type {\n",
       "        vertical-align: middle;\n",
       "    }\n",
       "\n",
       "    .dataframe tbody tr th {\n",
       "        vertical-align: top;\n",
       "    }\n",
       "\n",
       "    .dataframe thead th {\n",
       "        text-align: right;\n",
       "    }\n",
       "</style>\n",
       "<table border=\"1\" class=\"dataframe\">\n",
       "  <thead>\n",
       "    <tr style=\"text-align: right;\">\n",
       "      <th></th>\n",
       "      <th>DivisionCode</th>\n",
       "      <th>DivisionName</th>\n",
       "      <th>DistrictCode</th>\n",
       "      <th>DistrictName</th>\n",
       "      <th>UpazillaCode</th>\n",
       "      <th>UpazillaName</th>\n",
       "    </tr>\n",
       "  </thead>\n",
       "  <tbody>\n",
       "    <tr>\n",
       "      <th>0</th>\n",
       "      <td>40</td>\n",
       "      <td>Khulna</td>\n",
       "      <td>1</td>\n",
       "      <td>Bagerhat</td>\n",
       "      <td>8</td>\n",
       "      <td>Bagerhat Sadar</td>\n",
       "    </tr>\n",
       "    <tr>\n",
       "      <th>9</th>\n",
       "      <td>40</td>\n",
       "      <td>Khulna</td>\n",
       "      <td>1</td>\n",
       "      <td>Bagerhat</td>\n",
       "      <td>58</td>\n",
       "      <td>Mongla</td>\n",
       "    </tr>\n",
       "    <tr>\n",
       "      <th>17</th>\n",
       "      <td>40</td>\n",
       "      <td>Khulna</td>\n",
       "      <td>1</td>\n",
       "      <td>Bagerhat</td>\n",
       "      <td>60</td>\n",
       "      <td>Morrelganj</td>\n",
       "    </tr>\n",
       "    <tr>\n",
       "      <th>26</th>\n",
       "      <td>20</td>\n",
       "      <td>Chittagong</td>\n",
       "      <td>3</td>\n",
       "      <td>Bandarban</td>\n",
       "      <td>14</td>\n",
       "      <td>Bandarban Sadar</td>\n",
       "    </tr>\n",
       "    <tr>\n",
       "      <th>35</th>\n",
       "      <td>20</td>\n",
       "      <td>Chittagong</td>\n",
       "      <td>3</td>\n",
       "      <td>Bandarban</td>\n",
       "      <td>51</td>\n",
       "      <td>Lama</td>\n",
       "    </tr>\n",
       "  </tbody>\n",
       "</table>\n",
       "</div>"
      ],
      "text/plain": [
       "    DivisionCode DivisionName  DistrictCode DistrictName  UpazillaCode  \\\n",
       "0             40       Khulna             1    Bagerhat              8   \n",
       "9             40       Khulna             1    Bagerhat             58   \n",
       "17            40       Khulna             1    Bagerhat             60   \n",
       "26            20   Chittagong             3   Bandarban             14   \n",
       "35            20   Chittagong             3   Bandarban             51   \n",
       "\n",
       "        UpazillaName  \n",
       "0    Bagerhat Sadar   \n",
       "9            Mongla   \n",
       "17       Morrelganj   \n",
       "26  Bandarban Sadar   \n",
       "35             Lama   "
      ]
     },
     "execution_count": 37,
     "metadata": {},
     "output_type": "execute_result"
    }
   ],
   "source": [
    "bbs_geos.head()"
   ]
  },
  {
   "cell_type": "code",
   "execution_count": 38,
   "metadata": {
    "scrolled": false
   },
   "outputs": [],
   "source": [
    "test = partial_match(ref_df=bbs_geos, ref_match='UpazillaName', input_df=input_data, input_match='thana')"
   ]
  },
  {
   "cell_type": "code",
   "execution_count": 41,
   "metadata": {},
   "outputs": [],
   "source": [
    "test.to_csv(\"../output/geo_files/fuzz_geo_matched.csv\", index=False, index_label=False)"
   ]
  },
  {
   "cell_type": "code",
   "execution_count": null,
   "metadata": {
    "collapsed": true
   },
   "outputs": [],
   "source": []
  }
 ],
 "metadata": {
  "kernelspec": {
   "display_name": "Python 3",
   "language": "python",
   "name": "python3"
  },
  "language_info": {
   "codemirror_mode": {
    "name": "ipython",
    "version": 3
   },
   "file_extension": ".py",
   "mimetype": "text/x-python",
   "name": "python",
   "nbconvert_exporter": "python",
   "pygments_lexer": "ipython3",
   "version": "3.6.7"
  }
 },
 "nbformat": 4,
 "nbformat_minor": 2
}
