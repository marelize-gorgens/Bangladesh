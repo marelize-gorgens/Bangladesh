{
 "cells": [
  {
   "cell_type": "markdown",
   "metadata": {},
   "source": [
    "# dp_svrs_metadata"
   ]
  },
  {
   "cell_type": "markdown",
   "metadata": {},
   "source": [
    "```\n",
    "!pip install dbf\n",
    "!pip install rpy2\n",
    "!pip install dbfread\n",
    "!pip install simpledbf\n",
    "```"
   ]
  },
  {
   "cell_type": "code",
   "execution_count": 3,
   "metadata": {},
   "outputs": [],
   "source": [
    "import sys\n",
    "import os\n",
    "import re\n",
    "import time\n",
    "import logging\n",
    "import numpy as np\n",
    "import pandas as pd\n",
    "from dbfread import DBF\n",
    "from simpledbf import Dbf5\n",
    "from rpy2.robjects import pandas2ri\n",
    "from rpy2.robjects.packages import importr"
   ]
  },
  {
   "cell_type": "code",
   "execution_count": 4,
   "metadata": {},
   "outputs": [
    {
     "data": {
      "text/plain": [
       "0.0"
      ]
     },
     "execution_count": 4,
     "metadata": {},
     "output_type": "execute_result"
    }
   ],
   "source": [
    "np.log10(1)"
   ]
  },
  {
   "cell_type": "markdown",
   "metadata": {},
   "source": [
    "## TO DO LIST:\n",
    "- List all files within the directory with \".dbf\", \".dta\" or \".sav\" names\n",
    "- Take file name, folder above"
   ]
  },
  {
   "cell_type": "code",
   "execution_count": 5,
   "metadata": {},
   "outputs": [
    {
     "data": {
      "text/plain": [
       "'/Users/edinhamzic/Symphony/wb_bangladesh/Bangladesh/utils/dp_svrs_metadata'"
      ]
     },
     "execution_count": 5,
     "metadata": {},
     "output_type": "execute_result"
    }
   ],
   "source": [
    "DATA_DIR = '../../data/bbs/svrs/'\n",
    "OUT_DIR = '../../output/bbs/'\n",
    "os.getcwd()"
   ]
  },
  {
   "cell_type": "code",
   "execution_count": 6,
   "metadata": {},
   "outputs": [],
   "source": [
    "def sumarise_var(df,var):\n",
    "    return df[var].unique()\n",
    "    \n",
    "def read_dbf(file):\n",
    "    try:\n",
    "        df = Dbf5(file)\n",
    "        df = df.to_dataframe()\n",
    "    except error:\n",
    "        df = DBF(file)\n",
    "        df = pd.DataFrame(iter(df))\n",
    "    return df\n",
    "\n",
    "\n",
    "def read_sav(file):\n",
    "    foreign = importr('foreign')\n",
    "    pandas2ri.activate()\n",
    "    df = foreign.read_spss(file, reencode=False)\n",
    "    tmp_dict = dict()\n",
    "    for name in list(df.names):\n",
    "        tm = np.array(df.rx(str(name)))\n",
    "        tmp_dict[name] = tm.flatten()\n",
    "    df = pd.DataFrame.from_dict(tmp_dict)\n",
    "    return df\n",
    "\n",
    "\n",
    "def read_dta(file_path):\n",
    "    df = pd.read_stata(file_path)\n",
    "    return df\n",
    "\n",
    "\n",
    "def svrs_metadata(data_path, out_path):\n",
    "    output = {'variable': [], 'file_name': [], 'file_path': [], 'year': [], 'folder': []}\n",
    "    for path, subdirs, files in os.walk(data_path):\n",
    "        files_str = [file for file in files if\n",
    "                     bool(re.search(\".dbf\", file)) or\n",
    "                     bool(re.search(\".dta\", file)) or\n",
    "                     bool(re.search(\".sav\", file))]\n",
    "        for file in files_str:\n",
    "            y = \"20\" + os.path.split(path)[1][-2:]\n",
    "            if bool(re.search(r\".dbf|.DBF\", file)):\n",
    "                df = read_dbf(os.path.join(path,file))\n",
    "                print(\"#\"*20 + f\" Year: {y} DBF (dBASE) File: {file} \" + \"#\" * 20)\n",
    "            elif bool(re.search(r\".dta|.DTA\", file)):\n",
    "                df = read_dta(os.path.join(path,file))\n",
    "                print(\"#\"*20 + f\" Year: {y} DTA (STATA) File: {file} \" + \"#\" * 20)\n",
    "            elif bool(re.search(r\".sav|.SAV\", file)):\n",
    "                df = read_sav(os.path.join(path,file))\n",
    "                print(\"#\"*20 + f\" Year: {y} SAV (SPSS) File: {file} \" + \"#\" * 20)\n",
    "            else:\n",
    "                print(f\"Check the structure of file {file}!\")\n",
    "            output['variable'] = output['variable'] + list(df.columns)\n",
    "            output['file_name'] = output['file_name'] + [file]*df.shape[1]\n",
    "            output['file_path'] = output['file_path'] + [os.path.join(path,file)]*df.shape[1]\n",
    "            output['year'] = output['year'] + [\"20\" + os.path.split(path)[1][-2:]]*df.shape[1]\n",
    "            output['folder'] = output['folder'] + [\"20\" + os.path.split(path)[1]]*df.shape[1]\n",
    "    df = pd.DataFrame.from_dict(output)\n",
    "    return df"
   ]
  },
  {
   "cell_type": "markdown",
   "metadata": {},
   "source": [
    "```\n",
    "svrs_variables = svrs_metadata(data_path = DATA_DIR, out_path=OUT_DIR)\n",
    "print(svrs_variables.shape)\n",
    "print(svrs_variables.drop_duplicates().shape)\n",
    "svrs_variables.sort_values(by=['year','file_name', 'variable'])\n",
    "```"
   ]
  },
  {
   "cell_type": "code",
   "execution_count": 7,
   "metadata": {},
   "outputs": [
    {
     "data": {
      "text/html": [
       "<div>\n",
       "<style scoped>\n",
       "    .dataframe tbody tr th:only-of-type {\n",
       "        vertical-align: middle;\n",
       "    }\n",
       "\n",
       "    .dataframe tbody tr th {\n",
       "        vertical-align: top;\n",
       "    }\n",
       "\n",
       "    .dataframe thead th {\n",
       "        text-align: right;\n",
       "    }\n",
       "</style>\n",
       "<table border=\"1\" class=\"dataframe\">\n",
       "  <thead>\n",
       "    <tr style=\"text-align: right;\">\n",
       "      <th></th>\n",
       "      <th>variable</th>\n",
       "      <th>variable_definition</th>\n",
       "      <th>file_name</th>\n",
       "      <th>year</th>\n",
       "      <th>file_path</th>\n",
       "      <th>folder</th>\n",
       "    </tr>\n",
       "  </thead>\n",
       "  <tbody>\n",
       "    <tr>\n",
       "      <th>0</th>\n",
       "      <td>DIV</td>\n",
       "      <td></td>\n",
       "      <td>ABC.dbf</td>\n",
       "      <td>2002</td>\n",
       "      <td>/Users/edinhamzic/Symphony/wb_bangladesh/Bangl...</td>\n",
       "      <td>SVRS_02</td>\n",
       "    </tr>\n",
       "    <tr>\n",
       "      <th>1</th>\n",
       "      <td>DUP</td>\n",
       "      <td></td>\n",
       "      <td>ABC.dbf</td>\n",
       "      <td>2002</td>\n",
       "      <td>/Users/edinhamzic/Symphony/wb_bangladesh/Bangl...</td>\n",
       "      <td>SVRS_02</td>\n",
       "    </tr>\n",
       "    <tr>\n",
       "      <th>2</th>\n",
       "      <td>HH_NO</td>\n",
       "      <td></td>\n",
       "      <td>ABC.dbf</td>\n",
       "      <td>2002</td>\n",
       "      <td>/Users/edinhamzic/Symphony/wb_bangladesh/Bangl...</td>\n",
       "      <td>SVRS_02</td>\n",
       "    </tr>\n",
       "    <tr>\n",
       "      <th>3</th>\n",
       "      <td>MAUZA</td>\n",
       "      <td></td>\n",
       "      <td>ABC.dbf</td>\n",
       "      <td>2002</td>\n",
       "      <td>/Users/edinhamzic/Symphony/wb_bangladesh/Bangl...</td>\n",
       "      <td>SVRS_02</td>\n",
       "    </tr>\n",
       "    <tr>\n",
       "      <th>4</th>\n",
       "      <td>MOTH_LIN</td>\n",
       "      <td></td>\n",
       "      <td>ABC.dbf</td>\n",
       "      <td>2002</td>\n",
       "      <td>/Users/edinhamzic/Symphony/wb_bangladesh/Bangl...</td>\n",
       "      <td>SVRS_02</td>\n",
       "    </tr>\n",
       "  </tbody>\n",
       "</table>\n",
       "</div>"
      ],
      "text/plain": [
       "   variable variable_definition file_name  year  \\\n",
       "0       DIV                       ABC.dbf  2002   \n",
       "1       DUP                       ABC.dbf  2002   \n",
       "2     HH_NO                       ABC.dbf  2002   \n",
       "3     MAUZA                       ABC.dbf  2002   \n",
       "4  MOTH_LIN                       ABC.dbf  2002   \n",
       "\n",
       "                                           file_path   folder  \n",
       "0  /Users/edinhamzic/Symphony/wb_bangladesh/Bangl...  SVRS_02  \n",
       "1  /Users/edinhamzic/Symphony/wb_bangladesh/Bangl...  SVRS_02  \n",
       "2  /Users/edinhamzic/Symphony/wb_bangladesh/Bangl...  SVRS_02  \n",
       "3  /Users/edinhamzic/Symphony/wb_bangladesh/Bangl...  SVRS_02  \n",
       "4  /Users/edinhamzic/Symphony/wb_bangladesh/Bangl...  SVRS_02  "
      ]
     },
     "execution_count": 7,
     "metadata": {},
     "output_type": "execute_result"
    }
   ],
   "source": [
    "variables_assessment = pd.read_csv(\"../../output/bbs/svrs/dp_svrs_metadata.csv\")\n",
    "variables_assessment.head()"
   ]
  },
  {
   "cell_type": "code",
   "execution_count": 8,
   "metadata": {},
   "outputs": [],
   "source": [
    "def sum_variables(input_df):\n",
    "    logging.basicConfig(level = logging.INFO, filename = time.strftime(\"var_logs-%Y-%m-%d.log\"))\n",
    "    df = input_df.copy()\n",
    "    for var in df['variable'].unique():\n",
    "        nchar = len(f' Checking variables: {var} ')\n",
    "        logging.info('#' * 100)\n",
    "        logging.info('#'* int((50 - round(nchar/2,0)))  + f' Checking variables: {var} ' + '#'* int((50 - round(nchar/2,0))))\n",
    "        logging.info('#' * 100)\n",
    "        tmp = df[df['variable'] == var]\n",
    "        for file in tmp['file_path'].unique():\n",
    "            if bool(re.search(r\".dbf|.DBF\", file)):\n",
    "                tmp_df = read_dbf(os.path.join(file))\n",
    "            elif bool(re.search(r\".dta|.DTA\", file)):\n",
    "                tmp_df = read_dta(os.path.join(file))\n",
    "            elif bool(re.search(r\".sav|.SAV\", file)):\n",
    "                tmp_df = read_sav(os.path.join(file))\n",
    "            else:\n",
    "                print(f\"Check the structure of file {file}!\")\n",
    "            logging.info('#' * 50)\n",
    "            logging.info(f\"The file: {file}!\")\n",
    "            logging.info(f\"Summary:\")\n",
    "            logging.info(tmp_df[var].unique())\n",
    "            tmp_df[var] = tmp_df[var].astype(str)\n",
    "            logging.info(tmp_df[var].value_counts())"
   ]
  },
  {
   "cell_type": "code",
   "execution_count": 9,
   "metadata": {
    "scrolled": true
   },
   "outputs": [],
   "source": [
    "sum_variables(input_df=variables_assessment)"
   ]
  }
 ],
 "metadata": {
  "kernelspec": {
   "display_name": "Python 3",
   "language": "python",
   "name": "python3"
  },
  "language_info": {
   "codemirror_mode": {
    "name": "ipython",
    "version": 3
   },
   "file_extension": ".py",
   "mimetype": "text/x-python",
   "name": "python",
   "nbconvert_exporter": "python",
   "pygments_lexer": "ipython3",
   "version": "3.7.1"
  }
 },
 "nbformat": 4,
 "nbformat_minor": 2
}
